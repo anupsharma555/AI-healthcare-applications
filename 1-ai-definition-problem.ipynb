{
 "cells": [
  {
   "cell_type": "markdown",
   "metadata": {},
   "source": [
    "# Lesson 1 Exercise\n",
    "\n",
    "## Choosing a clinical problem and framing it as a machine learning task\n",
    "\n",
    "So far you have heard from a clinician about some of the opportunities in medical imaging for AI tools. You have seen some examples of medical imaging problems ripe for disruption, and you have been introduced to the concept of medical imaging modalities and the many clinical specialties that deal with medical imaging.\n",
    "\n",
    "We will dive deeper into many of these topics, including imaging formats and some machine learning algorithms for image processing, but for now we would like you to start thinking about clinical problems from AI engineer perspective.\n",
    "\n",
    "In this exercise we want you to practice how to choose a clinical problem to tackle, explore how to research some basic facts about the disease, and frame the clinical problem as a machine learning task. You will not be expected to write code in this exercise. Rather, you will write a project proposal as a free form document. Don't be daunted - you are the best judge of this proposal, so write one that you think you will be able to show to a fellow clinician.\n",
    "\n",
    "## Part 1: Choosing a clinical case\n",
    "\n",
    "Exciting clinical problems abound in the realm of Healthcare AI. To help you narrow down some potential ideas, we will use the American College of Radiology Data Science Institute (ACR DSI) curated list of use cases that is available by following [this link](https://www.acrdsi.org/DSI-Services/Define-AI). Alternatively, you may explore any clinical problem of your choosing without using the database if you already had something in mind. Please note that some use cases in the ACR DSI database can seem overwhelming or obscure without some background medical knowledge. If this is case, simply choose something that's more intuitive. A few good starting examples include: [Acute Appendicitis](https://www.acrdsi.org/DSI-Services/Define-AI/Use-Cases/Acute-Appendicitis), [Aging Brain - Dementia](https://www.acrdsi.org/DSI-Services/Define-AI/Use-Cases/Aging-Brain---Dementia), and [Incidental Pulmonary Nodules on CT](https://www.acrdsi.org/DSI-Services/Define-AI/Use-Cases/Incidental-Pulmonary-Nodules-on-CT).\n",
    "\n",
    "Your task for this first part is to choose a case. If you choose to use the ACR DSI database, include **the link that points to your use case**. If using any other resources, please include an **image capture of PDF of a medical or AI journal article** that explores this problem within the context of machine learning."
   ]
  },
  {
   "cell_type": "markdown",
   "metadata": {},
   "source": [
    "**Part 1 Task:**\n",
    "\n",
    "- **Selected Use Case:** Aging Brain – Dementia  \n",
    "- **ACR DSI Link:** [Aging Brain – Dementia](https://www.acr.org/Data-Science-and-Informatics/AI-in-Your-Practice/AI-Use-Cases/Use-Cases/Aging-Brain—Dementia)\n",
    "\n",
    "I chose “Aging Brain – Dementia” because it represents a common, high-impact clinical problem where imaging and biomarker data can guide early diagnosis and intervention. It is closely related to my field of study which is neuropsychiatry."
   ]
  },
  {
   "cell_type": "markdown",
   "metadata": {},
   "source": [
    "## Part 2: Background research\n",
    "\n",
    "To deliver an algorithm that performs well in a clinical setting, it can be extremely beneficial to have some rudimentary understanding of the disease or situation you are addressing. To do so, engaging in some background research to build your foundation will be crucial. For this part of the exercise, find a review article describing the problem. A good source of such articles is the PubMed database which is the initiative of the National Institutes of Health and contains over 30 million citations and full texts of biomedical articles and essays. PubMed database can be accessed here: https://pubmed.ncbi.nlm.nih.gov/\n",
    "\n",
    "Ask yourself, \"what is the current gold standard for confirming or ruling out the presence of this disease/state?\". Understanding the current gold standard/ground truth test will be a critical benchmark when testing any algorithm you develop. In your project proposal, include a **screen capture or a PDF of the article**.\n",
    "\n",
    "\n"
   ]
  },
  {
   "cell_type": "markdown",
   "metadata": {},
   "source": [
    "**Part 2 Task:** \n",
    "- To understand how dementia (particularly Alzheimer’s disease, the most common subtype) is currently confirmed or ruled out in clinical practice, I reviewed the following overview:\n",
    "\n",
    "Reference:\n",
    "Bomasang-Layno E, Bronsther R. Diagnosis and Treatment of Alzheimer’s Disease: An Update. Delaware J Public Health. 2021 Sep 27;7(4):74–85. doi:10.32481/djph.2021.09.009\n",
    "\n",
    "- Key points from this review:\n",
    "\n",
    "    1. Clinical Requirements:\n",
    "        - Probable Alzheimer’s disease is diagnosed when there is a progressive decline in memory and at least one other cognitive domain (e.g., executive function, language) that cannot be explained by other conditions. Neuropsychological testing (e.g., MMSE, CDR) confirms deficits in ≥ 2 domains.\n",
    "        - Possible Alzheimer’s is used when atypical features are present or when there is a mixed etiology.\n",
    "\n",
    "    2. Imaging and Biomarkers:\n",
    "        - MRI/CT: Exclude alternative causes (e.g., stroke, tumor). MRI often shows hippocampal and cortical atrophy in Alzheimer’s, but these changes lack specificity.\n",
    "        - PET (Amyloid/PET-FDG):** Amyloid PET is widely accepted as a reference standard for confirming amyloid pathology in vivo. FDG-PET reveals temporoparietal hypometabolism, supporting diagnosis.\n",
    "        - CSF Biomarkers: CSF Aβ42, total tau, and phosphorylated tau (p-tau) levels correlate with amyloid and tau pathology; abnormal levels strongly predict conversion from mild cognitive impairment (MCI) to Alzheimer’s.\n",
    "\n",
    "    3. Gold Standard:\n",
    "        - Definitive Diagnosis: Histopathologic confirmation via autopsy remains the only unequivocal “gold standard.” In living patients, amyloid PET (positive if cortical amyloid accumulates) or CSF Aβ/p-tau profiles are considered reference standards for underlying Alzheimer’s pathology."
   ]
  },
  {
   "cell_type": "markdown",
   "metadata": {},
   "source": [
    "## Part 3: Framing the problem as a machine learning task\n",
    "\n",
    "With some background knowledge of the disease or condition at hand, as well as how it is currently ruled in or out, consider how the task could be framed as a machine learning problem. We will be going over this in much more detail in further lessons of this course, but some early exposure will be useful. For example, solving the problem of autonomously detecting one or more lung nodules could be framed as an object detection task. Measuring changes in tumor volume over time may be best framed as a segmentation task, etc. Add a **short paragraph detailing how you would frame your clinical problem of choice as a machine learning task**, and explain your rationale."
   ]
  },
  {
   "cell_type": "markdown",
   "metadata": {},
   "source": [
    "**PART 3 TASK**\n",
    "\n",
    "- “We aim to train a binary classifier that inputs structural MRI-derived features (e.g., hippocampal volume, cortical thickness) plus basic demographics to predict amyloid PET positivity (amyloid + vs. amyloid –), using PET‐confirmed labels. This task leverages MRI’s widespread availability to approximate an expensive in vivo reference (amyloid PET), enabling early triaging of patients for confirmatory testing. In parallel, a regression model will estimate CSF Aβ42 levels from MRI and demographic data, providing a noninvasive proxy for biochemical biomarkers. Finally, a segmentation network (e.g., a U-Net) will delineate hippocampal subfields to accurately quantify atrophy, which serves as input to both classification and regression models. Collectively, these tasks target early detection, staging, and monitoring of Alzheimer’s-type dementia, reducing reliance on costly or invasive standard tests.”\n",
    "\n",
    "- Given the above clinical framework, one compelling ML problem is early detection and staging of Alzheimer’s disease using neuroimaging and/or biomarker data. Below is how I would frame it:\n",
    "\t1.\tInput Data Modalities:\n",
    "\t•\tStructural MRI scans (hippocampal volume, cortical thickness maps)\n",
    "\t•\tAmyloid PET scans (e.g., florbetapir, florbetaben)\n",
    "\t•\tCSF biomarker levels (Aβ42, total tau, p-tau)\n",
    "\t•\tDemographic/clinical features (age, sex, APOE genotype, MMSE score)\n",
    "\t2.\tLabels / Ground Truth:\n",
    "\t•\t“Definitive AD” vs. “Non-AD” as per amyloid PET or CSF positivity (binary classification).\n",
    "\t•\tClinical staging (e.g., cognitively normal, MCI-AD, mild/moderate AD, based on CDR scores and biomarker thresholds).\n",
    "\t3.\tProposed ML Tasks:\n",
    "\t•\tClassification:\n",
    "\t•\tTask A: Classify MRI + CSF/p-tau features into “amyloid-positive (AD pathology)” vs. “amyloid-negative (no AD pathology).”\n",
    "\t•\tRationale: Would automate the identification of patients who require confirmatory PET or early intervention.\n",
    "\t•\tRegression (staging):\n",
    "\t•\tTask B: Predict continuous biomarkers (e.g., CSF Aβ42 concentration, PET SUVR) from MRI-derived features, to infer pathology without invasive lumbar puncture or PET.\n",
    "\t•\tRationale: Allows triage—patients predicted to have low Aβ42 or high SUVR could be prioritized for full PET.\n",
    "\t•\tSegmentation:\n",
    "\t•\tTask C: Segment hippocampal and cortical subfields on MRI to derive volumetric measures.\n",
    "\t•\tRationale: Precise segmentation feeds into volumetric-based classification/regression, enabling early atrophy quantification."
   ]
  },
  {
   "cell_type": "markdown",
   "metadata": {},
   "source": []
  }
 ],
 "metadata": {
  "kernelspec": {
   "display_name": "anup_prompt_venv",
   "language": "python",
   "name": "python3"
  },
  "language_info": {
   "codemirror_mode": {
    "name": "ipython",
    "version": 3
   },
   "file_extension": ".py",
   "mimetype": "text/x-python",
   "name": "python",
   "nbconvert_exporter": "python",
   "pygments_lexer": "ipython3",
   "version": "3.12.7"
  }
 },
 "nbformat": 4,
 "nbformat_minor": 2
}
