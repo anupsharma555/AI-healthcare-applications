{
 "cells": [
  {
   "cell_type": "markdown",
   "metadata": {},
   "source": [
    "In this exercise, you'll be given labels for 60 mammograms that contain a suspicious mass. Anytime this occurs in a clinical setting, the patient is sent for a mass biopsy to determine if the mass is benign or cancerous. The radiologist can still make a judgment about whether to mass appears malignant or not based on how it appears in the image.\n",
    "\n",
    "Sometimes in algorithmic development settings, we are only able to obtain radiologist reports and we are not able to obtain biopsy reports for all studies. Since the true gold standard label is the biopsy result, it helps to get several opinions from different radiologists on the image appearance to make a more robust ground truth assessment in the absence of biopsy data.\n",
    "\n",
    "Here, you are provided with labels from three different radiologists who have the following levels of clinical experience:\n",
    "\n",
    "Rad1 = 5 years  \n",
    "Rad2 = 10 years  \n",
    "Rad3 = 15 years  \n",
    "In this exercise, create three 'ground truths', you can label benign as 1 and malignant as 0:  \n",
    "\n",
    "Ground Truth Method 1: Using biopsy labels (true gold standard)  \n",
    "Ground Truth Method 2: Using a voting system between the three radiologists  \n",
    "Ground Truth Method 3: Using a weighted voting system with experience levels between the three radiologists  \n",
    "Assess how 2 & 3 compare to 1: if the ground truths from 2 & 3 agree with 1.  "
   ]
  },
  {
   "cell_type": "code",
   "execution_count": 4,
   "metadata": {},
   "outputs": [],
   "source": [
    "# Import relevant libraries\n",
    "import numpy as np\n",
    "import pandas as pd"
   ]
  },
  {
   "cell_type": "markdown",
   "metadata": {},
   "source": [
    "Read in your label data:"
   ]
  },
  {
   "cell_type": "code",
   "execution_count": 5,
   "metadata": {},
   "outputs": [
    {
     "data": {
      "application/vnd.microsoft.datawrangler.viewer.v0+json": {
       "columns": [
        {
         "name": "index",
         "rawType": "int64",
         "type": "integer"
        },
        {
         "name": "rad1",
         "rawType": "object",
         "type": "string"
        },
        {
         "name": "rad2",
         "rawType": "object",
         "type": "string"
        },
        {
         "name": "rad3",
         "rawType": "object",
         "type": "string"
        },
        {
         "name": "biopsy",
         "rawType": "object",
         "type": "string"
        }
       ],
       "conversionMethod": "pd.DataFrame",
       "ref": "e4be3ac7-4cea-4f46-8d09-4cd5a7d88fcf",
       "rows": [
        [
         "0",
         "benign",
         "benign",
         "benign",
         "benign"
        ],
        [
         "1",
         "benign",
         "benign",
         "benign",
         "benign"
        ],
        [
         "2",
         "benign",
         "benign",
         "benign",
         "benign"
        ],
        [
         "3",
         "benign",
         "benign",
         "benign",
         "benign"
        ],
        [
         "4",
         "benign",
         "benign",
         "cancer",
         "benign"
        ],
        [
         "5",
         "cancer",
         "cancer",
         "cancer",
         "cancer"
        ],
        [
         "6",
         "benign",
         "benign",
         "benign",
         "benign"
        ],
        [
         "7",
         "benign",
         "benign",
         "benign",
         "benign"
        ],
        [
         "8",
         "cancer",
         "cancer",
         "benign",
         "cancer"
        ],
        [
         "9",
         "benign",
         "benign",
         "cancer",
         "benign"
        ]
       ],
       "shape": {
        "columns": 4,
        "rows": 10
       }
      },
      "text/html": [
       "<div>\n",
       "<style scoped>\n",
       "    .dataframe tbody tr th:only-of-type {\n",
       "        vertical-align: middle;\n",
       "    }\n",
       "\n",
       "    .dataframe tbody tr th {\n",
       "        vertical-align: top;\n",
       "    }\n",
       "\n",
       "    .dataframe thead th {\n",
       "        text-align: right;\n",
       "    }\n",
       "</style>\n",
       "<table border=\"1\" class=\"dataframe\">\n",
       "  <thead>\n",
       "    <tr style=\"text-align: right;\">\n",
       "      <th></th>\n",
       "      <th>rad1</th>\n",
       "      <th>rad2</th>\n",
       "      <th>rad3</th>\n",
       "      <th>biopsy</th>\n",
       "    </tr>\n",
       "  </thead>\n",
       "  <tbody>\n",
       "    <tr>\n",
       "      <th>0</th>\n",
       "      <td>benign</td>\n",
       "      <td>benign</td>\n",
       "      <td>benign</td>\n",
       "      <td>benign</td>\n",
       "    </tr>\n",
       "    <tr>\n",
       "      <th>1</th>\n",
       "      <td>benign</td>\n",
       "      <td>benign</td>\n",
       "      <td>benign</td>\n",
       "      <td>benign</td>\n",
       "    </tr>\n",
       "    <tr>\n",
       "      <th>2</th>\n",
       "      <td>benign</td>\n",
       "      <td>benign</td>\n",
       "      <td>benign</td>\n",
       "      <td>benign</td>\n",
       "    </tr>\n",
       "    <tr>\n",
       "      <th>3</th>\n",
       "      <td>benign</td>\n",
       "      <td>benign</td>\n",
       "      <td>benign</td>\n",
       "      <td>benign</td>\n",
       "    </tr>\n",
       "    <tr>\n",
       "      <th>4</th>\n",
       "      <td>benign</td>\n",
       "      <td>benign</td>\n",
       "      <td>cancer</td>\n",
       "      <td>benign</td>\n",
       "    </tr>\n",
       "    <tr>\n",
       "      <th>5</th>\n",
       "      <td>cancer</td>\n",
       "      <td>cancer</td>\n",
       "      <td>cancer</td>\n",
       "      <td>cancer</td>\n",
       "    </tr>\n",
       "    <tr>\n",
       "      <th>6</th>\n",
       "      <td>benign</td>\n",
       "      <td>benign</td>\n",
       "      <td>benign</td>\n",
       "      <td>benign</td>\n",
       "    </tr>\n",
       "    <tr>\n",
       "      <th>7</th>\n",
       "      <td>benign</td>\n",
       "      <td>benign</td>\n",
       "      <td>benign</td>\n",
       "      <td>benign</td>\n",
       "    </tr>\n",
       "    <tr>\n",
       "      <th>8</th>\n",
       "      <td>cancer</td>\n",
       "      <td>cancer</td>\n",
       "      <td>benign</td>\n",
       "      <td>cancer</td>\n",
       "    </tr>\n",
       "    <tr>\n",
       "      <th>9</th>\n",
       "      <td>benign</td>\n",
       "      <td>benign</td>\n",
       "      <td>cancer</td>\n",
       "      <td>benign</td>\n",
       "    </tr>\n",
       "  </tbody>\n",
       "</table>\n",
       "</div>"
      ],
      "text/plain": [
       "     rad1    rad2    rad3  biopsy\n",
       "0  benign  benign  benign  benign\n",
       "1  benign  benign  benign  benign\n",
       "2  benign  benign  benign  benign\n",
       "3  benign  benign  benign  benign\n",
       "4  benign  benign  cancer  benign\n",
       "5  cancer  cancer  cancer  cancer\n",
       "6  benign  benign  benign  benign\n",
       "7  benign  benign  benign  benign\n",
       "8  cancer  cancer  benign  cancer\n",
       "9  benign  benign  cancer  benign"
      ]
     },
     "execution_count": 5,
     "metadata": {},
     "output_type": "execute_result"
    }
   ],
   "source": [
    "# Read the CSV file of Mammogram biopsy findings into a DataFrame\n",
    "labels = pd.read_csv('labels.csv')\n",
    "labels.head(10)"
   ]
  },
  {
   "cell_type": "markdown",
   "metadata": {},
   "source": [
    "## Create your first ground truth as derived from biopsy labels: "
   ]
  },
  {
   "cell_type": "code",
   "execution_count": 6,
   "metadata": {},
   "outputs": [
    {
     "name": "stderr",
     "output_type": "stream",
     "text": [
      "/var/folders/sy/nnrjh0cx1897yr6m0_fq9wmc0000gq/T/ipykernel_36439/1828460665.py:3: FutureWarning: Downcasting behavior in `replace` is deprecated and will be removed in a future version. To retain the old behavior, explicitly call `result.infer_objects(copy=False)`. To opt-in to the future behavior, set `pd.set_option('future.no_silent_downcasting', True)`\n",
      "  labels2 = labels.replace('benign',1).replace('cancer',0)\n"
     ]
    },
    {
     "data": {
      "application/vnd.microsoft.datawrangler.viewer.v0+json": {
       "columns": [
        {
         "name": "index",
         "rawType": "int64",
         "type": "integer"
        },
        {
         "name": "rad1",
         "rawType": "int64",
         "type": "integer"
        },
        {
         "name": "rad2",
         "rawType": "int64",
         "type": "integer"
        },
        {
         "name": "rad3",
         "rawType": "int64",
         "type": "integer"
        },
        {
         "name": "biopsy",
         "rawType": "int64",
         "type": "integer"
        }
       ],
       "conversionMethod": "pd.DataFrame",
       "ref": "5df22a0e-8db9-4f9e-8caa-bce25d92da6b",
       "rows": [
        [
         "0",
         "1",
         "1",
         "1",
         "1"
        ],
        [
         "1",
         "1",
         "1",
         "1",
         "1"
        ],
        [
         "2",
         "1",
         "1",
         "1",
         "1"
        ],
        [
         "3",
         "1",
         "1",
         "1",
         "1"
        ],
        [
         "4",
         "1",
         "1",
         "0",
         "1"
        ],
        [
         "5",
         "0",
         "0",
         "0",
         "0"
        ],
        [
         "6",
         "1",
         "1",
         "1",
         "1"
        ],
        [
         "7",
         "1",
         "1",
         "1",
         "1"
        ],
        [
         "8",
         "0",
         "0",
         "1",
         "0"
        ],
        [
         "9",
         "1",
         "1",
         "0",
         "1"
        ]
       ],
       "shape": {
        "columns": 4,
        "rows": 10
       }
      },
      "text/html": [
       "<div>\n",
       "<style scoped>\n",
       "    .dataframe tbody tr th:only-of-type {\n",
       "        vertical-align: middle;\n",
       "    }\n",
       "\n",
       "    .dataframe tbody tr th {\n",
       "        vertical-align: top;\n",
       "    }\n",
       "\n",
       "    .dataframe thead th {\n",
       "        text-align: right;\n",
       "    }\n",
       "</style>\n",
       "<table border=\"1\" class=\"dataframe\">\n",
       "  <thead>\n",
       "    <tr style=\"text-align: right;\">\n",
       "      <th></th>\n",
       "      <th>rad1</th>\n",
       "      <th>rad2</th>\n",
       "      <th>rad3</th>\n",
       "      <th>biopsy</th>\n",
       "    </tr>\n",
       "  </thead>\n",
       "  <tbody>\n",
       "    <tr>\n",
       "      <th>0</th>\n",
       "      <td>1</td>\n",
       "      <td>1</td>\n",
       "      <td>1</td>\n",
       "      <td>1</td>\n",
       "    </tr>\n",
       "    <tr>\n",
       "      <th>1</th>\n",
       "      <td>1</td>\n",
       "      <td>1</td>\n",
       "      <td>1</td>\n",
       "      <td>1</td>\n",
       "    </tr>\n",
       "    <tr>\n",
       "      <th>2</th>\n",
       "      <td>1</td>\n",
       "      <td>1</td>\n",
       "      <td>1</td>\n",
       "      <td>1</td>\n",
       "    </tr>\n",
       "    <tr>\n",
       "      <th>3</th>\n",
       "      <td>1</td>\n",
       "      <td>1</td>\n",
       "      <td>1</td>\n",
       "      <td>1</td>\n",
       "    </tr>\n",
       "    <tr>\n",
       "      <th>4</th>\n",
       "      <td>1</td>\n",
       "      <td>1</td>\n",
       "      <td>0</td>\n",
       "      <td>1</td>\n",
       "    </tr>\n",
       "    <tr>\n",
       "      <th>5</th>\n",
       "      <td>0</td>\n",
       "      <td>0</td>\n",
       "      <td>0</td>\n",
       "      <td>0</td>\n",
       "    </tr>\n",
       "    <tr>\n",
       "      <th>6</th>\n",
       "      <td>1</td>\n",
       "      <td>1</td>\n",
       "      <td>1</td>\n",
       "      <td>1</td>\n",
       "    </tr>\n",
       "    <tr>\n",
       "      <th>7</th>\n",
       "      <td>1</td>\n",
       "      <td>1</td>\n",
       "      <td>1</td>\n",
       "      <td>1</td>\n",
       "    </tr>\n",
       "    <tr>\n",
       "      <th>8</th>\n",
       "      <td>0</td>\n",
       "      <td>0</td>\n",
       "      <td>1</td>\n",
       "      <td>0</td>\n",
       "    </tr>\n",
       "    <tr>\n",
       "      <th>9</th>\n",
       "      <td>1</td>\n",
       "      <td>1</td>\n",
       "      <td>0</td>\n",
       "      <td>1</td>\n",
       "    </tr>\n",
       "  </tbody>\n",
       "</table>\n",
       "</div>"
      ],
      "text/plain": [
       "   rad1  rad2  rad3  biopsy\n",
       "0     1     1     1       1\n",
       "1     1     1     1       1\n",
       "2     1     1     1       1\n",
       "3     1     1     1       1\n",
       "4     1     1     0       1\n",
       "5     0     0     0       0\n",
       "6     1     1     1       1\n",
       "7     1     1     1       1\n",
       "8     0     0     1       0\n",
       "9     1     1     0       1"
      ]
     },
     "execution_count": 6,
     "metadata": {},
     "output_type": "execute_result"
    }
   ],
   "source": [
    "## Binarization or encoding of the labels \n",
    "## I'm going to replace everything in my 'labels' dataframe with 0's and 1's for easier processing later:\n",
    "labels2 = labels.replace('benign',1).replace('cancer',0)\n",
    "labels2.head(10)"
   ]
  },
  {
   "cell_type": "code",
   "execution_count": 7,
   "metadata": {},
   "outputs": [
    {
     "data": {
      "text/plain": [
       "0    1\n",
       "1    1\n",
       "2    1\n",
       "3    1\n",
       "4    1\n",
       "Name: biopsy, dtype: int64"
      ]
     },
     "execution_count": 7,
     "metadata": {},
     "output_type": "execute_result"
    }
   ],
   "source": [
    "gt1 = labels2['biopsy']\n",
    "gt1.head()"
   ]
  },
  {
   "cell_type": "markdown",
   "metadata": {},
   "source": [
    "## Create your second truth by voting system from the three radiologists:"
   ]
  },
  {
   "cell_type": "code",
   "execution_count": 12,
   "metadata": {},
   "outputs": [
    {
     "data": {
      "text/plain": [
       "0    1\n",
       "1    1\n",
       "2    1\n",
       "3    1\n",
       "4    1\n",
       "dtype: int64"
      ]
     },
     "execution_count": 12,
     "metadata": {},
     "output_type": "execute_result"
    }
   ],
   "source": [
    "# Creating a ground truth using a simple voting system from three radiologists\n",
    "# This block uses pandas to sum the binary votes (benign=1, cancer=0) from three radiologists for each case.\n",
    "# The sum across 'rad1', 'rad2', and 'rad3' columns gives the total number of benign votes per case.\n",
    "# If the sum is greater than 1 (i.e., at least two radiologists voted benign), the case is labeled as benign (1), otherwise malignant (0).\n",
    "\n",
    "gt2 = labels2[['rad1','rad2','rad3']].sum(axis=1)\n",
    "gt2 = (gt2 > 1).astype(int)\n",
    "gt2.head()"
   ]
  },
  {
   "cell_type": "markdown",
   "metadata": {},
   "source": [
    "## Create your third ground truth by weighting the three radiologists:"
   ]
  },
  {
   "cell_type": "code",
   "execution_count": 14,
   "metadata": {
    "scrolled": true
   },
   "outputs": [
    {
     "data": {
      "application/vnd.microsoft.datawrangler.viewer.v0+json": {
       "columns": [
        {
         "name": "index",
         "rawType": "int64",
         "type": "integer"
        },
        {
         "name": "rad1",
         "rawType": "float64",
         "type": "float"
        },
        {
         "name": "rad2",
         "rawType": "float64",
         "type": "float"
        },
        {
         "name": "rad3",
         "rawType": "int64",
         "type": "integer"
        },
        {
         "name": "biopsy",
         "rawType": "int64",
         "type": "integer"
        }
       ],
       "conversionMethod": "pd.DataFrame",
       "ref": "c433fe6f-07d7-4870-b471-5b9404d6a16a",
       "rows": [
        [
         "0",
         "0.33",
         "0.67",
         "1",
         "1"
        ],
        [
         "1",
         "0.33",
         "0.67",
         "1",
         "1"
        ],
        [
         "2",
         "0.33",
         "0.67",
         "1",
         "1"
        ],
        [
         "3",
         "0.33",
         "0.67",
         "1",
         "1"
        ],
        [
         "4",
         "0.33",
         "0.67",
         "0",
         "1"
        ]
       ],
       "shape": {
        "columns": 4,
        "rows": 5
       }
      },
      "text/html": [
       "<div>\n",
       "<style scoped>\n",
       "    .dataframe tbody tr th:only-of-type {\n",
       "        vertical-align: middle;\n",
       "    }\n",
       "\n",
       "    .dataframe tbody tr th {\n",
       "        vertical-align: top;\n",
       "    }\n",
       "\n",
       "    .dataframe thead th {\n",
       "        text-align: right;\n",
       "    }\n",
       "</style>\n",
       "<table border=\"1\" class=\"dataframe\">\n",
       "  <thead>\n",
       "    <tr style=\"text-align: right;\">\n",
       "      <th></th>\n",
       "      <th>rad1</th>\n",
       "      <th>rad2</th>\n",
       "      <th>rad3</th>\n",
       "      <th>biopsy</th>\n",
       "    </tr>\n",
       "  </thead>\n",
       "  <tbody>\n",
       "    <tr>\n",
       "      <th>0</th>\n",
       "      <td>0.33</td>\n",
       "      <td>0.67</td>\n",
       "      <td>1</td>\n",
       "      <td>1</td>\n",
       "    </tr>\n",
       "    <tr>\n",
       "      <th>1</th>\n",
       "      <td>0.33</td>\n",
       "      <td>0.67</td>\n",
       "      <td>1</td>\n",
       "      <td>1</td>\n",
       "    </tr>\n",
       "    <tr>\n",
       "      <th>2</th>\n",
       "      <td>0.33</td>\n",
       "      <td>0.67</td>\n",
       "      <td>1</td>\n",
       "      <td>1</td>\n",
       "    </tr>\n",
       "    <tr>\n",
       "      <th>3</th>\n",
       "      <td>0.33</td>\n",
       "      <td>0.67</td>\n",
       "      <td>1</td>\n",
       "      <td>1</td>\n",
       "    </tr>\n",
       "    <tr>\n",
       "      <th>4</th>\n",
       "      <td>0.33</td>\n",
       "      <td>0.67</td>\n",
       "      <td>0</td>\n",
       "      <td>1</td>\n",
       "    </tr>\n",
       "  </tbody>\n",
       "</table>\n",
       "</div>"
      ],
      "text/plain": [
       "   rad1  rad2  rad3  biopsy\n",
       "0  0.33  0.67     1       1\n",
       "1  0.33  0.67     1       1\n",
       "2  0.33  0.67     1       1\n",
       "3  0.33  0.67     1       1\n",
       "4  0.33  0.67     0       1"
      ]
     },
     "execution_count": 14,
     "metadata": {},
     "output_type": "execute_result"
    }
   ],
   "source": [
    "# Using pandas to create a weighted voting system for radiologist labels\n",
    "\n",
    "# This block uses the pandas library to manipulate the DataFrame of radiologist votes.\n",
    "# We copy the binarized labels DataFrame (labels2) to avoid modifying the original data.\n",
    "# Then, we apply weights to each radiologist's vote based on their years of experience:\n",
    "# - rad1 (5 years): weight 0.33\n",
    "# - rad2 (10 years): weight 0.67\n",
    "# - rad3 (15 years): weight 1 (no change)\n",
    "# The multiplication is vectorized using pandas, so each value in the specified columns is scaled accordingly.\n",
    "# The resulting DataFrame (weighted_labels) contains the weighted votes for each radiologist.\n",
    "\n",
    "weighted_labels = labels2.copy()\n",
    "weighted_labels['rad2'] = weighted_labels['rad2'] * 0.67\n",
    "weighted_labels['rad1'] = weighted_labels['rad1'] * 0.33\n",
    "weighted_labels.head()"
   ]
  },
  {
   "cell_type": "code",
   "execution_count": 16,
   "metadata": {},
   "outputs": [
    {
     "data": {
      "text/plain": [
       "0    1\n",
       "1    1\n",
       "2    1\n",
       "3    1\n",
       "4    0\n",
       "dtype: int64"
      ]
     },
     "execution_count": 16,
     "metadata": {},
     "output_type": "execute_result"
    }
   ],
   "source": [
    "# Creating a weighted voting ground truth using pandas\n",
    "# \n",
    "# This block uses the pandas library to aggregate radiologist votes with different weights based on experience.\n",
    "# The weighted votes for each radiologist (already applied in 'weighted_labels') are summed across columns 'rad1', 'rad2', and 'rad3'.\n",
    "# The sum represents the total weighted \"benign\" score for each case.\n",
    "# If the sum is greater than 1, the case is labeled as benign (1), otherwise malignant (0).\n",
    "# The .replace() function is used to convert boolean values to integer labels for consistency.\n",
    "\n",
    "\n",
    "gt3 = weighted_labels[['rad1','rad2','rad3']].sum(axis=1)\n",
    "gt3 = (gt3 > 1).astype(int)\n",
    "gt3.head()"
   ]
  },
  {
   "cell_type": "markdown",
   "metadata": {},
   "source": [
    "## Compare the three ground truths:\n",
    "\n",
    "Here, just explore the three sets of labels you created and see how often they agree"
   ]
  },
  {
   "cell_type": "code",
   "execution_count": 19,
   "metadata": {},
   "outputs": [
    {
     "data": {
      "text/plain": [
       "12    False\n",
       "14    False\n",
       "22    False\n",
       "29    False\n",
       "30    False\n",
       "34    False\n",
       "37    False\n",
       "52    False\n",
       "57    False\n",
       "dtype: bool"
      ]
     },
     "execution_count": 19,
     "metadata": {},
     "output_type": "execute_result"
    }
   ],
   "source": [
    "# ## Comparing Biopsy Ground Truth to Voting System\n",
    "\n",
    "# This block uses the pandas library to compare two sets of ground truth labels:\n",
    "# - `gt1`: The gold standard biopsy labels.\n",
    "# - `gt2`: The labels generated by a simple majority voting system among three radiologists.\n",
    "\n",
    "# The comparison is performed using the equality operator (`==`), which returns a boolean Series (`biopsy_to_votes`) indicating where the two ground truths agree (True) or disagree (False) for each case.\n",
    "# The code then filters and displays only the cases where there is disagreement (`biopsy_to_votes == False`).\n",
    "\n",
    "biopsy_to_votes = gt1 == gt2\n",
    "biopsy_to_votes[biopsy_to_votes==False]\n",
    "\n"
   ]
  },
  {
   "cell_type": "code",
   "execution_count": 20,
   "metadata": {},
   "outputs": [
    {
     "data": {
      "text/plain": [
       "4     False\n",
       "9     False\n",
       "12    False\n",
       "14    False\n",
       "17    False\n",
       "20    False\n",
       "22    False\n",
       "29    False\n",
       "30    False\n",
       "34    False\n",
       "37    False\n",
       "52    False\n",
       "56    False\n",
       "57    False\n",
       "58    False\n",
       "dtype: bool"
      ]
     },
     "execution_count": 20,
     "metadata": {},
     "output_type": "execute_result"
    }
   ],
   "source": [
    "# ## Comparing Biopsy Ground Truth to Weighted Voting System\n",
    "#\n",
    "# This block uses the pandas library to compare two sets of ground truth labels:\n",
    "# - `gt1`: The gold standard biopsy labels.\n",
    "# - `gt3`: The labels generated by a weighted voting system among three radiologists.\n",
    "#\n",
    "# The comparison is performed using the equality operator (`==`), which returns a boolean Series (`biopsy_to_weights`) indicating where the two ground truths agree (True) or disagree (False) for each case.\n",
    "# The code then filters and displays only the cases where there is disagreement (`biopsy_to_weights == False`).\n",
    "\n",
    "\n",
    "biopsy_to_weights = gt1 == gt3\n",
    "biopsy_to_weights[biopsy_to_weights==False]"
   ]
  },
  {
   "cell_type": "markdown",
   "metadata": {},
   "source": [
    "Interestingly, in the example above the weighting example performs worse against biopsy labels than simple voting. This may be an artefact of the weightings that we chose, and is not always sub-optimal to simple voting. "
   ]
  },
  {
   "cell_type": "markdown",
   "metadata": {},
   "source": [
    "This script aims to evaluate different methods for establishing ground truth labels in mammogram studies where biopsy results (the gold standard) are available, but radiologist opinions are also collected. The workflow involves reading mammogram label data, encoding categorical labels into binary format (benign=1, cancer=0), and generating three sets of ground truth: (1) directly from biopsy results, (2) via a simple majority vote among three radiologists, and (3) using a weighted voting system based on each radiologist's years of experience. The script then compares the agreement between the radiologist-based ground truths and the biopsy-based ground truth, highlighting cases of disagreement. The output provides insight into how well radiologist consensus and experience-weighted votes align with biopsy-confirmed diagnoses, informing the reliability of alternative labeling strategies when biopsy data is limited."
   ]
  }
 ],
 "metadata": {
  "kernelspec": {
   "display_name": "anup_prompt_venv",
   "language": "python",
   "name": "python3"
  },
  "language_info": {
   "codemirror_mode": {
    "name": "ipython",
    "version": 3
   },
   "file_extension": ".py",
   "mimetype": "text/x-python",
   "name": "python",
   "nbconvert_exporter": "python",
   "pygments_lexer": "ipython3",
   "version": "3.12.7"
  }
 },
 "nbformat": 4,
 "nbformat_minor": 2
}
