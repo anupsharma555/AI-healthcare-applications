{
 "cells": [
  {
   "cell_type": "markdown",
   "metadata": {},
   "source": [
    "The output of the last layer of your CNN will output a probability that an image belongs to a given class. The last step in assessing the performance of your model is choosing the appropriate cut-off threshold for this probability value such that the model behaves in a way that is clinically optimal. Changing this threshold will change the true positive, false positive, false negative, and true negative rates, which we learned about in Lesson 1. This will, in turn, change the precision and recall of our model. Precision and recall are important concepts in clinical testing, and usually, one is optimized at the expense of another.\n",
    "\n",
    "In this exercise, you'll be given a dataframe with ground truth labels as well as probabilities output by an algorithm that you developed to classify images as having a malignant tumor or not. Your job is to generate a Precision-Recall curve as well as an optional ROC AUC curve with the data in this dataframe.\n",
    "\n",
    "Once you create these curves, choose two different thresholds: one that favors precision and one that favors recall. Use these thresholds to calculate two separate F1 scores. Then, also calculate the accuracy of your algorithm using these two different thresholds and think about why accuracy is or is not a good choice of performance statistic for your data.\n",
    "\n"
   ]
  },
  {
   "cell_type": "code",
   "execution_count": 18,
   "metadata": {},
   "outputs": [],
   "source": [
    "# Importing Required Libraries for Data Analysis and Model Evaluation\n",
    "# \n",
    "# This block imports essential libraries for data manipulation, visualization, and model evaluation:\n",
    "# - numpy: For numerical operations and array handling.\n",
    "# - pandas: For data processing and handling CSV files.\n",
    "# - matplotlib.pyplot: For plotting and visualizing data.\n",
    "# - sklearn.preprocessing.binarize: For thresholding array values.\n",
    "# - sklearn.metrics: For evaluating model performance, including:\n",
    "#   - roc_curve, auc: To compute and plot ROC curves and calculate the Area Under the Curve.\n",
    "#   - precision_recall_curve, average_precision_score: To compute and plot Precision-Recall curves and calculate average precision.\n",
    "#   - f1_score: To compute the F1 score, a balance between precision and recall.\n",
    "#   - confusion_matrix: To compute the confusion matrix (ex: TP, TN, FP, FN) for classification results.\n",
    "\n",
    "%matplotlib inline\n",
    "import numpy as np       # linear algebra\n",
    "import pandas as pd      # data processing, CSV file I/O (e.g. pd.read_csv)\n",
    "import matplotlib.pyplot as plt\n",
    "from sklearn.preprocessing import binarize\n",
    "\n",
    "from sklearn.metrics import roc_curve, auc, precision_recall_curve, average_precision_score, f1_score, confusion_matrix"
   ]
  },
  {
   "cell_type": "code",
   "execution_count": null,
   "metadata": {},
   "outputs": [],
   "source": [
    "# This block reads a CSV file named 'performances.csv' into a pandas DataFrame called 'performances'.\n",
    "# The CSV file is expected to contain two columns:\n",
    "#   - 'ground_truth': the actual class labels for each sample (e.g., 0 for negative, 1 for positive/malignant).\n",
    "#   - 'probability': the predicted probability output by your model for each sample (i.e., the model's confidence that the sample belongs to the positive class).\n",
    "# This DataFrame is then used for further analysis, such as plotting ROC/PR curves and calculating metrics.\n",
    "\n",
    "performances = pd.read_csv('performances.csv')"
   ]
  },
  {
   "cell_type": "code",
   "execution_count": 19,
   "metadata": {},
   "outputs": [
    {
     "data": {
      "application/vnd.microsoft.datawrangler.viewer.v0+json": {
       "columns": [
        {
         "name": "index",
         "rawType": "int64",
         "type": "integer"
        },
        {
         "name": "ground_truth",
         "rawType": "int64",
         "type": "integer"
        },
        {
         "name": "probability",
         "rawType": "float64",
         "type": "float"
        }
       ],
       "conversionMethod": "pd.DataFrame",
       "ref": "d01a7940-e40a-4afd-9df6-c60d85db3b80",
       "rows": [
        [
         "0",
         "1",
         "0.99"
        ],
        [
         "1",
         "1",
         "0.98"
        ],
        [
         "2",
         "1",
         "0.97"
        ],
        [
         "3",
         "1",
         "0.96"
        ],
        [
         "4",
         "1",
         "0.95"
        ]
       ],
       "shape": {
        "columns": 2,
        "rows": 5
       }
      },
      "text/html": [
       "<div>\n",
       "<style scoped>\n",
       "    .dataframe tbody tr th:only-of-type {\n",
       "        vertical-align: middle;\n",
       "    }\n",
       "\n",
       "    .dataframe tbody tr th {\n",
       "        vertical-align: top;\n",
       "    }\n",
       "\n",
       "    .dataframe thead th {\n",
       "        text-align: right;\n",
       "    }\n",
       "</style>\n",
       "<table border=\"1\" class=\"dataframe\">\n",
       "  <thead>\n",
       "    <tr style=\"text-align: right;\">\n",
       "      <th></th>\n",
       "      <th>ground_truth</th>\n",
       "      <th>probability</th>\n",
       "    </tr>\n",
       "  </thead>\n",
       "  <tbody>\n",
       "    <tr>\n",
       "      <th>0</th>\n",
       "      <td>1</td>\n",
       "      <td>0.99</td>\n",
       "    </tr>\n",
       "    <tr>\n",
       "      <th>1</th>\n",
       "      <td>1</td>\n",
       "      <td>0.98</td>\n",
       "    </tr>\n",
       "    <tr>\n",
       "      <th>2</th>\n",
       "      <td>1</td>\n",
       "      <td>0.97</td>\n",
       "    </tr>\n",
       "    <tr>\n",
       "      <th>3</th>\n",
       "      <td>1</td>\n",
       "      <td>0.96</td>\n",
       "    </tr>\n",
       "    <tr>\n",
       "      <th>4</th>\n",
       "      <td>1</td>\n",
       "      <td>0.95</td>\n",
       "    </tr>\n",
       "  </tbody>\n",
       "</table>\n",
       "</div>"
      ],
      "text/plain": [
       "   ground_truth  probability\n",
       "0             1         0.99\n",
       "1             1         0.98\n",
       "2             1         0.97\n",
       "3             1         0.96\n",
       "4             1         0.95"
      ]
     },
     "execution_count": 19,
     "metadata": {},
     "output_type": "execute_result"
    }
   ],
   "source": [
    "performances.head()"
   ]
  },
  {
   "cell_type": "markdown",
   "metadata": {},
   "source": [
    "### Exercise Solution"
   ]
  },
  {
   "cell_type": "code",
   "execution_count": null,
   "metadata": {},
   "outputs": [],
   "source": [
    "# Utility Functions for Model Evaluation and Visualization\n",
    "# \n",
    "# This block defines helper functions for evaluating and visualizing the performance of classification models using matplotlib and scikit-learn:\n",
    "# \n",
    "# - plot_roc_curve(t_y, p_y): Plots the Receiver Operating Characteristic (ROC) curve using true labels (t_y) and predicted probabilities (p_y). \n",
    "# - Utilizes sklearn's roc_curve and auc to compute the curve and area under the curve.\n",
    "# - plot_precision_recall_curve(t_y, p_y): Plots the Precision-Recall curve using true labels (t_y) and predicted probabilities (p_y). \n",
    "# - Uses sklearn's precision_recall_curve and average_precision_score.\n",
    "# - calc_f1(prec, recall): Calculates the F1 score given precision (prec) and recall (recall) values using the standard F1 formula.\n",
    "#\n",
    "# Inputs:\n",
    "#   - t_y: Array-like, ground truth binary labels (0 or 1)\n",
    "#   - p_y: Array-like, predicted probabilities for the positive class\n",
    "#   - prec: Precision value (float)\n",
    "#   - recall: Recall value (float)\n",
    "\n",
    "# function to plot the roc_curve. You can utilize roc_curve and auc imported above\n",
    "def plot_roc_curve(t_y, p_y):\n",
    "    fig, c_ax = plt.subplots(1,1, figsize = (9, 9))\n",
    "    fpr, tpr, thresholds = roc_curve(t_y, p_y)\n",
    "    c_ax.plot(fpr, tpr, label = '%s (AUC:%0.2f)'  % ('Pneumonia', auc(fpr, tpr)))\n",
    "    c_ax.legend()\n",
    "    c_ax.set_xlabel('False Positive Rate')\n",
    "    c_ax.set_ylabel('True Positive Rate')\n",
    "    \n",
    "# function to plot the precision_recall_curve. You can utilize precision_recall_curve imported above\n",
    "def plot_precision_recall_curve(t_y, p_y):\n",
    "    fig, c_ax = plt.subplots(1,1, figsize = (9, 9))\n",
    "    precision, recall, thresholds = precision_recall_curve(t_y, p_y)\n",
    "    c_ax.plot(recall, precision, label = '%s (AP Score:%0.2f)'  % ('Pneumonia', average_precision_score(t_y,p_y)))\n",
    "    c_ax.legend()\n",
    "    c_ax.set_xlabel('Recall')\n",
    "    c_ax.set_ylabel('Precision')\n",
    "\n",
    "# function to calculate the F1 score\n",
    "def  calc_f1(prec,recall):\n",
    "    return 2*(prec*recall)/(prec+recall)"
   ]
  },
  {
   "cell_type": "code",
   "execution_count": 20,
   "metadata": {},
   "outputs": [
    {
     "data": {
      "image/png": "[encoded data removed]",
      "text/plain": [
       "<Figure size 900x900 with 1 Axes>"
      ]
     },
     "metadata": {},
     "output_type": "display_data"
    }
   ],
   "source": [
    "plot_roc_curve(performances['ground_truth'],performances['probability'])"
   ]
  },
  {
   "cell_type": "code",
   "execution_count": null,
   "metadata": {},
   "outputs": [
    {
     "data": {
      "image/png": "[encoded data removed]",
      "text/plain": [
       "<Figure size 900x900 with 1 Axes>"
      ]
     },
     "metadata": {},
     "output_type": "display_data"
    }
   ],
   "source": [
    "# Plotting the Precision-Recall Curve with Matplotlib and scikit-learn\n",
    "#\n",
    "# This block demonstrates how to visualize the trade-off between precision and recall for a binary classifier using the `plot_precision_recall_curve` function.\n",
    "# \n",
    "# - The function utilizes `precision_recall_curve` and `average_precision_score` from scikit-learn to compute precision, recall, and the average precision score.\n",
    "# - Matplotlib (`plt`) is used for plotting the curve, providing a graphical representation of model performance at various thresholds.\n",
    "# - This visualization helps in selecting an optimal threshold based on the desired balance between precision and recall, which is especially important in imbalanced datasets or clinical applications.\n",
    "\n",
    "plot_precision_recall_curve(performances['ground_truth'],performances['probability'])"
   ]
  },
  {
   "cell_type": "markdown",
   "metadata": {},
   "source": [
    "### Calculate F1 Score\n",
    "Calculate F1 score for two different scenarios here, \n",
    "1. Choose a threshold that favors precision, \n",
    "2. Choose a threshold that favors recall\n",
    "\n",
    "Print the precision, recall, threshold, and F1 score for each scenario. "
   ]
  },
  {
   "cell_type": "code",
   "execution_count": 21,
   "metadata": {},
   "outputs": [],
   "source": [
    "# Calculating Precision-Recall Curve Using scikit-learn\n",
    "# \n",
    "# This block demonstrates how to use scikit-learn's `precision_recall_curve` function to evaluate the performance of a binary classifier.\n",
    "# - `precision_recall_curve` computes precision and recall values for different probability thresholds, helping to visualize the trade-off between these metrics.\n",
    "# - The function returns three arrays: `precision`, `recall`, and `thresholds`, which can be used for further analysis or plotting.\n",
    "# - This is particularly useful in imbalanced datasets or clinical settings where optimizing for precision or recall is important.\n",
    "\n",
    "#\n",
    "precision, recall, thresholds = precision_recall_curve(performances['ground_truth'],performances['probability'])"
   ]
  },
  {
   "cell_type": "code",
   "execution_count": 22,
   "metadata": {},
   "outputs": [
    {
     "name": "stdout",
     "output_type": "stream",
     "text": [
      "Precision is: 0.8043478260869565\n",
      "Recall is: 0.37373737373737376\n",
      "Threshold is: 0.79\n",
      "F1 Score is: 0.5103448275862069\n"
     ]
    }
   ],
   "source": [
    "# Precision-Recall Threshold Selection and F1 Score Calculation\n",
    "#\n",
    "# This block demonstrates how to select a probability threshold that favors precision using numpy and scikit-learn.\n",
    "# - numpy is used for efficient numerical operations, specifically to find the index where precision is closest to a target value (here, 0.8).\n",
    "# - The code prints the precision, recall, threshold, and F1 score at this selected threshold.\n",
    "# - calc_f1 is a custom function that computes the F1 score from precision and recall.\n",
    "# This approach helps in understanding the trade-off between precision and recall at different thresholds, which is crucial for model evaluation in imbalanced or clinical datasets.\n",
    "\n",
    "# Look at the threshold where precision is 0.8\n",
    "precision_value = 0.8\n",
    "idx = (np.abs(precision - precision_value)).argmin() \n",
    "print('Precision is: '+ str(precision[idx]))\n",
    "print('Recall is: '+ str(recall[idx]))\n",
    "print('Threshold is: '+ str(thresholds[idx]))\n",
    "print('F1 Score is: ' + str(calc_f1(precision[idx],recall[idx])))"
   ]
  },
  {
   "cell_type": "code",
   "execution_count": null,
   "metadata": {},
   "outputs": [
    {
     "name": "stdout",
     "output_type": "stream",
     "text": [
      "Precision is: 0.398989898989899\n",
      "Recall is: 0.797979797979798\n",
      "Threshold is: 0.39\n",
      "F1 Score is: 0.531986531986532\n"
     ]
    }
   ],
   "source": [
    "# Precision-Recall Threshold Selection and F1 Score Calculation (Favoring Recall)\n",
    "#\n",
    "# This block demonstrates how to select a probability threshold that favors recall using numpy and scikit-learn.\n",
    "# - numpy is used to efficiently find the index where recall is closest to a target value (here, 0.8).\n",
    "# - The code prints the precision, recall, threshold, and F1 score at this selected threshold.\n",
    "# - calc_f1 is a custom function that computes the F1 score from precision and recall.\n",
    "# This approach helps in understanding the trade-off between precision and recall at different thresholds, which is crucial for model evaluation in imbalanced or clinical datasets.\n",
    "\n",
    "# Look at the threshold where recall is 0.8\n",
    "recall_value = 0.8\n",
    "idx = (np.abs(recall - recall_value)).argmin() \n",
    "print('Precision is: '+ str(precision[idx]))\n",
    "print('Recall is: '+ str(recall[idx]))\n",
    "print('Threshold is: '+ str(thresholds[idx]))\n",
    "print('F1 Score is: ' + str(calc_f1(precision[idx],recall[idx])))"
   ]
  },
  {
   "cell_type": "markdown",
   "metadata": {},
   "source": [
    "**As we can see, the thresholds are really different for the two cases.**\n",
    "\n",
    "--- \n",
    "\n",
    "### Examine the _accuracy_ under the two scenarios\n",
    "Now look at what the _accuracy_ of our model would be using those two threshold values. **Hint, you can add a new column with value 0 or 1 as predictions based on the threshold you choose, then you can calculate accuracy using ground truth and the prediction you just made.**\n",
    "\n",
    "Print the _accuracy_ in both the cases, and think about why accuracy really isn't a great performance statistic when evaluating and interpreting the utility of our models. "
   ]
  },
  {
   "cell_type": "code",
   "execution_count": null,
   "metadata": {},
   "outputs": [],
   "source": [
    "# Thresholding Model Probabilities and Creating Binary Predictions\n",
    "#\n",
    "# This block demonstrates how to convert model output probabilities into binary class predictions using pandas and numpy.\n",
    "# - The pandas Series 'probs' contains the predicted probabilities for each sample.\n",
    "# - Two thresholds (0.79 and 0.39) are chosen to favor precision and recall, respectively.\n",
    "# - For each threshold, a boolean Series is created indicating whether each probability exceeds the threshold.\n",
    "# - These boolean Series are then used to generate binary predictions (1 for positive, 0 for negative).\n",
    "# - This approach allows for flexible evaluation of model performance at different operating points, which is critical in clinical and imbalanced data scenarios.\n",
    "\n",
    "probs = performances['probability']\n",
    "t1 = (probs > 0.79)\n",
    "t2 = (probs > 0.39)"
   ]
  },
  {
   "cell_type": "code",
   "execution_count": null,
   "metadata": {},
   "outputs": [],
   "source": [
    "# Thresholding Probabilities to Generate Binary Predictions Using pandas\n",
    "#\n",
    "# This block demonstrates how to convert model output probabilities into binary class predictions using pandas Series operations:\n",
    "# - The variable `probs` contains the predicted probabilities for each sample.\n",
    "# - Two thresholds (0.79 and 0.39) are chosen to favor precision and recall, respectively.\n",
    "# - For each threshold, a boolean Series is created by comparing `probs` to the threshold.\n",
    "# - The `.replace(True,1).replace(False,0)` method is used to convert boolean values to integer class labels (1 for positive, 0 for negative).\n",
    "# - This approach allows for flexible evaluation of model performance at different operating points, which is critical in clinical and imbalanced data scenarios.\n",
    "#\n",
    "\n",
    "t1 = t1.replace(True,1).replace(False,0)\n",
    "t2 = t2.replace(True,1).replace(False,0)"
   ]
  },
  {
   "cell_type": "code",
   "execution_count": null,
   "metadata": {},
   "outputs": [],
   "source": [
    "# Comparing Model Predictions to Ground Truth Using pandas\n",
    "#\n",
    "# This block demonstrates how to compare model predictions to ground truth labels using pandas Series operations:\n",
    "# - The variables `t1` and `t2` are pandas Series containing binary predictions (0 or 1) generated using two different probability thresholds.\n",
    "# - The ground truth labels are stored in the 'ground_truth' column of the `performances` DataFrame.\n",
    "# - The comparison `(t1 == performances['ground_truth'])` and `(t2 == performances['ground_truth'])` produces boolean Series (`compare_t1` and `compare_t2`), where each value is True if the prediction matches the ground truth and False otherwise.\n",
    "# - These boolean Series are useful for calculating accuracy and other evaluation metrics by counting the number of correct predictions.\n",
    "#\n",
    "\n",
    "compare_t1 = (t1 == performances['ground_truth'])\n",
    "compare_t2 = (t2 == performances['ground_truth'])"
   ]
  },
  {
   "cell_type": "code",
   "execution_count": null,
   "metadata": {},
   "outputs": [
    {
     "name": "stdout",
     "output_type": "stream",
     "text": [
      "Accuracy at threshold 1: 0.8954344624447718\n"
     ]
    }
   ],
   "source": [
    "# Calculating Model Accuracy at a Specific Threshold Using pandas\n",
    "#\n",
    "# This block demonstrates how to compute the accuracy of a binary classifier at a chosen probability threshold using pandas:\n",
    "# - The variable `compare_t1` is a pandas Series of boolean values, where each entry is True if the model's prediction (using threshold 1) matches the ground truth, and False otherwise.\n",
    "# - The expression `compare_t1[compare_t1]` selects all True values, representing correct predictions.\n",
    "# - The length of this filtered Series gives the number of correct predictions.\n",
    "# - Dividing by the total number of samples (`len(performances)`) yields the accuracy at threshold 1.\n",
    "# - The result is printed to provide a quantitative measure of model performance at this threshold.\n",
    "#\n",
    "\n",
    "print('Accuracy at threshold 1: ' + str(len(compare_t1[compare_t1])/len(performances)))"
   ]
  },
  {
   "cell_type": "code",
   "execution_count": null,
   "metadata": {},
   "outputs": [
    {
     "name": "stdout",
     "output_type": "stream",
     "text": [
      "Accuracy at threshold 2: 0.801178203240059\n"
     ]
    }
   ],
   "source": [
    "# Calculating Model Accuracy at a Second Threshold Using pandas\n",
    "#\n",
    "# This block demonstrates how to compute the accuracy of a binary classifier at a second chosen probability threshold using pandas:\n",
    "# - The variable `compare_t2` is a pandas Series of boolean values, where each entry is True if the model's prediction (using threshold 2) matches the ground truth, and False otherwise.\n",
    "# - The expression `compare_t2[compare_t2]` selects all True values, representing correct predictions.\n",
    "# - The length of this filtered Series gives the number of correct predictions.\n",
    "# - Dividing by the total number of samples (`len(performances)`) yields the accuracy at threshold 2.\n",
    "# - The result is printed to provide a quantitative measure of model performance at this threshold.\n",
    "\n",
    "print('Accuracy at threshold 2: ' + str(len(compare_t2[compare_t2])/len(performances)))"
   ]
  },
  {
   "cell_type": "markdown",
   "metadata": {},
   "source": [
    "This notebook guides you through evaluating the performance of a convolutional neural network (CNN) for binary image classification, specifically for detecting malignant tumors. It begins by importing necessary libraries and loading a dataset containing ground truth labels and model-predicted probabilities. The workflow includes visualizing model performance using ROC and Precision-Recall curves, then selecting two probability thresholds: one that favors precision and another that favors recall. For each threshold, the notebook calculates and prints the corresponding precision, recall, threshold value, and F1 score. It then generates binary predictions at these thresholds and computes the model's accuracy in both scenarios, highlighting why accuracy alone may not be a sufficient metric for clinical model evaluation, especially when balancing the trade-off between precision and recall is crucial."
   ]
  }
 ],
 "metadata": {
  "kernelspec": {
   "display_name": "anup_prompt_venv",
   "language": "python",
   "name": "python3"
  },
  "language_info": {
   "codemirror_mode": {
    "name": "ipython",
    "version": 3
   },
   "file_extension": ".py",
   "mimetype": "text/x-python",
   "name": "python",
   "nbconvert_exporter": "python",
   "pygments_lexer": "ipython3",
   "version": "3.12.7"
  }
 },
 "nbformat": 4,
 "nbformat_minor": 2
}
