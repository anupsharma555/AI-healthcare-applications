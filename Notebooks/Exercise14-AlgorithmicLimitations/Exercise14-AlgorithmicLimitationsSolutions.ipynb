{
 "cells": [
  {
   "cell_type": "markdown",
   "metadata": {},
   "source": [
    "In this exercise, you'll receive a dataframe that contains ground truth labels for 128 chest x-rays that can have any of the following disease labels:\n",
    "\n",
    "Pneumonia\n",
    "Atelectasis\n",
    "Effusion\n",
    "Infiltration\n",
    "Pneumothorax\n",
    "Cardiomegaly\n",
    "Mass\n",
    "Nodule\n",
    "The final column in the dataframe is a classification algorithm's assessment of whether or not there is pneumonia in the image. This algorithm's clinical intended use is for the detection of pneumonia on chest x-rays. In this exercise, you will assess the algorithm's performance specifically in the presence of the other diseases, and determine if there are any diseases that significantly impact the algorithm's performance and that should be listed as limitations of the algorithm.\n",
    "\n"
   ]
  },
  {
   "cell_type": "code",
   "execution_count": null,
   "metadata": {},
   "outputs": [],
   "source": [
    "# This block imports essential libraries for data analysis and machine learning metrics.\n",
    "# - pandas: Used for data manipulation and analysis, especially with tabular data (DataFrames).\n",
    "# - numpy: Provides support for large, multi-dimensional arrays and matrices, along with mathematical functions.\n",
    "# - sklearn.metrics: Contains functions to compute various machine learning model evaluation metrics, such as confusion_matrix.\n",
    "\n",
    "import pandas as pd\n",
    "import numpy as np\n",
    "import sklearn.metrics"
   ]
  },
  {
   "cell_type": "markdown",
   "metadata": {},
   "source": [
    "Read in labels and performance data:"
   ]
  },
  {
   "cell_type": "code",
   "execution_count": 3,
   "metadata": {},
   "outputs": [
    {
     "data": {
      "application/vnd.microsoft.datawrangler.viewer.v0+json": {
       "columns": [
        {
         "name": "index",
         "rawType": "int64",
         "type": "integer"
        },
        {
         "name": "Pneumonia",
         "rawType": "int64",
         "type": "integer"
        },
        {
         "name": "Atelectasis",
         "rawType": "int64",
         "type": "integer"
        },
        {
         "name": "Effusion",
         "rawType": "int64",
         "type": "integer"
        },
        {
         "name": "Pneumothorax",
         "rawType": "int64",
         "type": "integer"
        },
        {
         "name": "Infiltration",
         "rawType": "int64",
         "type": "integer"
        },
        {
         "name": "Cardiomegaly",
         "rawType": "int64",
         "type": "integer"
        },
        {
         "name": "Mass",
         "rawType": "int64",
         "type": "integer"
        },
        {
         "name": "Nodule",
         "rawType": "int64",
         "type": "integer"
        },
        {
         "name": "algorithm_output",
         "rawType": "int64",
         "type": "integer"
        }
       ],
       "conversionMethod": "pd.DataFrame",
       "ref": "cc796da0-c0c5-4721-b84f-f528b8bc2950",
       "rows": [
        [
         "0",
         "1",
         "1",
         "1",
         "0",
         "0",
         "0",
         "0",
         "0",
         "1"
        ],
        [
         "1",
         "1",
         "1",
         "0",
         "0",
         "0",
         "1",
         "0",
         "0",
         "1"
        ],
        [
         "2",
         "1",
         "0",
         "1",
         "0",
         "0",
         "0",
         "0",
         "0",
         "1"
        ],
        [
         "3",
         "1",
         "1",
         "1",
         "0",
         "0",
         "1",
         "0",
         "0",
         "1"
        ],
        [
         "4",
         "0",
         "1",
         "0",
         "0",
         "0",
         "0",
         "0",
         "0",
         "0"
        ]
       ],
       "shape": {
        "columns": 9,
        "rows": 5
       }
      },
      "text/html": [
       "<div>\n",
       "<style scoped>\n",
       "    .dataframe tbody tr th:only-of-type {\n",
       "        vertical-align: middle;\n",
       "    }\n",
       "\n",
       "    .dataframe tbody tr th {\n",
       "        vertical-align: top;\n",
       "    }\n",
       "\n",
       "    .dataframe thead th {\n",
       "        text-align: right;\n",
       "    }\n",
       "</style>\n",
       "<table border=\"1\" class=\"dataframe\">\n",
       "  <thead>\n",
       "    <tr style=\"text-align: right;\">\n",
       "      <th></th>\n",
       "      <th>Pneumonia</th>\n",
       "      <th>Atelectasis</th>\n",
       "      <th>Effusion</th>\n",
       "      <th>Pneumothorax</th>\n",
       "      <th>Infiltration</th>\n",
       "      <th>Cardiomegaly</th>\n",
       "      <th>Mass</th>\n",
       "      <th>Nodule</th>\n",
       "      <th>algorithm_output</th>\n",
       "    </tr>\n",
       "  </thead>\n",
       "  <tbody>\n",
       "    <tr>\n",
       "      <th>0</th>\n",
       "      <td>1</td>\n",
       "      <td>1</td>\n",
       "      <td>1</td>\n",
       "      <td>0</td>\n",
       "      <td>0</td>\n",
       "      <td>0</td>\n",
       "      <td>0</td>\n",
       "      <td>0</td>\n",
       "      <td>1</td>\n",
       "    </tr>\n",
       "    <tr>\n",
       "      <th>1</th>\n",
       "      <td>1</td>\n",
       "      <td>1</td>\n",
       "      <td>0</td>\n",
       "      <td>0</td>\n",
       "      <td>0</td>\n",
       "      <td>1</td>\n",
       "      <td>0</td>\n",
       "      <td>0</td>\n",
       "      <td>1</td>\n",
       "    </tr>\n",
       "    <tr>\n",
       "      <th>2</th>\n",
       "      <td>1</td>\n",
       "      <td>0</td>\n",
       "      <td>1</td>\n",
       "      <td>0</td>\n",
       "      <td>0</td>\n",
       "      <td>0</td>\n",
       "      <td>0</td>\n",
       "      <td>0</td>\n",
       "      <td>1</td>\n",
       "    </tr>\n",
       "    <tr>\n",
       "      <th>3</th>\n",
       "      <td>1</td>\n",
       "      <td>1</td>\n",
       "      <td>1</td>\n",
       "      <td>0</td>\n",
       "      <td>0</td>\n",
       "      <td>1</td>\n",
       "      <td>0</td>\n",
       "      <td>0</td>\n",
       "      <td>1</td>\n",
       "    </tr>\n",
       "    <tr>\n",
       "      <th>4</th>\n",
       "      <td>0</td>\n",
       "      <td>1</td>\n",
       "      <td>0</td>\n",
       "      <td>0</td>\n",
       "      <td>0</td>\n",
       "      <td>0</td>\n",
       "      <td>0</td>\n",
       "      <td>0</td>\n",
       "      <td>0</td>\n",
       "    </tr>\n",
       "  </tbody>\n",
       "</table>\n",
       "</div>"
      ],
      "text/plain": [
       "   Pneumonia  Atelectasis  Effusion  Pneumothorax  Infiltration  Cardiomegaly  \\\n",
       "0          1            1         1             0             0             0   \n",
       "1          1            1         0             0             0             1   \n",
       "2          1            0         1             0             0             0   \n",
       "3          1            1         1             0             0             1   \n",
       "4          0            1         0             0             0             0   \n",
       "\n",
       "   Mass  Nodule  algorithm_output  \n",
       "0     0       0                 1  \n",
       "1     0       0                 1  \n",
       "2     0       0                 1  \n",
       "3     0       0                 1  \n",
       "4     0       0                 0  "
      ]
     },
     "execution_count": 3,
     "metadata": {},
     "output_type": "execute_result"
    }
   ],
   "source": [
    "data = pd.read_csv('labels_and_performance.csv')\n",
    "data.head()"
   ]
  },
  {
   "cell_type": "markdown",
   "metadata": {},
   "source": [
    "First, look at the overall performance of the algorithm for the detection of pneumonia:"
   ]
  },
  {
   "cell_type": "code",
   "execution_count": null,
   "metadata": {},
   "outputs": [],
   "source": [
    "# Calculate confusion matrix for overall pneumonia detection using scikit-learn\n",
    "# This block uses sklearn.metrics.confusion_matrix to compare the ground truth pneumonia labels\n",
    "# with the algorithm's output. The confusion_matrix function returns the counts of true negatives (tn),\n",
    "# false positives (fp), false negatives (fn), and true positives (tp) for binary classification.\n",
    "# These values are used to assess the overall performance of the algorithm.\n",
    "# .confusion_matrix takes (y_true, y_pred, labels): y_true is the ground truth, y_pred is the predicted labels, and labels specifies the order of classes (here, [0,1] for negative/positive).\n",
    "# .ravel() flattens the resulting 2x2 confusion matrix into a 1D array: [tn, fp, fn, tp].\n",
    "\n",
    "tn, fp, fn, tp = sklearn.metrics.confusion_matrix(data.Pneumonia.values,\n",
    "                                                  data.algorithm_output.values,labels=[0,1]).ravel()"
   ]
  },
  {
   "cell_type": "code",
   "execution_count": 5,
   "metadata": {},
   "outputs": [
    {
     "data": {
      "text/plain": [
       "np.float64(0.8166666666666667)"
      ]
     },
     "execution_count": 5,
     "metadata": {},
     "output_type": "execute_result"
    }
   ],
   "source": [
    "sens = tp/(tp+fn)\n",
    "sens"
   ]
  },
  {
   "cell_type": "code",
   "execution_count": 6,
   "metadata": {},
   "outputs": [
    {
     "data": {
      "text/plain": [
       "np.float64(0.8235294117647058)"
      ]
     },
     "execution_count": 6,
     "metadata": {},
     "output_type": "execute_result"
    }
   ],
   "source": [
    "spec = tn/(tn+fp)\n",
    "spec"
   ]
  },
  {
   "cell_type": "markdown",
   "metadata": {},
   "source": [
    "Now, look at the algorithm's performance in the presence of the other diseases: "
   ]
  },
  {
   "cell_type": "code",
   "execution_count": null,
   "metadata": {},
   "outputs": [
    {
     "name": "stdout",
     "output_type": "stream",
     "text": [
      "Atelectasis\n",
      "Sensitivity: 0.782608695652174\n",
      "Specificity: 0.8333333333333334\n",
      "\n",
      "Effusion\n",
      "Sensitivity: 0.6521739130434783\n",
      "Specificity: 0.8571428571428571\n",
      "\n",
      "Pneumothorax\n",
      "Sensitivity: 0.8571428571428571\n",
      "Specificity: 0.6666666666666666\n",
      "\n",
      "Infiltration\n",
      "Sensitivity: 0.3888888888888889\n",
      "Specificity: 0.0\n",
      "\n",
      "Cardiomegaly\n",
      "Sensitivity: 0.8888888888888888\n",
      "Specificity: 1.0\n",
      "\n",
      "Mass\n",
      "Sensitivity: 0.9285714285714286\n",
      "Specificity: 0.8666666666666667\n",
      "\n",
      "Nodule\n",
      "Sensitivity: 1.0\n",
      "Specificity: 0.5384615384615384\n",
      "\n"
     ]
    }
   ],
   "source": [
    "# Assessing Algorithm Performance in the Presence of Other Diseases\n",
    "# \n",
    "# This block uses the scikit-learn library's `confusion_matrix` function to evaluate the performance of a pneumonia detection algorithm\n",
    "# specifically when other diseases are present in the chest x-rays. For each disease (Atelectasis, Effusion, Pneumothorax, Infiltration,\n",
    "# Cardiomegaly, Mass, Nodule), the code filters the dataframe to include only cases where that disease is present. It then computes the\n",
    "# confusion matrix comparing the ground truth pneumonia labels (`Pneumonia`) to the algorithm's predictions (`algorithm_output`).\n",
    "# The confusion matrix provides counts of true negatives (tn), false positives (fp), false negatives (fn), and true positives (tp).\n",
    "# Sensitivity (recall) and specificity are calculated for each disease context and printed, allowing assessment of how each comorbidity\n",
    "# affects the algorithm's performance.\n",
    "\n",
    "for i in ['Atelectasis','Effusion','Pneumothorax','Infiltration','Cardiomegaly','Mass','Nodule']:\n",
    "\n",
    "    tn, fp, fn, tp = sklearn.metrics.confusion_matrix(data[data[i]==1].Pneumonia.values,\n",
    "                                                  data[data[i]==1].algorithm_output.values,labels=[0,1]).ravel()\n",
    "    sens = tp/(tp+fn)\n",
    "    spec = tn/(tn+fp)\n",
    "\n",
    "    print(i)\n",
    "    print('Sensitivity: '+ str(sens))\n",
    "    print('Specificity: ' +str(spec))\n",
    "    print()"
   ]
  },
  {
   "cell_type": "markdown",
   "metadata": {},
   "source": [
    "### Statement on algorithmic limitations:\n",
    "\n",
    "The results above indicate that the presence of infiltrations in a chest x-ray is a limitation of this algorithm, and that the algorithm performs very poorly on the accurate detection of pneumonia in the presence of infiltration. The presence of nodules and pneumothorax have a slight impact on the algorithm's sensitivity and may reduce the ability to detect pneumonia, while the presence of effusion has a slight impact on specificity and may increase the number of false positive pneumonia classifications."
   ]
  },
  {
   "cell_type": "code",
   "execution_count": null,
   "metadata": {},
   "outputs": [],
   "source": []
  }
 ],
 "metadata": {
  "kernelspec": {
   "display_name": "anup_prompt_venv",
   "language": "python",
   "name": "python3"
  },
  "language_info": {
   "codemirror_mode": {
    "name": "ipython",
    "version": 3
   },
   "file_extension": ".py",
   "mimetype": "text/x-python",
   "name": "python",
   "nbconvert_exporter": "python",
   "pygments_lexer": "ipython3",
   "version": "3.12.7"
  }
 },
 "nbformat": 4,
 "nbformat_minor": 2
}
