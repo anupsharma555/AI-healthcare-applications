{
 "cells": [
  {
   "cell_type": "markdown",
   "metadata": {},
   "source": [
    "## 1. Dataset Schema Analysis"
   ]
  },
  {
   "cell_type": "markdown",
   "metadata": {},
   "source": [
    "We will use the following UCI dataset for this lesson and the related exercise.\n",
    "\n",
    "**Dataset**: Heart Disease Dataset donated to UCI ML Dataset Repository https://archive.ics.uci.edu/ml/datasets/heart+Disease. The authors of the databases have requested that any publications resulting from the use of the data include the names of the principal investigator responsible for the data collection at each institution. They would be:\n",
    "1. Hungarian Institute of Cardiology. Budapest: Andras Janosi, M.D.\n",
    "2. University Hospital, Zurich, Switzerland: William Steinbrunn, M.D.\n",
    "3. University Hospital, Basel, Switzerland: Matthias Pfisterer, M.D.\n",
    "4. V.A. Medical Center, Long Beach and Cleveland Clinic Foundation:Robert Detrano, M.D., Ph.D."
   ]
  },
  {
   "cell_type": "markdown",
   "metadata": {},
   "source": [
    "**Modeling Objective:** Predict the incidence of heart disease"
   ]
  },
  {
   "cell_type": "markdown",
   "metadata": {},
   "source": [
    "Below is a list of areas that we will be looking for in our exploratory data analysis.\n",
    "- Value Distributions - Is the dataset feature uniform, normal, skewed and severely unbalanced?\n",
    "- Scale of Numerical Features\n",
    "- Missing Values\n",
    "- High Cardinality\n"
   ]
  },
  {
   "cell_type": "markdown",
   "metadata": {},
   "source": [
    "**Dataset Schema**: The schema for the dataset that we will be using is on the page https://archive.ics.uci.edu/ml/datasets/heart+Disease  under the **\"Attribute Information\"** header. Please note that only 14 attributes are used and listed below\n",
    "1. age: age in years\n",
    "2. sex: sex (1 = male; 0 = female)\n",
    "3. cp: chest pain type\n",
    "    * Value 1: typical angina\n",
    "    * Value 2: atypical angina\n",
    "    * Value 3: non-anginal pain\n",
    "    * Value 4: asymptomatic\n",
    "4. trestbps: resting blood pressure (in mm Hg on admission to the hospital)\n",
    "5. chol: serum cholestoral in mg/dl\n",
    "6. fbs: (fasting blood sugar > 120 mg/dl) (1 = true; 0 = false)\n",
    "7. restecg: resting electrocardiographic results\n",
    "    * Value 0: normal\n",
    "    * Value 1: having ST-T wave abnormality (T wave inversions and/or ST elevation or depression of > 0.05 mV)\n",
    "    * Value 2: showing probable or definite left ventricular hypertrophy by Estes' criteria\n",
    "8. thalach: maximum heart rate achieved\n",
    "9. exang: exercise induced angina (1 = yes; 0 = no)\n",
    "10. oldpeak: ST depression induced by exercise relative to rest\n",
    "11. slope: the slope of the peak exercise ST segment\n",
    "    * Value 1: upsloping\n",
    "    * Value 2: flat\n",
    "    * Value 3: downsloping\n",
    "12. ca: number of major vessels (0-3) colored by flourosopy\n",
    "13. thal:  3 = normal; 6 = fixed defect; 7 = reversable defect\n",
    "14. num: diagnosis of heart disease (angiographic disease status)\n",
    "    * Value 0: < 50% diameter narrowing\n",
    "    * Value 1: > 50% diameter narrowing\n",
    "    * Values >1: linking to attributes 59 through 68, which are vessels (we won't focus on this for this course)\n"
   ]
  },
  {
   "cell_type": "markdown",
   "metadata": {},
   "source": [
    "### OPTIONAL- Use Tensorflow Data Validation (TFDV) for EDA"
   ]
  },
  {
   "cell_type": "markdown",
   "metadata": {},
   "source": [
    "You are free to use your tool of choice to explore the data and create an EDA report at the end and TFDV currently has some bugs with the latest version of Chrome. The intention of this lesson is to expose you to TFDV as an option to explore your data. While there are other tools for exploratory data analysis, below are some reasons that TFDV can be helpful:\n",
    "* Interactive and simple descriptive statistics visualization tool  \n",
    "* Scales to large datasets\n",
    "    * It uses \"Apache Beam's data-parallel processing framework to scale the computation of statistics over large datasets.\"  \n",
    "* Can be used to detect anomalies and drift with new data or differences between training and testing splits\n",
    "\n",
    "Before building a machine learning model, we must first analyze the dataset and assess for common issues that may require preprocessing. We will use the TFDV library to help analyze and visualize the dataset. Some of the information has been adapted from the TFDV page(https://www.tensorflow.org/tfx/data_validation/get_started. \n",
    "\n",
    "**IMPORTANT** You must use the Chrome browser to see the TFDV library visualizations.\n",
    "\n",
    "NOTE: Please note that there are other ways we can explore and analyze the data but we will focus on these areas for the course.\n"
   ]
  },
  {
   "cell_type": "markdown",
   "metadata": {},
   "source": [
    "### ETL "
   ]
  },
  {
   "cell_type": "code",
   "execution_count": null,
   "metadata": {},
   "outputs": [],
   "source": [
    "# Import commonly used data science and visualization libraries: pandas, numpy, sklearn, seaborn, matplotlib.pyplot\n",
    "import pandas as pd\n",
    "import numpy as np\n",
    "import sklearn\n",
    "import seaborn as sns\n",
    "import matplotlib.pyplot as plt"
   ]
  },
  {
   "cell_type": "markdown",
   "metadata": {},
   "source": [
    "**NOTE:** For this lesson and exercise we will use the processed not the raw dataset provided, so the categorical feature values have already been converted to numerical values."
   ]
  },
  {
   "cell_type": "markdown",
   "metadata": {},
   "source": [
    "For this exercise we will use the processed Cleveland Clinic dataset."
   ]
  },
  {
   "cell_type": "code",
   "execution_count": null,
   "metadata": {},
   "outputs": [],
   "source": [
    "# Summary:\n",
    "# - This block loads the processed Cleveland heart disease dataset from a local file.\n",
    "# - It defines the column names for the dataset as specified in the UCI repository.\n",
    "# - The column_header_list determines which columns are included in the DataFrame; if the list is shorter than the actual data columns, extra columns will be excluded, and if longer, new columns will be filled with NaN.\n",
    "# - The dataset is read into a pandas DataFrame using the specified column headers.\n",
    "# - The DataFrame is assigned to the variable 'processed_cleveland_df' for further analysis.\n",
    "#https://archive.ics.uci.edu/ml/datasets/heart+Disease, Cleveland dataset\n",
    "\n",
    "processed_cleveland_path = \"./data/processed.cleveland.txt\"\n",
    "column_header_list = [\n",
    "    'age',\n",
    "   'sex',\n",
    "   'cp',\n",
    "   'trestbps',\n",
    "     'chol',\n",
    "      'fbs',\n",
    "      'restecg',\n",
    "      'thalach',\n",
    "       'exang',\n",
    "      'oldpeak',\n",
    "       'slope',\n",
    "       'ca',\n",
    "        'thal', \n",
    "     'num_label'\n",
    "]\n",
    "processed_cleveland_df = pd.read_csv(processed_cleveland_path, names=column_header_list)"
   ]
  },
  {
   "cell_type": "code",
   "execution_count": 8,
   "metadata": {},
   "outputs": [
    {
     "data": {
      "application/vnd.microsoft.datawrangler.viewer.v0+json": {
       "columns": [
        {
         "name": "index",
         "rawType": "int64",
         "type": "integer"
        },
        {
         "name": "age",
         "rawType": "float64",
         "type": "float"
        },
        {
         "name": "sex",
         "rawType": "float64",
         "type": "float"
        },
        {
         "name": "cp",
         "rawType": "float64",
         "type": "float"
        },
        {
         "name": "trestbps",
         "rawType": "float64",
         "type": "float"
        },
        {
         "name": "chol",
         "rawType": "float64",
         "type": "float"
        },
        {
         "name": "fbs",
         "rawType": "float64",
         "type": "float"
        },
        {
         "name": "restecg",
         "rawType": "float64",
         "type": "float"
        },
        {
         "name": "thalach",
         "rawType": "float64",
         "type": "float"
        },
        {
         "name": "exang",
         "rawType": "float64",
         "type": "float"
        },
        {
         "name": "oldpeak",
         "rawType": "float64",
         "type": "float"
        },
        {
         "name": "slope",
         "rawType": "float64",
         "type": "float"
        },
        {
         "name": "ca",
         "rawType": "object",
         "type": "string"
        },
        {
         "name": "thal",
         "rawType": "object",
         "type": "string"
        },
        {
         "name": "num_label",
         "rawType": "int64",
         "type": "integer"
        }
       ],
       "ref": "a217e469-b681-4ea0-bf61-a8f364851729",
       "rows": [
        [
         "0",
         "63.0",
         "1.0",
         "1.0",
         "145.0",
         "233.0",
         "1.0",
         "2.0",
         "150.0",
         "0.0",
         "2.3",
         "3.0",
         "0.0",
         "6.0",
         "0"
        ],
        [
         "1",
         "67.0",
         "1.0",
         "4.0",
         "160.0",
         "286.0",
         "0.0",
         "2.0",
         "108.0",
         "1.0",
         "1.5",
         "2.0",
         "3.0",
         "3.0",
         "2"
        ],
        [
         "2",
         "67.0",
         "1.0",
         "4.0",
         "120.0",
         "229.0",
         "0.0",
         "2.0",
         "129.0",
         "1.0",
         "2.6",
         "2.0",
         "2.0",
         "7.0",
         "1"
        ],
        [
         "3",
         "37.0",
         "1.0",
         "3.0",
         "130.0",
         "250.0",
         "0.0",
         "0.0",
         "187.0",
         "0.0",
         "3.5",
         "3.0",
         "0.0",
         "3.0",
         "0"
        ],
        [
         "4",
         "41.0",
         "0.0",
         "2.0",
         "130.0",
         "204.0",
         "0.0",
         "2.0",
         "172.0",
         "0.0",
         "1.4",
         "1.0",
         "0.0",
         "3.0",
         "0"
        ]
       ],
       "shape": {
        "columns": 14,
        "rows": 5
       }
      },
      "text/html": [
       "<div>\n",
       "<style scoped>\n",
       "    .dataframe tbody tr th:only-of-type {\n",
       "        vertical-align: middle;\n",
       "    }\n",
       "\n",
       "    .dataframe tbody tr th {\n",
       "        vertical-align: top;\n",
       "    }\n",
       "\n",
       "    .dataframe thead th {\n",
       "        text-align: right;\n",
       "    }\n",
       "</style>\n",
       "<table border=\"1\" class=\"dataframe\">\n",
       "  <thead>\n",
       "    <tr style=\"text-align: right;\">\n",
       "      <th></th>\n",
       "      <th>age</th>\n",
       "      <th>sex</th>\n",
       "      <th>cp</th>\n",
       "      <th>trestbps</th>\n",
       "      <th>chol</th>\n",
       "      <th>fbs</th>\n",
       "      <th>restecg</th>\n",
       "      <th>thalach</th>\n",
       "      <th>exang</th>\n",
       "      <th>oldpeak</th>\n",
       "      <th>slope</th>\n",
       "      <th>ca</th>\n",
       "      <th>thal</th>\n",
       "      <th>num_label</th>\n",
       "    </tr>\n",
       "  </thead>\n",
       "  <tbody>\n",
       "    <tr>\n",
       "      <th>0</th>\n",
       "      <td>63.0</td>\n",
       "      <td>1.0</td>\n",
       "      <td>1.0</td>\n",
       "      <td>145.0</td>\n",
       "      <td>233.0</td>\n",
       "      <td>1.0</td>\n",
       "      <td>2.0</td>\n",
       "      <td>150.0</td>\n",
       "      <td>0.0</td>\n",
       "      <td>2.3</td>\n",
       "      <td>3.0</td>\n",
       "      <td>0.0</td>\n",
       "      <td>6.0</td>\n",
       "      <td>0</td>\n",
       "    </tr>\n",
       "    <tr>\n",
       "      <th>1</th>\n",
       "      <td>67.0</td>\n",
       "      <td>1.0</td>\n",
       "      <td>4.0</td>\n",
       "      <td>160.0</td>\n",
       "      <td>286.0</td>\n",
       "      <td>0.0</td>\n",
       "      <td>2.0</td>\n",
       "      <td>108.0</td>\n",
       "      <td>1.0</td>\n",
       "      <td>1.5</td>\n",
       "      <td>2.0</td>\n",
       "      <td>3.0</td>\n",
       "      <td>3.0</td>\n",
       "      <td>2</td>\n",
       "    </tr>\n",
       "    <tr>\n",
       "      <th>2</th>\n",
       "      <td>67.0</td>\n",
       "      <td>1.0</td>\n",
       "      <td>4.0</td>\n",
       "      <td>120.0</td>\n",
       "      <td>229.0</td>\n",
       "      <td>0.0</td>\n",
       "      <td>2.0</td>\n",
       "      <td>129.0</td>\n",
       "      <td>1.0</td>\n",
       "      <td>2.6</td>\n",
       "      <td>2.0</td>\n",
       "      <td>2.0</td>\n",
       "      <td>7.0</td>\n",
       "      <td>1</td>\n",
       "    </tr>\n",
       "    <tr>\n",
       "      <th>3</th>\n",
       "      <td>37.0</td>\n",
       "      <td>1.0</td>\n",
       "      <td>3.0</td>\n",
       "      <td>130.0</td>\n",
       "      <td>250.0</td>\n",
       "      <td>0.0</td>\n",
       "      <td>0.0</td>\n",
       "      <td>187.0</td>\n",
       "      <td>0.0</td>\n",
       "      <td>3.5</td>\n",
       "      <td>3.0</td>\n",
       "      <td>0.0</td>\n",
       "      <td>3.0</td>\n",
       "      <td>0</td>\n",
       "    </tr>\n",
       "    <tr>\n",
       "      <th>4</th>\n",
       "      <td>41.0</td>\n",
       "      <td>0.0</td>\n",
       "      <td>2.0</td>\n",
       "      <td>130.0</td>\n",
       "      <td>204.0</td>\n",
       "      <td>0.0</td>\n",
       "      <td>2.0</td>\n",
       "      <td>172.0</td>\n",
       "      <td>0.0</td>\n",
       "      <td>1.4</td>\n",
       "      <td>1.0</td>\n",
       "      <td>0.0</td>\n",
       "      <td>3.0</td>\n",
       "      <td>0</td>\n",
       "    </tr>\n",
       "  </tbody>\n",
       "</table>\n",
       "</div>"
      ],
      "text/plain": [
       "    age  sex   cp  trestbps   chol  fbs  restecg  thalach  exang  oldpeak  \\\n",
       "0  63.0  1.0  1.0     145.0  233.0  1.0      2.0    150.0    0.0      2.3   \n",
       "1  67.0  1.0  4.0     160.0  286.0  0.0      2.0    108.0    1.0      1.5   \n",
       "2  67.0  1.0  4.0     120.0  229.0  0.0      2.0    129.0    1.0      2.6   \n",
       "3  37.0  1.0  3.0     130.0  250.0  0.0      0.0    187.0    0.0      3.5   \n",
       "4  41.0  0.0  2.0     130.0  204.0  0.0      2.0    172.0    0.0      1.4   \n",
       "\n",
       "   slope   ca thal  num_label  \n",
       "0    3.0  0.0  6.0          0  \n",
       "1    2.0  3.0  3.0          2  \n",
       "2    2.0  2.0  7.0          1  \n",
       "3    3.0  0.0  3.0          0  \n",
       "4    1.0  0.0  3.0          0  "
      ]
     },
     "execution_count": 8,
     "metadata": {},
     "output_type": "execute_result"
    }
   ],
   "source": [
    "processed_cleveland_df.head()"
   ]
  },
  {
   "cell_type": "markdown",
   "metadata": {},
   "source": [
    "## 2. Analyze Value Distributions"
   ]
  },
  {
   "cell_type": "code",
   "execution_count": null,
   "metadata": {},
   "outputs": [],
   "source": [
    "# Summary:\n",
    "# - This block defines a function to visualize the distribution of a categorical feature in a DataFrame.\n",
    "# - It requires the user to pass a DataFrame and the name of a categorical column to visualize.\n",
    "# - It uses pandas' value_counts() to count occurrences of each category.\n",
    "# - The counts are plotted as a bar chart using matplotlib.\n",
    "# - plt.show() displays the plot, and plt.close() closes the figure to free resources.\n",
    "\n",
    "# visualize categorical distributions\n",
    "def visualize_distributions(df, c):\n",
    "    df[c].value_counts().plot(kind='bar')\n",
    "    plt.show()\n",
    "    plt.close()"
   ]
  },
  {
   "cell_type": "code",
   "execution_count": null,
   "metadata": {},
   "outputs": [
    {
     "name": "stdout",
     "output_type": "stream",
     "text": [
      "Distribution for sex feature\n"
     ]
    },
    {
     "data": {
      "text/plain": [
       "<Axes: xlabel='sex'>"
      ]
     },
     "execution_count": 10,
     "metadata": {},
     "output_type": "execute_result"
    },
    {
     "data": {
      "image/png": "[encoded data removed]",
      "text/plain": [
       "<Figure size 640x480 with 1 Axes>"
      ]
     },
     "metadata": {},
     "output_type": "display_data"
    }
   ],
   "source": [
    "# Summary:\n",
    "# - This block visualizes the distribution of the 'sex' feature in the processed Cleveland heart disease dataset.\n",
    "# - It sets the variable 'example_column1' to the string \"sex\".\n",
    "# - It prints a message indicating which feature's distribution is being shown.\n",
    "# - It replaces the numerical values in the 'sex' column (1 and 0) with the strings \"male\" and \"female\".\n",
    "# - It calculates the value counts for each category (\"male\" and \"female\") and plots them as a bar chart using pandas' plot method.\n",
    "\n",
    "example_column1 = \"sex\"\n",
    "print(\"Distribution for {} feature\".format(example_column1))\n",
    "processed_cleveland_df[example_column1].replace({1:\"male\", 0:\"female\"}).value_counts().plot(kind='bar')"
   ]
  },
  {
   "cell_type": "code",
   "execution_count": null,
   "metadata": {},
   "outputs": [
    {
     "data": {
      "image/png": "[encoded data removed]",
      "text/plain": [
       "<Figure size 640x480 with 1 Axes>"
      ]
     },
     "metadata": {},
     "output_type": "display_data"
    }
   ],
   "source": [
    "#Using the function defined earlier to visualize the distribution of a categifcal feature\n",
    "visualize_distributions(processed_cleveland_df.replace({1:\"male\", 0:\"female\"}), \"sex\")"
   ]
  },
  {
   "cell_type": "markdown",
   "metadata": {},
   "source": [
    "Next, we will look at another categorical feature chest pain."
   ]
  },
  {
   "cell_type": "code",
   "execution_count": 31,
   "metadata": {},
   "outputs": [
    {
     "name": "stdout",
     "output_type": "stream",
     "text": [
      "Distribution for cp feature\n"
     ]
    },
    {
     "data": {
      "text/plain": [
       "<Axes: ylabel='cp'>"
      ]
     },
     "execution_count": 31,
     "metadata": {},
     "output_type": "execute_result"
    },
    {
     "data": {
      "image/png": "[encoded data removed]",
      "text/plain": [
       "<Figure size 640x480 with 1 Axes>"
      ]
     },
     "metadata": {},
     "output_type": "display_data"
    }
   ],
   "source": [
    "# Summary:\n",
    "# - This block visualizes the distribution of the 'cp' (chest pain type) categorical feature in the processed Cleveland heart disease dataset.\n",
    "# - It sets the variable 'example_column2' to the string \"cp\".\n",
    "# - It prints a message indicating which feature's distribution is being shown.\n",
    "# - It replaces the numerical values in the 'cp' column (1, 2, 3, 4) with descriptive string labels for each chest pain type.\n",
    "# - It calculates the value counts for each chest pain type and plots them as a horizontal bar chart using pandas' plot method.\n",
    "\n",
    "example_column2 = \"cp\"\n",
    "print(\"Distribution for {} feature\".format(example_column2))\n",
    "processed_cleveland_df[example_column2].replace({1: \"typical angina\",\n",
    "2: \"atypical angina\",\n",
    "3: \"non-anginal pain\",\n",
    "4: \"asymptomatic\" }).value_counts().plot(kind='barh')"
   ]
  },
  {
   "cell_type": "code",
   "execution_count": null,
   "metadata": {},
   "outputs": [
    {
     "data": {
      "image/png": "[encoded data removed]",
      "text/plain": [
       "<Figure size 640x480 with 1 Axes>"
      ]
     },
     "metadata": {},
     "output_type": "display_data"
    }
   ],
   "source": [
    "# Using the function defined earlier to visualize the distribution of a categorical feature\n",
    "# The replace method maps numeric category codes to descriptive labels for better readability in visualizations and analysis.\n",
    "\n",
    "visualize_distributions(\n",
    "    processed_cleveland_df.replace({\n",
    "        1: \"typical angina\",\n",
    "        2: \"atypical angina\",\n",
    "        3: \"non-anginal pain\",\n",
    "        4: \"asymptomatic\"\n",
    "    }),\n",
    "    \"cp\"\n",
    ")"
   ]
  },
  {
   "cell_type": "markdown",
   "metadata": {},
   "source": [
    "### Review of normal and uniform distributions"
   ]
  },
  {
   "cell_type": "markdown",
   "metadata": {},
   "source": [
    "**Normal Distribution**"
   ]
  },
  {
   "cell_type": "code",
   "execution_count": 37,
   "metadata": {},
   "outputs": [],
   "source": [
    "# Summary:\n",
    "# - This block generates a normal distribution using numpy's random.normal function.\n",
    "# - The mean (mu) and standard deviation (sigma) are set to 100 and 17.0, respectively.\n",
    "# - 100 samples are drawn from the normal distribution and stored in the variable 'norm_dist'.\n",
    "\n",
    "mu, sigma = 100, 17.0 # mean and standard deviation\n",
    "norm_dist = np.random.normal(mu, sigma, 500)"
   ]
  },
  {
   "cell_type": "code",
   "execution_count": 38,
   "metadata": {},
   "outputs": [
    {
     "data": {
      "image/png": "[encoded data removed]",
      "text/plain": [
       "<Figure size 640x480 with 1 Axes>"
      ]
     },
     "metadata": {},
     "output_type": "display_data"
    }
   ],
   "source": [
    "# Summary:\n",
    "# - This block visualizes a normal distribution using seaborn's histplot.\n",
    "# - 'norm_dist' is a numpy array containing 100 samples drawn from a normal distribution with mean 'mu' and standard deviation 'sigma'.\n",
    "# - 'sns.histplot' is used to plot a histogram of 'norm_dist' without a kernel density estimate (kde=False).\n",
    "# - 'plt.show()' displays the plot.\n",
    "\n",
    "norm_ax = sns.histplot(norm_dist, kde=False)\n",
    "plt.show()"
   ]
  },
  {
   "cell_type": "markdown",
   "metadata": {},
   "source": [
    "**Uniform Distribution**"
   ]
  },
  {
   "cell_type": "code",
   "execution_count": null,
   "metadata": {},
   "outputs": [
    {
     "data": {
      "image/png": "[encoded data removed]",
      "text/plain": [
       "<Figure size 640x480 with 1 Axes>"
      ]
     },
     "metadata": {},
     "output_type": "display_data"
    }
   ],
   "source": [
    "# Summary:\n",
    "# - This block generates a uniform distribution using numpy's random.uniform function.\n",
    "# - It draws 1000 samples from a uniform distribution ranging from -1 to 0. \n",
    "uniform_dist = np.random.uniform(-1, 0, 1000)\n",
    "uniform_ax = sns.histplot(uniform_dist, kde=False)\n",
    "plt.show()"
   ]
  },
  {
   "cell_type": "markdown",
   "metadata": {},
   "source": [
    "**Guess the type of distribution for the following?**"
   ]
  },
  {
   "cell_type": "code",
   "execution_count": 15,
   "metadata": {},
   "outputs": [
    {
     "data": {
      "text/plain": [
       "<Axes: >"
      ]
     },
     "execution_count": 15,
     "metadata": {},
     "output_type": "execute_result"
    },
    {
     "data": {
      "image/png": "[encoded data removed]",
      "text/plain": [
       "<Figure size 640x480 with 1 Axes>"
      ]
     },
     "metadata": {},
     "output_type": "display_data"
    }
   ],
   "source": [
    "# numerical field histogram\n",
    "processed_cleveland_df['trestbps'].hist()"
   ]
  },
  {
   "cell_type": "markdown",
   "metadata": {},
   "source": [
    "It is a right-skewed Normal Distribution.\n",
    "\n",
    "## 3. Missing Values"
   ]
  },
  {
   "cell_type": "markdown",
   "metadata": {},
   "source": [
    "### Scaling of numerical features \n",
    "- Compare min and max and see if scale is large "
   ]
  },
  {
   "cell_type": "code",
   "execution_count": 16,
   "metadata": {},
   "outputs": [],
   "source": [
    "numerical_feature_list = ['age',  'trestbps', 'chol', 'thalach', 'oldpeak' ]"
   ]
  },
  {
   "cell_type": "code",
   "execution_count": 17,
   "metadata": {},
   "outputs": [
    {
     "data": {
      "application/vnd.microsoft.datawrangler.viewer.v0+json": {
       "columns": [
        {
         "name": "index",
         "rawType": "object",
         "type": "string"
        },
        {
         "name": "age",
         "rawType": "float64",
         "type": "float"
        },
        {
         "name": "trestbps",
         "rawType": "float64",
         "type": "float"
        },
        {
         "name": "chol",
         "rawType": "float64",
         "type": "float"
        },
        {
         "name": "thalach",
         "rawType": "float64",
         "type": "float"
        },
        {
         "name": "oldpeak",
         "rawType": "float64",
         "type": "float"
        }
       ],
       "ref": "2f59d4a3-a3da-4fc0-8b05-6cf5ce04be91",
       "rows": [
        [
         "count",
         "303.0",
         "303.0",
         "303.0",
         "303.0",
         "303.0"
        ],
        [
         "mean",
         "54.43894389438944",
         "131.68976897689768",
         "246.69306930693068",
         "149.6072607260726",
         "1.0396039603960396"
        ],
        [
         "std",
         "9.038662442446746",
         "17.59974772958769",
         "51.77691754263704",
         "22.875003276980376",
         "1.1610750220686348"
        ],
        [
         "min",
         "29.0",
         "94.0",
         "126.0",
         "71.0",
         "0.0"
        ],
        [
         "25%",
         "48.0",
         "120.0",
         "211.0",
         "133.5",
         "0.0"
        ],
        [
         "50%",
         "56.0",
         "130.0",
         "241.0",
         "153.0",
         "0.8"
        ],
        [
         "75%",
         "61.0",
         "140.0",
         "275.0",
         "166.0",
         "1.6"
        ],
        [
         "max",
         "77.0",
         "200.0",
         "564.0",
         "202.0",
         "6.2"
        ]
       ],
       "shape": {
        "columns": 5,
        "rows": 8
       }
      },
      "text/html": [
       "<div>\n",
       "<style scoped>\n",
       "    .dataframe tbody tr th:only-of-type {\n",
       "        vertical-align: middle;\n",
       "    }\n",
       "\n",
       "    .dataframe tbody tr th {\n",
       "        vertical-align: top;\n",
       "    }\n",
       "\n",
       "    .dataframe thead th {\n",
       "        text-align: right;\n",
       "    }\n",
       "</style>\n",
       "<table border=\"1\" class=\"dataframe\">\n",
       "  <thead>\n",
       "    <tr style=\"text-align: right;\">\n",
       "      <th></th>\n",
       "      <th>age</th>\n",
       "      <th>trestbps</th>\n",
       "      <th>chol</th>\n",
       "      <th>thalach</th>\n",
       "      <th>oldpeak</th>\n",
       "    </tr>\n",
       "  </thead>\n",
       "  <tbody>\n",
       "    <tr>\n",
       "      <th>count</th>\n",
       "      <td>303.000000</td>\n",
       "      <td>303.000000</td>\n",
       "      <td>303.000000</td>\n",
       "      <td>303.000000</td>\n",
       "      <td>303.000000</td>\n",
       "    </tr>\n",
       "    <tr>\n",
       "      <th>mean</th>\n",
       "      <td>54.438944</td>\n",
       "      <td>131.689769</td>\n",
       "      <td>246.693069</td>\n",
       "      <td>149.607261</td>\n",
       "      <td>1.039604</td>\n",
       "    </tr>\n",
       "    <tr>\n",
       "      <th>std</th>\n",
       "      <td>9.038662</td>\n",
       "      <td>17.599748</td>\n",
       "      <td>51.776918</td>\n",
       "      <td>22.875003</td>\n",
       "      <td>1.161075</td>\n",
       "    </tr>\n",
       "    <tr>\n",
       "      <th>min</th>\n",
       "      <td>29.000000</td>\n",
       "      <td>94.000000</td>\n",
       "      <td>126.000000</td>\n",
       "      <td>71.000000</td>\n",
       "      <td>0.000000</td>\n",
       "    </tr>\n",
       "    <tr>\n",
       "      <th>25%</th>\n",
       "      <td>48.000000</td>\n",
       "      <td>120.000000</td>\n",
       "      <td>211.000000</td>\n",
       "      <td>133.500000</td>\n",
       "      <td>0.000000</td>\n",
       "    </tr>\n",
       "    <tr>\n",
       "      <th>50%</th>\n",
       "      <td>56.000000</td>\n",
       "      <td>130.000000</td>\n",
       "      <td>241.000000</td>\n",
       "      <td>153.000000</td>\n",
       "      <td>0.800000</td>\n",
       "    </tr>\n",
       "    <tr>\n",
       "      <th>75%</th>\n",
       "      <td>61.000000</td>\n",
       "      <td>140.000000</td>\n",
       "      <td>275.000000</td>\n",
       "      <td>166.000000</td>\n",
       "      <td>1.600000</td>\n",
       "    </tr>\n",
       "    <tr>\n",
       "      <th>max</th>\n",
       "      <td>77.000000</td>\n",
       "      <td>200.000000</td>\n",
       "      <td>564.000000</td>\n",
       "      <td>202.000000</td>\n",
       "      <td>6.200000</td>\n",
       "    </tr>\n",
       "  </tbody>\n",
       "</table>\n",
       "</div>"
      ],
      "text/plain": [
       "              age    trestbps        chol     thalach     oldpeak\n",
       "count  303.000000  303.000000  303.000000  303.000000  303.000000\n",
       "mean    54.438944  131.689769  246.693069  149.607261    1.039604\n",
       "std      9.038662   17.599748   51.776918   22.875003    1.161075\n",
       "min     29.000000   94.000000  126.000000   71.000000    0.000000\n",
       "25%     48.000000  120.000000  211.000000  133.500000    0.000000\n",
       "50%     56.000000  130.000000  241.000000  153.000000    0.800000\n",
       "75%     61.000000  140.000000  275.000000  166.000000    1.600000\n",
       "max     77.000000  200.000000  564.000000  202.000000    6.200000"
      ]
     },
     "execution_count": 17,
     "metadata": {},
     "output_type": "execute_result"
    }
   ],
   "source": [
    "processed_cleveland_df[numerical_feature_list].describe()"
   ]
  },
  {
   "cell_type": "code",
   "execution_count": 18,
   "metadata": {},
   "outputs": [],
   "source": [
    "# Missing values\n",
    "def check_null_values(df):\n",
    "    null_df = pd.DataFrame({'columns': df.columns, \n",
    "                            'percent_null': df.isnull().sum() * 100 / len(df), \n",
    "                           'percent_zero': df.isin([0]).sum() * 100 / len(df)\n",
    "                           } )\n",
    "    return null_df "
   ]
  },
  {
   "cell_type": "code",
   "execution_count": 19,
   "metadata": {},
   "outputs": [
    {
     "data": {
      "application/vnd.microsoft.datawrangler.viewer.v0+json": {
       "columns": [
        {
         "name": "index",
         "rawType": "object",
         "type": "string"
        },
        {
         "name": "columns",
         "rawType": "object",
         "type": "string"
        },
        {
         "name": "percent_null",
         "rawType": "float64",
         "type": "float"
        },
        {
         "name": "percent_zero",
         "rawType": "float64",
         "type": "float"
        }
       ],
       "ref": "80ceb003-e225-47bc-af30-6cca5127c5ee",
       "rows": [
        [
         "age",
         "age",
         "0.0",
         "0.0"
        ],
        [
         "sex",
         "sex",
         "0.0",
         "32.01320132013201"
        ],
        [
         "cp",
         "cp",
         "0.0",
         "0.0"
        ],
        [
         "trestbps",
         "trestbps",
         "0.0",
         "0.0"
        ],
        [
         "chol",
         "chol",
         "0.0",
         "0.0"
        ],
        [
         "fbs",
         "fbs",
         "0.0",
         "85.14851485148515"
        ],
        [
         "restecg",
         "restecg",
         "0.0",
         "49.834983498349835"
        ],
        [
         "thalach",
         "thalach",
         "0.0",
         "0.0"
        ],
        [
         "exang",
         "exang",
         "0.0",
         "67.32673267326733"
        ],
        [
         "oldpeak",
         "oldpeak",
         "0.0",
         "32.67326732673267"
        ],
        [
         "slope",
         "slope",
         "0.0",
         "0.0"
        ],
        [
         "ca",
         "ca",
         "0.0",
         "0.0"
        ],
        [
         "thal",
         "thal",
         "0.0",
         "0.0"
        ],
        [
         "num_label",
         "num_label",
         "0.0",
         "54.12541254125413"
        ]
       ],
       "shape": {
        "columns": 3,
        "rows": 14
       }
      },
      "text/html": [
       "<div>\n",
       "<style scoped>\n",
       "    .dataframe tbody tr th:only-of-type {\n",
       "        vertical-align: middle;\n",
       "    }\n",
       "\n",
       "    .dataframe tbody tr th {\n",
       "        vertical-align: top;\n",
       "    }\n",
       "\n",
       "    .dataframe thead th {\n",
       "        text-align: right;\n",
       "    }\n",
       "</style>\n",
       "<table border=\"1\" class=\"dataframe\">\n",
       "  <thead>\n",
       "    <tr style=\"text-align: right;\">\n",
       "      <th></th>\n",
       "      <th>columns</th>\n",
       "      <th>percent_null</th>\n",
       "      <th>percent_zero</th>\n",
       "    </tr>\n",
       "  </thead>\n",
       "  <tbody>\n",
       "    <tr>\n",
       "      <th>age</th>\n",
       "      <td>age</td>\n",
       "      <td>0.0</td>\n",
       "      <td>0.000000</td>\n",
       "    </tr>\n",
       "    <tr>\n",
       "      <th>sex</th>\n",
       "      <td>sex</td>\n",
       "      <td>0.0</td>\n",
       "      <td>32.013201</td>\n",
       "    </tr>\n",
       "    <tr>\n",
       "      <th>cp</th>\n",
       "      <td>cp</td>\n",
       "      <td>0.0</td>\n",
       "      <td>0.000000</td>\n",
       "    </tr>\n",
       "    <tr>\n",
       "      <th>trestbps</th>\n",
       "      <td>trestbps</td>\n",
       "      <td>0.0</td>\n",
       "      <td>0.000000</td>\n",
       "    </tr>\n",
       "    <tr>\n",
       "      <th>chol</th>\n",
       "      <td>chol</td>\n",
       "      <td>0.0</td>\n",
       "      <td>0.000000</td>\n",
       "    </tr>\n",
       "    <tr>\n",
       "      <th>fbs</th>\n",
       "      <td>fbs</td>\n",
       "      <td>0.0</td>\n",
       "      <td>85.148515</td>\n",
       "    </tr>\n",
       "    <tr>\n",
       "      <th>restecg</th>\n",
       "      <td>restecg</td>\n",
       "      <td>0.0</td>\n",
       "      <td>49.834983</td>\n",
       "    </tr>\n",
       "    <tr>\n",
       "      <th>thalach</th>\n",
       "      <td>thalach</td>\n",
       "      <td>0.0</td>\n",
       "      <td>0.000000</td>\n",
       "    </tr>\n",
       "    <tr>\n",
       "      <th>exang</th>\n",
       "      <td>exang</td>\n",
       "      <td>0.0</td>\n",
       "      <td>67.326733</td>\n",
       "    </tr>\n",
       "    <tr>\n",
       "      <th>oldpeak</th>\n",
       "      <td>oldpeak</td>\n",
       "      <td>0.0</td>\n",
       "      <td>32.673267</td>\n",
       "    </tr>\n",
       "    <tr>\n",
       "      <th>slope</th>\n",
       "      <td>slope</td>\n",
       "      <td>0.0</td>\n",
       "      <td>0.000000</td>\n",
       "    </tr>\n",
       "    <tr>\n",
       "      <th>ca</th>\n",
       "      <td>ca</td>\n",
       "      <td>0.0</td>\n",
       "      <td>0.000000</td>\n",
       "    </tr>\n",
       "    <tr>\n",
       "      <th>thal</th>\n",
       "      <td>thal</td>\n",
       "      <td>0.0</td>\n",
       "      <td>0.000000</td>\n",
       "    </tr>\n",
       "    <tr>\n",
       "      <th>num_label</th>\n",
       "      <td>num_label</td>\n",
       "      <td>0.0</td>\n",
       "      <td>54.125413</td>\n",
       "    </tr>\n",
       "  </tbody>\n",
       "</table>\n",
       "</div>"
      ],
      "text/plain": [
       "             columns  percent_null  percent_zero\n",
       "age              age           0.0      0.000000\n",
       "sex              sex           0.0     32.013201\n",
       "cp                cp           0.0      0.000000\n",
       "trestbps    trestbps           0.0      0.000000\n",
       "chol            chol           0.0      0.000000\n",
       "fbs              fbs           0.0     85.148515\n",
       "restecg      restecg           0.0     49.834983\n",
       "thalach      thalach           0.0      0.000000\n",
       "exang          exang           0.0     67.326733\n",
       "oldpeak      oldpeak           0.0     32.673267\n",
       "slope          slope           0.0      0.000000\n",
       "ca                ca           0.0      0.000000\n",
       "thal            thal           0.0      0.000000\n",
       "num_label  num_label           0.0     54.125413"
      ]
     },
     "execution_count": 19,
     "metadata": {},
     "output_type": "execute_result"
    }
   ],
   "source": [
    "null_df = check_null_values(processed_cleveland_df)\n",
    "null_df"
   ]
  },
  {
   "cell_type": "markdown",
   "metadata": {},
   "source": [
    "## 4. Outliers"
   ]
  },
  {
   "cell_type": "code",
   "execution_count": 20,
   "metadata": {},
   "outputs": [
    {
     "data": {
      "text/plain": [
       "<Axes: ylabel='age'>"
      ]
     },
     "execution_count": 20,
     "metadata": {},
     "output_type": "execute_result"
    },
    {
     "data": {
      "image/png": "[encoded data removed]",
      "text/plain": [
       "<Figure size 640x480 with 1 Axes>"
      ]
     },
     "metadata": {},
     "output_type": "display_data"
    }
   ],
   "source": [
    "sns.boxplot(y=processed_cleveland_df['age'])"
   ]
  },
  {
   "cell_type": "code",
   "execution_count": 21,
   "metadata": {},
   "outputs": [
    {
     "data": {
      "text/plain": [
       "<Axes: ylabel='chol'>"
      ]
     },
     "execution_count": 21,
     "metadata": {},
     "output_type": "execute_result"
    },
    {
     "data": {
      "image/png": "[encoded data removed]",
      "text/plain": [
       "<Figure size 640x480 with 1 Axes>"
      ]
     },
     "metadata": {},
     "output_type": "display_data"
    }
   ],
   "source": [
    "sns.boxplot(y=processed_cleveland_df['chol'])"
   ]
  },
  {
   "cell_type": "markdown",
   "metadata": {},
   "source": [
    "## 5. High Cardinality"
   ]
  },
  {
   "cell_type": "code",
   "execution_count": 41,
   "metadata": {},
   "outputs": [],
   "source": [
    "# Summary:\n",
    "# - Imports the numpy library as np for numerical operations.\n",
    "# - Defines a function 'create_cardinality_feature' that takes a DataFrame and returns a random array of codes (integers from 100 to 999) with length equal to the number of rows in the DataFrame.\n",
    "# - Defines a function 'count_unique_values' that:\n",
    "#   - Takes a DataFrame and a list of categorical column names.\n",
    "#   - Selects the specified categorical columns from the DataFrame.\n",
    "#   - Adds a new column 'principal_diagnosis_code' with high cardinality random codes.\n",
    "#   - Creates a DataFrame summarizing the number of unique values (cardinality) for each column.\n",
    "#   - Returns this summary DataFrame.\n",
    "\n",
    "import numpy as np\n",
    "def create_cardinality_feature(df):\n",
    "    num_rows = len(df)\n",
    "    random_code_list = np.arange(100, 1000, 1)\n",
    "    return np.random.choice(random_code_list, num_rows)\n",
    "    \n",
    "def count_unique_values(df, cat_col_list):\n",
    "    cat_df = df[cat_col_list]\n",
    "    cat_df['principal_diagnosis_code'] = create_cardinality_feature(cat_df)\n",
    "    #add feature with high cardinality\n",
    "    val_df = pd.DataFrame({'columns': cat_df.columns, \n",
    "                       'cardinality': cat_df.nunique() } )\n",
    "    return val_df"
   ]
  },
  {
   "cell_type": "code",
   "execution_count": 42,
   "metadata": {},
   "outputs": [],
   "source": [
    "categorical_feature_list = [ 'sex', 'cp', 'restecg', 'exang', 'slope', 'ca', 'thal']\n"
   ]
  },
  {
   "cell_type": "code",
   "execution_count": 43,
   "metadata": {},
   "outputs": [
    {
     "name": "stderr",
     "output_type": "stream",
     "text": [
      "/var/folders/sy/nnrjh0cx1897yr6m0_fq9wmc0000gq/T/ipykernel_17597/1661027370.py:19: SettingWithCopyWarning: \n",
      "A value is trying to be set on a copy of a slice from a DataFrame.\n",
      "Try using .loc[row_indexer,col_indexer] = value instead\n",
      "\n",
      "See the caveats in the documentation: https://pandas.pydata.org/pandas-docs/stable/user_guide/indexing.html#returning-a-view-versus-a-copy\n",
      "  cat_df['principal_diagnosis_code'] = create_cardinality_feature(cat_df)\n"
     ]
    },
    {
     "data": {
      "application/vnd.microsoft.datawrangler.viewer.v0+json": {
       "columns": [
        {
         "name": "index",
         "rawType": "object",
         "type": "string"
        },
        {
         "name": "columns",
         "rawType": "object",
         "type": "string"
        },
        {
         "name": "cardinality",
         "rawType": "int64",
         "type": "integer"
        }
       ],
       "ref": "746367ee-a7d6-4d1a-9da2-020a1aed20cd",
       "rows": [
        [
         "sex",
         "sex",
         "2"
        ],
        [
         "cp",
         "cp",
         "4"
        ],
        [
         "restecg",
         "restecg",
         "3"
        ],
        [
         "exang",
         "exang",
         "2"
        ],
        [
         "slope",
         "slope",
         "3"
        ],
        [
         "ca",
         "ca",
         "5"
        ],
        [
         "thal",
         "thal",
         "4"
        ],
        [
         "principal_diagnosis_code",
         "principal_diagnosis_code",
         "265"
        ]
       ],
       "shape": {
        "columns": 2,
        "rows": 8
       }
      },
      "text/html": [
       "<div>\n",
       "<style scoped>\n",
       "    .dataframe tbody tr th:only-of-type {\n",
       "        vertical-align: middle;\n",
       "    }\n",
       "\n",
       "    .dataframe tbody tr th {\n",
       "        vertical-align: top;\n",
       "    }\n",
       "\n",
       "    .dataframe thead th {\n",
       "        text-align: right;\n",
       "    }\n",
       "</style>\n",
       "<table border=\"1\" class=\"dataframe\">\n",
       "  <thead>\n",
       "    <tr style=\"text-align: right;\">\n",
       "      <th></th>\n",
       "      <th>columns</th>\n",
       "      <th>cardinality</th>\n",
       "    </tr>\n",
       "  </thead>\n",
       "  <tbody>\n",
       "    <tr>\n",
       "      <th>sex</th>\n",
       "      <td>sex</td>\n",
       "      <td>2</td>\n",
       "    </tr>\n",
       "    <tr>\n",
       "      <th>cp</th>\n",
       "      <td>cp</td>\n",
       "      <td>4</td>\n",
       "    </tr>\n",
       "    <tr>\n",
       "      <th>restecg</th>\n",
       "      <td>restecg</td>\n",
       "      <td>3</td>\n",
       "    </tr>\n",
       "    <tr>\n",
       "      <th>exang</th>\n",
       "      <td>exang</td>\n",
       "      <td>2</td>\n",
       "    </tr>\n",
       "    <tr>\n",
       "      <th>slope</th>\n",
       "      <td>slope</td>\n",
       "      <td>3</td>\n",
       "    </tr>\n",
       "    <tr>\n",
       "      <th>ca</th>\n",
       "      <td>ca</td>\n",
       "      <td>5</td>\n",
       "    </tr>\n",
       "    <tr>\n",
       "      <th>thal</th>\n",
       "      <td>thal</td>\n",
       "      <td>4</td>\n",
       "    </tr>\n",
       "    <tr>\n",
       "      <th>principal_diagnosis_code</th>\n",
       "      <td>principal_diagnosis_code</td>\n",
       "      <td>265</td>\n",
       "    </tr>\n",
       "  </tbody>\n",
       "</table>\n",
       "</div>"
      ],
      "text/plain": [
       "                                           columns  cardinality\n",
       "sex                                            sex            2\n",
       "cp                                              cp            4\n",
       "restecg                                    restecg            3\n",
       "exang                                        exang            2\n",
       "slope                                        slope            3\n",
       "ca                                              ca            5\n",
       "thal                                          thal            4\n",
       "principal_diagnosis_code  principal_diagnosis_code          265"
      ]
     },
     "execution_count": 43,
     "metadata": {},
     "output_type": "execute_result"
    }
   ],
   "source": [
    "val_df = count_unique_values(processed_cleveland_df, categorical_feature_list) \n",
    "val_df"
   ]
  },
  {
   "cell_type": "markdown",
   "metadata": {},
   "source": [
    "# 6. Demographic Analysis"
   ]
  },
  {
   "cell_type": "code",
   "execution_count": 25,
   "metadata": {},
   "outputs": [],
   "source": [
    "#convert age to bins\n",
    "demo_features = ['sex',  'age' ]\n",
    "demo_df = processed_cleveland_df[demo_features].replace({1:\"male\", 0:\"female\"})\n",
    "age_bins = np.arange(0, 90, 10)\n",
    "a_bin = [str(x) for x in np.arange(0, 90, 10) ]\n",
    "age_labels = [\"\".join(x) for x in zip( [x + \" - \" for x in a_bin[:-1]], a_bin[1:])]\n",
    "demo_df['age_bins'] = pd.cut(demo_df['age'], bins=age_bins, labels=age_labels)"
   ]
  },
  {
   "cell_type": "code",
   "execution_count": 26,
   "metadata": {},
   "outputs": [
    {
     "data": {
      "application/vnd.microsoft.datawrangler.viewer.v0+json": {
       "columns": [
        {
         "name": "index",
         "rawType": "int64",
         "type": "integer"
        },
        {
         "name": "sex",
         "rawType": "object",
         "type": "string"
        },
        {
         "name": "age",
         "rawType": "float64",
         "type": "float"
        },
        {
         "name": "age_bins",
         "rawType": "category",
         "type": "unknown"
        }
       ],
       "ref": "b9bf2d26-25d0-43b4-b982-7c05cbc55df2",
       "rows": [
        [
         "0",
         "male",
         "63.0",
         "60 - 70"
        ],
        [
         "1",
         "male",
         "67.0",
         "60 - 70"
        ],
        [
         "2",
         "male",
         "67.0",
         "60 - 70"
        ],
        [
         "3",
         "male",
         "37.0",
         "30 - 40"
        ],
        [
         "4",
         "female",
         "41.0",
         "40 - 50"
        ],
        [
         "5",
         "male",
         "56.0",
         "50 - 60"
        ],
        [
         "6",
         "female",
         "62.0",
         "60 - 70"
        ],
        [
         "7",
         "female",
         "57.0",
         "50 - 60"
        ],
        [
         "8",
         "male",
         "63.0",
         "60 - 70"
        ],
        [
         "9",
         "male",
         "53.0",
         "50 - 60"
        ],
        [
         "10",
         "male",
         "57.0",
         "50 - 60"
        ],
        [
         "11",
         "female",
         "56.0",
         "50 - 60"
        ],
        [
         "12",
         "male",
         "56.0",
         "50 - 60"
        ],
        [
         "13",
         "male",
         "44.0",
         "40 - 50"
        ],
        [
         "14",
         "male",
         "52.0",
         "50 - 60"
        ],
        [
         "15",
         "male",
         "57.0",
         "50 - 60"
        ],
        [
         "16",
         "male",
         "48.0",
         "40 - 50"
        ],
        [
         "17",
         "male",
         "54.0",
         "50 - 60"
        ],
        [
         "18",
         "female",
         "48.0",
         "40 - 50"
        ],
        [
         "19",
         "male",
         "49.0",
         "40 - 50"
        ],
        [
         "20",
         "male",
         "64.0",
         "60 - 70"
        ],
        [
         "21",
         "female",
         "58.0",
         "50 - 60"
        ],
        [
         "22",
         "male",
         "58.0",
         "50 - 60"
        ],
        [
         "23",
         "male",
         "58.0",
         "50 - 60"
        ],
        [
         "24",
         "male",
         "60.0",
         "50 - 60"
        ],
        [
         "25",
         "female",
         "50.0",
         "40 - 50"
        ],
        [
         "26",
         "female",
         "58.0",
         "50 - 60"
        ],
        [
         "27",
         "female",
         "66.0",
         "60 - 70"
        ],
        [
         "28",
         "male",
         "43.0",
         "40 - 50"
        ],
        [
         "29",
         "male",
         "40.0",
         "30 - 40"
        ],
        [
         "30",
         "female",
         "69.0",
         "60 - 70"
        ],
        [
         "31",
         "male",
         "60.0",
         "50 - 60"
        ],
        [
         "32",
         "male",
         "64.0",
         "60 - 70"
        ],
        [
         "33",
         "male",
         "59.0",
         "50 - 60"
        ],
        [
         "34",
         "male",
         "44.0",
         "40 - 50"
        ],
        [
         "35",
         "male",
         "42.0",
         "40 - 50"
        ],
        [
         "36",
         "male",
         "43.0",
         "40 - 50"
        ],
        [
         "37",
         "male",
         "57.0",
         "50 - 60"
        ],
        [
         "38",
         "male",
         "55.0",
         "50 - 60"
        ],
        [
         "39",
         "male",
         "61.0",
         "60 - 70"
        ],
        [
         "40",
         "female",
         "65.0",
         "60 - 70"
        ],
        [
         "41",
         "male",
         "40.0",
         "30 - 40"
        ],
        [
         "42",
         "female",
         "71.0",
         "70 - 80"
        ],
        [
         "43",
         "male",
         "59.0",
         "50 - 60"
        ],
        [
         "44",
         "female",
         "61.0",
         "60 - 70"
        ],
        [
         "45",
         "male",
         "58.0",
         "50 - 60"
        ],
        [
         "46",
         "male",
         "51.0",
         "50 - 60"
        ],
        [
         "47",
         "male",
         "50.0",
         "40 - 50"
        ],
        [
         "48",
         "female",
         "65.0",
         "60 - 70"
        ],
        [
         "49",
         "male",
         "53.0",
         "50 - 60"
        ]
       ],
       "shape": {
        "columns": 3,
        "rows": 303
       }
      },
      "text/html": [
       "<div>\n",
       "<style scoped>\n",
       "    .dataframe tbody tr th:only-of-type {\n",
       "        vertical-align: middle;\n",
       "    }\n",
       "\n",
       "    .dataframe tbody tr th {\n",
       "        vertical-align: top;\n",
       "    }\n",
       "\n",
       "    .dataframe thead th {\n",
       "        text-align: right;\n",
       "    }\n",
       "</style>\n",
       "<table border=\"1\" class=\"dataframe\">\n",
       "  <thead>\n",
       "    <tr style=\"text-align: right;\">\n",
       "      <th></th>\n",
       "      <th>sex</th>\n",
       "      <th>age</th>\n",
       "      <th>age_bins</th>\n",
       "    </tr>\n",
       "  </thead>\n",
       "  <tbody>\n",
       "    <tr>\n",
       "      <th>0</th>\n",
       "      <td>male</td>\n",
       "      <td>63.0</td>\n",
       "      <td>60 - 70</td>\n",
       "    </tr>\n",
       "    <tr>\n",
       "      <th>1</th>\n",
       "      <td>male</td>\n",
       "      <td>67.0</td>\n",
       "      <td>60 - 70</td>\n",
       "    </tr>\n",
       "    <tr>\n",
       "      <th>2</th>\n",
       "      <td>male</td>\n",
       "      <td>67.0</td>\n",
       "      <td>60 - 70</td>\n",
       "    </tr>\n",
       "    <tr>\n",
       "      <th>3</th>\n",
       "      <td>male</td>\n",
       "      <td>37.0</td>\n",
       "      <td>30 - 40</td>\n",
       "    </tr>\n",
       "    <tr>\n",
       "      <th>4</th>\n",
       "      <td>female</td>\n",
       "      <td>41.0</td>\n",
       "      <td>40 - 50</td>\n",
       "    </tr>\n",
       "    <tr>\n",
       "      <th>...</th>\n",
       "      <td>...</td>\n",
       "      <td>...</td>\n",
       "      <td>...</td>\n",
       "    </tr>\n",
       "    <tr>\n",
       "      <th>298</th>\n",
       "      <td>male</td>\n",
       "      <td>45.0</td>\n",
       "      <td>40 - 50</td>\n",
       "    </tr>\n",
       "    <tr>\n",
       "      <th>299</th>\n",
       "      <td>male</td>\n",
       "      <td>68.0</td>\n",
       "      <td>60 - 70</td>\n",
       "    </tr>\n",
       "    <tr>\n",
       "      <th>300</th>\n",
       "      <td>male</td>\n",
       "      <td>57.0</td>\n",
       "      <td>50 - 60</td>\n",
       "    </tr>\n",
       "    <tr>\n",
       "      <th>301</th>\n",
       "      <td>female</td>\n",
       "      <td>57.0</td>\n",
       "      <td>50 - 60</td>\n",
       "    </tr>\n",
       "    <tr>\n",
       "      <th>302</th>\n",
       "      <td>male</td>\n",
       "      <td>38.0</td>\n",
       "      <td>30 - 40</td>\n",
       "    </tr>\n",
       "  </tbody>\n",
       "</table>\n",
       "<p>303 rows × 3 columns</p>\n",
       "</div>"
      ],
      "text/plain": [
       "        sex   age age_bins\n",
       "0      male  63.0  60 - 70\n",
       "1      male  67.0  60 - 70\n",
       "2      male  67.0  60 - 70\n",
       "3      male  37.0  30 - 40\n",
       "4    female  41.0  40 - 50\n",
       "..      ...   ...      ...\n",
       "298    male  45.0  40 - 50\n",
       "299    male  68.0  60 - 70\n",
       "300    male  57.0  50 - 60\n",
       "301  female  57.0  50 - 60\n",
       "302    male  38.0  30 - 40\n",
       "\n",
       "[303 rows x 3 columns]"
      ]
     },
     "execution_count": 26,
     "metadata": {},
     "output_type": "execute_result"
    }
   ],
   "source": [
    "demo_df"
   ]
  },
  {
   "cell_type": "markdown",
   "metadata": {},
   "source": [
    "### Group by Age Bins"
   ]
  },
  {
   "cell_type": "code",
   "execution_count": 27,
   "metadata": {},
   "outputs": [
    {
     "data": {
      "image/png": "[encoded data removed]",
      "text/plain": [
       "<Figure size 640x480 with 1 Axes>"
      ]
     },
     "metadata": {},
     "output_type": "display_data"
    }
   ],
   "source": [
    "ax = sns.countplot(x=\"age_bins\", data=demo_df)"
   ]
  },
  {
   "cell_type": "markdown",
   "metadata": {},
   "source": [
    "### Group by Gender and Age Bins"
   ]
  },
  {
   "cell_type": "code",
   "execution_count": 28,
   "metadata": {},
   "outputs": [
    {
     "data": {
      "image/png": "[encoded data removed]",
      "text/plain": [
       "<Figure size 640x480 with 1 Axes>"
      ]
     },
     "metadata": {},
     "output_type": "display_data"
    }
   ],
   "source": [
    "ax = sns.countplot(x=\"age_bins\", hue=\"sex\", data=demo_df)"
   ]
  },
  {
   "cell_type": "code",
   "execution_count": null,
   "metadata": {},
   "outputs": [],
   "source": []
  },
  {
   "cell_type": "code",
   "execution_count": null,
   "metadata": {},
   "outputs": [],
   "source": []
  },
  {
   "cell_type": "code",
   "execution_count": null,
   "metadata": {},
   "outputs": [],
   "source": []
  },
  {
   "cell_type": "code",
   "execution_count": null,
   "metadata": {},
   "outputs": [],
   "source": []
  },
  {
   "cell_type": "code",
   "execution_count": null,
   "metadata": {},
   "outputs": [],
   "source": []
  },
  {
   "cell_type": "code",
   "execution_count": null,
   "metadata": {},
   "outputs": [],
   "source": []
  },
  {
   "cell_type": "code",
   "execution_count": null,
   "metadata": {},
   "outputs": [],
   "source": []
  },
  {
   "cell_type": "code",
   "execution_count": null,
   "metadata": {},
   "outputs": [],
   "source": []
  },
  {
   "cell_type": "code",
   "execution_count": null,
   "metadata": {},
   "outputs": [],
   "source": []
  },
  {
   "cell_type": "code",
   "execution_count": null,
   "metadata": {},
   "outputs": [],
   "source": []
  }
 ],
 "metadata": {
  "kernelspec": {
   "display_name": "anup_prompt_venv",
   "language": "python",
   "name": "python3"
  },
  "language_info": {
   "codemirror_mode": {
    "name": "ipython",
    "version": 3
   },
   "file_extension": ".py",
   "mimetype": "text/x-python",
   "name": "python",
   "nbconvert_exporter": "python",
   "pygments_lexer": "ipython3",
   "version": "3.12.7"
  }
 },
 "nbformat": 4,
 "nbformat_minor": 2
}
