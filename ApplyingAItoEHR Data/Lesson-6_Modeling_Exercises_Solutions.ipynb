{
 "cells": [
  {
   "cell_type": "markdown",
   "metadata": {},
   "source": [
    "## L5 - 1: Regression Model with TF DenseFeatures"
   ]
  },
  {
   "cell_type": "markdown",
   "metadata": {},
   "source": [
    "### Instructions\n",
    "- Build regression model to predict resting blood pressure (trestbps field in the dataset) using Tensorflow DenseFeatures\n",
    "- Please include the age and sex features and create a TF cross feature(https://www.tensorflow.org/api_docs/python/tf/feature_column/crossed_column) with them by binning the age field \n",
    "- Evaluate with common regression(MSE, MAE) and classification metrics(accuracy, F1, precision and recall across classes, AUC). No ROC or PR curve needed since this is a regression model that was converted to have a binary output and does not have the confidence in a given prediction."
   ]
  },
  {
   "cell_type": "code",
   "execution_count": 1,
   "metadata": {},
   "outputs": [],
   "source": [
    "import pandas as pd\n",
    "import numpy as np\n",
    "import tensorflow as tf\n",
    "#from https://archive.ics.uci.edu/ml/datasets/Heart+Disease\n",
    "swiss_dataset_path = \"./data/heart_disease_data/processed_swiss.csv\"\n",
    "swiss_df = pd.read_csv(swiss_dataset_path).replace('?', np.nan)"
   ]
  },
  {
   "cell_type": "code",
   "execution_count": 2,
   "metadata": {},
   "outputs": [],
   "source": [
    "column_list = ['age', 'sex', 'cp', 'trestbps', 'chol', 'fbs', 'restecg', 'thalach',\n",
    "       'exang', 'oldpeak', 'slope', 'ca', 'thal', 'num_label']"
   ]
  },
  {
   "cell_type": "code",
   "execution_count": 3,
   "metadata": {},
   "outputs": [],
   "source": [
    "cleveland_df = pd.read_csv(\"./data/heart_disease_data/processed.cleveland.txt\",  names=column_list).replace('?', np.nan)"
   ]
  },
  {
   "cell_type": "code",
   "execution_count": 4,
   "metadata": {},
   "outputs": [],
   "source": [
    "combined_heart_df = pd.concat([swiss_df, cleveland_df])"
   ]
  },
  {
   "cell_type": "code",
   "execution_count": 5,
   "metadata": {},
   "outputs": [
    {
     "data": {
      "text/plain": [
       "426"
      ]
     },
     "execution_count": 5,
     "metadata": {},
     "output_type": "execute_result"
    }
   ],
   "source": [
    "len(combined_heart_df)"
   ]
  },
  {
   "cell_type": "markdown",
   "metadata": {},
   "source": [
    "### Solution\n",
    "- Note that the dataset has only a three features and for the solution provided this does not include other important features that you can use to augment model performance. "
   ]
  },
  {
   "cell_type": "code",
   "execution_count": 6,
   "metadata": {},
   "outputs": [],
   "source": [
    "selected_features = ['sex',  'age', 'trestbps', 'thalach' ]\n",
    "bp_df = combined_heart_df[selected_features].replace({1:\"male\", 0:\"female\"})"
   ]
  },
  {
   "cell_type": "code",
   "execution_count": 7,
   "metadata": {},
   "outputs": [
    {
     "data": {
      "text/plain": [
       "2"
      ]
     },
     "execution_count": 7,
     "metadata": {},
     "output_type": "execute_result"
    }
   ],
   "source": [
    "# how many rows with at least a single null value\n",
    "sum(bp_df.apply(lambda x: sum(x.isnull().values), axis = 1)>0)"
   ]
  },
  {
   "cell_type": "code",
   "execution_count": 8,
   "metadata": {},
   "outputs": [
    {
     "data": {
      "text/plain": [
       "2"
      ]
     },
     "execution_count": 8,
     "metadata": {},
     "output_type": "execute_result"
    }
   ],
   "source": [
    "len(bp_df[bp_df['trestbps'].isnull()==True])"
   ]
  },
  {
   "cell_type": "code",
   "execution_count": 9,
   "metadata": {},
   "outputs": [
    {
     "data": {
      "application/vnd.microsoft.datawrangler.viewer.v0+json": {
       "columns": [
        {
         "name": "index",
         "rawType": "int64",
         "type": "integer"
        },
        {
         "name": "sex",
         "rawType": "object",
         "type": "string"
        },
        {
         "name": "age",
         "rawType": "float64",
         "type": "float"
        },
        {
         "name": "trestbps",
         "rawType": "object",
         "type": "unknown"
        },
        {
         "name": "thalach",
         "rawType": "object",
         "type": "string"
        }
       ],
       "ref": "66cbd1c6-ef49-4460-8ef6-dd71c51c45f8",
       "rows": [
        [
         "0",
         "male",
         "32.0",
         "95",
         "127"
        ],
        [
         "1",
         "male",
         "34.0",
         "115",
         "154"
        ],
        [
         "2",
         "male",
         "35.0",
         null,
         "130"
        ],
        [
         "3",
         "male",
         "36.0",
         "110",
         "125"
        ],
        [
         "4",
         "female",
         "38.0",
         "105",
         "166"
        ]
       ],
       "shape": {
        "columns": 4,
        "rows": 5
       }
      },
      "text/html": [
       "<div>\n",
       "<style scoped>\n",
       "    .dataframe tbody tr th:only-of-type {\n",
       "        vertical-align: middle;\n",
       "    }\n",
       "\n",
       "    .dataframe tbody tr th {\n",
       "        vertical-align: top;\n",
       "    }\n",
       "\n",
       "    .dataframe thead th {\n",
       "        text-align: right;\n",
       "    }\n",
       "</style>\n",
       "<table border=\"1\" class=\"dataframe\">\n",
       "  <thead>\n",
       "    <tr style=\"text-align: right;\">\n",
       "      <th></th>\n",
       "      <th>sex</th>\n",
       "      <th>age</th>\n",
       "      <th>trestbps</th>\n",
       "      <th>thalach</th>\n",
       "    </tr>\n",
       "  </thead>\n",
       "  <tbody>\n",
       "    <tr>\n",
       "      <th>0</th>\n",
       "      <td>male</td>\n",
       "      <td>32.0</td>\n",
       "      <td>95</td>\n",
       "      <td>127</td>\n",
       "    </tr>\n",
       "    <tr>\n",
       "      <th>1</th>\n",
       "      <td>male</td>\n",
       "      <td>34.0</td>\n",
       "      <td>115</td>\n",
       "      <td>154</td>\n",
       "    </tr>\n",
       "    <tr>\n",
       "      <th>2</th>\n",
       "      <td>male</td>\n",
       "      <td>35.0</td>\n",
       "      <td>NaN</td>\n",
       "      <td>130</td>\n",
       "    </tr>\n",
       "    <tr>\n",
       "      <th>3</th>\n",
       "      <td>male</td>\n",
       "      <td>36.0</td>\n",
       "      <td>110</td>\n",
       "      <td>125</td>\n",
       "    </tr>\n",
       "    <tr>\n",
       "      <th>4</th>\n",
       "      <td>female</td>\n",
       "      <td>38.0</td>\n",
       "      <td>105</td>\n",
       "      <td>166</td>\n",
       "    </tr>\n",
       "  </tbody>\n",
       "</table>\n",
       "</div>"
      ],
      "text/plain": [
       "      sex   age trestbps thalach\n",
       "0    male  32.0       95     127\n",
       "1    male  34.0      115     154\n",
       "2    male  35.0      NaN     130\n",
       "3    male  36.0      110     125\n",
       "4  female  38.0      105     166"
      ]
     },
     "execution_count": 9,
     "metadata": {},
     "output_type": "execute_result"
    }
   ],
   "source": [
    "bp_df.head()"
   ]
  },
  {
   "cell_type": "code",
   "execution_count": 10,
   "metadata": {},
   "outputs": [],
   "source": [
    "#for simplicity will drop rows with null since predictor is null\n",
    "clean_df = bp_df.dropna()"
   ]
  },
  {
   "cell_type": "code",
   "execution_count": 11,
   "metadata": {},
   "outputs": [
    {
     "data": {
      "application/vnd.microsoft.datawrangler.viewer.v0+json": {
       "columns": [
        {
         "name": "index",
         "rawType": "int64",
         "type": "integer"
        },
        {
         "name": "sex",
         "rawType": "object",
         "type": "string"
        },
        {
         "name": "age",
         "rawType": "float64",
         "type": "float"
        },
        {
         "name": "trestbps",
         "rawType": "object",
         "type": "string"
        },
        {
         "name": "thalach",
         "rawType": "object",
         "type": "string"
        }
       ],
       "ref": "f2d65afd-520a-4f7d-bbbb-9ebdb9706502",
       "rows": [
        [
         "0",
         "male",
         "32.0",
         "95",
         "127"
        ],
        [
         "1",
         "male",
         "34.0",
         "115",
         "154"
        ],
        [
         "3",
         "male",
         "36.0",
         "110",
         "125"
        ],
        [
         "4",
         "female",
         "38.0",
         "105",
         "166"
        ],
        [
         "5",
         "female",
         "38.0",
         "110",
         "156"
        ]
       ],
       "shape": {
        "columns": 4,
        "rows": 5
       }
      },
      "text/html": [
       "<div>\n",
       "<style scoped>\n",
       "    .dataframe tbody tr th:only-of-type {\n",
       "        vertical-align: middle;\n",
       "    }\n",
       "\n",
       "    .dataframe tbody tr th {\n",
       "        vertical-align: top;\n",
       "    }\n",
       "\n",
       "    .dataframe thead th {\n",
       "        text-align: right;\n",
       "    }\n",
       "</style>\n",
       "<table border=\"1\" class=\"dataframe\">\n",
       "  <thead>\n",
       "    <tr style=\"text-align: right;\">\n",
       "      <th></th>\n",
       "      <th>sex</th>\n",
       "      <th>age</th>\n",
       "      <th>trestbps</th>\n",
       "      <th>thalach</th>\n",
       "    </tr>\n",
       "  </thead>\n",
       "  <tbody>\n",
       "    <tr>\n",
       "      <th>0</th>\n",
       "      <td>male</td>\n",
       "      <td>32.0</td>\n",
       "      <td>95</td>\n",
       "      <td>127</td>\n",
       "    </tr>\n",
       "    <tr>\n",
       "      <th>1</th>\n",
       "      <td>male</td>\n",
       "      <td>34.0</td>\n",
       "      <td>115</td>\n",
       "      <td>154</td>\n",
       "    </tr>\n",
       "    <tr>\n",
       "      <th>3</th>\n",
       "      <td>male</td>\n",
       "      <td>36.0</td>\n",
       "      <td>110</td>\n",
       "      <td>125</td>\n",
       "    </tr>\n",
       "    <tr>\n",
       "      <th>4</th>\n",
       "      <td>female</td>\n",
       "      <td>38.0</td>\n",
       "      <td>105</td>\n",
       "      <td>166</td>\n",
       "    </tr>\n",
       "    <tr>\n",
       "      <th>5</th>\n",
       "      <td>female</td>\n",
       "      <td>38.0</td>\n",
       "      <td>110</td>\n",
       "      <td>156</td>\n",
       "    </tr>\n",
       "  </tbody>\n",
       "</table>\n",
       "</div>"
      ],
      "text/plain": [
       "      sex   age trestbps thalach\n",
       "0    male  32.0       95     127\n",
       "1    male  34.0      115     154\n",
       "3    male  36.0      110     125\n",
       "4  female  38.0      105     166\n",
       "5  female  38.0      110     156"
      ]
     },
     "execution_count": 11,
     "metadata": {},
     "output_type": "execute_result"
    }
   ],
   "source": [
    "clean_df.head()"
   ]
  },
  {
   "cell_type": "code",
   "execution_count": 12,
   "metadata": {},
   "outputs": [
    {
     "name": "stderr",
     "output_type": "stream",
     "text": [
      "/var/folders/sy/nnrjh0cx1897yr6m0_fq9wmc0000gq/T/ipykernel_41606/2110516164.py:1: SettingWithCopyWarning: \n",
      "A value is trying to be set on a copy of a slice from a DataFrame.\n",
      "Try using .loc[row_indexer,col_indexer] = value instead\n",
      "\n",
      "See the caveats in the documentation: https://pandas.pydata.org/pandas-docs/stable/user_guide/indexing.html#returning-a-view-versus-a-copy\n",
      "  clean_df['trestbps'] = clean_df['trestbps'].astype(float)\n",
      "/var/folders/sy/nnrjh0cx1897yr6m0_fq9wmc0000gq/T/ipykernel_41606/2110516164.py:2: SettingWithCopyWarning: \n",
      "A value is trying to be set on a copy of a slice from a DataFrame.\n",
      "Try using .loc[row_indexer,col_indexer] = value instead\n",
      "\n",
      "See the caveats in the documentation: https://pandas.pydata.org/pandas-docs/stable/user_guide/indexing.html#returning-a-view-versus-a-copy\n",
      "  clean_df['thalach'] = clean_df['thalach'].astype(float)\n"
     ]
    }
   ],
   "source": [
    "clean_df['trestbps'] = clean_df['trestbps'].astype(float)\n",
    "clean_df['thalach'] = clean_df['thalach'].astype(float)"
   ]
  },
  {
   "cell_type": "code",
   "execution_count": 13,
   "metadata": {},
   "outputs": [],
   "source": [
    "#adapted from https://www.tensorflow.org/tutorials/structured_data/feature_columns\n",
    "def df_to_dataset(df, predictor,  batch_size=32):\n",
    "    df = df.copy()\n",
    "    labels = df.pop(predictor)\n",
    "    ds = tf.data.Dataset.from_tensor_slices((dict(df), labels))\n",
    "    ds = ds.shuffle(buffer_size=len(df))\n",
    "    ds = ds.batch(batch_size)\n",
    "    return ds"
   ]
  },
  {
   "cell_type": "code",
   "execution_count": 14,
   "metadata": {},
   "outputs": [],
   "source": [
    "#split 80 20 train test split - not ideal\n",
    "train_dataset = clean_df.sample(frac=0.8,random_state=0)\n",
    "test_dataset = clean_df.drop(train_dataset.index)"
   ]
  },
  {
   "cell_type": "code",
   "execution_count": 15,
   "metadata": {},
   "outputs": [],
   "source": [
    "PREDICTOR_FIELD = 'trestbps'\n",
    "batch_size = 128\n",
    "train_ds = df_to_dataset(train_dataset, PREDICTOR_FIELD, batch_size=batch_size)\n",
    "test_ds = df_to_dataset(test_dataset, PREDICTOR_FIELD, batch_size=batch_size)"
   ]
  },
  {
   "cell_type": "code",
   "execution_count": 16,
   "metadata": {},
   "outputs": [
    {
     "data": {
      "text/plain": [
       "<_BatchDataset element_spec=({'sex': TensorSpec(shape=(None,), dtype=tf.string, name=None), 'age': TensorSpec(shape=(None,), dtype=tf.float64, name=None), 'thalach': TensorSpec(shape=(None,), dtype=tf.float64, name=None)}, TensorSpec(shape=(None,), dtype=tf.float64, name=None))>"
      ]
     },
     "execution_count": 16,
     "metadata": {},
     "output_type": "execute_result"
    }
   ],
   "source": [
    "train_ds"
   ]
  },
  {
   "cell_type": "code",
   "execution_count": 17,
   "metadata": {},
   "outputs": [
    {
     "name": "stdout",
     "output_type": "stream",
     "text": [
      "WARNING:tensorflow:From /var/folders/sy/nnrjh0cx1897yr6m0_fq9wmc0000gq/T/ipykernel_41606/788383791.py:2: numeric_column (from tensorflow.python.feature_column.feature_column_v2) is deprecated and will be removed in a future version.\n",
      "Instructions for updating:\n",
      "Use Keras preprocessing layers instead, either directly or via the `tf.keras.utils.FeatureSpace` utility. Each of `tf.feature_column.*` has a functional equivalent in `tf.keras.layers` for feature preprocessing when training a Keras model.\n"
     ]
    }
   ],
   "source": [
    "# create TF numeric feature\n",
    "tf_numeric_age_feature = tf.feature_column.numeric_column(key='age', default_value=0, dtype=tf.float64)"
   ]
  },
  {
   "cell_type": "code",
   "execution_count": 18,
   "metadata": {},
   "outputs": [
    {
     "name": "stdout",
     "output_type": "stream",
     "text": [
      "WARNING:tensorflow:From /var/folders/sy/nnrjh0cx1897yr6m0_fq9wmc0000gq/T/ipykernel_41606/2599062884.py:4: bucketized_column (from tensorflow.python.feature_column.feature_column_v2) is deprecated and will be removed in a future version.\n",
      "Instructions for updating:\n",
      "Use Keras preprocessing layers instead, either directly or via the `tf.keras.utils.FeatureSpace` utility. Each of `tf.feature_column.*` has a functional equivalent in `tf.keras.layers` for feature preprocessing when training a Keras model.\n"
     ]
    }
   ],
   "source": [
    "b_list = [ 0, 18, 25, 40, 55, 65, 80, 100]\n",
    "#create TF bucket feature from numeric feature\n",
    "tf_numeric_age_feature\n",
    "tf_bucket_age_feature = tf.feature_column.bucketized_column(source_column=tf_numeric_age_feature, boundaries= b_list)"
   ]
  },
  {
   "cell_type": "code",
   "execution_count": 19,
   "metadata": {},
   "outputs": [
    {
     "name": "stdout",
     "output_type": "stream",
     "text": [
      "WARNING:tensorflow:From /var/folders/sy/nnrjh0cx1897yr6m0_fq9wmc0000gq/T/ipykernel_41606/1650886993.py:2: categorical_column_with_vocabulary_list (from tensorflow.python.feature_column.feature_column_v2) is deprecated and will be removed in a future version.\n",
      "Instructions for updating:\n",
      "Use Keras preprocessing layers instead, either directly or via the `tf.keras.utils.FeatureSpace` utility. Each of `tf.feature_column.*` has a functional equivalent in `tf.keras.layers` for feature preprocessing when training a Keras model.\n",
      "WARNING:tensorflow:From /var/folders/sy/nnrjh0cx1897yr6m0_fq9wmc0000gq/T/ipykernel_41606/1650886993.py:4: indicator_column (from tensorflow.python.feature_column.feature_column_v2) is deprecated and will be removed in a future version.\n",
      "Instructions for updating:\n",
      "Use Keras preprocessing layers instead, either directly or via the `tf.keras.utils.FeatureSpace` utility. Each of `tf.feature_column.*` has a functional equivalent in `tf.keras.layers` for feature preprocessing when training a Keras model.\n"
     ]
    }
   ],
   "source": [
    "#using list b/c small number of unique values\n",
    "gender_vocab = tf.feature_column.categorical_column_with_vocabulary_list(\n",
    "      'sex', bp_df['sex'].unique())\n",
    "gender_one_hot = tf.feature_column.indicator_column(gender_vocab)"
   ]
  },
  {
   "cell_type": "code",
   "execution_count": 20,
   "metadata": {},
   "outputs": [
    {
     "name": "stdout",
     "output_type": "stream",
     "text": [
      "WARNING:tensorflow:From /var/folders/sy/nnrjh0cx1897yr6m0_fq9wmc0000gq/T/ipykernel_41606/822347011.py:2: crossed_column (from tensorflow.python.feature_column.feature_column_v2) is deprecated and will be removed in a future version.\n",
      "Instructions for updating:\n",
      "Use `tf.keras.layers.experimental.preprocessing.HashedCrossing` instead for feature crossing when preprocessing data to train a Keras model.\n"
     ]
    }
   ],
   "source": [
    "# add cross features - use example from TF\n",
    "crossed_age_gender_feature = tf.feature_column.crossed_column([tf_bucket_age_feature, gender_vocab], hash_bucket_size=1000)\n",
    "tf_crossed_age_gender_feature = tf.feature_column.indicator_column(crossed_age_gender_feature)"
   ]
  },
  {
   "cell_type": "code",
   "execution_count": 21,
   "metadata": {},
   "outputs": [
    {
     "ename": "AttributeError",
     "evalue": "module 'keras._tf_keras.keras.layers' has no attribute 'DenseFeatures'",
     "output_type": "error",
     "traceback": [
      "\u001b[0;31m---------------------------------------------------------------------------\u001b[0m",
      "\u001b[0;31mAttributeError\u001b[0m                            Traceback (most recent call last)",
      "Cell \u001b[0;32mIn[21], line 2\u001b[0m\n\u001b[1;32m      1\u001b[0m feature_columns \u001b[38;5;241m=\u001b[39m [ tf_crossed_age_gender_feature, tf_bucket_age_feature, gender_one_hot ]\n\u001b[0;32m----> 2\u001b[0m dense_feature_layer \u001b[38;5;241m=\u001b[39m \u001b[43mtf\u001b[49m\u001b[38;5;241;43m.\u001b[39;49m\u001b[43mkeras\u001b[49m\u001b[38;5;241;43m.\u001b[39;49m\u001b[43mlayers\u001b[49m\u001b[38;5;241;43m.\u001b[39;49m\u001b[43mDenseFeatures\u001b[49m(feature_columns)\n",
      "\u001b[0;31mAttributeError\u001b[0m: module 'keras._tf_keras.keras.layers' has no attribute 'DenseFeatures'"
     ]
    }
   ],
   "source": [
    "feature_columns = [ tf_crossed_age_gender_feature, tf_bucket_age_feature, gender_one_hot ]\n",
    "dense_feature_layer = tf.keras.layers.DenseFeatures(feature_columns)"
   ]
  },
  {
   "cell_type": "code",
   "execution_count": 22,
   "metadata": {},
   "outputs": [],
   "source": [
    "# Use same architecture as example\n",
    "def build_model(dense_feature_layer):\n",
    "  model = tf.keras.Sequential([\n",
    "    dense_feature_layer,\n",
    "    tf.keras.layers.Dense(64, activation='relu'),\n",
    "    tf.keras.layers.Dense(64, activation='relu'),\n",
    "    tf.keras.layers.Dense(1)\n",
    "  ])\n",
    "\n",
    "  optimizer = tf.keras.optimizers.RMSprop(0.001)\n",
    "\n",
    "  model.compile(loss='mse',\n",
    "                optimizer=optimizer,\n",
    "                metrics=['mae', 'mse'])\n",
    "  return model"
   ]
  },
  {
   "cell_type": "code",
   "execution_count": 23,
   "metadata": {},
   "outputs": [
    {
     "ename": "NameError",
     "evalue": "name 'dense_feature_layer' is not defined",
     "output_type": "error",
     "traceback": [
      "\u001b[0;31m---------------------------------------------------------------------------\u001b[0m",
      "\u001b[0;31mNameError\u001b[0m                                 Traceback (most recent call last)",
      "Cell \u001b[0;32mIn[23], line 1\u001b[0m\n\u001b[0;32m----> 1\u001b[0m model \u001b[38;5;241m=\u001b[39m build_model(\u001b[43mdense_feature_layer\u001b[49m)\n",
      "\u001b[0;31mNameError\u001b[0m: name 'dense_feature_layer' is not defined"
     ]
    }
   ],
   "source": [
    "model = build_model(dense_feature_layer)"
   ]
  },
  {
   "cell_type": "code",
   "execution_count": null,
   "metadata": {},
   "outputs": [
    {
     "name": "stdout",
     "output_type": "stream",
     "text": [
      "WARNING:tensorflow:From /opt/conda/lib/python3.7/site-packages/tensorflow_core/python/feature_column/feature_column_v2.py:4267: IndicatorColumn._variable_shape (from tensorflow.python.feature_column.feature_column_v2) is deprecated and will be removed in a future version.\n",
      "Instructions for updating:\n",
      "The old _FeatureColumn APIs are being deprecated. Please use the new FeatureColumn APIs instead.\n",
      "WARNING:tensorflow:From /opt/conda/lib/python3.7/site-packages/tensorflow_core/python/feature_column/feature_column_v2.py:4322: CrossedColumn._num_buckets (from tensorflow.python.feature_column.feature_column_v2) is deprecated and will be removed in a future version.\n",
      "Instructions for updating:\n",
      "The old _FeatureColumn APIs are being deprecated. Please use the new FeatureColumn APIs instead.\n",
      "WARNING:tensorflow:From /opt/conda/lib/python3.7/site-packages/tensorflow_core/python/feature_column/feature_column_v2.py:4322: VocabularyListCategoricalColumn._num_buckets (from tensorflow.python.feature_column.feature_column_v2) is deprecated and will be removed in a future version.\n",
      "Instructions for updating:\n",
      "The old _FeatureColumn APIs are being deprecated. Please use the new FeatureColumn APIs instead.\n",
      "Train for 3 steps\n",
      "Epoch 1/1000\n",
      "3/3 [==============================] - 1s 481ms/step - loss: 17558.0907 - mae: 131.0745 - mse: 17545.7910\n",
      "Epoch 2/1000\n",
      "3/3 [==============================] - 0s 16ms/step - loss: 17595.1989 - mae: 130.9139 - mse: 17503.6777\n",
      "Epoch 3/1000\n",
      "3/3 [==============================] - 0s 17ms/step - loss: 17435.2409 - mae: 130.7810 - mse: 17468.9766\n",
      "Epoch 4/1000\n",
      "3/3 [==============================] - 0s 14ms/step - loss: 17398.4541 - mae: 130.6364 - mse: 17431.0430\n",
      "Epoch 5/1000\n",
      "3/3 [==============================] - 0s 18ms/step - loss: 17378.1065 - mae: 130.4600 - mse: 17384.9160\n",
      "Epoch 6/1000\n",
      "3/3 [==============================] - 0s 17ms/step - loss: 17399.2167 - mae: 130.2536 - mse: 17330.8965\n",
      "Epoch 7/1000\n",
      "3/3 [==============================] - 0s 19ms/step - loss: 17293.7836 - mae: 130.0135 - mse: 17268.3750\n",
      "Epoch 8/1000\n",
      "3/3 [==============================] - 0s 18ms/step - loss: 17201.8303 - mae: 129.7377 - mse: 17196.7715\n",
      "Epoch 9/1000\n",
      "3/3 [==============================] - 0s 17ms/step - loss: 17204.1974 - mae: 129.4272 - mse: 17116.0352\n",
      "Epoch 10/1000\n",
      "3/3 [==============================] - 0s 18ms/step - loss: 17053.7452 - mae: 129.0742 - mse: 17025.0508\n",
      "Epoch 11/1000\n",
      "3/3 [==============================] - 0s 18ms/step - loss: 16968.2893 - mae: 128.6794 - mse: 16923.2852\n",
      "Epoch 12/1000\n",
      "3/3 [==============================] - 0s 17ms/step - loss: 16837.3806 - mae: 128.2412 - mse: 16810.7070\n",
      "Epoch 13/1000\n",
      "3/3 [==============================] - 0s 18ms/step - loss: 16692.2485 - mae: 127.7602 - mse: 16687.2656\n",
      "Epoch 14/1000\n",
      "3/3 [==============================] - 0s 19ms/step - loss: 16488.2287 - mae: 127.2336 - mse: 16553.5859\n",
      "Epoch 15/1000\n",
      "3/3 [==============================] - 0s 18ms/step - loss: 16432.4928 - mae: 126.6617 - mse: 16407.6250\n",
      "Epoch 16/1000\n",
      "3/3 [==============================] - 0s 15ms/step - loss: 16283.9375 - mae: 126.0303 - mse: 16247.5898\n",
      "Epoch 17/1000\n",
      "3/3 [==============================] - 0s 17ms/step - loss: 16117.8967 - mae: 125.3503 - mse: 16076.8066\n",
      "Epoch 18/1000\n",
      "3/3 [==============================] - 0s 19ms/step - loss: 15892.9181 - mae: 124.6179 - mse: 15894.3984\n",
      "Epoch 19/1000\n",
      "3/3 [==============================] - 0s 17ms/step - loss: 15684.5043 - mae: 123.8410 - mse: 15701.3154\n",
      "Epoch 20/1000\n",
      "3/3 [==============================] - 0s 19ms/step - loss: 15512.9291 - mae: 123.0184 - mse: 15497.7969\n",
      "Epoch 21/1000\n",
      "3/3 [==============================] - 0s 17ms/step - loss: 15239.2795 - mae: 122.1434 - mse: 15283.7490\n",
      "Epoch 22/1000\n",
      "3/3 [==============================] - 0s 19ms/step - loss: 15063.6740 - mae: 121.2228 - mse: 15059.1885\n",
      "Epoch 23/1000\n",
      "3/3 [==============================] - 0s 19ms/step - loss: 14848.9997 - mae: 120.2511 - mse: 14823.9141\n",
      "Epoch 24/1000\n",
      "3/3 [==============================] - 0s 20ms/step - loss: 14574.0392 - mae: 119.2229 - mse: 14578.9482\n",
      "Epoch 25/1000\n",
      "3/3 [==============================] - 0s 19ms/step - loss: 14266.2608 - mae: 118.1498 - mse: 14324.2627\n",
      "Epoch 26/1000\n",
      "3/3 [==============================] - 0s 18ms/step - loss: 14081.1130 - mae: 117.0253 - mse: 14059.4336\n",
      "Epoch 27/1000\n",
      "3/3 [==============================] - 0s 20ms/step - loss: 13829.3241 - mae: 115.8460 - mse: 13784.2881\n",
      "Epoch 28/1000\n",
      "3/3 [==============================] - 0s 19ms/step - loss: 13437.1999 - mae: 114.6102 - mse: 13500.6045\n",
      "Epoch 29/1000\n",
      "3/3 [==============================] - 0s 18ms/step - loss: 13252.4783 - mae: 113.3326 - mse: 13208.2861\n",
      "Epoch 30/1000\n",
      "3/3 [==============================] - 0s 18ms/step - loss: 12895.3266 - mae: 111.9830 - mse: 12905.5801\n",
      "Epoch 31/1000\n",
      "3/3 [==============================] - 0s 18ms/step - loss: 12573.1698 - mae: 110.5898 - mse: 12594.5078\n",
      "Epoch 32/1000\n",
      "3/3 [==============================] - 0s 18ms/step - loss: 12278.5419 - mae: 109.1362 - mse: 12275.2939\n",
      "Epoch 33/1000\n",
      "3/3 [==============================] - 0s 18ms/step - loss: 11913.0345 - mae: 107.6281 - mse: 11948.2041\n",
      "Epoch 34/1000\n",
      "3/3 [==============================] - 0s 18ms/step - loss: 11518.4290 - mae: 106.0610 - mse: 11615.2637\n",
      "Epoch 35/1000\n",
      "3/3 [==============================] - 0s 17ms/step - loss: 11235.6270 - mae: 104.4540 - mse: 11275.4150\n",
      "Epoch 36/1000\n",
      "3/3 [==============================] - 0s 17ms/step - loss: 10888.9583 - mae: 102.7755 - mse: 10928.3633\n",
      "Epoch 37/1000\n",
      "3/3 [==============================] - 0s 18ms/step - loss: 10528.2314 - mae: 101.0437 - mse: 10575.4590\n",
      "Epoch 38/1000\n",
      "3/3 [==============================] - 0s 17ms/step - loss: 10176.6398 - mae: 99.2562 - mse: 10216.8438\n",
      "Epoch 39/1000\n",
      "3/3 [==============================] - 0s 17ms/step - loss: 9840.4763 - mae: 97.4085 - mse: 9852.8223\n",
      "Epoch 40/1000\n",
      "3/3 [==============================] - 0s 19ms/step - loss: 9511.8750 - mae: 95.5014 - mse: 9483.7256\n",
      "Epoch 41/1000\n",
      "3/3 [==============================] - 0s 18ms/step - loss: 9074.8815 - mae: 93.5203 - mse: 9111.1641\n",
      "Epoch 42/1000\n",
      "3/3 [==============================] - 0s 19ms/step - loss: 8745.4552 - mae: 91.5077 - mse: 8737.2090\n",
      "Epoch 43/1000\n",
      "3/3 [==============================] - 0s 17ms/step - loss: 8417.7202 - mae: 89.4270 - mse: 8359.5166\n",
      "Epoch 44/1000\n",
      "3/3 [==============================] - 0s 19ms/step - loss: 8026.9555 - mae: 87.2710 - mse: 7979.8364\n",
      "Epoch 45/1000\n",
      "3/3 [==============================] - 0s 18ms/step - loss: 7593.2937 - mae: 85.0675 - mse: 7600.7510\n",
      "Epoch 46/1000\n",
      "3/3 [==============================] - 0s 17ms/step - loss: 7217.6114 - mae: 82.8231 - mse: 7223.1895\n",
      "Epoch 47/1000\n",
      "3/3 [==============================] - 0s 19ms/step - loss: 6853.8462 - mae: 80.5198 - mse: 6845.9678\n",
      "Epoch 48/1000\n",
      "3/3 [==============================] - 0s 19ms/step - loss: 6425.5260 - mae: 78.1429 - mse: 6470.8149\n",
      "Epoch 49/1000\n",
      "3/3 [==============================] - 0s 19ms/step - loss: 6082.4279 - mae: 75.7281 - mse: 6099.9961\n",
      "Epoch 50/1000\n",
      "3/3 [==============================] - 0s 19ms/step - loss: 5710.5264 - mae: 73.2601 - mse: 5731.5430\n",
      "Epoch 51/1000\n",
      "3/3 [==============================] - 0s 20ms/step - loss: 5369.1964 - mae: 70.7400 - mse: 5367.6641\n",
      "Epoch 52/1000\n",
      "3/3 [==============================] - 0s 19ms/step - loss: 4992.3265 - mae: 68.1490 - mse: 5009.0508\n",
      "Epoch 53/1000\n",
      "3/3 [==============================] - 0s 18ms/step - loss: 4651.8591 - mae: 65.5362 - mse: 4657.6313\n",
      "Epoch 54/1000\n",
      "3/3 [==============================] - 0s 17ms/step - loss: 4283.2387 - mae: 62.8395 - mse: 4313.2427\n",
      "Epoch 55/1000\n",
      "3/3 [==============================] - 0s 19ms/step - loss: 4018.7946 - mae: 60.1350 - mse: 3978.0146\n",
      "Epoch 56/1000\n",
      "3/3 [==============================] - 0s 19ms/step - loss: 3639.8900 - mae: 57.3102 - mse: 3650.7036\n",
      "Epoch 57/1000\n",
      "3/3 [==============================] - 0s 19ms/step - loss: 3305.6500 - mae: 54.5128 - mse: 3336.8784\n",
      "Epoch 58/1000\n",
      "3/3 [==============================] - 0s 18ms/step - loss: 2996.8118 - mae: 51.6686 - mse: 3035.8867\n",
      "Epoch 59/1000\n",
      "3/3 [==============================] - 0s 17ms/step - loss: 2730.8683 - mae: 48.8262 - mse: 2747.0569\n",
      "Epoch 60/1000\n",
      "3/3 [==============================] - 0s 19ms/step - loss: 2453.4751 - mae: 45.9184 - mse: 2470.8396\n",
      "Epoch 61/1000\n",
      "3/3 [==============================] - 0s 18ms/step - loss: 2195.2545 - mae: 43.0031 - mse: 2209.0042\n",
      "Epoch 62/1000\n",
      "3/3 [==============================] - 0s 18ms/step - loss: 1969.0729 - mae: 40.0641 - mse: 1962.5947\n",
      "Epoch 63/1000\n",
      "3/3 [==============================] - 0s 17ms/step - loss: 1716.9148 - mae: 37.0759 - mse: 1731.7227\n",
      "Epoch 64/1000\n",
      "3/3 [==============================] - 0s 17ms/step - loss: 1516.3951 - mae: 34.1648 - mse: 1520.2050\n",
      "Epoch 65/1000\n",
      "3/3 [==============================] - ETA: 0s - loss: 1316.4143 - mae: 31.9415 - mse: 1316.41 - 0s 17ms/step - loss: 1335.6548 - mae: 31.3124 - mse: 1325.6703\n",
      "Epoch 66/1000\n",
      "3/3 [==============================] - 0s 17ms/step - loss: 1139.4239 - mae: 28.5806 - mse: 1149.6062\n",
      "Epoch 67/1000\n",
      "3/3 [==============================] - 0s 17ms/step - loss: 993.3157 - mae: 25.9522 - mse: 995.0592\n",
      "Epoch 68/1000\n",
      "3/3 [==============================] - ETA: 0s - loss: 917.7295 - mae: 23.6628 - mse: 917.72 - 0s 17ms/step - loss: 852.4243 - mae: 23.4750 - mse: 857.8799\n",
      "Epoch 69/1000\n",
      "3/3 [==============================] - 0s 18ms/step - loss: 739.7412 - mae: 21.4134 - mse: 739.3986\n",
      "Epoch 70/1000\n",
      "3/3 [==============================] - 0s 15ms/step - loss: 631.1707 - mae: 19.6557 - mse: 640.5410\n",
      "Epoch 71/1000\n",
      "3/3 [==============================] - 0s 18ms/step - loss: 556.5589 - mae: 18.1356 - mse: 560.2087\n",
      "Epoch 72/1000\n",
      "3/3 [==============================] - 0s 16ms/step - loss: 503.4998 - mae: 16.9115 - mse: 495.2496\n",
      "Epoch 73/1000\n",
      "3/3 [==============================] - 0s 17ms/step - loss: 440.5178 - mae: 15.9926 - mse: 445.6556\n",
      "Epoch 74/1000\n",
      "3/3 [==============================] - 0s 17ms/step - loss: 418.8360 - mae: 15.3830 - mse: 410.4353\n",
      "Epoch 75/1000\n",
      "3/3 [==============================] - 0s 18ms/step - loss: 380.8642 - mae: 14.9953 - mse: 384.8131\n",
      "Epoch 76/1000\n",
      "3/3 [==============================] - 0s 18ms/step - loss: 366.0799 - mae: 14.7409 - mse: 368.4937\n",
      "Epoch 77/1000\n",
      "3/3 [==============================] - 0s 17ms/step - loss: 356.6687 - mae: 14.6360 - mse: 358.0260\n",
      "Epoch 78/1000\n",
      "3/3 [==============================] - 0s 19ms/step - loss: 348.0631 - mae: 14.5583 - mse: 351.9140\n",
      "Epoch 79/1000\n",
      "3/3 [==============================] - 0s 19ms/step - loss: 341.1786 - mae: 14.5419 - mse: 348.1472\n",
      "Epoch 80/1000\n",
      "3/3 [==============================] - 0s 20ms/step - loss: 349.7512 - mae: 14.4946 - mse: 345.1180\n",
      "Epoch 81/1000\n",
      "3/3 [==============================] - 0s 18ms/step - loss: 342.9949 - mae: 14.4865 - mse: 341.9129\n",
      "Epoch 82/1000\n",
      "3/3 [==============================] - 0s 17ms/step - loss: 341.0349 - mae: 14.4838 - mse: 340.7333\n",
      "Epoch 83/1000\n",
      "3/3 [==============================] - 0s 18ms/step - loss: 332.3391 - mae: 14.3979 - mse: 338.7997\n",
      "Epoch 84/1000\n",
      "3/3 [==============================] - 0s 18ms/step - loss: 337.2760 - mae: 14.3768 - mse: 336.5982\n",
      "Epoch 85/1000\n",
      "3/3 [==============================] - 0s 18ms/step - loss: 334.6068 - mae: 14.3447 - mse: 336.3572\n",
      "Epoch 86/1000\n",
      "3/3 [==============================] - 0s 19ms/step - loss: 329.9630 - mae: 14.3144 - mse: 334.1387\n",
      "Epoch 87/1000\n",
      "3/3 [==============================] - 0s 20ms/step - loss: 332.6645 - mae: 14.2957 - mse: 333.3979\n",
      "Epoch 88/1000\n",
      "3/3 [==============================] - 0s 18ms/step - loss: 332.5315 - mae: 14.2269 - mse: 333.2126\n",
      "Epoch 89/1000\n",
      "3/3 [==============================] - 0s 19ms/step - loss: 337.0592 - mae: 14.2714 - mse: 332.5312\n",
      "Epoch 90/1000\n",
      "3/3 [==============================] - 0s 19ms/step - loss: 330.5519 - mae: 14.2845 - mse: 333.1304\n",
      "Epoch 91/1000\n",
      "3/3 [==============================] - 0s 17ms/step - loss: 335.3599 - mae: 14.3229 - mse: 333.0824\n",
      "Epoch 92/1000\n",
      "3/3 [==============================] - 0s 18ms/step - loss: 330.9166 - mae: 14.2221 - mse: 330.5692\n",
      "Epoch 93/1000\n",
      "3/3 [==============================] - 0s 18ms/step - loss: 331.3600 - mae: 14.1754 - mse: 330.3972\n",
      "Epoch 94/1000\n",
      "3/3 [==============================] - 0s 16ms/step - loss: 328.7983 - mae: 14.2711 - mse: 331.7727\n",
      "Epoch 95/1000\n",
      "3/3 [==============================] - 0s 17ms/step - loss: 327.2846 - mae: 14.1565 - mse: 329.6212\n",
      "Epoch 96/1000\n",
      "3/3 [==============================] - 0s 19ms/step - loss: 330.3111 - mae: 14.3086 - mse: 331.9336\n",
      "Epoch 97/1000\n",
      "3/3 [==============================] - 0s 18ms/step - loss: 330.6726 - mae: 14.1651 - mse: 330.0831\n",
      "Epoch 98/1000\n",
      "3/3 [==============================] - 0s 18ms/step - loss: 327.2172 - mae: 14.1864 - mse: 330.5249\n",
      "Epoch 99/1000\n",
      "3/3 [==============================] - 0s 16ms/step - loss: 335.2466 - mae: 14.2482 - mse: 329.8868\n",
      "Epoch 100/1000\n",
      "3/3 [==============================] - 0s 18ms/step - loss: 330.2643 - mae: 14.2614 - mse: 334.8363\n",
      "Epoch 101/1000\n",
      "3/3 [==============================] - 0s 18ms/step - loss: 327.2931 - mae: 14.2404 - mse: 332.4317\n",
      "Epoch 102/1000\n",
      "3/3 [==============================] - 0s 17ms/step - loss: 335.8049 - mae: 14.2100 - mse: 333.3625\n",
      "Epoch 103/1000\n",
      "3/3 [==============================] - 0s 17ms/step - loss: 332.1604 - mae: 14.1604 - mse: 329.4074\n",
      "Epoch 104/1000\n",
      "3/3 [==============================] - 0s 17ms/step - loss: 337.9872 - mae: 14.2156 - mse: 329.0277\n",
      "Epoch 105/1000\n",
      "3/3 [==============================] - 0s 18ms/step - loss: 332.3059 - mae: 14.1590 - mse: 329.9269\n",
      "Epoch 106/1000\n",
      "3/3 [==============================] - 0s 20ms/step - loss: 321.3829 - mae: 14.3235 - mse: 331.3188\n",
      "Epoch 107/1000\n",
      "3/3 [==============================] - 0s 19ms/step - loss: 329.7496 - mae: 14.2255 - mse: 331.2051\n",
      "Epoch 108/1000\n",
      "3/3 [==============================] - 0s 17ms/step - loss: 333.6666 - mae: 14.2465 - mse: 331.6418\n",
      "Epoch 109/1000\n",
      "3/3 [==============================] - 0s 16ms/step - loss: 333.5271 - mae: 14.1994 - mse: 329.6291\n",
      "Epoch 110/1000\n",
      "3/3 [==============================] - 0s 19ms/step - loss: 326.9239 - mae: 14.2060 - mse: 330.4271\n",
      "Epoch 111/1000\n",
      "3/3 [==============================] - 0s 17ms/step - loss: 331.5227 - mae: 14.2054 - mse: 329.4530\n",
      "Epoch 112/1000\n",
      "3/3 [==============================] - 0s 20ms/step - loss: 325.2654 - mae: 14.1593 - mse: 329.7755\n",
      "Epoch 113/1000\n",
      "3/3 [==============================] - 0s 18ms/step - loss: 328.2935 - mae: 14.2277 - mse: 329.6366\n",
      "Epoch 114/1000\n",
      "3/3 [==============================] - 0s 18ms/step - loss: 344.7119 - mae: 14.2393 - mse: 333.6439\n",
      "Epoch 115/1000\n",
      "3/3 [==============================] - 0s 18ms/step - loss: 329.6725 - mae: 14.1156 - mse: 329.6768\n",
      "Epoch 116/1000\n",
      "3/3 [==============================] - 0s 18ms/step - loss: 334.9691 - mae: 14.2037 - mse: 330.2114\n",
      "Epoch 117/1000\n",
      "3/3 [==============================] - 0s 19ms/step - loss: 327.3921 - mae: 14.1942 - mse: 329.4872\n",
      "Epoch 118/1000\n",
      "3/3 [==============================] - 0s 18ms/step - loss: 322.6462 - mae: 14.2835 - mse: 330.5238\n",
      "Epoch 119/1000\n",
      "3/3 [==============================] - 0s 17ms/step - loss: 334.2470 - mae: 14.1675 - mse: 328.5877\n",
      "Epoch 120/1000\n",
      "3/3 [==============================] - 0s 17ms/step - loss: 319.8176 - mae: 14.1746 - mse: 329.8043\n",
      "Epoch 121/1000\n",
      "3/3 [==============================] - 0s 17ms/step - loss: 323.4758 - mae: 14.1740 - mse: 328.8039\n",
      "Epoch 122/1000\n",
      "3/3 [==============================] - 0s 17ms/step - loss: 326.7377 - mae: 14.2342 - mse: 329.2645\n",
      "Epoch 123/1000\n",
      "3/3 [==============================] - 0s 18ms/step - loss: 333.5975 - mae: 14.1293 - mse: 328.6549\n",
      "Epoch 124/1000\n",
      "3/3 [==============================] - 0s 17ms/step - loss: 333.2539 - mae: 14.3864 - mse: 332.3276\n",
      "Epoch 125/1000\n",
      "3/3 [==============================] - 0s 19ms/step - loss: 339.6304 - mae: 14.1915 - mse: 329.9577\n",
      "Epoch 126/1000\n",
      "3/3 [==============================] - 0s 18ms/step - loss: 320.4434 - mae: 14.2047 - mse: 328.4390\n",
      "Epoch 127/1000\n",
      "3/3 [==============================] - 0s 17ms/step - loss: 326.8382 - mae: 14.1948 - mse: 329.5522\n",
      "Epoch 128/1000\n",
      "3/3 [==============================] - 0s 19ms/step - loss: 344.2681 - mae: 14.3544 - mse: 334.8067\n",
      "Epoch 129/1000\n",
      "3/3 [==============================] - 0s 18ms/step - loss: 331.2045 - mae: 14.2353 - mse: 330.7239\n",
      "Epoch 130/1000\n"
     ]
    },
    {
     "name": "stdout",
     "output_type": "stream",
     "text": [
      "3/3 [==============================] - 0s 18ms/step - loss: 338.5269 - mae: 14.1843 - mse: 328.6629\n",
      "Epoch 131/1000\n",
      "3/3 [==============================] - 0s 17ms/step - loss: 329.8115 - mae: 14.2248 - mse: 330.4391\n",
      "Epoch 132/1000\n",
      "3/3 [==============================] - 0s 20ms/step - loss: 331.7769 - mae: 14.2252 - mse: 329.5286\n",
      "Epoch 133/1000\n",
      "3/3 [==============================] - 0s 19ms/step - loss: 338.2256 - mae: 14.2257 - mse: 331.9612\n",
      "Epoch 134/1000\n",
      "3/3 [==============================] - 0s 17ms/step - loss: 334.1363 - mae: 14.3272 - mse: 333.0421\n",
      "Epoch 135/1000\n",
      "3/3 [==============================] - 0s 19ms/step - loss: 325.8714 - mae: 14.1532 - mse: 328.8834\n",
      "Epoch 136/1000\n",
      "3/3 [==============================] - 0s 17ms/step - loss: 330.9637 - mae: 14.2340 - mse: 331.1554\n",
      "Epoch 137/1000\n",
      "3/3 [==============================] - 0s 19ms/step - loss: 337.7814 - mae: 14.3264 - mse: 331.9425\n",
      "Epoch 138/1000\n",
      "3/3 [==============================] - 0s 19ms/step - loss: 321.2529 - mae: 14.1646 - mse: 328.6346\n",
      "Epoch 139/1000\n",
      "3/3 [==============================] - 0s 19ms/step - loss: 337.0453 - mae: 14.2056 - mse: 329.4261\n",
      "Epoch 140/1000\n",
      "3/3 [==============================] - 0s 18ms/step - loss: 330.4200 - mae: 14.2073 - mse: 329.4875\n",
      "Epoch 141/1000\n",
      "3/3 [==============================] - 0s 17ms/step - loss: 341.0869 - mae: 14.3810 - mse: 333.9406\n",
      "Epoch 142/1000\n",
      "3/3 [==============================] - 0s 18ms/step - loss: 326.7183 - mae: 14.1386 - mse: 329.0573\n",
      "Epoch 143/1000\n",
      "3/3 [==============================] - 0s 18ms/step - loss: 332.9840 - mae: 14.2265 - mse: 329.7163\n",
      "Epoch 144/1000\n",
      "3/3 [==============================] - ETA: 0s - loss: 306.3854 - mae: 13.6287 - mse: 306.38 - 0s 17ms/step - loss: 329.7034 - mae: 14.2181 - mse: 329.0413\n",
      "Epoch 145/1000\n",
      "3/3 [==============================] - 0s 18ms/step - loss: 331.2232 - mae: 14.2521 - mse: 332.6036\n",
      "Epoch 146/1000\n",
      "3/3 [==============================] - 0s 17ms/step - loss: 331.7677 - mae: 14.1606 - mse: 328.9630\n",
      "Epoch 147/1000\n",
      "3/3 [==============================] - 0s 17ms/step - loss: 326.8895 - mae: 14.2077 - mse: 329.6797\n",
      "Epoch 148/1000\n",
      "3/3 [==============================] - 0s 19ms/step - loss: 325.0280 - mae: 14.1880 - mse: 329.9459\n",
      "Epoch 149/1000\n",
      "3/3 [==============================] - 0s 19ms/step - loss: 340.5823 - mae: 14.2314 - mse: 331.7113\n",
      "Epoch 150/1000\n",
      "3/3 [==============================] - 0s 17ms/step - loss: 333.5884 - mae: 14.2178 - mse: 330.4951\n",
      "Epoch 151/1000\n",
      "3/3 [==============================] - 0s 17ms/step - loss: 332.7616 - mae: 14.2772 - mse: 330.3202\n",
      "Epoch 152/1000\n",
      "3/3 [==============================] - 0s 16ms/step - loss: 321.1716 - mae: 14.2222 - mse: 328.6760\n",
      "Epoch 153/1000\n",
      "3/3 [==============================] - 0s 19ms/step - loss: 344.0242 - mae: 14.3001 - mse: 335.3806\n",
      "Epoch 154/1000\n",
      "3/3 [==============================] - 0s 18ms/step - loss: 328.1571 - mae: 14.2226 - mse: 328.8421\n",
      "Epoch 155/1000\n",
      "3/3 [==============================] - 0s 18ms/step - loss: 331.9289 - mae: 14.1973 - mse: 329.6396\n",
      "Epoch 156/1000\n",
      "3/3 [==============================] - 0s 16ms/step - loss: 329.7189 - mae: 14.2512 - mse: 328.9411\n",
      "Epoch 157/1000\n",
      "3/3 [==============================] - 0s 17ms/step - loss: 330.9044 - mae: 14.3220 - mse: 334.3480\n",
      "Epoch 158/1000\n",
      "3/3 [==============================] - 0s 17ms/step - loss: 331.1021 - mae: 14.3052 - mse: 330.8327\n",
      "Epoch 159/1000\n",
      "3/3 [==============================] - 0s 17ms/step - loss: 334.3642 - mae: 14.2247 - mse: 329.6256\n",
      "Epoch 160/1000\n",
      "3/3 [==============================] - 0s 18ms/step - loss: 328.4925 - mae: 14.2503 - mse: 331.0183\n",
      "Epoch 161/1000\n",
      "3/3 [==============================] - 0s 17ms/step - loss: 327.8404 - mae: 14.1981 - mse: 329.1530\n",
      "Epoch 162/1000\n",
      "3/3 [==============================] - 0s 17ms/step - loss: 333.7770 - mae: 14.2424 - mse: 329.9578\n",
      "Epoch 163/1000\n",
      "3/3 [==============================] - 0s 17ms/step - loss: 331.6182 - mae: 14.2176 - mse: 328.8629\n",
      "Epoch 164/1000\n",
      "3/3 [==============================] - 0s 17ms/step - loss: 340.9382 - mae: 14.2056 - mse: 331.0712\n",
      "Epoch 165/1000\n",
      "3/3 [==============================] - 0s 18ms/step - loss: 326.6398 - mae: 14.3071 - mse: 329.5847\n",
      "Epoch 166/1000\n",
      "3/3 [==============================] - 0s 17ms/step - loss: 329.3621 - mae: 14.2070 - mse: 330.2626\n",
      "Epoch 167/1000\n",
      "3/3 [==============================] - 0s 17ms/step - loss: 332.2368 - mae: 14.1764 - mse: 330.4901\n",
      "Epoch 168/1000\n",
      "3/3 [==============================] - 0s 17ms/step - loss: 334.5432 - mae: 14.2474 - mse: 331.6207\n",
      "Epoch 169/1000\n",
      "3/3 [==============================] - 0s 19ms/step - loss: 333.3420 - mae: 14.1774 - mse: 329.1095\n",
      "Epoch 170/1000\n",
      "3/3 [==============================] - 0s 18ms/step - loss: 327.5537 - mae: 14.2598 - mse: 330.0565\n",
      "Epoch 171/1000\n",
      "3/3 [==============================] - 0s 17ms/step - loss: 331.8126 - mae: 14.2277 - mse: 331.3542\n",
      "Epoch 172/1000\n",
      "3/3 [==============================] - 0s 19ms/step - loss: 332.9216 - mae: 14.2954 - mse: 333.9292\n",
      "Epoch 173/1000\n",
      "3/3 [==============================] - 0s 16ms/step - loss: 327.5601 - mae: 14.2679 - mse: 329.7484\n",
      "Epoch 174/1000\n",
      "3/3 [==============================] - 0s 17ms/step - loss: 329.6106 - mae: 14.1472 - mse: 329.2906\n",
      "Epoch 175/1000\n",
      "3/3 [==============================] - 0s 18ms/step - loss: 332.7366 - mae: 14.2189 - mse: 329.8809\n",
      "Epoch 176/1000\n",
      "3/3 [==============================] - 0s 18ms/step - loss: 331.9233 - mae: 14.2539 - mse: 328.9242\n"
     ]
    }
   ],
   "source": [
    "EPOCHS = 1000\n",
    "early_stop = tf.keras.callbacks.EarlyStopping(monitor='mse', patience=50)\n",
    "history = model.fit(train_ds,   callbacks=[early_stop], epochs=EPOCHS,  verbose=1)"
   ]
  },
  {
   "cell_type": "code",
   "execution_count": 24,
   "metadata": {},
   "outputs": [
    {
     "ename": "NameError",
     "evalue": "name 'model' is not defined",
     "output_type": "error",
     "traceback": [
      "\u001b[0;31m---------------------------------------------------------------------------\u001b[0m",
      "\u001b[0;31mNameError\u001b[0m                                 Traceback (most recent call last)",
      "Cell \u001b[0;32mIn[24], line 1\u001b[0m\n\u001b[0;32m----> 1\u001b[0m loss, mae, mse \u001b[38;5;241m=\u001b[39m \u001b[43mmodel\u001b[49m\u001b[38;5;241m.\u001b[39mevaluate(test_ds, verbose\u001b[38;5;241m=\u001b[39m\u001b[38;5;241m2\u001b[39m)\n\u001b[1;32m      2\u001b[0m \u001b[38;5;28mprint\u001b[39m(\u001b[38;5;124m\"\u001b[39m\u001b[38;5;124mMAE:\u001b[39m\u001b[38;5;132;01m{}\u001b[39;00m\u001b[38;5;130;01m\\n\u001b[39;00m\u001b[38;5;124mMSE:\u001b[39m\u001b[38;5;132;01m{}\u001b[39;00m\u001b[38;5;124m\"\u001b[39m\u001b[38;5;241m.\u001b[39mformat(mae, mse))\n",
      "\u001b[0;31mNameError\u001b[0m: name 'model' is not defined"
     ]
    }
   ],
   "source": [
    "loss, mae, mse = model.evaluate(test_ds, verbose=2)\n",
    "print(\"MAE:{}\\nMSE:{}\".format(mae, mse))"
   ]
  },
  {
   "cell_type": "code",
   "execution_count": 25,
   "metadata": {},
   "outputs": [],
   "source": [
    "test_labels = test_dataset[PREDICTOR_FIELD].values"
   ]
  },
  {
   "cell_type": "code",
   "execution_count": 38,
   "metadata": {},
   "outputs": [],
   "source": [
    "test_predictions = model.predict(test_ds).flatten()"
   ]
  },
  {
   "cell_type": "code",
   "execution_count": 39,
   "metadata": {},
   "outputs": [],
   "source": [
    "model_pred_outputs = {\n",
    "    \"pred\": test_predictions,\n",
    "    \"actual_value\": test_labels,\n",
    "}\n",
    "model_output_df = pd.DataFrame(model_pred_outputs)"
   ]
  },
  {
   "cell_type": "code",
   "execution_count": 40,
   "metadata": {},
   "outputs": [
    {
     "data": {
      "text/html": [
       "<div>\n",
       "<style scoped>\n",
       "    .dataframe tbody tr th:only-of-type {\n",
       "        vertical-align: middle;\n",
       "    }\n",
       "\n",
       "    .dataframe tbody tr th {\n",
       "        vertical-align: top;\n",
       "    }\n",
       "\n",
       "    .dataframe thead th {\n",
       "        text-align: right;\n",
       "    }\n",
       "</style>\n",
       "<table border=\"1\" class=\"dataframe\">\n",
       "  <thead>\n",
       "    <tr style=\"text-align: right;\">\n",
       "      <th></th>\n",
       "      <th>pred</th>\n",
       "      <th>actual_value</th>\n",
       "    </tr>\n",
       "  </thead>\n",
       "  <tbody>\n",
       "    <tr>\n",
       "      <th>41</th>\n",
       "      <td>135.608017</td>\n",
       "      <td>134.0</td>\n",
       "    </tr>\n",
       "    <tr>\n",
       "      <th>42</th>\n",
       "      <td>140.288422</td>\n",
       "      <td>170.0</td>\n",
       "    </tr>\n",
       "    <tr>\n",
       "      <th>43</th>\n",
       "      <td>135.608017</td>\n",
       "      <td>125.0</td>\n",
       "    </tr>\n",
       "    <tr>\n",
       "      <th>44</th>\n",
       "      <td>132.475433</td>\n",
       "      <td>120.0</td>\n",
       "    </tr>\n",
       "    <tr>\n",
       "      <th>45</th>\n",
       "      <td>125.253456</td>\n",
       "      <td>130.0</td>\n",
       "    </tr>\n",
       "  </tbody>\n",
       "</table>\n",
       "</div>"
      ],
      "text/plain": [
       "          pred  actual_value\n",
       "41  135.608017         134.0\n",
       "42  140.288422         170.0\n",
       "43  135.608017         125.0\n",
       "44  132.475433         120.0\n",
       "45  125.253456         130.0"
      ]
     },
     "execution_count": 40,
     "metadata": {},
     "output_type": "execute_result"
    }
   ],
   "source": [
    "# Convert Regression Output to binary classification output\n",
    "model_output_df.tail()"
   ]
  },
  {
   "cell_type": "code",
   "execution_count": null,
   "metadata": {},
   "outputs": [],
   "source": [
    "#convert to binary prediction for Brier score - resting bps above 130\n",
    "def convert_to_binary(df, pred_field, actual_field):\n",
    "    # score is the field name we will use for predictions and is what Aequitas uses\n",
    "    df['score'] = df[pred_field].apply(lambda x: 1 if x>=130 else 0 )\n",
    "    # label_value is the field name we will use for the truth value and is what Aequitas uses\n",
    "    df['label_value'] = df[actual_field].apply(lambda x: 1 if x>=130 else 0)\n",
    "    return df"
   ]
  },
  {
   "cell_type": "code",
   "execution_count": 42,
   "metadata": {},
   "outputs": [
    {
     "data": {
      "text/html": [
       "<div>\n",
       "<style scoped>\n",
       "    .dataframe tbody tr th:only-of-type {\n",
       "        vertical-align: middle;\n",
       "    }\n",
       "\n",
       "    .dataframe tbody tr th {\n",
       "        vertical-align: top;\n",
       "    }\n",
       "\n",
       "    .dataframe thead th {\n",
       "        text-align: right;\n",
       "    }\n",
       "</style>\n",
       "<table border=\"1\" class=\"dataframe\">\n",
       "  <thead>\n",
       "    <tr style=\"text-align: right;\">\n",
       "      <th></th>\n",
       "      <th>pred</th>\n",
       "      <th>actual_value</th>\n",
       "      <th>score</th>\n",
       "      <th>label_value</th>\n",
       "    </tr>\n",
       "  </thead>\n",
       "  <tbody>\n",
       "    <tr>\n",
       "      <th>0</th>\n",
       "      <td>135.608017</td>\n",
       "      <td>95.0</td>\n",
       "      <td>1</td>\n",
       "      <td>0</td>\n",
       "    </tr>\n",
       "    <tr>\n",
       "      <th>1</th>\n",
       "      <td>126.332336</td>\n",
       "      <td>115.0</td>\n",
       "      <td>0</td>\n",
       "      <td>0</td>\n",
       "    </tr>\n",
       "    <tr>\n",
       "      <th>2</th>\n",
       "      <td>125.253456</td>\n",
       "      <td>170.0</td>\n",
       "      <td>0</td>\n",
       "      <td>1</td>\n",
       "    </tr>\n",
       "    <tr>\n",
       "      <th>3</th>\n",
       "      <td>140.288422</td>\n",
       "      <td>160.0</td>\n",
       "      <td>1</td>\n",
       "      <td>1</td>\n",
       "    </tr>\n",
       "    <tr>\n",
       "      <th>4</th>\n",
       "      <td>139.055923</td>\n",
       "      <td>140.0</td>\n",
       "      <td>1</td>\n",
       "      <td>1</td>\n",
       "    </tr>\n",
       "  </tbody>\n",
       "</table>\n",
       "</div>"
      ],
      "text/plain": [
       "         pred  actual_value  score  label_value\n",
       "0  135.608017          95.0      1            0\n",
       "1  126.332336         115.0      0            0\n",
       "2  125.253456         170.0      0            1\n",
       "3  140.288422         160.0      1            1\n",
       "4  139.055923         140.0      1            1"
      ]
     },
     "execution_count": 42,
     "metadata": {},
     "output_type": "execute_result"
    }
   ],
   "source": [
    "binary_df = convert_to_binary(model_output_df, 'pred', 'actual_value')\n",
    "binary_df.head()"
   ]
  },
  {
   "cell_type": "code",
   "execution_count": 43,
   "metadata": {},
   "outputs": [],
   "source": [
    "from sklearn.metrics import accuracy_score, f1_score, classification_report, roc_auc_score"
   ]
  },
  {
   "cell_type": "code",
   "execution_count": null,
   "metadata": {},
   "outputs": [],
   "source": [
    "y_true = binary_df['label_value'].values\n",
    "y_pred = binary_df['score'].values"
   ]
  },
  {
   "cell_type": "code",
   "execution_count": 45,
   "metadata": {},
   "outputs": [
    {
     "data": {
      "text/plain": [
       "0.5869565217391305"
      ]
     },
     "execution_count": 45,
     "metadata": {},
     "output_type": "execute_result"
    }
   ],
   "source": [
    "accuracy_score(y_true, y_pred)"
   ]
  },
  {
   "cell_type": "code",
   "execution_count": 46,
   "metadata": {},
   "outputs": [
    {
     "name": "stdout",
     "output_type": "stream",
     "text": [
      "              precision    recall  f1-score   support\n",
      "\n",
      "           0       0.50      0.47      0.49        19\n",
      "           1       0.64      0.67      0.65        27\n",
      "\n",
      "    accuracy                           0.59        46\n",
      "   macro avg       0.57      0.57      0.57        46\n",
      "weighted avg       0.58      0.59      0.59        46\n",
      "\n"
     ]
    }
   ],
   "source": [
    "print(classification_report(y_true, y_pred))"
   ]
  },
  {
   "cell_type": "code",
   "execution_count": 47,
   "metadata": {},
   "outputs": [
    {
     "data": {
      "text/plain": [
       "0.5701754385964912"
      ]
     },
     "execution_count": 47,
     "metadata": {},
     "output_type": "execute_result"
    }
   ],
   "source": [
    "roc_auc_score(y_true, y_pred)"
   ]
  },
  {
   "cell_type": "markdown",
   "metadata": {},
   "source": [
    "## L5 - 2: Demographic Bias Analysis"
   ]
  },
  {
   "cell_type": "markdown",
   "metadata": {},
   "source": [
    "### Instructions\n",
    "- Using the Compas dataset prepared by Aequitas, perform a Fairness Disparity Analysis on the under 25 Asian female reference group. See the documentation for reference -https://github.com/dssg/aequitas. In particular focus your analysis on fairness and disparity for FPR and where applicable try to leverage some of the visualizations Aequitas provides."
   ]
  },
  {
   "cell_type": "markdown",
   "metadata": {},
   "source": [
    "### Aequitas Compas Dataset\n",
    "- Using 2016 dataset from ProPublica for automated criminal risk assessment algorithms and adapted from Aequitas notebook - https://github.com/dssg/aequitas/blob/master/docs/source/examples/compas_demo.ipynb\n",
    "- Preprocessed using this script --https://github.com/dssg/aequitas/blob/master/examples/compas_data_for_aequitas.py"
   ]
  },
  {
   "cell_type": "markdown",
   "metadata": {},
   "source": [
    "The Aequitas Bias() class is used to calculate disparities between groups based on the crosstab returned by the Group() class get_crosstabs() method we used for preprocessing the dataset. "
   ]
  },
  {
   "cell_type": "markdown",
   "metadata": {},
   "source": [
    "### Instructions from Aequitas on Calculating Disparities across Reference Groups\n",
    "(adapted from https://github.com/dssg/aequitas/blob/master/docs/source/examples/compas_demo.ipynb)\n",
    "\n",
    "Disparities are calculated as a ratio of a metric for a group of interest compared to a base group. For example, the False Negative Rate Disparity for black defendants vis-a-vis whites is:$$Disparity_{FNR} =  \\frac{FNR_{black}}{FNR_{white}}$$\n",
    "\n",
    "Below, we use get_disparity_predefined_groups() which allows us to choose reference groups that clarify the output for the practitioner.\n",
    "\n",
    "The Aequitas Bias() class includes two additional get disparity functions: get_disparity_major_group() and get_disparity_min_metric(), which automate base group selection based on sample majority (across each attribute) and minimum value for each calculated bias metric, respectively.\n",
    "\n",
    "The get_disparity_predefined_groups() allows user to define a base group for each attribute.\n",
    "\n",
    "Disparities Calculated Calcuated:\n",
    "- True Positive Rate Disparity\t'tpr_disprity'\n",
    "- True Negative Rate\t'tnr_disparity'\n",
    "- False Omission Rate\t'for_disparity'\n",
    "- False Discovery Rate\t'fdr_disparity'\n",
    "- False Positive Rate\t'fpr_disparity'\n",
    "- False NegativeRate\t'fnr_disparity'\n",
    "- Negative Predictive Value\t'npv_disparity'\n",
    "- Precision Disparity\t'precision_disparity'\n",
    "- Predicted Positive Ratio$_k$ Disparity\t'ppr_disparity'\n",
    "- Predicted Positive Ratio$_g$ Disparity\t'pprev_disparity'"
   ]
  },
  {
   "cell_type": "markdown",
   "metadata": {},
   "source": [
    "**How do I interpret calculated disparity ratios?**\n",
    "The calculated disparities from the dataframe returned by the Bias() class get_disparity_ methods are in relation to a reference group, which will always have a disparity of 1.0.\n",
    "\n",
    "The differences in False Positive Rates, noted in the discussion of the Group() class above, are clarified using the disparity ratio (fpr_disparity). Black people are falsely identified as being high or medium risks 1.9 times the rate for white people.\n",
    "\n",
    "As seen above, False Discovery Rates have much less disparity (fdr_disparity), or fraction of false postives over predicted positive in a group. As reference groups have disparity = 1 by design in Aequitas, the lower disparity is highlighted by the fdr_disparity value close to 1.0 (0.906) for the race attribute group 'African-American' when disparities are calculated using predefined base group 'Caucasian'. Note that COMPAS is calibrated to balance False Positive Rate and False Discovery Rates across groups.\n",
    "\n",
    "\n",
    "**How does the selected reference group affect disparity calculations?**\n",
    "Disparities calculated in the the Aequitas Bias() class based on the crosstab returned by the Group() class get_crosstabs() method can be derived using several different base gorups. In addition to using user-specified groups illustrated above, Aequitas can automate base group selection based on dataset characterisitcs:\n",
    "\n",
    "Evaluating disparities calculated in relation to a different 'race' reference group\n",
    "Changing even one attribute in the predefined groups will alter calculated disparities. When a different pre-defined group 'Hispanic' is used, we can see that Black people are 2.1 times more likely to be falsely identified as being high or medium risks as Hispanic people are (compared to 1.9 times more likely than white people), and even less likely to be falsely identified as low risk when compared to Hispanic people rather than white people."
   ]
  },
  {
   "cell_type": "code",
   "execution_count": null,
   "metadata": {},
   "outputs": [],
   "source": [
    "# Use Aequitas Data that was transformed\n",
    "compas_df = pd.read_csv(\"./data/compas_for_aequitas.csv\")"
   ]
  },
  {
   "cell_type": "code",
   "execution_count": 49,
   "metadata": {},
   "outputs": [
    {
     "data": {
      "text/html": [
       "<div>\n",
       "<style scoped>\n",
       "    .dataframe tbody tr th:only-of-type {\n",
       "        vertical-align: middle;\n",
       "    }\n",
       "\n",
       "    .dataframe tbody tr th {\n",
       "        vertical-align: top;\n",
       "    }\n",
       "\n",
       "    .dataframe thead th {\n",
       "        text-align: right;\n",
       "    }\n",
       "</style>\n",
       "<table border=\"1\" class=\"dataframe\">\n",
       "  <thead>\n",
       "    <tr style=\"text-align: right;\">\n",
       "      <th></th>\n",
       "      <th>entity_id</th>\n",
       "      <th>score</th>\n",
       "      <th>label_value</th>\n",
       "      <th>race</th>\n",
       "      <th>sex</th>\n",
       "      <th>age_cat</th>\n",
       "    </tr>\n",
       "  </thead>\n",
       "  <tbody>\n",
       "    <tr>\n",
       "      <th>0</th>\n",
       "      <td>1</td>\n",
       "      <td>0.0</td>\n",
       "      <td>0</td>\n",
       "      <td>Other</td>\n",
       "      <td>Male</td>\n",
       "      <td>Greater than 45</td>\n",
       "    </tr>\n",
       "    <tr>\n",
       "      <th>1</th>\n",
       "      <td>3</td>\n",
       "      <td>0.0</td>\n",
       "      <td>1</td>\n",
       "      <td>African-American</td>\n",
       "      <td>Male</td>\n",
       "      <td>25 - 45</td>\n",
       "    </tr>\n",
       "    <tr>\n",
       "      <th>2</th>\n",
       "      <td>4</td>\n",
       "      <td>0.0</td>\n",
       "      <td>1</td>\n",
       "      <td>African-American</td>\n",
       "      <td>Male</td>\n",
       "      <td>Less than 25</td>\n",
       "    </tr>\n",
       "    <tr>\n",
       "      <th>3</th>\n",
       "      <td>5</td>\n",
       "      <td>1.0</td>\n",
       "      <td>0</td>\n",
       "      <td>African-American</td>\n",
       "      <td>Male</td>\n",
       "      <td>Less than 25</td>\n",
       "    </tr>\n",
       "    <tr>\n",
       "      <th>4</th>\n",
       "      <td>6</td>\n",
       "      <td>0.0</td>\n",
       "      <td>0</td>\n",
       "      <td>Other</td>\n",
       "      <td>Male</td>\n",
       "      <td>25 - 45</td>\n",
       "    </tr>\n",
       "  </tbody>\n",
       "</table>\n",
       "</div>"
      ],
      "text/plain": [
       "   entity_id  score  label_value              race   sex          age_cat\n",
       "0          1    0.0            0             Other  Male  Greater than 45\n",
       "1          3    0.0            1  African-American  Male          25 - 45\n",
       "2          4    0.0            1  African-American  Male     Less than 25\n",
       "3          5    1.0            0  African-American  Male     Less than 25\n",
       "4          6    0.0            0             Other  Male          25 - 45"
      ]
     },
     "execution_count": 49,
     "metadata": {},
     "output_type": "execute_result"
    }
   ],
   "source": [
    "compas_df.head()"
   ]
  },
  {
   "cell_type": "markdown",
   "metadata": {},
   "source": [
    "### Solution"
   ]
  },
  {
   "cell_type": "markdown",
   "metadata": {},
   "source": [
    "### Dataset Preparation"
   ]
  },
  {
   "cell_type": "code",
   "execution_count": 50,
   "metadata": {},
   "outputs": [
    {
     "name": "stderr",
     "output_type": "stream",
     "text": [
      "/opt/conda/lib/python3.7/site-packages/aequitas/group.py:143: SettingWithCopyWarning: \n",
      "A value is trying to be set on a copy of a slice from a DataFrame.\n",
      "Try using .loc[row_indexer,col_indexer] = value instead\n",
      "\n",
      "See the caveats in the documentation: https://pandas.pydata.org/pandas-docs/stable/user_guide/indexing.html#returning-a-view-versus-a-copy\n",
      "  df['score'] = df['score'].astype(float)\n"
     ]
    },
    {
     "name": "stdout",
     "output_type": "stream",
     "text": [
      "model_id, score_thresholds 1 {'rank_abs': [3317]}\n"
     ]
    }
   ],
   "source": [
    "# Aequitas\n",
    "from aequitas.preprocessing import preprocess_input_df\n",
    "from aequitas.group import Group\n",
    "from aequitas.plotting import Plot\n",
    "from aequitas.bias import Bias\n",
    "from aequitas.fairness import Fairness\n",
    "\n",
    "ae_subset_df = compas_df[['sex', 'age_cat', 'race', 'score', 'label_value']]\n",
    "ae_df, _ = preprocess_input_df(ae_subset_df)\n",
    "g = Group()\n",
    "xtab, _ = g.get_crosstabs(ae_df)\n",
    "absolute_metrics = g.list_absolute_metrics(xtab)\n",
    "clean_xtab = xtab.fillna(-1)\n",
    "aqp = Plot()\n",
    "b = Bias()"
   ]
  },
  {
   "cell_type": "markdown",
   "metadata": {},
   "source": [
    "### Summarized Metric View"
   ]
  },
  {
   "cell_type": "code",
   "execution_count": 51,
   "metadata": {},
   "outputs": [
    {
     "data": {
      "text/html": [
       "<div>\n",
       "<style scoped>\n",
       "    .dataframe tbody tr th:only-of-type {\n",
       "        vertical-align: middle;\n",
       "    }\n",
       "\n",
       "    .dataframe tbody tr th {\n",
       "        vertical-align: top;\n",
       "    }\n",
       "\n",
       "    .dataframe thead th {\n",
       "        text-align: right;\n",
       "    }\n",
       "</style>\n",
       "<table border=\"1\" class=\"dataframe\">\n",
       "  <thead>\n",
       "    <tr style=\"text-align: right;\">\n",
       "      <th></th>\n",
       "      <th>model_id</th>\n",
       "      <th>score_threshold</th>\n",
       "      <th>k</th>\n",
       "      <th>attribute_name</th>\n",
       "      <th>attribute_value</th>\n",
       "      <th>pp</th>\n",
       "      <th>pn</th>\n",
       "      <th>fp</th>\n",
       "      <th>fn</th>\n",
       "      <th>tn</th>\n",
       "      <th>tp</th>\n",
       "      <th>group_label_pos</th>\n",
       "      <th>group_label_neg</th>\n",
       "      <th>group_size</th>\n",
       "      <th>total_entities</th>\n",
       "    </tr>\n",
       "  </thead>\n",
       "  <tbody>\n",
       "    <tr>\n",
       "      <th>0</th>\n",
       "      <td>1</td>\n",
       "      <td>binary 0/1</td>\n",
       "      <td>3317</td>\n",
       "      <td>sex</td>\n",
       "      <td>Female</td>\n",
       "      <td>591</td>\n",
       "      <td>804</td>\n",
       "      <td>288</td>\n",
       "      <td>195</td>\n",
       "      <td>609</td>\n",
       "      <td>303</td>\n",
       "      <td>498</td>\n",
       "      <td>897</td>\n",
       "      <td>1395</td>\n",
       "      <td>7214</td>\n",
       "    </tr>\n",
       "    <tr>\n",
       "      <th>1</th>\n",
       "      <td>1</td>\n",
       "      <td>binary 0/1</td>\n",
       "      <td>3317</td>\n",
       "      <td>sex</td>\n",
       "      <td>Male</td>\n",
       "      <td>2726</td>\n",
       "      <td>3093</td>\n",
       "      <td>994</td>\n",
       "      <td>1021</td>\n",
       "      <td>2072</td>\n",
       "      <td>1732</td>\n",
       "      <td>2753</td>\n",
       "      <td>3066</td>\n",
       "      <td>5819</td>\n",
       "      <td>7214</td>\n",
       "    </tr>\n",
       "    <tr>\n",
       "      <th>2</th>\n",
       "      <td>1</td>\n",
       "      <td>binary 0/1</td>\n",
       "      <td>3317</td>\n",
       "      <td>age_cat</td>\n",
       "      <td>25 - 45</td>\n",
       "      <td>1924</td>\n",
       "      <td>2185</td>\n",
       "      <td>741</td>\n",
       "      <td>706</td>\n",
       "      <td>1479</td>\n",
       "      <td>1183</td>\n",
       "      <td>1889</td>\n",
       "      <td>2220</td>\n",
       "      <td>4109</td>\n",
       "      <td>7214</td>\n",
       "    </tr>\n",
       "    <tr>\n",
       "      <th>3</th>\n",
       "      <td>1</td>\n",
       "      <td>binary 0/1</td>\n",
       "      <td>3317</td>\n",
       "      <td>age_cat</td>\n",
       "      <td>Greater than 45</td>\n",
       "      <td>394</td>\n",
       "      <td>1182</td>\n",
       "      <td>181</td>\n",
       "      <td>285</td>\n",
       "      <td>897</td>\n",
       "      <td>213</td>\n",
       "      <td>498</td>\n",
       "      <td>1078</td>\n",
       "      <td>1576</td>\n",
       "      <td>7214</td>\n",
       "    </tr>\n",
       "    <tr>\n",
       "      <th>4</th>\n",
       "      <td>1</td>\n",
       "      <td>binary 0/1</td>\n",
       "      <td>3317</td>\n",
       "      <td>age_cat</td>\n",
       "      <td>Less than 25</td>\n",
       "      <td>999</td>\n",
       "      <td>530</td>\n",
       "      <td>360</td>\n",
       "      <td>225</td>\n",
       "      <td>305</td>\n",
       "      <td>639</td>\n",
       "      <td>864</td>\n",
       "      <td>665</td>\n",
       "      <td>1529</td>\n",
       "      <td>7214</td>\n",
       "    </tr>\n",
       "    <tr>\n",
       "      <th>5</th>\n",
       "      <td>1</td>\n",
       "      <td>binary 0/1</td>\n",
       "      <td>3317</td>\n",
       "      <td>race</td>\n",
       "      <td>African-American</td>\n",
       "      <td>2174</td>\n",
       "      <td>1522</td>\n",
       "      <td>805</td>\n",
       "      <td>532</td>\n",
       "      <td>990</td>\n",
       "      <td>1369</td>\n",
       "      <td>1901</td>\n",
       "      <td>1795</td>\n",
       "      <td>3696</td>\n",
       "      <td>7214</td>\n",
       "    </tr>\n",
       "    <tr>\n",
       "      <th>6</th>\n",
       "      <td>1</td>\n",
       "      <td>binary 0/1</td>\n",
       "      <td>3317</td>\n",
       "      <td>race</td>\n",
       "      <td>Asian</td>\n",
       "      <td>8</td>\n",
       "      <td>24</td>\n",
       "      <td>2</td>\n",
       "      <td>3</td>\n",
       "      <td>21</td>\n",
       "      <td>6</td>\n",
       "      <td>9</td>\n",
       "      <td>23</td>\n",
       "      <td>32</td>\n",
       "      <td>7214</td>\n",
       "    </tr>\n",
       "    <tr>\n",
       "      <th>7</th>\n",
       "      <td>1</td>\n",
       "      <td>binary 0/1</td>\n",
       "      <td>3317</td>\n",
       "      <td>race</td>\n",
       "      <td>Caucasian</td>\n",
       "      <td>854</td>\n",
       "      <td>1600</td>\n",
       "      <td>349</td>\n",
       "      <td>461</td>\n",
       "      <td>1139</td>\n",
       "      <td>505</td>\n",
       "      <td>966</td>\n",
       "      <td>1488</td>\n",
       "      <td>2454</td>\n",
       "      <td>7214</td>\n",
       "    </tr>\n",
       "    <tr>\n",
       "      <th>8</th>\n",
       "      <td>1</td>\n",
       "      <td>binary 0/1</td>\n",
       "      <td>3317</td>\n",
       "      <td>race</td>\n",
       "      <td>Hispanic</td>\n",
       "      <td>190</td>\n",
       "      <td>447</td>\n",
       "      <td>87</td>\n",
       "      <td>129</td>\n",
       "      <td>318</td>\n",
       "      <td>103</td>\n",
       "      <td>232</td>\n",
       "      <td>405</td>\n",
       "      <td>637</td>\n",
       "      <td>7214</td>\n",
       "    </tr>\n",
       "    <tr>\n",
       "      <th>9</th>\n",
       "      <td>1</td>\n",
       "      <td>binary 0/1</td>\n",
       "      <td>3317</td>\n",
       "      <td>race</td>\n",
       "      <td>Native American</td>\n",
       "      <td>12</td>\n",
       "      <td>6</td>\n",
       "      <td>3</td>\n",
       "      <td>1</td>\n",
       "      <td>5</td>\n",
       "      <td>9</td>\n",
       "      <td>10</td>\n",
       "      <td>8</td>\n",
       "      <td>18</td>\n",
       "      <td>7214</td>\n",
       "    </tr>\n",
       "    <tr>\n",
       "      <th>10</th>\n",
       "      <td>1</td>\n",
       "      <td>binary 0/1</td>\n",
       "      <td>3317</td>\n",
       "      <td>race</td>\n",
       "      <td>Other</td>\n",
       "      <td>79</td>\n",
       "      <td>298</td>\n",
       "      <td>36</td>\n",
       "      <td>90</td>\n",
       "      <td>208</td>\n",
       "      <td>43</td>\n",
       "      <td>133</td>\n",
       "      <td>244</td>\n",
       "      <td>377</td>\n",
       "      <td>7214</td>\n",
       "    </tr>\n",
       "  </tbody>\n",
       "</table>\n",
       "</div>"
      ],
      "text/plain": [
       "    model_id score_threshold     k attribute_name   attribute_value    pp  \\\n",
       "0          1      binary 0/1  3317            sex            Female   591   \n",
       "1          1      binary 0/1  3317            sex              Male  2726   \n",
       "2          1      binary 0/1  3317        age_cat           25 - 45  1924   \n",
       "3          1      binary 0/1  3317        age_cat   Greater than 45   394   \n",
       "4          1      binary 0/1  3317        age_cat      Less than 25   999   \n",
       "5          1      binary 0/1  3317           race  African-American  2174   \n",
       "6          1      binary 0/1  3317           race             Asian     8   \n",
       "7          1      binary 0/1  3317           race         Caucasian   854   \n",
       "8          1      binary 0/1  3317           race          Hispanic   190   \n",
       "9          1      binary 0/1  3317           race   Native American    12   \n",
       "10         1      binary 0/1  3317           race             Other    79   \n",
       "\n",
       "      pn   fp    fn    tn    tp  group_label_pos  group_label_neg  group_size  \\\n",
       "0    804  288   195   609   303              498              897        1395   \n",
       "1   3093  994  1021  2072  1732             2753             3066        5819   \n",
       "2   2185  741   706  1479  1183             1889             2220        4109   \n",
       "3   1182  181   285   897   213              498             1078        1576   \n",
       "4    530  360   225   305   639              864              665        1529   \n",
       "5   1522  805   532   990  1369             1901             1795        3696   \n",
       "6     24    2     3    21     6                9               23          32   \n",
       "7   1600  349   461  1139   505              966             1488        2454   \n",
       "8    447   87   129   318   103              232              405         637   \n",
       "9      6    3     1     5     9               10                8          18   \n",
       "10   298   36    90   208    43              133              244         377   \n",
       "\n",
       "    total_entities  \n",
       "0             7214  \n",
       "1             7214  \n",
       "2             7214  \n",
       "3             7214  \n",
       "4             7214  \n",
       "5             7214  \n",
       "6             7214  \n",
       "7             7214  \n",
       "8             7214  \n",
       "9             7214  \n",
       "10            7214  "
      ]
     },
     "execution_count": 51,
     "metadata": {},
     "output_type": "execute_result"
    }
   ],
   "source": [
    "absolute_metrics = g.list_absolute_metrics(xtab)\n",
    "xtab[[col for col in xtab.columns if col not in absolute_metrics]]"
   ]
  },
  {
   "cell_type": "code",
   "execution_count": 52,
   "metadata": {},
   "outputs": [
    {
     "data": {
      "text/html": [
       "<div>\n",
       "<style scoped>\n",
       "    .dataframe tbody tr th:only-of-type {\n",
       "        vertical-align: middle;\n",
       "    }\n",
       "\n",
       "    .dataframe tbody tr th {\n",
       "        vertical-align: top;\n",
       "    }\n",
       "\n",
       "    .dataframe thead th {\n",
       "        text-align: right;\n",
       "    }\n",
       "</style>\n",
       "<table border=\"1\" class=\"dataframe\">\n",
       "  <thead>\n",
       "    <tr style=\"text-align: right;\">\n",
       "      <th></th>\n",
       "      <th>attribute_name</th>\n",
       "      <th>attribute_value</th>\n",
       "      <th>tpr</th>\n",
       "      <th>tnr</th>\n",
       "      <th>for</th>\n",
       "      <th>fdr</th>\n",
       "      <th>fpr</th>\n",
       "      <th>fnr</th>\n",
       "      <th>npv</th>\n",
       "      <th>precision</th>\n",
       "      <th>ppr</th>\n",
       "      <th>pprev</th>\n",
       "      <th>prev</th>\n",
       "    </tr>\n",
       "  </thead>\n",
       "  <tbody>\n",
       "    <tr>\n",
       "      <th>0</th>\n",
       "      <td>sex</td>\n",
       "      <td>Female</td>\n",
       "      <td>0.61</td>\n",
       "      <td>0.68</td>\n",
       "      <td>0.24</td>\n",
       "      <td>0.49</td>\n",
       "      <td>0.32</td>\n",
       "      <td>0.39</td>\n",
       "      <td>0.76</td>\n",
       "      <td>0.51</td>\n",
       "      <td>0.18</td>\n",
       "      <td>0.42</td>\n",
       "      <td>0.36</td>\n",
       "    </tr>\n",
       "    <tr>\n",
       "      <th>1</th>\n",
       "      <td>sex</td>\n",
       "      <td>Male</td>\n",
       "      <td>0.63</td>\n",
       "      <td>0.68</td>\n",
       "      <td>0.33</td>\n",
       "      <td>0.36</td>\n",
       "      <td>0.32</td>\n",
       "      <td>0.37</td>\n",
       "      <td>0.67</td>\n",
       "      <td>0.64</td>\n",
       "      <td>0.82</td>\n",
       "      <td>0.47</td>\n",
       "      <td>0.47</td>\n",
       "    </tr>\n",
       "    <tr>\n",
       "      <th>2</th>\n",
       "      <td>age_cat</td>\n",
       "      <td>25 - 45</td>\n",
       "      <td>0.63</td>\n",
       "      <td>0.67</td>\n",
       "      <td>0.32</td>\n",
       "      <td>0.39</td>\n",
       "      <td>0.33</td>\n",
       "      <td>0.37</td>\n",
       "      <td>0.68</td>\n",
       "      <td>0.61</td>\n",
       "      <td>0.58</td>\n",
       "      <td>0.47</td>\n",
       "      <td>0.46</td>\n",
       "    </tr>\n",
       "    <tr>\n",
       "      <th>3</th>\n",
       "      <td>age_cat</td>\n",
       "      <td>Greater than 45</td>\n",
       "      <td>0.43</td>\n",
       "      <td>0.83</td>\n",
       "      <td>0.24</td>\n",
       "      <td>0.46</td>\n",
       "      <td>0.17</td>\n",
       "      <td>0.57</td>\n",
       "      <td>0.76</td>\n",
       "      <td>0.54</td>\n",
       "      <td>0.12</td>\n",
       "      <td>0.25</td>\n",
       "      <td>0.32</td>\n",
       "    </tr>\n",
       "    <tr>\n",
       "      <th>4</th>\n",
       "      <td>age_cat</td>\n",
       "      <td>Less than 25</td>\n",
       "      <td>0.74</td>\n",
       "      <td>0.46</td>\n",
       "      <td>0.42</td>\n",
       "      <td>0.36</td>\n",
       "      <td>0.54</td>\n",
       "      <td>0.26</td>\n",
       "      <td>0.58</td>\n",
       "      <td>0.64</td>\n",
       "      <td>0.30</td>\n",
       "      <td>0.65</td>\n",
       "      <td>0.57</td>\n",
       "    </tr>\n",
       "    <tr>\n",
       "      <th>5</th>\n",
       "      <td>race</td>\n",
       "      <td>African-American</td>\n",
       "      <td>0.72</td>\n",
       "      <td>0.55</td>\n",
       "      <td>0.35</td>\n",
       "      <td>0.37</td>\n",
       "      <td>0.45</td>\n",
       "      <td>0.28</td>\n",
       "      <td>0.65</td>\n",
       "      <td>0.63</td>\n",
       "      <td>0.66</td>\n",
       "      <td>0.59</td>\n",
       "      <td>0.51</td>\n",
       "    </tr>\n",
       "    <tr>\n",
       "      <th>6</th>\n",
       "      <td>race</td>\n",
       "      <td>Asian</td>\n",
       "      <td>0.67</td>\n",
       "      <td>0.91</td>\n",
       "      <td>0.12</td>\n",
       "      <td>0.25</td>\n",
       "      <td>0.09</td>\n",
       "      <td>0.33</td>\n",
       "      <td>0.88</td>\n",
       "      <td>0.75</td>\n",
       "      <td>0.00</td>\n",
       "      <td>0.25</td>\n",
       "      <td>0.28</td>\n",
       "    </tr>\n",
       "    <tr>\n",
       "      <th>7</th>\n",
       "      <td>race</td>\n",
       "      <td>Caucasian</td>\n",
       "      <td>0.52</td>\n",
       "      <td>0.77</td>\n",
       "      <td>0.29</td>\n",
       "      <td>0.41</td>\n",
       "      <td>0.23</td>\n",
       "      <td>0.48</td>\n",
       "      <td>0.71</td>\n",
       "      <td>0.59</td>\n",
       "      <td>0.26</td>\n",
       "      <td>0.35</td>\n",
       "      <td>0.39</td>\n",
       "    </tr>\n",
       "    <tr>\n",
       "      <th>8</th>\n",
       "      <td>race</td>\n",
       "      <td>Hispanic</td>\n",
       "      <td>0.44</td>\n",
       "      <td>0.79</td>\n",
       "      <td>0.29</td>\n",
       "      <td>0.46</td>\n",
       "      <td>0.21</td>\n",
       "      <td>0.56</td>\n",
       "      <td>0.71</td>\n",
       "      <td>0.54</td>\n",
       "      <td>0.06</td>\n",
       "      <td>0.30</td>\n",
       "      <td>0.36</td>\n",
       "    </tr>\n",
       "    <tr>\n",
       "      <th>9</th>\n",
       "      <td>race</td>\n",
       "      <td>Native American</td>\n",
       "      <td>0.90</td>\n",
       "      <td>0.62</td>\n",
       "      <td>0.17</td>\n",
       "      <td>0.25</td>\n",
       "      <td>0.38</td>\n",
       "      <td>0.10</td>\n",
       "      <td>0.83</td>\n",
       "      <td>0.75</td>\n",
       "      <td>0.00</td>\n",
       "      <td>0.67</td>\n",
       "      <td>0.56</td>\n",
       "    </tr>\n",
       "    <tr>\n",
       "      <th>10</th>\n",
       "      <td>race</td>\n",
       "      <td>Other</td>\n",
       "      <td>0.32</td>\n",
       "      <td>0.85</td>\n",
       "      <td>0.30</td>\n",
       "      <td>0.46</td>\n",
       "      <td>0.15</td>\n",
       "      <td>0.68</td>\n",
       "      <td>0.70</td>\n",
       "      <td>0.54</td>\n",
       "      <td>0.02</td>\n",
       "      <td>0.21</td>\n",
       "      <td>0.35</td>\n",
       "    </tr>\n",
       "  </tbody>\n",
       "</table>\n",
       "</div>"
      ],
      "text/plain": [
       "   attribute_name   attribute_value   tpr   tnr   for   fdr   fpr   fnr   npv  \\\n",
       "0             sex            Female  0.61  0.68  0.24  0.49  0.32  0.39  0.76   \n",
       "1             sex              Male  0.63  0.68  0.33  0.36  0.32  0.37  0.67   \n",
       "2         age_cat           25 - 45  0.63  0.67  0.32  0.39  0.33  0.37  0.68   \n",
       "3         age_cat   Greater than 45  0.43  0.83  0.24  0.46  0.17  0.57  0.76   \n",
       "4         age_cat      Less than 25  0.74  0.46  0.42  0.36  0.54  0.26  0.58   \n",
       "5            race  African-American  0.72  0.55  0.35  0.37  0.45  0.28  0.65   \n",
       "6            race             Asian  0.67  0.91  0.12  0.25  0.09  0.33  0.88   \n",
       "7            race         Caucasian  0.52  0.77  0.29  0.41  0.23  0.48  0.71   \n",
       "8            race          Hispanic  0.44  0.79  0.29  0.46  0.21  0.56  0.71   \n",
       "9            race   Native American  0.90  0.62  0.17  0.25  0.38  0.10  0.83   \n",
       "10           race             Other  0.32  0.85  0.30  0.46  0.15  0.68  0.70   \n",
       "\n",
       "    precision   ppr  pprev  prev  \n",
       "0        0.51  0.18   0.42  0.36  \n",
       "1        0.64  0.82   0.47  0.47  \n",
       "2        0.61  0.58   0.47  0.46  \n",
       "3        0.54  0.12   0.25  0.32  \n",
       "4        0.64  0.30   0.65  0.57  \n",
       "5        0.63  0.66   0.59  0.51  \n",
       "6        0.75  0.00   0.25  0.28  \n",
       "7        0.59  0.26   0.35  0.39  \n",
       "8        0.54  0.06   0.30  0.36  \n",
       "9        0.75  0.00   0.67  0.56  \n",
       "10       0.54  0.02   0.21  0.35  "
      ]
     },
     "execution_count": 52,
     "metadata": {},
     "output_type": "execute_result"
    }
   ],
   "source": [
    "xtab[['attribute_name', 'attribute_value'] + absolute_metrics].round(2)"
   ]
  },
  {
   "cell_type": "code",
   "execution_count": 53,
   "metadata": {},
   "outputs": [
    {
     "data": {
      "image/png": "[encoded data removed]",
      "text/plain": [
       "<Figure size 1800x432 with 5 Axes>"
      ]
     },
     "metadata": {
      "needs_background": "light"
     },
     "output_type": "display_data"
    }
   ],
   "source": [
    "p = aqp.plot_group_metric_all(xtab, metrics=['tpr', 'fpr', 'ppr', 'pprev', 'fnr'], ncols=5)"
   ]
  },
  {
   "cell_type": "markdown",
   "metadata": {},
   "source": [
    "### Add Reference Group"
   ]
  },
  {
   "cell_type": "code",
   "execution_count": null,
   "metadata": {},
   "outputs": [
    {
     "name": "stdout",
     "output_type": "stream",
     "text": [
      "get_disparity_predefined_group()\n"
     ]
    },
    {
     "name": "stderr",
     "output_type": "stream",
     "text": [
      "/opt/conda/lib/python3.7/site-packages/aequitas/bias.py:368: FutureWarning: The pandas.np module is deprecated and will be removed from pandas in a future version. Import numpy directly instead\n",
      "  df = df.replace(pd.np.inf, fill_divbyzero)\n",
      "/opt/conda/lib/python3.7/site-packages/aequitas/fairness.py:32: FutureWarning: The pandas.np module is deprecated and will be removed from pandas in a future version. Import numpy directly instead\n",
      "  self.fair_eval = lambda tau: lambda x: pd.np.nan if pd.np.isnan(x) else \\\n",
      "/opt/conda/lib/python3.7/site-packages/aequitas/fairness.py:45: FutureWarning: The pandas.np module is deprecated and will be removed from pandas in a future version. Import numpy directly instead\n",
      "  self.high_level_pair_eval = lambda col1, col2: lambda x: pd.np.nan if (pd.np.isnan(x[col1]) and pd.np.isnan(x[col2])) \\\n"
     ]
    }
   ],
   "source": [
    "bdf = b.get_disparity_predefined_groups(clean_xtab,\n",
    "                    original_df=ae_df,\n",
    "                    ref_groups_dict={'race':'Asian', 'sex':'Female', 'age_cat':'Less than 25'},\n",
    "                    alpha=0.05,\n",
    "                    check_significance=False)\n",
    "\n",
    "f = Fairness()\n",
    "fdf = f.get_group_value_fairness(bdf)"
   ]
  },
  {
   "cell_type": "markdown",
   "metadata": {},
   "source": [
    "### FPR Analysis"
   ]
  },
  {
   "cell_type": "code",
   "execution_count": null,
   "metadata": {},
   "outputs": [
    {
     "data": {
      "image/png": "[encoded data removed]",
      "text/plain": [
       "<Figure size 360x288 with 2 Axes>"
      ]
     },
     "metadata": {
      "needs_background": "light"
     },
     "output_type": "display_data"
    }
   ],
   "source": [
    " fpr_disparity = aqp.plot_disparity(bdf, group_metric='fpr_disparity',\n",
    "                                       attribute_name='race')"
   ]
  },
  {
   "cell_type": "markdown",
   "metadata": {},
   "source": [
    "African Americans are over 5x more likely to be falsely identified as well as Hispanic and Caucasian have over 2x more likely to be falsely identified than Asian."
   ]
  },
  {
   "cell_type": "markdown",
   "metadata": {},
   "source": [
    "### Absolute Value Fairness Determination\n",
    "- Red = False/Not Fair\n",
    "- Green = True/Fair"
   ]
  },
  {
   "cell_type": "code",
   "execution_count": 56,
   "metadata": {},
   "outputs": [
    {
     "data": {
      "image/png": "[encoded data removed]",
      "text/plain": [
       "<Figure size 720x360 with 1 Axes>"
      ]
     },
     "metadata": {
      "needs_background": "light"
     },
     "output_type": "display_data"
    }
   ],
   "source": [
    "fpr_fairness = aqp.plot_fairness_group(fdf, group_metric='fpr', title=True)"
   ]
  },
  {
   "cell_type": "markdown",
   "metadata": {},
   "source": [
    "## L5 - 3: Uncertainty Estimation Model"
   ]
  },
  {
   "cell_type": "markdown",
   "metadata": {},
   "source": [
    "### Instructions\n",
    "- Given the Swiss heart disease dataset we have been working with, create an uncertainty estimation model that accounts for Epistemic Uncertainty as well. Provide the mean and standard deviation outputs.\n",
    "- https://blog.tensorflow.org/2019/03/regression-with-probabilistic-layers-in.html"
   ]
  },
  {
   "cell_type": "code",
   "execution_count": 57,
   "metadata": {},
   "outputs": [],
   "source": [
    "import tensorflow_probability as tfp"
   ]
  },
  {
   "cell_type": "code",
   "execution_count": null,
   "metadata": {},
   "outputs": [],
   "source": [
    "'''\n",
    "Adapted from Tensorflow Probability Regression tutorial  https://github.com/tensorflow/probability/blob/master/tensorflow_probability/examples/jupyter_notebooks/Probabilistic_Layers_Regression.ipynb\n",
    "'''\n",
    "def posterior_mean_field(kernel_size, bias_size=0, dtype=None):\n",
    "    n = kernel_size + bias_size\n",
    "    c = np.log(np.expm1(1.))\n",
    "    return tf.keras.Sequential([\n",
    "        tfp.layers.VariableLayer(2*n, dtype=dtype),\n",
    "        tfp.layers.DistributionLambda(lambda t: tfp.distributions.Independent(\n",
    "            tfp.distributions.Normal(loc=t[..., :n],\n",
    "                                     scale=1e-5 + tf.nn.softplus(c + t[..., n:])),\n",
    "            reinterpreted_batch_ndims=1)),\n",
    "    ])\n",
    "\n",
    "\n",
    "def prior_trainable(kernel_size, bias_size=0, dtype=None):\n",
    "    n = kernel_size + bias_size\n",
    "    return tf.keras.Sequential([\n",
    "        tfp.layers.VariableLayer(n, dtype=dtype),\n",
    "        tfp.layers.DistributionLambda(lambda t: tfp.distributions.Independent(\n",
    "            tfp.distributions.Normal(loc=t, scale=1),\n",
    "            reinterpreted_batch_ndims=1)),\n",
    "    ])\n"
   ]
  },
  {
   "cell_type": "code",
   "execution_count": null,
   "metadata": {},
   "outputs": [],
   "source": [
    "def build_seq_prob_model(feature_layer):\n",
    "    model = tf.keras.Sequential([\n",
    "        feature_layer,\n",
    "        tf.keras.layers.Dense(150, activation='relu'),\n",
    "        tf.keras.layers.Dense(75, activation='relu'),\n",
    "           tfp.layers.DenseVariational(1+1, posterior_mean_field, prior_trainable),\n",
    "        tfp.layers.DistributionLambda(\n",
    "            lambda t:tfp.distributions.Normal(loc=t[..., :1],\n",
    "                                            scale=1e-3 + tf.math.softplus(0.1 * t[...,1:])\n",
    "                                             )\n",
    "        ),\n",
    "    ])\n",
    "    return model\n",
    "\n",
    "def build_prob_model(train_ds,   feature_layer,  epochs=5, loss_metric='mse'):\n",
    "    model = build_seq_prob_model(feature_layer)\n",
    "    negloglik = lambda y, rv_y: -rv_y.log_prob(y)\n",
    "    loss = negloglik\n",
    "    model.compile(optimizer='adam', loss=loss, metrics=[loss_metric])\n",
    "    history = model.fit(train_ds,\n",
    "                        epochs=epochs)\n",
    "    return model, history"
   ]
  },
  {
   "cell_type": "code",
   "execution_count": null,
   "metadata": {},
   "outputs": [
    {
     "name": "stdout",
     "output_type": "stream",
     "text": [
      "Train for 3 steps\n",
      "Epoch 1/1000\n",
      "3/3 [==============================] - 2s 732ms/step - loss: 19461.4526 - mse: 17542.1484\n",
      "Epoch 2/1000\n",
      "3/3 [==============================] - 0s 19ms/step - loss: 20273.1341 - mse: 17612.1797\n",
      "Epoch 3/1000\n",
      "3/3 [==============================] - 0s 17ms/step - loss: 19040.5793 - mse: 17508.7031\n",
      "Epoch 4/1000\n",
      "3/3 [==============================] - 0s 19ms/step - loss: 17696.3185 - mse: 17345.2695\n",
      "Epoch 5/1000\n",
      "3/3 [==============================] - 0s 20ms/step - loss: 17654.7524 - mse: 17587.3047\n",
      "Epoch 6/1000\n",
      "3/3 [==============================] - 0s 22ms/step - loss: 20322.9690 - mse: 17677.1602\n",
      "Epoch 7/1000\n",
      "3/3 [==============================] - 0s 20ms/step - loss: 17600.8288 - mse: 17688.5859\n",
      "Epoch 8/1000\n",
      "3/3 [==============================] - 0s 18ms/step - loss: 17702.6468 - mse: 17290.7930\n",
      "Epoch 9/1000\n",
      "3/3 [==============================] - 0s 21ms/step - loss: 22503.5057 - mse: 17557.4922\n",
      "Epoch 10/1000\n",
      "3/3 [==============================] - 0s 23ms/step - loss: 19717.7766 - mse: 17529.7852\n",
      "Epoch 11/1000\n",
      "3/3 [==============================] - 0s 20ms/step - loss: 18141.7764 - mse: 17600.9883\n",
      "Epoch 12/1000\n",
      "3/3 [==============================] - 0s 20ms/step - loss: 16627.2983 - mse: 17552.7480\n",
      "Epoch 13/1000\n",
      "3/3 [==============================] - 0s 20ms/step - loss: 25435.9383 - mse: 17607.3887\n",
      "Epoch 14/1000\n",
      "3/3 [==============================] - 0s 19ms/step - loss: 17536.2196 - mse: 17424.8457\n",
      "Epoch 15/1000\n",
      "3/3 [==============================] - 0s 21ms/step - loss: 16967.8174 - mse: 17376.3320\n",
      "Epoch 16/1000\n",
      "3/3 [==============================] - 0s 33ms/step - loss: 19586.1932 - mse: 17736.4414\n",
      "Epoch 17/1000\n",
      "3/3 [==============================] - 0s 31ms/step - loss: 20828.1263 - mse: 17297.4648\n",
      "Epoch 18/1000\n",
      "3/3 [==============================] - 0s 30ms/step - loss: 16828.8235 - mse: 17337.9160\n",
      "Epoch 19/1000\n",
      "3/3 [==============================] - 0s 31ms/step - loss: 18185.0621 - mse: 17625.0977\n",
      "Epoch 20/1000\n",
      "3/3 [==============================] - 0s 32ms/step - loss: 16433.7096 - mse: 17402.8398\n",
      "Epoch 21/1000\n",
      "3/3 [==============================] - 0s 30ms/step - loss: 15366.9520 - mse: 17629.4785\n",
      "Epoch 22/1000\n",
      "3/3 [==============================] - 0s 29ms/step - loss: 18783.9353 - mse: 17823.7910\n",
      "Epoch 23/1000\n",
      "3/3 [==============================] - 0s 28ms/step - loss: 17797.3368 - mse: 17368.5723\n",
      "Epoch 24/1000\n",
      "1/3 [=========>....................] - ETA: 0s - loss: 16863.9258 - mse: 18027.5117"
     ]
    }
   ],
   "source": [
    "prob_model, history = build_prob_model(train_ds, dense_feature_layer,  epochs=1000)"
   ]
  },
  {
   "cell_type": "code",
   "execution_count": null,
   "metadata": {},
   "outputs": [],
   "source": [
    "feature_list = ['sex', 'age', 'thalach']\n",
    "x_tst = dict(test_dataset[feature_list])\n",
    "yhat = prob_model(x_tst)\n",
    "prob_preds = prob_model.predict(test_ds)\n",
    "m = yhat.mean()\n",
    "s = yhat.stddev()"
   ]
  },
  {
   "cell_type": "code",
   "execution_count": null,
   "metadata": {},
   "outputs": [],
   "source": [
    "prob_outputs = {\n",
    "    \"pred\": prob_preds.flatten(),\n",
    "     \"actual_value\": test_dataset['trestbps'].values,\n",
    "    \"pred_mean\": m.numpy().flatten(),\n",
    "    \"pred_std\": s.numpy().flatten()\n",
    "}\n",
    "prob_output_df = pd.DataFrame(prob_outputs)"
   ]
  },
  {
   "cell_type": "code",
   "execution_count": null,
   "metadata": {},
   "outputs": [],
   "source": [
    "prob_output_df.head()"
   ]
  },
  {
   "cell_type": "code",
   "execution_count": null,
   "metadata": {},
   "outputs": [],
   "source": [
    "yhats = [prob_model(x_tst) for _ in range(10)]"
   ]
  },
  {
   "cell_type": "code",
   "execution_count": null,
   "metadata": {},
   "outputs": [],
   "source": [
    "for i, yhat in enumerate(yhats):\n",
    "    m = np.squeeze(yhat.mean())\n",
    "    s = np.squeeze(yhat.stddev())\n",
    "    print(\"Mean distributions sampled:{}\".format(m))\n",
    "    print(\"Standard deviation distributions sampled:{}\".format(s))\n"
   ]
  },
  {
   "cell_type": "code",
   "execution_count": null,
   "metadata": {},
   "outputs": [],
   "source": []
  }
 ],
 "metadata": {
  "kernelspec": {
   "display_name": "anup_prompt_venv",
   "language": "python",
   "name": "python3"
  },
  "language_info": {
   "codemirror_mode": {
    "name": "ipython",
    "version": 3
   },
   "file_extension": ".py",
   "mimetype": "text/x-python",
   "name": "python",
   "nbconvert_exporter": "python",
   "pygments_lexer": "ipython3",
   "version": "3.12.7"
  }
 },
 "nbformat": 4,
 "nbformat_minor": 2
}
