{
 "cells": [
  {
   "cell_type": "markdown",
   "metadata": {},
   "source": [
    "This the code for walking through the lesson examples for your reference."
   ]
  },
  {
   "cell_type": "markdown",
   "metadata": {},
   "source": [
    "## Code for Building Synthetic Dataset"
   ]
  },
  {
   "cell_type": "code",
   "execution_count": null,
   "metadata": {},
   "outputs": [],
   "source": [
    "# # Explanation of Code Block: Importing Libraries for Data Manipulation\n",
    "#\n",
    "# This block uses the `pandas` and `numpy` libraries, which are essential for data analysis and manipulation in Python.\n",
    "#\n",
    "# - `import pandas as pd`: Imports the pandas library and assigns it the alias `pd`. Pandas provides powerful data structures like DataFrame for handling structured data.\n",
    "# - `import numpy as np`: Imports the numpy library and assigns it the alias `np`. Numpy is used for numerical operations and working with arrays.\n",
    "#\n",
    "import pandas as pd\n",
    "import numpy as np\n"
   ]
  },
  {
   "cell_type": "code",
   "execution_count": 12,
   "metadata": {},
   "outputs": [],
   "source": [
    "# Explanation of Code Block: Defining Synthetic Dataset Parameters\n",
    "#\n",
    "# This block sets up key parameters for generating a synthetic line-level dataset.\n",
    "# - NUMBER_RECORDS: Specifies the total number of records (rows) to generate in the dataset.\n",
    "# - NUMBER_ENCOUNTERS: Sets the number of unique encounter IDs to simulate different patient visits.\n",
    "# - NUMBER_PATIENTS: Sets the number of unique patient IDs to represent individual patients.\n",
    "# These variables are used throughout the notebook to control the size and structure of the synthetic data.\n",
    "\n",
    "#build synthetic line level example\n",
    "NUMBER_RECORDS = 100000\n",
    "NUMBER_ENCOUNTERS = 7800\n",
    "NUMBER_PATIENTS = 1000"
   ]
  },
  {
   "cell_type": "code",
   "execution_count": 13,
   "metadata": {},
   "outputs": [],
   "source": [
    "# Explanation of Code Block: Creating Random Code Sets for Synthetic EHR Data\n",
    "#\n",
    "# This block uses numpy's `arange` function to generate ranges of integers, which are then converted to string identifiers for different medical code sets.\n",
    "# - `dx_code_list`: Creates a list of diagnosis codes, formatted as \"dx_code_X\" for X in 1 to 99,999.\n",
    "# - `procedure_code_list`: Creates a list of procedure codes, formatted as \"procedure_code_X\" for X in 0 to 72,999.\n",
    "# - `medication_code_list`: Creates a list of medication codes, formatted as \"medication_code_X\" for X in 0 to 9,999.\n",
    "# - `lab_code_list`: Creates a list of lab codes, formatted as \"lab_code_X\" for X in 0 to 9,999.\n",
    "# These lists are used to randomly assign codes to synthetic patient records in later steps.\n",
    "#\n",
    "\n",
    "# Create random list of code sets for diagnosis, procedure, medication, and lab codes\n",
    "dx_code_list = [\"dx_code_\" + str(x) for x in np.arange(1,100000)]\n",
    "procedure_code_list =[\"procedure_code_\" + str(x) for x in np.arange(0,73000)]\n",
    "medication_code_list = [\"medication_code_\" + str(x) for x in np.arange(0,10000)]\n",
    "lab_code_list = [\"lab_code_\" + str(x) for x in np.arange(0,10000)]"
   ]
  },
  {
   "cell_type": "code",
   "execution_count": 14,
   "metadata": {},
   "outputs": [],
   "source": [
    "# Explanation of Code Block: Creating Patient and Encounter ID Lists\n",
    "#\n",
    "# This block generates unique identifiers for patients and encounters using Python list comprehensions and the numpy arange function.\n",
    "# - `patient_id_list`: Creates a list of patient IDs in the format \"udacity_health_patient_id_X\" where X ranges from 1 to NUMBER_PATIENTS (inclusive). Uses `np.arange(1, NUMBER_PATIENTS + 1)` to generate the range.\n",
    "# - `encounter_id_list`: Creates a list of encounter IDs in the format \"udacity_health_encounter_id_X\" where X ranges from 1 to NUMBER_ENCOUNTERS (inclusive). Uses `np.arange(1, NUMBER_ENCOUNTERS + 1)` to generate the range.\n",
    "# These lists are used to assign unique identifiers to synthetic patient and encounter records in the dataset.\n",
    "#\n",
    "\n",
    "patient_id_list = [\"udacity_health_patient_id_\" + str(x) for x in np.arange(1, NUMBER_PATIENTS +1)]\n",
    "encounter_id_list = [\"udacity_health_encounter_id_\" + str(x) for x in np.arange(1, NUMBER_ENCOUNTERS +1)]"
   ]
  },
  {
   "cell_type": "code",
   "execution_count": null,
   "metadata": {},
   "outputs": [],
   "source": [
    "# Explanation of Code Block: Random Value Selection Utility Function\n",
    "#\n",
    "# This block defines a utility function for randomly selecting values from a provided list, using a probability distribution.\n",
    "# - Library Used: numpy (np)\n",
    "#   - np.random.dirichlet: Generates a probability distribution over the list elements, ensuring the probabilities sum to 1.\n",
    "#     - Parameter: np.ones(len(field_value_list)) creates a uniform prior for the Dirichlet distribution.\n",
    "#     - size=1: Generates one probability vector.\n",
    "#   - np.random.choice: Randomly selects elements from the input list according to the generated probability distribution.\n",
    "#     - Parameters:\n",
    "#         - field_value_list: The list of possible values to sample from.\n",
    "#         - number_records: The number of samples to draw.\n",
    "#         - p=field_prob_dist: The probability distribution for sampling.\n",
    "# The function returns a numpy array of randomly selected values, useful for generating synthetic data with controlled randomness.\n",
    "#\n",
    "def random_value_selection(field_value_list, number_records):\n",
    "    #build normal probability distribution\n",
    "    field_prob_dist = np.random.dirichlet(np.ones(len(field_value_list)), size=1)[0]\n",
    "    #build random value list for field\n",
    "    field_random_values = np.random.choice(field_value_list, number_records, p=field_prob_dist)\n",
    "    return field_random_values"
   ]
  },
  {
   "cell_type": "code",
   "execution_count": 16,
   "metadata": {},
   "outputs": [],
   "source": [
    "# Explanation of Code Block: Generating Random Values for Encounters\n",
    "#patient_values = random_value_selection(patient_id_list, NUMBER_RECORDS)\n",
    "encounter_values = random_value_selection(encounter_id_list, NUMBER_RECORDS)"
   ]
  },
  {
   "cell_type": "code",
   "execution_count": 19,
   "metadata": {},
   "outputs": [],
   "source": [
    "# Explanation of Code Block: Generating Random Values for Medical Codes\n",
    "procedure_values = random_value_selection(procedure_code_list, NUMBER_RECORDS)\n",
    "medication_values = random_value_selection(medication_code_list, NUMBER_RECORDS)\n",
    "lab_values = random_value_selection(lab_code_list, NUMBER_RECORDS)"
   ]
  },
  {
   "cell_type": "code",
   "execution_count": 20,
   "metadata": {},
   "outputs": [],
   "source": [
    "# Explanation of Code Block: Assigning Procedure, Medication, and Lab Codes to Synthetic Records\n",
    "#\n",
    "# This block uses numpy to randomly assign one of three types of codes (procedure, medication, lab) to each synthetic record.\n",
    "# - Library Used: numpy (np)\n",
    "#   - np.random.choice: Randomly selects values from a list, with probabilities specified by the `p` parameter.\n",
    "#     - Parameters:\n",
    "#         - [0, 1, 2]: The possible choices, representing procedure, medication, and lab codes.\n",
    "#         - NUMBER_RECORDS: The number of selections to make (one per record).\n",
    "#         - p: Probability distribution for each choice, generated by np.random.dirichlet.\n",
    "#   - np.random.dirichlet: Generates a probability distribution over three categories, ensuring the probabilities sum to 1.\n",
    "#     - Parameter: np.ones(3) creates a uniform prior for the Dirichlet distribution.\n",
    "#     - size=1: Generates one probability vector.\n",
    "# - list(zip(...)): Combines the procedure, medication, lab values, and the random choice into tuples for each record.\n",
    "# - List comprehensions: Select the appropriate code for each record based on the random choice, setting the other codes to np.nan.\n",
    "#     - If triplet_prob_choice is 0, assign procedure code; if 1, assign medication code; if 2, assign lab code.\n",
    "#\n",
    "triplet_prob_choice = np.random.choice([0, 1, 2], NUMBER_RECORDS, p= np.random.dirichlet(np.ones(3), size=1)[0] )\n",
    "line_triplet_values = list(zip(procedure_values, medication_values, lab_values, triplet_prob_choice))\n",
    "selected_procedure_values = [x[0] if x[3] == 0 else np.nan for x in line_triplet_values ]\n",
    "selected_medication_values = [x[1] if x[3] == 1 else np.nan for x in line_triplet_values]\n",
    "selected_lab_values = [x[2] if x[3] == 2 else np.nan for x in line_triplet_values]"
   ]
  },
  {
   "cell_type": "code",
   "execution_count": null,
   "metadata": {},
   "outputs": [],
   "source": [
    "# Explanation of Code Block: Creating a DataFrame for Synthetic EHR Data\n",
    "#add label\n",
    "patient_label_mapping = dict(zip( patient_id_list, np.random.choice([0, 1], NUMBER_PATIENTS, replace=True,\n",
    "                                                                    p=[0.88, 0.12]) ))\n",
    "label_values = [patient_label_mapping[x] for x in patient_values]"
   ]
  },
  {
   "cell_type": "code",
   "execution_count": 22,
   "metadata": {},
   "outputs": [],
   "source": [
    "# This block creates a pandas DataFrame to hold the synthetic electronic health record (EHR) data.\n",
    "line_df = pd.DataFrame({ \"ENCOUNTER_ID\": encounter_values,\n",
    "                        \"PATIENT_ID\": patient_values,\n",
    "                        \"PRINCIPAL_DIAGNOSIS_CODE\": dx_values,\n",
    "                        \"PROCEDURE_CODE\": selected_procedure_values,\n",
    "                        \"MEDICATION_CODE\": selected_medication_values,\n",
    "                        \"LAB_CODE\": selected_lab_values,\n",
    "                        \"LABEL\": label_values\n",
    "                       })"
   ]
  },
  {
   "cell_type": "code",
   "execution_count": 23,
   "metadata": {},
   "outputs": [],
   "source": [
    "# Explanation of Code Block: Saving the Synthetic EHR Data to a CSV File\n",
    "#line_df.to_csv(\"./data/SYNTHETIC_EHR_DATASET.csv\", index=False)"
   ]
  },
  {
   "cell_type": "markdown",
   "metadata": {},
   "source": [
    "## 1. Converting Line to Encounter Representation"
   ]
  },
  {
   "cell_type": "markdown",
   "metadata": {},
   "source": [
    "### Load Synthetic EHR Line Dataset"
   ]
  },
  {
   "cell_type": "code",
   "execution_count": 24,
   "metadata": {},
   "outputs": [],
   "source": [
    "# This block reads the synthetic EHR dataset from a CSV file into a pandas DataFrame.\n",
    "ehr_line_df = pd.read_csv(\"./data/SYNTHETIC_EHR_DATASET.csv\")"
   ]
  },
  {
   "cell_type": "code",
   "execution_count": 25,
   "metadata": {},
   "outputs": [
    {
     "data": {
      "application/vnd.microsoft.datawrangler.viewer.v0+json": {
       "columns": [
        {
         "name": "index",
         "rawType": "int64",
         "type": "integer"
        },
        {
         "name": "ENCOUNTER_ID",
         "rawType": "object",
         "type": "string"
        },
        {
         "name": "PATIENT_ID",
         "rawType": "object",
         "type": "string"
        },
        {
         "name": "PRINCIPAL_DIAGNOSIS_CODE",
         "rawType": "object",
         "type": "string"
        },
        {
         "name": "PROCEDURE_CODE",
         "rawType": "object",
         "type": "unknown"
        },
        {
         "name": "MEDICATION_CODE",
         "rawType": "object",
         "type": "unknown"
        },
        {
         "name": "LAB_CODE",
         "rawType": "object",
         "type": "unknown"
        },
        {
         "name": "LABEL",
         "rawType": "int64",
         "type": "integer"
        }
       ],
       "ref": "2889aba2-9623-47fe-b05b-6d80605637f6",
       "rows": [
        [
         "0",
         "udacity_health_encounter_id_1933",
         "udacity_health_patient_id_817",
         "dx_code_56522",
         "procedure_code_20005",
         null,
         null,
         "0"
        ],
        [
         "1",
         "udacity_health_encounter_id_5664",
         "udacity_health_patient_id_594",
         "dx_code_39264",
         null,
         "medication_code_7471",
         null,
         "0"
        ],
        [
         "2",
         "udacity_health_encounter_id_1946",
         "udacity_health_patient_id_169",
         "dx_code_83619",
         null,
         null,
         "lab_code_5311",
         "0"
        ],
        [
         "3",
         "udacity_health_encounter_id_1528",
         "udacity_health_patient_id_870",
         "dx_code_97434",
         "procedure_code_31111",
         null,
         null,
         "0"
        ],
        [
         "4",
         "udacity_health_encounter_id_7185",
         "udacity_health_patient_id_722",
         "dx_code_68924",
         null,
         "medication_code_2250",
         null,
         "0"
        ]
       ],
       "shape": {
        "columns": 7,
        "rows": 5
       }
      },
      "text/html": [
       "<div>\n",
       "<style scoped>\n",
       "    .dataframe tbody tr th:only-of-type {\n",
       "        vertical-align: middle;\n",
       "    }\n",
       "\n",
       "    .dataframe tbody tr th {\n",
       "        vertical-align: top;\n",
       "    }\n",
       "\n",
       "    .dataframe thead th {\n",
       "        text-align: right;\n",
       "    }\n",
       "</style>\n",
       "<table border=\"1\" class=\"dataframe\">\n",
       "  <thead>\n",
       "    <tr style=\"text-align: right;\">\n",
       "      <th></th>\n",
       "      <th>ENCOUNTER_ID</th>\n",
       "      <th>PATIENT_ID</th>\n",
       "      <th>PRINCIPAL_DIAGNOSIS_CODE</th>\n",
       "      <th>PROCEDURE_CODE</th>\n",
       "      <th>MEDICATION_CODE</th>\n",
       "      <th>LAB_CODE</th>\n",
       "      <th>LABEL</th>\n",
       "    </tr>\n",
       "  </thead>\n",
       "  <tbody>\n",
       "    <tr>\n",
       "      <th>0</th>\n",
       "      <td>udacity_health_encounter_id_1933</td>\n",
       "      <td>udacity_health_patient_id_817</td>\n",
       "      <td>dx_code_56522</td>\n",
       "      <td>procedure_code_20005</td>\n",
       "      <td>NaN</td>\n",
       "      <td>NaN</td>\n",
       "      <td>0</td>\n",
       "    </tr>\n",
       "    <tr>\n",
       "      <th>1</th>\n",
       "      <td>udacity_health_encounter_id_5664</td>\n",
       "      <td>udacity_health_patient_id_594</td>\n",
       "      <td>dx_code_39264</td>\n",
       "      <td>NaN</td>\n",
       "      <td>medication_code_7471</td>\n",
       "      <td>NaN</td>\n",
       "      <td>0</td>\n",
       "    </tr>\n",
       "    <tr>\n",
       "      <th>2</th>\n",
       "      <td>udacity_health_encounter_id_1946</td>\n",
       "      <td>udacity_health_patient_id_169</td>\n",
       "      <td>dx_code_83619</td>\n",
       "      <td>NaN</td>\n",
       "      <td>NaN</td>\n",
       "      <td>lab_code_5311</td>\n",
       "      <td>0</td>\n",
       "    </tr>\n",
       "    <tr>\n",
       "      <th>3</th>\n",
       "      <td>udacity_health_encounter_id_1528</td>\n",
       "      <td>udacity_health_patient_id_870</td>\n",
       "      <td>dx_code_97434</td>\n",
       "      <td>procedure_code_31111</td>\n",
       "      <td>NaN</td>\n",
       "      <td>NaN</td>\n",
       "      <td>0</td>\n",
       "    </tr>\n",
       "    <tr>\n",
       "      <th>4</th>\n",
       "      <td>udacity_health_encounter_id_7185</td>\n",
       "      <td>udacity_health_patient_id_722</td>\n",
       "      <td>dx_code_68924</td>\n",
       "      <td>NaN</td>\n",
       "      <td>medication_code_2250</td>\n",
       "      <td>NaN</td>\n",
       "      <td>0</td>\n",
       "    </tr>\n",
       "  </tbody>\n",
       "</table>\n",
       "</div>"
      ],
      "text/plain": [
       "                       ENCOUNTER_ID                     PATIENT_ID  \\\n",
       "0  udacity_health_encounter_id_1933  udacity_health_patient_id_817   \n",
       "1  udacity_health_encounter_id_5664  udacity_health_patient_id_594   \n",
       "2  udacity_health_encounter_id_1946  udacity_health_patient_id_169   \n",
       "3  udacity_health_encounter_id_1528  udacity_health_patient_id_870   \n",
       "4  udacity_health_encounter_id_7185  udacity_health_patient_id_722   \n",
       "\n",
       "  PRINCIPAL_DIAGNOSIS_CODE        PROCEDURE_CODE       MEDICATION_CODE  \\\n",
       "0            dx_code_56522  procedure_code_20005                   NaN   \n",
       "1            dx_code_39264                   NaN  medication_code_7471   \n",
       "2            dx_code_83619                   NaN                   NaN   \n",
       "3            dx_code_97434  procedure_code_31111                   NaN   \n",
       "4            dx_code_68924                   NaN  medication_code_2250   \n",
       "\n",
       "        LAB_CODE  LABEL  \n",
       "0            NaN      0  \n",
       "1            NaN      0  \n",
       "2  lab_code_5311      0  \n",
       "3            NaN      0  \n",
       "4            NaN      0  "
      ]
     },
     "execution_count": 25,
     "metadata": {},
     "output_type": "execute_result"
    }
   ],
   "source": [
    "# Explanation of Code Block: Displaying the First Few Rows of the DataFrame\n",
    "ehr_line_df.head()"
   ]
  },
  {
   "cell_type": "code",
   "execution_count": 26,
   "metadata": {},
   "outputs": [
    {
     "data": {
      "application/vnd.microsoft.datawrangler.viewer.v0+json": {
       "columns": [
        {
         "name": "index",
         "rawType": "int64",
         "type": "integer"
        },
        {
         "name": "ENCOUNTER_ID",
         "rawType": "object",
         "type": "string"
        },
        {
         "name": "PATIENT_ID",
         "rawType": "object",
         "type": "string"
        },
        {
         "name": "PRINCIPAL_DIAGNOSIS_CODE",
         "rawType": "object",
         "type": "string"
        },
        {
         "name": "PROCEDURE_CODE",
         "rawType": "object",
         "type": "unknown"
        },
        {
         "name": "MEDICATION_CODE",
         "rawType": "object",
         "type": "unknown"
        },
        {
         "name": "LAB_CODE",
         "rawType": "object",
         "type": "unknown"
        },
        {
         "name": "LABEL",
         "rawType": "int64",
         "type": "integer"
        }
       ],
       "ref": "aa25a823-013a-4304-8fab-85a4a1e697b8",
       "rows": [
        [
         "14286",
         "udacity_health_encounter_id_100",
         "udacity_health_patient_id_585",
         "dx_code_71465",
         null,
         null,
         "lab_code_4198",
         "0"
        ],
        [
         "19091",
         "udacity_health_encounter_id_100",
         "udacity_health_patient_id_585",
         "dx_code_71465",
         null,
         "medication_code_7982",
         null,
         "0"
        ],
        [
         "29530",
         "udacity_health_encounter_id_100",
         "udacity_health_patient_id_585",
         "dx_code_71465",
         null,
         null,
         "lab_code_6603",
         "0"
        ],
        [
         "34583",
         "udacity_health_encounter_id_100",
         "udacity_health_patient_id_585",
         "dx_code_71465",
         null,
         null,
         "lab_code_332",
         "0"
        ],
        [
         "62325",
         "udacity_health_encounter_id_100",
         "udacity_health_patient_id_585",
         "dx_code_71465",
         null,
         "medication_code_2452",
         null,
         "0"
        ],
        [
         "64967",
         "udacity_health_encounter_id_100",
         "udacity_health_patient_id_585",
         "dx_code_71465",
         null,
         null,
         "lab_code_1431",
         "0"
        ],
        [
         "94636",
         "udacity_health_encounter_id_100",
         "udacity_health_patient_id_585",
         "dx_code_71465",
         null,
         "medication_code_279",
         null,
         "0"
        ]
       ],
       "shape": {
        "columns": 7,
        "rows": 7
       }
      },
      "text/html": [
       "<div>\n",
       "<style scoped>\n",
       "    .dataframe tbody tr th:only-of-type {\n",
       "        vertical-align: middle;\n",
       "    }\n",
       "\n",
       "    .dataframe tbody tr th {\n",
       "        vertical-align: top;\n",
       "    }\n",
       "\n",
       "    .dataframe thead th {\n",
       "        text-align: right;\n",
       "    }\n",
       "</style>\n",
       "<table border=\"1\" class=\"dataframe\">\n",
       "  <thead>\n",
       "    <tr style=\"text-align: right;\">\n",
       "      <th></th>\n",
       "      <th>ENCOUNTER_ID</th>\n",
       "      <th>PATIENT_ID</th>\n",
       "      <th>PRINCIPAL_DIAGNOSIS_CODE</th>\n",
       "      <th>PROCEDURE_CODE</th>\n",
       "      <th>MEDICATION_CODE</th>\n",
       "      <th>LAB_CODE</th>\n",
       "      <th>LABEL</th>\n",
       "    </tr>\n",
       "  </thead>\n",
       "  <tbody>\n",
       "    <tr>\n",
       "      <th>14286</th>\n",
       "      <td>udacity_health_encounter_id_100</td>\n",
       "      <td>udacity_health_patient_id_585</td>\n",
       "      <td>dx_code_71465</td>\n",
       "      <td>NaN</td>\n",
       "      <td>NaN</td>\n",
       "      <td>lab_code_4198</td>\n",
       "      <td>0</td>\n",
       "    </tr>\n",
       "    <tr>\n",
       "      <th>19091</th>\n",
       "      <td>udacity_health_encounter_id_100</td>\n",
       "      <td>udacity_health_patient_id_585</td>\n",
       "      <td>dx_code_71465</td>\n",
       "      <td>NaN</td>\n",
       "      <td>medication_code_7982</td>\n",
       "      <td>NaN</td>\n",
       "      <td>0</td>\n",
       "    </tr>\n",
       "    <tr>\n",
       "      <th>29530</th>\n",
       "      <td>udacity_health_encounter_id_100</td>\n",
       "      <td>udacity_health_patient_id_585</td>\n",
       "      <td>dx_code_71465</td>\n",
       "      <td>NaN</td>\n",
       "      <td>NaN</td>\n",
       "      <td>lab_code_6603</td>\n",
       "      <td>0</td>\n",
       "    </tr>\n",
       "    <tr>\n",
       "      <th>34583</th>\n",
       "      <td>udacity_health_encounter_id_100</td>\n",
       "      <td>udacity_health_patient_id_585</td>\n",
       "      <td>dx_code_71465</td>\n",
       "      <td>NaN</td>\n",
       "      <td>NaN</td>\n",
       "      <td>lab_code_332</td>\n",
       "      <td>0</td>\n",
       "    </tr>\n",
       "    <tr>\n",
       "      <th>62325</th>\n",
       "      <td>udacity_health_encounter_id_100</td>\n",
       "      <td>udacity_health_patient_id_585</td>\n",
       "      <td>dx_code_71465</td>\n",
       "      <td>NaN</td>\n",
       "      <td>medication_code_2452</td>\n",
       "      <td>NaN</td>\n",
       "      <td>0</td>\n",
       "    </tr>\n",
       "    <tr>\n",
       "      <th>64967</th>\n",
       "      <td>udacity_health_encounter_id_100</td>\n",
       "      <td>udacity_health_patient_id_585</td>\n",
       "      <td>dx_code_71465</td>\n",
       "      <td>NaN</td>\n",
       "      <td>NaN</td>\n",
       "      <td>lab_code_1431</td>\n",
       "      <td>0</td>\n",
       "    </tr>\n",
       "    <tr>\n",
       "      <th>94636</th>\n",
       "      <td>udacity_health_encounter_id_100</td>\n",
       "      <td>udacity_health_patient_id_585</td>\n",
       "      <td>dx_code_71465</td>\n",
       "      <td>NaN</td>\n",
       "      <td>medication_code_279</td>\n",
       "      <td>NaN</td>\n",
       "      <td>0</td>\n",
       "    </tr>\n",
       "  </tbody>\n",
       "</table>\n",
       "</div>"
      ],
      "text/plain": [
       "                          ENCOUNTER_ID                     PATIENT_ID  \\\n",
       "14286  udacity_health_encounter_id_100  udacity_health_patient_id_585   \n",
       "19091  udacity_health_encounter_id_100  udacity_health_patient_id_585   \n",
       "29530  udacity_health_encounter_id_100  udacity_health_patient_id_585   \n",
       "34583  udacity_health_encounter_id_100  udacity_health_patient_id_585   \n",
       "62325  udacity_health_encounter_id_100  udacity_health_patient_id_585   \n",
       "64967  udacity_health_encounter_id_100  udacity_health_patient_id_585   \n",
       "94636  udacity_health_encounter_id_100  udacity_health_patient_id_585   \n",
       "\n",
       "      PRINCIPAL_DIAGNOSIS_CODE PROCEDURE_CODE       MEDICATION_CODE  \\\n",
       "14286            dx_code_71465            NaN                   NaN   \n",
       "19091            dx_code_71465            NaN  medication_code_7982   \n",
       "29530            dx_code_71465            NaN                   NaN   \n",
       "34583            dx_code_71465            NaN                   NaN   \n",
       "62325            dx_code_71465            NaN  medication_code_2452   \n",
       "64967            dx_code_71465            NaN                   NaN   \n",
       "94636            dx_code_71465            NaN   medication_code_279   \n",
       "\n",
       "            LAB_CODE  LABEL  \n",
       "14286  lab_code_4198      0  \n",
       "19091            NaN      0  \n",
       "29530  lab_code_6603      0  \n",
       "34583   lab_code_332      0  \n",
       "62325            NaN      0  \n",
       "64967  lab_code_1431      0  \n",
       "94636            NaN      0  "
      ]
     },
     "execution_count": 26,
     "metadata": {},
     "output_type": "execute_result"
    }
   ],
   "source": [
    "# Explanation of Code Block: Filtering the DataFrame for a Specific Encounter ID\n",
    "ehr_line_df[ehr_line_df['ENCOUNTER_ID']=='udacity_health_encounter_id_100']"
   ]
  },
  {
   "cell_type": "code",
   "execution_count": null,
   "metadata": {},
   "outputs": [],
   "source": [
    "#note that this is for illustrative purposes only and for practicing key skills,\n",
    "# the actual data representation and combinations of codes not indicative of real thing"
   ]
  },
  {
   "cell_type": "markdown",
   "metadata": {},
   "source": [
    "### Convert Line to Encounter Representation"
   ]
  },
  {
   "cell_type": "code",
   "execution_count": null,
   "metadata": {},
   "outputs": [],
   "source": [
    "# Explanation of Code Block: Defining Grouping and Non-Grouping Fields\n",
    "# grouping fields\n",
    "grouping_field_list = ['ENCOUNTER_ID', 'PATIENT_ID', 'PRINCIPAL_DIAGNOSIS_CODE']\n",
    "non_grouped_field_list = [c for c in ehr_line_df.columns if c not in grouping_field_list]"
   ]
  },
  {
   "cell_type": "code",
   "execution_count": null,
   "metadata": {},
   "outputs": [],
   "source": [
    "# Explanation of Code Block: Aggregating Data by Grouping Fields\n",
    "#\n",
    "# This block uses the pandas library to aggregate the synthetic EHR line-level data into an encounter-level representation.\n",
    "# - Library Used: pandas (pd)\n",
    "#   - `groupby`: Groups the DataFrame by the specified fields in `grouping_field_list` (e.g., 'ENCOUNTER_ID', 'PATIENT_ID', 'PRINCIPAL_DIAGNOSIS_CODE').\n",
    "#   - `agg`: Aggregates the non-grouped fields (e.g., 'PROCEDURE_CODE', 'MEDICATION_CODE', 'LAB_CODE', 'LABEL') using a custom lambda function.\n",
    "#     - The lambda function collects all non-NaN values for each group into a list, preserving all codes and labels associated with each encounter.\n",
    "#   - `reset_index`: Resets the index of the resulting DataFrame to provide a clean, consecutive integer index.\n",
    "# - Key Parameters:\n",
    "#   - `grouping_field_list`: List of columns to group by.\n",
    "#   - `non_grouped_field_list`: List of columns to aggregate.\n",
    "#   - `lambda x: list([y for y in x if y is not np.nan])`: Aggregation function to collect non-NaN values into lists.\n",
    "#\n",
    "encounter_df = ehr_line_df.groupby(grouping_field_list)[non_grouped_field_list].agg(lambda x:\n",
    "                                                        list([y for y in x if y is not np.nan ] ) ).reset_index()"
   ]
  },
  {
   "cell_type": "code",
   "execution_count": 30,
   "metadata": {},
   "outputs": [
    {
     "data": {
      "application/vnd.microsoft.datawrangler.viewer.v0+json": {
       "columns": [
        {
         "name": "index",
         "rawType": "int64",
         "type": "integer"
        },
        {
         "name": "ENCOUNTER_ID",
         "rawType": "object",
         "type": "string"
        },
        {
         "name": "PATIENT_ID",
         "rawType": "object",
         "type": "string"
        },
        {
         "name": "PRINCIPAL_DIAGNOSIS_CODE",
         "rawType": "object",
         "type": "string"
        },
        {
         "name": "PROCEDURE_CODE",
         "rawType": "object",
         "type": "unknown"
        },
        {
         "name": "MEDICATION_CODE",
         "rawType": "object",
         "type": "unknown"
        },
        {
         "name": "LAB_CODE",
         "rawType": "object",
         "type": "unknown"
        },
        {
         "name": "LABEL",
         "rawType": "object",
         "type": "unknown"
        }
       ],
       "ref": "83e3ac78-fb62-4f62-94e1-181cdcb57463",
       "rows": [
        [
         "0",
         "udacity_health_encounter_id_1",
         "udacity_health_patient_id_186",
         "dx_code_15406",
         "['procedure_code_58552', 'procedure_code_39776', 'procedure_code_13212', 'procedure_code_50377']",
         "['medication_code_2350', 'medication_code_8630', 'medication_code_4030', 'medication_code_431', 'medication_code_7435', 'medication_code_4338', 'medication_code_3080', 'medication_code_3808', 'medication_code_8275', 'medication_code_7779', 'medication_code_4081', 'medication_code_5203', 'medication_code_1267']",
         "['lab_code_8835', 'lab_code_9859', 'lab_code_9032', 'lab_code_9167']",
         "[0, 0, 0, 0, 0, 0, 0, 0, 0, 0, 0, 0, 0, 0, 0, 0, 0, 0, 0, 0, 0]"
        ],
        [
         "1",
         "udacity_health_encounter_id_10",
         "udacity_health_patient_id_188",
         "dx_code_74047",
         "[]",
         "['medication_code_7789', 'medication_code_3560', 'medication_code_9285', 'medication_code_4317']",
         "[]",
         "[1, 1, 1, 1]"
        ],
        [
         "2",
         "udacity_health_encounter_id_100",
         "udacity_health_patient_id_585",
         "dx_code_71465",
         "[]",
         "['medication_code_7982', 'medication_code_2452', 'medication_code_279']",
         "['lab_code_4198', 'lab_code_6603', 'lab_code_332', 'lab_code_1431']",
         "[0, 0, 0, 0, 0, 0, 0]"
        ],
        [
         "3",
         "udacity_health_encounter_id_1000",
         "udacity_health_patient_id_525",
         "dx_code_61569",
         "[]",
         "['medication_code_4036']",
         "[]",
         "[0]"
        ],
        [
         "4",
         "udacity_health_encounter_id_1001",
         "udacity_health_patient_id_950",
         "dx_code_90172",
         "['procedure_code_30555']",
         "['medication_code_6755', 'medication_code_5045']",
         "['lab_code_9112']",
         "[0, 0, 0, 0]"
        ]
       ],
       "shape": {
        "columns": 7,
        "rows": 5
       }
      },
      "text/html": [
       "<div>\n",
       "<style scoped>\n",
       "    .dataframe tbody tr th:only-of-type {\n",
       "        vertical-align: middle;\n",
       "    }\n",
       "\n",
       "    .dataframe tbody tr th {\n",
       "        vertical-align: top;\n",
       "    }\n",
       "\n",
       "    .dataframe thead th {\n",
       "        text-align: right;\n",
       "    }\n",
       "</style>\n",
       "<table border=\"1\" class=\"dataframe\">\n",
       "  <thead>\n",
       "    <tr style=\"text-align: right;\">\n",
       "      <th></th>\n",
       "      <th>ENCOUNTER_ID</th>\n",
       "      <th>PATIENT_ID</th>\n",
       "      <th>PRINCIPAL_DIAGNOSIS_CODE</th>\n",
       "      <th>PROCEDURE_CODE</th>\n",
       "      <th>MEDICATION_CODE</th>\n",
       "      <th>LAB_CODE</th>\n",
       "      <th>LABEL</th>\n",
       "    </tr>\n",
       "  </thead>\n",
       "  <tbody>\n",
       "    <tr>\n",
       "      <th>0</th>\n",
       "      <td>udacity_health_encounter_id_1</td>\n",
       "      <td>udacity_health_patient_id_186</td>\n",
       "      <td>dx_code_15406</td>\n",
       "      <td>[procedure_code_58552, procedure_code_39776, p...</td>\n",
       "      <td>[medication_code_2350, medication_code_8630, m...</td>\n",
       "      <td>[lab_code_8835, lab_code_9859, lab_code_9032, ...</td>\n",
       "      <td>[0, 0, 0, 0, 0, 0, 0, 0, 0, 0, 0, 0, 0, 0, 0, ...</td>\n",
       "    </tr>\n",
       "    <tr>\n",
       "      <th>1</th>\n",
       "      <td>udacity_health_encounter_id_10</td>\n",
       "      <td>udacity_health_patient_id_188</td>\n",
       "      <td>dx_code_74047</td>\n",
       "      <td>[]</td>\n",
       "      <td>[medication_code_7789, medication_code_3560, m...</td>\n",
       "      <td>[]</td>\n",
       "      <td>[1, 1, 1, 1]</td>\n",
       "    </tr>\n",
       "    <tr>\n",
       "      <th>2</th>\n",
       "      <td>udacity_health_encounter_id_100</td>\n",
       "      <td>udacity_health_patient_id_585</td>\n",
       "      <td>dx_code_71465</td>\n",
       "      <td>[]</td>\n",
       "      <td>[medication_code_7982, medication_code_2452, m...</td>\n",
       "      <td>[lab_code_4198, lab_code_6603, lab_code_332, l...</td>\n",
       "      <td>[0, 0, 0, 0, 0, 0, 0]</td>\n",
       "    </tr>\n",
       "    <tr>\n",
       "      <th>3</th>\n",
       "      <td>udacity_health_encounter_id_1000</td>\n",
       "      <td>udacity_health_patient_id_525</td>\n",
       "      <td>dx_code_61569</td>\n",
       "      <td>[]</td>\n",
       "      <td>[medication_code_4036]</td>\n",
       "      <td>[]</td>\n",
       "      <td>[0]</td>\n",
       "    </tr>\n",
       "    <tr>\n",
       "      <th>4</th>\n",
       "      <td>udacity_health_encounter_id_1001</td>\n",
       "      <td>udacity_health_patient_id_950</td>\n",
       "      <td>dx_code_90172</td>\n",
       "      <td>[procedure_code_30555]</td>\n",
       "      <td>[medication_code_6755, medication_code_5045]</td>\n",
       "      <td>[lab_code_9112]</td>\n",
       "      <td>[0, 0, 0, 0]</td>\n",
       "    </tr>\n",
       "  </tbody>\n",
       "</table>\n",
       "</div>"
      ],
      "text/plain": [
       "                       ENCOUNTER_ID                     PATIENT_ID  \\\n",
       "0     udacity_health_encounter_id_1  udacity_health_patient_id_186   \n",
       "1    udacity_health_encounter_id_10  udacity_health_patient_id_188   \n",
       "2   udacity_health_encounter_id_100  udacity_health_patient_id_585   \n",
       "3  udacity_health_encounter_id_1000  udacity_health_patient_id_525   \n",
       "4  udacity_health_encounter_id_1001  udacity_health_patient_id_950   \n",
       "\n",
       "  PRINCIPAL_DIAGNOSIS_CODE                                     PROCEDURE_CODE  \\\n",
       "0            dx_code_15406  [procedure_code_58552, procedure_code_39776, p...   \n",
       "1            dx_code_74047                                                 []   \n",
       "2            dx_code_71465                                                 []   \n",
       "3            dx_code_61569                                                 []   \n",
       "4            dx_code_90172                             [procedure_code_30555]   \n",
       "\n",
       "                                     MEDICATION_CODE  \\\n",
       "0  [medication_code_2350, medication_code_8630, m...   \n",
       "1  [medication_code_7789, medication_code_3560, m...   \n",
       "2  [medication_code_7982, medication_code_2452, m...   \n",
       "3                             [medication_code_4036]   \n",
       "4       [medication_code_6755, medication_code_5045]   \n",
       "\n",
       "                                            LAB_CODE  \\\n",
       "0  [lab_code_8835, lab_code_9859, lab_code_9032, ...   \n",
       "1                                                 []   \n",
       "2  [lab_code_4198, lab_code_6603, lab_code_332, l...   \n",
       "3                                                 []   \n",
       "4                                    [lab_code_9112]   \n",
       "\n",
       "                                               LABEL  \n",
       "0  [0, 0, 0, 0, 0, 0, 0, 0, 0, 0, 0, 0, 0, 0, 0, ...  \n",
       "1                                       [1, 1, 1, 1]  \n",
       "2                              [0, 0, 0, 0, 0, 0, 0]  \n",
       "3                                                [0]  \n",
       "4                                       [0, 0, 0, 0]  "
      ]
     },
     "execution_count": 30,
     "metadata": {},
     "output_type": "execute_result"
    }
   ],
   "source": [
    "# Explanation of Code Block: Displaying the First Few Rows of the Encounter DataFrame\n",
    "encounter_df[0:5]"
   ]
  },
  {
   "cell_type": "code",
   "execution_count": 31,
   "metadata": {},
   "outputs": [
    {
     "data": {
      "application/vnd.microsoft.datawrangler.viewer.v0+json": {
       "columns": [
        {
         "name": "index",
         "rawType": "int64",
         "type": "integer"
        },
        {
         "name": "ENCOUNTER_ID",
         "rawType": "object",
         "type": "string"
        },
        {
         "name": "PATIENT_ID",
         "rawType": "object",
         "type": "string"
        },
        {
         "name": "PRINCIPAL_DIAGNOSIS_CODE",
         "rawType": "object",
         "type": "string"
        },
        {
         "name": "PROCEDURE_CODE",
         "rawType": "object",
         "type": "unknown"
        },
        {
         "name": "MEDICATION_CODE",
         "rawType": "object",
         "type": "unknown"
        },
        {
         "name": "LAB_CODE",
         "rawType": "object",
         "type": "unknown"
        },
        {
         "name": "LABEL",
         "rawType": "int64",
         "type": "integer"
        }
       ],
       "ref": "b35b748b-d55a-4de5-9267-2c6107847e83",
       "rows": [
        [
         "3246",
         "udacity_health_encounter_id_1",
         "udacity_health_patient_id_186",
         "dx_code_15406",
         null,
         "medication_code_2350",
         null,
         "0"
        ],
        [
         "7901",
         "udacity_health_encounter_id_1",
         "udacity_health_patient_id_186",
         "dx_code_15406",
         null,
         "medication_code_8630",
         null,
         "0"
        ],
        [
         "11765",
         "udacity_health_encounter_id_1",
         "udacity_health_patient_id_186",
         "dx_code_15406",
         null,
         null,
         "lab_code_8835",
         "0"
        ],
        [
         "11950",
         "udacity_health_encounter_id_1",
         "udacity_health_patient_id_186",
         "dx_code_15406",
         "procedure_code_58552",
         null,
         null,
         "0"
        ],
        [
         "16057",
         "udacity_health_encounter_id_1",
         "udacity_health_patient_id_186",
         "dx_code_15406",
         null,
         "medication_code_4030",
         null,
         "0"
        ],
        [
         "17961",
         "udacity_health_encounter_id_1",
         "udacity_health_patient_id_186",
         "dx_code_15406",
         "procedure_code_39776",
         null,
         null,
         "0"
        ],
        [
         "24877",
         "udacity_health_encounter_id_1",
         "udacity_health_patient_id_186",
         "dx_code_15406",
         null,
         "medication_code_431",
         null,
         "0"
        ],
        [
         "26235",
         "udacity_health_encounter_id_1",
         "udacity_health_patient_id_186",
         "dx_code_15406",
         null,
         "medication_code_7435",
         null,
         "0"
        ],
        [
         "35490",
         "udacity_health_encounter_id_1",
         "udacity_health_patient_id_186",
         "dx_code_15406",
         null,
         null,
         "lab_code_9859",
         "0"
        ],
        [
         "42855",
         "udacity_health_encounter_id_1",
         "udacity_health_patient_id_186",
         "dx_code_15406",
         null,
         "medication_code_4338",
         null,
         "0"
        ],
        [
         "44848",
         "udacity_health_encounter_id_1",
         "udacity_health_patient_id_186",
         "dx_code_15406",
         null,
         "medication_code_3080",
         null,
         "0"
        ],
        [
         "47715",
         "udacity_health_encounter_id_1",
         "udacity_health_patient_id_186",
         "dx_code_15406",
         null,
         "medication_code_3808",
         null,
         "0"
        ],
        [
         "56278",
         "udacity_health_encounter_id_1",
         "udacity_health_patient_id_186",
         "dx_code_15406",
         null,
         null,
         "lab_code_9032",
         "0"
        ],
        [
         "57825",
         "udacity_health_encounter_id_1",
         "udacity_health_patient_id_186",
         "dx_code_15406",
         "procedure_code_13212",
         null,
         null,
         "0"
        ],
        [
         "60152",
         "udacity_health_encounter_id_1",
         "udacity_health_patient_id_186",
         "dx_code_15406",
         null,
         null,
         "lab_code_9167",
         "0"
        ],
        [
         "81720",
         "udacity_health_encounter_id_1",
         "udacity_health_patient_id_186",
         "dx_code_15406",
         "procedure_code_50377",
         null,
         null,
         "0"
        ],
        [
         "85047",
         "udacity_health_encounter_id_1",
         "udacity_health_patient_id_186",
         "dx_code_15406",
         null,
         "medication_code_8275",
         null,
         "0"
        ],
        [
         "85255",
         "udacity_health_encounter_id_1",
         "udacity_health_patient_id_186",
         "dx_code_15406",
         null,
         "medication_code_7779",
         null,
         "0"
        ],
        [
         "89329",
         "udacity_health_encounter_id_1",
         "udacity_health_patient_id_186",
         "dx_code_15406",
         null,
         "medication_code_4081",
         null,
         "0"
        ],
        [
         "96061",
         "udacity_health_encounter_id_1",
         "udacity_health_patient_id_186",
         "dx_code_15406",
         null,
         "medication_code_5203",
         null,
         "0"
        ],
        [
         "97931",
         "udacity_health_encounter_id_1",
         "udacity_health_patient_id_186",
         "dx_code_15406",
         null,
         "medication_code_1267",
         null,
         "0"
        ]
       ],
       "shape": {
        "columns": 7,
        "rows": 21
       }
      },
      "text/html": [
       "<div>\n",
       "<style scoped>\n",
       "    .dataframe tbody tr th:only-of-type {\n",
       "        vertical-align: middle;\n",
       "    }\n",
       "\n",
       "    .dataframe tbody tr th {\n",
       "        vertical-align: top;\n",
       "    }\n",
       "\n",
       "    .dataframe thead th {\n",
       "        text-align: right;\n",
       "    }\n",
       "</style>\n",
       "<table border=\"1\" class=\"dataframe\">\n",
       "  <thead>\n",
       "    <tr style=\"text-align: right;\">\n",
       "      <th></th>\n",
       "      <th>ENCOUNTER_ID</th>\n",
       "      <th>PATIENT_ID</th>\n",
       "      <th>PRINCIPAL_DIAGNOSIS_CODE</th>\n",
       "      <th>PROCEDURE_CODE</th>\n",
       "      <th>MEDICATION_CODE</th>\n",
       "      <th>LAB_CODE</th>\n",
       "      <th>LABEL</th>\n",
       "    </tr>\n",
       "  </thead>\n",
       "  <tbody>\n",
       "    <tr>\n",
       "      <th>3246</th>\n",
       "      <td>udacity_health_encounter_id_1</td>\n",
       "      <td>udacity_health_patient_id_186</td>\n",
       "      <td>dx_code_15406</td>\n",
       "      <td>NaN</td>\n",
       "      <td>medication_code_2350</td>\n",
       "      <td>NaN</td>\n",
       "      <td>0</td>\n",
       "    </tr>\n",
       "    <tr>\n",
       "      <th>7901</th>\n",
       "      <td>udacity_health_encounter_id_1</td>\n",
       "      <td>udacity_health_patient_id_186</td>\n",
       "      <td>dx_code_15406</td>\n",
       "      <td>NaN</td>\n",
       "      <td>medication_code_8630</td>\n",
       "      <td>NaN</td>\n",
       "      <td>0</td>\n",
       "    </tr>\n",
       "    <tr>\n",
       "      <th>11765</th>\n",
       "      <td>udacity_health_encounter_id_1</td>\n",
       "      <td>udacity_health_patient_id_186</td>\n",
       "      <td>dx_code_15406</td>\n",
       "      <td>NaN</td>\n",
       "      <td>NaN</td>\n",
       "      <td>lab_code_8835</td>\n",
       "      <td>0</td>\n",
       "    </tr>\n",
       "    <tr>\n",
       "      <th>11950</th>\n",
       "      <td>udacity_health_encounter_id_1</td>\n",
       "      <td>udacity_health_patient_id_186</td>\n",
       "      <td>dx_code_15406</td>\n",
       "      <td>procedure_code_58552</td>\n",
       "      <td>NaN</td>\n",
       "      <td>NaN</td>\n",
       "      <td>0</td>\n",
       "    </tr>\n",
       "    <tr>\n",
       "      <th>16057</th>\n",
       "      <td>udacity_health_encounter_id_1</td>\n",
       "      <td>udacity_health_patient_id_186</td>\n",
       "      <td>dx_code_15406</td>\n",
       "      <td>NaN</td>\n",
       "      <td>medication_code_4030</td>\n",
       "      <td>NaN</td>\n",
       "      <td>0</td>\n",
       "    </tr>\n",
       "    <tr>\n",
       "      <th>17961</th>\n",
       "      <td>udacity_health_encounter_id_1</td>\n",
       "      <td>udacity_health_patient_id_186</td>\n",
       "      <td>dx_code_15406</td>\n",
       "      <td>procedure_code_39776</td>\n",
       "      <td>NaN</td>\n",
       "      <td>NaN</td>\n",
       "      <td>0</td>\n",
       "    </tr>\n",
       "    <tr>\n",
       "      <th>24877</th>\n",
       "      <td>udacity_health_encounter_id_1</td>\n",
       "      <td>udacity_health_patient_id_186</td>\n",
       "      <td>dx_code_15406</td>\n",
       "      <td>NaN</td>\n",
       "      <td>medication_code_431</td>\n",
       "      <td>NaN</td>\n",
       "      <td>0</td>\n",
       "    </tr>\n",
       "    <tr>\n",
       "      <th>26235</th>\n",
       "      <td>udacity_health_encounter_id_1</td>\n",
       "      <td>udacity_health_patient_id_186</td>\n",
       "      <td>dx_code_15406</td>\n",
       "      <td>NaN</td>\n",
       "      <td>medication_code_7435</td>\n",
       "      <td>NaN</td>\n",
       "      <td>0</td>\n",
       "    </tr>\n",
       "    <tr>\n",
       "      <th>35490</th>\n",
       "      <td>udacity_health_encounter_id_1</td>\n",
       "      <td>udacity_health_patient_id_186</td>\n",
       "      <td>dx_code_15406</td>\n",
       "      <td>NaN</td>\n",
       "      <td>NaN</td>\n",
       "      <td>lab_code_9859</td>\n",
       "      <td>0</td>\n",
       "    </tr>\n",
       "    <tr>\n",
       "      <th>42855</th>\n",
       "      <td>udacity_health_encounter_id_1</td>\n",
       "      <td>udacity_health_patient_id_186</td>\n",
       "      <td>dx_code_15406</td>\n",
       "      <td>NaN</td>\n",
       "      <td>medication_code_4338</td>\n",
       "      <td>NaN</td>\n",
       "      <td>0</td>\n",
       "    </tr>\n",
       "    <tr>\n",
       "      <th>44848</th>\n",
       "      <td>udacity_health_encounter_id_1</td>\n",
       "      <td>udacity_health_patient_id_186</td>\n",
       "      <td>dx_code_15406</td>\n",
       "      <td>NaN</td>\n",
       "      <td>medication_code_3080</td>\n",
       "      <td>NaN</td>\n",
       "      <td>0</td>\n",
       "    </tr>\n",
       "    <tr>\n",
       "      <th>47715</th>\n",
       "      <td>udacity_health_encounter_id_1</td>\n",
       "      <td>udacity_health_patient_id_186</td>\n",
       "      <td>dx_code_15406</td>\n",
       "      <td>NaN</td>\n",
       "      <td>medication_code_3808</td>\n",
       "      <td>NaN</td>\n",
       "      <td>0</td>\n",
       "    </tr>\n",
       "    <tr>\n",
       "      <th>56278</th>\n",
       "      <td>udacity_health_encounter_id_1</td>\n",
       "      <td>udacity_health_patient_id_186</td>\n",
       "      <td>dx_code_15406</td>\n",
       "      <td>NaN</td>\n",
       "      <td>NaN</td>\n",
       "      <td>lab_code_9032</td>\n",
       "      <td>0</td>\n",
       "    </tr>\n",
       "    <tr>\n",
       "      <th>57825</th>\n",
       "      <td>udacity_health_encounter_id_1</td>\n",
       "      <td>udacity_health_patient_id_186</td>\n",
       "      <td>dx_code_15406</td>\n",
       "      <td>procedure_code_13212</td>\n",
       "      <td>NaN</td>\n",
       "      <td>NaN</td>\n",
       "      <td>0</td>\n",
       "    </tr>\n",
       "    <tr>\n",
       "      <th>60152</th>\n",
       "      <td>udacity_health_encounter_id_1</td>\n",
       "      <td>udacity_health_patient_id_186</td>\n",
       "      <td>dx_code_15406</td>\n",
       "      <td>NaN</td>\n",
       "      <td>NaN</td>\n",
       "      <td>lab_code_9167</td>\n",
       "      <td>0</td>\n",
       "    </tr>\n",
       "    <tr>\n",
       "      <th>81720</th>\n",
       "      <td>udacity_health_encounter_id_1</td>\n",
       "      <td>udacity_health_patient_id_186</td>\n",
       "      <td>dx_code_15406</td>\n",
       "      <td>procedure_code_50377</td>\n",
       "      <td>NaN</td>\n",
       "      <td>NaN</td>\n",
       "      <td>0</td>\n",
       "    </tr>\n",
       "    <tr>\n",
       "      <th>85047</th>\n",
       "      <td>udacity_health_encounter_id_1</td>\n",
       "      <td>udacity_health_patient_id_186</td>\n",
       "      <td>dx_code_15406</td>\n",
       "      <td>NaN</td>\n",
       "      <td>medication_code_8275</td>\n",
       "      <td>NaN</td>\n",
       "      <td>0</td>\n",
       "    </tr>\n",
       "    <tr>\n",
       "      <th>85255</th>\n",
       "      <td>udacity_health_encounter_id_1</td>\n",
       "      <td>udacity_health_patient_id_186</td>\n",
       "      <td>dx_code_15406</td>\n",
       "      <td>NaN</td>\n",
       "      <td>medication_code_7779</td>\n",
       "      <td>NaN</td>\n",
       "      <td>0</td>\n",
       "    </tr>\n",
       "    <tr>\n",
       "      <th>89329</th>\n",
       "      <td>udacity_health_encounter_id_1</td>\n",
       "      <td>udacity_health_patient_id_186</td>\n",
       "      <td>dx_code_15406</td>\n",
       "      <td>NaN</td>\n",
       "      <td>medication_code_4081</td>\n",
       "      <td>NaN</td>\n",
       "      <td>0</td>\n",
       "    </tr>\n",
       "    <tr>\n",
       "      <th>96061</th>\n",
       "      <td>udacity_health_encounter_id_1</td>\n",
       "      <td>udacity_health_patient_id_186</td>\n",
       "      <td>dx_code_15406</td>\n",
       "      <td>NaN</td>\n",
       "      <td>medication_code_5203</td>\n",
       "      <td>NaN</td>\n",
       "      <td>0</td>\n",
       "    </tr>\n",
       "    <tr>\n",
       "      <th>97931</th>\n",
       "      <td>udacity_health_encounter_id_1</td>\n",
       "      <td>udacity_health_patient_id_186</td>\n",
       "      <td>dx_code_15406</td>\n",
       "      <td>NaN</td>\n",
       "      <td>medication_code_1267</td>\n",
       "      <td>NaN</td>\n",
       "      <td>0</td>\n",
       "    </tr>\n",
       "  </tbody>\n",
       "</table>\n",
       "</div>"
      ],
      "text/plain": [
       "                        ENCOUNTER_ID                     PATIENT_ID  \\\n",
       "3246   udacity_health_encounter_id_1  udacity_health_patient_id_186   \n",
       "7901   udacity_health_encounter_id_1  udacity_health_patient_id_186   \n",
       "11765  udacity_health_encounter_id_1  udacity_health_patient_id_186   \n",
       "11950  udacity_health_encounter_id_1  udacity_health_patient_id_186   \n",
       "16057  udacity_health_encounter_id_1  udacity_health_patient_id_186   \n",
       "17961  udacity_health_encounter_id_1  udacity_health_patient_id_186   \n",
       "24877  udacity_health_encounter_id_1  udacity_health_patient_id_186   \n",
       "26235  udacity_health_encounter_id_1  udacity_health_patient_id_186   \n",
       "35490  udacity_health_encounter_id_1  udacity_health_patient_id_186   \n",
       "42855  udacity_health_encounter_id_1  udacity_health_patient_id_186   \n",
       "44848  udacity_health_encounter_id_1  udacity_health_patient_id_186   \n",
       "47715  udacity_health_encounter_id_1  udacity_health_patient_id_186   \n",
       "56278  udacity_health_encounter_id_1  udacity_health_patient_id_186   \n",
       "57825  udacity_health_encounter_id_1  udacity_health_patient_id_186   \n",
       "60152  udacity_health_encounter_id_1  udacity_health_patient_id_186   \n",
       "81720  udacity_health_encounter_id_1  udacity_health_patient_id_186   \n",
       "85047  udacity_health_encounter_id_1  udacity_health_patient_id_186   \n",
       "85255  udacity_health_encounter_id_1  udacity_health_patient_id_186   \n",
       "89329  udacity_health_encounter_id_1  udacity_health_patient_id_186   \n",
       "96061  udacity_health_encounter_id_1  udacity_health_patient_id_186   \n",
       "97931  udacity_health_encounter_id_1  udacity_health_patient_id_186   \n",
       "\n",
       "      PRINCIPAL_DIAGNOSIS_CODE        PROCEDURE_CODE       MEDICATION_CODE  \\\n",
       "3246             dx_code_15406                   NaN  medication_code_2350   \n",
       "7901             dx_code_15406                   NaN  medication_code_8630   \n",
       "11765            dx_code_15406                   NaN                   NaN   \n",
       "11950            dx_code_15406  procedure_code_58552                   NaN   \n",
       "16057            dx_code_15406                   NaN  medication_code_4030   \n",
       "17961            dx_code_15406  procedure_code_39776                   NaN   \n",
       "24877            dx_code_15406                   NaN   medication_code_431   \n",
       "26235            dx_code_15406                   NaN  medication_code_7435   \n",
       "35490            dx_code_15406                   NaN                   NaN   \n",
       "42855            dx_code_15406                   NaN  medication_code_4338   \n",
       "44848            dx_code_15406                   NaN  medication_code_3080   \n",
       "47715            dx_code_15406                   NaN  medication_code_3808   \n",
       "56278            dx_code_15406                   NaN                   NaN   \n",
       "57825            dx_code_15406  procedure_code_13212                   NaN   \n",
       "60152            dx_code_15406                   NaN                   NaN   \n",
       "81720            dx_code_15406  procedure_code_50377                   NaN   \n",
       "85047            dx_code_15406                   NaN  medication_code_8275   \n",
       "85255            dx_code_15406                   NaN  medication_code_7779   \n",
       "89329            dx_code_15406                   NaN  medication_code_4081   \n",
       "96061            dx_code_15406                   NaN  medication_code_5203   \n",
       "97931            dx_code_15406                   NaN  medication_code_1267   \n",
       "\n",
       "            LAB_CODE  LABEL  \n",
       "3246             NaN      0  \n",
       "7901             NaN      0  \n",
       "11765  lab_code_8835      0  \n",
       "11950            NaN      0  \n",
       "16057            NaN      0  \n",
       "17961            NaN      0  \n",
       "24877            NaN      0  \n",
       "26235            NaN      0  \n",
       "35490  lab_code_9859      0  \n",
       "42855            NaN      0  \n",
       "44848            NaN      0  \n",
       "47715            NaN      0  \n",
       "56278  lab_code_9032      0  \n",
       "57825            NaN      0  \n",
       "60152  lab_code_9167      0  \n",
       "81720            NaN      0  \n",
       "85047            NaN      0  \n",
       "85255            NaN      0  \n",
       "89329            NaN      0  \n",
       "96061            NaN      0  \n",
       "97931            NaN      0  "
      ]
     },
     "execution_count": 31,
     "metadata": {},
     "output_type": "execute_result"
    }
   ],
   "source": [
    "## Explanation of Code Block: Filtering the Encounter DataFrame for a Specific Encounter ID\n",
    "ehr_line_df[ehr_line_df['ENCOUNTER_ID']=='udacity_health_encounter_id_1']"
   ]
  },
  {
   "cell_type": "code",
   "execution_count": 32,
   "metadata": {},
   "outputs": [
    {
     "data": {
      "application/vnd.microsoft.datawrangler.viewer.v0+json": {
       "columns": [
        {
         "name": "index",
         "rawType": "int64",
         "type": "integer"
        },
        {
         "name": "ENCOUNTER_ID",
         "rawType": "object",
         "type": "string"
        },
        {
         "name": "PATIENT_ID",
         "rawType": "object",
         "type": "string"
        },
        {
         "name": "PRINCIPAL_DIAGNOSIS_CODE",
         "rawType": "object",
         "type": "string"
        },
        {
         "name": "PROCEDURE_CODE",
         "rawType": "object",
         "type": "unknown"
        },
        {
         "name": "MEDICATION_CODE",
         "rawType": "object",
         "type": "unknown"
        },
        {
         "name": "LAB_CODE",
         "rawType": "object",
         "type": "unknown"
        },
        {
         "name": "LABEL",
         "rawType": "object",
         "type": "unknown"
        }
       ],
       "ref": "1e980afc-dfb7-4206-88d1-9be8383e78bb",
       "rows": [
        [
         "0",
         "udacity_health_encounter_id_1",
         "udacity_health_patient_id_186",
         "dx_code_15406",
         "['procedure_code_58552', 'procedure_code_39776', 'procedure_code_13212', 'procedure_code_50377']",
         "['medication_code_2350', 'medication_code_8630', 'medication_code_4030', 'medication_code_431', 'medication_code_7435', 'medication_code_4338', 'medication_code_3080', 'medication_code_3808', 'medication_code_8275', 'medication_code_7779', 'medication_code_4081', 'medication_code_5203', 'medication_code_1267']",
         "['lab_code_8835', 'lab_code_9859', 'lab_code_9032', 'lab_code_9167']",
         "[0, 0, 0, 0, 0, 0, 0, 0, 0, 0, 0, 0, 0, 0, 0, 0, 0, 0, 0, 0, 0]"
        ]
       ],
       "shape": {
        "columns": 7,
        "rows": 1
       }
      },
      "text/html": [
       "<div>\n",
       "<style scoped>\n",
       "    .dataframe tbody tr th:only-of-type {\n",
       "        vertical-align: middle;\n",
       "    }\n",
       "\n",
       "    .dataframe tbody tr th {\n",
       "        vertical-align: top;\n",
       "    }\n",
       "\n",
       "    .dataframe thead th {\n",
       "        text-align: right;\n",
       "    }\n",
       "</style>\n",
       "<table border=\"1\" class=\"dataframe\">\n",
       "  <thead>\n",
       "    <tr style=\"text-align: right;\">\n",
       "      <th></th>\n",
       "      <th>ENCOUNTER_ID</th>\n",
       "      <th>PATIENT_ID</th>\n",
       "      <th>PRINCIPAL_DIAGNOSIS_CODE</th>\n",
       "      <th>PROCEDURE_CODE</th>\n",
       "      <th>MEDICATION_CODE</th>\n",
       "      <th>LAB_CODE</th>\n",
       "      <th>LABEL</th>\n",
       "    </tr>\n",
       "  </thead>\n",
       "  <tbody>\n",
       "    <tr>\n",
       "      <th>0</th>\n",
       "      <td>udacity_health_encounter_id_1</td>\n",
       "      <td>udacity_health_patient_id_186</td>\n",
       "      <td>dx_code_15406</td>\n",
       "      <td>[procedure_code_58552, procedure_code_39776, p...</td>\n",
       "      <td>[medication_code_2350, medication_code_8630, m...</td>\n",
       "      <td>[lab_code_8835, lab_code_9859, lab_code_9032, ...</td>\n",
       "      <td>[0, 0, 0, 0, 0, 0, 0, 0, 0, 0, 0, 0, 0, 0, 0, ...</td>\n",
       "    </tr>\n",
       "  </tbody>\n",
       "</table>\n",
       "</div>"
      ],
      "text/plain": [
       "                    ENCOUNTER_ID                     PATIENT_ID  \\\n",
       "0  udacity_health_encounter_id_1  udacity_health_patient_id_186   \n",
       "\n",
       "  PRINCIPAL_DIAGNOSIS_CODE                                     PROCEDURE_CODE  \\\n",
       "0            dx_code_15406  [procedure_code_58552, procedure_code_39776, p...   \n",
       "\n",
       "                                     MEDICATION_CODE  \\\n",
       "0  [medication_code_2350, medication_code_8630, m...   \n",
       "\n",
       "                                            LAB_CODE  \\\n",
       "0  [lab_code_8835, lab_code_9859, lab_code_9032, ...   \n",
       "\n",
       "                                               LABEL  \n",
       "0  [0, 0, 0, 0, 0, 0, 0, 0, 0, 0, 0, 0, 0, 0, 0, ...  "
      ]
     },
     "execution_count": 32,
     "metadata": {},
     "output_type": "execute_result"
    }
   ],
   "source": [
    "# Explanation of Code Block: Filtering the Encounter DataFrame for a Specific Encounter ID\n",
    "encounter_df[encounter_df['ENCOUNTER_ID']=='udacity_health_encounter_id_1']"
   ]
  },
  {
   "cell_type": "code",
   "execution_count": null,
   "metadata": {},
   "outputs": [],
   "source": []
  },
  {
   "cell_type": "markdown",
   "metadata": {},
   "source": [
    "## 2. Converting Encounter to Longitudinal Representation"
   ]
  },
  {
   "cell_type": "code",
   "execution_count": 33,
   "metadata": {},
   "outputs": [
    {
     "data": {
      "application/vnd.microsoft.datawrangler.viewer.v0+json": {
       "columns": [
        {
         "name": "index",
         "rawType": "int64",
         "type": "integer"
        },
        {
         "name": "ENCOUNTER_ID",
         "rawType": "object",
         "type": "string"
        },
        {
         "name": "PATIENT_ID",
         "rawType": "object",
         "type": "string"
        },
        {
         "name": "PRINCIPAL_DIAGNOSIS_CODE",
         "rawType": "object",
         "type": "string"
        },
        {
         "name": "PROCEDURE_CODE",
         "rawType": "object",
         "type": "unknown"
        },
        {
         "name": "MEDICATION_CODE",
         "rawType": "object",
         "type": "unknown"
        },
        {
         "name": "LAB_CODE",
         "rawType": "object",
         "type": "unknown"
        },
        {
         "name": "LABEL",
         "rawType": "object",
         "type": "unknown"
        }
       ],
       "ref": "59b74e38-9f53-45d0-b18d-449dfa833ff1",
       "rows": [
        [
         "0",
         "udacity_health_encounter_id_1",
         "udacity_health_patient_id_186",
         "dx_code_15406",
         "['procedure_code_58552', 'procedure_code_39776', 'procedure_code_13212', 'procedure_code_50377']",
         "['medication_code_2350', 'medication_code_8630', 'medication_code_4030', 'medication_code_431', 'medication_code_7435', 'medication_code_4338', 'medication_code_3080', 'medication_code_3808', 'medication_code_8275', 'medication_code_7779', 'medication_code_4081', 'medication_code_5203', 'medication_code_1267']",
         "['lab_code_8835', 'lab_code_9859', 'lab_code_9032', 'lab_code_9167']",
         "[0, 0, 0, 0, 0, 0, 0, 0, 0, 0, 0, 0, 0, 0, 0, 0, 0, 0, 0, 0, 0]"
        ],
        [
         "1",
         "udacity_health_encounter_id_10",
         "udacity_health_patient_id_188",
         "dx_code_74047",
         "[]",
         "['medication_code_7789', 'medication_code_3560', 'medication_code_9285', 'medication_code_4317']",
         "[]",
         "[1, 1, 1, 1]"
        ],
        [
         "2",
         "udacity_health_encounter_id_100",
         "udacity_health_patient_id_585",
         "dx_code_71465",
         "[]",
         "['medication_code_7982', 'medication_code_2452', 'medication_code_279']",
         "['lab_code_4198', 'lab_code_6603', 'lab_code_332', 'lab_code_1431']",
         "[0, 0, 0, 0, 0, 0, 0]"
        ],
        [
         "3",
         "udacity_health_encounter_id_1000",
         "udacity_health_patient_id_525",
         "dx_code_61569",
         "[]",
         "['medication_code_4036']",
         "[]",
         "[0]"
        ],
        [
         "4",
         "udacity_health_encounter_id_1001",
         "udacity_health_patient_id_950",
         "dx_code_90172",
         "['procedure_code_30555']",
         "['medication_code_6755', 'medication_code_5045']",
         "['lab_code_9112']",
         "[0, 0, 0, 0]"
        ]
       ],
       "shape": {
        "columns": 7,
        "rows": 5
       }
      },
      "text/html": [
       "<div>\n",
       "<style scoped>\n",
       "    .dataframe tbody tr th:only-of-type {\n",
       "        vertical-align: middle;\n",
       "    }\n",
       "\n",
       "    .dataframe tbody tr th {\n",
       "        vertical-align: top;\n",
       "    }\n",
       "\n",
       "    .dataframe thead th {\n",
       "        text-align: right;\n",
       "    }\n",
       "</style>\n",
       "<table border=\"1\" class=\"dataframe\">\n",
       "  <thead>\n",
       "    <tr style=\"text-align: right;\">\n",
       "      <th></th>\n",
       "      <th>ENCOUNTER_ID</th>\n",
       "      <th>PATIENT_ID</th>\n",
       "      <th>PRINCIPAL_DIAGNOSIS_CODE</th>\n",
       "      <th>PROCEDURE_CODE</th>\n",
       "      <th>MEDICATION_CODE</th>\n",
       "      <th>LAB_CODE</th>\n",
       "      <th>LABEL</th>\n",
       "    </tr>\n",
       "  </thead>\n",
       "  <tbody>\n",
       "    <tr>\n",
       "      <th>0</th>\n",
       "      <td>udacity_health_encounter_id_1</td>\n",
       "      <td>udacity_health_patient_id_186</td>\n",
       "      <td>dx_code_15406</td>\n",
       "      <td>[procedure_code_58552, procedure_code_39776, p...</td>\n",
       "      <td>[medication_code_2350, medication_code_8630, m...</td>\n",
       "      <td>[lab_code_8835, lab_code_9859, lab_code_9032, ...</td>\n",
       "      <td>[0, 0, 0, 0, 0, 0, 0, 0, 0, 0, 0, 0, 0, 0, 0, ...</td>\n",
       "    </tr>\n",
       "    <tr>\n",
       "      <th>1</th>\n",
       "      <td>udacity_health_encounter_id_10</td>\n",
       "      <td>udacity_health_patient_id_188</td>\n",
       "      <td>dx_code_74047</td>\n",
       "      <td>[]</td>\n",
       "      <td>[medication_code_7789, medication_code_3560, m...</td>\n",
       "      <td>[]</td>\n",
       "      <td>[1, 1, 1, 1]</td>\n",
       "    </tr>\n",
       "    <tr>\n",
       "      <th>2</th>\n",
       "      <td>udacity_health_encounter_id_100</td>\n",
       "      <td>udacity_health_patient_id_585</td>\n",
       "      <td>dx_code_71465</td>\n",
       "      <td>[]</td>\n",
       "      <td>[medication_code_7982, medication_code_2452, m...</td>\n",
       "      <td>[lab_code_4198, lab_code_6603, lab_code_332, l...</td>\n",
       "      <td>[0, 0, 0, 0, 0, 0, 0]</td>\n",
       "    </tr>\n",
       "    <tr>\n",
       "      <th>3</th>\n",
       "      <td>udacity_health_encounter_id_1000</td>\n",
       "      <td>udacity_health_patient_id_525</td>\n",
       "      <td>dx_code_61569</td>\n",
       "      <td>[]</td>\n",
       "      <td>[medication_code_4036]</td>\n",
       "      <td>[]</td>\n",
       "      <td>[0]</td>\n",
       "    </tr>\n",
       "    <tr>\n",
       "      <th>4</th>\n",
       "      <td>udacity_health_encounter_id_1001</td>\n",
       "      <td>udacity_health_patient_id_950</td>\n",
       "      <td>dx_code_90172</td>\n",
       "      <td>[procedure_code_30555]</td>\n",
       "      <td>[medication_code_6755, medication_code_5045]</td>\n",
       "      <td>[lab_code_9112]</td>\n",
       "      <td>[0, 0, 0, 0]</td>\n",
       "    </tr>\n",
       "  </tbody>\n",
       "</table>\n",
       "</div>"
      ],
      "text/plain": [
       "                       ENCOUNTER_ID                     PATIENT_ID  \\\n",
       "0     udacity_health_encounter_id_1  udacity_health_patient_id_186   \n",
       "1    udacity_health_encounter_id_10  udacity_health_patient_id_188   \n",
       "2   udacity_health_encounter_id_100  udacity_health_patient_id_585   \n",
       "3  udacity_health_encounter_id_1000  udacity_health_patient_id_525   \n",
       "4  udacity_health_encounter_id_1001  udacity_health_patient_id_950   \n",
       "\n",
       "  PRINCIPAL_DIAGNOSIS_CODE                                     PROCEDURE_CODE  \\\n",
       "0            dx_code_15406  [procedure_code_58552, procedure_code_39776, p...   \n",
       "1            dx_code_74047                                                 []   \n",
       "2            dx_code_71465                                                 []   \n",
       "3            dx_code_61569                                                 []   \n",
       "4            dx_code_90172                             [procedure_code_30555]   \n",
       "\n",
       "                                     MEDICATION_CODE  \\\n",
       "0  [medication_code_2350, medication_code_8630, m...   \n",
       "1  [medication_code_7789, medication_code_3560, m...   \n",
       "2  [medication_code_7982, medication_code_2452, m...   \n",
       "3                             [medication_code_4036]   \n",
       "4       [medication_code_6755, medication_code_5045]   \n",
       "\n",
       "                                            LAB_CODE  \\\n",
       "0  [lab_code_8835, lab_code_9859, lab_code_9032, ...   \n",
       "1                                                 []   \n",
       "2  [lab_code_4198, lab_code_6603, lab_code_332, l...   \n",
       "3                                                 []   \n",
       "4                                    [lab_code_9112]   \n",
       "\n",
       "                                               LABEL  \n",
       "0  [0, 0, 0, 0, 0, 0, 0, 0, 0, 0, 0, 0, 0, 0, 0, ...  \n",
       "1                                       [1, 1, 1, 1]  \n",
       "2                              [0, 0, 0, 0, 0, 0, 0]  \n",
       "3                                                [0]  \n",
       "4                                       [0, 0, 0, 0]  "
      ]
     },
     "execution_count": 33,
     "metadata": {},
     "output_type": "execute_result"
    }
   ],
   "source": [
    "## Explanation of Code Block: Displaying the First Few Rows of the Encounter DataFrame\n",
    "encounter_df.head()"
   ]
  },
  {
   "cell_type": "code",
   "execution_count": 34,
   "metadata": {},
   "outputs": [],
   "source": [
    "## Explanation of Code Block: Defining Patient Grouping and Non-Patient Aggregation Fields\n",
    "patient_grouping_field_list = [\"PATIENT_ID\"]\n",
    "non_patient_agg_field_list = [c for c in encounter_df.columns if c not in patient_grouping_field_list]"
   ]
  },
  {
   "cell_type": "code",
   "execution_count": null,
   "metadata": {},
   "outputs": [],
   "source": [
    "# Explanation of Code Block: Aggregating Encounter Data by Patient ID\n",
    "long_df = encounter_df.groupby(patient_grouping_field_list)[non_patient_agg_field_list].agg(lambda x:\n",
    "                                                        list([y for y in x if y is not np.nan ] ) ).reset_index()"
   ]
  },
  {
   "cell_type": "code",
   "execution_count": 36,
   "metadata": {},
   "outputs": [
    {
     "data": {
      "application/vnd.microsoft.datawrangler.viewer.v0+json": {
       "columns": [
        {
         "name": "index",
         "rawType": "int64",
         "type": "integer"
        },
        {
         "name": "PATIENT_ID",
         "rawType": "object",
         "type": "string"
        },
        {
         "name": "ENCOUNTER_ID",
         "rawType": "object",
         "type": "unknown"
        },
        {
         "name": "PRINCIPAL_DIAGNOSIS_CODE",
         "rawType": "object",
         "type": "unknown"
        },
        {
         "name": "PROCEDURE_CODE",
         "rawType": "object",
         "type": "unknown"
        },
        {
         "name": "MEDICATION_CODE",
         "rawType": "object",
         "type": "unknown"
        },
        {
         "name": "LAB_CODE",
         "rawType": "object",
         "type": "unknown"
        },
        {
         "name": "LABEL",
         "rawType": "object",
         "type": "unknown"
        }
       ],
       "ref": "a25c7d69-ab95-4f17-9483-66f2b8f23bc8",
       "rows": [
        [
         "0",
         "udacity_health_patient_id_1",
         "['udacity_health_encounter_id_1038', 'udacity_health_encounter_id_6874', 'udacity_health_encounter_id_6923', 'udacity_health_encounter_id_7067', 'udacity_health_encounter_id_7284', 'udacity_health_encounter_id_7286']",
         "['dx_code_36196', 'dx_code_63471', 'dx_code_29114', 'dx_code_31190', 'dx_code_63002', 'dx_code_79566']",
         "[['procedure_code_36285', 'procedure_code_21124', 'procedure_code_13770', 'procedure_code_12908', 'procedure_code_33490', 'procedure_code_30496', 'procedure_code_29889', 'procedure_code_19188', 'procedure_code_35727', 'procedure_code_44378'], ['procedure_code_3346', 'procedure_code_44756', 'procedure_code_53448'], ['procedure_code_19604', 'procedure_code_49925', 'procedure_code_6857', 'procedure_code_69298', 'procedure_code_28188'], ['procedure_code_70580', 'procedure_code_38517', 'procedure_code_20555', 'procedure_code_64515', 'procedure_code_9234', 'procedure_code_71587'], ['procedure_code_3880', 'procedure_code_61252'], ['procedure_code_50674']]",
         "[['medication_code_3772', 'medication_code_9214', 'medication_code_1164', 'medication_code_750', 'medication_code_4287', 'medication_code_6958', 'medication_code_3582', 'medication_code_7330', 'medication_code_297', 'medication_code_138', 'medication_code_58', 'medication_code_6335', 'medication_code_1204', 'medication_code_2335', 'medication_code_6782', 'medication_code_4815', 'medication_code_1598', 'medication_code_6777', 'medication_code_5667'], ['medication_code_1038', 'medication_code_3313', 'medication_code_5709', 'medication_code_5908', 'medication_code_2116', 'medication_code_8559', 'medication_code_5634'], ['medication_code_560', 'medication_code_4620', 'medication_code_6609', 'medication_code_7871', 'medication_code_5095', 'medication_code_7296', 'medication_code_7722', 'medication_code_3375', 'medication_code_9481', 'medication_code_6363', 'medication_code_851', 'medication_code_7725'], ['medication_code_3734', 'medication_code_5384', 'medication_code_1298', 'medication_code_2383', 'medication_code_6128', 'medication_code_1556'], ['medication_code_8761', 'medication_code_6036', 'medication_code_4727'], ['medication_code_8229', 'medication_code_2150', 'medication_code_9213', 'medication_code_7278']]",
         "[['lab_code_3982', 'lab_code_306'], [], ['lab_code_2794', 'lab_code_9189'], ['lab_code_5441', 'lab_code_6242'], [], []]",
         "[[1, 1, 1, 1, 1, 1, 1, 1, 1, 1, 1, 1, 1, 1, 1, 1, 1, 1, 1, 1, 1, 1, 1, 1, 1, 1, 1, 1, 1, 1, 1], [1, 1, 1, 1, 1, 1, 1, 1, 1, 1], [1, 1, 1, 1, 1, 1, 1, 1, 1, 1, 1, 1, 1, 1, 1, 1, 1, 1, 1], [1, 1, 1, 1, 1, 1, 1, 1, 1, 1, 1, 1, 1, 1], [1, 1, 1, 1, 1], [1, 1, 1, 1, 1]]"
        ],
        [
         "1",
         "udacity_health_patient_id_10",
         "['udacity_health_encounter_id_1110', 'udacity_health_encounter_id_1328', 'udacity_health_encounter_id_1508', 'udacity_health_encounter_id_1723', 'udacity_health_encounter_id_2020', 'udacity_health_encounter_id_2172', 'udacity_health_encounter_id_227', 'udacity_health_encounter_id_2703', 'udacity_health_encounter_id_2734', 'udacity_health_encounter_id_2790', 'udacity_health_encounter_id_2883', 'udacity_health_encounter_id_302', 'udacity_health_encounter_id_3088', 'udacity_health_encounter_id_3429', 'udacity_health_encounter_id_3441', 'udacity_health_encounter_id_3758', 'udacity_health_encounter_id_4504', 'udacity_health_encounter_id_4826', 'udacity_health_encounter_id_492', 'udacity_health_encounter_id_5204', 'udacity_health_encounter_id_5335', 'udacity_health_encounter_id_5478', 'udacity_health_encounter_id_5734', 'udacity_health_encounter_id_6605', 'udacity_health_encounter_id_6844', 'udacity_health_encounter_id_700', 'udacity_health_encounter_id_7124', 'udacity_health_encounter_id_7193', 'udacity_health_encounter_id_824', 'udacity_health_encounter_id_979']",
         "['dx_code_29609', 'dx_code_268', 'dx_code_26932', 'dx_code_98344', 'dx_code_16513', 'dx_code_86809', 'dx_code_30642', 'dx_code_6417', 'dx_code_15463', 'dx_code_98850', 'dx_code_43748', 'dx_code_98383', 'dx_code_2514', 'dx_code_77073', 'dx_code_15422', 'dx_code_20869', 'dx_code_83644', 'dx_code_43939', 'dx_code_49208', 'dx_code_93124', 'dx_code_65546', 'dx_code_4899', 'dx_code_31784', 'dx_code_24229', 'dx_code_35519', 'dx_code_18032', 'dx_code_86486', 'dx_code_69820', 'dx_code_20075', 'dx_code_81219']",
         "[['procedure_code_9379'], ['procedure_code_3052', 'procedure_code_367', 'procedure_code_50918', 'procedure_code_32334', 'procedure_code_50555', 'procedure_code_17073', 'procedure_code_49111', 'procedure_code_59876', 'procedure_code_2669', 'procedure_code_60553', 'procedure_code_14483', 'procedure_code_1802'], ['procedure_code_2994', 'procedure_code_42761'], ['procedure_code_48694', 'procedure_code_69086', 'procedure_code_7949'], ['procedure_code_70551', 'procedure_code_4350', 'procedure_code_41128'], [], ['procedure_code_28067'], ['procedure_code_70500', 'procedure_code_1160', 'procedure_code_16683', 'procedure_code_50309', 'procedure_code_25596', 'procedure_code_65015', 'procedure_code_66004', 'procedure_code_72981', 'procedure_code_34352'], ['procedure_code_34747', 'procedure_code_12159', 'procedure_code_11467'], ['procedure_code_55613', 'procedure_code_65801', 'procedure_code_49282', 'procedure_code_14692', 'procedure_code_62600', 'procedure_code_30658', 'procedure_code_3622', 'procedure_code_46492', 'procedure_code_21212', 'procedure_code_38302', 'procedure_code_29731', 'procedure_code_65923', 'procedure_code_25109', 'procedure_code_2825'], ['procedure_code_24636', 'procedure_code_11745', 'procedure_code_45151', 'procedure_code_37056', 'procedure_code_17895', 'procedure_code_60808', 'procedure_code_27016', 'procedure_code_21642'], ['procedure_code_42654', 'procedure_code_72871', 'procedure_code_38489', 'procedure_code_48397', 'procedure_code_15079'], ['procedure_code_35171'], ['procedure_code_14260', 'procedure_code_32206', 'procedure_code_45877', 'procedure_code_13827', 'procedure_code_29030', 'procedure_code_29169'], ['procedure_code_14720', 'procedure_code_27236', 'procedure_code_44212', 'procedure_code_12234', 'procedure_code_24468', 'procedure_code_59809', 'procedure_code_67277', 'procedure_code_72877', 'procedure_code_41242', 'procedure_code_16559'], [], ['procedure_code_15821'], ['procedure_code_12002', 'procedure_code_6021'], [], ['procedure_code_40866', 'procedure_code_1038', 'procedure_code_70995'], ['procedure_code_9982', 'procedure_code_40896', 'procedure_code_34194', 'procedure_code_7488', 'procedure_code_32815', 'procedure_code_23383', 'procedure_code_67966', 'procedure_code_40102', 'procedure_code_2427', 'procedure_code_39619'], ['procedure_code_21822', 'procedure_code_59431'], ['procedure_code_67345', 'procedure_code_10721', 'procedure_code_70043', 'procedure_code_34005'], [], ['procedure_code_51438', 'procedure_code_29583', 'procedure_code_45914', 'procedure_code_21411', 'procedure_code_33015', 'procedure_code_925'], ['procedure_code_57210', 'procedure_code_5647', 'procedure_code_21058', 'procedure_code_28909', 'procedure_code_10281', 'procedure_code_57925'], ['procedure_code_21888'], ['procedure_code_48016', 'procedure_code_53872', 'procedure_code_8431'], ['procedure_code_27973', 'procedure_code_31100'], ['procedure_code_56591', 'procedure_code_42461', 'procedure_code_55443', 'procedure_code_16558']]",
         "[['medication_code_7371', 'medication_code_2104', 'medication_code_9542', 'medication_code_7528', 'medication_code_7834', 'medication_code_3859', 'medication_code_7044'], ['medication_code_364', 'medication_code_2842', 'medication_code_4910', 'medication_code_4786', 'medication_code_7546', 'medication_code_106', 'medication_code_5132', 'medication_code_9050', 'medication_code_8290', 'medication_code_3222', 'medication_code_3939', 'medication_code_3990', 'medication_code_8605', 'medication_code_6722', 'medication_code_9560', 'medication_code_4963', 'medication_code_9464', 'medication_code_8032', 'medication_code_9710', 'medication_code_4059'], ['medication_code_1362', 'medication_code_7740', 'medication_code_5127', 'medication_code_4241'], ['medication_code_1319', 'medication_code_1196', 'medication_code_4029', 'medication_code_5139', 'medication_code_4947', 'medication_code_7134'], ['medication_code_3425', 'medication_code_5587', 'medication_code_6004', 'medication_code_4272', 'medication_code_435', 'medication_code_9303'], ['medication_code_9203', 'medication_code_34', 'medication_code_2262', 'medication_code_2761', 'medication_code_7730', 'medication_code_8704'], ['medication_code_6270', 'medication_code_8398', 'medication_code_6021', 'medication_code_2603'], ['medication_code_3214', 'medication_code_6624', 'medication_code_1586', 'medication_code_6923', 'medication_code_230', 'medication_code_8422', 'medication_code_8597', 'medication_code_4911', 'medication_code_3881', 'medication_code_3042', 'medication_code_232', 'medication_code_9942', 'medication_code_3062', 'medication_code_2471', 'medication_code_3997', 'medication_code_3537', 'medication_code_933', 'medication_code_9938', 'medication_code_7716', 'medication_code_9329', 'medication_code_3056', 'medication_code_5587', 'medication_code_1613', 'medication_code_8629', 'medication_code_6612', 'medication_code_3734', 'medication_code_7771', 'medication_code_5614'], ['medication_code_5272', 'medication_code_1496', 'medication_code_9671', 'medication_code_6686'], ['medication_code_2192', 'medication_code_9432', 'medication_code_8930', 'medication_code_3171', 'medication_code_9586', 'medication_code_647', 'medication_code_602', 'medication_code_1142', 'medication_code_5462', 'medication_code_4702', 'medication_code_6232', 'medication_code_9000', 'medication_code_5702', 'medication_code_5822', 'medication_code_8622', 'medication_code_3621', 'medication_code_2090', 'medication_code_2831', 'medication_code_174', 'medication_code_4848', 'medication_code_6040', 'medication_code_3942', 'medication_code_5660', 'medication_code_6016', 'medication_code_4980', 'medication_code_7973', 'medication_code_1381'], ['medication_code_5920', 'medication_code_6730', 'medication_code_9485', 'medication_code_6791', 'medication_code_3631', 'medication_code_8775', 'medication_code_1362', 'medication_code_3603', 'medication_code_8436', 'medication_code_1787', 'medication_code_7847', 'medication_code_1173', 'medication_code_9051', 'medication_code_2987', 'medication_code_9656', 'medication_code_7889', 'medication_code_5466', 'medication_code_7410', 'medication_code_5834', 'medication_code_9370', 'medication_code_7900', 'medication_code_8393', 'medication_code_6468'], ['medication_code_7771', 'medication_code_3063', 'medication_code_7423', 'medication_code_9358', 'medication_code_9120', 'medication_code_1352', 'medication_code_9011', 'medication_code_6330', 'medication_code_2348', 'medication_code_6598', 'medication_code_6035', 'medication_code_509', 'medication_code_6694', 'medication_code_855', 'medication_code_5216', 'medication_code_4276', 'medication_code_8318', 'medication_code_6243'], ['medication_code_2030', 'medication_code_8003', 'medication_code_9726'], ['medication_code_7511', 'medication_code_9039'], ['medication_code_3783', 'medication_code_4806', 'medication_code_8219', 'medication_code_8930', 'medication_code_1968', 'medication_code_4711', 'medication_code_7777', 'medication_code_8100', 'medication_code_5736', 'medication_code_9041', 'medication_code_8177', 'medication_code_980', 'medication_code_7060', 'medication_code_9445', 'medication_code_4547', 'medication_code_6103', 'medication_code_9945', 'medication_code_1266', 'medication_code_2204', 'medication_code_9749', 'medication_code_5776', 'medication_code_9879', 'medication_code_531', 'medication_code_1632', 'medication_code_9695', 'medication_code_3379', 'medication_code_5261', 'medication_code_7099', 'medication_code_9120', 'medication_code_317', 'medication_code_2888'], ['medication_code_5998', 'medication_code_3668', 'medication_code_276'], ['medication_code_6230'], ['medication_code_873', 'medication_code_4677', 'medication_code_5671', 'medication_code_8837', 'medication_code_7481', 'medication_code_8696', 'medication_code_9349', 'medication_code_2197', 'medication_code_5580', 'medication_code_753'], ['medication_code_4029', 'medication_code_9266', 'medication_code_3512'], ['medication_code_5272', 'medication_code_6181', 'medication_code_5850', 'medication_code_6035', 'medication_code_5340', 'medication_code_3606', 'medication_code_5850', 'medication_code_1278', 'medication_code_9532'], ['medication_code_6391', 'medication_code_3805', 'medication_code_2959', 'medication_code_2610', 'medication_code_9305', 'medication_code_4869', 'medication_code_8186', 'medication_code_4125', 'medication_code_9889', 'medication_code_4264', 'medication_code_1573', 'medication_code_6249', 'medication_code_6638', 'medication_code_13', 'medication_code_3490', 'medication_code_6151', 'medication_code_5099', 'medication_code_4919', 'medication_code_1787', 'medication_code_6703', 'medication_code_5523'], ['medication_code_8617', 'medication_code_3642', 'medication_code_916', 'medication_code_1662', 'medication_code_3313'], ['medication_code_7639', 'medication_code_6108', 'medication_code_8937', 'medication_code_3087', 'medication_code_7917', 'medication_code_5348', 'medication_code_442', 'medication_code_6558', 'medication_code_5246', 'medication_code_1560', 'medication_code_6990', 'medication_code_3660', 'medication_code_3839'], ['medication_code_2529'], ['medication_code_5276', 'medication_code_1015', 'medication_code_7001', 'medication_code_9685', 'medication_code_6612', 'medication_code_7052', 'medication_code_3098', 'medication_code_7360', 'medication_code_7023', 'medication_code_3835', 'medication_code_5564', 'medication_code_8315', 'medication_code_9252', 'medication_code_9864', 'medication_code_3222'], ['medication_code_7115', 'medication_code_3939', 'medication_code_3675', 'medication_code_3288', 'medication_code_8021', 'medication_code_4739', 'medication_code_9848', 'medication_code_9683'], ['medication_code_7243'], [], ['medication_code_6461', 'medication_code_5908', 'medication_code_1263', 'medication_code_697'], ['medication_code_7496', 'medication_code_6500', 'medication_code_9910', 'medication_code_945', 'medication_code_172', 'medication_code_8583', 'medication_code_6038']]",
         "[['lab_code_6457'], ['lab_code_2180', 'lab_code_6939'], [], ['lab_code_2320'], ['lab_code_8059', 'lab_code_4369'], [], ['lab_code_893'], ['lab_code_1759', 'lab_code_1461', 'lab_code_4882', 'lab_code_3311'], ['lab_code_5296'], ['lab_code_6149', 'lab_code_6559', 'lab_code_3030', 'lab_code_2696', 'lab_code_3850'], ['lab_code_1638', 'lab_code_2473', 'lab_code_9391'], ['lab_code_8744', 'lab_code_8817'], [], ['lab_code_1588'], ['lab_code_2431', 'lab_code_7982', 'lab_code_5044', 'lab_code_1044', 'lab_code_9635', 'lab_code_8252', 'lab_code_8876', 'lab_code_8125', 'lab_code_8303', 'lab_code_2901', 'lab_code_4356', 'lab_code_4540', 'lab_code_4605', 'lab_code_9446', 'lab_code_9824'], ['lab_code_436', 'lab_code_7544'], ['lab_code_48'], ['lab_code_7617', 'lab_code_6946', 'lab_code_5002', 'lab_code_1947'], ['lab_code_8483'], ['lab_code_1327'], ['lab_code_103', 'lab_code_5829', 'lab_code_1338', 'lab_code_7618'], [], ['lab_code_6464', 'lab_code_1009', 'lab_code_3392', 'lab_code_9166', 'lab_code_4504', 'lab_code_9106', 'lab_code_5982', 'lab_code_5214'], [], ['lab_code_1162', 'lab_code_4582'], ['lab_code_9830', 'lab_code_3391'], [], [], ['lab_code_1160'], []]",
         "[[0, 0, 0, 0, 0, 0, 0, 0, 0], [0, 0, 0, 0, 0, 0, 0, 0, 0, 0, 0, 0, 0, 0, 0, 0, 0, 0, 0, 0, 0, 0, 0, 0, 0, 0, 0, 0, 0, 0, 0, 0, 0, 0], [0, 0, 0, 0, 0, 0], [0, 0, 0, 0, 0, 0, 0, 0, 0, 0], [0, 0, 0, 0, 0, 0, 0, 0, 0, 0, 0], [0, 0, 0, 0, 0, 0], [0, 0, 0, 0, 0, 0], [0, 0, 0, 0, 0, 0, 0, 0, 0, 0, 0, 0, 0, 0, 0, 0, 0, 0, 0, 0, 0, 0, 0, 0, 0, 0, 0, 0, 0, 0, 0, 0, 0, 0, 0, 0, 0, 0, 0, 0, 0], [0, 0, 0, 0, 0, 0, 0, 0], [0, 0, 0, 0, 0, 0, 0, 0, 0, 0, 0, 0, 0, 0, 0, 0, 0, 0, 0, 0, 0, 0, 0, 0, 0, 0, 0, 0, 0, 0, 0, 0, 0, 0, 0, 0, 0, 0, 0, 0, 0, 0, 0, 0, 0, 0], [0, 0, 0, 0, 0, 0, 0, 0, 0, 0, 0, 0, 0, 0, 0, 0, 0, 0, 0, 0, 0, 0, 0, 0, 0, 0, 0, 0, 0, 0, 0, 0, 0, 0], [0, 0, 0, 0, 0, 0, 0, 0, 0, 0, 0, 0, 0, 0, 0, 0, 0, 0, 0, 0, 0, 0, 0, 0, 0], [0, 0, 0, 0], [0, 0, 0, 0, 0, 0, 0, 0, 0], [0, 0, 0, 0, 0, 0, 0, 0, 0, 0, 0, 0, 0, 0, 0, 0, 0, 0, 0, 0, 0, 0, 0, 0, 0, 0, 0, 0, 0, 0, 0, 0, 0, 0, 0, 0, 0, 0, 0, 0, 0, 0, 0, 0, 0, 0, 0, 0, 0, 0, 0, 0, 0, 0, 0, 0], [0, 0, 0, 0, 0], [0, 0, 0], [0, 0, 0, 0, 0, 0, 0, 0, 0, 0, 0, 0, 0, 0, 0, 0], [0, 0, 0, 0], [0, 0, 0, 0, 0, 0, 0, 0, 0, 0, 0, 0, 0], [0, 0, 0, 0, 0, 0, 0, 0, 0, 0, 0, 0, 0, 0, 0, 0, 0, 0, 0, 0, 0, 0, 0, 0, 0, 0, 0, 0, 0, 0, 0, 0, 0, 0, 0], [0, 0, 0, 0, 0, 0, 0], [0, 0, 0, 0, 0, 0, 0, 0, 0, 0, 0, 0, 0, 0, 0, 0, 0, 0, 0, 0, 0, 0, 0, 0, 0], [0], [0, 0, 0, 0, 0, 0, 0, 0, 0, 0, 0, 0, 0, 0, 0, 0, 0, 0, 0, 0, 0, 0, 0], [0, 0, 0, 0, 0, 0, 0, 0, 0, 0, 0, 0, 0, 0, 0, 0], [0, 0], [0, 0, 0], [0, 0, 0, 0, 0, 0, 0], [0, 0, 0, 0, 0, 0, 0, 0, 0, 0, 0]]"
        ],
        [
         "2",
         "udacity_health_patient_id_100",
         "['udacity_health_encounter_id_1205', 'udacity_health_encounter_id_1407', 'udacity_health_encounter_id_2259', 'udacity_health_encounter_id_2869', 'udacity_health_encounter_id_4195', 'udacity_health_encounter_id_4368', 'udacity_health_encounter_id_4571', 'udacity_health_encounter_id_4807', 'udacity_health_encounter_id_5374', 'udacity_health_encounter_id_5497', 'udacity_health_encounter_id_5556', 'udacity_health_encounter_id_5567', 'udacity_health_encounter_id_6867', 'udacity_health_encounter_id_6981']",
         "['dx_code_32095', 'dx_code_45376', 'dx_code_48998', 'dx_code_50753', 'dx_code_74571', 'dx_code_50853', 'dx_code_67990', 'dx_code_98703', 'dx_code_48658', 'dx_code_80878', 'dx_code_813', 'dx_code_11973', 'dx_code_85996', 'dx_code_6744']",
         "[['procedure_code_71055', 'procedure_code_29744', 'procedure_code_68891', 'procedure_code_42589', 'procedure_code_20557', 'procedure_code_60469', 'procedure_code_56431', 'procedure_code_9211', 'procedure_code_13882'], [], ['procedure_code_26879', 'procedure_code_51408', 'procedure_code_71047', 'procedure_code_32046', 'procedure_code_14340', 'procedure_code_56507'], ['procedure_code_32574', 'procedure_code_62922', 'procedure_code_34910'], ['procedure_code_7953', 'procedure_code_68429', 'procedure_code_26679', 'procedure_code_43525', 'procedure_code_35441', 'procedure_code_41883'], ['procedure_code_35710'], ['procedure_code_64378', 'procedure_code_14352', 'procedure_code_65803', 'procedure_code_48273', 'procedure_code_7765', 'procedure_code_13533', 'procedure_code_59645', 'procedure_code_26862', 'procedure_code_31272', 'procedure_code_31264', 'procedure_code_4954', 'procedure_code_65682', 'procedure_code_29622', 'procedure_code_52470', 'procedure_code_70060', 'procedure_code_31598', 'procedure_code_59037', 'procedure_code_44606'], ['procedure_code_55808', 'procedure_code_64421', 'procedure_code_39776', 'procedure_code_15170', 'procedure_code_9889', 'procedure_code_37143', 'procedure_code_57526'], ['procedure_code_58245', 'procedure_code_54407', 'procedure_code_6526', 'procedure_code_68621'], ['procedure_code_29858', 'procedure_code_53045'], ['procedure_code_69051'], ['procedure_code_20672'], ['procedure_code_3989', 'procedure_code_44933', 'procedure_code_57710'], ['procedure_code_21523', 'procedure_code_63063']]",
         "[['medication_code_2399', 'medication_code_966', 'medication_code_630', 'medication_code_1462', 'medication_code_4217', 'medication_code_8348', 'medication_code_4318', 'medication_code_5754', 'medication_code_2030', 'medication_code_6525', 'medication_code_4027', 'medication_code_2831', 'medication_code_7946', 'medication_code_750', 'medication_code_9253', 'medication_code_305', 'medication_code_5159', 'medication_code_3090', 'medication_code_9482', 'medication_code_3384'], ['medication_code_7808'], ['medication_code_2158', 'medication_code_1503', 'medication_code_8684', 'medication_code_6498', 'medication_code_8018', 'medication_code_3463', 'medication_code_2006', 'medication_code_2807', 'medication_code_5770', 'medication_code_442', 'medication_code_2122', 'medication_code_5606', 'medication_code_9347', 'medication_code_5833'], ['medication_code_397', 'medication_code_6335'], ['medication_code_4807', 'medication_code_3234', 'medication_code_492', 'medication_code_1985', 'medication_code_869', 'medication_code_4970', 'medication_code_5384', 'medication_code_7220'], [], ['medication_code_204', 'medication_code_7076', 'medication_code_2560', 'medication_code_1403', 'medication_code_8627', 'medication_code_8323', 'medication_code_8448', 'medication_code_2259', 'medication_code_914', 'medication_code_8440', 'medication_code_6398', 'medication_code_4007', 'medication_code_492', 'medication_code_8701', 'medication_code_2687', 'medication_code_4930', 'medication_code_3437', 'medication_code_4936', 'medication_code_6548', 'medication_code_7718', 'medication_code_5154', 'medication_code_6694', 'medication_code_8721', 'medication_code_145', 'medication_code_8783', 'medication_code_980', 'medication_code_322', 'medication_code_8669', 'medication_code_7020', 'medication_code_3142'], ['medication_code_6560', 'medication_code_2204', 'medication_code_9236', 'medication_code_6325', 'medication_code_2301', 'medication_code_6972', 'medication_code_6167', 'medication_code_6377', 'medication_code_4942', 'medication_code_9826', 'medication_code_3381', 'medication_code_7364', 'medication_code_6071', 'medication_code_2917', 'medication_code_855', 'medication_code_5033', 'medication_code_4388', 'medication_code_3046', 'medication_code_8873'], ['medication_code_9691', 'medication_code_5522', 'medication_code_3420', 'medication_code_9260', 'medication_code_8229', 'medication_code_8677', 'medication_code_1513'], ['medication_code_3949', 'medication_code_3596', 'medication_code_7551', 'medication_code_442', 'medication_code_8155', 'medication_code_8098', 'medication_code_9423'], [], ['medication_code_9337', 'medication_code_3739'], ['medication_code_295', 'medication_code_2192', 'medication_code_1567', 'medication_code_6568', 'medication_code_3486', 'medication_code_9486'], ['medication_code_7595', 'medication_code_58', 'medication_code_8059', 'medication_code_570', 'medication_code_232', 'medication_code_401']]",
         "[['lab_code_4928', 'lab_code_6524', 'lab_code_1713', 'lab_code_8526', 'lab_code_3476', 'lab_code_7696', 'lab_code_9604', 'lab_code_4595'], [], ['lab_code_3747', 'lab_code_6318', 'lab_code_630', 'lab_code_9991', 'lab_code_6740'], ['lab_code_1816'], ['lab_code_9128', 'lab_code_1044', 'lab_code_5248', 'lab_code_7552'], [], ['lab_code_1758', 'lab_code_9237', 'lab_code_7647', 'lab_code_9325', 'lab_code_8198', 'lab_code_761', 'lab_code_399', 'lab_code_6251', 'lab_code_7969', 'lab_code_5073'], ['lab_code_5451', 'lab_code_1159'], [], ['lab_code_662', 'lab_code_7711'], [], ['lab_code_8083'], ['lab_code_2188', 'lab_code_8149', 'lab_code_2668'], ['lab_code_3088', 'lab_code_7783']]",
         "[[0, 0, 0, 0, 0, 0, 0, 0, 0, 0, 0, 0, 0, 0, 0, 0, 0, 0, 0, 0, 0, 0, 0, 0, 0, 0, 0, 0, 0, 0, 0, 0, 0, 0, 0, 0, 0], [0], [0, 0, 0, 0, 0, 0, 0, 0, 0, 0, 0, 0, 0, 0, 0, 0, 0, 0, 0, 0, 0, 0, 0, 0, 0], [0, 0, 0, 0, 0, 0], [0, 0, 0, 0, 0, 0, 0, 0, 0, 0, 0, 0, 0, 0, 0, 0, 0, 0], [0], [0, 0, 0, 0, 0, 0, 0, 0, 0, 0, 0, 0, 0, 0, 0, 0, 0, 0, 0, 0, 0, 0, 0, 0, 0, 0, 0, 0, 0, 0, 0, 0, 0, 0, 0, 0, 0, 0, 0, 0, 0, 0, 0, 0, 0, 0, 0, 0, 0, 0, 0, 0, 0, 0, 0, 0, 0, 0], [0, 0, 0, 0, 0, 0, 0, 0, 0, 0, 0, 0, 0, 0, 0, 0, 0, 0, 0, 0, 0, 0, 0, 0, 0, 0, 0, 0], [0, 0, 0, 0, 0, 0, 0, 0, 0, 0, 0], [0, 0, 0, 0, 0, 0, 0, 0, 0, 0, 0], [0], [0, 0, 0, 0], [0, 0, 0, 0, 0, 0, 0, 0, 0, 0, 0, 0], [0, 0, 0, 0, 0, 0, 0, 0, 0, 0]]"
        ],
        [
         "3",
         "udacity_health_patient_id_1000",
         "['udacity_health_encounter_id_1105', 'udacity_health_encounter_id_174', 'udacity_health_encounter_id_2567', 'udacity_health_encounter_id_2794', 'udacity_health_encounter_id_3397', 'udacity_health_encounter_id_4430', 'udacity_health_encounter_id_4447', 'udacity_health_encounter_id_4700', 'udacity_health_encounter_id_4999', 'udacity_health_encounter_id_608', 'udacity_health_encounter_id_6253', 'udacity_health_encounter_id_7612', 'udacity_health_encounter_id_7748']",
         "['dx_code_53764', 'dx_code_50924', 'dx_code_80218', 'dx_code_67429', 'dx_code_69775', 'dx_code_17414', 'dx_code_82199', 'dx_code_82994', 'dx_code_41579', 'dx_code_53868', 'dx_code_57100', 'dx_code_69022', 'dx_code_62969']",
         "[[], ['procedure_code_7870', 'procedure_code_21691'], ['procedure_code_68520', 'procedure_code_56738', 'procedure_code_33615', 'procedure_code_37453', 'procedure_code_27639'], ['procedure_code_35200', 'procedure_code_20526', 'procedure_code_47924'], ['procedure_code_40092', 'procedure_code_30143'], ['procedure_code_63723', 'procedure_code_10801', 'procedure_code_68379', 'procedure_code_33744'], ['procedure_code_47185', 'procedure_code_44754', 'procedure_code_4115'], ['procedure_code_1457', 'procedure_code_2006', 'procedure_code_72410', 'procedure_code_59760', 'procedure_code_37052', 'procedure_code_8883', 'procedure_code_72876', 'procedure_code_5567', 'procedure_code_64174', 'procedure_code_39056', 'procedure_code_42601'], ['procedure_code_11845'], ['procedure_code_22420', 'procedure_code_29937'], ['procedure_code_9839'], ['procedure_code_29921', 'procedure_code_32332'], []]",
         "[['medication_code_6580', 'medication_code_3007'], ['medication_code_5632', 'medication_code_9848', 'medication_code_9255'], ['medication_code_8499', 'medication_code_6200', 'medication_code_1572', 'medication_code_2176', 'medication_code_6685', 'medication_code_4503', 'medication_code_5319', 'medication_code_5988', 'medication_code_7849', 'medication_code_5413'], ['medication_code_5188', 'medication_code_850', 'medication_code_5912', 'medication_code_9630', 'medication_code_1993', 'medication_code_7632'], ['medication_code_8051', 'medication_code_5843', 'medication_code_5971', 'medication_code_2311', 'medication_code_9572', 'medication_code_1322', 'medication_code_7869', 'medication_code_4206'], ['medication_code_6151', 'medication_code_1514', 'medication_code_2520', 'medication_code_611', 'medication_code_7914', 'medication_code_6779', 'medication_code_296', 'medication_code_2495', 'medication_code_6425', 'medication_code_58', 'medication_code_1041', 'medication_code_9753', 'medication_code_6189', 'medication_code_7696', 'medication_code_2955', 'medication_code_6685', 'medication_code_5428', 'medication_code_3078', 'medication_code_921'], ['medication_code_5720', 'medication_code_4804', 'medication_code_3710', 'medication_code_9608', 'medication_code_2247', 'medication_code_2332', 'medication_code_4009'], ['medication_code_853', 'medication_code_7926', 'medication_code_659', 'medication_code_2873', 'medication_code_5094', 'medication_code_2506', 'medication_code_2874', 'medication_code_6879', 'medication_code_6814', 'medication_code_8159', 'medication_code_230', 'medication_code_9042', 'medication_code_3783', 'medication_code_3208', 'medication_code_7763', 'medication_code_7595', 'medication_code_3636', 'medication_code_7486', 'medication_code_9113', 'medication_code_11', 'medication_code_4182'], ['medication_code_7931', 'medication_code_8195', 'medication_code_2697', 'medication_code_1591'], ['medication_code_79', 'medication_code_2745', 'medication_code_6302', 'medication_code_171', 'medication_code_5552', 'medication_code_8815'], ['medication_code_5311', 'medication_code_6227', 'medication_code_271', 'medication_code_5802'], ['medication_code_4766', 'medication_code_6122'], ['medication_code_4550']]",
         "[[], ['lab_code_5468'], ['lab_code_7607'], ['lab_code_1676'], ['lab_code_5191', 'lab_code_9947', 'lab_code_3708', 'lab_code_3065'], ['lab_code_794', 'lab_code_829', 'lab_code_2259'], ['lab_code_417', 'lab_code_7365'], ['lab_code_6028', 'lab_code_7497', 'lab_code_4586', 'lab_code_8496', 'lab_code_8578'], ['lab_code_9650', 'lab_code_3847', 'lab_code_3661'], ['lab_code_9674'], ['lab_code_6719'], ['lab_code_6663'], []]",
         "[[1, 1], [1, 1, 1, 1, 1, 1], [1, 1, 1, 1, 1, 1, 1, 1, 1, 1, 1, 1, 1, 1, 1, 1], [1, 1, 1, 1, 1, 1, 1, 1, 1, 1], [1, 1, 1, 1, 1, 1, 1, 1, 1, 1, 1, 1, 1, 1], [1, 1, 1, 1, 1, 1, 1, 1, 1, 1, 1, 1, 1, 1, 1, 1, 1, 1, 1, 1, 1, 1, 1, 1, 1, 1], [1, 1, 1, 1, 1, 1, 1, 1, 1, 1, 1, 1], [1, 1, 1, 1, 1, 1, 1, 1, 1, 1, 1, 1, 1, 1, 1, 1, 1, 1, 1, 1, 1, 1, 1, 1, 1, 1, 1, 1, 1, 1, 1, 1, 1, 1, 1, 1, 1], [1, 1, 1, 1, 1, 1, 1, 1], [1, 1, 1, 1, 1, 1, 1, 1, 1], [1, 1, 1, 1, 1, 1], [1, 1, 1, 1, 1], [1]]"
        ],
        [
         "4",
         "udacity_health_patient_id_101",
         "['udacity_health_encounter_id_2058', 'udacity_health_encounter_id_5131']",
         "['dx_code_13590', 'dx_code_29551']",
         "[['procedure_code_45319', 'procedure_code_67294'], ['procedure_code_33539', 'procedure_code_58366', 'procedure_code_47053']]",
         "[['medication_code_2532'], ['medication_code_4311', 'medication_code_3713']]",
         "[['lab_code_1206', 'lab_code_9967'], []]",
         "[[0, 0, 0, 0, 0], [0, 0, 0, 0, 0]]"
        ]
       ],
       "shape": {
        "columns": 7,
        "rows": 5
       }
      },
      "text/html": [
       "<div>\n",
       "<style scoped>\n",
       "    .dataframe tbody tr th:only-of-type {\n",
       "        vertical-align: middle;\n",
       "    }\n",
       "\n",
       "    .dataframe tbody tr th {\n",
       "        vertical-align: top;\n",
       "    }\n",
       "\n",
       "    .dataframe thead th {\n",
       "        text-align: right;\n",
       "    }\n",
       "</style>\n",
       "<table border=\"1\" class=\"dataframe\">\n",
       "  <thead>\n",
       "    <tr style=\"text-align: right;\">\n",
       "      <th></th>\n",
       "      <th>PATIENT_ID</th>\n",
       "      <th>ENCOUNTER_ID</th>\n",
       "      <th>PRINCIPAL_DIAGNOSIS_CODE</th>\n",
       "      <th>PROCEDURE_CODE</th>\n",
       "      <th>MEDICATION_CODE</th>\n",
       "      <th>LAB_CODE</th>\n",
       "      <th>LABEL</th>\n",
       "    </tr>\n",
       "  </thead>\n",
       "  <tbody>\n",
       "    <tr>\n",
       "      <th>0</th>\n",
       "      <td>udacity_health_patient_id_1</td>\n",
       "      <td>[udacity_health_encounter_id_1038, udacity_hea...</td>\n",
       "      <td>[dx_code_36196, dx_code_63471, dx_code_29114, ...</td>\n",
       "      <td>[[procedure_code_36285, procedure_code_21124, ...</td>\n",
       "      <td>[[medication_code_3772, medication_code_9214, ...</td>\n",
       "      <td>[[lab_code_3982, lab_code_306], [], [lab_code_...</td>\n",
       "      <td>[[1, 1, 1, 1, 1, 1, 1, 1, 1, 1, 1, 1, 1, 1, 1,...</td>\n",
       "    </tr>\n",
       "    <tr>\n",
       "      <th>1</th>\n",
       "      <td>udacity_health_patient_id_10</td>\n",
       "      <td>[udacity_health_encounter_id_1110, udacity_hea...</td>\n",
       "      <td>[dx_code_29609, dx_code_268, dx_code_26932, dx...</td>\n",
       "      <td>[[procedure_code_9379], [procedure_code_3052, ...</td>\n",
       "      <td>[[medication_code_7371, medication_code_2104, ...</td>\n",
       "      <td>[[lab_code_6457], [lab_code_2180, lab_code_693...</td>\n",
       "      <td>[[0, 0, 0, 0, 0, 0, 0, 0, 0], [0, 0, 0, 0, 0, ...</td>\n",
       "    </tr>\n",
       "    <tr>\n",
       "      <th>2</th>\n",
       "      <td>udacity_health_patient_id_100</td>\n",
       "      <td>[udacity_health_encounter_id_1205, udacity_hea...</td>\n",
       "      <td>[dx_code_32095, dx_code_45376, dx_code_48998, ...</td>\n",
       "      <td>[[procedure_code_71055, procedure_code_29744, ...</td>\n",
       "      <td>[[medication_code_2399, medication_code_966, m...</td>\n",
       "      <td>[[lab_code_4928, lab_code_6524, lab_code_1713,...</td>\n",
       "      <td>[[0, 0, 0, 0, 0, 0, 0, 0, 0, 0, 0, 0, 0, 0, 0,...</td>\n",
       "    </tr>\n",
       "    <tr>\n",
       "      <th>3</th>\n",
       "      <td>udacity_health_patient_id_1000</td>\n",
       "      <td>[udacity_health_encounter_id_1105, udacity_hea...</td>\n",
       "      <td>[dx_code_53764, dx_code_50924, dx_code_80218, ...</td>\n",
       "      <td>[[], [procedure_code_7870, procedure_code_2169...</td>\n",
       "      <td>[[medication_code_6580, medication_code_3007],...</td>\n",
       "      <td>[[], [lab_code_5468], [lab_code_7607], [lab_co...</td>\n",
       "      <td>[[1, 1], [1, 1, 1, 1, 1, 1], [1, 1, 1, 1, 1, 1...</td>\n",
       "    </tr>\n",
       "    <tr>\n",
       "      <th>4</th>\n",
       "      <td>udacity_health_patient_id_101</td>\n",
       "      <td>[udacity_health_encounter_id_2058, udacity_hea...</td>\n",
       "      <td>[dx_code_13590, dx_code_29551]</td>\n",
       "      <td>[[procedure_code_45319, procedure_code_67294],...</td>\n",
       "      <td>[[medication_code_2532], [medication_code_4311...</td>\n",
       "      <td>[[lab_code_1206, lab_code_9967], []]</td>\n",
       "      <td>[[0, 0, 0, 0, 0], [0, 0, 0, 0, 0]]</td>\n",
       "    </tr>\n",
       "  </tbody>\n",
       "</table>\n",
       "</div>"
      ],
      "text/plain": [
       "                       PATIENT_ID  \\\n",
       "0     udacity_health_patient_id_1   \n",
       "1    udacity_health_patient_id_10   \n",
       "2   udacity_health_patient_id_100   \n",
       "3  udacity_health_patient_id_1000   \n",
       "4   udacity_health_patient_id_101   \n",
       "\n",
       "                                        ENCOUNTER_ID  \\\n",
       "0  [udacity_health_encounter_id_1038, udacity_hea...   \n",
       "1  [udacity_health_encounter_id_1110, udacity_hea...   \n",
       "2  [udacity_health_encounter_id_1205, udacity_hea...   \n",
       "3  [udacity_health_encounter_id_1105, udacity_hea...   \n",
       "4  [udacity_health_encounter_id_2058, udacity_hea...   \n",
       "\n",
       "                            PRINCIPAL_DIAGNOSIS_CODE  \\\n",
       "0  [dx_code_36196, dx_code_63471, dx_code_29114, ...   \n",
       "1  [dx_code_29609, dx_code_268, dx_code_26932, dx...   \n",
       "2  [dx_code_32095, dx_code_45376, dx_code_48998, ...   \n",
       "3  [dx_code_53764, dx_code_50924, dx_code_80218, ...   \n",
       "4                     [dx_code_13590, dx_code_29551]   \n",
       "\n",
       "                                      PROCEDURE_CODE  \\\n",
       "0  [[procedure_code_36285, procedure_code_21124, ...   \n",
       "1  [[procedure_code_9379], [procedure_code_3052, ...   \n",
       "2  [[procedure_code_71055, procedure_code_29744, ...   \n",
       "3  [[], [procedure_code_7870, procedure_code_2169...   \n",
       "4  [[procedure_code_45319, procedure_code_67294],...   \n",
       "\n",
       "                                     MEDICATION_CODE  \\\n",
       "0  [[medication_code_3772, medication_code_9214, ...   \n",
       "1  [[medication_code_7371, medication_code_2104, ...   \n",
       "2  [[medication_code_2399, medication_code_966, m...   \n",
       "3  [[medication_code_6580, medication_code_3007],...   \n",
       "4  [[medication_code_2532], [medication_code_4311...   \n",
       "\n",
       "                                            LAB_CODE  \\\n",
       "0  [[lab_code_3982, lab_code_306], [], [lab_code_...   \n",
       "1  [[lab_code_6457], [lab_code_2180, lab_code_693...   \n",
       "2  [[lab_code_4928, lab_code_6524, lab_code_1713,...   \n",
       "3  [[], [lab_code_5468], [lab_code_7607], [lab_co...   \n",
       "4               [[lab_code_1206, lab_code_9967], []]   \n",
       "\n",
       "                                               LABEL  \n",
       "0  [[1, 1, 1, 1, 1, 1, 1, 1, 1, 1, 1, 1, 1, 1, 1,...  \n",
       "1  [[0, 0, 0, 0, 0, 0, 0, 0, 0], [0, 0, 0, 0, 0, ...  \n",
       "2  [[0, 0, 0, 0, 0, 0, 0, 0, 0, 0, 0, 0, 0, 0, 0,...  \n",
       "3  [[1, 1], [1, 1, 1, 1, 1, 1], [1, 1, 1, 1, 1, 1...  \n",
       "4                 [[0, 0, 0, 0, 0], [0, 0, 0, 0, 0]]  "
      ]
     },
     "execution_count": 36,
     "metadata": {},
     "output_type": "execute_result"
    }
   ],
   "source": [
    "## Explanation of Code Block: Displaying the First Few Rows of the Long DataFrame\n",
    "long_df.head()"
   ]
  },
  {
   "cell_type": "code",
   "execution_count": 37,
   "metadata": {},
   "outputs": [],
   "source": [
    "# Explanation of Code Block: Filtering the Long DataFrame for a Specific Patient ID\n",
    "example_patient_history = long_df[long_df['PATIENT_ID']=='udacity_health_patient_id_310']"
   ]
  },
  {
   "cell_type": "code",
   "execution_count": 38,
   "metadata": {},
   "outputs": [
    {
     "data": {
      "application/vnd.microsoft.datawrangler.viewer.v0+json": {
       "columns": [
        {
         "name": "index",
         "rawType": "int64",
         "type": "integer"
        },
        {
         "name": "PATIENT_ID",
         "rawType": "object",
         "type": "string"
        },
        {
         "name": "ENCOUNTER_ID",
         "rawType": "object",
         "type": "unknown"
        },
        {
         "name": "PRINCIPAL_DIAGNOSIS_CODE",
         "rawType": "object",
         "type": "unknown"
        },
        {
         "name": "PROCEDURE_CODE",
         "rawType": "object",
         "type": "unknown"
        },
        {
         "name": "MEDICATION_CODE",
         "rawType": "object",
         "type": "unknown"
        },
        {
         "name": "LAB_CODE",
         "rawType": "object",
         "type": "unknown"
        },
        {
         "name": "LABEL",
         "rawType": "object",
         "type": "unknown"
        }
       ],
       "ref": "3fdc4adc-5237-4ce1-88dd-fbd513a4bfc7",
       "rows": [
        [
         "211",
         "udacity_health_patient_id_310",
         "['udacity_health_encounter_id_4647', 'udacity_health_encounter_id_5010', 'udacity_health_encounter_id_551', 'udacity_health_encounter_id_7210', 'udacity_health_encounter_id_7331']",
         "['dx_code_74153', 'dx_code_95836', 'dx_code_39465', 'dx_code_66358', 'dx_code_99743']",
         "[['procedure_code_40521', 'procedure_code_52188', 'procedure_code_57020', 'procedure_code_11784', 'procedure_code_50478'], ['procedure_code_12696', 'procedure_code_2873', 'procedure_code_28392', 'procedure_code_1398'], ['procedure_code_49962'], [], ['procedure_code_31171']]",
         "[['medication_code_7251', 'medication_code_2765', 'medication_code_4537', 'medication_code_7459', 'medication_code_901', 'medication_code_6997', 'medication_code_7927', 'medication_code_70', 'medication_code_5860', 'medication_code_9450', 'medication_code_616', 'medication_code_7694', 'medication_code_3523'], ['medication_code_6953', 'medication_code_2797', 'medication_code_2380', 'medication_code_5108', 'medication_code_1633', 'medication_code_4740', 'medication_code_4837', 'medication_code_906', 'medication_code_2644', 'medication_code_3079'], ['medication_code_6621', 'medication_code_9784', 'medication_code_6212', 'medication_code_7508', 'medication_code_9701'], ['medication_code_6559', 'medication_code_797'], ['medication_code_1360', 'medication_code_3916', 'medication_code_762', 'medication_code_6159', 'medication_code_2947', 'medication_code_2705', 'medication_code_7773']]",
         "[['lab_code_1372'], ['lab_code_1794'], ['lab_code_1252'], ['lab_code_1954'], ['lab_code_2206']]",
         "[[0, 0, 0, 0, 0, 0, 0, 0, 0, 0, 0, 0, 0, 0, 0, 0, 0, 0, 0], [0, 0, 0, 0, 0, 0, 0, 0, 0, 0, 0, 0, 0, 0, 0], [0, 0, 0, 0, 0, 0, 0], [0, 0, 0], [0, 0, 0, 0, 0, 0, 0, 0, 0]]"
        ]
       ],
       "shape": {
        "columns": 7,
        "rows": 1
       }
      },
      "text/html": [
       "<div>\n",
       "<style scoped>\n",
       "    .dataframe tbody tr th:only-of-type {\n",
       "        vertical-align: middle;\n",
       "    }\n",
       "\n",
       "    .dataframe tbody tr th {\n",
       "        vertical-align: top;\n",
       "    }\n",
       "\n",
       "    .dataframe thead th {\n",
       "        text-align: right;\n",
       "    }\n",
       "</style>\n",
       "<table border=\"1\" class=\"dataframe\">\n",
       "  <thead>\n",
       "    <tr style=\"text-align: right;\">\n",
       "      <th></th>\n",
       "      <th>PATIENT_ID</th>\n",
       "      <th>ENCOUNTER_ID</th>\n",
       "      <th>PRINCIPAL_DIAGNOSIS_CODE</th>\n",
       "      <th>PROCEDURE_CODE</th>\n",
       "      <th>MEDICATION_CODE</th>\n",
       "      <th>LAB_CODE</th>\n",
       "      <th>LABEL</th>\n",
       "    </tr>\n",
       "  </thead>\n",
       "  <tbody>\n",
       "    <tr>\n",
       "      <th>211</th>\n",
       "      <td>udacity_health_patient_id_310</td>\n",
       "      <td>[udacity_health_encounter_id_4647, udacity_hea...</td>\n",
       "      <td>[dx_code_74153, dx_code_95836, dx_code_39465, ...</td>\n",
       "      <td>[[procedure_code_40521, procedure_code_52188, ...</td>\n",
       "      <td>[[medication_code_7251, medication_code_2765, ...</td>\n",
       "      <td>[[lab_code_1372], [lab_code_1794], [lab_code_1...</td>\n",
       "      <td>[[0, 0, 0, 0, 0, 0, 0, 0, 0, 0, 0, 0, 0, 0, 0,...</td>\n",
       "    </tr>\n",
       "  </tbody>\n",
       "</table>\n",
       "</div>"
      ],
      "text/plain": [
       "                        PATIENT_ID  \\\n",
       "211  udacity_health_patient_id_310   \n",
       "\n",
       "                                          ENCOUNTER_ID  \\\n",
       "211  [udacity_health_encounter_id_4647, udacity_hea...   \n",
       "\n",
       "                              PRINCIPAL_DIAGNOSIS_CODE  \\\n",
       "211  [dx_code_74153, dx_code_95836, dx_code_39465, ...   \n",
       "\n",
       "                                        PROCEDURE_CODE  \\\n",
       "211  [[procedure_code_40521, procedure_code_52188, ...   \n",
       "\n",
       "                                       MEDICATION_CODE  \\\n",
       "211  [[medication_code_7251, medication_code_2765, ...   \n",
       "\n",
       "                                              LAB_CODE  \\\n",
       "211  [[lab_code_1372], [lab_code_1794], [lab_code_1...   \n",
       "\n",
       "                                                 LABEL  \n",
       "211  [[0, 0, 0, 0, 0, 0, 0, 0, 0, 0, 0, 0, 0, 0, 0,...  "
      ]
     },
     "execution_count": 38,
     "metadata": {},
     "output_type": "execute_result"
    }
   ],
   "source": [
    "# Explanation of Code Block: Displaying the Example Patient History\n",
    "example_patient_history"
   ]
  },
  {
   "cell_type": "code",
   "execution_count": 39,
   "metadata": {},
   "outputs": [
    {
     "data": {
      "text/plain": [
       "[['udacity_health_encounter_id_4647',\n",
       "  'udacity_health_encounter_id_5010',\n",
       "  'udacity_health_encounter_id_551',\n",
       "  'udacity_health_encounter_id_7210',\n",
       "  'udacity_health_encounter_id_7331']]"
      ]
     },
     "execution_count": 39,
     "metadata": {},
     "output_type": "execute_result"
    }
   ],
   "source": [
    "# Explanation of Code Block: Extracting Encounter IDs from Example Patient History\n",
    "list(example_patient_history['ENCOUNTER_ID'].values)"
   ]
  },
  {
   "cell_type": "code",
   "execution_count": 40,
   "metadata": {},
   "outputs": [
    {
     "data": {
      "text/plain": [
       "[['dx_code_74153',\n",
       "  'dx_code_95836',\n",
       "  'dx_code_39465',\n",
       "  'dx_code_66358',\n",
       "  'dx_code_99743']]"
      ]
     },
     "execution_count": 40,
     "metadata": {},
     "output_type": "execute_result"
    }
   ],
   "source": [
    "#    Explanation of Code Block: Extracting Principal Diagnosis Codes from Example Patient History\n",
    "list(example_patient_history['PRINCIPAL_DIAGNOSIS_CODE'].values)"
   ]
  },
  {
   "cell_type": "code",
   "execution_count": 41,
   "metadata": {},
   "outputs": [
    {
     "data": {
      "text/plain": [
       "[[['procedure_code_40521',\n",
       "   'procedure_code_52188',\n",
       "   'procedure_code_57020',\n",
       "   'procedure_code_11784',\n",
       "   'procedure_code_50478'],\n",
       "  ['procedure_code_12696',\n",
       "   'procedure_code_2873',\n",
       "   'procedure_code_28392',\n",
       "   'procedure_code_1398'],\n",
       "  ['procedure_code_49962'],\n",
       "  [],\n",
       "  ['procedure_code_31171']]]"
      ]
     },
     "execution_count": 41,
     "metadata": {},
     "output_type": "execute_result"
    }
   ],
   "source": [
    "# Explanation of Code Block: Extracting Procedure Codes from Example Patient History\n",
    "list(example_patient_history['PROCEDURE_CODE'].values)"
   ]
  },
  {
   "cell_type": "markdown",
   "metadata": {},
   "source": [
    "## 3. How to Split Dataset at Patient Level"
   ]
  },
  {
   "cell_type": "markdown",
   "metadata": {},
   "source": [
    "#### ***Objective:*** \n",
    "- Split dataset at patient level into train and test partitions\n",
    "- Validate that split was done correctly"
   ]
  },
  {
   "cell_type": "markdown",
   "metadata": {},
   "source": [
    "#### Dataset Splitting Tests\n",
    "- Patient data in only one partition\n",
    "- Total unique number of patients across all partitions = total number unique patients in original full dataset\n",
    "- Total number of rows original dataset = sum of rows across splits"
   ]
  },
  {
   "cell_type": "code",
   "execution_count": 42,
   "metadata": {},
   "outputs": [],
   "source": [
    "#    Explanation of Code Block: Extracting Medication Codes from Example Patient History\n",
    "PATIENT_ID_FIELD = 'PATIENT_ID'\n",
    "TEST_PERCENTAGE = 0.2"
   ]
  },
  {
   "cell_type": "code",
   "execution_count": 43,
   "metadata": {},
   "outputs": [],
   "source": [
    "# Explanation of Code Block: Splitting Dataset at Patient Level\n",
    "def split_dataset_patient_level(df, key, test_percentage=0.2):\n",
    "    df = df.iloc[np.random.permutation(len(df))]\n",
    "    unique_values = df[key].unique()\n",
    "    total_values = len(unique_values)\n",
    "    sample_size = round(total_values * (1 - test_percentage ))\n",
    "    train = df[df[key].isin(unique_values[:sample_size])].reset_index(drop=True)\n",
    "    test = df[df[key].isin(unique_values[sample_size:])].reset_index(drop=True)\n",
    "    return train, test"
   ]
  },
  {
   "cell_type": "code",
   "execution_count": 44,
   "metadata": {},
   "outputs": [],
   "source": [
    "# Explanation of Code Block: Splitting the Encounter DataFrame into Training and Testing Sets\n",
    "train_df, test_df = split_dataset_patient_level(encounter_df, PATIENT_ID_FIELD, TEST_PERCENTAGE)"
   ]
  },
  {
   "cell_type": "code",
   "execution_count": 45,
   "metadata": {},
   "outputs": [
    {
     "name": "stdout",
     "output_type": "stream",
     "text": [
      "Test passed for patient data in only one partition\n"
     ]
    }
   ],
   "source": [
    "# Explanation of Code Block: Displaying the Number of Records in Training and Testing Sets\n",
    "assert len(set(train_df[PATIENT_ID_FIELD].unique()).intersection(set(test_df[PATIENT_ID_FIELD].unique()))) == 0\n",
    "print(\"Test passed for patient data in only one partition\")"
   ]
  },
  {
   "cell_type": "code",
   "execution_count": 46,
   "metadata": {},
   "outputs": [
    {
     "name": "stdout",
     "output_type": "stream",
     "text": [
      "Test passed for number of unique patients being equal!\n"
     ]
    }
   ],
   "source": [
    "# Explanation of Code Block: Asserting the Number of Unique Patients in Training and Testing Sets\n",
    "assert (train_df[PATIENT_ID_FIELD].nunique()  + test_df[PATIENT_ID_FIELD].nunique()) == encounter_df[PATIENT_ID_FIELD].nunique()\n",
    "print(\"Test passed for number of unique patients being equal!\")"
   ]
  },
  {
   "cell_type": "code",
   "execution_count": 47,
   "metadata": {},
   "outputs": [
    {
     "name": "stdout",
     "output_type": "stream",
     "text": [
      "Test passed for number of total rows equal!\n"
     ]
    }
   ],
   "source": [
    "# Explanation of Code Block: Asserting the Total Number of Rows in Training and Testing Sets\n",
    "assert len(train_df)  + len(test_df) == len(encounter_df)\n",
    "print(\"Test passed for number of total rows equal!\")"
   ]
  },
  {
   "cell_type": "markdown",
   "metadata": {},
   "source": [
    "## 4. ETL with TF Dataset API and Pandas"
   ]
  },
  {
   "cell_type": "markdown",
   "metadata": {},
   "source": [
    "NOTE: In some cases you may need to preprocess Pandas Dataframe to removed mixed types. In particular, remove null values and impute or remove rows (we will later impute with zero for numerical features)."
   ]
  },
  {
   "cell_type": "code",
   "execution_count": 48,
   "metadata": {},
   "outputs": [],
   "source": [
    "# Explanation of Code Block: Importing TensorFlow Library\n",
    "import tensorflow as tf"
   ]
  },
  {
   "cell_type": "code",
   "execution_count": 49,
   "metadata": {},
   "outputs": [],
   "source": [
    "# Explanation of Code Block: Importing TensorFlow Datasets Library\n",
    "swiss_dataset_path = \"./data/processed_swiss.csv\"\n",
    "swiss_df = pd.read_csv(swiss_dataset_path)\n",
    "selected_col_list = ['age', 'thalach', 'cp', 'num_label']\n",
    "subset_swiss_df = swiss_df[selected_col_list]"
   ]
  },
  {
   "cell_type": "code",
   "execution_count": 50,
   "metadata": {},
   "outputs": [
    {
     "data": {
      "application/vnd.microsoft.datawrangler.viewer.v0+json": {
       "columns": [
        {
         "name": "index",
         "rawType": "int64",
         "type": "integer"
        },
        {
         "name": "age",
         "rawType": "int64",
         "type": "integer"
        },
        {
         "name": "sex",
         "rawType": "int64",
         "type": "integer"
        },
        {
         "name": "cp",
         "rawType": "int64",
         "type": "integer"
        },
        {
         "name": "trestbps",
         "rawType": "object",
         "type": "string"
        },
        {
         "name": "chol",
         "rawType": "int64",
         "type": "integer"
        },
        {
         "name": "fbs",
         "rawType": "object",
         "type": "string"
        },
        {
         "name": "restecg",
         "rawType": "object",
         "type": "string"
        },
        {
         "name": "thalach",
         "rawType": "object",
         "type": "string"
        },
        {
         "name": "exang",
         "rawType": "object",
         "type": "string"
        },
        {
         "name": "oldpeak",
         "rawType": "object",
         "type": "string"
        },
        {
         "name": "slope",
         "rawType": "object",
         "type": "string"
        },
        {
         "name": "ca",
         "rawType": "object",
         "type": "string"
        },
        {
         "name": "thal",
         "rawType": "object",
         "type": "string"
        },
        {
         "name": "num_label",
         "rawType": "int64",
         "type": "integer"
        }
       ],
       "ref": "0da8f4c0-4f53-4357-83eb-29e2b7633041",
       "rows": [
        [
         "0",
         "32",
         "1",
         "1",
         "95",
         "0",
         "?",
         "0",
         "127",
         "0",
         ".7",
         "1",
         "?",
         "?",
         "1"
        ],
        [
         "1",
         "34",
         "1",
         "4",
         "115",
         "0",
         "?",
         "?",
         "154",
         "0",
         ".2",
         "1",
         "?",
         "?",
         "1"
        ],
        [
         "2",
         "35",
         "1",
         "4",
         "?",
         "0",
         "?",
         "0",
         "130",
         "1",
         "?",
         "?",
         "?",
         "7",
         "3"
        ],
        [
         "3",
         "36",
         "1",
         "4",
         "110",
         "0",
         "?",
         "0",
         "125",
         "1",
         "1",
         "2",
         "?",
         "6",
         "1"
        ],
        [
         "4",
         "38",
         "0",
         "4",
         "105",
         "0",
         "?",
         "0",
         "166",
         "0",
         "2.8",
         "1",
         "?",
         "?",
         "2"
        ]
       ],
       "shape": {
        "columns": 14,
        "rows": 5
       }
      },
      "text/html": [
       "<div>\n",
       "<style scoped>\n",
       "    .dataframe tbody tr th:only-of-type {\n",
       "        vertical-align: middle;\n",
       "    }\n",
       "\n",
       "    .dataframe tbody tr th {\n",
       "        vertical-align: top;\n",
       "    }\n",
       "\n",
       "    .dataframe thead th {\n",
       "        text-align: right;\n",
       "    }\n",
       "</style>\n",
       "<table border=\"1\" class=\"dataframe\">\n",
       "  <thead>\n",
       "    <tr style=\"text-align: right;\">\n",
       "      <th></th>\n",
       "      <th>age</th>\n",
       "      <th>sex</th>\n",
       "      <th>cp</th>\n",
       "      <th>trestbps</th>\n",
       "      <th>chol</th>\n",
       "      <th>fbs</th>\n",
       "      <th>restecg</th>\n",
       "      <th>thalach</th>\n",
       "      <th>exang</th>\n",
       "      <th>oldpeak</th>\n",
       "      <th>slope</th>\n",
       "      <th>ca</th>\n",
       "      <th>thal</th>\n",
       "      <th>num_label</th>\n",
       "    </tr>\n",
       "  </thead>\n",
       "  <tbody>\n",
       "    <tr>\n",
       "      <th>0</th>\n",
       "      <td>32</td>\n",
       "      <td>1</td>\n",
       "      <td>1</td>\n",
       "      <td>95</td>\n",
       "      <td>0</td>\n",
       "      <td>?</td>\n",
       "      <td>0</td>\n",
       "      <td>127</td>\n",
       "      <td>0</td>\n",
       "      <td>.7</td>\n",
       "      <td>1</td>\n",
       "      <td>?</td>\n",
       "      <td>?</td>\n",
       "      <td>1</td>\n",
       "    </tr>\n",
       "    <tr>\n",
       "      <th>1</th>\n",
       "      <td>34</td>\n",
       "      <td>1</td>\n",
       "      <td>4</td>\n",
       "      <td>115</td>\n",
       "      <td>0</td>\n",
       "      <td>?</td>\n",
       "      <td>?</td>\n",
       "      <td>154</td>\n",
       "      <td>0</td>\n",
       "      <td>.2</td>\n",
       "      <td>1</td>\n",
       "      <td>?</td>\n",
       "      <td>?</td>\n",
       "      <td>1</td>\n",
       "    </tr>\n",
       "    <tr>\n",
       "      <th>2</th>\n",
       "      <td>35</td>\n",
       "      <td>1</td>\n",
       "      <td>4</td>\n",
       "      <td>?</td>\n",
       "      <td>0</td>\n",
       "      <td>?</td>\n",
       "      <td>0</td>\n",
       "      <td>130</td>\n",
       "      <td>1</td>\n",
       "      <td>?</td>\n",
       "      <td>?</td>\n",
       "      <td>?</td>\n",
       "      <td>7</td>\n",
       "      <td>3</td>\n",
       "    </tr>\n",
       "    <tr>\n",
       "      <th>3</th>\n",
       "      <td>36</td>\n",
       "      <td>1</td>\n",
       "      <td>4</td>\n",
       "      <td>110</td>\n",
       "      <td>0</td>\n",
       "      <td>?</td>\n",
       "      <td>0</td>\n",
       "      <td>125</td>\n",
       "      <td>1</td>\n",
       "      <td>1</td>\n",
       "      <td>2</td>\n",
       "      <td>?</td>\n",
       "      <td>6</td>\n",
       "      <td>1</td>\n",
       "    </tr>\n",
       "    <tr>\n",
       "      <th>4</th>\n",
       "      <td>38</td>\n",
       "      <td>0</td>\n",
       "      <td>4</td>\n",
       "      <td>105</td>\n",
       "      <td>0</td>\n",
       "      <td>?</td>\n",
       "      <td>0</td>\n",
       "      <td>166</td>\n",
       "      <td>0</td>\n",
       "      <td>2.8</td>\n",
       "      <td>1</td>\n",
       "      <td>?</td>\n",
       "      <td>?</td>\n",
       "      <td>2</td>\n",
       "    </tr>\n",
       "  </tbody>\n",
       "</table>\n",
       "</div>"
      ],
      "text/plain": [
       "   age  sex  cp trestbps  chol fbs restecg thalach exang oldpeak slope ca  \\\n",
       "0   32    1   1       95     0   ?       0     127     0      .7     1  ?   \n",
       "1   34    1   4      115     0   ?       ?     154     0      .2     1  ?   \n",
       "2   35    1   4        ?     0   ?       0     130     1       ?     ?  ?   \n",
       "3   36    1   4      110     0   ?       0     125     1       1     2  ?   \n",
       "4   38    0   4      105     0   ?       0     166     0     2.8     1  ?   \n",
       "\n",
       "  thal  num_label  \n",
       "0    ?          1  \n",
       "1    ?          1  \n",
       "2    7          3  \n",
       "3    6          1  \n",
       "4    ?          2  "
      ]
     },
     "execution_count": 50,
     "metadata": {},
     "output_type": "execute_result"
    }
   ],
   "source": [
    "# Explanation of Code Block: Displaying the First Few Rows of the Swiss Dataset\n",
    "swiss_df.head()"
   ]
  },
  {
   "cell_type": "code",
   "execution_count": 51,
   "metadata": {},
   "outputs": [
    {
     "data": {
      "application/vnd.microsoft.datawrangler.viewer.v0+json": {
       "columns": [
        {
         "name": "index",
         "rawType": "int64",
         "type": "integer"
        },
        {
         "name": "age",
         "rawType": "int64",
         "type": "integer"
        },
        {
         "name": "thalach",
         "rawType": "object",
         "type": "string"
        },
        {
         "name": "cp",
         "rawType": "int64",
         "type": "integer"
        },
        {
         "name": "num_label",
         "rawType": "int64",
         "type": "integer"
        }
       ],
       "ref": "f4fb4de8-73c8-42b4-b1f8-a416e0a441c1",
       "rows": [
        [
         "0",
         "32",
         "127",
         "1",
         "1"
        ],
        [
         "1",
         "34",
         "154",
         "4",
         "1"
        ],
        [
         "2",
         "35",
         "130",
         "4",
         "3"
        ],
        [
         "3",
         "36",
         "125",
         "4",
         "1"
        ],
        [
         "4",
         "38",
         "166",
         "4",
         "2"
        ]
       ],
       "shape": {
        "columns": 4,
        "rows": 5
       }
      },
      "text/html": [
       "<div>\n",
       "<style scoped>\n",
       "    .dataframe tbody tr th:only-of-type {\n",
       "        vertical-align: middle;\n",
       "    }\n",
       "\n",
       "    .dataframe tbody tr th {\n",
       "        vertical-align: top;\n",
       "    }\n",
       "\n",
       "    .dataframe thead th {\n",
       "        text-align: right;\n",
       "    }\n",
       "</style>\n",
       "<table border=\"1\" class=\"dataframe\">\n",
       "  <thead>\n",
       "    <tr style=\"text-align: right;\">\n",
       "      <th></th>\n",
       "      <th>age</th>\n",
       "      <th>thalach</th>\n",
       "      <th>cp</th>\n",
       "      <th>num_label</th>\n",
       "    </tr>\n",
       "  </thead>\n",
       "  <tbody>\n",
       "    <tr>\n",
       "      <th>0</th>\n",
       "      <td>32</td>\n",
       "      <td>127</td>\n",
       "      <td>1</td>\n",
       "      <td>1</td>\n",
       "    </tr>\n",
       "    <tr>\n",
       "      <th>1</th>\n",
       "      <td>34</td>\n",
       "      <td>154</td>\n",
       "      <td>4</td>\n",
       "      <td>1</td>\n",
       "    </tr>\n",
       "    <tr>\n",
       "      <th>2</th>\n",
       "      <td>35</td>\n",
       "      <td>130</td>\n",
       "      <td>4</td>\n",
       "      <td>3</td>\n",
       "    </tr>\n",
       "    <tr>\n",
       "      <th>3</th>\n",
       "      <td>36</td>\n",
       "      <td>125</td>\n",
       "      <td>4</td>\n",
       "      <td>1</td>\n",
       "    </tr>\n",
       "    <tr>\n",
       "      <th>4</th>\n",
       "      <td>38</td>\n",
       "      <td>166</td>\n",
       "      <td>4</td>\n",
       "      <td>2</td>\n",
       "    </tr>\n",
       "  </tbody>\n",
       "</table>\n",
       "</div>"
      ],
      "text/plain": [
       "   age thalach  cp  num_label\n",
       "0   32     127   1          1\n",
       "1   34     154   4          1\n",
       "2   35     130   4          3\n",
       "3   36     125   4          1\n",
       "4   38     166   4          2"
      ]
     },
     "execution_count": 51,
     "metadata": {},
     "output_type": "execute_result"
    }
   ],
   "source": [
    "# Explanation of Code Block: Displaying the First Few Rows of the Subset Swiss DataFrame\n",
    "\n",
    "subset_swiss_df.head()"
   ]
  },
  {
   "cell_type": "code",
   "execution_count": 52,
   "metadata": {},
   "outputs": [],
   "source": [
    "# Explanation of Code Block: Converting DataFrame to TensorFlow Dataset\n",
    "#adapted from https://www.tensorflow.org/tutorials/structured_data/feature_columns\n",
    "def df_to_dataset(df, predictor,  batch_size=32):\n",
    "    df = df.copy()\n",
    "    labels = df.pop(predictor)\n",
    "    ds = tf.data.Dataset.from_tensor_slices((dict(df), labels))\n",
    "    ds = ds.shuffle(buffer_size=len(df))\n",
    "    ds = ds.batch(batch_size)\n",
    "    return ds"
   ]
  },
  {
   "cell_type": "code",
   "execution_count": 53,
   "metadata": {},
   "outputs": [],
   "source": [
    "# Explanation of Code Block: Defining Batch Size and Predictor Field for TensorFlow Dataset\n",
    "BATCH_SIZE = 64\n",
    "PREDICTOR_FIELD = 'num_label'\n",
    "sample_tf_ds = df_to_dataset(subset_swiss_df, PREDICTOR_FIELD, batch_size=BATCH_SIZE)"
   ]
  },
  {
   "cell_type": "code",
   "execution_count": 54,
   "metadata": {},
   "outputs": [
    {
     "data": {
      "text/plain": [
       "{'age': <tf.Tensor: shape=(64,), dtype=int64, numpy=\n",
       " array([56, 55, 63, 52, 67, 59, 53, 51, 61, 53, 55, 51, 55, 56, 38, 72, 51,\n",
       "        52, 38, 62, 70, 52, 43, 54, 43, 56, 58, 56, 35, 69, 61, 42, 61, 62,\n",
       "        42, 50, 62, 61, 57, 61, 60, 53, 57, 41, 63, 53, 54, 47, 61, 38, 62,\n",
       "        60, 57, 54, 57, 47, 61, 53, 70, 64, 38, 66, 50, 64])>,\n",
       " 'thalach': <tf.Tensor: shape=(64,), dtype=string, numpy=\n",
       " array([b'99', b'83', b'149', b'82', b'125', b'175', b'120', b'126',\n",
       "        b'117', b'135', b'92', b'92', b'150', b'98', b'120', b'114',\n",
       "        b'163', b'120', b'128', b'134', b'92', b'128', b'140', b'150',\n",
       "        b'122', b'148', b'105', b'103', b'130', b'?', b'145', b'99',\n",
       "        b'105', b'128', b'128', b'139', b'123', b'105', b'148', b'115',\n",
       "        b'99', b'120', b'131', b'176', b'86', b'115', b'110', b'120',\n",
       "        b'113', b'179', b'72', b'63', b'100', b'155', b'98', b'118', b'77',\n",
       "        b'141', b'157', b'140', b'156', b'90', b'120', b'114'],\n",
       "       dtype=object)>,\n",
       " 'cp': <tf.Tensor: shape=(64,), dtype=int64, numpy=\n",
       " array([3, 4, 4, 4, 1, 3, 4, 4, 4, 4, 4, 4, 2, 3, 4, 3, 4, 4, 3, 1, 4, 4,\n",
       "        4, 4, 4, 4, 4, 4, 4, 4, 4, 4, 4, 4, 4, 4, 4, 4, 3, 4, 4, 4, 4, 4,\n",
       "        4, 3, 4, 3, 4, 3, 4, 4, 4, 4, 4, 3, 4, 4, 4, 4, 4, 4, 4, 4])>}"
      ]
     },
     "execution_count": 54,
     "metadata": {},
     "output_type": "execute_result"
    }
   ],
   "source": [
    "# Explanation of Code Block: Displaying a Sample Batch from the TensorFlow Dataset\n",
    "sample_feature_batch = next(iter(sample_tf_ds))[0]\n",
    "sample_feature_batch"
   ]
  },
  {
   "cell_type": "code",
   "execution_count": 55,
   "metadata": {},
   "outputs": [
    {
     "data": {
      "text/plain": [
       "<tf.Tensor: shape=(64,), dtype=int64, numpy=\n",
       "array([3, 1, 3, 3, 3, 1, 1, 2, 1, 2, 1, 3, 1, 1, 0, 3, 1, 1, 3, 3, 2, 2,\n",
       "       0, 3, 2, 2, 1, 1, 3, 2, 2, 1, 1, 1, 1, 3, 1, 3, 4, 2, 1, 1, 3, 0,\n",
       "       0, 2, 1, 3, 1, 2, 2, 1, 0, 0, 2, 1, 2, 1, 2, 1, 1, 1, 3, 4])>"
      ]
     },
     "execution_count": 55,
     "metadata": {},
     "output_type": "execute_result"
    }
   ],
   "source": [
    "# Explanation of Code Block: Displaying Labels from the Sample Batch of the TensorFlow Dataset\n",
    "sample_label_batch = next(iter(sample_tf_ds))[1]\n",
    "sample_label_batch"
   ]
  },
  {
   "cell_type": "markdown",
   "metadata": {},
   "source": [
    "## 5. Building Numerical Feature with TF Feature Column API"
   ]
  },
  {
   "cell_type": "code",
   "execution_count": 56,
   "metadata": {},
   "outputs": [
    {
     "data": {
      "application/vnd.microsoft.datawrangler.viewer.v0+json": {
       "columns": [
        {
         "name": "index",
         "rawType": "int64",
         "type": "integer"
        },
        {
         "name": "age",
         "rawType": "int64",
         "type": "integer"
        },
        {
         "name": "thalach",
         "rawType": "object",
         "type": "string"
        },
        {
         "name": "cp",
         "rawType": "int64",
         "type": "integer"
        },
        {
         "name": "num_label",
         "rawType": "int64",
         "type": "integer"
        }
       ],
       "ref": "088d191a-f98e-4c00-ba2a-5e27f9f48af2",
       "rows": [
        [
         "0",
         "32",
         "127",
         "1",
         "1"
        ],
        [
         "1",
         "34",
         "154",
         "4",
         "1"
        ],
        [
         "2",
         "35",
         "130",
         "4",
         "3"
        ],
        [
         "3",
         "36",
         "125",
         "4",
         "1"
        ],
        [
         "4",
         "38",
         "166",
         "4",
         "2"
        ]
       ],
       "shape": {
        "columns": 4,
        "rows": 5
       }
      },
      "text/html": [
       "<div>\n",
       "<style scoped>\n",
       "    .dataframe tbody tr th:only-of-type {\n",
       "        vertical-align: middle;\n",
       "    }\n",
       "\n",
       "    .dataframe tbody tr th {\n",
       "        vertical-align: top;\n",
       "    }\n",
       "\n",
       "    .dataframe thead th {\n",
       "        text-align: right;\n",
       "    }\n",
       "</style>\n",
       "<table border=\"1\" class=\"dataframe\">\n",
       "  <thead>\n",
       "    <tr style=\"text-align: right;\">\n",
       "      <th></th>\n",
       "      <th>age</th>\n",
       "      <th>thalach</th>\n",
       "      <th>cp</th>\n",
       "      <th>num_label</th>\n",
       "    </tr>\n",
       "  </thead>\n",
       "  <tbody>\n",
       "    <tr>\n",
       "      <th>0</th>\n",
       "      <td>32</td>\n",
       "      <td>127</td>\n",
       "      <td>1</td>\n",
       "      <td>1</td>\n",
       "    </tr>\n",
       "    <tr>\n",
       "      <th>1</th>\n",
       "      <td>34</td>\n",
       "      <td>154</td>\n",
       "      <td>4</td>\n",
       "      <td>1</td>\n",
       "    </tr>\n",
       "    <tr>\n",
       "      <th>2</th>\n",
       "      <td>35</td>\n",
       "      <td>130</td>\n",
       "      <td>4</td>\n",
       "      <td>3</td>\n",
       "    </tr>\n",
       "    <tr>\n",
       "      <th>3</th>\n",
       "      <td>36</td>\n",
       "      <td>125</td>\n",
       "      <td>4</td>\n",
       "      <td>1</td>\n",
       "    </tr>\n",
       "    <tr>\n",
       "      <th>4</th>\n",
       "      <td>38</td>\n",
       "      <td>166</td>\n",
       "      <td>4</td>\n",
       "      <td>2</td>\n",
       "    </tr>\n",
       "  </tbody>\n",
       "</table>\n",
       "</div>"
      ],
      "text/plain": [
       "   age thalach  cp  num_label\n",
       "0   32     127   1          1\n",
       "1   34     154   4          1\n",
       "2   35     130   4          3\n",
       "3   36     125   4          1\n",
       "4   38     166   4          2"
      ]
     },
     "execution_count": 56,
     "metadata": {},
     "output_type": "execute_result"
    }
   ],
   "source": [
    "# Explanation of Code Block: Displaying the First Few Rows of the Subset Swiss DataFrame\n",
    "\n",
    "subset_swiss_df.head()"
   ]
  },
  {
   "cell_type": "code",
   "execution_count": 57,
   "metadata": {},
   "outputs": [
    {
     "name": "stdout",
     "output_type": "stream",
     "text": [
      "Mean age:55.31707317073171\n",
      "Standard Deviation Age:9.032107639562039\n"
     ]
    }
   ],
   "source": [
    "# Explanation of Code Block: Calculating Mean and Standard Deviation of Age in the Subset Swiss DataFrame\n",
    "age_mean = subset_swiss_df['age'].describe()['mean']\n",
    "age_std = subset_swiss_df['age'].describe()['std']\n",
    "print(\"Mean age:{}\\nStandard Deviation Age:{}\".format(age_mean, age_std))"
   ]
  },
  {
   "cell_type": "code",
   "execution_count": 58,
   "metadata": {},
   "outputs": [],
   "source": [
    "# Explanation of Code Block: Defining a Function to Normalize Numeric Features with Z-Score\n",
    "import functools\n",
    "def normalize_numeric_with_zscore(col, mean, std):\n",
    "    return (col - mean)/std\n",
    "\n",
    "def create_tf_numeric_feature(col, MEAN, STD,   default_value=0):\n",
    "    normalizer = functools.partial(normalize_numeric_with_zscore, mean=MEAN, std=STD)\n",
    "    return tf.feature_column.numeric_column(\n",
    "    key=col, default_value = default_value, normalizer_fn=normalizer, dtype=tf.float64)"
   ]
  },
  {
   "cell_type": "code",
   "execution_count": 59,
   "metadata": {},
   "outputs": [
    {
     "name": "stdout",
     "output_type": "stream",
     "text": [
      "WARNING:tensorflow:From /var/folders/sy/nnrjh0cx1897yr6m0_fq9wmc0000gq/T/ipykernel_49341/1189704427.py:7: numeric_column (from tensorflow.python.feature_column.feature_column_v2) is deprecated and will be removed in a future version.\n",
      "Instructions for updating:\n",
      "Use Keras preprocessing layers instead, either directly or via the `tf.keras.utils.FeatureSpace` utility. Each of `tf.feature_column.*` has a functional equivalent in `tf.keras.layers` for feature preprocessing when training a Keras model.\n"
     ]
    }
   ],
   "source": [
    "# Explanation of Code Block: Creating a TensorFlow Numeric Feature for Age\n",
    "age_tf_feature = create_tf_numeric_feature('age', age_mean, age_std)"
   ]
  },
  {
   "cell_type": "code",
   "execution_count": 60,
   "metadata": {},
   "outputs": [],
   "source": [
    "# Explanation of Code Block: Displaying the Created TensorFlow Numeric Feature for Age\n",
    "def demo(feature_column, example_batch):\n",
    "    feature_layer = tf.keras.layers.DenseFeatures(feature_column)\n",
    "    print(feature_layer(example_batch))"
   ]
  },
  {
   "cell_type": "code",
   "execution_count": 70,
   "metadata": {},
   "outputs": [
    {
     "name": "stdout",
     "output_type": "stream",
     "text": [
      "Example continuous field:\n",
      "NumericColumn(key='age', shape=(1,), default_value=(0,), dtype=tf.float64, normalizer_fn=functools.partial(<function normalize_numeric_with_zscore at 0x33469aca0>, mean=np.float64(55.31707317073171), std=np.float64(9.032107639562039)))\n",
      "\n",
      "Type of sample_feature_batch: <class 'dict'>\n",
      "Keys in sample_feature_batch: dict_keys(['age', 'thalach', 'cp'])\n",
      "Type of sample_feature_batch['age']: <class 'tensorflow.python.framework.ops.EagerTensor'>\n",
      "Shape of sample_feature_batch['age']: (64,)\n"
     ]
    },
    {
     "name": "stdout",
     "output_type": "stream",
     "text": [
      "Example continuous field:\n",
      "NumericColumn(key='age', shape=(1,), default_value=(0,), dtype=tf.float64, normalizer_fn=functools.partial(<function normalize_numeric_with_zscore at 0x33469aca0>, mean=np.float64(55.31707317073171), std=np.float64(9.032107639562039)))\n",
      "\n",
      "Type of sample_feature_batch: <class 'dict'>\n",
      "Keys in sample_feature_batch: dict_keys(['age', 'thalach', 'cp'])\n",
      "Type of sample_feature_batch['age']: <class 'tensorflow.python.framework.ops.EagerTensor'>\n",
      "Shape of sample_feature_batch['age']: (64,)\n"
     ]
    },
    {
     "ename": "AttributeError",
     "evalue": "module 'keras._tf_keras.keras.layers' has no attribute 'DenseFeatures'",
     "output_type": "error",
     "traceback": [
      "\u001b[0;31m---------------------------------------------------------------------------\u001b[0m",
      "\u001b[0;31mAttributeError\u001b[0m                            Traceback (most recent call last)",
      "Cell \u001b[0;32mIn[70], line 10\u001b[0m\n\u001b[1;32m      8\u001b[0m     sample_feature_batch[\u001b[38;5;124m'\u001b[39m\u001b[38;5;124mage\u001b[39m\u001b[38;5;124m'\u001b[39m] \u001b[38;5;241m=\u001b[39m tf\u001b[38;5;241m.\u001b[39mconvert_to_tensor(sample_feature_batch[\u001b[38;5;124m'\u001b[39m\u001b[38;5;124mage\u001b[39m\u001b[38;5;124m'\u001b[39m])\n\u001b[1;32m      9\u001b[0m \u001b[38;5;28mprint\u001b[39m(\u001b[38;5;124m\"\u001b[39m\u001b[38;5;124mShape of sample_feature_batch[\u001b[39m\u001b[38;5;124m'\u001b[39m\u001b[38;5;124mage\u001b[39m\u001b[38;5;124m'\u001b[39m\u001b[38;5;124m]:\u001b[39m\u001b[38;5;124m\"\u001b[39m, sample_feature_batch[\u001b[38;5;124m'\u001b[39m\u001b[38;5;124mage\u001b[39m\u001b[38;5;124m'\u001b[39m]\u001b[38;5;241m.\u001b[39mshape)\n\u001b[0;32m---> 10\u001b[0m \u001b[43mdemo\u001b[49m\u001b[43m(\u001b[49m\u001b[43mage_tf_feature\u001b[49m\u001b[43m,\u001b[49m\u001b[43m \u001b[49m\u001b[43msample_feature_batch\u001b[49m\u001b[43m)\u001b[49m\n",
      "Cell \u001b[0;32mIn[60], line 2\u001b[0m, in \u001b[0;36mdemo\u001b[0;34m(feature_column, example_batch)\u001b[0m\n\u001b[1;32m      1\u001b[0m \u001b[38;5;28;01mdef\u001b[39;00m \u001b[38;5;21mdemo\u001b[39m(feature_column, example_batch):\n\u001b[0;32m----> 2\u001b[0m     feature_layer \u001b[38;5;241m=\u001b[39m \u001b[43mtf\u001b[49m\u001b[38;5;241;43m.\u001b[39;49m\u001b[43mkeras\u001b[49m\u001b[38;5;241;43m.\u001b[39;49m\u001b[43mlayers\u001b[49m\u001b[38;5;241;43m.\u001b[39;49m\u001b[43mDenseFeatures\u001b[49m(feature_column)\n\u001b[1;32m      3\u001b[0m     \u001b[38;5;28mprint\u001b[39m(feature_layer(example_batch))\n",
      "\u001b[0;31mAttributeError\u001b[0m: module 'keras._tf_keras.keras.layers' has no attribute 'DenseFeatures'"
     ]
    }
   ],
   "source": [
    "print(\"Example continuous field:\\n{}\\n\".format(age_tf_feature))\n",
    "print(\"Type of sample_feature_batch:\", type(sample_feature_batch))\n",
    "print(\"Keys in sample_feature_batch:\", sample_feature_batch.keys())\n",
    "print(\"Type of sample_feature_batch['age']:\", type(sample_feature_batch['age']))\n",
    "# Convert to tensor if needed\n",
    "import tensorflow as tf\n",
    "if not isinstance(sample_feature_batch['age'], tf.Tensor):\n",
    "    sample_feature_batch['age'] = tf.convert_to_tensor(sample_feature_batch['age'])\n",
    "print(\"Shape of sample_feature_batch['age']:\", sample_feature_batch['age'].shape)\n",
    "demo(age_tf_feature, sample_feature_batch)"
   ]
  },
  {
   "cell_type": "markdown",
   "metadata": {},
   "source": [
    "## 6. Building Categorical Features with TF Feature Column API"
   ]
  },
  {
   "cell_type": "code",
   "execution_count": null,
   "metadata": {},
   "outputs": [],
   "source": [
    "# Explanation of Code Block: Creating a DataFrame for Categorical Example\n",
    "categorical_example_df = encounter_df[['ENCOUNTER_ID', 'PRINCIPAL_DIAGNOSIS_CODE', 'LABEL']]"
   ]
  },
  {
   "cell_type": "code",
   "execution_count": 72,
   "metadata": {},
   "outputs": [
    {
     "name": "stderr",
     "output_type": "stream",
     "text": [
      "/var/folders/sy/nnrjh0cx1897yr6m0_fq9wmc0000gq/T/ipykernel_49341/3416705905.py:3: SettingWithCopyWarning: \n",
      "A value is trying to be set on a copy of a slice from a DataFrame.\n",
      "Try using .loc[row_indexer,col_indexer] = value instead\n",
      "\n",
      "See the caveats in the documentation: https://pandas.pydata.org/pandas-docs/stable/user_guide/indexing.html#returning-a-view-versus-a-copy\n",
      "  categorical_example_df['LABEL'] = categorical_example_df['LABEL'].apply(lambda x: np.unique(x)[0])\n"
     ]
    }
   ],
   "source": [
    "# Explanation of Code Block: Displaying the First Few Rows of the Categorical Example DataFrame\n",
    "# for this task need to convert label from array to scalar value\n",
    "categorical_example_df['LABEL'] = categorical_example_df['LABEL'].apply(lambda x: np.unique(x)[0])"
   ]
  },
  {
   "cell_type": "code",
   "execution_count": 73,
   "metadata": {},
   "outputs": [
    {
     "data": {
      "application/vnd.microsoft.datawrangler.viewer.v0+json": {
       "columns": [
        {
         "name": "index",
         "rawType": "int64",
         "type": "integer"
        },
        {
         "name": "ENCOUNTER_ID",
         "rawType": "object",
         "type": "string"
        },
        {
         "name": "PRINCIPAL_DIAGNOSIS_CODE",
         "rawType": "object",
         "type": "string"
        },
        {
         "name": "LABEL",
         "rawType": "int64",
         "type": "integer"
        }
       ],
       "ref": "91850950-df4f-438f-be36-56f00fb4330a",
       "rows": [
        [
         "0",
         "udacity_health_encounter_id_1",
         "dx_code_15406",
         "0"
        ],
        [
         "1",
         "udacity_health_encounter_id_10",
         "dx_code_74047",
         "1"
        ],
        [
         "2",
         "udacity_health_encounter_id_100",
         "dx_code_71465",
         "0"
        ],
        [
         "3",
         "udacity_health_encounter_id_1000",
         "dx_code_61569",
         "0"
        ],
        [
         "4",
         "udacity_health_encounter_id_1001",
         "dx_code_90172",
         "0"
        ]
       ],
       "shape": {
        "columns": 3,
        "rows": 5
       }
      },
      "text/html": [
       "<div>\n",
       "<style scoped>\n",
       "    .dataframe tbody tr th:only-of-type {\n",
       "        vertical-align: middle;\n",
       "    }\n",
       "\n",
       "    .dataframe tbody tr th {\n",
       "        vertical-align: top;\n",
       "    }\n",
       "\n",
       "    .dataframe thead th {\n",
       "        text-align: right;\n",
       "    }\n",
       "</style>\n",
       "<table border=\"1\" class=\"dataframe\">\n",
       "  <thead>\n",
       "    <tr style=\"text-align: right;\">\n",
       "      <th></th>\n",
       "      <th>ENCOUNTER_ID</th>\n",
       "      <th>PRINCIPAL_DIAGNOSIS_CODE</th>\n",
       "      <th>LABEL</th>\n",
       "    </tr>\n",
       "  </thead>\n",
       "  <tbody>\n",
       "    <tr>\n",
       "      <th>0</th>\n",
       "      <td>udacity_health_encounter_id_1</td>\n",
       "      <td>dx_code_15406</td>\n",
       "      <td>0</td>\n",
       "    </tr>\n",
       "    <tr>\n",
       "      <th>1</th>\n",
       "      <td>udacity_health_encounter_id_10</td>\n",
       "      <td>dx_code_74047</td>\n",
       "      <td>1</td>\n",
       "    </tr>\n",
       "    <tr>\n",
       "      <th>2</th>\n",
       "      <td>udacity_health_encounter_id_100</td>\n",
       "      <td>dx_code_71465</td>\n",
       "      <td>0</td>\n",
       "    </tr>\n",
       "    <tr>\n",
       "      <th>3</th>\n",
       "      <td>udacity_health_encounter_id_1000</td>\n",
       "      <td>dx_code_61569</td>\n",
       "      <td>0</td>\n",
       "    </tr>\n",
       "    <tr>\n",
       "      <th>4</th>\n",
       "      <td>udacity_health_encounter_id_1001</td>\n",
       "      <td>dx_code_90172</td>\n",
       "      <td>0</td>\n",
       "    </tr>\n",
       "  </tbody>\n",
       "</table>\n",
       "</div>"
      ],
      "text/plain": [
       "                       ENCOUNTER_ID PRINCIPAL_DIAGNOSIS_CODE  LABEL\n",
       "0     udacity_health_encounter_id_1            dx_code_15406      0\n",
       "1    udacity_health_encounter_id_10            dx_code_74047      1\n",
       "2   udacity_health_encounter_id_100            dx_code_71465      0\n",
       "3  udacity_health_encounter_id_1000            dx_code_61569      0\n",
       "4  udacity_health_encounter_id_1001            dx_code_90172      0"
      ]
     },
     "execution_count": 73,
     "metadata": {},
     "output_type": "execute_result"
    }
   ],
   "source": [
    "# Explanation of Code Block: Displaying the First Few Rows of the Categorical Example DataFrame\n",
    "categorical_example_df.head()"
   ]
  },
  {
   "cell_type": "markdown",
   "metadata": {},
   "source": [
    "### High Cardinality for Principal Diagnosis Code"
   ]
  },
  {
   "cell_type": "code",
   "execution_count": 74,
   "metadata": {},
   "outputs": [
    {
     "data": {
      "text/plain": [
       "6752"
      ]
     },
     "execution_count": 74,
     "metadata": {},
     "output_type": "execute_result"
    }
   ],
   "source": [
    "# Explanation of Code Block: Counting Unique Principal Diagnosis Codes in the Categorical Example DataFrame\n",
    "categorical_example_df['PRINCIPAL_DIAGNOSIS_CODE'].nunique()"
   ]
  },
  {
   "cell_type": "markdown",
   "metadata": {},
   "source": [
    "### Generate Vocabulary File"
   ]
  },
  {
   "cell_type": "code",
   "execution_count": 75,
   "metadata": {},
   "outputs": [],
   "source": [
    "# Explanation of Code Block: Creating a TensorFlow Categorical Feature for Principal Diagnosis Code\n",
    "#make vocab dir\n",
    "import os\n",
    "#os.mkdir(\"./vocab/\")"
   ]
  },
  {
   "cell_type": "code",
   "execution_count": null,
   "metadata": {},
   "outputs": [],
   "source": [
    "# Explanation of Code Block: Function to Write Vocabulary File for Categorical Features\n",
    "# build vocab for categorical features\n",
    "def write_vocabulary_file(vocab_list, field_name, default_value, vocab_dir='./vocab/'):\n",
    "    output_file_path = os.path.join(vocab_dir, str(field_name) + \"_vocab.txt\")\n",
    "    # put default value in first row as TF requires\n",
    "    vocab_list = np.insert(vocab_list, 0, default_value, axis=0)\n",
    "    df = pd.DataFrame(vocab_list).to_csv(output_file_path, index=None, header=None)\n",
    "    return output_file_path\n",
    "\n",
    "def build_vocab_files(df, categorical_column_list, default_value='00'):\n",
    "    vocab_files_list = []\n",
    "    for c in categorical_column_list:\n",
    "        v_file = write_vocabulary_file(df[c].unique(), c, default_value)\n",
    "        vocab_files_list.append(v_file)\n",
    "    return vocab_files_list"
   ]
  },
  {
   "cell_type": "code",
   "execution_count": 77,
   "metadata": {},
   "outputs": [],
   "source": [
    "# Explanation of Code Block: Building Vocabulary Files for Categorical Features\n",
    "categorical_field_list = [\"PRINCIPAL_DIAGNOSIS_CODE\"]\n",
    "vocab_files_list = build_vocab_files(categorical_example_df, categorical_field_list)"
   ]
  },
  {
   "cell_type": "markdown",
   "metadata": {},
   "source": [
    "### Build TF Dataset from Pandas Dataframe"
   ]
  },
  {
   "cell_type": "code",
   "execution_count": 78,
   "metadata": {},
   "outputs": [],
   "source": [
    "# Explanation of Code Block: Creating a TensorFlow Categorical Feature for Principal Diagnosis Code\n",
    "BATCH_SIZE = 64\n",
    "PREDICTOR_FIELD = 'LABEL'\n",
    "categorical_tf_ds = df_to_dataset(categorical_example_df, PREDICTOR_FIELD, batch_size=BATCH_SIZE)"
   ]
  },
  {
   "cell_type": "markdown",
   "metadata": {},
   "source": [
    "### Use TF Feature Column API to read from vocab file"
   ]
  },
  {
   "cell_type": "code",
   "execution_count": 79,
   "metadata": {},
   "outputs": [
    {
     "data": {
      "text/plain": [
       "'./vocab/PRINCIPAL_DIAGNOSIS_CODE_vocab.txt'"
      ]
     },
     "execution_count": 79,
     "metadata": {},
     "output_type": "execute_result"
    }
   ],
   "source": [
    "# Explanation of Code Block: Displaying a Sample Batch from the Categorical TensorFlow Dataset\n",
    "vocab_files_list[0]"
   ]
  },
  {
   "cell_type": "code",
   "execution_count": 80,
   "metadata": {},
   "outputs": [
    {
     "name": "stdout",
     "output_type": "stream",
     "text": [
      "WARNING:tensorflow:From /var/folders/sy/nnrjh0cx1897yr6m0_fq9wmc0000gq/T/ipykernel_49341/2292347254.py:2: categorical_column_with_vocabulary_file_v2 (from tensorflow.python.feature_column.feature_column_v2) is deprecated and will be removed in a future version.\n",
      "Instructions for updating:\n",
      "Use Keras preprocessing layers instead, either directly or via the `tf.keras.utils.FeatureSpace` utility. Each of `tf.feature_column.*` has a functional equivalent in `tf.keras.layers` for feature preprocessing when training a Keras model.\n",
      "INFO:tensorflow:vocabulary_size = 6753 in PRINCIPAL_DIAGNOSIS_CODE is inferred from the number of elements in the vocabulary_file ./vocab/PRINCIPAL_DIAGNOSIS_CODE_vocab.txt.\n",
      "INFO:tensorflow:vocabulary_size = 6753 in PRINCIPAL_DIAGNOSIS_CODE is inferred from the number of elements in the vocabulary_file ./vocab/PRINCIPAL_DIAGNOSIS_CODE_vocab.txt.\n"
     ]
    }
   ],
   "source": [
    "# Explanation of Code Block: Creating a TensorFlow Categorical Feature for Principal Diagnosis Code\n",
    "principal_diagnosis_vocab = tf.feature_column.categorical_column_with_vocabulary_file(\n",
    "            key=\"PRINCIPAL_DIAGNOSIS_CODE\", vocabulary_file = vocab_files_list[0], num_oov_buckets=1)"
   ]
  },
  {
   "cell_type": "markdown",
   "metadata": {},
   "source": [
    "### Create one-hot encoding  from vocab column feature function"
   ]
  },
  {
   "cell_type": "code",
   "execution_count": 81,
   "metadata": {},
   "outputs": [
    {
     "name": "stdout",
     "output_type": "stream",
     "text": [
      "WARNING:tensorflow:From /var/folders/sy/nnrjh0cx1897yr6m0_fq9wmc0000gq/T/ipykernel_49341/2334492896.py:2: indicator_column (from tensorflow.python.feature_column.feature_column_v2) is deprecated and will be removed in a future version.\n",
      "Instructions for updating:\n",
      "Use Keras preprocessing layers instead, either directly or via the `tf.keras.utils.FeatureSpace` utility. Each of `tf.feature_column.*` has a functional equivalent in `tf.keras.layers` for feature preprocessing when training a Keras model.\n"
     ]
    }
   ],
   "source": [
    "# Explanation of Code Block: Creating a One-Hot Encoded Feature for Principal Diagnosis Code\n",
    "one_hot_principal_diagnosis_feature = tf.feature_column.indicator_column(principal_diagnosis_vocab)"
   ]
  },
  {
   "cell_type": "code",
   "execution_count": 82,
   "metadata": {},
   "outputs": [],
   "source": [
    "# Explanation of Code Block: Displaying the Created TensorFlow Categorical Feature\n",
    "categorical_tf_ds_batch = next(iter(categorical_tf_ds))[0]"
   ]
  },
  {
   "cell_type": "code",
   "execution_count": 83,
   "metadata": {},
   "outputs": [
    {
     "ename": "AttributeError",
     "evalue": "module 'keras._tf_keras.keras.layers' has no attribute 'DenseFeatures'",
     "output_type": "error",
     "traceback": [
      "\u001b[0;31m---------------------------------------------------------------------------\u001b[0m",
      "\u001b[0;31mAttributeError\u001b[0m                            Traceback (most recent call last)",
      "Cell \u001b[0;32mIn[83], line 2\u001b[0m\n\u001b[1;32m      1\u001b[0m \u001b[38;5;66;03m# Explanation of Code Block: Demonstrating the One-Hot Encoded Feature for Principal Diagnosis Code\u001b[39;00m\n\u001b[0;32m----> 2\u001b[0m \u001b[43mdemo\u001b[49m\u001b[43m(\u001b[49m\u001b[43mone_hot_principal_diagnosis_feature\u001b[49m\u001b[43m,\u001b[49m\u001b[43m \u001b[49m\u001b[43mcategorical_tf_ds_batch\u001b[49m\u001b[43m)\u001b[49m\n",
      "Cell \u001b[0;32mIn[60], line 2\u001b[0m, in \u001b[0;36mdemo\u001b[0;34m(feature_column, example_batch)\u001b[0m\n\u001b[1;32m      1\u001b[0m \u001b[38;5;28;01mdef\u001b[39;00m \u001b[38;5;21mdemo\u001b[39m(feature_column, example_batch):\n\u001b[0;32m----> 2\u001b[0m     feature_layer \u001b[38;5;241m=\u001b[39m \u001b[43mtf\u001b[49m\u001b[38;5;241;43m.\u001b[39;49m\u001b[43mkeras\u001b[49m\u001b[38;5;241;43m.\u001b[39;49m\u001b[43mlayers\u001b[49m\u001b[38;5;241;43m.\u001b[39;49m\u001b[43mDenseFeatures\u001b[49m(feature_column)\n\u001b[1;32m      3\u001b[0m     \u001b[38;5;28mprint\u001b[39m(feature_layer(example_batch))\n",
      "\u001b[0;31mAttributeError\u001b[0m: module 'keras._tf_keras.keras.layers' has no attribute 'DenseFeatures'"
     ]
    }
   ],
   "source": [
    "# Explanation of Code Block: Demonstrating the One-Hot Encoded Feature for Principal Diagnosis Code\n",
    "demo(one_hot_principal_diagnosis_feature, categorical_tf_ds_batch)"
   ]
  },
  {
   "cell_type": "code",
   "execution_count": null,
   "metadata": {},
   "outputs": [],
   "source": []
  },
  {
   "cell_type": "code",
   "execution_count": null,
   "metadata": {},
   "outputs": [],
   "source": []
  }
 ],
 "metadata": {
  "kernelspec": {
   "display_name": "anup_prompt_venv",
   "language": "python",
   "name": "python3"
  },
  "language_info": {
   "codemirror_mode": {
    "name": "ipython",
    "version": 3
   },
   "file_extension": ".py",
   "mimetype": "text/x-python",
   "name": "python",
   "nbconvert_exporter": "python",
   "pygments_lexer": "ipython3",
   "version": "3.12.7"
  }
 },
 "nbformat": 4,
 "nbformat_minor": 4
}
