{
 "cells": [
  {
   "cell_type": "markdown",
   "metadata": {},
   "source": [
    "## 1. Build Regression Model with TF DenseFeatures"
   ]
  },
  {
   "cell_type": "markdown",
   "metadata": {},
   "source": [
    "### Overview\n",
    "- Used preprocessed dataset from TF regression tutorial https://www.tensorflow.org/tutorials/keras/regression\n",
    "- Used TF feature column API and TF DenseFeatures instead of the methods used in tutorial"
   ]
  },
  {
   "cell_type": "markdown",
   "metadata": {},
   "source": [
    "### Dataset Preprocessing From Tutorial"
   ]
  },
  {
   "cell_type": "code",
   "execution_count": 2,
   "metadata": {},
   "outputs": [],
   "source": [
    "# Importing Required Libraries\n",
    "# - matplotlib.pyplot as plt: Used for creating static, animated, and interactive visualizations in Python. The 'plt' alias is a common convention.\n",
    "# - numpy as np: Fundamental package for scientific computing with Python. Provides support for arrays, mathematical functions, and more. The 'np' alias is standard.\n",
    "# - pandas as pd: Powerful data analysis and manipulation library. The 'pd' alias is commonly used for concise code.\n",
    "# - seaborn as sns: Statistical data visualization library built on top of matplotlib. The 'sns' alias is standard and provides a high-level interface for drawing attractive statistical graphics.\n",
    "# - tensorflow as tf: Open-source platform for machine learning and deep learning. The 'tf' alias is widely used for brevity.\n",
    "#\n",
    "import matplotlib.pyplot as plt\n",
    "import numpy as np\n",
    "import pandas as pd\n",
    "import seaborn as sns\n",
    "import tensorflow as tf"
   ]
  },
  {
   "cell_type": "code",
   "execution_count": null,
   "metadata": {},
   "outputs": [
    {
     "name": "stdout",
     "output_type": "stream",
     "text": [
      "Downloading data from http://archive.ics.uci.edu/ml/machine-learning-databases/auto-mpg/auto-mpg.data\n",
      "  32768/Unknown \u001b[1m0s\u001b[0m 2us/step"
     ]
    }
   ],
   "source": [
    "# ## Downloading the Auto MPG Dataset with TensorFlow Keras Utilities\n",
    "# - **Library Used:** `tf.keras.utils.get_file` from TensorFlow Keras is used to download files from a URL and cache them locally.\n",
    "# - **Dataset:** The \"Auto MPG\" dataset from the UCI Machine Learning Repository contains information about various cars, including their fuel efficiency (miles per gallon), and is commonly used for regression tasks.\n",
    "# - **Code Explanation:**\n",
    "#   - `tf.keras.utils.get_file(fname, origin)`: Downloads a file from the specified `origin` URL and saves it with the name `fname` in the local Keras datasets directory.\n",
    "#     - `fname`: The name to save the file as locally (\"auto-mpg.data\").\n",
    "#     - `origin`: The URL to download the file from.\n",
    "#\n",
    "dataset_path = tf.keras.utils.get_file(\"auto-mpg.data\", \"http://archive.ics.uci.edu/ml/machine-learning-databases/auto-mpg/auto-mpg.data\")"
   ]
  },
  {
   "cell_type": "code",
   "execution_count": 5,
   "metadata": {},
   "outputs": [
    {
     "data": {
      "application/vnd.microsoft.datawrangler.viewer.v0+json": {
       "columns": [
        {
         "name": "index",
         "rawType": "int64",
         "type": "integer"
        },
        {
         "name": "MPG",
         "rawType": "float64",
         "type": "float"
        },
        {
         "name": "Cylinders",
         "rawType": "int64",
         "type": "integer"
        },
        {
         "name": "Displacement",
         "rawType": "float64",
         "type": "float"
        },
        {
         "name": "Horsepower",
         "rawType": "float64",
         "type": "float"
        },
        {
         "name": "Weight",
         "rawType": "float64",
         "type": "float"
        },
        {
         "name": "Acceleration",
         "rawType": "float64",
         "type": "float"
        },
        {
         "name": "ModelYear",
         "rawType": "int64",
         "type": "integer"
        },
        {
         "name": "Origin",
         "rawType": "int64",
         "type": "integer"
        }
       ],
       "ref": "0f80ce02-6f74-428d-b23d-7075d736c9dd",
       "rows": [
        [
         "393",
         "27.0",
         "4",
         "140.0",
         "86.0",
         "2790.0",
         "15.6",
         "82",
         "1"
        ],
        [
         "394",
         "44.0",
         "4",
         "97.0",
         "52.0",
         "2130.0",
         "24.6",
         "82",
         "2"
        ],
        [
         "395",
         "32.0",
         "4",
         "135.0",
         "84.0",
         "2295.0",
         "11.6",
         "82",
         "1"
        ],
        [
         "396",
         "28.0",
         "4",
         "120.0",
         "79.0",
         "2625.0",
         "18.6",
         "82",
         "1"
        ],
        [
         "397",
         "31.0",
         "4",
         "119.0",
         "82.0",
         "2720.0",
         "19.4",
         "82",
         "1"
        ]
       ],
       "shape": {
        "columns": 8,
        "rows": 5
       }
      },
      "text/html": [
       "<div>\n",
       "<style scoped>\n",
       "    .dataframe tbody tr th:only-of-type {\n",
       "        vertical-align: middle;\n",
       "    }\n",
       "\n",
       "    .dataframe tbody tr th {\n",
       "        vertical-align: top;\n",
       "    }\n",
       "\n",
       "    .dataframe thead th {\n",
       "        text-align: right;\n",
       "    }\n",
       "</style>\n",
       "<table border=\"1\" class=\"dataframe\">\n",
       "  <thead>\n",
       "    <tr style=\"text-align: right;\">\n",
       "      <th></th>\n",
       "      <th>MPG</th>\n",
       "      <th>Cylinders</th>\n",
       "      <th>Displacement</th>\n",
       "      <th>Horsepower</th>\n",
       "      <th>Weight</th>\n",
       "      <th>Acceleration</th>\n",
       "      <th>ModelYear</th>\n",
       "      <th>Origin</th>\n",
       "    </tr>\n",
       "  </thead>\n",
       "  <tbody>\n",
       "    <tr>\n",
       "      <th>393</th>\n",
       "      <td>27.0</td>\n",
       "      <td>4</td>\n",
       "      <td>140.0</td>\n",
       "      <td>86.0</td>\n",
       "      <td>2790.0</td>\n",
       "      <td>15.6</td>\n",
       "      <td>82</td>\n",
       "      <td>1</td>\n",
       "    </tr>\n",
       "    <tr>\n",
       "      <th>394</th>\n",
       "      <td>44.0</td>\n",
       "      <td>4</td>\n",
       "      <td>97.0</td>\n",
       "      <td>52.0</td>\n",
       "      <td>2130.0</td>\n",
       "      <td>24.6</td>\n",
       "      <td>82</td>\n",
       "      <td>2</td>\n",
       "    </tr>\n",
       "    <tr>\n",
       "      <th>395</th>\n",
       "      <td>32.0</td>\n",
       "      <td>4</td>\n",
       "      <td>135.0</td>\n",
       "      <td>84.0</td>\n",
       "      <td>2295.0</td>\n",
       "      <td>11.6</td>\n",
       "      <td>82</td>\n",
       "      <td>1</td>\n",
       "    </tr>\n",
       "    <tr>\n",
       "      <th>396</th>\n",
       "      <td>28.0</td>\n",
       "      <td>4</td>\n",
       "      <td>120.0</td>\n",
       "      <td>79.0</td>\n",
       "      <td>2625.0</td>\n",
       "      <td>18.6</td>\n",
       "      <td>82</td>\n",
       "      <td>1</td>\n",
       "    </tr>\n",
       "    <tr>\n",
       "      <th>397</th>\n",
       "      <td>31.0</td>\n",
       "      <td>4</td>\n",
       "      <td>119.0</td>\n",
       "      <td>82.0</td>\n",
       "      <td>2720.0</td>\n",
       "      <td>19.4</td>\n",
       "      <td>82</td>\n",
       "      <td>1</td>\n",
       "    </tr>\n",
       "  </tbody>\n",
       "</table>\n",
       "</div>"
      ],
      "text/plain": [
       "      MPG  Cylinders  Displacement  Horsepower  Weight  Acceleration  \\\n",
       "393  27.0          4         140.0        86.0  2790.0          15.6   \n",
       "394  44.0          4          97.0        52.0  2130.0          24.6   \n",
       "395  32.0          4         135.0        84.0  2295.0          11.6   \n",
       "396  28.0          4         120.0        79.0  2625.0          18.6   \n",
       "397  31.0          4         119.0        82.0  2720.0          19.4   \n",
       "\n",
       "     ModelYear  Origin  \n",
       "393         82       1  \n",
       "394         82       2  \n",
       "395         82       1  \n",
       "396         82       1  \n",
       "397         82       1  "
      ]
     },
     "execution_count": 5,
     "metadata": {},
     "output_type": "execute_result"
    }
   ],
   "source": [
    "# ## Loading and Preparing the Auto MPG Dataset\n",
    "# - **Library Used:** pandas (`pd.read_csv`) is used for data loading and manipulation.\n",
    "# - **column_names:** Defines the expected column names for the dataset, including 'MPG', 'Cylinders', 'Displacement', 'Horsepower', 'Weight', 'Acceleration', 'Model Year', and 'Origin'.\n",
    "# - **pd.read_csv:** Loads the dataset from the path specified by `dataset_path`.\n",
    "#     - `names=column_names`: Assigns the specified column names to the DataFrame.\n",
    "#     - `na_values=\"?\"`: Treats any \"?\" in the data as missing values (NaN).\n",
    "#     - `comment='\\t'`: Ignores lines starting with a tab character.\n",
    "#     - `sep=\" \"`: Uses space as the delimiter between columns.\n",
    "#     - `skipinitialspace=True`: Ignores extra spaces after the delimiter.\n",
    "# - **raw_dataset.columns:** Renames the columns to ensure 'Model Year' is changed to 'ModelYear' for consistency.\n",
    "# - **dataset = raw_dataset.copy():** Creates a copy of the raw dataset for further processing.\n",
    "# - **dataset.tail():** Displays the last five rows of the dataset for inspection.\n",
    "#\n",
    "column_names = ['MPG','Cylinders','Displacement','Horsepower','Weight',\n",
    "                'Acceleration', 'Model Year', 'Origin']\n",
    "raw_dataset = pd.read_csv(dataset_path, names=column_names,\n",
    "                      na_values = \"?\", comment='\\t',\n",
    "                      sep=\" \", skipinitialspace=True)\n",
    "raw_dataset.columns = ['MPG','Cylinders','Displacement','Horsepower','Weight',\n",
    "                'Acceleration', 'ModelYear', 'Origin']\n",
    "dataset = raw_dataset.copy()\n",
    "dataset.tail()"
   ]
  },
  {
   "cell_type": "code",
   "execution_count": 6,
   "metadata": {},
   "outputs": [
    {
     "data": {
      "application/vnd.microsoft.datawrangler.viewer.v0+json": {
       "columns": [
        {
         "name": "index",
         "rawType": "object",
         "type": "string"
        },
        {
         "name": "0",
         "rawType": "int64",
         "type": "integer"
        }
       ],
       "ref": "af187112-dbd2-4ca2-b5e0-ba6b7c69227b",
       "rows": [
        [
         "MPG",
         "0"
        ],
        [
         "Cylinders",
         "0"
        ],
        [
         "Displacement",
         "0"
        ],
        [
         "Horsepower",
         "6"
        ],
        [
         "Weight",
         "0"
        ],
        [
         "Acceleration",
         "0"
        ],
        [
         "ModelYear",
         "0"
        ],
        [
         "Origin",
         "0"
        ]
       ],
       "shape": {
        "columns": 1,
        "rows": 8
       }
      },
      "text/plain": [
       "MPG             0\n",
       "Cylinders       0\n",
       "Displacement    0\n",
       "Horsepower      6\n",
       "Weight          0\n",
       "Acceleration    0\n",
       "ModelYear       0\n",
       "Origin          0\n",
       "dtype: int64"
      ]
     },
     "execution_count": 6,
     "metadata": {},
     "output_type": "execute_result"
    }
   ],
   "source": [
    "# ## Checking for Missing Values in the Dataset\n",
    "# - **dataset.isna().sum():** This line checks for missing values in each column of the dataset.\n",
    "#     - `isna()`: Returns a DataFrame of the same shape as `dataset`, with boolean values indicating whether each element is NaN (missing).\n",
    "#     - `sum()`: Sums up the boolean values for each column, effectively counting the number of missing values per column.\n",
    "# - This is a crucial step in data preprocessing to identify and handle missing data appropriately.\n",
    "\n",
    "dataset.isna().sum()"
   ]
  },
  {
   "cell_type": "code",
   "execution_count": 7,
   "metadata": {},
   "outputs": [],
   "source": [
    "# ## Dropping Rows with Missing Values\n",
    "# - **dataset.dropna():** This line removes any rows in the dataset that contain missing values (NaN).\n",
    "#     - `dropna()`: By default, this method removes any row with at least one NaN value.\n",
    "# - This step is essential to ensure that the dataset is clean and ready for analysis or modeling, as many algorithms cannot handle missing values directly.\n",
    "# - After this operation, the dataset will only contain rows with complete data.\n",
    "\n",
    "dataset = dataset.dropna()"
   ]
  },
  {
   "cell_type": "code",
   "execution_count": 8,
   "metadata": {},
   "outputs": [],
   "source": [
    "# ## Converting the 'Origin' Column to Categorical Data\n",
    "# - **dataset['Origin'].map({1: 'USA', 2: 'Europe', 3: 'Japan'}):** This line transforms the numerical values in the 'Origin' column into categorical string labels.\n",
    "#     - `map()`: This method is used to map values from one set to another based on a given mapping dictionary.\n",
    "#     - `{1: 'USA', 2: 'Europe', 3: 'Japan'}`: This dictionary specifies that:\n",
    "#         - 1 should be replaced with 'USA'\n",
    "#         - 2 should be replaced with 'Europe'\n",
    "#         - 3 should be replaced with 'Japan'\n",
    "# - This conversion is useful for better interpretability and analysis, as categorical data can provide more meaningful insights compared to numerical codes.\n",
    "\n",
    "dataset['Origin'] = dataset['Origin'].map({1: 'USA', 2: 'Europe', 3: 'Japan'})"
   ]
  },
  {
   "cell_type": "code",
   "execution_count": 9,
   "metadata": {},
   "outputs": [],
   "source": [
    "# ## Splitting the Dataset into Training and Testing Sets\n",
    "# - **Library Used:** pandas (`DataFrame.sample`, `DataFrame.drop`)\n",
    "# - **Explanation:**\n",
    "#   - `dataset.sample(frac=0.8, random_state=0)`: Randomly selects 80% of the rows from the `dataset` DataFrame to create the training set.\n",
    "#       - `frac=0.8`: Specifies the fraction of rows to return (80%).\n",
    "#       - `random_state=0`: Ensures reproducibility by setting a seed for the random number generator.\n",
    "#   - `dataset.drop(train_dataset.index)`: Removes the rows selected for training from the original dataset to create the test set, ensuring no overlap between training and testing data.\n",
    "\n",
    "#split 80 20 train test split\n",
    "train_dataset = dataset.sample(frac=0.8,random_state=0)\n",
    "test_dataset = dataset.drop(train_dataset.index)"
   ]
  },
  {
   "cell_type": "code",
   "execution_count": 10,
   "metadata": {},
   "outputs": [
    {
     "data": {
      "text/plain": [
       "Index(['MPG', 'Cylinders', 'Displacement', 'Horsepower', 'Weight',\n",
       "       'Acceleration', 'ModelYear', 'Origin'],\n",
       "      dtype='object')"
      ]
     },
     "execution_count": 10,
     "metadata": {},
     "output_type": "execute_result"
    }
   ],
   "source": [
    "# ## Displaying the Columns of the Training Dataset\n",
    "# - **Library Used:** pandas (`DataFrame.columns`)\n",
    "# - **Explanation:**\n",
    "#   - `train_dataset.columns`: This attribute returns the column labels of the DataFrame `train_dataset` as an Index object.\n",
    "#   - **Purpose:** Useful for quickly inspecting the feature names present in the training dataset after preprocessing and splitting.\n",
    "#\n",
    "train_dataset.columns"
   ]
  },
  {
   "cell_type": "code",
   "execution_count": null,
   "metadata": {},
   "outputs": [
    {
     "data": {
      "application/vnd.microsoft.datawrangler.viewer.v0+json": {
       "columns": [
        {
         "name": "index",
         "rawType": "int64",
         "type": "integer"
        },
        {
         "name": "MPG",
         "rawType": "float64",
         "type": "float"
        },
        {
         "name": "Cylinders",
         "rawType": "int64",
         "type": "integer"
        },
        {
         "name": "Displacement",
         "rawType": "float64",
         "type": "float"
        },
        {
         "name": "Horsepower",
         "rawType": "float64",
         "type": "float"
        },
        {
         "name": "Weight",
         "rawType": "float64",
         "type": "float"
        },
        {
         "name": "Acceleration",
         "rawType": "float64",
         "type": "float"
        },
        {
         "name": "ModelYear",
         "rawType": "int64",
         "type": "integer"
        },
        {
         "name": "Origin",
         "rawType": "object",
         "type": "string"
        }
       ],
       "ref": "20e7709e-480e-4c08-908d-c39d887a0213",
       "rows": [
        [
         "146",
         "28.0",
         "4",
         "90.0",
         "75.0",
         "2125.0",
         "14.5",
         "74",
         "USA"
        ],
        [
         "282",
         "22.3",
         "4",
         "140.0",
         "88.0",
         "2890.0",
         "17.3",
         "79",
         "USA"
        ],
        [
         "69",
         "12.0",
         "8",
         "350.0",
         "160.0",
         "4456.0",
         "13.5",
         "72",
         "USA"
        ],
        [
         "378",
         "38.0",
         "4",
         "105.0",
         "63.0",
         "2125.0",
         "14.7",
         "82",
         "USA"
        ],
        [
         "331",
         "33.8",
         "4",
         "97.0",
         "67.0",
         "2145.0",
         "18.0",
         "80",
         "Japan"
        ]
       ],
       "shape": {
        "columns": 8,
        "rows": 5
       }
      },
      "text/html": [
       "<div>\n",
       "<style scoped>\n",
       "    .dataframe tbody tr th:only-of-type {\n",
       "        vertical-align: middle;\n",
       "    }\n",
       "\n",
       "    .dataframe tbody tr th {\n",
       "        vertical-align: top;\n",
       "    }\n",
       "\n",
       "    .dataframe thead th {\n",
       "        text-align: right;\n",
       "    }\n",
       "</style>\n",
       "<table border=\"1\" class=\"dataframe\">\n",
       "  <thead>\n",
       "    <tr style=\"text-align: right;\">\n",
       "      <th></th>\n",
       "      <th>MPG</th>\n",
       "      <th>Cylinders</th>\n",
       "      <th>Displacement</th>\n",
       "      <th>Horsepower</th>\n",
       "      <th>Weight</th>\n",
       "      <th>Acceleration</th>\n",
       "      <th>ModelYear</th>\n",
       "      <th>Origin</th>\n",
       "    </tr>\n",
       "  </thead>\n",
       "  <tbody>\n",
       "    <tr>\n",
       "      <th>146</th>\n",
       "      <td>28.0</td>\n",
       "      <td>4</td>\n",
       "      <td>90.0</td>\n",
       "      <td>75.0</td>\n",
       "      <td>2125.0</td>\n",
       "      <td>14.5</td>\n",
       "      <td>74</td>\n",
       "      <td>USA</td>\n",
       "    </tr>\n",
       "    <tr>\n",
       "      <th>282</th>\n",
       "      <td>22.3</td>\n",
       "      <td>4</td>\n",
       "      <td>140.0</td>\n",
       "      <td>88.0</td>\n",
       "      <td>2890.0</td>\n",
       "      <td>17.3</td>\n",
       "      <td>79</td>\n",
       "      <td>USA</td>\n",
       "    </tr>\n",
       "    <tr>\n",
       "      <th>69</th>\n",
       "      <td>12.0</td>\n",
       "      <td>8</td>\n",
       "      <td>350.0</td>\n",
       "      <td>160.0</td>\n",
       "      <td>4456.0</td>\n",
       "      <td>13.5</td>\n",
       "      <td>72</td>\n",
       "      <td>USA</td>\n",
       "    </tr>\n",
       "    <tr>\n",
       "      <th>378</th>\n",
       "      <td>38.0</td>\n",
       "      <td>4</td>\n",
       "      <td>105.0</td>\n",
       "      <td>63.0</td>\n",
       "      <td>2125.0</td>\n",
       "      <td>14.7</td>\n",
       "      <td>82</td>\n",
       "      <td>USA</td>\n",
       "    </tr>\n",
       "    <tr>\n",
       "      <th>331</th>\n",
       "      <td>33.8</td>\n",
       "      <td>4</td>\n",
       "      <td>97.0</td>\n",
       "      <td>67.0</td>\n",
       "      <td>2145.0</td>\n",
       "      <td>18.0</td>\n",
       "      <td>80</td>\n",
       "      <td>Japan</td>\n",
       "    </tr>\n",
       "  </tbody>\n",
       "</table>\n",
       "</div>"
      ],
      "text/plain": [
       "      MPG  Cylinders  Displacement  Horsepower  Weight  Acceleration  \\\n",
       "146  28.0          4          90.0        75.0  2125.0          14.5   \n",
       "282  22.3          4         140.0        88.0  2890.0          17.3   \n",
       "69   12.0          8         350.0       160.0  4456.0          13.5   \n",
       "378  38.0          4         105.0        63.0  2125.0          14.7   \n",
       "331  33.8          4          97.0        67.0  2145.0          18.0   \n",
       "\n",
       "     ModelYear Origin  \n",
       "146         74    USA  \n",
       "282         79    USA  \n",
       "69          72    USA  \n",
       "378         82    USA  \n",
       "331         80  Japan  "
      ]
     },
     "execution_count": 11,
     "metadata": {},
     "output_type": "execute_result"
    }
   ],
   "source": [
    "# ## Displaying the First Few Rows of the Training Dataset\n",
    "# - **Library Used:** pandas (`DataFrame.head`)\n",
    "# - **Explanation:**\n",
    "train_dataset.head()"
   ]
  },
  {
   "cell_type": "code",
   "execution_count": 12,
   "metadata": {},
   "outputs": [],
   "source": [
    "# ## Extracting Labels from the Training Dataset\n",
    "# - **Library Used:** pandas (`DataFrame['column']`)\n",
    "# - **Explanation:**\n",
    "#   - `train_dataset['MPG']`: Accesses the 'MPG' column from the `train_dataset` DataFrame, which contains the target variable (miles per gallon) for regression.\n",
    "#   - This line assigns the extracted column to the variable `train_labels`, which will be used as the label vector for model training.\n",
    "#   - **Key Parameters:** The column name `'MPG'` must match exactly with the DataFrame's column label.\n",
    "#\n",
    "train_labels = train_dataset['MPG']"
   ]
  },
  {
   "cell_type": "code",
   "execution_count": null,
   "metadata": {},
   "outputs": [
    {
     "data": {
      "application/vnd.microsoft.datawrangler.viewer.v0+json": {
       "columns": [
        {
         "name": "index",
         "rawType": "object",
         "type": "string"
        },
        {
         "name": "count",
         "rawType": "float64",
         "type": "float"
        },
        {
         "name": "mean",
         "rawType": "float64",
         "type": "float"
        },
        {
         "name": "std",
         "rawType": "float64",
         "type": "float"
        },
        {
         "name": "min",
         "rawType": "float64",
         "type": "float"
        },
        {
         "name": "25%",
         "rawType": "float64",
         "type": "float"
        },
        {
         "name": "50%",
         "rawType": "float64",
         "type": "float"
        },
        {
         "name": "75%",
         "rawType": "float64",
         "type": "float"
        },
        {
         "name": "max",
         "rawType": "float64",
         "type": "float"
        }
       ],
       "ref": "86384c42-b318-42d9-86b7-d21de241c754",
       "rows": [
        [
         "Cylinders",
         "314.0",
         "5.477707006369426",
         "1.6997875727498173",
         "3.0",
         "4.0",
         "4.0",
         "8.0",
         "8.0"
        ],
        [
         "Displacement",
         "314.0",
         "195.3184713375796",
         "104.33158850796352",
         "68.0",
         "105.5",
         "151.0",
         "265.75",
         "455.0"
        ],
        [
         "Horsepower",
         "314.0",
         "104.86942675159236",
         "38.09621443533365",
         "46.0",
         "76.25",
         "94.5",
         "128.0",
         "225.0"
        ],
        [
         "Weight",
         "314.0",
         "2990.251592356688",
         "843.8985961905663",
         "1649.0",
         "2256.5",
         "2822.5",
         "3608.0",
         "5140.0"
        ],
        [
         "Acceleration",
         "314.0",
         "15.55923566878981",
         "2.789229751888417",
         "8.0",
         "13.8",
         "15.5",
         "17.2",
         "24.8"
        ],
        [
         "ModelYear",
         "314.0",
         "75.89808917197452",
         "3.6756424982267464",
         "70.0",
         "73.0",
         "76.0",
         "79.0",
         "82.0"
        ]
       ],
       "shape": {
        "columns": 8,
        "rows": 6
       }
      },
      "text/html": [
       "<div>\n",
       "<style scoped>\n",
       "    .dataframe tbody tr th:only-of-type {\n",
       "        vertical-align: middle;\n",
       "    }\n",
       "\n",
       "    .dataframe tbody tr th {\n",
       "        vertical-align: top;\n",
       "    }\n",
       "\n",
       "    .dataframe thead th {\n",
       "        text-align: right;\n",
       "    }\n",
       "</style>\n",
       "<table border=\"1\" class=\"dataframe\">\n",
       "  <thead>\n",
       "    <tr style=\"text-align: right;\">\n",
       "      <th></th>\n",
       "      <th>count</th>\n",
       "      <th>mean</th>\n",
       "      <th>std</th>\n",
       "      <th>min</th>\n",
       "      <th>25%</th>\n",
       "      <th>50%</th>\n",
       "      <th>75%</th>\n",
       "      <th>max</th>\n",
       "    </tr>\n",
       "  </thead>\n",
       "  <tbody>\n",
       "    <tr>\n",
       "      <th>Cylinders</th>\n",
       "      <td>314.0</td>\n",
       "      <td>5.477707</td>\n",
       "      <td>1.699788</td>\n",
       "      <td>3.0</td>\n",
       "      <td>4.00</td>\n",
       "      <td>4.0</td>\n",
       "      <td>8.00</td>\n",
       "      <td>8.0</td>\n",
       "    </tr>\n",
       "    <tr>\n",
       "      <th>Displacement</th>\n",
       "      <td>314.0</td>\n",
       "      <td>195.318471</td>\n",
       "      <td>104.331589</td>\n",
       "      <td>68.0</td>\n",
       "      <td>105.50</td>\n",
       "      <td>151.0</td>\n",
       "      <td>265.75</td>\n",
       "      <td>455.0</td>\n",
       "    </tr>\n",
       "    <tr>\n",
       "      <th>Horsepower</th>\n",
       "      <td>314.0</td>\n",
       "      <td>104.869427</td>\n",
       "      <td>38.096214</td>\n",
       "      <td>46.0</td>\n",
       "      <td>76.25</td>\n",
       "      <td>94.5</td>\n",
       "      <td>128.00</td>\n",
       "      <td>225.0</td>\n",
       "    </tr>\n",
       "    <tr>\n",
       "      <th>Weight</th>\n",
       "      <td>314.0</td>\n",
       "      <td>2990.251592</td>\n",
       "      <td>843.898596</td>\n",
       "      <td>1649.0</td>\n",
       "      <td>2256.50</td>\n",
       "      <td>2822.5</td>\n",
       "      <td>3608.00</td>\n",
       "      <td>5140.0</td>\n",
       "    </tr>\n",
       "    <tr>\n",
       "      <th>Acceleration</th>\n",
       "      <td>314.0</td>\n",
       "      <td>15.559236</td>\n",
       "      <td>2.789230</td>\n",
       "      <td>8.0</td>\n",
       "      <td>13.80</td>\n",
       "      <td>15.5</td>\n",
       "      <td>17.20</td>\n",
       "      <td>24.8</td>\n",
       "    </tr>\n",
       "    <tr>\n",
       "      <th>ModelYear</th>\n",
       "      <td>314.0</td>\n",
       "      <td>75.898089</td>\n",
       "      <td>3.675642</td>\n",
       "      <td>70.0</td>\n",
       "      <td>73.00</td>\n",
       "      <td>76.0</td>\n",
       "      <td>79.00</td>\n",
       "      <td>82.0</td>\n",
       "    </tr>\n",
       "  </tbody>\n",
       "</table>\n",
       "</div>"
      ],
      "text/plain": [
       "              count         mean         std     min      25%     50%  \\\n",
       "Cylinders     314.0     5.477707    1.699788     3.0     4.00     4.0   \n",
       "Displacement  314.0   195.318471  104.331589    68.0   105.50   151.0   \n",
       "Horsepower    314.0   104.869427   38.096214    46.0    76.25    94.5   \n",
       "Weight        314.0  2990.251592  843.898596  1649.0  2256.50  2822.5   \n",
       "Acceleration  314.0    15.559236    2.789230     8.0    13.80    15.5   \n",
       "ModelYear     314.0    75.898089    3.675642    70.0    73.00    76.0   \n",
       "\n",
       "                  75%     max  \n",
       "Cylinders        8.00     8.0  \n",
       "Displacement   265.75   455.0  \n",
       "Horsepower     128.00   225.0  \n",
       "Weight        3608.00  5140.0  \n",
       "Acceleration    17.20    24.8  \n",
       "ModelYear       79.00    82.0  "
      ]
     },
     "execution_count": 13,
     "metadata": {},
     "output_type": "execute_result"
    }
   ],
   "source": [
    "# ## Calculating and Displaying Training Data Statistics with pandas\n",
    "# - **Library Used:** pandas (`DataFrame.describe`, `DataFrame.pop`, `DataFrame.transpose`)\n",
    "# - **Code Explanation:**\n",
    "#   - `train_dataset.describe()`: Computes summary statistics (count, mean, std, min, 25%, 50%, 75%, max) for each column in the training dataset.\n",
    "#   - `train_stats.pop(\"MPG\")`: Removes the 'MPG' column from the statistics DataFrame, as it is the target variable and not a feature.\n",
    "#   - `train_stats = train_stats.transpose()`: Transposes the DataFrame so that each feature becomes a row and each statistic becomes a column, making it easier to reference statistics by feature.\n",
    "#   - `train_stats`: Displays the resulting DataFrame containing summary statistics for each feature in the training data.\n",
    "\n",
    "train_stats = train_dataset.describe()\n",
    "train_stats.pop(\"MPG\")\n",
    "train_stats = train_stats.transpose()\n",
    "train_stats"
   ]
  },
  {
   "cell_type": "code",
   "execution_count": null,
   "metadata": {},
   "outputs": [],
   "source": [
    "# ## Defining Categorical and Numerical Feature Lists\n",
    "# - **categorical_feature_list:** A list containing the names of categorical features in the dataset. In this case, it includes only the 'Origin' feature.\n",
    "# - **numerical_feature_list:** A list containing the names of numerical features in the dataset. This list includes 'Cylinders', 'Displacement', 'Horsepower', 'Weight', 'Acceleration', and 'ModelYear'.\n",
    "# - **Note:** The comment indicates that 'Model Year' and 'Cylinders' are treated as numerical features for this exercise, although they could be processed differently depending on the analysis or modeling approach.\n",
    "#\n",
    "categorical_feature_list = ['Origin']\n",
    "# for the sake of this exercise treat Model Year and Cylinders as numerical but could process differently\n",
    "numerical_feature_list = ['Cylinders', 'Displacement', 'Horsepower', 'Weight',\n",
    "       'Acceleration', 'ModelYear']"
   ]
  },
  {
   "cell_type": "code",
   "execution_count": 15,
   "metadata": {},
   "outputs": [],
   "source": [
    "# ## Normalizing Numerical Features\n",
    "# - **Function Definition:** The `norm` function normalizes the input data `x` using the mean and standard deviation from the training statistics.\n",
    "# - **Normalization Formula:** The normalization is performed using the formula: (x - mean) / std, where `mean` and `std` are obtained from `train_stats`.\n",
    "# - **Applying Normalization:** The function is applied to both the training and testing datasets for the numerical features specified in `numerical_feature_list`.\n",
    "# - **Result:** The normalized training and testing data are stored in `normed_train_data` and `normed_test_data`, respectively.\n",
    "#\n",
    "\n",
    "def norm(x):\n",
    "    return (x - train_stats['mean']) / train_stats['std']\n",
    "normed_train_data = norm(train_dataset[numerical_feature_list])\n",
    "normed_test_data = norm(test_dataset[numerical_feature_list])"
   ]
  },
  {
   "cell_type": "code",
   "execution_count": null,
   "metadata": {},
   "outputs": [],
   "source": [
    "# ## Combining Normalized Numerical Features with Categorical Features\n",
    "# - **pd.concat:** This function is used to concatenate two DataFrames along a specified axis.\n",
    "# - **Parameters:**\n",
    "norm_train_data = pd.concat([ train_dataset[categorical_feature_list + ['MPG']],  normed_train_data],\n",
    "                            axis=1, sort=False)\n",
    "norm_test_data = pd.concat([ test_dataset[categorical_feature_list + ['MPG']], normed_test_data], axis=1, sort=False)"
   ]
  },
  {
   "cell_type": "code",
   "execution_count": 17,
   "metadata": {},
   "outputs": [],
   "source": [
    "# ## Saving the Normalized Datasets to CSV Files\n",
    "# - **to_csv:** This method is used to save a DataFrame to a CSV file.\n",
    "# - **Parameters:**\n",
    "#   - `\"mpg_train_data.csv\"` and `\"mpg_test_data.csv\"`: The names of the output CSV files for the training and testing datasets, respectively.\n",
    "#   - `index=False`: This parameter ensures that the row indices are not included in the CSV file.\n",
    "# - **Purpose:** Saving the normalized datasets allows for easy access and use in future analyses or model training without needing to repeat the normalization process.\n",
    "\n",
    "norm_train_data.to_csv(\"mpg_train_data.csv\", index=False)\n",
    "norm_test_data.to_csv(\"mpg_test_data.csv\", index=False)"
   ]
  },
  {
   "cell_type": "code",
   "execution_count": 18,
   "metadata": {},
   "outputs": [
    {
     "data": {
      "application/vnd.microsoft.datawrangler.viewer.v0+json": {
       "columns": [
        {
         "name": "index",
         "rawType": "int64",
         "type": "integer"
        },
        {
         "name": "Origin",
         "rawType": "object",
         "type": "string"
        },
        {
         "name": "MPG",
         "rawType": "float64",
         "type": "float"
        },
        {
         "name": "Cylinders",
         "rawType": "float64",
         "type": "float"
        },
        {
         "name": "Displacement",
         "rawType": "float64",
         "type": "float"
        },
        {
         "name": "Horsepower",
         "rawType": "float64",
         "type": "float"
        },
        {
         "name": "Weight",
         "rawType": "float64",
         "type": "float"
        },
        {
         "name": "Acceleration",
         "rawType": "float64",
         "type": "float"
        },
        {
         "name": "ModelYear",
         "rawType": "float64",
         "type": "float"
        }
       ],
       "ref": "fb6e26b8-5185-4e56-9fda-42fdd29b7e83",
       "rows": [
        [
         "146",
         "USA",
         "28.0",
         "-0.8693480468143899",
         "-1.009459099048806",
         "-0.7840523578082584",
         "-1.0253027985382497",
         "-0.3797592034405436",
         "-0.516396568189159"
        ],
        [
         "282",
         "USA",
         "22.3",
         "-0.8693480468143899",
         "-0.5302178575892881",
         "-0.442811103455629",
         "-0.11879578045186072",
         "0.6241021665682525",
         "0.8439098278796013"
        ],
        [
         "69",
         "USA",
         "12.0",
         "1.483887183355597",
         "1.4825953565406869",
         "1.4471404591127797",
         "1.736877409513218",
         "-0.7382811213008278",
         "-1.0605191266166631"
        ],
        [
         "378",
         "USA",
         "38.0",
         "-0.8693480468143899",
         "-0.8656867266109506",
         "-1.099044284902993",
         "-1.0253027985382497",
         "-0.30805481986848704",
         "1.6600936655208576"
        ],
        [
         "331",
         "Japan",
         "33.8",
         "-0.8693480468143899",
         "-0.9423653252444735",
         "-0.9940469758714149",
         "-1.0016032686536382",
         "0.8750675090704512",
         "1.1159711070933533"
        ]
       ],
       "shape": {
        "columns": 8,
        "rows": 5
       }
      },
      "text/html": [
       "<div>\n",
       "<style scoped>\n",
       "    .dataframe tbody tr th:only-of-type {\n",
       "        vertical-align: middle;\n",
       "    }\n",
       "\n",
       "    .dataframe tbody tr th {\n",
       "        vertical-align: top;\n",
       "    }\n",
       "\n",
       "    .dataframe thead th {\n",
       "        text-align: right;\n",
       "    }\n",
       "</style>\n",
       "<table border=\"1\" class=\"dataframe\">\n",
       "  <thead>\n",
       "    <tr style=\"text-align: right;\">\n",
       "      <th></th>\n",
       "      <th>Origin</th>\n",
       "      <th>MPG</th>\n",
       "      <th>Cylinders</th>\n",
       "      <th>Displacement</th>\n",
       "      <th>Horsepower</th>\n",
       "      <th>Weight</th>\n",
       "      <th>Acceleration</th>\n",
       "      <th>ModelYear</th>\n",
       "    </tr>\n",
       "  </thead>\n",
       "  <tbody>\n",
       "    <tr>\n",
       "      <th>146</th>\n",
       "      <td>USA</td>\n",
       "      <td>28.0</td>\n",
       "      <td>-0.869348</td>\n",
       "      <td>-1.009459</td>\n",
       "      <td>-0.784052</td>\n",
       "      <td>-1.025303</td>\n",
       "      <td>-0.379759</td>\n",
       "      <td>-0.516397</td>\n",
       "    </tr>\n",
       "    <tr>\n",
       "      <th>282</th>\n",
       "      <td>USA</td>\n",
       "      <td>22.3</td>\n",
       "      <td>-0.869348</td>\n",
       "      <td>-0.530218</td>\n",
       "      <td>-0.442811</td>\n",
       "      <td>-0.118796</td>\n",
       "      <td>0.624102</td>\n",
       "      <td>0.843910</td>\n",
       "    </tr>\n",
       "    <tr>\n",
       "      <th>69</th>\n",
       "      <td>USA</td>\n",
       "      <td>12.0</td>\n",
       "      <td>1.483887</td>\n",
       "      <td>1.482595</td>\n",
       "      <td>1.447140</td>\n",
       "      <td>1.736877</td>\n",
       "      <td>-0.738281</td>\n",
       "      <td>-1.060519</td>\n",
       "    </tr>\n",
       "    <tr>\n",
       "      <th>378</th>\n",
       "      <td>USA</td>\n",
       "      <td>38.0</td>\n",
       "      <td>-0.869348</td>\n",
       "      <td>-0.865687</td>\n",
       "      <td>-1.099044</td>\n",
       "      <td>-1.025303</td>\n",
       "      <td>-0.308055</td>\n",
       "      <td>1.660094</td>\n",
       "    </tr>\n",
       "    <tr>\n",
       "      <th>331</th>\n",
       "      <td>Japan</td>\n",
       "      <td>33.8</td>\n",
       "      <td>-0.869348</td>\n",
       "      <td>-0.942365</td>\n",
       "      <td>-0.994047</td>\n",
       "      <td>-1.001603</td>\n",
       "      <td>0.875068</td>\n",
       "      <td>1.115971</td>\n",
       "    </tr>\n",
       "  </tbody>\n",
       "</table>\n",
       "</div>"
      ],
      "text/plain": [
       "    Origin   MPG  Cylinders  Displacement  Horsepower    Weight  Acceleration  \\\n",
       "146    USA  28.0  -0.869348     -1.009459   -0.784052 -1.025303     -0.379759   \n",
       "282    USA  22.3  -0.869348     -0.530218   -0.442811 -0.118796      0.624102   \n",
       "69     USA  12.0   1.483887      1.482595    1.447140  1.736877     -0.738281   \n",
       "378    USA  38.0  -0.869348     -0.865687   -1.099044 -1.025303     -0.308055   \n",
       "331  Japan  33.8  -0.869348     -0.942365   -0.994047 -1.001603      0.875068   \n",
       "\n",
       "     ModelYear  \n",
       "146  -0.516397  \n",
       "282   0.843910  \n",
       "69   -1.060519  \n",
       "378   1.660094  \n",
       "331   1.115971  "
      ]
     },
     "execution_count": 18,
     "metadata": {},
     "output_type": "execute_result"
    }
   ],
   "source": [
    "norm_train_data.head()"
   ]
  },
  {
   "cell_type": "markdown",
   "metadata": {},
   "source": [
    "### Load Preprocessed Dataset"
   ]
  },
  {
   "cell_type": "markdown",
   "metadata": {},
   "source": [
    "- Use TF Dataset API and Feature Column APIs instead"
   ]
  },
  {
   "cell_type": "code",
   "execution_count": 19,
   "metadata": {},
   "outputs": [],
   "source": [
    "# ## Loading the Saved Normalized Datasets from CSV Files\n",
    "# - **pd.read_csv:** This function is used to read a CSV file and load it into a pandas DataFrame.\n",
    "# - **Parameters:**\n",
    "#   - `\"mpg_train_data.csv\"` and `\"mpg_test_data.csv\"`: The names of the CSV files to be read for the training and testing datasets, respectively.\n",
    "# - **Purpose:** Loading the saved normalized datasets allows for verification of the saved data and further analysis or modeling.\n",
    "#\n",
    "train_data = pd.read_csv(\"mpg_train_data.csv\" )\n",
    "test_data = pd.read_csv(\"mpg_test_data.csv\" )"
   ]
  },
  {
   "cell_type": "code",
   "execution_count": null,
   "metadata": {},
   "outputs": [],
   "source": [
    "# Explanation of Code Block: Converting DataFrame to TensorFlow Dataset\n",
    "# - **Function Definition:** The `df_to_dataset` function converts a pandas DataFrame into a TensorFlow Dataset, which is suitable for training machine learning models.\n",
    "# - **Parameters:**\n",
    "#adapted from https://www.tensorflow.org/tutorials/structured_data/feature_columns\n",
    "def df_to_dataset(df, predictor,  batch_size=32):\n",
    "    df = df.copy()\n",
    "    labels = df.pop(predictor)\n",
    "    ds = tf.data.Dataset.from_tensor_slices((dict(df), labels))\n",
    "    ds = ds.shuffle(buffer_size=len(df))\n",
    "    ds = ds.batch(batch_size)\n",
    "    return ds"
   ]
  },
  {
   "cell_type": "code",
   "execution_count": null,
   "metadata": {},
   "outputs": [],
   "source": [
    "# ## Creating TensorFlow Datasets for Training and Testing\n",
    "# - **PREDICTOR_FIELD:** Specifies the target variable for prediction, which is 'MPG' (miles per gallon).\n",
    "# - **batch_size:** Sets the number of samples per batch for training and testing datasets. Here, it is set to 128.\n",
    "# - **df_to_dataset:** This function is called to convert the normalized training and testing DataFrames into TensorFlow Datasets.\n",
    "#   - `train_ds`: The TensorFlow Dataset created from the training data.\n",
    "#   - `test_ds`: The TensorFlow Dataset created from the testing data.\n",
    "\n",
    "PREDICTOR_FIELD = 'MPG'\n",
    "batch_size = 128\n",
    "train_ds = df_to_dataset(train_data, PREDICTOR_FIELD, batch_size=batch_size)\n",
    "test_ds = df_to_dataset(test_data, PREDICTOR_FIELD, batch_size=batch_size)"
   ]
  },
  {
   "cell_type": "code",
   "execution_count": 22,
   "metadata": {},
   "outputs": [],
   "source": [
    "# ## Defining Feature Columns for Categorical and Numerical Features\n",
    "# - **categorical_columns:** A list to hold TensorFlow feature columns for categorical features.\n",
    "# - **numerical_columns:** A list to hold TensorFlow feature columns for numerical features.\n",
    "# - **Categorical Features:**\n",
    "#   - For each feature in `categorical_feature_list`, a `categorical_column_with_vocabulary_list` is created, specifying the possible values (vocabulary) for that feature.\n",
    "#   - Each categorical column is then wrapped in an `indicator_column` to convert it into a one-hot encoded format.\n",
    "# - **Numerical Features:**\n",
    "#   - For each feature in `numerical_feature_list`, a `numeric_column` is created, which represents the feature as a continuous numerical value.\n",
    "# - **feature_columns:** Combines both categorical and numerical feature columns into a single list for use in model training.\n",
    "\n",
    "sample_batch = next(iter(train_ds))[0]\n",
    "def demo(feature_column, example_batch):\n",
    "    feature_layer = tf.keras.layers.DenseFeatures(feature_column)\n",
    "    print(feature_layer(example_batch))"
   ]
  },
  {
   "cell_type": "markdown",
   "metadata": {},
   "source": [
    "### Convert Origin Categorical Feature to One Hot Encoded Feature"
   ]
  },
  {
   "cell_type": "code",
   "execution_count": 24,
   "metadata": {},
   "outputs": [],
   "source": [
    "# ## Creating a One-Hot Encoded TensorFlow Feature Column for the 'Origin' Categorical Feature\n",
    "# - **Library Used:** TensorFlow Feature Columns API (`tf.feature_column`)\n",
    "# - **Explanation:**\n",
    "#   - `tf.feature_column.categorical_column_with_vocabulary_list`: Creates a categorical feature column for the 'Origin' column, specifying the vocabulary (unique values) from the training data.\n",
    "#       - `key=\"Origin\"`: The name of the feature in the input data.\n",
    "#       - `vocabulary_list=train_data['Origin'].unique()`: The list of unique values for the 'Origin' feature, ensuring all categories are included.\n",
    "#   - `tf.feature_column.indicator_column`: Converts the categorical column into a one-hot encoded column, which is required for feeding categorical data into a neural network.\n",
    "#       - `categorical_column`: The categorical column created in the previous step.\n",
    "#\n",
    "# only feature\n",
    "v_list = tf.feature_column.categorical_column_with_vocabulary_list(\"Origin\",\n",
    "                                                            train_data['Origin'].unique())\n",
    "one_hot_origin_feature = tf.feature_column.indicator_column(v_list)"
   ]
  },
  {
   "cell_type": "code",
   "execution_count": 31,
   "metadata": {},
   "outputs": [
    {
     "name": "stdout",
     "output_type": "stream",
     "text": [
      "Example categorical field: Origin (one-hot encoded)\n",
      "tf.Tensor(\n",
      "[[0. 1. 0. 0.]\n",
      " [0. 0. 1. 0.]\n",
      " [0. 1. 0. 0.]\n",
      " [0. 1. 0. 0.]\n",
      " [0. 1. 0. 0.]\n",
      " [0. 1. 0. 0.]\n",
      " [0. 0. 1. 0.]\n",
      " [0. 1. 0. 0.]\n",
      " [0. 1. 0. 0.]\n",
      " [0. 0. 0. 1.]\n",
      " [0. 1. 0. 0.]\n",
      " [0. 1. 0. 0.]\n",
      " [0. 1. 0. 0.]\n",
      " [0. 1. 0. 0.]\n",
      " [0. 1. 0. 0.]\n",
      " [0. 0. 1. 0.]\n",
      " [0. 0. 0. 1.]\n",
      " [0. 0. 0. 1.]\n",
      " [0. 0. 0. 1.]\n",
      " [0. 1. 0. 0.]\n",
      " [0. 0. 0. 1.]\n",
      " [0. 1. 0. 0.]\n",
      " [0. 0. 1. 0.]\n",
      " [0. 1. 0. 0.]\n",
      " [0. 0. 1. 0.]\n",
      " [0. 1. 0. 0.]\n",
      " [0. 0. 0. 1.]\n",
      " [0. 1. 0. 0.]\n",
      " [0. 0. 1. 0.]\n",
      " [0. 0. 1. 0.]\n",
      " [0. 1. 0. 0.]\n",
      " [0. 1. 0. 0.]\n",
      " [0. 0. 1. 0.]\n",
      " [0. 1. 0. 0.]\n",
      " [0. 0. 1. 0.]\n",
      " [0. 1. 0. 0.]\n",
      " [0. 0. 0. 1.]\n",
      " [0. 1. 0. 0.]\n",
      " [0. 1. 0. 0.]\n",
      " [0. 1. 0. 0.]\n",
      " [0. 0. 0. 1.]\n",
      " [0. 1. 0. 0.]\n",
      " [0. 0. 0. 1.]\n",
      " [0. 1. 0. 0.]\n",
      " [0. 1. 0. 0.]\n",
      " [0. 1. 0. 0.]\n",
      " [0. 0. 0. 1.]\n",
      " [0. 1. 0. 0.]\n",
      " [0. 0. 0. 1.]\n",
      " [0. 0. 1. 0.]\n",
      " [0. 1. 0. 0.]\n",
      " [0. 1. 0. 0.]\n",
      " [0. 1. 0. 0.]\n",
      " [0. 1. 0. 0.]\n",
      " [0. 1. 0. 0.]\n",
      " [0. 1. 0. 0.]\n",
      " [0. 0. 1. 0.]\n",
      " [0. 1. 0. 0.]\n",
      " [0. 0. 0. 1.]\n",
      " [0. 1. 0. 0.]\n",
      " [0. 1. 0. 0.]\n",
      " [0. 1. 0. 0.]\n",
      " [0. 1. 0. 0.]\n",
      " [0. 1. 0. 0.]\n",
      " [0. 1. 0. 0.]\n",
      " [0. 1. 0. 0.]\n",
      " [0. 1. 0. 0.]\n",
      " [0. 0. 1. 0.]\n",
      " [0. 1. 0. 0.]\n",
      " [0. 1. 0. 0.]\n",
      " [0. 0. 1. 0.]\n",
      " [0. 0. 1. 0.]\n",
      " [0. 1. 0. 0.]\n",
      " [0. 1. 0. 0.]\n",
      " [0. 1. 0. 0.]\n",
      " [0. 1. 0. 0.]\n",
      " [0. 1. 0. 0.]\n",
      " [0. 1. 0. 0.]\n",
      " [0. 0. 1. 0.]\n",
      " [0. 1. 0. 0.]\n",
      " [0. 1. 0. 0.]\n",
      " [0. 0. 0. 1.]\n",
      " [0. 1. 0. 0.]\n",
      " [0. 0. 0. 1.]\n",
      " [0. 1. 0. 0.]\n",
      " [0. 1. 0. 0.]\n",
      " [0. 1. 0. 0.]\n",
      " [0. 1. 0. 0.]\n",
      " [0. 0. 0. 1.]\n",
      " [0. 1. 0. 0.]\n",
      " [0. 0. 1. 0.]\n",
      " [0. 0. 0. 1.]\n",
      " [0. 1. 0. 0.]\n",
      " [0. 1. 0. 0.]\n",
      " [0. 1. 0. 0.]\n",
      " [0. 0. 0. 1.]\n",
      " [0. 1. 0. 0.]\n",
      " [0. 0. 0. 1.]\n",
      " [0. 0. 1. 0.]\n",
      " [0. 0. 0. 1.]\n",
      " [0. 0. 1. 0.]\n",
      " [0. 1. 0. 0.]\n",
      " [0. 1. 0. 0.]\n",
      " [0. 1. 0. 0.]\n",
      " [0. 0. 1. 0.]\n",
      " [0. 1. 0. 0.]\n",
      " [0. 0. 1. 0.]\n",
      " [0. 0. 1. 0.]\n",
      " [0. 1. 0. 0.]\n",
      " [0. 1. 0. 0.]\n",
      " [0. 1. 0. 0.]\n",
      " [0. 0. 0. 1.]\n",
      " [0. 1. 0. 0.]\n",
      " [0. 0. 1. 0.]\n",
      " [0. 1. 0. 0.]\n",
      " [0. 1. 0. 0.]\n",
      " [0. 0. 0. 1.]\n",
      " [0. 1. 0. 0.]\n",
      " [0. 0. 0. 1.]\n",
      " [0. 1. 0. 0.]\n",
      " [0. 0. 1. 0.]\n",
      " [0. 1. 0. 0.]\n",
      " [0. 1. 0. 0.]\n",
      " [0. 1. 0. 0.]\n",
      " [0. 1. 0. 0.]\n",
      " [0. 0. 1. 0.]\n",
      " [0. 1. 0. 0.]\n",
      " [0. 1. 0. 0.]], shape=(128, 4), dtype=float32)\n"
     ]
    }
   ],
   "source": [
    "# ## Modern Keras One-Hot Encoding for Categorical Features\n",
    "# - **Library Used:** TensorFlow Keras Preprocessing Layers (`tf.keras.layers.StringLookup`, `tf.keras.layers.CategoryEncoding`)\n",
    "# - **Purpose:** This block demonstrates how to one-hot encode the 'Origin' categorical feature using modern Keras preprocessing layers, which are recommended for new TensorFlow/Keras code.\n",
    "# - **Line-by-Line Explanation:**\n",
    "#   - `origin_lookup = tf.keras.layers.StringLookup(...)`: Creates a lookup layer that maps string values (e.g., 'USA', 'Japan', 'Europe') to integer indices. The `vocabulary` parameter is set to the unique values in the 'Origin' column of the training data, and `output_mode='int'` ensures integer output.\n",
    "#   - `origin_onehot = tf.keras.layers.CategoryEncoding(...)`: Creates a one-hot encoding layer that converts integer indices to one-hot encoded vectors. The `num_tokens` parameter specifies the number of unique categories, and `output_mode=\"one_hot\"` sets the output format.\n",
    "#   - `demo_onehot(example_batch)`: A helper function that demonstrates the transformation. It first converts the 'Origin' strings to integer indices using `origin_lookup`, then applies `origin_onehot` to produce one-hot encoded vectors, and prints the result.\n",
    "# - **Key Parameters:**\n",
    "#   - `vocabulary` (in `StringLookup`): List of unique category values.\n",
    "#   - `output_mode` (in both layers): Determines the output format ('int' for indices, 'one_hot' for one-hot vectors).\n",
    "#   - `num_tokens` (in `CategoryEncoding`): Number of unique categories to encode.\n",
    "\n",
    "#\n",
    "# Modern Keras one-hot encoding for the 'Origin' categorical feature\n",
    "\n",
    "import tensorflow as tf\n",
    "\n",
    "# 1. Create a StringLookup layer for the Origin column\n",
    "origin_lookup = tf.keras.layers.StringLookup(vocabulary=train_data['Origin'].unique(), output_mode='int')\n",
    "\n",
    "# 2. Create a CategoryEncoding layer for one-hot encoding\n",
    "origin_onehot = tf.keras.layers.CategoryEncoding(\n",
    "    num_tokens=origin_lookup.vocabulary_size(), output_mode=\"one_hot\"\n",
    ")\n",
    "\n",
    "def demo_onehot(example_batch):\n",
    "    # example_batch['Origin'] is a tf.Tensor of shape (batch_size,)\n",
    "    origin_int = origin_lookup(example_batch['Origin'])\n",
    "    origin_1hot = origin_onehot(origin_int)\n",
    "    print(origin_1hot)\n",
    "\n",
    "print(\"Example categorical field: Origin (one-hot encoded)\")\n",
    "demo_onehot(sample_batch)\n"
   ]
  },
  {
   "cell_type": "markdown",
   "metadata": {},
   "source": [
    "### Create Numerical Features"
   ]
  },
  {
   "cell_type": "markdown",
   "metadata": {},
   "source": [
    "NOTE: We do not use the normalizer function here because the dataset has already been normalized."
   ]
  },
  {
   "cell_type": "code",
   "execution_count": null,
   "metadata": {},
   "outputs": [],
   "source": [
    "# ## Function to Convert Numerical Features to TensorFlow Numeric Feature Columns\n",
    "# - **Function Definition:** The `create_tf_numerical_feature_cols` function takes a list of numerical feature names and converts them into TensorFlow numeric feature columns.\n",
    "# - **Parameters:**\n",
    "#   - `numerical_col_list`: A list of strings representing the names of numerical features.\n",
    "# - **Process:**\n",
    "#convert numerical features, these features have already been normalized\n",
    "def create_tf_numerical_feature_cols(numerical_col_list):\n",
    "    tf_numeric_col_list = []\n",
    "    for c in numerical_col_list:\n",
    "        tf_numeric_feature = tf.feature_column.numeric_column(\n",
    "                    key=c,  dtype=tf.float64)\n",
    "        tf_numeric_col_list.append(tf_numeric_feature)\n",
    "    return tf_numeric_col_list"
   ]
  },
  {
   "cell_type": "code",
   "execution_count": 34,
   "metadata": {},
   "outputs": [
    {
     "name": "stdout",
     "output_type": "stream",
     "text": [
      "WARNING:tensorflow:From /var/folders/sy/nnrjh0cx1897yr6m0_fq9wmc0000gq/T/ipykernel_54739/793199841.py:10: numeric_column (from tensorflow.python.feature_column.feature_column_v2) is deprecated and will be removed in a future version.\n",
      "Instructions for updating:\n",
      "Use Keras preprocessing layers instead, either directly or via the `tf.keras.utils.FeatureSpace` utility. Each of `tf.feature_column.*` has a functional equivalent in `tf.keras.layers` for feature preprocessing when training a Keras model.\n"
     ]
    }
   ],
   "source": [
    "# - **Return Value:** The function returns a list of TensorFlow numeric feature columns corresponding to the input numerical feature names.\n",
    "tf_numerical_feature_list = create_tf_numerical_feature_cols(numerical_feature_list)"
   ]
  },
  {
   "cell_type": "code",
   "execution_count": 35,
   "metadata": {},
   "outputs": [
    {
     "data": {
      "text/plain": [
       "[NumericColumn(key='Cylinders', shape=(1,), default_value=None, dtype=tf.float64, normalizer_fn=None),\n",
       " NumericColumn(key='Displacement', shape=(1,), default_value=None, dtype=tf.float64, normalizer_fn=None),\n",
       " NumericColumn(key='Horsepower', shape=(1,), default_value=None, dtype=tf.float64, normalizer_fn=None),\n",
       " NumericColumn(key='Weight', shape=(1,), default_value=None, dtype=tf.float64, normalizer_fn=None),\n",
       " NumericColumn(key='Acceleration', shape=(1,), default_value=None, dtype=tf.float64, normalizer_fn=None),\n",
       " NumericColumn(key='ModelYear', shape=(1,), default_value=None, dtype=tf.float64, normalizer_fn=None)]"
      ]
     },
     "execution_count": 35,
     "metadata": {},
     "output_type": "execute_result"
    }
   ],
   "source": [
    "tf_numerical_feature_list"
   ]
  },
  {
   "cell_type": "code",
   "execution_count": 37,
   "metadata": {},
   "outputs": [
    {
     "ename": "UnboundLocalError",
     "evalue": "cannot access local variable 'input_shape' where it is not associated with a value",
     "output_type": "error",
     "traceback": [
      "\u001b[0;31m---------------------------------------------------------------------------\u001b[0m",
      "\u001b[0;31mUnboundLocalError\u001b[0m                         Traceback (most recent call last)",
      "Cell \u001b[0;32mIn[37], line 6\u001b[0m\n\u001b[1;32m      4\u001b[0m num_feature_name \u001b[38;5;241m=\u001b[39m numerical_feature_list[\u001b[38;5;241m0\u001b[39m]  \u001b[38;5;66;03m# e.g., 'Cylinders'\u001b[39;00m\n\u001b[1;32m      5\u001b[0m normalizer \u001b[38;5;241m=\u001b[39m tf\u001b[38;5;241m.\u001b[39mkeras\u001b[38;5;241m.\u001b[39mlayers\u001b[38;5;241m.\u001b[39mNormalization(axis\u001b[38;5;241m=\u001b[39m\u001b[38;5;28;01mNone\u001b[39;00m)\n\u001b[0;32m----> 6\u001b[0m \u001b[43mnormalizer\u001b[49m\u001b[38;5;241;43m.\u001b[39;49m\u001b[43madapt\u001b[49m\u001b[43m(\u001b[49m\u001b[43mtrain_data\u001b[49m\u001b[43m[\u001b[49m\u001b[43m[\u001b[49m\u001b[43mnum_feature_name\u001b[49m\u001b[43m]\u001b[49m\u001b[43m]\u001b[49m\u001b[43m)\u001b[49m\n\u001b[1;32m      8\u001b[0m \u001b[38;5;28;01mdef\u001b[39;00m \u001b[38;5;21mdemo_numerical\u001b[39m(example_batch):\n\u001b[1;32m      9\u001b[0m     \u001b[38;5;66;03m# example_batch[num_feature_name] is a tf.Tensor of shape (batch_size,)\u001b[39;00m\n\u001b[1;32m     10\u001b[0m     normed \u001b[38;5;241m=\u001b[39m normalizer(tf\u001b[38;5;241m.\u001b[39mcast(example_batch[num_feature_name], tf\u001b[38;5;241m.\u001b[39mfloat32))\n",
      "File \u001b[0;32m~/anup_prompt_venv/lib/python3.12/site-packages/keras/src/layers/preprocessing/normalization.py:229\u001b[0m, in \u001b[0;36mNormalization.adapt\u001b[0;34m(self, data)\u001b[0m\n\u001b[1;32m    226\u001b[0m     input_shape \u001b[38;5;241m=\u001b[39m \u001b[38;5;28mtuple\u001b[39m(data\u001b[38;5;241m.\u001b[39melement_spec\u001b[38;5;241m.\u001b[39mshape)\n\u001b[1;32m    228\u001b[0m \u001b[38;5;28;01mif\u001b[39;00m \u001b[38;5;129;01mnot\u001b[39;00m \u001b[38;5;28mself\u001b[39m\u001b[38;5;241m.\u001b[39mbuilt:\n\u001b[0;32m--> 229\u001b[0m     \u001b[38;5;28mself\u001b[39m\u001b[38;5;241m.\u001b[39mbuild(\u001b[43minput_shape\u001b[49m)\n\u001b[1;32m    230\u001b[0m \u001b[38;5;28;01melse\u001b[39;00m:\n\u001b[1;32m    231\u001b[0m     \u001b[38;5;28;01mfor\u001b[39;00m d \u001b[38;5;129;01min\u001b[39;00m \u001b[38;5;28mself\u001b[39m\u001b[38;5;241m.\u001b[39m_keep_axis:\n",
      "\u001b[0;31mUnboundLocalError\u001b[0m: cannot access local variable 'input_shape' where it is not associated with a value"
     ]
    }
   ],
   "source": [
    "import tensorflow as tf\n",
    "\n",
    "# Example for the first numerical feature\n",
    "num_feature_name = numerical_feature_list[0]  # e.g., 'Cylinders'\n",
    "normalizer = tf.keras.layers.Normalization(axis=None)\n",
    "normalizer.adapt(train_data[[num_feature_name]])\n",
    "\n",
    "def demo_numerical(example_batch):\n",
    "    # example_batch[num_feature_name] is a tf.Tensor of shape (batch_size,)\n",
    "    normed = normalizer(tf.cast(example_batch[num_feature_name], tf.float32))\n",
    "    print(normed)\n",
    "\n",
    "print(f\"Example continuous field: {num_feature_name}\")\n",
    "demo_numerical(sample_batch)"
   ]
  },
  {
   "cell_type": "markdown",
   "metadata": {},
   "source": [
    "### Combine TF Features with DenseFeatures"
   ]
  },
  {
   "cell_type": "code",
   "execution_count": 38,
   "metadata": {},
   "outputs": [],
   "source": [
    "feature_columns = [ one_hot_origin_feature ] + tf_numerical_feature_list"
   ]
  },
  {
   "cell_type": "code",
   "execution_count": 39,
   "metadata": {},
   "outputs": [
    {
     "data": {
      "text/plain": [
       "[IndicatorColumn(categorical_column=VocabularyListCategoricalColumn(key='Origin', vocabulary_list=('USA', 'Japan', 'Europe'), dtype=tf.string, default_value=-1, num_oov_buckets=0)),\n",
       " NumericColumn(key='Cylinders', shape=(1,), default_value=None, dtype=tf.float64, normalizer_fn=None),\n",
       " NumericColumn(key='Displacement', shape=(1,), default_value=None, dtype=tf.float64, normalizer_fn=None),\n",
       " NumericColumn(key='Horsepower', shape=(1,), default_value=None, dtype=tf.float64, normalizer_fn=None),\n",
       " NumericColumn(key='Weight', shape=(1,), default_value=None, dtype=tf.float64, normalizer_fn=None),\n",
       " NumericColumn(key='Acceleration', shape=(1,), default_value=None, dtype=tf.float64, normalizer_fn=None),\n",
       " NumericColumn(key='ModelYear', shape=(1,), default_value=None, dtype=tf.float64, normalizer_fn=None)]"
      ]
     },
     "execution_count": 39,
     "metadata": {},
     "output_type": "execute_result"
    }
   ],
   "source": [
    "feature_columns"
   ]
  },
  {
   "cell_type": "code",
   "execution_count": null,
   "metadata": {},
   "outputs": [],
   "source": [
    "# ## Creating a Keras Preprocessing Model for All Features\n",
    "# - **Library Used:** TensorFlow Keras (`tf.keras`)\n",
    "# - **Purpose:** This block demonstrates how to create a Keras model that preprocesses both numerical and categorical features, preparing them for input into a machine learning model.\n",
    "# - **Line-by-Line Explanation:**\n",
    "#   - `inputs = {}`: Initializes an empty dictionary to hold input layers for each feature.\n",
    "#   - `for col in numerical_feature_list: ...`: Loops through each numerical feature and creates a Keras Input layer for it, specifying the shape and name.\n",
    "#   - `inputs['Origin'] = tf.keras.Input(...)`: Creates an Input layer for the 'Origin' categorical feature, specifying that it is a string type.\n",
    "#   - `numerical_inputs = [inputs[col] for col in numerical_feature_list]`: Collects all numerical input layers into a list.\n",
    "#   - `numerical_concat = tf.keras.layers.Concatenate()(numerical_inputs)`: Concatenates all numerical input layers into a single tensor.\n",
    "#   - `origin_lookup = tf.keras.layers.StringLookup(...)`: Creates a StringLookup layer to convert 'Origin' strings to integer indices.\n",
    "#   - `origin_onehot = tf.keras.layers.CategoryEncoding(...)`: Creates a CategoryEncoding layer to one-hot encode the integer indices of 'Origin'.\n",
    "#   - `origin_int = origin_lookup(inputs['Origin'])`: Applies the StringLookup layer to the 'Origin' input.\n",
    "#   - `origin_encoded = origin_onehot(origin_int)`: Applies the CategoryEncoding layer to get the one-hot encoded representation of 'Origin'.\n",
    "#   - `all_features = tf.keras.layers.Concatenate()([...])`: Concatenates the normalized numerical features and the one-hot encoded categorical features into a single tensor.\n",
    "#   - `preprocessing_model = tf.keras.Model(...)`: Defines a Keras Model that takes the input layers and outputs the combined feature tensor.\n",
    "## - **Return Value:** The `preprocessing_model` can be used as a preprocessing step before feeding data into a machine learning model.\n",
    "\n",
    "import tensorflow as tf\n",
    "\n",
    "# 1. Inputs\n",
    "inputs = {}\n",
    "for col in numerical_feature_list:\n",
    "    inputs[col] = tf.keras.Input(shape=(1,), name=col)\n",
    "inputs['Origin'] = tf.keras.Input(shape=(1,), dtype=tf.string, name='Origin')\n",
    "\n",
    "# 2. Numerical features (already normalized in your data, so just concatenate)\n",
    "numerical_inputs = [inputs[col] for col in numerical_feature_list]\n",
    "numerical_concat = tf.keras.layers.Concatenate()(numerical_inputs)\n",
    "\n",
    "# 3. Categorical feature: Origin\n",
    "origin_lookup = tf.keras.layers.StringLookup(vocabulary=train_data['Origin'].unique(), output_mode='int')\n",
    "origin_onehot = tf.keras.layers.CategoryEncoding(num_tokens=origin_lookup.vocabulary_size(), output_mode=\"one_hot\")\n",
    "origin_int = origin_lookup(inputs['Origin'])\n",
    "origin_encoded = origin_onehot(origin_int)\n",
    "\n",
    "# 4. Combine all features\n",
    "all_features = tf.keras.layers.Concatenate()([numerical_concat, origin_encoded])\n",
    "\n",
    "# 5. Use this as the input to your model\n",
    "preprocessing_model = tf.keras.Model(inputs=inputs, outputs=all_features)"
   ]
  },
  {
   "cell_type": "code",
   "execution_count": 44,
   "metadata": {},
   "outputs": [],
   "source": [
    "# ## Building a Keras Regression Model with DenseFeatures Layer\n",
    "# - **Library Used:** TensorFlow Keras (`tf.keras`)\n",
    "# - **Purpose:** This block defines a function to build a regression model using the Keras Sequential API, incorporating a DenseFeatures layer for feature input.\n",
    "# - **Line-by-Line Explanation:**\n",
    "#   - `def build_model(dense_feature_layer):`: Defines a function that takes a DenseFeatures layer as input.\n",
    "#   - `tf.keras.Sequential([...])`: Creates a sequential model where layers are stacked in order.\n",
    "#   - `dense_feature_layer`: The input layer that processes feature columns (categorical and numerical).\n",
    "#   - `tf.keras.layers.Dense(64, activation='relu')`: Adds a dense (fully connected) layer with 64 units and ReLU activation for non-linearity.\n",
    "#   - `tf.keras.layers.Dense(64, activation='relu')`: Adds another dense layer with 64 units and ReLU activation.\n",
    "#   - `tf.keras.layers.Dense(1)`: Output layer with a single unit for regression prediction (no activation).\n",
    "#   - `tf.keras.optimizers.RMSprop(0.001)`: Uses the RMSprop optimizer with a learning rate of 0.001.\n",
    "#   - `model.compile(...)`: Compiles the model with mean squared error loss (`'mse'`), the specified optimizer, and metrics for mean absolute error (`'mae'`) and mean squared error (`'mse'`).\n",
    "# - **Key Parameters:**\n",
    "#   - `dense_feature_layer`: Handles input feature transformation.\n",
    "#   - `units=64`: Number of neurons in each hidden layer.\n",
    "#   - `activation='relu'`: Activation function for hidden layers.\n",
    "#   - `loss='mse'`: Loss function for regression.\n",
    "#   - `optimizer=optimizer`: Optimizer instance.\n",
    "#   - `metrics=['mae', 'mse']`: Metrics to monitor during training.\n",
    "\n",
    "# Use same architecture as example\n",
    "def build_model(dense_feature_layer):\n",
    "    model = tf.keras.Sequential([\n",
    "    dense_feature_layer,\n",
    "    tf.keras.layers.Dense(64, activation='relu'),\n",
    "    tf.keras.layers.Dense(64, activation='relu'),\n",
    "    tf.keras.layers.Dense(1)\n",
    "    ])\n",
    "\n",
    "    optimizer = tf.keras.optimizers.RMSprop(0.001)\n",
    "\n",
    "    model.compile(loss='mse',\n",
    "                optimizer=optimizer,\n",
    "                metrics=['mae', 'mse'])\n",
    "\n",
    "\n",
    "    return model"
   ]
  },
  {
   "cell_type": "code",
   "execution_count": 48,
   "metadata": {},
   "outputs": [],
   "source": [
    "# ## Building a Keras Functional API Regression Model with Preprocessing Layer\n",
    "# - **Library Used:** TensorFlow Keras (`tf.keras`)\n",
    "# - **Purpose:** This code block demonstrates how to build a regression model using the Keras Functional API, integrating a preprocessing model that combines both numerical and categorical features.\n",
    "# - **Line-by-Line Explanation:**\n",
    "#   - `inputs = preprocessing_model.input`: Retrieves the input layers from the preprocessing model, which are Keras Input layers for each feature.\n",
    "#   - `x = preprocessing_model.output`: Gets the output tensor from the preprocessing model, which is the concatenated and preprocessed feature tensor.\n",
    "#   - `x = tf.keras.layers.Dense(64, activation='relu')(x)`: Adds a dense (fully connected) layer with 64 units and ReLU activation to introduce non-linearity.\n",
    "#   - `x = tf.keras.layers.Dense(64, activation='relu')(x)`: Adds another dense layer with 64 units and ReLU activation for deeper feature learning.\n",
    "#   - `outputs = tf.keras.layers.Dense(1)(x)`: Adds an output layer with a single unit for regression prediction (no activation function).\n",
    "#   - `model = tf.keras.Model(inputs=inputs, outputs=outputs)`: Defines the Keras model, specifying the input and output tensors.\n",
    "#   - `model.compile(...)`: Compiles the model with mean squared error loss (`'mse'`), RMSprop optimizer, and metrics for mean absolute error (`'mae'`) and mean squared error (`'mse'`).\n",
    "# - **Key Parameters:**\n",
    "#   - `activation='relu'`: Activation function for hidden layers.\n",
    "#   - `loss='mse'`: Loss function for regression tasks.\n",
    "#   - `optimizer=tf.keras.optimizers.RMSprop(0.001)`: Optimizer with specified learning rate.\n",
    "#   - `metrics=['mae', 'mse']`: Metrics to monitor during training.\n",
    "\n",
    "inputs = preprocessing_model.input\n",
    "x = preprocessing_model.output\n",
    "x = tf.keras.layers.Dense(64, activation='relu')(x)\n",
    "x = tf.keras.layers.Dense(64, activation='relu')(x)\n",
    "outputs = tf.keras.layers.Dense(1)(x)\n",
    "model = tf.keras.Model(inputs=inputs, outputs=outputs)\n",
    "\n",
    "model.compile(\n",
    "    loss='mse',\n",
    "    optimizer=tf.keras.optimizers.RMSprop(0.001),\n",
    "    metrics=['mae', 'mse']\n",
    ")"
   ]
  },
  {
   "cell_type": "code",
   "execution_count": 49,
   "metadata": {},
   "outputs": [],
   "source": [
    "# validation split"
   ]
  },
  {
   "cell_type": "code",
   "execution_count": 51,
   "metadata": {},
   "outputs": [
    {
     "name": "stdout",
     "output_type": "stream",
     "text": [
      "Epoch 1/2000\n",
      "\u001b[1m3/3\u001b[0m \u001b[32m━━━━━━━━━━━━━━━━━━━━\u001b[0m\u001b[37m\u001b[0m \u001b[1m0s\u001b[0m 1ms/step - loss: 6.2456 - mae: 1.7439 - mse: 6.2456\n",
      "Epoch 2/2000\n",
      "\u001b[1m3/3\u001b[0m \u001b[32m━━━━━━━━━━━━━━━━━━━━\u001b[0m\u001b[37m\u001b[0m \u001b[1m0s\u001b[0m 1ms/step - loss: 6.2822 - mae: 1.7799 - mse: 6.2822\n",
      "Epoch 3/2000\n",
      "\u001b[1m3/3\u001b[0m \u001b[32m━━━━━━━━━━━━━━━━━━━━\u001b[0m\u001b[37m\u001b[0m \u001b[1m0s\u001b[0m 1ms/step - loss: 6.0318 - mae: 1.7065 - mse: 6.0318\n",
      "Epoch 4/2000\n",
      "\u001b[1m3/3\u001b[0m \u001b[32m━━━━━━━━━━━━━━━━━━━━\u001b[0m\u001b[37m\u001b[0m \u001b[1m0s\u001b[0m 1ms/step - loss: 5.9555 - mae: 1.7548 - mse: 5.9555\n",
      "Epoch 5/2000\n",
      "\u001b[1m3/3\u001b[0m \u001b[32m━━━━━━━━━━━━━━━━━━━━\u001b[0m\u001b[37m\u001b[0m \u001b[1m0s\u001b[0m 2ms/step - loss: 5.3285 - mae: 1.6275 - mse: 5.3285\n",
      "Epoch 6/2000\n",
      "\u001b[1m3/3\u001b[0m \u001b[32m━━━━━━━━━━━━━━━━━━━━\u001b[0m\u001b[37m\u001b[0m \u001b[1m0s\u001b[0m 2ms/step - loss: 6.3842 - mae: 1.7442 - mse: 6.3842\n",
      "Epoch 7/2000\n",
      "\u001b[1m3/3\u001b[0m \u001b[32m━━━━━━━━━━━━━━━━━━━━\u001b[0m\u001b[37m\u001b[0m \u001b[1m0s\u001b[0m 2ms/step - loss: 5.6961 - mae: 1.7110 - mse: 5.6961\n",
      "Epoch 8/2000\n",
      "\u001b[1m3/3\u001b[0m \u001b[32m━━━━━━━━━━━━━━━━━━━━\u001b[0m\u001b[37m\u001b[0m \u001b[1m0s\u001b[0m 1ms/step - loss: 6.2885 - mae: 1.8136 - mse: 6.2885\n",
      "Epoch 9/2000\n",
      "\u001b[1m3/3\u001b[0m \u001b[32m━━━━━━━━━━━━━━━━━━━━\u001b[0m\u001b[37m\u001b[0m \u001b[1m0s\u001b[0m 1ms/step - loss: 6.4623 - mae: 1.7420 - mse: 6.4623\n",
      "Epoch 10/2000\n",
      "\u001b[1m3/3\u001b[0m \u001b[32m━━━━━━━━━━━━━━━━━━━━\u001b[0m\u001b[37m\u001b[0m \u001b[1m0s\u001b[0m 2ms/step - loss: 5.7975 - mae: 1.6930 - mse: 5.7975\n",
      "Epoch 11/2000\n",
      "\u001b[1m3/3\u001b[0m \u001b[32m━━━━━━━━━━━━━━━━━━━━\u001b[0m\u001b[37m\u001b[0m \u001b[1m0s\u001b[0m 1ms/step - loss: 6.5321 - mae: 1.7457 - mse: 6.5321\n",
      "Epoch 12/2000\n",
      "\u001b[1m3/3\u001b[0m \u001b[32m━━━━━━━━━━━━━━━━━━━━\u001b[0m\u001b[37m\u001b[0m \u001b[1m0s\u001b[0m 990us/step - loss: 5.8787 - mae: 1.7041 - mse: 5.8787\n",
      "Epoch 13/2000\n",
      "\u001b[1m3/3\u001b[0m \u001b[32m━━━━━━━━━━━━━━━━━━━━\u001b[0m\u001b[37m\u001b[0m \u001b[1m0s\u001b[0m 1ms/step - loss: 5.6730 - mae: 1.6747 - mse: 5.6730\n",
      "Epoch 14/2000\n",
      "\u001b[1m3/3\u001b[0m \u001b[32m━━━━━━━━━━━━━━━━━━━━\u001b[0m\u001b[37m\u001b[0m \u001b[1m0s\u001b[0m 1ms/step - loss: 5.8297 - mae: 1.7364 - mse: 5.8297\n",
      "Epoch 15/2000\n",
      "\u001b[1m3/3\u001b[0m \u001b[32m━━━━━━━━━━━━━━━━━━━━\u001b[0m\u001b[37m\u001b[0m \u001b[1m0s\u001b[0m 1ms/step - loss: 6.2805 - mae: 1.7829 - mse: 6.2805\n",
      "Epoch 16/2000\n",
      "\u001b[1m3/3\u001b[0m \u001b[32m━━━━━━━━━━━━━━━━━━━━\u001b[0m\u001b[37m\u001b[0m \u001b[1m0s\u001b[0m 1ms/step - loss: 5.9662 - mae: 1.6993 - mse: 5.9662\n",
      "Epoch 17/2000\n",
      "\u001b[1m3/3\u001b[0m \u001b[32m━━━━━━━━━━━━━━━━━━━━\u001b[0m\u001b[37m\u001b[0m \u001b[1m0s\u001b[0m 1ms/step - loss: 5.8718 - mae: 1.7166 - mse: 5.8718\n",
      "Epoch 18/2000\n",
      "\u001b[1m3/3\u001b[0m \u001b[32m━━━━━━━━━━━━━━━━━━━━\u001b[0m\u001b[37m\u001b[0m \u001b[1m0s\u001b[0m 1ms/step - loss: 5.9824 - mae: 1.7106 - mse: 5.9824\n",
      "Epoch 19/2000\n",
      "\u001b[1m3/3\u001b[0m \u001b[32m━━━━━━━━━━━━━━━━━━━━\u001b[0m\u001b[37m\u001b[0m \u001b[1m0s\u001b[0m 1ms/step - loss: 5.9339 - mae: 1.6900 - mse: 5.9339\n",
      "Epoch 20/2000\n",
      "\u001b[1m3/3\u001b[0m \u001b[32m━━━━━━━━━━━━━━━━━━━━\u001b[0m\u001b[37m\u001b[0m \u001b[1m0s\u001b[0m 1ms/step - loss: 5.6612 - mae: 1.7144 - mse: 5.6612\n",
      "Epoch 21/2000\n",
      "\u001b[1m3/3\u001b[0m \u001b[32m━━━━━━━━━━━━━━━━━━━━\u001b[0m\u001b[37m\u001b[0m \u001b[1m0s\u001b[0m 1ms/step - loss: 6.4096 - mae: 1.7365 - mse: 6.4096\n",
      "Epoch 22/2000\n",
      "\u001b[1m3/3\u001b[0m \u001b[32m━━━━━━━━━━━━━━━━━━━━\u001b[0m\u001b[37m\u001b[0m \u001b[1m0s\u001b[0m 991us/step - loss: 6.3609 - mae: 1.7325 - mse: 6.3609\n",
      "Epoch 23/2000\n",
      "\u001b[1m3/3\u001b[0m \u001b[32m━━━━━━━━━━━━━━━━━━━━\u001b[0m\u001b[37m\u001b[0m \u001b[1m0s\u001b[0m 1ms/step - loss: 5.9141 - mae: 1.6862 - mse: 5.9141\n",
      "Epoch 24/2000\n",
      "\u001b[1m3/3\u001b[0m \u001b[32m━━━━━━━━━━━━━━━━━━━━\u001b[0m\u001b[37m\u001b[0m \u001b[1m0s\u001b[0m 1ms/step - loss: 5.7452 - mae: 1.6696 - mse: 5.7452\n",
      "Epoch 25/2000\n",
      "\u001b[1m3/3\u001b[0m \u001b[32m━━━━━━━━━━━━━━━━━━━━\u001b[0m\u001b[37m\u001b[0m \u001b[1m0s\u001b[0m 1ms/step - loss: 5.9304 - mae: 1.6908 - mse: 5.9304\n",
      "Epoch 26/2000\n",
      "\u001b[1m3/3\u001b[0m \u001b[32m━━━━━━━━━━━━━━━━━━━━\u001b[0m\u001b[37m\u001b[0m \u001b[1m0s\u001b[0m 1ms/step - loss: 5.5780 - mae: 1.6743 - mse: 5.5780\n",
      "Epoch 27/2000\n",
      "\u001b[1m3/3\u001b[0m \u001b[32m━━━━━━━━━━━━━━━━━━━━\u001b[0m\u001b[37m\u001b[0m \u001b[1m0s\u001b[0m 974us/step - loss: 6.2095 - mae: 1.7142 - mse: 6.2095\n",
      "Epoch 28/2000\n",
      "\u001b[1m3/3\u001b[0m \u001b[32m━━━━━━━━━━━━━━━━━━━━\u001b[0m\u001b[37m\u001b[0m \u001b[1m0s\u001b[0m 1ms/step - loss: 5.5254 - mae: 1.6519 - mse: 5.5254\n",
      "Epoch 29/2000\n",
      "\u001b[1m3/3\u001b[0m \u001b[32m━━━━━━━━━━━━━━━━━━━━\u001b[0m\u001b[37m\u001b[0m \u001b[1m0s\u001b[0m 1ms/step - loss: 6.2083 - mae: 1.7160 - mse: 6.2083\n",
      "Epoch 30/2000\n",
      "\u001b[1m3/3\u001b[0m \u001b[32m━━━━━━━━━━━━━━━━━━━━\u001b[0m\u001b[37m\u001b[0m \u001b[1m0s\u001b[0m 952us/step - loss: 6.0304 - mae: 1.7188 - mse: 6.0304\n",
      "Epoch 31/2000\n",
      "\u001b[1m3/3\u001b[0m \u001b[32m━━━━━━━━━━━━━━━━━━━━\u001b[0m\u001b[37m\u001b[0m \u001b[1m0s\u001b[0m 1ms/step - loss: 6.1654 - mae: 1.7605 - mse: 6.1654\n",
      "Epoch 32/2000\n",
      "\u001b[1m3/3\u001b[0m \u001b[32m━━━━━━━━━━━━━━━━━━━━\u001b[0m\u001b[37m\u001b[0m \u001b[1m0s\u001b[0m 1ms/step - loss: 5.5668 - mae: 1.6653 - mse: 5.5668\n",
      "Epoch 33/2000\n",
      "\u001b[1m3/3\u001b[0m \u001b[32m━━━━━━━━━━━━━━━━━━━━\u001b[0m\u001b[37m\u001b[0m \u001b[1m0s\u001b[0m 1ms/step - loss: 6.0454 - mae: 1.7015 - mse: 6.0454\n",
      "Epoch 34/2000\n",
      "\u001b[1m3/3\u001b[0m \u001b[32m━━━━━━━━━━━━━━━━━━━━\u001b[0m\u001b[37m\u001b[0m \u001b[1m0s\u001b[0m 1ms/step - loss: 5.6138 - mae: 1.6769 - mse: 5.6138\n",
      "Epoch 35/2000\n",
      "\u001b[1m3/3\u001b[0m \u001b[32m━━━━━━━━━━━━━━━━━━━━\u001b[0m\u001b[37m\u001b[0m \u001b[1m0s\u001b[0m 1ms/step - loss: 5.9636 - mae: 1.7433 - mse: 5.9636\n",
      "Epoch 36/2000\n",
      "\u001b[1m3/3\u001b[0m \u001b[32m━━━━━━━━━━━━━━━━━━━━\u001b[0m\u001b[37m\u001b[0m \u001b[1m0s\u001b[0m 1ms/step - loss: 5.9757 - mae: 1.6774 - mse: 5.9757\n",
      "Epoch 37/2000\n",
      "\u001b[1m3/3\u001b[0m \u001b[32m━━━━━━━━━━━━━━━━━━━━\u001b[0m\u001b[37m\u001b[0m \u001b[1m0s\u001b[0m 1ms/step - loss: 6.2501 - mae: 1.7531 - mse: 6.2501\n",
      "Epoch 38/2000\n",
      "\u001b[1m3/3\u001b[0m \u001b[32m━━━━━━━━━━━━━━━━━━━━\u001b[0m\u001b[37m\u001b[0m \u001b[1m0s\u001b[0m 1ms/step - loss: 5.6737 - mae: 1.6561 - mse: 5.6737\n",
      "Epoch 39/2000\n",
      "\u001b[1m3/3\u001b[0m \u001b[32m━━━━━━━━━━━━━━━━━━━━\u001b[0m\u001b[37m\u001b[0m \u001b[1m0s\u001b[0m 1ms/step - loss: 5.8224 - mae: 1.6931 - mse: 5.8224\n",
      "Epoch 40/2000\n",
      "\u001b[1m3/3\u001b[0m \u001b[32m━━━━━━━━━━━━━━━━━━━━\u001b[0m\u001b[37m\u001b[0m \u001b[1m0s\u001b[0m 1ms/step - loss: 5.8617 - mae: 1.6852 - mse: 5.8617\n",
      "Epoch 41/2000\n",
      "\u001b[1m3/3\u001b[0m \u001b[32m━━━━━━━━━━━━━━━━━━━━\u001b[0m\u001b[37m\u001b[0m \u001b[1m0s\u001b[0m 1ms/step - loss: 6.2365 - mae: 1.7327 - mse: 6.2365\n",
      "Epoch 42/2000\n",
      "\u001b[1m3/3\u001b[0m \u001b[32m━━━━━━━━━━━━━━━━━━━━\u001b[0m\u001b[37m\u001b[0m \u001b[1m0s\u001b[0m 1ms/step - loss: 5.8475 - mae: 1.6947 - mse: 5.8475\n",
      "Epoch 43/2000\n",
      "\u001b[1m3/3\u001b[0m \u001b[32m━━━━━━━━━━━━━━━━━━━━\u001b[0m\u001b[37m\u001b[0m \u001b[1m0s\u001b[0m 1ms/step - loss: 5.9826 - mae: 1.7010 - mse: 5.9826\n",
      "Epoch 44/2000\n",
      "\u001b[1m3/3\u001b[0m \u001b[32m━━━━━━━━━━━━━━━━━━━━\u001b[0m\u001b[37m\u001b[0m \u001b[1m0s\u001b[0m 1ms/step - loss: 6.0604 - mae: 1.7120 - mse: 6.0604\n",
      "Epoch 45/2000\n",
      "\u001b[1m3/3\u001b[0m \u001b[32m━━━━━━━━━━━━━━━━━━━━\u001b[0m\u001b[37m\u001b[0m \u001b[1m0s\u001b[0m 1ms/step - loss: 5.7504 - mae: 1.6695 - mse: 5.7504\n",
      "Epoch 46/2000\n",
      "\u001b[1m3/3\u001b[0m \u001b[32m━━━━━━━━━━━━━━━━━━━━\u001b[0m\u001b[37m\u001b[0m \u001b[1m0s\u001b[0m 1ms/step - loss: 5.8817 - mae: 1.6758 - mse: 5.8817\n",
      "Epoch 47/2000\n",
      "\u001b[1m3/3\u001b[0m \u001b[32m━━━━━━━━━━━━━━━━━━━━\u001b[0m\u001b[37m\u001b[0m \u001b[1m0s\u001b[0m 1ms/step - loss: 6.0929 - mae: 1.7445 - mse: 6.0929\n",
      "Epoch 48/2000\n",
      "\u001b[1m3/3\u001b[0m \u001b[32m━━━━━━━━━━━━━━━━━━━━\u001b[0m\u001b[37m\u001b[0m \u001b[1m0s\u001b[0m 1ms/step - loss: 5.4709 - mae: 1.6358 - mse: 5.4709\n",
      "Epoch 49/2000\n",
      "\u001b[1m3/3\u001b[0m \u001b[32m━━━━━━━━━━━━━━━━━━━━\u001b[0m\u001b[37m\u001b[0m \u001b[1m0s\u001b[0m 1ms/step - loss: 6.4450 - mae: 1.7470 - mse: 6.4450\n",
      "Epoch 50/2000\n",
      "\u001b[1m3/3\u001b[0m \u001b[32m━━━━━━━━━━━━━━━━━━━━\u001b[0m\u001b[37m\u001b[0m \u001b[1m0s\u001b[0m 1ms/step - loss: 5.6752 - mae: 1.6520 - mse: 5.6752\n",
      "Epoch 51/2000\n",
      "\u001b[1m3/3\u001b[0m \u001b[32m━━━━━━━━━━━━━━━━━━━━\u001b[0m\u001b[37m\u001b[0m \u001b[1m0s\u001b[0m 1ms/step - loss: 5.8789 - mae: 1.7040 - mse: 5.8789\n",
      "Epoch 52/2000\n",
      "\u001b[1m3/3\u001b[0m \u001b[32m━━━━━━━━━━━━━━━━━━━━\u001b[0m\u001b[37m\u001b[0m \u001b[1m0s\u001b[0m 990us/step - loss: 5.3561 - mae: 1.6322 - mse: 5.3561\n",
      "Epoch 53/2000\n",
      "\u001b[1m3/3\u001b[0m \u001b[32m━━━━━━━━━━━━━━━━━━━━\u001b[0m\u001b[37m\u001b[0m \u001b[1m0s\u001b[0m 1ms/step - loss: 6.0255 - mae: 1.7362 - mse: 6.0255\n",
      "Epoch 54/2000\n",
      "\u001b[1m3/3\u001b[0m \u001b[32m━━━━━━━━━━━━━━━━━━━━\u001b[0m\u001b[37m\u001b[0m \u001b[1m0s\u001b[0m 1ms/step - loss: 6.3075 - mae: 1.7481 - mse: 6.3075\n",
      "Epoch 55/2000\n",
      "\u001b[1m3/3\u001b[0m \u001b[32m━━━━━━━━━━━━━━━━━━━━\u001b[0m\u001b[37m\u001b[0m \u001b[1m0s\u001b[0m 1ms/step - loss: 5.7651 - mae: 1.6870 - mse: 5.7651\n",
      "Epoch 56/2000\n",
      "\u001b[1m3/3\u001b[0m \u001b[32m━━━━━━━━━━━━━━━━━━━━\u001b[0m\u001b[37m\u001b[0m \u001b[1m0s\u001b[0m 1ms/step - loss: 6.0884 - mae: 1.7564 - mse: 6.0884\n",
      "Epoch 57/2000\n",
      "\u001b[1m3/3\u001b[0m \u001b[32m━━━━━━━━━━━━━━━━━━━━\u001b[0m\u001b[37m\u001b[0m \u001b[1m0s\u001b[0m 944us/step - loss: 5.7680 - mae: 1.6799 - mse: 5.7680\n",
      "Epoch 58/2000\n",
      "\u001b[1m3/3\u001b[0m \u001b[32m━━━━━━━━━━━━━━━━━━━━\u001b[0m\u001b[37m\u001b[0m \u001b[1m0s\u001b[0m 903us/step - loss: 5.3853 - mae: 1.6379 - mse: 5.3853\n",
      "Epoch 59/2000\n",
      "\u001b[1m3/3\u001b[0m \u001b[32m━━━━━━━━━━━━━━━━━━━━\u001b[0m\u001b[37m\u001b[0m \u001b[1m0s\u001b[0m 1ms/step - loss: 5.9289 - mae: 1.7050 - mse: 5.9289\n",
      "Epoch 60/2000\n",
      "\u001b[1m3/3\u001b[0m \u001b[32m━━━━━━━━━━━━━━━━━━━━\u001b[0m\u001b[37m\u001b[0m \u001b[1m0s\u001b[0m 1ms/step - loss: 5.6144 - mae: 1.6556 - mse: 5.6144\n",
      "Epoch 61/2000\n",
      "\u001b[1m3/3\u001b[0m \u001b[32m━━━━━━━━━━━━━━━━━━━━\u001b[0m\u001b[37m\u001b[0m \u001b[1m0s\u001b[0m 1ms/step - loss: 6.4400 - mae: 1.7641 - mse: 6.4400\n",
      "Epoch 62/2000\n",
      "\u001b[1m3/3\u001b[0m \u001b[32m━━━━━━━━━━━━━━━━━━━━\u001b[0m\u001b[37m\u001b[0m \u001b[1m0s\u001b[0m 971us/step - loss: 5.6698 - mae: 1.6267 - mse: 5.6698\n",
      "Epoch 63/2000\n",
      "\u001b[1m3/3\u001b[0m \u001b[32m━━━━━━━━━━━━━━━━━━━━\u001b[0m\u001b[37m\u001b[0m \u001b[1m0s\u001b[0m 1ms/step - loss: 5.9526 - mae: 1.6999 - mse: 5.9526\n",
      "Epoch 64/2000\n",
      "\u001b[1m3/3\u001b[0m \u001b[32m━━━━━━━━━━━━━━━━━━━━\u001b[0m\u001b[37m\u001b[0m \u001b[1m0s\u001b[0m 975us/step - loss: 5.7533 - mae: 1.6769 - mse: 5.7533\n"
     ]
    }
   ],
   "source": [
    "# ## Training the Keras Model with Early Stopping\n",
    "# - **Library Used:** TensorFlow Keras (`tf.keras`)\n",
    "# - **Purpose:** This code block trains the Keras model using the training dataset, with early stopping to prevent overfitting.\n",
    "# - **Line-by-Line Explanation:**\n",
    "#   - `EPOCHS = 2000`: Sets the maximum number of training epochs to 2000.\n",
    "#   - `early_stop = tf.keras.callbacks.EarlyStopping(...)`: Creates an early stopping callback that monitors the mean squared error ('mse') and stops training if it does not improve for 10 consecutive epochs (patience=10).\n",
    "#   - `model.fit(...)`: Trains the model using the training dataset (`train_ds`).\n",
    "#       - `train_ds`: The TensorFlow Dataset containing training data.\n",
    "#       - `callbacks=[early_stop]`: Includes the early stopping callback to monitor training.\n",
    "#       - `epochs=EPOCHS`: Specifies the maximum number of epochs for training.\n",
    "#       - `verbose=1`: Enables verbose output during training, showing progress for each epoch.\n",
    "# - **Note:** No validation set is used in this training process, as indicated by the comment.\n",
    "\n",
    "# No validation set b/c need to build separate TF dataset\n",
    "EPOCHS = 2000\n",
    "# Set to patience to 100 so it trains to end of epochs\n",
    "early_stop = tf.keras.callbacks.EarlyStopping(monitor='mse', patience=10)\n",
    "history = model.fit(train_ds,   callbacks=[early_stop], epochs=EPOCHS,  verbose=1)"
   ]
  },
  {
   "cell_type": "code",
   "execution_count": null,
   "metadata": {},
   "outputs": [
    {
     "name": "stdout",
     "output_type": "stream",
     "text": [
      "1/1 - 0s - 74ms/step - loss: 5.9289 - mae: 1.9008 - mse: 5.9289\n"
     ]
    }
   ],
   "source": [
    "# ## Evaluating the Keras Model on the Test Dataset\n",
    "# - **Library Used:** TensorFlow Keras (`tf.keras`)\n",
    "# - **Purpose:** This code block evaluates the trained Keras model on the test dataset to assess its performance.\n",
    "# - **Line-by-Line Explanation:**\n",
    "#   - `model.evaluate(test_ds, verbose=2)`: Evaluates the model using the test dataset (`test_ds`).\n",
    "#       - `test_ds`: The TensorFlow Dataset containing test data.\n",
    "#       - `verbose=2`: Sets the verbosity mode to 2, which provides a more detailed output during evaluation.\n",
    "#   - The method returns the loss value and metrics specified during model compilation (mean absolute error and mean squared error).\n",
    "# - **Output:** The evaluation results are unpacked into `loss`, `mae`, and `mse` variables for further analysis\n",
    "\n",
    "loss, mae, mse = model.evaluate(test_ds, verbose=2)"
   ]
  },
  {
   "cell_type": "code",
   "execution_count": 54,
   "metadata": {},
   "outputs": [],
   "source": [
    "# ## Extracting True Labels from the Test Dataset\n",
    "# - **Library Used:** pandas\n",
    "# - **Purpose:** This block extracts the true target values (labels) from the test dataset for later comparison with model predictions.\n",
    "# - **Line-by-Line Explanation:**\n",
    "#   - `test_labels = test_data[PREDICTOR_FIELD].values`: Selects the column specified by `PREDICTOR_FIELD` (which is 'MPG') from the `test_data` DataFrame and retrieves its values as a NumPy array.\n",
    "# - **Key Parameters:**\n",
    "#   - `test_data`: The pandas DataFrame containing the test set.\n",
    "#   - `PREDICTOR_FIELD`: The name of the target column to extract (here, 'MPG').\n",
    "#   - `.values`: Converts the pandas Series to a NumPy array for compatibility with downstream code.\n",
    "#\n",
    "test_labels = test_data[PREDICTOR_FIELD].values"
   ]
  },
  {
   "cell_type": "code",
   "execution_count": null,
   "metadata": {},
   "outputs": [
    {
     "name": "stdout",
     "output_type": "stream",
     "text": [
      "\u001b[1m1/1\u001b[0m \u001b[32m━━━━━━━━━━━━━━━━━━━━\u001b[0m\u001b[37m\u001b[0m \u001b[1m0s\u001b[0m 34ms/step\n"
     ]
    },
    {
     "data": {
      "image/png": "[encoded data removed]",
      "text/plain": [
       "<Figure size 640x480 with 1 Axes>"
      ]
     },
     "metadata": {},
     "output_type": "display_data"
    }
   ],
   "source": [
    "# ## Visualizing Model Predictions vs. True Values with Matplotlib\n",
    "# - **Library Used:** matplotlib.pyplot (`plt`) is used for creating static, animated, and interactive visualizations in Python.\n",
    "# - **Code Explanation:**\n",
    "#   - `test_predictions = model.predict(test_ds).flatten()`: Uses the trained Keras model to predict MPG values on the test dataset (`test_ds`). The `.flatten()` method converts the predictions to a 1D array for easier plotting.\n",
    "#   - `a = plt.axes(aspect='equal')`: Creates a new matplotlib axes object with equal aspect ratio, ensuring that one unit on the x-axis is equal to one unit on the y-axis.\n",
    "#   - `plt.scatter(test_labels, test_predictions)`: Creates a scatter plot of the true MPG values (`test_labels`) vs. the predicted MPG values (`test_predictions`).\n",
    "#   - `plt.xlabel('True Values [MPG]')` and `plt.ylabel('Predictions [MPG]')`: Set the labels for the x-axis and y-axis, respectively.\n",
    "#   - `lims = [0, 50]`: Defines the limits for both axes, from 0 to 50.\n",
    "#   - `plt.xlim(lims)` and `plt.ylim(lims)`: Set the limits for the x-axis and y-axis using the `lims` list.\n",
    "#   - `_ = plt.plot(lims, lims)`: Plots a diagonal reference line (y = x) to help visually assess how close predictions are to the true values. Points on this line represent perfect predictions.\n",
    "\n",
    "test_predictions = model.predict(test_ds).flatten()\n",
    "\n",
    "a = plt.axes(aspect='equal')\n",
    "plt.scatter(test_labels, test_predictions)\n",
    "plt.xlabel('True Values [MPG]')\n",
    "plt.ylabel('Predictions [MPG]')\n",
    "lims = [0, 50]\n",
    "plt.xlim(lims)\n",
    "plt.ylim(lims)\n",
    "_ = plt.plot(lims, lims)\n"
   ]
  },
  {
   "cell_type": "markdown",
   "metadata": {},
   "source": [
    "### Show Model Prediction Output"
   ]
  },
  {
   "cell_type": "code",
   "execution_count": null,
   "metadata": {},
   "outputs": [],
   "source": [
    "# ## Creating a DataFrame for Model Predictions and True Values\n",
    "# - **Library Used:** pandas (`pd.DataFrame`)\n",
    "# - **Purpose:** This block creates a DataFrame to store both the model's predicted values and the actual target values for the test set, enabling easy comparison and further analysis.\n",
    "# - **Line-by-Line Explanation:**\n",
    "#   - `model_pred_outputs = {...}`: Constructs a dictionary with two keys:\n",
    "#       - `\"pred\"`: Contains the predicted values from the model (`test_predictions`).\n",
    "#       - `\"actual_value\"`: Contains the true target values (`test_labels`).\n",
    "#   - `model_output_df = pd.DataFrame(model_pred_outputs)`: Converts the dictionary into a pandas DataFrame, where each row corresponds to a test sample and columns represent predictions and actual values.\n",
    "# - **Key Parameters:**\n",
    "#   - `pd.DataFrame(data)`: The `data` parameter is a dictionary where keys become column names and values are array-like objects of equal length.\n",
    "#\n",
    "\n",
    "model_pred_outputs = {\n",
    "    \"pred\": test_predictions,\n",
    "    \"actual_value\": test_labels,\n",
    "}\n",
    "model_output_df = pd.DataFrame(model_pred_outputs)"
   ]
  },
  {
   "cell_type": "code",
   "execution_count": 57,
   "metadata": {},
   "outputs": [
    {
     "data": {
      "application/vnd.microsoft.datawrangler.viewer.v0+json": {
       "columns": [
        {
         "name": "index",
         "rawType": "int64",
         "type": "integer"
        },
        {
         "name": "pred",
         "rawType": "float32",
         "type": "float"
        },
        {
         "name": "actual_value",
         "rawType": "float64",
         "type": "float"
        }
       ],
       "ref": "d2343657-7ace-4e4f-acd6-1c85aa111c2d",
       "rows": [
        [
         "0",
         "34.652225",
         "15.0"
        ],
        [
         "1",
         "12.584548",
         "10.0"
        ],
        [
         "2",
         "21.381609",
         "9.0"
        ],
        [
         "3",
         "15.341971",
         "25.0"
        ],
        [
         "4",
         "18.243296",
         "19.0"
        ]
       ],
       "shape": {
        "columns": 2,
        "rows": 5
       }
      },
      "text/html": [
       "<div>\n",
       "<style scoped>\n",
       "    .dataframe tbody tr th:only-of-type {\n",
       "        vertical-align: middle;\n",
       "    }\n",
       "\n",
       "    .dataframe tbody tr th {\n",
       "        vertical-align: top;\n",
       "    }\n",
       "\n",
       "    .dataframe thead th {\n",
       "        text-align: right;\n",
       "    }\n",
       "</style>\n",
       "<table border=\"1\" class=\"dataframe\">\n",
       "  <thead>\n",
       "    <tr style=\"text-align: right;\">\n",
       "      <th></th>\n",
       "      <th>pred</th>\n",
       "      <th>actual_value</th>\n",
       "    </tr>\n",
       "  </thead>\n",
       "  <tbody>\n",
       "    <tr>\n",
       "      <th>0</th>\n",
       "      <td>34.652225</td>\n",
       "      <td>15.0</td>\n",
       "    </tr>\n",
       "    <tr>\n",
       "      <th>1</th>\n",
       "      <td>12.584548</td>\n",
       "      <td>10.0</td>\n",
       "    </tr>\n",
       "    <tr>\n",
       "      <th>2</th>\n",
       "      <td>21.381609</td>\n",
       "      <td>9.0</td>\n",
       "    </tr>\n",
       "    <tr>\n",
       "      <th>3</th>\n",
       "      <td>15.341971</td>\n",
       "      <td>25.0</td>\n",
       "    </tr>\n",
       "    <tr>\n",
       "      <th>4</th>\n",
       "      <td>18.243296</td>\n",
       "      <td>19.0</td>\n",
       "    </tr>\n",
       "  </tbody>\n",
       "</table>\n",
       "</div>"
      ],
      "text/plain": [
       "        pred  actual_value\n",
       "0  34.652225          15.0\n",
       "1  12.584548          10.0\n",
       "2  21.381609           9.0\n",
       "3  15.341971          25.0\n",
       "4  18.243296          19.0"
      ]
     },
     "execution_count": 57,
     "metadata": {},
     "output_type": "execute_result"
    }
   ],
   "source": [
    "model_output_df.head()"
   ]
  },
  {
   "cell_type": "markdown",
   "metadata": {},
   "source": [
    "## 2. Model Evaluation "
   ]
  },
  {
   "cell_type": "markdown",
   "metadata": {},
   "source": [
    "### Preparing Regression Output for Binary Scoring Model Evaluation"
   ]
  },
  {
   "cell_type": "markdown",
   "metadata": {},
   "source": [
    "- Create binary label for mileage prediction over 25 miles per gallon\n",
    "    - 0 = Not Fuel Efficient, < 25 MPG\n",
    "    - 1 = Fuel Efficient >= 25 MPG"
   ]
  },
  {
   "cell_type": "code",
   "execution_count": 58,
   "metadata": {},
   "outputs": [
    {
     "data": {
      "application/vnd.microsoft.datawrangler.viewer.v0+json": {
       "columns": [
        {
         "name": "index",
         "rawType": "int64",
         "type": "integer"
        },
        {
         "name": "pred",
         "rawType": "float32",
         "type": "float"
        },
        {
         "name": "actual_value",
         "rawType": "float64",
         "type": "float"
        }
       ],
       "ref": "cf0b36fe-0546-4be4-bbb8-2120b50885a1",
       "rows": [
        [
         "0",
         "34.652225",
         "15.0"
        ],
        [
         "1",
         "12.584548",
         "10.0"
        ],
        [
         "2",
         "21.381609",
         "9.0"
        ],
        [
         "3",
         "15.341971",
         "25.0"
        ],
        [
         "4",
         "18.243296",
         "19.0"
        ]
       ],
       "shape": {
        "columns": 2,
        "rows": 5
       }
      },
      "text/html": [
       "<div>\n",
       "<style scoped>\n",
       "    .dataframe tbody tr th:only-of-type {\n",
       "        vertical-align: middle;\n",
       "    }\n",
       "\n",
       "    .dataframe tbody tr th {\n",
       "        vertical-align: top;\n",
       "    }\n",
       "\n",
       "    .dataframe thead th {\n",
       "        text-align: right;\n",
       "    }\n",
       "</style>\n",
       "<table border=\"1\" class=\"dataframe\">\n",
       "  <thead>\n",
       "    <tr style=\"text-align: right;\">\n",
       "      <th></th>\n",
       "      <th>pred</th>\n",
       "      <th>actual_value</th>\n",
       "    </tr>\n",
       "  </thead>\n",
       "  <tbody>\n",
       "    <tr>\n",
       "      <th>0</th>\n",
       "      <td>34.652225</td>\n",
       "      <td>15.0</td>\n",
       "    </tr>\n",
       "    <tr>\n",
       "      <th>1</th>\n",
       "      <td>12.584548</td>\n",
       "      <td>10.0</td>\n",
       "    </tr>\n",
       "    <tr>\n",
       "      <th>2</th>\n",
       "      <td>21.381609</td>\n",
       "      <td>9.0</td>\n",
       "    </tr>\n",
       "    <tr>\n",
       "      <th>3</th>\n",
       "      <td>15.341971</td>\n",
       "      <td>25.0</td>\n",
       "    </tr>\n",
       "    <tr>\n",
       "      <th>4</th>\n",
       "      <td>18.243296</td>\n",
       "      <td>19.0</td>\n",
       "    </tr>\n",
       "  </tbody>\n",
       "</table>\n",
       "</div>"
      ],
      "text/plain": [
       "        pred  actual_value\n",
       "0  34.652225          15.0\n",
       "1  12.584548          10.0\n",
       "2  21.381609           9.0\n",
       "3  15.341971          25.0\n",
       "4  18.243296          19.0"
      ]
     },
     "execution_count": 58,
     "metadata": {},
     "output_type": "execute_result"
    }
   ],
   "source": [
    "# ## Converting Regression Output to Binary Classification Output\n",
    "# - **Library Used:** pandas (`pd.DataFrame`, `.apply`, `lambda`)\n",
    "# - **Purpose:** This block demonstrates how to convert continuous regression predictions and actual values into binary classification labels based on a threshold (25 MPG).\n",
    "# - **Line-by-Line Explanation:**\n",
    "#   - `model_output_df['score'] = model_output_df['pred'].apply(lambda x: 1 if x>=25 else 0)`: Creates a new column 'score' in the DataFrame, assigning 1 if the predicted MPG is greater than or equal to 25 (fuel efficient), otherwise 0.\n",
    "#   - `model_output_df['label_value'] = model_output_df['actual_value'].apply(lambda x: 1 if x>=25 else 0)`: Creates a new column 'label_value', assigning 1 if the actual MPG is greater than or equal to 25, otherwise 0.\n",
    "#   - `model_output_df.head()`: Displays the first few rows of the DataFrame to verify the new binary columns.\n",
    "# - **Key Parameters:**\n",
    "#   - `apply`: Applies a function along the axis of the DataFrame.\n",
    "#   - `lambda x: ...`: Anonymous function to perform thresholding.\n",
    "#\n",
    "\n",
    "# Convert Regression Output to binary classification output\n",
    "model_output_df.head()"
   ]
  },
  {
   "cell_type": "code",
   "execution_count": 60,
   "metadata": {},
   "outputs": [],
   "source": [
    "# ## Converting Regression Output to Binary Classification Labels\n",
    "# - **Library Used:** pandas (`pd.DataFrame`, `.apply`, `lambda`)\n",
    "# - **Purpose:** This block defines a function to convert continuous regression predictions and actual values into binary classification labels based on a threshold (25 MPG).\n",
    "# - **Line-by-Line Explanation:**\n",
    "#   - `df['score'] = df[pred_field].apply(lambda x: 1 if x>=25 else 0 )`: Creates a new column 'score' in the DataFrame, assigning 1 if the predicted MPG is greater than or equal to 25 (fuel efficient), otherwise 0.\n",
    "#   - `df['label_value'] = df[actual_field].apply(lambda x: 1 if x>=25 else 0)`: Creates a new column 'label_value', assigning 1 if the actual MPG is greater than or equal to 25, otherwise 0.\n",
    "#   - `return df`: Returns the modified DataFrame with the new binary columns.\n",
    "# - **Key Parameters:**\n",
    "#   - `pred_field`: The column name for predicted values.\n",
    "#   - `actual_field`: The column name for actual target values.\n",
    "#   - `apply`: Applies a function along the axis of the DataFrame.\n",
    "#   - `lambda x: ...`: Anonymous function to perform thresholding.\n",
    "\n",
    "\n",
    "def convert_to_binary(df, pred_field, actual_field):\n",
    "    df['score'] = df[pred_field].apply(lambda x: 1 if x>=25 else 0 )\n",
    "    df['label_value'] = df[actual_field].apply(lambda x: 1 if x>=25 else 0)\n",
    "    return df"
   ]
  },
  {
   "cell_type": "code",
   "execution_count": 61,
   "metadata": {},
   "outputs": [
    {
     "data": {
      "application/vnd.microsoft.datawrangler.viewer.v0+json": {
       "columns": [
        {
         "name": "index",
         "rawType": "int64",
         "type": "integer"
        },
        {
         "name": "pred",
         "rawType": "float32",
         "type": "float"
        },
        {
         "name": "actual_value",
         "rawType": "float64",
         "type": "float"
        },
        {
         "name": "score",
         "rawType": "int64",
         "type": "integer"
        },
        {
         "name": "label_value",
         "rawType": "int64",
         "type": "integer"
        }
       ],
       "ref": "28548608-7daa-485a-850d-22583b5e5c64",
       "rows": [
        [
         "0",
         "34.652225",
         "15.0",
         "1",
         "0"
        ],
        [
         "1",
         "12.584548",
         "10.0",
         "0",
         "0"
        ],
        [
         "2",
         "21.381609",
         "9.0",
         "0",
         "0"
        ],
        [
         "3",
         "15.341971",
         "25.0",
         "0",
         "1"
        ],
        [
         "4",
         "18.243296",
         "19.0",
         "0",
         "0"
        ]
       ],
       "shape": {
        "columns": 4,
        "rows": 5
       }
      },
      "text/html": [
       "<div>\n",
       "<style scoped>\n",
       "    .dataframe tbody tr th:only-of-type {\n",
       "        vertical-align: middle;\n",
       "    }\n",
       "\n",
       "    .dataframe tbody tr th {\n",
       "        vertical-align: top;\n",
       "    }\n",
       "\n",
       "    .dataframe thead th {\n",
       "        text-align: right;\n",
       "    }\n",
       "</style>\n",
       "<table border=\"1\" class=\"dataframe\">\n",
       "  <thead>\n",
       "    <tr style=\"text-align: right;\">\n",
       "      <th></th>\n",
       "      <th>pred</th>\n",
       "      <th>actual_value</th>\n",
       "      <th>score</th>\n",
       "      <th>label_value</th>\n",
       "    </tr>\n",
       "  </thead>\n",
       "  <tbody>\n",
       "    <tr>\n",
       "      <th>0</th>\n",
       "      <td>34.652225</td>\n",
       "      <td>15.0</td>\n",
       "      <td>1</td>\n",
       "      <td>0</td>\n",
       "    </tr>\n",
       "    <tr>\n",
       "      <th>1</th>\n",
       "      <td>12.584548</td>\n",
       "      <td>10.0</td>\n",
       "      <td>0</td>\n",
       "      <td>0</td>\n",
       "    </tr>\n",
       "    <tr>\n",
       "      <th>2</th>\n",
       "      <td>21.381609</td>\n",
       "      <td>9.0</td>\n",
       "      <td>0</td>\n",
       "      <td>0</td>\n",
       "    </tr>\n",
       "    <tr>\n",
       "      <th>3</th>\n",
       "      <td>15.341971</td>\n",
       "      <td>25.0</td>\n",
       "      <td>0</td>\n",
       "      <td>1</td>\n",
       "    </tr>\n",
       "    <tr>\n",
       "      <th>4</th>\n",
       "      <td>18.243296</td>\n",
       "      <td>19.0</td>\n",
       "      <td>0</td>\n",
       "      <td>0</td>\n",
       "    </tr>\n",
       "  </tbody>\n",
       "</table>\n",
       "</div>"
      ],
      "text/plain": [
       "        pred  actual_value  score  label_value\n",
       "0  34.652225          15.0      1            0\n",
       "1  12.584548          10.0      0            0\n",
       "2  21.381609           9.0      0            0\n",
       "3  15.341971          25.0      0            1\n",
       "4  18.243296          19.0      0            0"
      ]
     },
     "execution_count": 61,
     "metadata": {},
     "output_type": "execute_result"
    }
   ],
   "source": [
    "binary_df = convert_to_binary(model_output_df, 'pred', 'actual_value')\n",
    "binary_df.head()"
   ]
  },
  {
   "cell_type": "markdown",
   "metadata": {},
   "source": [
    "### Classification Common Model Evaluation Metrics"
   ]
  },
  {
   "cell_type": "code",
   "execution_count": 64,
   "metadata": {},
   "outputs": [],
   "source": [
    "# ## Importing Classification and Scoring Metrics from scikit-learn\n",
    "# - **Library Used:** scikit-learn (`sklearn.metrics`)\n",
    "# - **Purpose:** This block imports several key functions for evaluating classification models.\n",
    "# - **Line-by-Line Explanation:**\n",
    "#   - `brier_score_loss`: Computes the Brier score, a metric for the accuracy of probabilistic predictions.\n",
    "#   - `accuracy_score`: Calculates the fraction of correct predictions (accuracy).\n",
    "#   - `f1_score`: Computes the F1 score, the harmonic mean of precision and recall.\n",
    "#   - `classification_report`: Generates a text summary of the precision, recall, F1 score, and support for each class.\n",
    "#   - `roc_auc_score`: Computes the Area Under the Receiver Operating Characteristic Curve (ROC AUC) from prediction scores.\n",
    "#   - `roc_curve`: Computes the ROC curve, plotting the true positive rate against the false positive rate at various threshold settings.\n",
    "# - **Key Parameters:**\n",
    "#   - All functions typically require arrays of true labels and predicted labels or probabilities as input.\n",
    "#   - Some functions (like `f1_score`) allow you to specify the averaging method (e.g., 'weighted', 'macro', 'micro').\n",
    "#\n",
    "\n",
    "from sklearn.metrics import brier_score_loss, accuracy_score, f1_score, classification_report, roc_auc_score, roc_curve"
   ]
  },
  {
   "cell_type": "code",
   "execution_count": 65,
   "metadata": {},
   "outputs": [
    {
     "name": "stdout",
     "output_type": "stream",
     "text": [
      "              precision    recall  f1-score   support\n",
      "\n",
      "           0       0.60      0.63      0.62        41\n",
      "           1       0.57      0.54      0.56        37\n",
      "\n",
      "    accuracy                           0.59        78\n",
      "   macro avg       0.59      0.59      0.59        78\n",
      "weighted avg       0.59      0.59      0.59        78\n",
      "\n"
     ]
    }
   ],
   "source": [
    "# ## Generating a Classification Report with scikit-learn\n",
    "# - **Library Used:** scikit-learn (`sklearn.metrics.classification_report`)\n",
    "# - **Purpose:** This block generates a detailed classification report for the binary classification results, summarizing the precision, recall, F1-score, and support for each class.\n",
    "# - **Line-by-Line Explanation:**\n",
    "#   - `classification_report(y_true, y_pred)`: Computes and returns a text summary of the main classification metrics.\n",
    "#       - `y_true`: Array of true binary labels (here, `binary_df['label_value']`).\n",
    "#       - `y_pred`: Array of predicted binary labels (here, `binary_df['score']`).\n",
    "# - **Key Parameters:**\n",
    "#   - `target_names`: (optional) List of label names to include in the report.\n",
    "#   - `output_dict`: (optional) If True, returns the report as a dict instead of a string.\n",
    "#   - `zero_division`: (optional) Sets the value to use when there is a zero division.\n",
    "#\n",
    "print(classification_report(binary_df['label_value'], binary_df['score']))"
   ]
  },
  {
   "cell_type": "code",
   "execution_count": 66,
   "metadata": {},
   "outputs": [
    {
     "data": {
      "text/plain": [
       "0.5889295889295889"
      ]
     },
     "execution_count": 66,
     "metadata": {},
     "output_type": "execute_result"
    }
   ],
   "source": [
    "#F1\n",
    "f1_score(binary_df['label_value'], binary_df['score'], average='weighted')"
   ]
  },
  {
   "cell_type": "code",
   "execution_count": 67,
   "metadata": {},
   "outputs": [
    {
     "data": {
      "text/plain": [
       "np.float64(0.5873434410019777)"
      ]
     },
     "execution_count": 67,
     "metadata": {},
     "output_type": "execute_result"
    }
   ],
   "source": [
    "#AUC - area under the ROC curve\n",
    "roc_auc_score(binary_df['label_value'], binary_df['score'])"
   ]
  },
  {
   "cell_type": "markdown",
   "metadata": {},
   "source": [
    "### Brier Score"
   ]
  },
  {
   "cell_type": "code",
   "execution_count": 68,
   "metadata": {},
   "outputs": [
    {
     "data": {
      "text/plain": [
       "array([0.4938315 , 0.47346054, 0.99254235, 0.7550371 , 0.52183829,\n",
       "       0.18807181, 0.32597652, 0.70331349, 0.63166856, 0.59886495,\n",
       "       0.17127281, 0.46628788, 0.90990449, 0.9847845 , 0.57302374,\n",
       "       0.40236291, 0.5388756 , 0.94541976, 0.21774812, 0.70464659,\n",
       "       0.21166537, 0.3096136 , 0.97992678, 0.01832682, 0.63098265,\n",
       "       0.84256004, 0.06465892, 0.77593387, 0.48618096, 0.46628042,\n",
       "       0.36648762, 0.15586391, 0.88811754, 0.85837308, 0.42824878,\n",
       "       0.40732922, 0.19588309, 0.13545053, 0.21678235, 0.14546894,\n",
       "       0.05212741, 0.29699196, 0.39953844, 0.32969412, 0.0913566 ,\n",
       "       0.63224732, 0.14849336, 0.09451651, 0.67600769, 0.54171496,\n",
       "       0.33243554, 0.87522365, 0.45228388, 0.30674862, 0.39983212,\n",
       "       0.92340138, 0.75365047, 0.99729774, 0.36025552, 0.1884155 ,\n",
       "       0.08114103, 0.869844  , 0.35952798, 0.00671598, 0.74957978,\n",
       "       0.8622186 , 0.56526758, 0.34476097, 0.03225915, 0.34885339,\n",
       "       0.9880843 , 0.0313409 , 0.61670686, 0.76481167, 0.78812942,\n",
       "       0.55934234, 0.91823399, 0.10033199, 0.02760651, 0.59613108,\n",
       "       0.96868674, 0.89321558, 0.04358636, 0.02717587, 0.72147277,\n",
       "       0.63296948, 0.06197032, 0.37184635, 0.17713256, 0.80273748,\n",
       "       0.76912098, 0.68172446, 0.21383283, 0.46056241, 0.76282923,\n",
       "       0.50612798, 0.54290474, 0.03384921, 0.62481121, 0.88577139])"
      ]
     },
     "execution_count": 68,
     "metadata": {},
     "output_type": "execute_result"
    }
   ],
   "source": [
    "random_predictions = np.random.random((100))\n",
    "random_predictions"
   ]
  },
  {
   "cell_type": "code",
   "execution_count": 69,
   "metadata": {},
   "outputs": [
    {
     "data": {
      "text/plain": [
       "array([0, 0, 1, 0, 0, 1, 0, 0, 0, 0, 1, 1, 1, 0, 0, 1, 0, 1, 0, 0, 0, 0,\n",
       "       1, 1, 0, 1, 0, 0, 0, 0, 0, 1, 0, 0, 1, 0, 1, 0, 1, 0, 1, 1, 1, 0,\n",
       "       0, 0, 0, 1, 0, 1, 0, 1, 0, 0, 0, 1, 0, 0, 0, 0, 1, 1, 0, 0, 1, 0,\n",
       "       0, 1, 0, 0, 1, 0, 1, 0, 1, 1, 0, 0, 0, 1, 1, 0, 0, 1, 0, 0, 0, 1,\n",
       "       1, 0, 0, 0, 1, 1, 0, 1, 0, 0, 1, 0])"
      ]
     },
     "execution_count": 69,
     "metadata": {},
     "output_type": "execute_result"
    }
   ],
   "source": [
    "random_labels = np.random.choice([0, 1], 100)\n",
    "random_labels"
   ]
  },
  {
   "cell_type": "markdown",
   "metadata": {},
   "source": [
    "- Convert probability to binary predictions"
   ]
  },
  {
   "cell_type": "code",
   "execution_count": 70,
   "metadata": {},
   "outputs": [],
   "source": [
    "probability_prediction_df = pd.DataFrame({\"prob_prediction\": random_predictions,\n",
    "                \"binary_prediction\": np.array([ 1 if abs(x)>=0.5 else 0 for x in random_predictions], dtype=int),\n",
    "                                \"label\": random_labels})"
   ]
  },
  {
   "cell_type": "code",
   "execution_count": null,
   "metadata": {},
   "outputs": [],
   "source": [
    "probability_prediction_df.head()"
   ]
  },
  {
   "cell_type": "code",
   "execution_count": 71,
   "metadata": {},
   "outputs": [],
   "source": [
    "y_true = probability_prediction_df['label'].values\n",
    "y_pred = probability_prediction_df['binary_prediction'].values"
   ]
  },
  {
   "cell_type": "code",
   "execution_count": 72,
   "metadata": {},
   "outputs": [
    {
     "name": "stdout",
     "output_type": "stream",
     "text": [
      "0.5\n"
     ]
    }
   ],
   "source": [
    "acc = accuracy_score(y_true, y_pred)\n",
    "print(acc)"
   ]
  },
  {
   "cell_type": "code",
   "execution_count": 73,
   "metadata": {},
   "outputs": [
    {
     "name": "stdout",
     "output_type": "stream",
     "text": [
      "0.32708520260861884\n"
     ]
    }
   ],
   "source": [
    "bs_loss = brier_score_loss(y_true, probability_prediction_df['prob_prediction'])\n",
    "print(bs_loss)"
   ]
  },
  {
   "cell_type": "markdown",
   "metadata": {},
   "source": [
    "### Misclassified"
   ]
  },
  {
   "cell_type": "code",
   "execution_count": 74,
   "metadata": {},
   "outputs": [],
   "source": [
    "missclassified_df = probability_prediction_df[probability_prediction_df['binary_prediction']!=probability_prediction_df['label']]"
   ]
  },
  {
   "cell_type": "code",
   "execution_count": 75,
   "metadata": {},
   "outputs": [
    {
     "data": {
      "text/plain": [
       "<Axes: ylabel='Frequency'>"
      ]
     },
     "execution_count": 75,
     "metadata": {},
     "output_type": "execute_result"
    },
    {
     "data": {
      "image/png": "[encoded data removed]",
      "text/plain": [
       "<Figure size 640x480 with 1 Axes>"
      ]
     },
     "metadata": {},
     "output_type": "display_data"
    }
   ],
   "source": [
    "missclassified_df['prob_prediction'].plot(kind='hist')"
   ]
  },
  {
   "cell_type": "markdown",
   "metadata": {},
   "source": [
    "## 3. Demographic Group Bias Analysis"
   ]
  },
  {
   "cell_type": "markdown",
   "metadata": {},
   "source": [
    "- Select groups to analyze\n",
    "- Prepare data \n",
    "- Analyze groups\n"
   ]
  },
  {
   "cell_type": "markdown",
   "metadata": {},
   "source": [
    "### Select groups to analyze\n",
    "- Selected 'origin' field which gives the country of origin for the car."
   ]
  },
  {
   "cell_type": "code",
   "execution_count": 76,
   "metadata": {},
   "outputs": [],
   "source": [
    "#combine binary df with original test df, order was not shuffled so can do"
   ]
  },
  {
   "cell_type": "code",
   "execution_count": 77,
   "metadata": {},
   "outputs": [],
   "source": [
    "merged_binary_df = binary_df.assign(origin = test_data['Origin'].values)"
   ]
  },
  {
   "cell_type": "code",
   "execution_count": 78,
   "metadata": {},
   "outputs": [
    {
     "data": {
      "application/vnd.microsoft.datawrangler.viewer.v0+json": {
       "columns": [
        {
         "name": "index",
         "rawType": "int64",
         "type": "integer"
        },
        {
         "name": "pred",
         "rawType": "float32",
         "type": "float"
        },
        {
         "name": "actual_value",
         "rawType": "float64",
         "type": "float"
        },
        {
         "name": "score",
         "rawType": "int64",
         "type": "integer"
        },
        {
         "name": "label_value",
         "rawType": "int64",
         "type": "integer"
        },
        {
         "name": "origin",
         "rawType": "object",
         "type": "string"
        }
       ],
       "ref": "4588dbf4-4ede-4a46-a58a-d5d92563457d",
       "rows": [
        [
         "0",
         "34.652225",
         "15.0",
         "1",
         "0",
         "USA"
        ],
        [
         "1",
         "12.584548",
         "10.0",
         "0",
         "0",
         "USA"
        ],
        [
         "2",
         "21.381609",
         "9.0",
         "0",
         "0",
         "USA"
        ],
        [
         "3",
         "15.341971",
         "25.0",
         "0",
         "1",
         "Japan"
        ],
        [
         "4",
         "18.243296",
         "19.0",
         "0",
         "0",
         "USA"
        ]
       ],
       "shape": {
        "columns": 5,
        "rows": 5
       }
      },
      "text/html": [
       "<div>\n",
       "<style scoped>\n",
       "    .dataframe tbody tr th:only-of-type {\n",
       "        vertical-align: middle;\n",
       "    }\n",
       "\n",
       "    .dataframe tbody tr th {\n",
       "        vertical-align: top;\n",
       "    }\n",
       "\n",
       "    .dataframe thead th {\n",
       "        text-align: right;\n",
       "    }\n",
       "</style>\n",
       "<table border=\"1\" class=\"dataframe\">\n",
       "  <thead>\n",
       "    <tr style=\"text-align: right;\">\n",
       "      <th></th>\n",
       "      <th>pred</th>\n",
       "      <th>actual_value</th>\n",
       "      <th>score</th>\n",
       "      <th>label_value</th>\n",
       "      <th>origin</th>\n",
       "    </tr>\n",
       "  </thead>\n",
       "  <tbody>\n",
       "    <tr>\n",
       "      <th>0</th>\n",
       "      <td>34.652225</td>\n",
       "      <td>15.0</td>\n",
       "      <td>1</td>\n",
       "      <td>0</td>\n",
       "      <td>USA</td>\n",
       "    </tr>\n",
       "    <tr>\n",
       "      <th>1</th>\n",
       "      <td>12.584548</td>\n",
       "      <td>10.0</td>\n",
       "      <td>0</td>\n",
       "      <td>0</td>\n",
       "      <td>USA</td>\n",
       "    </tr>\n",
       "    <tr>\n",
       "      <th>2</th>\n",
       "      <td>21.381609</td>\n",
       "      <td>9.0</td>\n",
       "      <td>0</td>\n",
       "      <td>0</td>\n",
       "      <td>USA</td>\n",
       "    </tr>\n",
       "    <tr>\n",
       "      <th>3</th>\n",
       "      <td>15.341971</td>\n",
       "      <td>25.0</td>\n",
       "      <td>0</td>\n",
       "      <td>1</td>\n",
       "      <td>Japan</td>\n",
       "    </tr>\n",
       "    <tr>\n",
       "      <th>4</th>\n",
       "      <td>18.243296</td>\n",
       "      <td>19.0</td>\n",
       "      <td>0</td>\n",
       "      <td>0</td>\n",
       "      <td>USA</td>\n",
       "    </tr>\n",
       "  </tbody>\n",
       "</table>\n",
       "</div>"
      ],
      "text/plain": [
       "        pred  actual_value  score  label_value origin\n",
       "0  34.652225          15.0      1            0    USA\n",
       "1  12.584548          10.0      0            0    USA\n",
       "2  21.381609           9.0      0            0    USA\n",
       "3  15.341971          25.0      0            1  Japan\n",
       "4  18.243296          19.0      0            0    USA"
      ]
     },
     "execution_count": 78,
     "metadata": {},
     "output_type": "execute_result"
    }
   ],
   "source": [
    "merged_binary_df.head()"
   ]
  },
  {
   "cell_type": "markdown",
   "metadata": {},
   "source": [
    "### Prepare Data"
   ]
  },
  {
   "cell_type": "code",
   "execution_count": 80,
   "metadata": {},
   "outputs": [
    {
     "name": "stdout",
     "output_type": "stream",
     "text": [
      "Collecting aequitas\n",
      "  Downloading aequitas-1.0.0-3-py3-none-any.whl.metadata (18 kB)\n",
      "INFO: pip is looking at multiple versions of aequitas to determine which version is compatible with other requirements. This could take a while.\n",
      "  Downloading aequitas-0.42.0-py3-none-any.whl.metadata (1.4 kB)\n",
      "Collecting ohio>=0.2.0 (from aequitas)\n",
      "  Downloading ohio-0.5.0-py3-none-any.whl.metadata (29 kB)\n",
      "Collecting Flask==0.12.2 (from aequitas)\n",
      "  Downloading Flask-0.12.2-py2.py3-none-any.whl.metadata (1.9 kB)\n",
      "Collecting Flask-Bootstrap==3.3.7.1 (from aequitas)\n",
      "  Downloading Flask-Bootstrap-3.3.7.1.tar.gz (456 kB)\n",
      "  Preparing metadata (setup.py) ... \u001b[?25ldone\n",
      "\u001b[?25hCollecting markdown2==2.3.5 (from aequitas)\n",
      "  Downloading markdown2-2.3.5.zip (161 kB)\n",
      "  Preparing metadata (setup.py) ... \u001b[?25ldone\n",
      "\u001b[?25hRequirement already satisfied: matplotlib>=3.0.3 in /Users/anup/anup_prompt_venv/lib/python3.12/site-packages (from aequitas) (3.10.3)\n",
      "Requirement already satisfied: pandas>=0.24.1 in /Users/anup/anup_prompt_venv/lib/python3.12/site-packages (from aequitas) (2.2.3)\n",
      "Requirement already satisfied: pyyaml>=5.1 in /Users/anup/anup_prompt_venv/lib/python3.12/site-packages (from aequitas) (6.0.2)\n",
      "Requirement already satisfied: SQLAlchemy>=1.1.1 in /Users/anup/anup_prompt_venv/lib/python3.12/site-packages (from aequitas) (2.0.41)\n",
      "Collecting tabulate==0.8.2 (from aequitas)\n",
      "  Downloading tabulate-0.8.2.tar.gz (45 kB)\n",
      "  Preparing metadata (setup.py) ... \u001b[?25ldone\n",
      "\u001b[?25hCollecting xhtml2pdf==0.2.2 (from aequitas)\n",
      "  Downloading xhtml2pdf-0.2.2.tar.gz (97 kB)\n",
      "  Preparing metadata (setup.py) ... \u001b[?25ldone\n",
      "\u001b[?25hRequirement already satisfied: seaborn>=0.9.0 in /Users/anup/anup_prompt_venv/lib/python3.12/site-packages (from aequitas) (0.13.2)\n",
      "Collecting altair==4.1.0 (from aequitas)\n",
      "  Downloading altair-4.1.0-py3-none-any.whl.metadata (13 kB)\n",
      "Collecting millify==0.1.1 (from aequitas)\n",
      "  Downloading millify-0.1.1.tar.gz (1.2 kB)\n",
      "  Preparing metadata (setup.py) ... \u001b[?25ldone\n",
      "\u001b[?25hCollecting entrypoints (from altair==4.1.0->aequitas)\n",
      "  Downloading entrypoints-0.4-py3-none-any.whl.metadata (2.6 kB)\n",
      "Requirement already satisfied: jinja2 in /Users/anup/anup_prompt_venv/lib/python3.12/site-packages (from altair==4.1.0->aequitas) (3.1.5)\n",
      "Requirement already satisfied: jsonschema in /Users/anup/anup_prompt_venv/lib/python3.12/site-packages (from altair==4.1.0->aequitas) (4.23.0)\n",
      "Requirement already satisfied: numpy in /Users/anup/anup_prompt_venv/lib/python3.12/site-packages (from altair==4.1.0->aequitas) (2.1.3)\n",
      "Collecting toolz (from altair==4.1.0->aequitas)\n",
      "  Downloading toolz-1.0.0-py3-none-any.whl.metadata (5.1 kB)\n",
      "Requirement already satisfied: Werkzeug>=0.7 in /Users/anup/anup_prompt_venv/lib/python3.12/site-packages (from Flask==0.12.2->aequitas) (3.0.6)\n",
      "Requirement already satisfied: click>=2.0 in /Users/anup/anup_prompt_venv/lib/python3.12/site-packages (from Flask==0.12.2->aequitas) (8.1.8)\n",
      "Requirement already satisfied: itsdangerous>=0.21 in /Users/anup/anup_prompt_venv/lib/python3.12/site-packages (from Flask==0.12.2->aequitas) (2.2.0)\n",
      "Collecting dominate (from Flask-Bootstrap==3.3.7.1->aequitas)\n",
      "  Downloading dominate-2.9.1-py2.py3-none-any.whl.metadata (13 kB)\n",
      "Collecting visitor (from Flask-Bootstrap==3.3.7.1->aequitas)\n",
      "  Downloading visitor-0.1.3.tar.gz (3.3 kB)\n",
      "  Preparing metadata (setup.py) ... \u001b[?25ldone\n",
      "\u001b[?25hCollecting html5lib>=1.0 (from xhtml2pdf==0.2.2->aequitas)\n",
      "  Downloading html5lib-1.1-py2.py3-none-any.whl.metadata (16 kB)\n",
      "Collecting httplib2 (from xhtml2pdf==0.2.2->aequitas)\n",
      "  Downloading httplib2-0.22.0-py3-none-any.whl.metadata (2.6 kB)\n",
      "Collecting pyPdf2 (from xhtml2pdf==0.2.2->aequitas)\n",
      "  Downloading pypdf2-3.0.1-py3-none-any.whl.metadata (6.8 kB)\n",
      "Requirement already satisfied: Pillow in /Users/anup/anup_prompt_venv/lib/python3.12/site-packages (from xhtml2pdf==0.2.2->aequitas) (11.1.0)\n",
      "Collecting reportlab>=3.0 (from xhtml2pdf==0.2.2->aequitas)\n",
      "  Downloading reportlab-4.4.2-py3-none-any.whl.metadata (1.8 kB)\n",
      "Requirement already satisfied: six in /Users/anup/anup_prompt_venv/lib/python3.12/site-packages (from xhtml2pdf==0.2.2->aequitas) (1.17.0)\n",
      "Requirement already satisfied: webencodings in /Users/anup/anup_prompt_venv/lib/python3.12/site-packages (from html5lib>=1.0->xhtml2pdf==0.2.2->aequitas) (0.5.1)\n",
      "Requirement already satisfied: MarkupSafe>=2.0 in /Users/anup/anup_prompt_venv/lib/python3.12/site-packages (from jinja2->altair==4.1.0->aequitas) (3.0.2)\n",
      "Requirement already satisfied: contourpy>=1.0.1 in /Users/anup/anup_prompt_venv/lib/python3.12/site-packages (from matplotlib>=3.0.3->aequitas) (1.3.2)\n",
      "Requirement already satisfied: cycler>=0.10 in /Users/anup/anup_prompt_venv/lib/python3.12/site-packages (from matplotlib>=3.0.3->aequitas) (0.12.1)\n",
      "Requirement already satisfied: fonttools>=4.22.0 in /Users/anup/anup_prompt_venv/lib/python3.12/site-packages (from matplotlib>=3.0.3->aequitas) (4.58.0)\n",
      "Requirement already satisfied: kiwisolver>=1.3.1 in /Users/anup/anup_prompt_venv/lib/python3.12/site-packages (from matplotlib>=3.0.3->aequitas) (1.4.8)\n",
      "Requirement already satisfied: packaging>=20.0 in /Users/anup/anup_prompt_venv/lib/python3.12/site-packages (from matplotlib>=3.0.3->aequitas) (24.2)\n",
      "Requirement already satisfied: pyparsing>=2.3.1 in /Users/anup/anup_prompt_venv/lib/python3.12/site-packages (from matplotlib>=3.0.3->aequitas) (3.2.3)\n",
      "Requirement already satisfied: python-dateutil>=2.7 in /Users/anup/anup_prompt_venv/lib/python3.12/site-packages (from matplotlib>=3.0.3->aequitas) (2.9.0.post0)\n",
      "Requirement already satisfied: pytz>=2020.1 in /Users/anup/anup_prompt_venv/lib/python3.12/site-packages (from pandas>=0.24.1->aequitas) (2025.1)\n",
      "Requirement already satisfied: tzdata>=2022.7 in /Users/anup/anup_prompt_venv/lib/python3.12/site-packages (from pandas>=0.24.1->aequitas) (2025.1)\n",
      "Requirement already satisfied: charset-normalizer in /Users/anup/anup_prompt_venv/lib/python3.12/site-packages (from reportlab>=3.0->xhtml2pdf==0.2.2->aequitas) (3.4.1)\n",
      "Requirement already satisfied: typing-extensions>=4.6.0 in /Users/anup/anup_prompt_venv/lib/python3.12/site-packages (from SQLAlchemy>=1.1.1->aequitas) (4.12.2)\n",
      "Requirement already satisfied: attrs>=22.2.0 in /Users/anup/anup_prompt_venv/lib/python3.12/site-packages (from jsonschema->altair==4.1.0->aequitas) (25.1.0)\n",
      "Requirement already satisfied: jsonschema-specifications>=2023.03.6 in /Users/anup/anup_prompt_venv/lib/python3.12/site-packages (from jsonschema->altair==4.1.0->aequitas) (2024.10.1)\n",
      "Requirement already satisfied: referencing>=0.28.4 in /Users/anup/anup_prompt_venv/lib/python3.12/site-packages (from jsonschema->altair==4.1.0->aequitas) (0.36.2)\n",
      "Requirement already satisfied: rpds-py>=0.7.1 in /Users/anup/anup_prompt_venv/lib/python3.12/site-packages (from jsonschema->altair==4.1.0->aequitas) (0.22.3)\n",
      "Downloading aequitas-0.42.0-py3-none-any.whl (2.2 MB)\n",
      "\u001b[2K   \u001b[90m━━━━━━━━━━━━━━━━━━━━━━━━━━━━━━━━━━━━━━━━\u001b[0m \u001b[32m2.2/2.2 MB\u001b[0m \u001b[31m18.8 MB/s\u001b[0m eta \u001b[36m0:00:00\u001b[0m\n",
      "\u001b[?25hDownloading altair-4.1.0-py3-none-any.whl (727 kB)\n",
      "\u001b[2K   \u001b[90m━━━━━━━━━━━━━━━━━━━━━━━━━━━━━━━━━━━━━━━━\u001b[0m \u001b[32m727.8/727.8 kB\u001b[0m \u001b[31m24.2 MB/s\u001b[0m eta \u001b[36m0:00:00\u001b[0m\n",
      "\u001b[?25hDownloading Flask-0.12.2-py2.py3-none-any.whl (83 kB)\n",
      "Downloading html5lib-1.1-py2.py3-none-any.whl (112 kB)\n",
      "Downloading ohio-0.5.0-py3-none-any.whl (26 kB)\n",
      "Downloading reportlab-4.4.2-py3-none-any.whl (2.0 MB)\n",
      "\u001b[2K   \u001b[90m━━━━━━━━━━━━━━━━━━━━━━━━━━━━━━━━━━━━━━━━\u001b[0m \u001b[32m2.0/2.0 MB\u001b[0m \u001b[31m42.4 MB/s\u001b[0m eta \u001b[36m0:00:00\u001b[0m\n",
      "\u001b[?25hDownloading dominate-2.9.1-py2.py3-none-any.whl (29 kB)\n",
      "Downloading entrypoints-0.4-py3-none-any.whl (5.3 kB)\n",
      "Downloading httplib2-0.22.0-py3-none-any.whl (96 kB)\n",
      "Downloading pypdf2-3.0.1-py3-none-any.whl (232 kB)\n",
      "Downloading toolz-1.0.0-py3-none-any.whl (56 kB)\n",
      "Building wheels for collected packages: Flask-Bootstrap, markdown2, millify, tabulate, xhtml2pdf, visitor\n",
      "\u001b[33m  DEPRECATION: Building 'Flask-Bootstrap' using the legacy setup.py bdist_wheel mechanism, which will be removed in a future version. pip 25.3 will enforce this behaviour change. A possible replacement is to use the standardized build interface by setting the `--use-pep517` option, (possibly combined with `--no-build-isolation`), or adding a `pyproject.toml` file to the source tree of 'Flask-Bootstrap'. Discussion can be found at https://github.com/pypa/pip/issues/6334\u001b[0m\u001b[33m\n",
      "\u001b[0m  Building wheel for Flask-Bootstrap (setup.py) ... \u001b[?25ldone\n",
      "\u001b[?25h  Created wheel for Flask-Bootstrap: filename=flask_bootstrap-3.3.7.1-py3-none-any.whl size=460169 sha256=99e4680f21fe0652d2fb1d3d49d73264bfbb6fd00917e7f92971683f632a6c58\n",
      "  Stored in directory: /Users/anup/Library/Caches/pip/wheels/6d/f7/48/c73d278a3ad5edb4754488c1c22a945d947e14ecdb042d198e\n",
      "\u001b[33m  DEPRECATION: Building 'markdown2' using the legacy setup.py bdist_wheel mechanism, which will be removed in a future version. pip 25.3 will enforce this behaviour change. A possible replacement is to use the standardized build interface by setting the `--use-pep517` option, (possibly combined with `--no-build-isolation`), or adding a `pyproject.toml` file to the source tree of 'markdown2'. Discussion can be found at https://github.com/pypa/pip/issues/6334\u001b[0m\u001b[33m\n",
      "\u001b[0m  Building wheel for markdown2 (setup.py) ... \u001b[?25ldone\n",
      "\u001b[?25h  Created wheel for markdown2: filename=markdown2-2.3.5-py3-none-any.whl size=33410 sha256=e56be0bbd8369f613c6f356ac1617343bd7266256fc0cae103aac4a922806fb6\n",
      "  Stored in directory: /Users/anup/Library/Caches/pip/wheels/8f/68/09/06fe386aa948be93bb9c1a4e8c931b352bb16b2ce1fc00a96d\n",
      "\u001b[33m  DEPRECATION: Building 'millify' using the legacy setup.py bdist_wheel mechanism, which will be removed in a future version. pip 25.3 will enforce this behaviour change. A possible replacement is to use the standardized build interface by setting the `--use-pep517` option, (possibly combined with `--no-build-isolation`), or adding a `pyproject.toml` file to the source tree of 'millify'. Discussion can be found at https://github.com/pypa/pip/issues/6334\u001b[0m\u001b[33m\n",
      "\u001b[0m  Building wheel for millify (setup.py) ... \u001b[?25ldone\n",
      "\u001b[?25h  Created wheel for millify: filename=millify-0.1.1-py3-none-any.whl size=1872 sha256=cdda5052088430ec75375ae5bf219bf4f8f02243afec35dc5a84b5db08cb17b8\n",
      "  Stored in directory: /Users/anup/Library/Caches/pip/wheels/b8/39/e1/f23a73139bf4a560fec2be36901f5814b7f9f87053f1a4a102\n",
      "\u001b[33m  DEPRECATION: Building 'tabulate' using the legacy setup.py bdist_wheel mechanism, which will be removed in a future version. pip 25.3 will enforce this behaviour change. A possible replacement is to use the standardized build interface by setting the `--use-pep517` option, (possibly combined with `--no-build-isolation`), or adding a `pyproject.toml` file to the source tree of 'tabulate'. Discussion can be found at https://github.com/pypa/pip/issues/6334\u001b[0m\u001b[33m\n",
      "\u001b[0m  Building wheel for tabulate (setup.py) ... \u001b[?25ldone\n",
      "\u001b[?25h  Created wheel for tabulate: filename=tabulate-0.8.2-py3-none-any.whl size=23602 sha256=b379bdafb18d1943c0c3e820b47301766f31ffec57cdcca1bff8cba115ea5d76\n",
      "  Stored in directory: /Users/anup/Library/Caches/pip/wheels/67/9f/30/0ac1be0d24c1ff7049b4a7bf420cdc07fd306587cd3997cbbf\n",
      "\u001b[33m  DEPRECATION: Building 'xhtml2pdf' using the legacy setup.py bdist_wheel mechanism, which will be removed in a future version. pip 25.3 will enforce this behaviour change. A possible replacement is to use the standardized build interface by setting the `--use-pep517` option, (possibly combined with `--no-build-isolation`), or adding a `pyproject.toml` file to the source tree of 'xhtml2pdf'. Discussion can be found at https://github.com/pypa/pip/issues/6334\u001b[0m\u001b[33m\n",
      "\u001b[0m  Building wheel for xhtml2pdf (setup.py) ... \u001b[?25ldone\n",
      "\u001b[?25h  Created wheel for xhtml2pdf: filename=xhtml2pdf-0.2.2-py3-none-any.whl size=301495 sha256=b59fb8cc2bac8b7b86d978d766cafe94ed0ad0dd2c9b77bb0accab1613210e90\n",
      "  Stored in directory: /Users/anup/Library/Caches/pip/wheels/57/b1/7f/8fc2b86781e6195194f6eb4033ef815b2d368300ead67ea7ce\n",
      "\u001b[33m  DEPRECATION: Building 'visitor' using the legacy setup.py bdist_wheel mechanism, which will be removed in a future version. pip 25.3 will enforce this behaviour change. A possible replacement is to use the standardized build interface by setting the `--use-pep517` option, (possibly combined with `--no-build-isolation`), or adding a `pyproject.toml` file to the source tree of 'visitor'. Discussion can be found at https://github.com/pypa/pip/issues/6334\u001b[0m\u001b[33m\n",
      "\u001b[0m  Building wheel for visitor (setup.py) ... \u001b[?25ldone\n",
      "\u001b[?25h  Created wheel for visitor: filename=visitor-0.1.3-py3-none-any.whl size=3997 sha256=5a5034c8c151c4d1c2e63c2e81f3a84b2b3f5ed98331359cd006dac08587b513\n",
      "  Stored in directory: /Users/anup/Library/Caches/pip/wheels/43/cd/2c/1ab9dfe7ed35891f3775f1d2a79159ff1903725461d44519d2\n",
      "Successfully built Flask-Bootstrap markdown2 millify tabulate xhtml2pdf visitor\n",
      "Installing collected packages: visitor, tabulate, ohio, millify, markdown2, toolz, reportlab, pyPdf2, httplib2, html5lib, entrypoints, dominate, xhtml2pdf, Flask, Flask-Bootstrap, altair, aequitas\n",
      "\u001b[2K  Attempting uninstall: tabulate\n",
      "\u001b[2K    Found existing installation: tabulate 0.9.0\n",
      "\u001b[2K    Uninstalling tabulate-0.9.0:\n",
      "\u001b[2K      Successfully uninstalled tabulate-0.9.0\n",
      "\u001b[2K  Attempting uninstall: Flask[90m╺\u001b[0m\u001b[90m━━━━━━━━━━━━━━━━━━━━━━━\u001b[0m \u001b[32m 7/17\u001b[0m [pyPdf2]ab]\n",
      "\u001b[2K    Found existing installation: Flask 3.0.3━━━━━━━━━━━━━━━━━━\u001b[0m \u001b[32m 7/17\u001b[0m [pyPdf2]\n",
      "\u001b[2K    Uninstalling Flask-3.0.3:╺\u001b[0m\u001b[90m━━━━━━━━━━━━━━━━━━━━━━━\u001b[0m \u001b[32m 7/17\u001b[0m [pyPdf2]\n",
      "\u001b[2K      Successfully uninstalled Flask-3.0.3━━━━━━━━━━━━━━━━━━━━\u001b[0m \u001b[32m 7/17\u001b[0m [pyPdf2]\n",
      "\u001b[2K  Attempting uninstall: altair━━━━━━━━\u001b[0m\u001b[91m╸\u001b[0m\u001b[90m━━━━━━━━━\u001b[0m \u001b[32m13/17\u001b[0m [Flask]\n",
      "\u001b[2K    Found existing installation: altair 5.5.0[0m\u001b[90m━━━━━━━━━\u001b[0m \u001b[32m13/17\u001b[0m [Flask]\n",
      "\u001b[2K    Uninstalling altair-5.5.0:━━━━\u001b[0m\u001b[91m╸\u001b[0m\u001b[90m━━━━━━━━━\u001b[0m \u001b[32m13/17\u001b[0m [Flask]\n",
      "\u001b[2K      Successfully uninstalled altair-5.5.0╸\u001b[0m\u001b[90m━━━━━━━━━\u001b[0m \u001b[32m13/17\u001b[0m [Flask]\n",
      "\u001b[2K   \u001b[90m━━━━━━━━━━━━━━━━━━━━━━━━━━━━━━━━━━━━━━━━\u001b[0m \u001b[32m17/17\u001b[0m [aequitas]/17\u001b[0m [altair]\n",
      "\u001b[1A\u001b[2K\u001b[31mERROR: pip's dependency resolver does not currently take into account all the packages that are installed. This behaviour is the source of the following dependency conflicts.\n",
      "dash 3.0.4 requires Flask<3.1,>=1.0.4, but you have flask 0.12.2 which is incompatible.\u001b[0m\u001b[31m\n",
      "\u001b[0mSuccessfully installed Flask-0.12.2 Flask-Bootstrap-3.3.7.1 aequitas-0.42.0 altair-4.1.0 dominate-2.9.1 entrypoints-0.4 html5lib-1.1 httplib2-0.22.0 markdown2-2.3.5 millify-0.1.1 ohio-0.5.0 pyPdf2-3.0.1 reportlab-4.4.2 tabulate-0.8.2 toolz-1.0.0 visitor-0.1.3 xhtml2pdf-0.2.2\n"
     ]
    }
   ],
   "source": [
    "# Aequitas\n",
    "!pip install aequitas\n",
    "from aequitas.preprocessing import preprocess_input_df\n",
    "from aequitas.group import Group\n",
    "from aequitas.plotting import Plot\n",
    "from aequitas.bias import Bias\n",
    "from aequitas.fairness import Fairness"
   ]
  },
  {
   "cell_type": "code",
   "execution_count": 83,
   "metadata": {},
   "outputs": [],
   "source": [
    "# ## Preparing Data for Aequitas Fairness and Bias Analysis\n",
    "# - **Library Used:** Aequitas (https://github.com/dssg/aequitas) is a bias and fairness audit toolkit for machine learning models.\n",
    "# - **Line-by-Line Explanation:**\n",
    "#   - `ae_df, _ = preprocess_input_df(merged_binary_df)`: Preprocesses the merged DataFrame into the format required by Aequitas, extracting relevant columns and formatting them for group analysis.\n",
    "#   - `g = Group()`: Instantiates the `Group` class from Aequitas, which is used to compute group metrics.\n",
    "#   - `xtab, _ = g.get_crosstabs(ae_df)`: Computes crosstabs (group metrics) for the preprocessed DataFrame, returning a DataFrame with metrics like TPR, FPR, etc., for each group.\n",
    "#   - `absolute_metrics = g.list_absolute_metrics(xtab)`: Lists all absolute metrics calculated in the crosstab DataFrame.\n",
    "#   - `clean_xtab = xtab.fillna(-1)`: Fills any missing values (NaN) in the crosstab DataFrame with -1 for easier plotting and analysis.\n",
    "#   - `aqp = Plot()`: Instantiates the `Plot` class from Aequitas for visualizing group metrics.\n",
    "#   - `b = Bias()`: Instantiates the `Bias` class from Aequitas, which can be used for bias analysis and reporting.\n",
    "#\n",
    "\n",
    "ae_df, _ = preprocess_input_df(merged_binary_df)\n",
    "g = Group()\n",
    "xtab, _ = g.get_crosstabs(ae_df)\n",
    "absolute_metrics = g.list_absolute_metrics(xtab)\n",
    "clean_xtab = xtab.fillna(-1)\n",
    "aqp = Plot()\n",
    "b = Bias()"
   ]
  },
  {
   "cell_type": "markdown",
   "metadata": {},
   "source": [
    "### Analyze Groups"
   ]
  },
  {
   "cell_type": "code",
   "execution_count": 86,
   "metadata": {},
   "outputs": [
    {
     "data": {
      "image/png": "[encoded data removed]",
      "text/plain": [
       "<Figure size 1000x500 with 1 Axes>"
      ]
     },
     "metadata": {},
     "output_type": "display_data"
    }
   ],
   "source": [
    "# ## Visualizing True Positive Rate (TPR) by Group with Aequitas\n",
    "# - **Library Used:** Aequitas (https://github.com/dssg/aequitas) is a toolkit for auditing bias and fairness in machine learning models.\n",
    "# - **Code Explanation:**\n",
    "#   - `aqp.plot_group_metric(clean_xtab, 'tpr', min_group_size=0.05)`: Plots the True Positive Rate (TPR) for each group in the data.\n",
    "#       - `clean_xtab`: The crosstab DataFrame containing group metrics, with missing values filled.\n",
    "#       - `'tpr'`: The metric to plot, here the True Positive Rate.\n",
    "#       - `min_group_size=0.05`: Only groups with at least 5% of the total population are included in the plot.\n",
    "# - **Key Parameters:**\n",
    "#   - `clean_xtab`: DataFrame with group metrics.\n",
    "#   - `metric`: String specifying which metric to plot (e.g., 'tpr').\n",
    "#   - `min_group_size`: Minimum fraction of total entities for a group to be included in the plot.\n",
    "#\n",
    "tpr = aqp.plot_group_metric(clean_xtab, 'tpr', min_group_size=0.05)"
   ]
  },
  {
   "cell_type": "code",
   "execution_count": 87,
   "metadata": {},
   "outputs": [
    {
     "data": {
      "image/png": "[encoded data removed]",
      "text/plain": [
       "<Figure size 1000x500 with 1 Axes>"
      ]
     },
     "metadata": {},
     "output_type": "display_data"
    }
   ],
   "source": [
    "# ## Visualizing False Positive Rate (FPR) by Group with Aequitas\n",
    "# - **Library Used:** Aequitas (https://github.com/dssg/aequitas) is a toolkit for auditing bias and fairness in machine learning models.\n",
    "# - **Code Explanation:**\n",
    "#   - `aqp.plot_group_metric(clean_xtab, 'fpr', min_group_size=0.05)`: Plots the False Positive Rate (FPR) for each group in the data.\n",
    "#       - `clean_xtab`: The crosstab DataFrame containing group metrics, with missing values filled.\n",
    "#       - `'fpr'`: The metric to plot, here the False Positive Rate.\n",
    "#       - `min_group_size=0.05`: Only groups with at least 5% of the total population are included in the plot.\n",
    "# - **Key Parameters:**\n",
    "#   - `clean_xtab`: DataFrame with group metrics.\n",
    "#   - `metric`: String specifying which metric to plot (e.g., 'fpr').\n",
    "#   - `min_group_size`: Minimum fraction of total entities for a group to be included in the plot.\n",
    "#\n",
    "fpr = aqp.plot_group_metric(clean_xtab, 'fpr', min_group_size=0.05)"
   ]
  },
  {
   "cell_type": "code",
   "execution_count": 88,
   "metadata": {},
   "outputs": [
    {
     "data": {
      "image/png": "[encoded data removed]",
      "text/plain": [
       "<Figure size 1000x500 with 1 Axes>"
      ]
     },
     "metadata": {},
     "output_type": "display_data"
    }
   ],
   "source": [
    "# ## Visualizing True Negative Rate (TNR) by Group with Aequitas\n",
    "tnr = aqp.plot_group_metric(clean_xtab, 'tnr', min_group_size=0.05)"
   ]
  },
  {
   "cell_type": "code",
   "execution_count": null,
   "metadata": {},
   "outputs": [],
   "source": [
    "# ## Generating a Bias and Fairness Report with Aequitas\n",
    "# - **Library Used:** Aequitas (http://aequitas.dssg.io/) is an open-source bias and fairness audit toolkit for machine learning models.\n",
    "# - **Purpose:** This block is intended to generate a bias and fairness report for the model's predictions using the Aequitas library.\n",
    "# - **How it Works:**\n",
    "#   - The code below is a placeholder for generating a bias report, which typically involves using Aequitas to analyze model predictions and group metrics.\n",
    "#   - Aequitas provides functions to preprocess input data, compute group metrics, and visualize or export fairness and bias reports.\n",
    "# - **Key Parameters:**\n",
    "#   - Input DataFrame: Should include columns for predicted scores, actual labels, and group membership (e.g., 'origin').\n",
    "#   - Metrics: Aequitas computes metrics such as TPR (True Positive Rate), FPR (False Positive Rate), and others for each group.\n",
    "#   - Visualization: Aequitas can generate plots and HTML reports for further analysis.\n",
    "#\n",
    "\n",
    "# Bias Report - http://aequitas.dssg.io/audit/eg1cp7ku/adult_rf_binary/"
   ]
  },
  {
   "cell_type": "markdown",
   "metadata": {},
   "source": [
    "## 4. Train Uncertainty Estimation Model with TF Probability"
   ]
  },
  {
   "cell_type": "markdown",
   "metadata": {},
   "source": [
    "### Instructions\n",
    "- Using MPG model from earlier, create uncertainty estimation model with TF Probability.\n",
    "- In particular, we will focus on building a model that accounts for Aleatoric Uncertainty."
   ]
  },
  {
   "cell_type": "code",
   "execution_count": 94,
   "metadata": {},
   "outputs": [
    {
     "name": "stdout",
     "output_type": "stream",
     "text": [
      "Requirement already satisfied: tensorflow in /Users/anup/anup_prompt_venv/lib/python3.12/site-packages (2.19.0)\n",
      "Requirement already satisfied: tensorflow_probability in /Users/anup/anup_prompt_venv/lib/python3.12/site-packages (0.25.0)\n",
      "Requirement already satisfied: absl-py>=1.0.0 in /Users/anup/anup_prompt_venv/lib/python3.12/site-packages (from tensorflow) (2.2.2)\n",
      "Requirement already satisfied: astunparse>=1.6.0 in /Users/anup/anup_prompt_venv/lib/python3.12/site-packages (from tensorflow) (1.6.3)\n",
      "Requirement already satisfied: flatbuffers>=24.3.25 in /Users/anup/anup_prompt_venv/lib/python3.12/site-packages (from tensorflow) (25.2.10)\n",
      "Requirement already satisfied: gast!=0.5.0,!=0.5.1,!=0.5.2,>=0.2.1 in /Users/anup/anup_prompt_venv/lib/python3.12/site-packages (from tensorflow) (0.6.0)\n",
      "Requirement already satisfied: google-pasta>=0.1.1 in /Users/anup/anup_prompt_venv/lib/python3.12/site-packages (from tensorflow) (0.2.0)\n",
      "Requirement already satisfied: libclang>=13.0.0 in /Users/anup/anup_prompt_venv/lib/python3.12/site-packages (from tensorflow) (18.1.1)\n",
      "Requirement already satisfied: opt-einsum>=2.3.2 in /Users/anup/anup_prompt_venv/lib/python3.12/site-packages (from tensorflow) (3.4.0)\n",
      "Requirement already satisfied: packaging in /Users/anup/anup_prompt_venv/lib/python3.12/site-packages (from tensorflow) (24.2)\n",
      "Requirement already satisfied: protobuf!=4.21.0,!=4.21.1,!=4.21.2,!=4.21.3,!=4.21.4,!=4.21.5,<6.0.0dev,>=3.20.3 in /Users/anup/anup_prompt_venv/lib/python3.12/site-packages (from tensorflow) (5.29.3)\n",
      "Requirement already satisfied: requests<3,>=2.21.0 in /Users/anup/anup_prompt_venv/lib/python3.12/site-packages (from tensorflow) (2.32.3)\n",
      "Requirement already satisfied: setuptools in /Users/anup/anup_prompt_venv/lib/python3.12/site-packages (from tensorflow) (80.8.0)\n",
      "Requirement already satisfied: six>=1.12.0 in /Users/anup/anup_prompt_venv/lib/python3.12/site-packages (from tensorflow) (1.17.0)\n",
      "Requirement already satisfied: termcolor>=1.1.0 in /Users/anup/anup_prompt_venv/lib/python3.12/site-packages (from tensorflow) (3.1.0)\n",
      "Requirement already satisfied: typing-extensions>=3.6.6 in /Users/anup/anup_prompt_venv/lib/python3.12/site-packages (from tensorflow) (4.12.2)\n",
      "Requirement already satisfied: wrapt>=1.11.0 in /Users/anup/anup_prompt_venv/lib/python3.12/site-packages (from tensorflow) (1.17.2)\n",
      "Requirement already satisfied: grpcio<2.0,>=1.24.3 in /Users/anup/anup_prompt_venv/lib/python3.12/site-packages (from tensorflow) (1.71.0)\n",
      "Requirement already satisfied: tensorboard~=2.19.0 in /Users/anup/anup_prompt_venv/lib/python3.12/site-packages (from tensorflow) (2.19.0)\n",
      "Requirement already satisfied: keras>=3.5.0 in /Users/anup/anup_prompt_venv/lib/python3.12/site-packages (from tensorflow) (3.10.0)\n",
      "Requirement already satisfied: numpy<2.2.0,>=1.26.0 in /Users/anup/anup_prompt_venv/lib/python3.12/site-packages (from tensorflow) (2.1.3)\n",
      "Requirement already satisfied: h5py>=3.11.0 in /Users/anup/anup_prompt_venv/lib/python3.12/site-packages (from tensorflow) (3.13.0)\n",
      "Requirement already satisfied: ml-dtypes<1.0.0,>=0.5.1 in /Users/anup/anup_prompt_venv/lib/python3.12/site-packages (from tensorflow) (0.5.1)\n",
      "Requirement already satisfied: charset-normalizer<4,>=2 in /Users/anup/anup_prompt_venv/lib/python3.12/site-packages (from requests<3,>=2.21.0->tensorflow) (3.4.1)\n",
      "Requirement already satisfied: idna<4,>=2.5 in /Users/anup/anup_prompt_venv/lib/python3.12/site-packages (from requests<3,>=2.21.0->tensorflow) (3.10)\n",
      "Requirement already satisfied: urllib3<3,>=1.21.1 in /Users/anup/anup_prompt_venv/lib/python3.12/site-packages (from requests<3,>=2.21.0->tensorflow) (2.3.0)\n",
      "Requirement already satisfied: certifi>=2017.4.17 in /Users/anup/anup_prompt_venv/lib/python3.12/site-packages (from requests<3,>=2.21.0->tensorflow) (2025.1.31)\n",
      "Requirement already satisfied: markdown>=2.6.8 in /Users/anup/anup_prompt_venv/lib/python3.12/site-packages (from tensorboard~=2.19.0->tensorflow) (3.8)\n",
      "Requirement already satisfied: tensorboard-data-server<0.8.0,>=0.7.0 in /Users/anup/anup_prompt_venv/lib/python3.12/site-packages (from tensorboard~=2.19.0->tensorflow) (0.7.2)\n",
      "Requirement already satisfied: werkzeug>=1.0.1 in /Users/anup/anup_prompt_venv/lib/python3.12/site-packages (from tensorboard~=2.19.0->tensorflow) (3.0.6)\n",
      "Requirement already satisfied: decorator in /Users/anup/anup_prompt_venv/lib/python3.12/site-packages (from tensorflow_probability) (5.1.1)\n",
      "Requirement already satisfied: cloudpickle>=1.3 in /Users/anup/anup_prompt_venv/lib/python3.12/site-packages (from tensorflow_probability) (3.1.1)\n",
      "Requirement already satisfied: dm-tree in /Users/anup/anup_prompt_venv/lib/python3.12/site-packages (from tensorflow_probability) (0.1.9)\n",
      "Requirement already satisfied: wheel<1.0,>=0.23.0 in /Users/anup/anup_prompt_venv/lib/python3.12/site-packages (from astunparse>=1.6.0->tensorflow) (0.45.1)\n",
      "Requirement already satisfied: rich in /Users/anup/anup_prompt_venv/lib/python3.12/site-packages (from keras>=3.5.0->tensorflow) (13.9.4)\n",
      "Requirement already satisfied: namex in /Users/anup/anup_prompt_venv/lib/python3.12/site-packages (from keras>=3.5.0->tensorflow) (0.0.9)\n",
      "Requirement already satisfied: optree in /Users/anup/anup_prompt_venv/lib/python3.12/site-packages (from keras>=3.5.0->tensorflow) (0.15.0)\n",
      "Requirement already satisfied: MarkupSafe>=2.1.1 in /Users/anup/anup_prompt_venv/lib/python3.12/site-packages (from werkzeug>=1.0.1->tensorboard~=2.19.0->tensorflow) (3.0.2)\n",
      "Requirement already satisfied: attrs>=18.2.0 in /Users/anup/anup_prompt_venv/lib/python3.12/site-packages (from dm-tree->tensorflow_probability) (25.1.0)\n",
      "Requirement already satisfied: markdown-it-py>=2.2.0 in /Users/anup/anup_prompt_venv/lib/python3.12/site-packages (from rich->keras>=3.5.0->tensorflow) (3.0.0)\n",
      "Requirement already satisfied: pygments<3.0.0,>=2.13.0 in /Users/anup/anup_prompt_venv/lib/python3.12/site-packages (from rich->keras>=3.5.0->tensorflow) (2.18.0)\n",
      "Requirement already satisfied: mdurl~=0.1 in /Users/anup/anup_prompt_venv/lib/python3.12/site-packages (from markdown-it-py>=2.2.0->rich->keras>=3.5.0->tensorflow) (0.1.2)\n",
      "Requirement already satisfied: tensorflow-probability[tf] in /Users/anup/anup_prompt_venv/lib/python3.12/site-packages (0.25.0)\n",
      "Requirement already satisfied: absl-py in /Users/anup/anup_prompt_venv/lib/python3.12/site-packages (from tensorflow-probability[tf]) (2.2.2)\n",
      "Requirement already satisfied: six>=1.10.0 in /Users/anup/anup_prompt_venv/lib/python3.12/site-packages (from tensorflow-probability[tf]) (1.17.0)\n",
      "Requirement already satisfied: numpy>=1.13.3 in /Users/anup/anup_prompt_venv/lib/python3.12/site-packages (from tensorflow-probability[tf]) (2.1.3)\n",
      "Requirement already satisfied: decorator in /Users/anup/anup_prompt_venv/lib/python3.12/site-packages (from tensorflow-probability[tf]) (5.1.1)\n",
      "Requirement already satisfied: cloudpickle>=1.3 in /Users/anup/anup_prompt_venv/lib/python3.12/site-packages (from tensorflow-probability[tf]) (3.1.1)\n",
      "Requirement already satisfied: gast>=0.3.2 in /Users/anup/anup_prompt_venv/lib/python3.12/site-packages (from tensorflow-probability[tf]) (0.6.0)\n",
      "Requirement already satisfied: dm-tree in /Users/anup/anup_prompt_venv/lib/python3.12/site-packages (from tensorflow-probability[tf]) (0.1.9)\n",
      "Requirement already satisfied: tensorflow>=2.16 in /Users/anup/anup_prompt_venv/lib/python3.12/site-packages (from tensorflow-probability[tf]) (2.19.0)\n",
      "Collecting tf-keras>=2.16 (from tensorflow-probability[tf])\n",
      "  Downloading tf_keras-2.19.0-py3-none-any.whl.metadata (1.8 kB)\n",
      "Requirement already satisfied: astunparse>=1.6.0 in /Users/anup/anup_prompt_venv/lib/python3.12/site-packages (from tensorflow>=2.16->tensorflow-probability[tf]) (1.6.3)\n",
      "Requirement already satisfied: flatbuffers>=24.3.25 in /Users/anup/anup_prompt_venv/lib/python3.12/site-packages (from tensorflow>=2.16->tensorflow-probability[tf]) (25.2.10)\n",
      "Requirement already satisfied: google-pasta>=0.1.1 in /Users/anup/anup_prompt_venv/lib/python3.12/site-packages (from tensorflow>=2.16->tensorflow-probability[tf]) (0.2.0)\n",
      "Requirement already satisfied: libclang>=13.0.0 in /Users/anup/anup_prompt_venv/lib/python3.12/site-packages (from tensorflow>=2.16->tensorflow-probability[tf]) (18.1.1)\n",
      "Requirement already satisfied: opt-einsum>=2.3.2 in /Users/anup/anup_prompt_venv/lib/python3.12/site-packages (from tensorflow>=2.16->tensorflow-probability[tf]) (3.4.0)\n",
      "Requirement already satisfied: packaging in /Users/anup/anup_prompt_venv/lib/python3.12/site-packages (from tensorflow>=2.16->tensorflow-probability[tf]) (24.2)\n",
      "Requirement already satisfied: protobuf!=4.21.0,!=4.21.1,!=4.21.2,!=4.21.3,!=4.21.4,!=4.21.5,<6.0.0dev,>=3.20.3 in /Users/anup/anup_prompt_venv/lib/python3.12/site-packages (from tensorflow>=2.16->tensorflow-probability[tf]) (5.29.3)\n",
      "Requirement already satisfied: requests<3,>=2.21.0 in /Users/anup/anup_prompt_venv/lib/python3.12/site-packages (from tensorflow>=2.16->tensorflow-probability[tf]) (2.32.3)\n",
      "Requirement already satisfied: setuptools in /Users/anup/anup_prompt_venv/lib/python3.12/site-packages (from tensorflow>=2.16->tensorflow-probability[tf]) (80.8.0)\n",
      "Requirement already satisfied: termcolor>=1.1.0 in /Users/anup/anup_prompt_venv/lib/python3.12/site-packages (from tensorflow>=2.16->tensorflow-probability[tf]) (3.1.0)\n",
      "Requirement already satisfied: typing-extensions>=3.6.6 in /Users/anup/anup_prompt_venv/lib/python3.12/site-packages (from tensorflow>=2.16->tensorflow-probability[tf]) (4.12.2)\n",
      "Requirement already satisfied: wrapt>=1.11.0 in /Users/anup/anup_prompt_venv/lib/python3.12/site-packages (from tensorflow>=2.16->tensorflow-probability[tf]) (1.17.2)\n",
      "Requirement already satisfied: grpcio<2.0,>=1.24.3 in /Users/anup/anup_prompt_venv/lib/python3.12/site-packages (from tensorflow>=2.16->tensorflow-probability[tf]) (1.71.0)\n",
      "Requirement already satisfied: tensorboard~=2.19.0 in /Users/anup/anup_prompt_venv/lib/python3.12/site-packages (from tensorflow>=2.16->tensorflow-probability[tf]) (2.19.0)\n",
      "Requirement already satisfied: keras>=3.5.0 in /Users/anup/anup_prompt_venv/lib/python3.12/site-packages (from tensorflow>=2.16->tensorflow-probability[tf]) (3.10.0)\n",
      "Requirement already satisfied: h5py>=3.11.0 in /Users/anup/anup_prompt_venv/lib/python3.12/site-packages (from tensorflow>=2.16->tensorflow-probability[tf]) (3.13.0)\n",
      "Requirement already satisfied: ml-dtypes<1.0.0,>=0.5.1 in /Users/anup/anup_prompt_venv/lib/python3.12/site-packages (from tensorflow>=2.16->tensorflow-probability[tf]) (0.5.1)\n",
      "Requirement already satisfied: charset-normalizer<4,>=2 in /Users/anup/anup_prompt_venv/lib/python3.12/site-packages (from requests<3,>=2.21.0->tensorflow>=2.16->tensorflow-probability[tf]) (3.4.1)\n",
      "Requirement already satisfied: idna<4,>=2.5 in /Users/anup/anup_prompt_venv/lib/python3.12/site-packages (from requests<3,>=2.21.0->tensorflow>=2.16->tensorflow-probability[tf]) (3.10)\n",
      "Requirement already satisfied: urllib3<3,>=1.21.1 in /Users/anup/anup_prompt_venv/lib/python3.12/site-packages (from requests<3,>=2.21.0->tensorflow>=2.16->tensorflow-probability[tf]) (2.3.0)\n",
      "Requirement already satisfied: certifi>=2017.4.17 in /Users/anup/anup_prompt_venv/lib/python3.12/site-packages (from requests<3,>=2.21.0->tensorflow>=2.16->tensorflow-probability[tf]) (2025.1.31)\n",
      "Requirement already satisfied: markdown>=2.6.8 in /Users/anup/anup_prompt_venv/lib/python3.12/site-packages (from tensorboard~=2.19.0->tensorflow>=2.16->tensorflow-probability[tf]) (3.8)\n",
      "Requirement already satisfied: tensorboard-data-server<0.8.0,>=0.7.0 in /Users/anup/anup_prompt_venv/lib/python3.12/site-packages (from tensorboard~=2.19.0->tensorflow>=2.16->tensorflow-probability[tf]) (0.7.2)\n",
      "Requirement already satisfied: werkzeug>=1.0.1 in /Users/anup/anup_prompt_venv/lib/python3.12/site-packages (from tensorboard~=2.19.0->tensorflow>=2.16->tensorflow-probability[tf]) (3.0.6)\n",
      "Requirement already satisfied: wheel<1.0,>=0.23.0 in /Users/anup/anup_prompt_venv/lib/python3.12/site-packages (from astunparse>=1.6.0->tensorflow>=2.16->tensorflow-probability[tf]) (0.45.1)\n",
      "Requirement already satisfied: rich in /Users/anup/anup_prompt_venv/lib/python3.12/site-packages (from keras>=3.5.0->tensorflow>=2.16->tensorflow-probability[tf]) (13.9.4)\n",
      "Requirement already satisfied: namex in /Users/anup/anup_prompt_venv/lib/python3.12/site-packages (from keras>=3.5.0->tensorflow>=2.16->tensorflow-probability[tf]) (0.0.9)\n",
      "Requirement already satisfied: optree in /Users/anup/anup_prompt_venv/lib/python3.12/site-packages (from keras>=3.5.0->tensorflow>=2.16->tensorflow-probability[tf]) (0.15.0)\n",
      "Requirement already satisfied: MarkupSafe>=2.1.1 in /Users/anup/anup_prompt_venv/lib/python3.12/site-packages (from werkzeug>=1.0.1->tensorboard~=2.19.0->tensorflow>=2.16->tensorflow-probability[tf]) (3.0.2)\n",
      "Requirement already satisfied: attrs>=18.2.0 in /Users/anup/anup_prompt_venv/lib/python3.12/site-packages (from dm-tree->tensorflow-probability[tf]) (25.1.0)\n",
      "Requirement already satisfied: markdown-it-py>=2.2.0 in /Users/anup/anup_prompt_venv/lib/python3.12/site-packages (from rich->keras>=3.5.0->tensorflow>=2.16->tensorflow-probability[tf]) (3.0.0)\n",
      "Requirement already satisfied: pygments<3.0.0,>=2.13.0 in /Users/anup/anup_prompt_venv/lib/python3.12/site-packages (from rich->keras>=3.5.0->tensorflow>=2.16->tensorflow-probability[tf]) (2.18.0)\n",
      "Requirement already satisfied: mdurl~=0.1 in /Users/anup/anup_prompt_venv/lib/python3.12/site-packages (from markdown-it-py>=2.2.0->rich->keras>=3.5.0->tensorflow>=2.16->tensorflow-probability[tf]) (0.1.2)\n",
      "Downloading tf_keras-2.19.0-py3-none-any.whl (1.7 MB)\n",
      "\u001b[2K   \u001b[90m━━━━━━━━━━━━━━━━━━━━━━━━━━━━━━━━━━━━━━━━\u001b[0m \u001b[32m1.7/1.7 MB\u001b[0m \u001b[31m12.7 MB/s\u001b[0m eta \u001b[36m0:00:00\u001b[0m \u001b[36m0:00:01\u001b[0m\n",
      "\u001b[?25hInstalling collected packages: tf-keras\n",
      "Successfully installed tf-keras-2.19.0\n"
     ]
    }
   ],
   "source": [
    "!pip install --upgrade tensorflow tensorflow_probability\n",
    "!pip install \"tensorflow-probability[tf]\"\n",
    "import tensorflow_probability as tfp"
   ]
  },
  {
   "cell_type": "markdown",
   "metadata": {},
   "source": [
    "### Aleatoric Uncertainty\n",
    "- Known Unknowns\n",
    "- 2 Main Changes to our network \n",
    "    - Add a second unit to the last dense layer before passing it to Tensorflow Probability layer to model for the predictor y and the heteroscedasticity or unequal scattering of data\n",
    "    - DistributionLambda distribution mean and std\n",
    "- DistributionLambda is a special Keras layer that uses a Python lambda to construct a distribution based on the layer inputs and the output of the final layer of the model is passed into the loss function. Lastly. this model will return a distribution for both mean and standard deviation."
   ]
  },
  {
   "cell_type": "code",
   "execution_count": 95,
   "metadata": {},
   "outputs": [
    {
     "data": {
      "application/vnd.microsoft.datawrangler.viewer.v0+json": {
       "columns": [
        {
         "name": "index",
         "rawType": "object",
         "type": "string"
        },
        {
         "name": "MPG",
         "rawType": "float64",
         "type": "float"
        }
       ],
       "ref": "7a736b12-d973-41bf-b5a5-ce4f3f308ccf",
       "rows": [
        [
         "count",
         "314.0"
        ],
        [
         "mean",
         "23.31050955414013"
        ],
        [
         "std",
         "7.72865199891648"
        ],
        [
         "min",
         "10.0"
        ],
        [
         "25%",
         "17.0"
        ],
        [
         "50%",
         "22.0"
        ],
        [
         "75%",
         "28.95"
        ],
        [
         "max",
         "46.6"
        ]
       ],
       "shape": {
        "columns": 1,
        "rows": 8
       }
      },
      "text/plain": [
       "count    314.000000\n",
       "mean      23.310510\n",
       "std        7.728652\n",
       "min       10.000000\n",
       "25%       17.000000\n",
       "50%       22.000000\n",
       "75%       28.950000\n",
       "max       46.600000\n",
       "Name: MPG, dtype: float64"
      ]
     },
     "execution_count": 95,
     "metadata": {},
     "output_type": "execute_result"
    }
   ],
   "source": [
    "# ## Statistical Summary of Training Labels\n",
    "train_label_stats = train_labels.describe()\n",
    "train_label_stats"
   ]
  },
  {
   "cell_type": "code",
   "execution_count": 96,
   "metadata": {},
   "outputs": [],
   "source": [
    "# ## Building a Probabilistic Regression Model with TensorFlow Probability\n",
    "# - **Library Used:** TensorFlow Probability (`tensorflow_probability` or `tfp`) is an open-source library for probabilistic reasoning and statistical analysis in TensorFlow. It provides tools for building models that output probability distributions, enabling uncertainty estimation in predictions.\n",
    "# - **Explanation of Code Block:**\n",
    "#   - `def build_seq_prob_model(feature_layer):`\n",
    "#     Defines a function to build a Keras Sequential model for probabilistic regression.\n",
    "#   - `feature_layer`: The input feature transformation layer (e.g., DenseFeatures or preprocessing model).\n",
    "#   - `tf.keras.layers.Dense(150, activation='relu')` and `tf.keras.layers.Dense(75, activation='relu')`:\n",
    "#     Add two hidden dense layers with ReLU activation for feature extraction.\n",
    "#   - `tf.keras.layers.Dense(1 + 1)`:\n",
    "#     Outputs two values per sample: one for the predicted mean and one for the predicted standard deviation (aleatoric uncertainty).\n",
    "#   - `tfp.layers.DistributionLambda(...)`:\n",
    "#     Wraps the output into a probabilistic distribution. Here, it creates a Normal distribution with:\n",
    "#       - `loc=t[..., :1]`: The mean of the distribution (first output).\n",
    "#       - `scale=1e-3 + tf.math.softplus(0.1 * t[...,1:])`: The standard deviation, transformed to ensure positivity and numerical stability.\n",
    "#   - `def build_prob_model(train_ds, feature_layer, epochs=5, loss_metric='mse'):`\n",
    "#     Defines a function to compile and train the probabilistic model.\n",
    "#   - `negloglik = lambda y, rv_y: -rv_y.log_prob(y)`:\n",
    "#     Defines the negative log-likelihood loss for probabilistic regression.\n",
    "#   - `model.compile(...)`:\n",
    "#     Compiles the model with the Adam optimizer, negative log-likelihood loss, and an additional metric (default: 'mse').\n",
    "#   - `model.fit(train_ds, epochs=epochs)`:\n",
    "#     Trains the model on the provided dataset for the specified number of epochs.\n",
    "# - **Key Parameters:**\n",
    "#   - `feature_layer`: Input transformation layer for features.\n",
    "#   - `epochs`: Number of training epochs.\n",
    "#   - `loss_metric`: Additional metric to monitor during training.\n",
    "#   - `DistributionLambda`: Used to output a distribution instead of a point estimate.\n",
    "#\n",
    "def build_seq_prob_model(feature_layer):\n",
    "    model = tf.keras.Sequential([\n",
    "        feature_layer,\n",
    "        tf.keras.layers.Dense(150, activation='relu'),\n",
    "        tf.keras.layers.Dense(75, activation='relu'),\n",
    "        tf.keras.layers.Dense(1 + 1),\n",
    "        tfp.layers.DistributionLambda(\n",
    "            lambda t:tfp.distributions.Normal(\n",
    "                loc=t[..., :1],\n",
    "                scale=1e-3 + tf.math.softplus(0.1 * t[...,1:])\n",
    "\n",
    "            )\n",
    "         )\n",
    "\n",
    "\n",
    "\n",
    "    ])\n",
    "    return model\n",
    "\n",
    "def build_prob_model(train_ds,   feature_layer,  epochs=5, loss_metric='mse'):\n",
    "    model = build_seq_prob_model(feature_layer)\n",
    "    negloglik = lambda y, rv_y: -rv_y.log_prob(y)\n",
    "    loss = negloglik\n",
    "    model.compile(tf.optimizers.Adam(learning_rate=0.05), loss=loss, metrics=[loss_metric])\n",
    "    history = model.fit(train_ds,\n",
    "                        epochs=epochs)\n",
    "    return model, history"
   ]
  },
  {
   "cell_type": "markdown",
   "metadata": {},
   "source": [
    "### Train Probability Model"
   ]
  },
  {
   "cell_type": "code",
   "execution_count": 104,
   "metadata": {},
   "outputs": [
    {
     "ename": "ValueError",
     "evalue": "Exception encountered when calling layer 'distribution_lambda_2' (type DistributionLambda).\n\nA KerasTensor cannot be used as input to a TensorFlow function. A KerasTensor is a symbolic placeholder for a shape and dtype, used when constructing Keras Functional models or Keras Functions. You can only use it as input to a Keras layer or a Keras operation (from the namespaces `keras.layers` and `keras.ops`). You are likely doing something like:\n\n```\nx = Input(...)\n...\ntf_fn(x)  # Invalid.\n```\n\nWhat you should do instead is wrap `tf_fn` in a layer:\n\n```\nclass MyLayer(Layer):\n    def call(self, x):\n        return tf_fn(x)\n\nx = MyLayer()(x)\n```\n\n\nCall arguments received by layer 'distribution_lambda_2' (type DistributionLambda):\n  • inputs=<KerasTensor shape=(None, 2), dtype=float32, sparse=False, ragged=False, name=keras_tensor_19>\n  • args=<class 'inspect._empty'>\n  • kwargs={'training': 'None'}",
     "output_type": "error",
     "traceback": [
      "\u001b[0;31m---------------------------------------------------------------------------\u001b[0m",
      "\u001b[0;31mValueError\u001b[0m                                Traceback (most recent call last)",
      "Cell \u001b[0;32mIn[104], line 25\u001b[0m\n\u001b[1;32m     22\u001b[0m     history \u001b[38;5;241m=\u001b[39m model\u001b[38;5;241m.\u001b[39mfit(train_ds, epochs\u001b[38;5;241m=\u001b[39mepochs)\n\u001b[1;32m     23\u001b[0m     \u001b[38;5;28;01mreturn\u001b[39;00m model, history\n\u001b[0;32m---> 25\u001b[0m prob_model, history \u001b[38;5;241m=\u001b[39m \u001b[43mbuild_prob_model\u001b[49m\u001b[43m(\u001b[49m\u001b[43mtrain_ds\u001b[49m\u001b[43m,\u001b[49m\u001b[43m \u001b[49m\u001b[43mpreprocessing_model\u001b[49m\u001b[43m,\u001b[49m\u001b[43m \u001b[49m\u001b[43mepochs\u001b[49m\u001b[38;5;241;43m=\u001b[39;49m\u001b[38;5;241;43m500\u001b[39;49m\u001b[43m)\u001b[49m\n",
      "Cell \u001b[0;32mIn[104], line 9\u001b[0m, in \u001b[0;36mbuild_prob_model\u001b[0;34m(train_ds, preprocessing_model, epochs, loss_metric)\u001b[0m\n\u001b[1;32m      7\u001b[0m x \u001b[38;5;241m=\u001b[39m tf\u001b[38;5;241m.\u001b[39mkeras\u001b[38;5;241m.\u001b[39mlayers\u001b[38;5;241m.\u001b[39mDense(\u001b[38;5;241m75\u001b[39m, activation\u001b[38;5;241m=\u001b[39m\u001b[38;5;124m'\u001b[39m\u001b[38;5;124mrelu\u001b[39m\u001b[38;5;124m'\u001b[39m)(x)\n\u001b[1;32m      8\u001b[0m x \u001b[38;5;241m=\u001b[39m tf\u001b[38;5;241m.\u001b[39mkeras\u001b[38;5;241m.\u001b[39mlayers\u001b[38;5;241m.\u001b[39mDense(\u001b[38;5;241m2\u001b[39m)(x)  \u001b[38;5;66;03m# 2 outputs: mean and stddev\u001b[39;00m\n\u001b[0;32m----> 9\u001b[0m outputs \u001b[38;5;241m=\u001b[39m \u001b[43mtfp\u001b[49m\u001b[38;5;241;43m.\u001b[39;49m\u001b[43mlayers\u001b[49m\u001b[38;5;241;43m.\u001b[39;49m\u001b[43mDistributionLambda\u001b[49m\u001b[43m(\u001b[49m\n\u001b[1;32m     10\u001b[0m \u001b[43m    \u001b[49m\u001b[38;5;28;43;01mlambda\u001b[39;49;00m\u001b[43m \u001b[49m\u001b[43mt\u001b[49m\u001b[43m:\u001b[49m\u001b[43m \u001b[49m\u001b[43mtfp\u001b[49m\u001b[38;5;241;43m.\u001b[39;49m\u001b[43mdistributions\u001b[49m\u001b[38;5;241;43m.\u001b[39;49m\u001b[43mNormal\u001b[49m\u001b[43m(\u001b[49m\n\u001b[1;32m     11\u001b[0m \u001b[43m        \u001b[49m\u001b[43mloc\u001b[49m\u001b[38;5;241;43m=\u001b[39;49m\u001b[43mt\u001b[49m\u001b[43m[\u001b[49m\u001b[38;5;241;43m.\u001b[39;49m\u001b[38;5;241;43m.\u001b[39;49m\u001b[38;5;241;43m.\u001b[39;49m\u001b[43m,\u001b[49m\u001b[43m \u001b[49m\u001b[43m:\u001b[49m\u001b[38;5;241;43m1\u001b[39;49m\u001b[43m]\u001b[49m\u001b[43m,\u001b[49m\n\u001b[1;32m     12\u001b[0m \u001b[43m        \u001b[49m\u001b[43mscale\u001b[49m\u001b[38;5;241;43m=\u001b[39;49m\u001b[38;5;241;43m1e-3\u001b[39;49m\u001b[43m \u001b[49m\u001b[38;5;241;43m+\u001b[39;49m\u001b[43m \u001b[49m\u001b[43mtf\u001b[49m\u001b[38;5;241;43m.\u001b[39;49m\u001b[43mmath\u001b[49m\u001b[38;5;241;43m.\u001b[39;49m\u001b[43msoftplus\u001b[49m\u001b[43m(\u001b[49m\u001b[38;5;241;43m0.1\u001b[39;49m\u001b[43m \u001b[49m\u001b[38;5;241;43m*\u001b[39;49m\u001b[43m \u001b[49m\u001b[43mt\u001b[49m\u001b[43m[\u001b[49m\u001b[38;5;241;43m.\u001b[39;49m\u001b[38;5;241;43m.\u001b[39;49m\u001b[38;5;241;43m.\u001b[39;49m\u001b[43m,\u001b[49m\u001b[43m \u001b[49m\u001b[38;5;241;43m1\u001b[39;49m\u001b[43m:\u001b[49m\u001b[43m]\u001b[49m\u001b[43m)\u001b[49m\n\u001b[1;32m     13\u001b[0m \u001b[43m    \u001b[49m\u001b[43m)\u001b[49m\n\u001b[1;32m     14\u001b[0m \u001b[43m\u001b[49m\u001b[43m)\u001b[49m\u001b[43m(\u001b[49m\u001b[43mx\u001b[49m\u001b[43m)\u001b[49m\n\u001b[1;32m     15\u001b[0m model \u001b[38;5;241m=\u001b[39m tf\u001b[38;5;241m.\u001b[39mkeras\u001b[38;5;241m.\u001b[39mModel(inputs\u001b[38;5;241m=\u001b[39minputs, outputs\u001b[38;5;241m=\u001b[39moutputs)\n\u001b[1;32m     16\u001b[0m negloglik \u001b[38;5;241m=\u001b[39m \u001b[38;5;28;01mlambda\u001b[39;00m y, rv_y: \u001b[38;5;241m-\u001b[39mrv_y\u001b[38;5;241m.\u001b[39mlog_prob(y)\n",
      "File \u001b[0;32m~/anup_prompt_venv/lib/python3.12/site-packages/tensorflow_probability/python/layers/distribution_layer.py:221\u001b[0m, in \u001b[0;36mDistributionLambda.__call__\u001b[0;34m(self, inputs, *args, **kwargs)\u001b[0m\n\u001b[1;32m    219\u001b[0m \u001b[38;5;28;01mdef\u001b[39;00m \u001b[38;5;21m__call__\u001b[39m(\u001b[38;5;28mself\u001b[39m, inputs, \u001b[38;5;241m*\u001b[39margs, \u001b[38;5;241m*\u001b[39m\u001b[38;5;241m*\u001b[39mkwargs):\n\u001b[1;32m    220\u001b[0m   \u001b[38;5;28mself\u001b[39m\u001b[38;5;241m.\u001b[39m_enter_dunder_call \u001b[38;5;241m=\u001b[39m \u001b[38;5;28;01mTrue\u001b[39;00m\n\u001b[0;32m--> 221\u001b[0m   distribution, _ \u001b[38;5;241m=\u001b[39m \u001b[38;5;28;43msuper\u001b[39;49m\u001b[43m(\u001b[49m\u001b[43mDistributionLambda\u001b[49m\u001b[43m,\u001b[49m\u001b[43m \u001b[49m\u001b[38;5;28;43mself\u001b[39;49m\u001b[43m)\u001b[49m\u001b[38;5;241;43m.\u001b[39;49m\u001b[38;5;21;43m__call__\u001b[39;49m\u001b[43m(\u001b[49m\n\u001b[1;32m    222\u001b[0m \u001b[43m      \u001b[49m\u001b[43minputs\u001b[49m\u001b[43m,\u001b[49m\u001b[43m \u001b[49m\u001b[38;5;241;43m*\u001b[39;49m\u001b[43margs\u001b[49m\u001b[43m,\u001b[49m\u001b[43m \u001b[49m\u001b[38;5;241;43m*\u001b[39;49m\u001b[38;5;241;43m*\u001b[39;49m\u001b[43mkwargs\u001b[49m\u001b[43m)\u001b[49m\n\u001b[1;32m    223\u001b[0m   \u001b[38;5;28mself\u001b[39m\u001b[38;5;241m.\u001b[39m_enter_dunder_call \u001b[38;5;241m=\u001b[39m \u001b[38;5;28;01mFalse\u001b[39;00m\n\u001b[1;32m    224\u001b[0m   \u001b[38;5;28;01mreturn\u001b[39;00m distribution\n",
      "File \u001b[0;32m~/anup_prompt_venv/lib/python3.12/site-packages/tf_keras/src/utils/traceback_utils.py:70\u001b[0m, in \u001b[0;36mfilter_traceback.<locals>.error_handler\u001b[0;34m(*args, **kwargs)\u001b[0m\n\u001b[1;32m     67\u001b[0m     filtered_tb \u001b[38;5;241m=\u001b[39m _process_traceback_frames(e\u001b[38;5;241m.\u001b[39m__traceback__)\n\u001b[1;32m     68\u001b[0m     \u001b[38;5;66;03m# To get the full stack trace, call:\u001b[39;00m\n\u001b[1;32m     69\u001b[0m     \u001b[38;5;66;03m# `tf.debugging.disable_traceback_filtering()`\u001b[39;00m\n\u001b[0;32m---> 70\u001b[0m     \u001b[38;5;28;01mraise\u001b[39;00m e\u001b[38;5;241m.\u001b[39mwith_traceback(filtered_tb) \u001b[38;5;28;01mfrom\u001b[39;00m \u001b[38;5;28;01mNone\u001b[39;00m\n\u001b[1;32m     71\u001b[0m \u001b[38;5;28;01mfinally\u001b[39;00m:\n\u001b[1;32m     72\u001b[0m     \u001b[38;5;28;01mdel\u001b[39;00m filtered_tb\n",
      "File \u001b[0;32m~/anup_prompt_venv/lib/python3.12/site-packages/tensorflow_probability/python/layers/distribution_layer.py:227\u001b[0m, in \u001b[0;36mDistributionLambda.call\u001b[0;34m(self, inputs, *args, **kwargs)\u001b[0m\n\u001b[1;32m    226\u001b[0m \u001b[38;5;28;01mdef\u001b[39;00m \u001b[38;5;21mcall\u001b[39m(\u001b[38;5;28mself\u001b[39m, inputs, \u001b[38;5;241m*\u001b[39margs, \u001b[38;5;241m*\u001b[39m\u001b[38;5;241m*\u001b[39mkwargs):\n\u001b[0;32m--> 227\u001b[0m   distribution, value \u001b[38;5;241m=\u001b[39m \u001b[38;5;28;43msuper\u001b[39;49m\u001b[43m(\u001b[49m\u001b[43mDistributionLambda\u001b[49m\u001b[43m,\u001b[49m\u001b[43m \u001b[49m\u001b[38;5;28;43mself\u001b[39;49m\u001b[43m)\u001b[49m\u001b[38;5;241;43m.\u001b[39;49m\u001b[43mcall\u001b[49m\u001b[43m(\u001b[49m\n\u001b[1;32m    228\u001b[0m \u001b[43m      \u001b[49m\u001b[43minputs\u001b[49m\u001b[43m,\u001b[49m\u001b[43m \u001b[49m\u001b[38;5;241;43m*\u001b[39;49m\u001b[43margs\u001b[49m\u001b[43m,\u001b[49m\u001b[43m \u001b[49m\u001b[38;5;241;43m*\u001b[39;49m\u001b[38;5;241;43m*\u001b[39;49m\u001b[43mkwargs\u001b[49m\u001b[43m)\u001b[49m\n\u001b[1;32m    229\u001b[0m   \u001b[38;5;66;03m# We always save the most recently built distribution variables for tracking\u001b[39;00m\n\u001b[1;32m    230\u001b[0m   \u001b[38;5;66;03m# purposes.\u001b[39;00m\n\u001b[1;32m    231\u001b[0m   \u001b[38;5;28mself\u001b[39m\u001b[38;5;241m.\u001b[39m_most_recently_built_distribution_vars \u001b[38;5;241m=\u001b[39m distribution\u001b[38;5;241m.\u001b[39mvariables\n",
      "File \u001b[0;32m~/anup_prompt_venv/lib/python3.12/site-packages/tensorflow_probability/python/layers/distribution_layer.py:167\u001b[0m, in \u001b[0;36mDistributionLambda.__init__.<locals>._fn\u001b[0;34m(*fargs, **fkwargs)\u001b[0m\n\u001b[1;32m    165\u001b[0m \u001b[38;5;28;01mdef\u001b[39;00m \u001b[38;5;21m_fn\u001b[39m(\u001b[38;5;241m*\u001b[39mfargs, \u001b[38;5;241m*\u001b[39m\u001b[38;5;241m*\u001b[39mfkwargs):\n\u001b[1;32m    166\u001b[0m \u001b[38;5;250m  \u001b[39m\u001b[38;5;124;03m\"\"\"Wraps `make_distribution_fn` to return both dist and concrete value.\"\"\"\u001b[39;00m\n\u001b[0;32m--> 167\u001b[0m   d \u001b[38;5;241m=\u001b[39m \u001b[43mmake_distribution_fn\u001b[49m\u001b[43m(\u001b[49m\u001b[38;5;241;43m*\u001b[39;49m\u001b[43mfargs\u001b[49m\u001b[43m,\u001b[49m\u001b[43m \u001b[49m\u001b[38;5;241;43m*\u001b[39;49m\u001b[38;5;241;43m*\u001b[39;49m\u001b[43mfkwargs\u001b[49m\u001b[43m)\u001b[49m\n\u001b[1;32m    168\u001b[0m   value_is_seq \u001b[38;5;241m=\u001b[39m \u001b[38;5;28misinstance\u001b[39m(d\u001b[38;5;241m.\u001b[39mdtype, collections\u001b[38;5;241m.\u001b[39mabc\u001b[38;5;241m.\u001b[39mSequence)\n\u001b[1;32m    169\u001b[0m   maybe_composite_convert_to_tensor_fn \u001b[38;5;241m=\u001b[39m (\n\u001b[1;32m    170\u001b[0m       (\u001b[38;5;28;01mlambda\u001b[39;00m d: tensor_tuple\u001b[38;5;241m.\u001b[39mTensorTuple(convert_to_tensor_fn(d)))\n\u001b[1;32m    171\u001b[0m       \u001b[38;5;28;01mif\u001b[39;00m value_is_seq \u001b[38;5;28;01melse\u001b[39;00m convert_to_tensor_fn)\n",
      "Cell \u001b[0;32mIn[104], line 12\u001b[0m, in \u001b[0;36mbuild_prob_model.<locals>.<lambda>\u001b[0;34m(t)\u001b[0m\n\u001b[1;32m      7\u001b[0m x \u001b[38;5;241m=\u001b[39m tf\u001b[38;5;241m.\u001b[39mkeras\u001b[38;5;241m.\u001b[39mlayers\u001b[38;5;241m.\u001b[39mDense(\u001b[38;5;241m75\u001b[39m, activation\u001b[38;5;241m=\u001b[39m\u001b[38;5;124m'\u001b[39m\u001b[38;5;124mrelu\u001b[39m\u001b[38;5;124m'\u001b[39m)(x)\n\u001b[1;32m      8\u001b[0m x \u001b[38;5;241m=\u001b[39m tf\u001b[38;5;241m.\u001b[39mkeras\u001b[38;5;241m.\u001b[39mlayers\u001b[38;5;241m.\u001b[39mDense(\u001b[38;5;241m2\u001b[39m)(x)  \u001b[38;5;66;03m# 2 outputs: mean and stddev\u001b[39;00m\n\u001b[1;32m      9\u001b[0m outputs \u001b[38;5;241m=\u001b[39m tfp\u001b[38;5;241m.\u001b[39mlayers\u001b[38;5;241m.\u001b[39mDistributionLambda(\n\u001b[1;32m     10\u001b[0m     \u001b[38;5;28;01mlambda\u001b[39;00m t: tfp\u001b[38;5;241m.\u001b[39mdistributions\u001b[38;5;241m.\u001b[39mNormal(\n\u001b[1;32m     11\u001b[0m         loc\u001b[38;5;241m=\u001b[39mt[\u001b[38;5;241m.\u001b[39m\u001b[38;5;241m.\u001b[39m\u001b[38;5;241m.\u001b[39m, :\u001b[38;5;241m1\u001b[39m],\n\u001b[0;32m---> 12\u001b[0m         scale\u001b[38;5;241m=\u001b[39m\u001b[38;5;241m1e-3\u001b[39m \u001b[38;5;241m+\u001b[39m \u001b[43mtf\u001b[49m\u001b[38;5;241;43m.\u001b[39;49m\u001b[43mmath\u001b[49m\u001b[38;5;241;43m.\u001b[39;49m\u001b[43msoftplus\u001b[49m\u001b[43m(\u001b[49m\u001b[38;5;241;43m0.1\u001b[39;49m\u001b[43m \u001b[49m\u001b[38;5;241;43m*\u001b[39;49m\u001b[43m \u001b[49m\u001b[43mt\u001b[49m\u001b[43m[\u001b[49m\u001b[38;5;241;43m.\u001b[39;49m\u001b[38;5;241;43m.\u001b[39;49m\u001b[38;5;241;43m.\u001b[39;49m\u001b[43m,\u001b[49m\u001b[43m \u001b[49m\u001b[38;5;241;43m1\u001b[39;49m\u001b[43m:\u001b[49m\u001b[43m]\u001b[49m\u001b[43m)\u001b[49m\n\u001b[1;32m     13\u001b[0m     )\n\u001b[1;32m     14\u001b[0m )(x)\n\u001b[1;32m     15\u001b[0m model \u001b[38;5;241m=\u001b[39m tf\u001b[38;5;241m.\u001b[39mkeras\u001b[38;5;241m.\u001b[39mModel(inputs\u001b[38;5;241m=\u001b[39minputs, outputs\u001b[38;5;241m=\u001b[39moutputs)\n\u001b[1;32m     16\u001b[0m negloglik \u001b[38;5;241m=\u001b[39m \u001b[38;5;28;01mlambda\u001b[39;00m y, rv_y: \u001b[38;5;241m-\u001b[39mrv_y\u001b[38;5;241m.\u001b[39mlog_prob(y)\n",
      "File \u001b[0;32m~/anup_prompt_venv/lib/python3.12/site-packages/keras/src/backend/common/keras_tensor.py:156\u001b[0m, in \u001b[0;36mKerasTensor.__tf_tensor__\u001b[0;34m(self, dtype, name)\u001b[0m\n\u001b[1;32m    155\u001b[0m \u001b[38;5;28;01mdef\u001b[39;00m \u001b[38;5;21m__tf_tensor__\u001b[39m(\u001b[38;5;28mself\u001b[39m, dtype\u001b[38;5;241m=\u001b[39m\u001b[38;5;28;01mNone\u001b[39;00m, name\u001b[38;5;241m=\u001b[39m\u001b[38;5;28;01mNone\u001b[39;00m):\n\u001b[0;32m--> 156\u001b[0m     \u001b[38;5;28;01mraise\u001b[39;00m \u001b[38;5;167;01mValueError\u001b[39;00m(\n\u001b[1;32m    157\u001b[0m         \u001b[38;5;124m\"\u001b[39m\u001b[38;5;124mA KerasTensor cannot be used as input to a TensorFlow function. \u001b[39m\u001b[38;5;124m\"\u001b[39m\n\u001b[1;32m    158\u001b[0m         \u001b[38;5;124m\"\u001b[39m\u001b[38;5;124mA KerasTensor is a symbolic placeholder for a shape and dtype, \u001b[39m\u001b[38;5;124m\"\u001b[39m\n\u001b[1;32m    159\u001b[0m         \u001b[38;5;124m\"\u001b[39m\u001b[38;5;124mused when constructing Keras Functional models \u001b[39m\u001b[38;5;124m\"\u001b[39m\n\u001b[1;32m    160\u001b[0m         \u001b[38;5;124m\"\u001b[39m\u001b[38;5;124mor Keras Functions. You can only use it as input to a Keras layer \u001b[39m\u001b[38;5;124m\"\u001b[39m\n\u001b[1;32m    161\u001b[0m         \u001b[38;5;124m\"\u001b[39m\u001b[38;5;124mor a Keras operation (from the namespaces `keras.layers` \u001b[39m\u001b[38;5;124m\"\u001b[39m\n\u001b[1;32m    162\u001b[0m         \u001b[38;5;124m\"\u001b[39m\u001b[38;5;124mand `keras.ops`). \u001b[39m\u001b[38;5;124m\"\u001b[39m\n\u001b[1;32m    163\u001b[0m         \u001b[38;5;124m\"\u001b[39m\u001b[38;5;124mYou are likely doing something like:\u001b[39m\u001b[38;5;130;01m\\n\u001b[39;00m\u001b[38;5;130;01m\\n\u001b[39;00m\u001b[38;5;124m\"\u001b[39m\n\u001b[1;32m    164\u001b[0m         \u001b[38;5;124m\"\u001b[39m\u001b[38;5;124m```\u001b[39m\u001b[38;5;130;01m\\n\u001b[39;00m\u001b[38;5;124m\"\u001b[39m\n\u001b[1;32m    165\u001b[0m         \u001b[38;5;124m\"\u001b[39m\u001b[38;5;124mx = Input(...)\u001b[39m\u001b[38;5;130;01m\\n\u001b[39;00m\u001b[38;5;124m\"\u001b[39m\n\u001b[1;32m    166\u001b[0m         \u001b[38;5;124m\"\u001b[39m\u001b[38;5;124m...\u001b[39m\u001b[38;5;130;01m\\n\u001b[39;00m\u001b[38;5;124m\"\u001b[39m\n\u001b[1;32m    167\u001b[0m         \u001b[38;5;124m\"\u001b[39m\u001b[38;5;124mtf_fn(x)  # Invalid.\u001b[39m\u001b[38;5;130;01m\\n\u001b[39;00m\u001b[38;5;124m\"\u001b[39m\n\u001b[1;32m    168\u001b[0m         \u001b[38;5;124m\"\u001b[39m\u001b[38;5;124m```\u001b[39m\u001b[38;5;130;01m\\n\u001b[39;00m\u001b[38;5;130;01m\\n\u001b[39;00m\u001b[38;5;124m\"\u001b[39m\n\u001b[1;32m    169\u001b[0m         \u001b[38;5;124m\"\u001b[39m\u001b[38;5;124mWhat you should do instead is wrap `tf_fn` in a layer:\u001b[39m\u001b[38;5;130;01m\\n\u001b[39;00m\u001b[38;5;130;01m\\n\u001b[39;00m\u001b[38;5;124m\"\u001b[39m\n\u001b[1;32m    170\u001b[0m         \u001b[38;5;124m\"\u001b[39m\u001b[38;5;124m```\u001b[39m\u001b[38;5;130;01m\\n\u001b[39;00m\u001b[38;5;124m\"\u001b[39m\n\u001b[1;32m    171\u001b[0m         \u001b[38;5;124m\"\u001b[39m\u001b[38;5;124mclass MyLayer(Layer):\u001b[39m\u001b[38;5;130;01m\\n\u001b[39;00m\u001b[38;5;124m\"\u001b[39m\n\u001b[1;32m    172\u001b[0m         \u001b[38;5;124m\"\u001b[39m\u001b[38;5;124m    def call(self, x):\u001b[39m\u001b[38;5;130;01m\\n\u001b[39;00m\u001b[38;5;124m\"\u001b[39m\n\u001b[1;32m    173\u001b[0m         \u001b[38;5;124m\"\u001b[39m\u001b[38;5;124m        return tf_fn(x)\u001b[39m\u001b[38;5;130;01m\\n\u001b[39;00m\u001b[38;5;130;01m\\n\u001b[39;00m\u001b[38;5;124m\"\u001b[39m\n\u001b[1;32m    174\u001b[0m         \u001b[38;5;124m\"\u001b[39m\u001b[38;5;124mx = MyLayer()(x)\u001b[39m\u001b[38;5;130;01m\\n\u001b[39;00m\u001b[38;5;124m\"\u001b[39m\n\u001b[1;32m    175\u001b[0m         \u001b[38;5;124m\"\u001b[39m\u001b[38;5;124m```\u001b[39m\u001b[38;5;130;01m\\n\u001b[39;00m\u001b[38;5;124m\"\u001b[39m\n\u001b[1;32m    176\u001b[0m     )\n",
      "\u001b[0;31mValueError\u001b[0m: Exception encountered when calling layer 'distribution_lambda_2' (type DistributionLambda).\n\nA KerasTensor cannot be used as input to a TensorFlow function. A KerasTensor is a symbolic placeholder for a shape and dtype, used when constructing Keras Functional models or Keras Functions. You can only use it as input to a Keras layer or a Keras operation (from the namespaces `keras.layers` and `keras.ops`). You are likely doing something like:\n\n```\nx = Input(...)\n...\ntf_fn(x)  # Invalid.\n```\n\nWhat you should do instead is wrap `tf_fn` in a layer:\n\n```\nclass MyLayer(Layer):\n    def call(self, x):\n        return tf_fn(x)\n\nx = MyLayer()(x)\n```\n\n\nCall arguments received by layer 'distribution_lambda_2' (type DistributionLambda):\n  • inputs=<KerasTensor shape=(None, 2), dtype=float32, sparse=False, ragged=False, name=keras_tensor_19>\n  • args=<class 'inspect._empty'>\n  • kwargs={'training': 'None'}"
     ]
    }
   ],
   "source": [
    "import tensorflow_probability as tfp\n",
    "\n",
    "def build_prob_model(train_ds, preprocessing_model, epochs=5, loss_metric='mse'):\n",
    "    inputs = preprocessing_model.input\n",
    "    x = preprocessing_model.output\n",
    "    x = tf.keras.layers.Dense(150, activation='relu')(x)\n",
    "    x = tf.keras.layers.Dense(75, activation='relu')(x)\n",
    "    x = tf.keras.layers.Dense(2)(x)  # 2 outputs: mean and stddev\n",
    "    outputs = tfp.layers.DistributionLambda(\n",
    "        lambda t: tfp.distributions.Normal(\n",
    "            loc=t[..., :1],\n",
    "            scale=1e-3 + tf.math.softplus(0.1 * t[..., 1:])\n",
    "        )\n",
    "    )(x)\n",
    "    model = tf.keras.Model(inputs=inputs, outputs=outputs)\n",
    "    negloglik = lambda y, rv_y: -rv_y.log_prob(y)\n",
    "    model.compile(\n",
    "        optimizer=tf.optimizers.Adam(learning_rate=0.05),\n",
    "        loss=negloglik,\n",
    "        metrics=[loss_metric]\n",
    "    )\n",
    "    history = model.fit(train_ds, epochs=epochs)\n",
    "    return model, history\n",
    "\n",
    "prob_model, history = build_prob_model(train_ds, preprocessing_model, epochs=500)"
   ]
  },
  {
   "cell_type": "markdown",
   "metadata": {},
   "source": [
    "### Extract Mean and Standard Deviation Output"
   ]
  },
  {
   "cell_type": "code",
   "execution_count": 105,
   "metadata": {},
   "outputs": [
    {
     "ename": "NameError",
     "evalue": "name 'prob_model' is not defined",
     "output_type": "error",
     "traceback": [
      "\u001b[0;31m---------------------------------------------------------------------------\u001b[0m",
      "\u001b[0;31mNameError\u001b[0m                                 Traceback (most recent call last)",
      "Cell \u001b[0;32mIn[105], line 3\u001b[0m\n\u001b[1;32m      1\u001b[0m feature_column_list \u001b[38;5;241m=\u001b[39m categorical_feature_list \u001b[38;5;241m+\u001b[39m numerical_feature_list\n\u001b[1;32m      2\u001b[0m x_tst \u001b[38;5;241m=\u001b[39m \u001b[38;5;28mdict\u001b[39m(test_data[feature_column_list])\n\u001b[0;32m----> 3\u001b[0m yhat \u001b[38;5;241m=\u001b[39m \u001b[43mprob_model\u001b[49m(x_tst)\n\u001b[1;32m      4\u001b[0m prob_preds \u001b[38;5;241m=\u001b[39m prob_model\u001b[38;5;241m.\u001b[39mpredict(test_ds)\n\u001b[1;32m      5\u001b[0m m \u001b[38;5;241m=\u001b[39m yhat\u001b[38;5;241m.\u001b[39mmean()\n",
      "\u001b[0;31mNameError\u001b[0m: name 'prob_model' is not defined"
     ]
    }
   ],
   "source": [
    "feature_column_list = categorical_feature_list + numerical_feature_list\n",
    "x_tst = dict(test_data[feature_column_list])\n",
    "yhat = prob_model(x_tst)\n",
    "prob_preds = prob_model.predict(test_ds)\n",
    "m = yhat.mean()\n",
    "s = yhat.stddev()"
   ]
  },
  {
   "cell_type": "code",
   "execution_count": 106,
   "metadata": {},
   "outputs": [
    {
     "ename": "NameError",
     "evalue": "name 'm' is not defined",
     "output_type": "error",
     "traceback": [
      "\u001b[0;31m---------------------------------------------------------------------------\u001b[0m",
      "\u001b[0;31mNameError\u001b[0m                                 Traceback (most recent call last)",
      "Cell \u001b[0;32mIn[106], line 1\u001b[0m\n\u001b[0;32m----> 1\u001b[0m \u001b[43mm\u001b[49m[\u001b[38;5;241m0\u001b[39m:\u001b[38;5;241m10\u001b[39m]\n",
      "\u001b[0;31mNameError\u001b[0m: name 'm' is not defined"
     ]
    }
   ],
   "source": [
    "m[0:10]"
   ]
  },
  {
   "cell_type": "code",
   "execution_count": null,
   "metadata": {},
   "outputs": [],
   "source": [
    "s[0:10]"
   ]
  },
  {
   "cell_type": "code",
   "execution_count": null,
   "metadata": {},
   "outputs": [],
   "source": [
    "prob_outputs = {\n",
    "    \"pred\": prob_preds.flatten(),\n",
    "    \"actual_value\": test_data['MPG'].values,\n",
    "    \"pred_mean\": m.numpy().flatten(),\n",
    "    \"pred_std\": s.numpy().flatten()\n",
    "}\n",
    "prob_output_df = pd.DataFrame(prob_outputs)"
   ]
  },
  {
   "cell_type": "code",
   "execution_count": null,
   "metadata": {},
   "outputs": [],
   "source": [
    "prob_output_df.head()"
   ]
  },
  {
   "cell_type": "code",
   "execution_count": null,
   "metadata": {},
   "outputs": [],
   "source": [
    "a = plt.axes(aspect='equal')\n",
    "plt.scatter(test_labels, m.numpy().flatten())\n",
    "plt.xlabel('True Values [MPG]')\n",
    "plt.ylabel('Predictions [MPG]')\n",
    "lims = [0, 50]\n",
    "plt.xlim(lims)\n",
    "plt.ylim(lims)\n",
    "_ = plt.plot(lims, lims)\n"
   ]
  },
  {
   "cell_type": "markdown",
   "metadata": {},
   "source": [
    "## 5. Model Interpretability with Shapley Values"
   ]
  },
  {
   "cell_type": "markdown",
   "metadata": {},
   "source": [
    "- Using Open Source Library Shap - https://github.com/slundberg/shap\n",
    "- Developed by Su-In Lee's lab at the University of Washington, and Microsoft Research"
   ]
  },
  {
   "cell_type": "code",
   "execution_count": null,
   "metadata": {},
   "outputs": [],
   "source": [
    "# adapted from https://github.com/kweinmeister/notebooks/blob/master/tensorflow-shap-college-debt.ipynb\n",
    "# https://towardsdatascience.com/understand-how-your-tensorflow-model-is-making-predictions-d0b3c7e88500"
   ]
  },
  {
   "cell_type": "code",
   "execution_count": null,
   "metadata": {},
   "outputs": [],
   "source": [
    "import shap\n",
    "shap.initjs()"
   ]
  },
  {
   "cell_type": "markdown",
   "metadata": {},
   "source": [
    "### Train Model without Dense Features"
   ]
  },
  {
   "cell_type": "code",
   "execution_count": null,
   "metadata": {},
   "outputs": [],
   "source": [
    "def build_shap_model( num_features):\n",
    "    model = tf.keras.Sequential([\n",
    "    tf.keras.layers.Dense(64, activation='relu', input_shape=[num_features]),\n",
    "    tf.keras.layers.Dense(64, activation='relu'),\n",
    "    tf.keras.layers.Dense(1)\n",
    "    ])\n",
    "\n",
    "    optimizer = tf.keras.optimizers.RMSprop(0.001)\n",
    "\n",
    "    model.compile(loss='mse',\n",
    "                optimizer=optimizer,\n",
    "                metrics=['mae', 'mse'])\n",
    "    return model"
   ]
  },
  {
   "cell_type": "code",
   "execution_count": null,
   "metadata": {},
   "outputs": [],
   "source": [
    "shap_num_features = len( numerical_feature_list)\n",
    "shap_feature_columns =  tf_numerical_feature_list\n",
    "#shap_feature_layer = tf.keras.layers.DenseFeatures(shap_feature_columns)\n",
    "shap_model = build_shap_model( shap_num_features)"
   ]
  },
  {
   "cell_type": "code",
   "execution_count": null,
   "metadata": {},
   "outputs": [],
   "source": [
    "EPOCHS = 1000\n",
    "early_stop = tf.keras.callbacks.EarlyStopping(monitor='mse', patience=10)\n",
    "shap_history = shap_model.fit( normed_train_data, train_labels,  callbacks=[early_stop], epochs=EPOCHS,  verbose=1)"
   ]
  },
  {
   "cell_type": "markdown",
   "metadata": {},
   "source": [
    "### Use KMeans to Summarize Dataset"
   ]
  },
  {
   "cell_type": "code",
   "execution_count": null,
   "metadata": {},
   "outputs": [],
   "source": [
    "df_train_normed_summary = shap.kmeans(normed_train_data.values, 25)\n"
   ]
  },
  {
   "cell_type": "code",
   "execution_count": null,
   "metadata": {},
   "outputs": [],
   "source": [
    "# Instantiate an explainer with the model predictions and training data summary\n",
    "explainer = shap.KernelExplainer(shap_model.predict, df_train_normed_summary)"
   ]
  },
  {
   "cell_type": "code",
   "execution_count": null,
   "metadata": {},
   "outputs": [],
   "source": [
    "# `ipywidgets` may need to be installed to see status visualization.\n",
    "# Please uncomment these two lines:\n",
    "# !pip install ipywidgets\n",
    "# !jupyter nbextension enable --py widgetsnbextension\n",
    "\n",
    "# And restart the kernel and run the notebook after installing the ipwidgets.\n",
    "# From the top menu, click `Kernel` -> `Restart & Run All`"
   ]
  },
  {
   "cell_type": "code",
   "execution_count": null,
   "metadata": {},
   "outputs": [],
   "source": [
    "# Extract Shapley values from the explainer\n",
    "shap_values = explainer.shap_values(normed_train_data.values)"
   ]
  },
  {
   "cell_type": "code",
   "execution_count": null,
   "metadata": {},
   "outputs": [],
   "source": [
    "# Summarize the Shapley values in a plot\n",
    "shap.summary_plot(shap_values[0], normed_train_data)"
   ]
  },
  {
   "cell_type": "code",
   "execution_count": null,
   "metadata": {},
   "outputs": [],
   "source": [
    "INSTANCE_NUM = 0\n",
    "shap.force_plot(explainer.expected_value[0], shap_values[0][INSTANCE_NUM], normed_train_data.iloc[INSTANCE_NUM,:])"
   ]
  },
  {
   "cell_type": "code",
   "execution_count": null,
   "metadata": {},
   "outputs": [],
   "source": [
    "# Plot the SHAP values for multiple instances\n",
    "NUM_ROWS = 10\n",
    "shap.force_plot(explainer.expected_value[0], shap_values[0][0:NUM_ROWS], normed_train_data.iloc[0:NUM_ROWS])"
   ]
  },
  {
   "cell_type": "code",
   "execution_count": null,
   "metadata": {},
   "outputs": [],
   "source": []
  }
 ],
 "metadata": {
  "kernelspec": {
   "display_name": "anup_prompt_venv",
   "language": "python",
   "name": "python3"
  },
  "language_info": {
   "codemirror_mode": {
    "name": "ipython",
    "version": 3
   },
   "file_extension": ".py",
   "mimetype": "text/x-python",
   "name": "python",
   "nbconvert_exporter": "python",
   "pygments_lexer": "ipython3",
   "version": "3.12.7"
  }
 },
 "nbformat": 4,
 "nbformat_minor": 2
}
