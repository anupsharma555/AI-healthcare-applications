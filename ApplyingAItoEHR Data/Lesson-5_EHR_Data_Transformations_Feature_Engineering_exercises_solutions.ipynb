{
 "cells": [
  {
   "cell_type": "markdown",
   "metadata": {},
   "source": [
    "## Exercise L4 - 1: Diagnose Dataset Level and Select Last Encounter"
   ]
  },
  {
   "cell_type": "markdown",
   "metadata": {},
   "source": [
    "### Instructions\n",
    "- Given the dataset, convert the dataset to a longitudinal level but select only the last encounter for each patient.\n",
    "- Assume that that the order of encounter IDs is indicative of the time for encounter. In other words a lower number encounter will come before a higher numbered encounter."
   ]
  },
  {
   "cell_type": "code",
   "execution_count": 14,
   "metadata": {},
   "outputs": [],
   "source": [
    "import pandas as pd\n",
    "import numpy as np"
   ]
  },
  {
   "cell_type": "code",
   "execution_count": 15,
   "metadata": {},
   "outputs": [],
   "source": [
    "ehr_level_dataset_path = \"./data/ehr_level_exercise_dataset.csv\""
   ]
  },
  {
   "cell_type": "markdown",
   "metadata": {},
   "source": [
    "### Level of Dataset\n",
    "What level is the dataset at? Is at the line or encounter level? "
   ]
  },
  {
   "cell_type": "markdown",
   "metadata": {},
   "source": [
    "### Solution"
   ]
  },
  {
   "cell_type": "code",
   "execution_count": 16,
   "metadata": {},
   "outputs": [
    {
     "data": {
      "application/vnd.microsoft.datawrangler.viewer.v0+json": {
       "columns": [
        {
         "name": "index",
         "rawType": "int64",
         "type": "integer"
        },
        {
         "name": "ENCOUNTER_ID",
         "rawType": "object",
         "type": "string"
        },
        {
         "name": "PATIENT_ID",
         "rawType": "object",
         "type": "string"
        },
        {
         "name": "PRINCIPAL_DIAGNOSIS_CODE",
         "rawType": "object",
         "type": "string"
        },
        {
         "name": "PROCEDURE_CODE",
         "rawType": "object",
         "type": "string"
        },
        {
         "name": "MEDICATION_CODE",
         "rawType": "object",
         "type": "string"
        },
        {
         "name": "LAB_CODE",
         "rawType": "object",
         "type": "string"
        },
        {
         "name": "LABEL",
         "rawType": "object",
         "type": "string"
        }
       ],
       "ref": "fdfcb020-0f0b-40db-8fc4-927e4f0ab3d4",
       "rows": [
        [
         "0",
         "udacity_health_encounter_id_1",
         "udacity_health_patient_id_186",
         "dx_code_15406",
         "['procedure_code_58552', 'procedure_code_39776', 'procedure_code_13212', 'procedure_code_50377']",
         "['medication_code_2350', 'medication_code_8630', 'medication_code_4030', 'medication_code_431', 'medication_code_7435', 'medication_code_4338', 'medication_code_3080', 'medication_code_3808', 'medication_code_8275', 'medication_code_7779', 'medication_code_4081', 'medication_code_5203', 'medication_code_1267']",
         "['lab_code_8835', 'lab_code_9859', 'lab_code_9032', 'lab_code_9167']",
         "[0, 0, 0, 0, 0, 0, 0, 0, 0, 0, 0, 0, 0, 0, 0, 0, 0, 0, 0, 0, 0]"
        ],
        [
         "1",
         "udacity_health_encounter_id_10",
         "udacity_health_patient_id_188",
         "dx_code_74047",
         "[]",
         "['medication_code_7789', 'medication_code_3560', 'medication_code_9285', 'medication_code_4317']",
         "[]",
         "[1, 1, 1, 1]"
        ],
        [
         "2",
         "udacity_health_encounter_id_100",
         "udacity_health_patient_id_585",
         "dx_code_71465",
         "[]",
         "['medication_code_7982', 'medication_code_2452', 'medication_code_279']",
         "['lab_code_4198', 'lab_code_6603', 'lab_code_332', 'lab_code_1431']",
         "[0, 0, 0, 0, 0, 0, 0]"
        ],
        [
         "3",
         "udacity_health_encounter_id_1000",
         "udacity_health_patient_id_525",
         "dx_code_61569",
         "[]",
         "['medication_code_4036']",
         "[]",
         "[0]"
        ],
        [
         "4",
         "udacity_health_encounter_id_1001",
         "udacity_health_patient_id_950",
         "dx_code_90172",
         "['procedure_code_30555']",
         "['medication_code_6755', 'medication_code_5045']",
         "['lab_code_9112']",
         "[0, 0, 0, 0]"
        ]
       ],
       "shape": {
        "columns": 7,
        "rows": 5
       }
      },
      "text/html": [
       "<div>\n",
       "<style scoped>\n",
       "    .dataframe tbody tr th:only-of-type {\n",
       "        vertical-align: middle;\n",
       "    }\n",
       "\n",
       "    .dataframe tbody tr th {\n",
       "        vertical-align: top;\n",
       "    }\n",
       "\n",
       "    .dataframe thead th {\n",
       "        text-align: right;\n",
       "    }\n",
       "</style>\n",
       "<table border=\"1\" class=\"dataframe\">\n",
       "  <thead>\n",
       "    <tr style=\"text-align: right;\">\n",
       "      <th></th>\n",
       "      <th>ENCOUNTER_ID</th>\n",
       "      <th>PATIENT_ID</th>\n",
       "      <th>PRINCIPAL_DIAGNOSIS_CODE</th>\n",
       "      <th>PROCEDURE_CODE</th>\n",
       "      <th>MEDICATION_CODE</th>\n",
       "      <th>LAB_CODE</th>\n",
       "      <th>LABEL</th>\n",
       "    </tr>\n",
       "  </thead>\n",
       "  <tbody>\n",
       "    <tr>\n",
       "      <th>0</th>\n",
       "      <td>udacity_health_encounter_id_1</td>\n",
       "      <td>udacity_health_patient_id_186</td>\n",
       "      <td>dx_code_15406</td>\n",
       "      <td>['procedure_code_58552', 'procedure_code_39776...</td>\n",
       "      <td>['medication_code_2350', 'medication_code_8630...</td>\n",
       "      <td>['lab_code_8835', 'lab_code_9859', 'lab_code_9...</td>\n",
       "      <td>[0, 0, 0, 0, 0, 0, 0, 0, 0, 0, 0, 0, 0, 0, 0, ...</td>\n",
       "    </tr>\n",
       "    <tr>\n",
       "      <th>1</th>\n",
       "      <td>udacity_health_encounter_id_10</td>\n",
       "      <td>udacity_health_patient_id_188</td>\n",
       "      <td>dx_code_74047</td>\n",
       "      <td>[]</td>\n",
       "      <td>['medication_code_7789', 'medication_code_3560...</td>\n",
       "      <td>[]</td>\n",
       "      <td>[1, 1, 1, 1]</td>\n",
       "    </tr>\n",
       "    <tr>\n",
       "      <th>2</th>\n",
       "      <td>udacity_health_encounter_id_100</td>\n",
       "      <td>udacity_health_patient_id_585</td>\n",
       "      <td>dx_code_71465</td>\n",
       "      <td>[]</td>\n",
       "      <td>['medication_code_7982', 'medication_code_2452...</td>\n",
       "      <td>['lab_code_4198', 'lab_code_6603', 'lab_code_3...</td>\n",
       "      <td>[0, 0, 0, 0, 0, 0, 0]</td>\n",
       "    </tr>\n",
       "    <tr>\n",
       "      <th>3</th>\n",
       "      <td>udacity_health_encounter_id_1000</td>\n",
       "      <td>udacity_health_patient_id_525</td>\n",
       "      <td>dx_code_61569</td>\n",
       "      <td>[]</td>\n",
       "      <td>['medication_code_4036']</td>\n",
       "      <td>[]</td>\n",
       "      <td>[0]</td>\n",
       "    </tr>\n",
       "    <tr>\n",
       "      <th>4</th>\n",
       "      <td>udacity_health_encounter_id_1001</td>\n",
       "      <td>udacity_health_patient_id_950</td>\n",
       "      <td>dx_code_90172</td>\n",
       "      <td>['procedure_code_30555']</td>\n",
       "      <td>['medication_code_6755', 'medication_code_5045']</td>\n",
       "      <td>['lab_code_9112']</td>\n",
       "      <td>[0, 0, 0, 0]</td>\n",
       "    </tr>\n",
       "  </tbody>\n",
       "</table>\n",
       "</div>"
      ],
      "text/plain": [
       "                       ENCOUNTER_ID                     PATIENT_ID  \\\n",
       "0     udacity_health_encounter_id_1  udacity_health_patient_id_186   \n",
       "1    udacity_health_encounter_id_10  udacity_health_patient_id_188   \n",
       "2   udacity_health_encounter_id_100  udacity_health_patient_id_585   \n",
       "3  udacity_health_encounter_id_1000  udacity_health_patient_id_525   \n",
       "4  udacity_health_encounter_id_1001  udacity_health_patient_id_950   \n",
       "\n",
       "  PRINCIPAL_DIAGNOSIS_CODE                                     PROCEDURE_CODE  \\\n",
       "0            dx_code_15406  ['procedure_code_58552', 'procedure_code_39776...   \n",
       "1            dx_code_74047                                                 []   \n",
       "2            dx_code_71465                                                 []   \n",
       "3            dx_code_61569                                                 []   \n",
       "4            dx_code_90172                           ['procedure_code_30555']   \n",
       "\n",
       "                                     MEDICATION_CODE  \\\n",
       "0  ['medication_code_2350', 'medication_code_8630...   \n",
       "1  ['medication_code_7789', 'medication_code_3560...   \n",
       "2  ['medication_code_7982', 'medication_code_2452...   \n",
       "3                           ['medication_code_4036']   \n",
       "4   ['medication_code_6755', 'medication_code_5045']   \n",
       "\n",
       "                                            LAB_CODE  \\\n",
       "0  ['lab_code_8835', 'lab_code_9859', 'lab_code_9...   \n",
       "1                                                 []   \n",
       "2  ['lab_code_4198', 'lab_code_6603', 'lab_code_3...   \n",
       "3                                                 []   \n",
       "4                                  ['lab_code_9112']   \n",
       "\n",
       "                                               LABEL  \n",
       "0  [0, 0, 0, 0, 0, 0, 0, 0, 0, 0, 0, 0, 0, 0, 0, ...  \n",
       "1                                       [1, 1, 1, 1]  \n",
       "2                              [0, 0, 0, 0, 0, 0, 0]  \n",
       "3                                                [0]  \n",
       "4                                       [0, 0, 0, 0]  "
      ]
     },
     "execution_count": 16,
     "metadata": {},
     "output_type": "execute_result"
    }
   ],
   "source": [
    "ehr_level_df = pd.read_csv(ehr_level_dataset_path)\n",
    "ehr_level_df.head()"
   ]
  },
  {
   "cell_type": "markdown",
   "metadata": {},
   "source": [
    "**Tests**\n",
    "- Line: Total number of rows > Number of Unique Encounters\n",
    "- Encounter level: Total Number of Rows = Number of Unique Encounters\n"
   ]
  },
  {
   "cell_type": "code",
   "execution_count": 17,
   "metadata": {},
   "outputs": [
    {
     "name": "stdout",
     "output_type": "stream",
     "text": [
      "Dataset is not at the line level\n"
     ]
    }
   ],
   "source": [
    "# Line Test\n",
    "try:\n",
    "    assert len(ehr_level_df) > ehr_level_df['ENCOUNTER_ID'].nunique()\n",
    "    print(\"Dataset could be at the line level\")\n",
    "except:\n",
    "    print(\"Dataset is not at the line level\")"
   ]
  },
  {
   "cell_type": "code",
   "execution_count": 18,
   "metadata": {},
   "outputs": [
    {
     "name": "stdout",
     "output_type": "stream",
     "text": [
      "Dataset could be at the encounter level\n"
     ]
    }
   ],
   "source": [
    "# Encounter Test\n",
    "try:\n",
    "    assert len(ehr_level_df) == ehr_level_df['ENCOUNTER_ID'].nunique()\n",
    "    print(\"Dataset could be at the encounter level\")\n",
    "except:\n",
    "    print(\"Dataset is not at the encounter level\")"
   ]
  },
  {
   "cell_type": "markdown",
   "metadata": {},
   "source": [
    "**Answer:** Dataset is at the encounter level and you can probably guess by seeing the arrays for the code sets but we did a few simple tests to confirm."
   ]
  },
  {
   "cell_type": "markdown",
   "metadata": {},
   "source": [
    "### Select Last Encounter for each Patient"
   ]
  },
  {
   "cell_type": "markdown",
   "metadata": {},
   "source": [
    "So in many cases you may only want a snapshot of a patient's history for your modeling objective. In some cases it might be important to see the changes over time but in other cases you only want the most recent case or depending on the model the first case could also be used. Really important to know how the context for how the model will be deployed in production and the time state you will be getting data."
   ]
  },
  {
   "cell_type": "code",
   "execution_count": 19,
   "metadata": {},
   "outputs": [],
   "source": [
    "# select last encounter for each patient\n",
    "#convert encounter id column to a numerical value\n",
    "def convert_encounter_id_to_number(df, encounter_id):\n",
    "    df[\"ENCOUNTER_ID_NUMBER\"] = df[encounter_id].str.replace('udacity_health_encounter_id_', '').astype(int)\n",
    "    return df\n",
    "\n",
    "def select_last_encounter(df, patient_id, encounter_id):\n",
    "    df = df.sort_values(encounter_id)\n",
    "    last_encounter_values = df.groupby(patient_id)[encounter_id].tail(1).values\n",
    "    return df[df[encounter_id].isin(last_encounter_values)]"
   ]
  },
  {
   "cell_type": "code",
   "execution_count": 20,
   "metadata": {},
   "outputs": [],
   "source": [
    "ehr_encounter_number_df = convert_encounter_id_to_number(ehr_level_df, \"ENCOUNTER_ID\")\n",
    "last_encounter_df = select_last_encounter(ehr_encounter_number_df, \"PATIENT_ID\", \"ENCOUNTER_ID_NUMBER\" )"
   ]
  },
  {
   "cell_type": "code",
   "execution_count": 21,
   "metadata": {},
   "outputs": [],
   "source": [
    "#take subset of output\n",
    "test_last_encounter_df = last_encounter_df[['ENCOUNTER_ID', 'ENCOUNTER_ID_NUMBER', 'PATIENT_ID']]"
   ]
  },
  {
   "cell_type": "markdown",
   "metadata": {},
   "source": [
    "### Test cases \n",
    "- PATIENT_IDS - udacity_health_patient_id_309, udacity_health_patient_id_418, udacity_health_patient_id_908"
   ]
  },
  {
   "cell_type": "code",
   "execution_count": 22,
   "metadata": {},
   "outputs": [
    {
     "data": {
      "application/vnd.microsoft.datawrangler.viewer.v0+json": {
       "columns": [
        {
         "name": "index",
         "rawType": "int64",
         "type": "integer"
        },
        {
         "name": "ENCOUNTER_ID",
         "rawType": "object",
         "type": "string"
        },
        {
         "name": "PATIENT_ID",
         "rawType": "object",
         "type": "string"
        },
        {
         "name": "PRINCIPAL_DIAGNOSIS_CODE",
         "rawType": "object",
         "type": "string"
        },
        {
         "name": "PROCEDURE_CODE",
         "rawType": "object",
         "type": "string"
        },
        {
         "name": "MEDICATION_CODE",
         "rawType": "object",
         "type": "string"
        },
        {
         "name": "LAB_CODE",
         "rawType": "object",
         "type": "string"
        },
        {
         "name": "LABEL",
         "rawType": "object",
         "type": "string"
        },
        {
         "name": "ENCOUNTER_ID_NUMBER",
         "rawType": "int64",
         "type": "integer"
        }
       ],
       "ref": "322ca471-6b82-4fa8-863c-ec908de6bae9",
       "rows": [
        [
         "94",
         "udacity_health_encounter_id_1091",
         "udacity_health_patient_id_309",
         "dx_code_62502",
         "['procedure_code_69597']",
         "['medication_code_9253', 'medication_code_7444', 'medication_code_5664', 'medication_code_574']",
         "['lab_code_9415', 'lab_code_8179']",
         "[0, 0, 0, 0, 0, 0, 0]",
         "1091"
        ],
        [
         "450",
         "udacity_health_encounter_id_1436",
         "udacity_health_patient_id_309",
         "dx_code_37825",
         "['procedure_code_14044', 'procedure_code_47911', 'procedure_code_7769']",
         "['medication_code_4081', 'medication_code_6050', 'medication_code_5129', 'medication_code_3910', 'medication_code_2788', 'medication_code_2088', 'medication_code_2802', 'medication_code_693', 'medication_code_1515', 'medication_code_9326', 'medication_code_7622', 'medication_code_1417']",
         "['lab_code_6246', 'lab_code_7197']",
         "[0, 0, 0, 0, 0, 0, 0, 0, 0, 0, 0, 0, 0, 0, 0, 0, 0]",
         "1436"
        ],
        [
         "605",
         "udacity_health_encounter_id_1582",
         "udacity_health_patient_id_309",
         "dx_code_79663",
         "[]",
         "['medication_code_4450', 'medication_code_4900', 'medication_code_8633']",
         "[]",
         "[0, 0, 0]",
         "1582"
        ],
        [
         "665",
         "udacity_health_encounter_id_1643",
         "udacity_health_patient_id_309",
         "dx_code_60773",
         "['procedure_code_39999', 'procedure_code_31842', 'procedure_code_25905', 'procedure_code_59688', 'procedure_code_3785', 'procedure_code_54431', 'procedure_code_688', 'procedure_code_3076', 'procedure_code_50874']",
         "['medication_code_413', 'medication_code_5966', 'medication_code_6674', 'medication_code_1606', 'medication_code_7670', 'medication_code_4395', 'medication_code_5197', 'medication_code_2789', 'medication_code_9035', 'medication_code_2978', 'medication_code_3879']",
         "['lab_code_4295', 'lab_code_2383']",
         "[0, 0, 0, 0, 0, 0, 0, 0, 0, 0, 0, 0, 0, 0, 0, 0, 0, 0, 0, 0, 0, 0]",
         "1643"
        ],
        [
         "684",
         "udacity_health_encounter_id_1662",
         "udacity_health_patient_id_309",
         "dx_code_29272",
         "['procedure_code_12589', 'procedure_code_3005', 'procedure_code_7760', 'procedure_code_10211', 'procedure_code_38529']",
         "['medication_code_9845', 'medication_code_6602', 'medication_code_8180', 'medication_code_9970', 'medication_code_4735', 'medication_code_5086', 'medication_code_5079', 'medication_code_816', 'medication_code_4620', 'medication_code_4125', 'medication_code_3858', 'medication_code_9034', 'medication_code_6092', 'medication_code_2377', 'medication_code_8740']",
         "['lab_code_4330', 'lab_code_3499', 'lab_code_1257', 'lab_code_9762']",
         "[0, 0, 0, 0, 0, 0, 0, 0, 0, 0, 0, 0, 0, 0, 0, 0, 0, 0, 0, 0, 0, 0, 0, 0]",
         "1662"
        ],
        [
         "867",
         "udacity_health_encounter_id_1837",
         "udacity_health_patient_id_309",
         "dx_code_56368",
         "['procedure_code_14069', 'procedure_code_15230', 'procedure_code_69156', 'procedure_code_20765', 'procedure_code_46463', 'procedure_code_37514', 'procedure_code_65641', 'procedure_code_62175']",
         "['medication_code_5820', 'medication_code_8028', 'medication_code_1736', 'medication_code_9655']",
         "['lab_code_8964']",
         "[0, 0, 0, 0, 0, 0, 0, 0, 0, 0, 0, 0, 0]",
         "1837"
        ],
        [
         "1024",
         "udacity_health_encounter_id_1985",
         "udacity_health_patient_id_309",
         "dx_code_38581",
         "['procedure_code_1431', 'procedure_code_71061']",
         "['medication_code_3134', 'medication_code_4868', 'medication_code_2872', 'medication_code_3388', 'medication_code_392', 'medication_code_5233']",
         "['lab_code_7702']",
         "[0, 0, 0, 0, 0, 0, 0, 0, 0]",
         "1985"
        ],
        [
         "1042",
         "udacity_health_encounter_id_2000",
         "udacity_health_patient_id_309",
         "dx_code_91230",
         "[]",
         "[]",
         "['lab_code_8062']",
         "[0]",
         "2000"
        ],
        [
         "1196",
         "udacity_health_encounter_id_2142",
         "udacity_health_patient_id_309",
         "dx_code_58527",
         "['procedure_code_56979', 'procedure_code_24797', 'procedure_code_59823', 'procedure_code_14792', 'procedure_code_30116', 'procedure_code_61843', 'procedure_code_6181']",
         "['medication_code_7631', 'medication_code_7508', 'medication_code_5775', 'medication_code_1560', 'medication_code_8551', 'medication_code_6302', 'medication_code_7035', 'medication_code_6605', 'medication_code_6621', 'medication_code_3117', 'medication_code_1428', 'medication_code_5423', 'medication_code_7957', 'medication_code_6249', 'medication_code_3073', 'medication_code_4443', 'medication_code_7067', 'medication_code_1067']",
         "['lab_code_3908', 'lab_code_1500']",
         "[0, 0, 0, 0, 0, 0, 0, 0, 0, 0, 0, 0, 0, 0, 0, 0, 0, 0, 0, 0, 0, 0, 0, 0, 0, 0, 0]",
         "2142"
        ],
        [
         "1289",
         "udacity_health_encounter_id_2229",
         "udacity_health_patient_id_309",
         "dx_code_46826",
         "['procedure_code_50916', 'procedure_code_20032', 'procedure_code_11551', 'procedure_code_40932', 'procedure_code_10417']",
         "['medication_code_9204', 'medication_code_1282', 'medication_code_3167', 'medication_code_8163', 'medication_code_989', 'medication_code_2975', 'medication_code_1543', 'medication_code_393']",
         "['lab_code_5607', 'lab_code_5139']",
         "[0, 0, 0, 0, 0, 0, 0, 0, 0, 0, 0, 0, 0, 0, 0]",
         "2229"
        ],
        [
         "1340",
         "udacity_health_encounter_id_2281",
         "udacity_health_patient_id_309",
         "dx_code_39484",
         "['procedure_code_33400', 'procedure_code_56', 'procedure_code_22315']",
         "['medication_code_1938', 'medication_code_4076', 'medication_code_3924', 'medication_code_9306', 'medication_code_616', 'medication_code_6354', 'medication_code_708', 'medication_code_5527']",
         "['lab_code_9178', 'lab_code_3557', 'lab_code_2276', 'lab_code_7862', 'lab_code_2388']",
         "[0, 0, 0, 0, 0, 0, 0, 0, 0, 0, 0, 0, 0, 0, 0, 0]",
         "2281"
        ],
        [
         "1596",
         "udacity_health_encounter_id_2531",
         "udacity_health_patient_id_309",
         "dx_code_75423",
         "['procedure_code_15600', 'procedure_code_19008', 'procedure_code_69469', 'procedure_code_65589', 'procedure_code_37372', 'procedure_code_12384', 'procedure_code_33175', 'procedure_code_39871', 'procedure_code_44133', 'procedure_code_43370', 'procedure_code_7241', 'procedure_code_55216', 'procedure_code_51451', 'procedure_code_6430', 'procedure_code_7132']",
         "['medication_code_7265', 'medication_code_2247', 'medication_code_7874', 'medication_code_2057', 'medication_code_1847', 'medication_code_379', 'medication_code_7570', 'medication_code_7660', 'medication_code_9178', 'medication_code_3778', 'medication_code_1881', 'medication_code_4090', 'medication_code_1350', 'medication_code_4503', 'medication_code_6239', 'medication_code_125', 'medication_code_2865', 'medication_code_2977', 'medication_code_7490', 'medication_code_164', 'medication_code_3023', 'medication_code_4261', 'medication_code_5127', 'medication_code_1073', 'medication_code_2915', 'medication_code_912', 'medication_code_7199', 'medication_code_9013', 'medication_code_7120', 'medication_code_7191', 'medication_code_9915', 'medication_code_5469', 'medication_code_3879', 'medication_code_4248', 'medication_code_1633']",
         "['lab_code_8336', 'lab_code_7292', 'lab_code_8455', 'lab_code_4524', 'lab_code_9010', 'lab_code_9097', 'lab_code_5304']",
         "[0, 0, 0, 0, 0, 0, 0, 0, 0, 0, 0, 0, 0, 0, 0, 0, 0, 0, 0, 0, 0, 0, 0, 0, 0, 0, 0, 0, 0, 0, 0, 0, 0, 0, 0, 0, 0, 0, 0, 0, 0, 0, 0, 0, 0, 0, 0, 0, 0, 0, 0, 0, 0, 0, 0, 0, 0]",
         "2531"
        ],
        [
         "1702",
         "udacity_health_encounter_id_2631",
         "udacity_health_patient_id_309",
         "dx_code_38210",
         "['procedure_code_121']",
         "['medication_code_7480', 'medication_code_7917', 'medication_code_8167', 'medication_code_8431', 'medication_code_9428', 'medication_code_7507', 'medication_code_7035', 'medication_code_3510']",
         "['lab_code_4777']",
         "[0, 0, 0, 0, 0, 0, 0, 0, 0, 0]",
         "2631"
        ],
        [
         "2069",
         "udacity_health_encounter_id_2989",
         "udacity_health_patient_id_309",
         "dx_code_80145",
         "['procedure_code_28893', 'procedure_code_9124', 'procedure_code_23498', 'procedure_code_829', 'procedure_code_71128', 'procedure_code_28721', 'procedure_code_68433']",
         "['medication_code_43', 'medication_code_5602', 'medication_code_9112', 'medication_code_1727', 'medication_code_7588', 'medication_code_5316', 'medication_code_3712', 'medication_code_5250', 'medication_code_392', 'medication_code_6005']",
         "['lab_code_3392', 'lab_code_9665', 'lab_code_4132', 'lab_code_4680', 'lab_code_9800', 'lab_code_8650']",
         "[0, 0, 0, 0, 0, 0, 0, 0, 0, 0, 0, 0, 0, 0, 0, 0, 0, 0, 0, 0, 0, 0, 0]",
         "2989"
        ],
        [
         "2291",
         "udacity_health_encounter_id_3209",
         "udacity_health_patient_id_309",
         "dx_code_74710",
         "['procedure_code_41970', 'procedure_code_64032', 'procedure_code_31786']",
         "['medication_code_7596', 'medication_code_7481', 'medication_code_2122', 'medication_code_3801', 'medication_code_316', 'medication_code_5099', 'medication_code_6328', 'medication_code_6006', 'medication_code_8956', 'medication_code_6403', 'medication_code_1471', 'medication_code_4780', 'medication_code_3330']",
         "['lab_code_9105']",
         "[0, 0, 0, 0, 0, 0, 0, 0, 0, 0, 0, 0, 0, 0, 0, 0, 0]",
         "3209"
        ],
        [
         "2507",
         "udacity_health_encounter_id_3416",
         "udacity_health_patient_id_309",
         "dx_code_43343",
         "['procedure_code_11834', 'procedure_code_12304', 'procedure_code_6908', 'procedure_code_28858', 'procedure_code_51911', 'procedure_code_5192', 'procedure_code_41084', 'procedure_code_53546', 'procedure_code_4030', 'procedure_code_51990']",
         "['medication_code_3767', 'medication_code_7630', 'medication_code_5666', 'medication_code_5481', 'medication_code_1409', 'medication_code_5073', 'medication_code_8228', 'medication_code_7060', 'medication_code_8902', 'medication_code_8997', 'medication_code_3225', 'medication_code_9513', 'medication_code_5107', 'medication_code_8042', 'medication_code_6662', 'medication_code_1950', 'medication_code_8521', 'medication_code_6104', 'medication_code_3976']",
         "['lab_code_774', 'lab_code_9591', 'lab_code_3196', 'lab_code_823', 'lab_code_9489']",
         "[0, 0, 0, 0, 0, 0, 0, 0, 0, 0, 0, 0, 0, 0, 0, 0, 0, 0, 0, 0, 0, 0, 0, 0, 0, 0, 0, 0, 0, 0, 0, 0, 0, 0]",
         "3416"
        ],
        [
         "2696",
         "udacity_health_encounter_id_360",
         "udacity_health_patient_id_309",
         "dx_code_94868",
         "[]",
         "['medication_code_193', 'medication_code_3556', 'medication_code_3225']",
         "[]",
         "[0, 0, 0]",
         "360"
        ],
        [
         "2890",
         "udacity_health_encounter_id_3792",
         "udacity_health_patient_id_309",
         "dx_code_37738",
         "['procedure_code_11852', 'procedure_code_45278', 'procedure_code_27115']",
         "['medication_code_7882', 'medication_code_6562', 'medication_code_6935', 'medication_code_9138', 'medication_code_7313', 'medication_code_8751', 'medication_code_7298', 'medication_code_906', 'medication_code_5389', 'medication_code_2567', 'medication_code_9655', 'medication_code_7248']",
         "['lab_code_3787', 'lab_code_6452', 'lab_code_6290', 'lab_code_1098']",
         "[0, 0, 0, 0, 0, 0, 0, 0, 0, 0, 0, 0, 0, 0, 0, 0, 0, 0, 0]",
         "3792"
        ],
        [
         "2960",
         "udacity_health_encounter_id_3859",
         "udacity_health_patient_id_309",
         "dx_code_17144",
         "['procedure_code_69917']",
         "['medication_code_2152', 'medication_code_7078', 'medication_code_4937', 'medication_code_3319', 'medication_code_2974']",
         "['lab_code_5682']",
         "[0, 0, 0, 0, 0, 0, 0]",
         "3859"
        ],
        [
         "3064",
         "udacity_health_encounter_id_3961",
         "udacity_health_patient_id_309",
         "dx_code_61465",
         "['procedure_code_15248', 'procedure_code_65724', 'procedure_code_53588', 'procedure_code_71372', 'procedure_code_31480', 'procedure_code_67692', 'procedure_code_32729', 'procedure_code_38019', 'procedure_code_12544', 'procedure_code_23611']",
         "['medication_code_701', 'medication_code_8324', 'medication_code_4998', 'medication_code_4494', 'medication_code_7446', 'medication_code_5743', 'medication_code_8885', 'medication_code_3843', 'medication_code_338', 'medication_code_2995', 'medication_code_7925', 'medication_code_2169', 'medication_code_7313', 'medication_code_5563', 'medication_code_2628', 'medication_code_5317', 'medication_code_7097', 'medication_code_8484', 'medication_code_252', 'medication_code_2709', 'medication_code_8683', 'medication_code_7644', 'medication_code_9700', 'medication_code_1780', 'medication_code_6621', 'medication_code_7965', 'medication_code_249']",
         "['lab_code_7691', 'lab_code_4598', 'lab_code_1661', 'lab_code_3102']",
         "[0, 0, 0, 0, 0, 0, 0, 0, 0, 0, 0, 0, 0, 0, 0, 0, 0, 0, 0, 0, 0, 0, 0, 0, 0, 0, 0, 0, 0, 0, 0, 0, 0, 0, 0, 0, 0, 0, 0, 0, 0]",
         "3961"
        ],
        [
         "3167",
         "udacity_health_encounter_id_4058",
         "udacity_health_patient_id_309",
         "dx_code_73636",
         "['procedure_code_5646', 'procedure_code_1381', 'procedure_code_64768', 'procedure_code_44498', 'procedure_code_39646', 'procedure_code_35653', 'procedure_code_37235', 'procedure_code_24532', 'procedure_code_23713', 'procedure_code_70675', 'procedure_code_40603']",
         "['medication_code_4201', 'medication_code_5328', 'medication_code_1143', 'medication_code_8629', 'medication_code_9656', 'medication_code_1829', 'medication_code_1204', 'medication_code_5259', 'medication_code_8281', 'medication_code_6563', 'medication_code_8171', 'medication_code_298', 'medication_code_2982', 'medication_code_1822', 'medication_code_1560', 'medication_code_8985', 'medication_code_3134', 'medication_code_483', 'medication_code_8707', 'medication_code_2995', 'medication_code_3447', 'medication_code_5274', 'medication_code_4157', 'medication_code_3401', 'medication_code_5590', 'medication_code_8755', 'medication_code_1938', 'medication_code_710', 'medication_code_9413']",
         "['lab_code_9083', 'lab_code_1392', 'lab_code_1781', 'lab_code_4630', 'lab_code_2968', 'lab_code_6503']",
         "[0, 0, 0, 0, 0, 0, 0, 0, 0, 0, 0, 0, 0, 0, 0, 0, 0, 0, 0, 0, 0, 0, 0, 0, 0, 0, 0, 0, 0, 0, 0, 0, 0, 0, 0, 0, 0, 0, 0, 0, 0, 0, 0, 0, 0, 0]",
         "4058"
        ],
        [
         "3280",
         "udacity_health_encounter_id_4168",
         "udacity_health_patient_id_309",
         "dx_code_9795",
         "['procedure_code_44804', 'procedure_code_10917', 'procedure_code_21427', 'procedure_code_30749', 'procedure_code_27961', 'procedure_code_47740', 'procedure_code_58905', 'procedure_code_70115', 'procedure_code_62442', 'procedure_code_40228', 'procedure_code_70002', 'procedure_code_60857', 'procedure_code_16543', 'procedure_code_23324', 'procedure_code_34583', 'procedure_code_35540', 'procedure_code_53678']",
         "['medication_code_2738', 'medication_code_9919', 'medication_code_2032', 'medication_code_8783', 'medication_code_7920', 'medication_code_5036', 'medication_code_4153', 'medication_code_5164', 'medication_code_2848', 'medication_code_2311', 'medication_code_4562', 'medication_code_418', 'medication_code_1975', 'medication_code_394', 'medication_code_3525', 'medication_code_9485', 'medication_code_9288', 'medication_code_612', 'medication_code_2479', 'medication_code_980']",
         "['lab_code_4690', 'lab_code_5570', 'lab_code_2883', 'lab_code_1022', 'lab_code_5273', 'lab_code_4025', 'lab_code_5833', 'lab_code_6374', 'lab_code_1187', 'lab_code_4538', 'lab_code_2997', 'lab_code_6586', 'lab_code_2377']",
         "[0, 0, 0, 0, 0, 0, 0, 0, 0, 0, 0, 0, 0, 0, 0, 0, 0, 0, 0, 0, 0, 0, 0, 0, 0, 0, 0, 0, 0, 0, 0, 0, 0, 0, 0, 0, 0, 0, 0, 0, 0, 0, 0, 0, 0, 0, 0, 0, 0, 0]",
         "4168"
        ],
        [
         "3353",
         "udacity_health_encounter_id_4239",
         "udacity_health_patient_id_309",
         "dx_code_28764",
         "['procedure_code_31873', 'procedure_code_29930', 'procedure_code_72483', 'procedure_code_65908', 'procedure_code_58239', 'procedure_code_58299', 'procedure_code_45205', 'procedure_code_11490', 'procedure_code_15103', 'procedure_code_4991', 'procedure_code_40120', 'procedure_code_1945', 'procedure_code_7929', 'procedure_code_69731', 'procedure_code_61355', 'procedure_code_65595', 'procedure_code_40871']",
         "['medication_code_7607', 'medication_code_6643', 'medication_code_6358', 'medication_code_3915', 'medication_code_6170', 'medication_code_3410', 'medication_code_3783', 'medication_code_3561', 'medication_code_2332', 'medication_code_5812', 'medication_code_2211', 'medication_code_4374', 'medication_code_2124', 'medication_code_5057', 'medication_code_7098', 'medication_code_5790', 'medication_code_9885', 'medication_code_2440', 'medication_code_2178', 'medication_code_7774', 'medication_code_5112', 'medication_code_8420', 'medication_code_4742', 'medication_code_7168', 'medication_code_6503', 'medication_code_4330', 'medication_code_2219', 'medication_code_7573', 'medication_code_6753', 'medication_code_8147']",
         "['lab_code_8492', 'lab_code_3309', 'lab_code_624', 'lab_code_6240', 'lab_code_9633', 'lab_code_3346', 'lab_code_6273', 'lab_code_8290', 'lab_code_2307']",
         "[0, 0, 0, 0, 0, 0, 0, 0, 0, 0, 0, 0, 0, 0, 0, 0, 0, 0, 0, 0, 0, 0, 0, 0, 0, 0, 0, 0, 0, 0, 0, 0, 0, 0, 0, 0, 0, 0, 0, 0, 0, 0, 0, 0, 0, 0, 0, 0, 0, 0, 0, 0, 0, 0, 0, 0]",
         "4239"
        ],
        [
         "3561",
         "udacity_health_encounter_id_4439",
         "udacity_health_patient_id_309",
         "dx_code_31393",
         "['procedure_code_69203', 'procedure_code_53820', 'procedure_code_65966', 'procedure_code_32170', 'procedure_code_61502']",
         "['medication_code_9780', 'medication_code_7008', 'medication_code_7920', 'medication_code_4880']",
         "[]",
         "[0, 0, 0, 0, 0, 0, 0, 0, 0]",
         "4439"
        ],
        [
         "3585",
         "udacity_health_encounter_id_4462",
         "udacity_health_patient_id_309",
         "dx_code_53624",
         "['procedure_code_64278', 'procedure_code_19230']",
         "['medication_code_8759', 'medication_code_59', 'medication_code_799', 'medication_code_5095', 'medication_code_5233', 'medication_code_1870', 'medication_code_9542', 'medication_code_6823', 'medication_code_5518', 'medication_code_5096', 'medication_code_8078', 'medication_code_5242', 'medication_code_2051', 'medication_code_1629', 'medication_code_2328', 'medication_code_2510', 'medication_code_5378', 'medication_code_3835', 'medication_code_255', 'medication_code_4311', 'medication_code_1365']",
         "['lab_code_3790', 'lab_code_591', 'lab_code_8931', 'lab_code_8522']",
         "[0, 0, 0, 0, 0, 0, 0, 0, 0, 0, 0, 0, 0, 0, 0, 0, 0, 0, 0, 0, 0, 0, 0, 0, 0, 0, 0]",
         "4462"
        ],
        [
         "3718",
         "udacity_health_encounter_id_4589",
         "udacity_health_patient_id_309",
         "dx_code_67438",
         "[]",
         "['medication_code_8103']",
         "[]",
         "[0]",
         "4589"
        ],
        [
         "3752",
         "udacity_health_encounter_id_4619",
         "udacity_health_patient_id_309",
         "dx_code_79460",
         "['procedure_code_8648', 'procedure_code_22388', 'procedure_code_50197', 'procedure_code_50957', 'procedure_code_30289', 'procedure_code_65392']",
         "['medication_code_4773', 'medication_code_5839', 'medication_code_294', 'medication_code_2337', 'medication_code_2756', 'medication_code_7400', 'medication_code_2705', 'medication_code_9339']",
         "['lab_code_5055']",
         "[0, 0, 0, 0, 0, 0, 0, 0, 0, 0, 0, 0, 0, 0, 0]",
         "4619"
        ],
        [
         "3916",
         "udacity_health_encounter_id_478",
         "udacity_health_patient_id_309",
         "dx_code_43778",
         "[]",
         "['medication_code_1646', 'medication_code_4346']",
         "[]",
         "[0, 0]",
         "478"
        ],
        [
         "4552",
         "udacity_health_encounter_id_5398",
         "udacity_health_patient_id_309",
         "dx_code_58513",
         "['procedure_code_3629', 'procedure_code_56509', 'procedure_code_47654', 'procedure_code_15736']",
         "['medication_code_5697', 'medication_code_9845', 'medication_code_9451', 'medication_code_9329', 'medication_code_3502']",
         "['lab_code_4909']",
         "[0, 0, 0, 0, 0, 0, 0, 0, 0, 0]",
         "5398"
        ],
        [
         "4687",
         "udacity_health_encounter_id_553",
         "udacity_health_patient_id_309",
         "dx_code_88408",
         "['procedure_code_19471', 'procedure_code_17060', 'procedure_code_33754', 'procedure_code_13373']",
         "['medication_code_1541', 'medication_code_5218', 'medication_code_5721', 'medication_code_7396']",
         "['lab_code_4271', 'lab_code_7946', 'lab_code_9656', 'lab_code_7744', 'lab_code_1968']",
         "[0, 0, 0, 0, 0, 0, 0, 0, 0, 0, 0, 0, 0]",
         "553"
        ],
        [
         "4771",
         "udacity_health_encounter_id_5611",
         "udacity_health_patient_id_309",
         "dx_code_46410",
         "['procedure_code_71656', 'procedure_code_29912', 'procedure_code_33063', 'procedure_code_11343', 'procedure_code_70958']",
         "['medication_code_3365', 'medication_code_862', 'medication_code_7889', 'medication_code_9316', 'medication_code_316', 'medication_code_167', 'medication_code_536', 'medication_code_5734']",
         "['lab_code_8280', 'lab_code_9803', 'lab_code_1230']",
         "[0, 0, 0, 0, 0, 0, 0, 0, 0, 0, 0, 0, 0, 0, 0, 0]",
         "5611"
        ],
        [
         "4785",
         "udacity_health_encounter_id_5624",
         "udacity_health_patient_id_309",
         "dx_code_96267",
         "[]",
         "['medication_code_1343']",
         "['lab_code_9589']",
         "[0, 0]",
         "5624"
        ],
        [
         "4796",
         "udacity_health_encounter_id_5635",
         "udacity_health_patient_id_309",
         "dx_code_67422",
         "[]",
         "['medication_code_2864']",
         "[]",
         "[0]",
         "5635"
        ],
        [
         "4862",
         "udacity_health_encounter_id_5701",
         "udacity_health_patient_id_309",
         "dx_code_4007",
         "['procedure_code_8263', 'procedure_code_7509']",
         "['medication_code_3925', 'medication_code_3163']",
         "[]",
         "[0, 0, 0, 0]",
         "5701"
        ],
        [
         "4881",
         "udacity_health_encounter_id_5721",
         "udacity_health_patient_id_309",
         "dx_code_11147",
         "['procedure_code_68127', 'procedure_code_3768', 'procedure_code_8141', 'procedure_code_64477', 'procedure_code_49968', 'procedure_code_49003', 'procedure_code_54185', 'procedure_code_48364', 'procedure_code_40958']",
         "['medication_code_4722', 'medication_code_2681', 'medication_code_5169', 'medication_code_753', 'medication_code_4260', 'medication_code_5339', 'medication_code_226', 'medication_code_6764', 'medication_code_9710', 'medication_code_5386', 'medication_code_7642', 'medication_code_8856', 'medication_code_5411', 'medication_code_5738', 'medication_code_1034', 'medication_code_1448', 'medication_code_9939', 'medication_code_9832', 'medication_code_5411', 'medication_code_3600', 'medication_code_782', 'medication_code_2317', 'medication_code_3444', 'medication_code_8782', 'medication_code_954', 'medication_code_8915']",
         "['lab_code_8853', 'lab_code_3111', 'lab_code_213', 'lab_code_5055', 'lab_code_1906']",
         "[0, 0, 0, 0, 0, 0, 0, 0, 0, 0, 0, 0, 0, 0, 0, 0, 0, 0, 0, 0, 0, 0, 0, 0, 0, 0, 0, 0, 0, 0, 0, 0, 0, 0, 0, 0, 0, 0, 0, 0]",
         "5721"
        ],
        [
         "5132",
         "udacity_health_encounter_id_597",
         "udacity_health_patient_id_309",
         "dx_code_25907",
         "['procedure_code_41138', 'procedure_code_28596']",
         "['medication_code_4777', 'medication_code_4318', 'medication_code_8737']",
         "['lab_code_1043']",
         "[0, 0, 0, 0, 0, 0]",
         "597"
        ],
        [
         "5306",
         "udacity_health_encounter_id_6139",
         "udacity_health_patient_id_309",
         "dx_code_40784",
         "['procedure_code_48973', 'procedure_code_7953', 'procedure_code_12217', 'procedure_code_28760']",
         "['medication_code_3191', 'medication_code_105', 'medication_code_139', 'medication_code_6122', 'medication_code_572', 'medication_code_3692', 'medication_code_3786', 'medication_code_8448', 'medication_code_9717', 'medication_code_2133', 'medication_code_1515', 'medication_code_5349', 'medication_code_1749', 'medication_code_8177']",
         "['lab_code_5078', 'lab_code_2361', 'lab_code_9035', 'lab_code_564', 'lab_code_8919']",
         "[0, 0, 0, 0, 0, 0, 0, 0, 0, 0, 0, 0, 0, 0, 0, 0, 0, 0, 0, 0, 0, 0, 0]",
         "6139"
        ],
        [
         "5385",
         "udacity_health_encounter_id_622",
         "udacity_health_patient_id_309",
         "dx_code_25556",
         "['procedure_code_10462']",
         "['medication_code_3626', 'medication_code_311']",
         "['lab_code_4960']",
         "[0, 0, 0, 0]",
         "622"
        ],
        [
         "5472",
         "udacity_health_encounter_id_6305",
         "udacity_health_patient_id_309",
         "dx_code_93595",
         "['procedure_code_6005', 'procedure_code_13203', 'procedure_code_58142']",
         "['medication_code_4513']",
         "['lab_code_7349', 'lab_code_1043', 'lab_code_9826']",
         "[0, 0, 0, 0, 0, 0, 0]",
         "6305"
        ],
        [
         "5564",
         "udacity_health_encounter_id_6394",
         "udacity_health_patient_id_309",
         "dx_code_17875",
         "['procedure_code_42424']",
         "[]",
         "['lab_code_5222']",
         "[0, 0]",
         "6394"
        ],
        [
         "5669",
         "udacity_health_encounter_id_6497",
         "udacity_health_patient_id_309",
         "dx_code_36095",
         "['procedure_code_33881', 'procedure_code_6396', 'procedure_code_32904', 'procedure_code_45309']",
         "['medication_code_6849', 'medication_code_2364', 'medication_code_3416', 'medication_code_5250', 'medication_code_9685', 'medication_code_7781', 'medication_code_8300']",
         "['lab_code_2570', 'lab_code_2383', 'lab_code_8490']",
         "[0, 0, 0, 0, 0, 0, 0, 0, 0, 0, 0, 0, 0, 0]",
         "6497"
        ],
        [
         "5684",
         "udacity_health_encounter_id_6512",
         "udacity_health_patient_id_309",
         "dx_code_92784",
         "['procedure_code_31090', 'procedure_code_28839', 'procedure_code_70076']",
         "['medication_code_5274', 'medication_code_6976', 'medication_code_5770', 'medication_code_5619', 'medication_code_847']",
         "['lab_code_4639']",
         "[0, 0, 0, 0, 0, 0, 0, 0, 0]",
         "6512"
        ],
        [
         "5829",
         "udacity_health_encounter_id_6662",
         "udacity_health_patient_id_309",
         "dx_code_26279",
         "['procedure_code_47253', 'procedure_code_52416', 'procedure_code_28709', 'procedure_code_3688', 'procedure_code_4422', 'procedure_code_70352', 'procedure_code_17839']",
         "['medication_code_2602', 'medication_code_3320', 'medication_code_2295', 'medication_code_9306', 'medication_code_8568']",
         "['lab_code_5441']",
         "[0, 0, 0, 0, 0, 0, 0, 0, 0, 0, 0, 0, 0]",
         "6662"
        ],
        [
         "5846",
         "udacity_health_encounter_id_668",
         "udacity_health_patient_id_309",
         "dx_code_22666",
         "['procedure_code_10507', 'procedure_code_39636', 'procedure_code_31635']",
         "['medication_code_4676', 'medication_code_4760', 'medication_code_2299', 'medication_code_6322', 'medication_code_5058', 'medication_code_1066', 'medication_code_5094', 'medication_code_8166']",
         "['lab_code_7518', 'lab_code_1774', 'lab_code_5776', 'lab_code_8902']",
         "[0, 0, 0, 0, 0, 0, 0, 0, 0, 0, 0, 0, 0, 0, 0]",
         "668"
        ],
        [
         "5946",
         "udacity_health_encounter_id_6777",
         "udacity_health_patient_id_309",
         "dx_code_78269",
         "['procedure_code_58888', 'procedure_code_72745']",
         "['medication_code_227', 'medication_code_7799']",
         "[]",
         "[0, 0, 0, 0]",
         "6777"
        ],
        [
         "6508",
         "udacity_health_encounter_id_7327",
         "udacity_health_patient_id_309",
         "dx_code_18813",
         "['procedure_code_9329', 'procedure_code_28542', 'procedure_code_36667', 'procedure_code_3134', 'procedure_code_43586', 'procedure_code_11446', 'procedure_code_44961', 'procedure_code_22466', 'procedure_code_3659', 'procedure_code_47519', 'procedure_code_60157', 'procedure_code_64421', 'procedure_code_10253', 'procedure_code_62875', 'procedure_code_66468', 'procedure_code_10715', 'procedure_code_27033', 'procedure_code_41547', 'procedure_code_52978', 'procedure_code_67966', 'procedure_code_29629', 'procedure_code_61017', 'procedure_code_50413', 'procedure_code_72067']",
         "['medication_code_4006', 'medication_code_485', 'medication_code_6429', 'medication_code_7902', 'medication_code_698', 'medication_code_2560', 'medication_code_8655', 'medication_code_6562', 'medication_code_6372', 'medication_code_5785', 'medication_code_3293', 'medication_code_2485', 'medication_code_3339', 'medication_code_2682', 'medication_code_9023', 'medication_code_3002', 'medication_code_1746', 'medication_code_9579', 'medication_code_9034', 'medication_code_9991', 'medication_code_3572', 'medication_code_6984', 'medication_code_3794', 'medication_code_7003', 'medication_code_7818', 'medication_code_382', 'medication_code_7874', 'medication_code_4081', 'medication_code_9066', 'medication_code_763', 'medication_code_1902', 'medication_code_3875', 'medication_code_9015', 'medication_code_5077', 'medication_code_767', 'medication_code_6353', 'medication_code_4395', 'medication_code_6035', 'medication_code_9271', 'medication_code_1219', 'medication_code_4858', 'medication_code_8300', 'medication_code_6597', 'medication_code_2713', 'medication_code_290', 'medication_code_9419']",
         "['lab_code_71', 'lab_code_7769', 'lab_code_659', 'lab_code_4467', 'lab_code_560', 'lab_code_2583', 'lab_code_6932', 'lab_code_2889', 'lab_code_2958', 'lab_code_5146', 'lab_code_3337', 'lab_code_8833', 'lab_code_5833', 'lab_code_1979']",
         "[0, 0, 0, 0, 0, 0, 0, 0, 0, 0, 0, 0, 0, 0, 0, 0, 0, 0, 0, 0, 0, 0, 0, 0, 0, 0, 0, 0, 0, 0, 0, 0, 0, 0, 0, 0, 0, 0, 0, 0, 0, 0, 0, 0, 0, 0, 0, 0, 0, 0, 0, 0, 0, 0, 0, 0, 0, 0, 0, 0, 0, 0, 0, 0, 0, 0, 0, 0, 0, 0, 0, 0, 0, 0, 0, 0, 0, 0, 0, 0, 0, 0, 0, 0]",
         "7327"
        ],
        [
         "6892",
         "udacity_health_encounter_id_7696",
         "udacity_health_patient_id_309",
         "dx_code_24785",
         "['procedure_code_31137', 'procedure_code_23811', 'procedure_code_57567']",
         "['medication_code_2626', 'medication_code_6310', 'medication_code_8484', 'medication_code_9018', 'medication_code_5457', 'medication_code_1874', 'medication_code_2495', 'medication_code_2794', 'medication_code_9990', 'medication_code_9559', 'medication_code_4070']",
         "['lab_code_8317', 'lab_code_2116', 'lab_code_274']",
         "[0, 0, 0, 0, 0, 0, 0, 0, 0, 0, 0, 0, 0, 0, 0, 0, 0]",
         "7696"
        ],
        [
         "6969",
         "udacity_health_encounter_id_7772",
         "udacity_health_patient_id_309",
         "dx_code_949",
         "['procedure_code_45976', 'procedure_code_26419', 'procedure_code_18695', 'procedure_code_22526']",
         "['medication_code_9684', 'medication_code_8486', 'medication_code_9458']",
         "[]",
         "[0, 0, 0, 0, 0, 0, 0]",
         "7772"
        ],
        [
         "7217",
         "udacity_health_encounter_id_995",
         "udacity_health_patient_id_309",
         "dx_code_4976",
         "['procedure_code_8156', 'procedure_code_23220']",
         "['medication_code_5388', 'medication_code_5533', 'medication_code_4664', 'medication_code_1048']",
         "['lab_code_2049']",
         "[0, 0, 0, 0, 0, 0, 0]",
         "995"
        ]
       ],
       "shape": {
        "columns": 8,
        "rows": 49
       }
      },
      "text/html": [
       "<div>\n",
       "<style scoped>\n",
       "    .dataframe tbody tr th:only-of-type {\n",
       "        vertical-align: middle;\n",
       "    }\n",
       "\n",
       "    .dataframe tbody tr th {\n",
       "        vertical-align: top;\n",
       "    }\n",
       "\n",
       "    .dataframe thead th {\n",
       "        text-align: right;\n",
       "    }\n",
       "</style>\n",
       "<table border=\"1\" class=\"dataframe\">\n",
       "  <thead>\n",
       "    <tr style=\"text-align: right;\">\n",
       "      <th></th>\n",
       "      <th>ENCOUNTER_ID</th>\n",
       "      <th>PATIENT_ID</th>\n",
       "      <th>PRINCIPAL_DIAGNOSIS_CODE</th>\n",
       "      <th>PROCEDURE_CODE</th>\n",
       "      <th>MEDICATION_CODE</th>\n",
       "      <th>LAB_CODE</th>\n",
       "      <th>LABEL</th>\n",
       "      <th>ENCOUNTER_ID_NUMBER</th>\n",
       "    </tr>\n",
       "  </thead>\n",
       "  <tbody>\n",
       "    <tr>\n",
       "      <th>94</th>\n",
       "      <td>udacity_health_encounter_id_1091</td>\n",
       "      <td>udacity_health_patient_id_309</td>\n",
       "      <td>dx_code_62502</td>\n",
       "      <td>['procedure_code_69597']</td>\n",
       "      <td>['medication_code_9253', 'medication_code_7444...</td>\n",
       "      <td>['lab_code_9415', 'lab_code_8179']</td>\n",
       "      <td>[0, 0, 0, 0, 0, 0, 0]</td>\n",
       "      <td>1091</td>\n",
       "    </tr>\n",
       "    <tr>\n",
       "      <th>450</th>\n",
       "      <td>udacity_health_encounter_id_1436</td>\n",
       "      <td>udacity_health_patient_id_309</td>\n",
       "      <td>dx_code_37825</td>\n",
       "      <td>['procedure_code_14044', 'procedure_code_47911...</td>\n",
       "      <td>['medication_code_4081', 'medication_code_6050...</td>\n",
       "      <td>['lab_code_6246', 'lab_code_7197']</td>\n",
       "      <td>[0, 0, 0, 0, 0, 0, 0, 0, 0, 0, 0, 0, 0, 0, 0, ...</td>\n",
       "      <td>1436</td>\n",
       "    </tr>\n",
       "    <tr>\n",
       "      <th>605</th>\n",
       "      <td>udacity_health_encounter_id_1582</td>\n",
       "      <td>udacity_health_patient_id_309</td>\n",
       "      <td>dx_code_79663</td>\n",
       "      <td>[]</td>\n",
       "      <td>['medication_code_4450', 'medication_code_4900...</td>\n",
       "      <td>[]</td>\n",
       "      <td>[0, 0, 0]</td>\n",
       "      <td>1582</td>\n",
       "    </tr>\n",
       "    <tr>\n",
       "      <th>665</th>\n",
       "      <td>udacity_health_encounter_id_1643</td>\n",
       "      <td>udacity_health_patient_id_309</td>\n",
       "      <td>dx_code_60773</td>\n",
       "      <td>['procedure_code_39999', 'procedure_code_31842...</td>\n",
       "      <td>['medication_code_413', 'medication_code_5966'...</td>\n",
       "      <td>['lab_code_4295', 'lab_code_2383']</td>\n",
       "      <td>[0, 0, 0, 0, 0, 0, 0, 0, 0, 0, 0, 0, 0, 0, 0, ...</td>\n",
       "      <td>1643</td>\n",
       "    </tr>\n",
       "    <tr>\n",
       "      <th>684</th>\n",
       "      <td>udacity_health_encounter_id_1662</td>\n",
       "      <td>udacity_health_patient_id_309</td>\n",
       "      <td>dx_code_29272</td>\n",
       "      <td>['procedure_code_12589', 'procedure_code_3005'...</td>\n",
       "      <td>['medication_code_9845', 'medication_code_6602...</td>\n",
       "      <td>['lab_code_4330', 'lab_code_3499', 'lab_code_1...</td>\n",
       "      <td>[0, 0, 0, 0, 0, 0, 0, 0, 0, 0, 0, 0, 0, 0, 0, ...</td>\n",
       "      <td>1662</td>\n",
       "    </tr>\n",
       "    <tr>\n",
       "      <th>867</th>\n",
       "      <td>udacity_health_encounter_id_1837</td>\n",
       "      <td>udacity_health_patient_id_309</td>\n",
       "      <td>dx_code_56368</td>\n",
       "      <td>['procedure_code_14069', 'procedure_code_15230...</td>\n",
       "      <td>['medication_code_5820', 'medication_code_8028...</td>\n",
       "      <td>['lab_code_8964']</td>\n",
       "      <td>[0, 0, 0, 0, 0, 0, 0, 0, 0, 0, 0, 0, 0]</td>\n",
       "      <td>1837</td>\n",
       "    </tr>\n",
       "    <tr>\n",
       "      <th>1024</th>\n",
       "      <td>udacity_health_encounter_id_1985</td>\n",
       "      <td>udacity_health_patient_id_309</td>\n",
       "      <td>dx_code_38581</td>\n",
       "      <td>['procedure_code_1431', 'procedure_code_71061']</td>\n",
       "      <td>['medication_code_3134', 'medication_code_4868...</td>\n",
       "      <td>['lab_code_7702']</td>\n",
       "      <td>[0, 0, 0, 0, 0, 0, 0, 0, 0]</td>\n",
       "      <td>1985</td>\n",
       "    </tr>\n",
       "    <tr>\n",
       "      <th>1042</th>\n",
       "      <td>udacity_health_encounter_id_2000</td>\n",
       "      <td>udacity_health_patient_id_309</td>\n",
       "      <td>dx_code_91230</td>\n",
       "      <td>[]</td>\n",
       "      <td>[]</td>\n",
       "      <td>['lab_code_8062']</td>\n",
       "      <td>[0]</td>\n",
       "      <td>2000</td>\n",
       "    </tr>\n",
       "    <tr>\n",
       "      <th>1196</th>\n",
       "      <td>udacity_health_encounter_id_2142</td>\n",
       "      <td>udacity_health_patient_id_309</td>\n",
       "      <td>dx_code_58527</td>\n",
       "      <td>['procedure_code_56979', 'procedure_code_24797...</td>\n",
       "      <td>['medication_code_7631', 'medication_code_7508...</td>\n",
       "      <td>['lab_code_3908', 'lab_code_1500']</td>\n",
       "      <td>[0, 0, 0, 0, 0, 0, 0, 0, 0, 0, 0, 0, 0, 0, 0, ...</td>\n",
       "      <td>2142</td>\n",
       "    </tr>\n",
       "    <tr>\n",
       "      <th>1289</th>\n",
       "      <td>udacity_health_encounter_id_2229</td>\n",
       "      <td>udacity_health_patient_id_309</td>\n",
       "      <td>dx_code_46826</td>\n",
       "      <td>['procedure_code_50916', 'procedure_code_20032...</td>\n",
       "      <td>['medication_code_9204', 'medication_code_1282...</td>\n",
       "      <td>['lab_code_5607', 'lab_code_5139']</td>\n",
       "      <td>[0, 0, 0, 0, 0, 0, 0, 0, 0, 0, 0, 0, 0, 0, 0]</td>\n",
       "      <td>2229</td>\n",
       "    </tr>\n",
       "    <tr>\n",
       "      <th>1340</th>\n",
       "      <td>udacity_health_encounter_id_2281</td>\n",
       "      <td>udacity_health_patient_id_309</td>\n",
       "      <td>dx_code_39484</td>\n",
       "      <td>['procedure_code_33400', 'procedure_code_56', ...</td>\n",
       "      <td>['medication_code_1938', 'medication_code_4076...</td>\n",
       "      <td>['lab_code_9178', 'lab_code_3557', 'lab_code_2...</td>\n",
       "      <td>[0, 0, 0, 0, 0, 0, 0, 0, 0, 0, 0, 0, 0, 0, 0, 0]</td>\n",
       "      <td>2281</td>\n",
       "    </tr>\n",
       "    <tr>\n",
       "      <th>1596</th>\n",
       "      <td>udacity_health_encounter_id_2531</td>\n",
       "      <td>udacity_health_patient_id_309</td>\n",
       "      <td>dx_code_75423</td>\n",
       "      <td>['procedure_code_15600', 'procedure_code_19008...</td>\n",
       "      <td>['medication_code_7265', 'medication_code_2247...</td>\n",
       "      <td>['lab_code_8336', 'lab_code_7292', 'lab_code_8...</td>\n",
       "      <td>[0, 0, 0, 0, 0, 0, 0, 0, 0, 0, 0, 0, 0, 0, 0, ...</td>\n",
       "      <td>2531</td>\n",
       "    </tr>\n",
       "    <tr>\n",
       "      <th>1702</th>\n",
       "      <td>udacity_health_encounter_id_2631</td>\n",
       "      <td>udacity_health_patient_id_309</td>\n",
       "      <td>dx_code_38210</td>\n",
       "      <td>['procedure_code_121']</td>\n",
       "      <td>['medication_code_7480', 'medication_code_7917...</td>\n",
       "      <td>['lab_code_4777']</td>\n",
       "      <td>[0, 0, 0, 0, 0, 0, 0, 0, 0, 0]</td>\n",
       "      <td>2631</td>\n",
       "    </tr>\n",
       "    <tr>\n",
       "      <th>2069</th>\n",
       "      <td>udacity_health_encounter_id_2989</td>\n",
       "      <td>udacity_health_patient_id_309</td>\n",
       "      <td>dx_code_80145</td>\n",
       "      <td>['procedure_code_28893', 'procedure_code_9124'...</td>\n",
       "      <td>['medication_code_43', 'medication_code_5602',...</td>\n",
       "      <td>['lab_code_3392', 'lab_code_9665', 'lab_code_4...</td>\n",
       "      <td>[0, 0, 0, 0, 0, 0, 0, 0, 0, 0, 0, 0, 0, 0, 0, ...</td>\n",
       "      <td>2989</td>\n",
       "    </tr>\n",
       "    <tr>\n",
       "      <th>2291</th>\n",
       "      <td>udacity_health_encounter_id_3209</td>\n",
       "      <td>udacity_health_patient_id_309</td>\n",
       "      <td>dx_code_74710</td>\n",
       "      <td>['procedure_code_41970', 'procedure_code_64032...</td>\n",
       "      <td>['medication_code_7596', 'medication_code_7481...</td>\n",
       "      <td>['lab_code_9105']</td>\n",
       "      <td>[0, 0, 0, 0, 0, 0, 0, 0, 0, 0, 0, 0, 0, 0, 0, ...</td>\n",
       "      <td>3209</td>\n",
       "    </tr>\n",
       "    <tr>\n",
       "      <th>2507</th>\n",
       "      <td>udacity_health_encounter_id_3416</td>\n",
       "      <td>udacity_health_patient_id_309</td>\n",
       "      <td>dx_code_43343</td>\n",
       "      <td>['procedure_code_11834', 'procedure_code_12304...</td>\n",
       "      <td>['medication_code_3767', 'medication_code_7630...</td>\n",
       "      <td>['lab_code_774', 'lab_code_9591', 'lab_code_31...</td>\n",
       "      <td>[0, 0, 0, 0, 0, 0, 0, 0, 0, 0, 0, 0, 0, 0, 0, ...</td>\n",
       "      <td>3416</td>\n",
       "    </tr>\n",
       "    <tr>\n",
       "      <th>2696</th>\n",
       "      <td>udacity_health_encounter_id_360</td>\n",
       "      <td>udacity_health_patient_id_309</td>\n",
       "      <td>dx_code_94868</td>\n",
       "      <td>[]</td>\n",
       "      <td>['medication_code_193', 'medication_code_3556'...</td>\n",
       "      <td>[]</td>\n",
       "      <td>[0, 0, 0]</td>\n",
       "      <td>360</td>\n",
       "    </tr>\n",
       "    <tr>\n",
       "      <th>2890</th>\n",
       "      <td>udacity_health_encounter_id_3792</td>\n",
       "      <td>udacity_health_patient_id_309</td>\n",
       "      <td>dx_code_37738</td>\n",
       "      <td>['procedure_code_11852', 'procedure_code_45278...</td>\n",
       "      <td>['medication_code_7882', 'medication_code_6562...</td>\n",
       "      <td>['lab_code_3787', 'lab_code_6452', 'lab_code_6...</td>\n",
       "      <td>[0, 0, 0, 0, 0, 0, 0, 0, 0, 0, 0, 0, 0, 0, 0, ...</td>\n",
       "      <td>3792</td>\n",
       "    </tr>\n",
       "    <tr>\n",
       "      <th>2960</th>\n",
       "      <td>udacity_health_encounter_id_3859</td>\n",
       "      <td>udacity_health_patient_id_309</td>\n",
       "      <td>dx_code_17144</td>\n",
       "      <td>['procedure_code_69917']</td>\n",
       "      <td>['medication_code_2152', 'medication_code_7078...</td>\n",
       "      <td>['lab_code_5682']</td>\n",
       "      <td>[0, 0, 0, 0, 0, 0, 0]</td>\n",
       "      <td>3859</td>\n",
       "    </tr>\n",
       "    <tr>\n",
       "      <th>3064</th>\n",
       "      <td>udacity_health_encounter_id_3961</td>\n",
       "      <td>udacity_health_patient_id_309</td>\n",
       "      <td>dx_code_61465</td>\n",
       "      <td>['procedure_code_15248', 'procedure_code_65724...</td>\n",
       "      <td>['medication_code_701', 'medication_code_8324'...</td>\n",
       "      <td>['lab_code_7691', 'lab_code_4598', 'lab_code_1...</td>\n",
       "      <td>[0, 0, 0, 0, 0, 0, 0, 0, 0, 0, 0, 0, 0, 0, 0, ...</td>\n",
       "      <td>3961</td>\n",
       "    </tr>\n",
       "    <tr>\n",
       "      <th>3167</th>\n",
       "      <td>udacity_health_encounter_id_4058</td>\n",
       "      <td>udacity_health_patient_id_309</td>\n",
       "      <td>dx_code_73636</td>\n",
       "      <td>['procedure_code_5646', 'procedure_code_1381',...</td>\n",
       "      <td>['medication_code_4201', 'medication_code_5328...</td>\n",
       "      <td>['lab_code_9083', 'lab_code_1392', 'lab_code_1...</td>\n",
       "      <td>[0, 0, 0, 0, 0, 0, 0, 0, 0, 0, 0, 0, 0, 0, 0, ...</td>\n",
       "      <td>4058</td>\n",
       "    </tr>\n",
       "    <tr>\n",
       "      <th>3280</th>\n",
       "      <td>udacity_health_encounter_id_4168</td>\n",
       "      <td>udacity_health_patient_id_309</td>\n",
       "      <td>dx_code_9795</td>\n",
       "      <td>['procedure_code_44804', 'procedure_code_10917...</td>\n",
       "      <td>['medication_code_2738', 'medication_code_9919...</td>\n",
       "      <td>['lab_code_4690', 'lab_code_5570', 'lab_code_2...</td>\n",
       "      <td>[0, 0, 0, 0, 0, 0, 0, 0, 0, 0, 0, 0, 0, 0, 0, ...</td>\n",
       "      <td>4168</td>\n",
       "    </tr>\n",
       "    <tr>\n",
       "      <th>3353</th>\n",
       "      <td>udacity_health_encounter_id_4239</td>\n",
       "      <td>udacity_health_patient_id_309</td>\n",
       "      <td>dx_code_28764</td>\n",
       "      <td>['procedure_code_31873', 'procedure_code_29930...</td>\n",
       "      <td>['medication_code_7607', 'medication_code_6643...</td>\n",
       "      <td>['lab_code_8492', 'lab_code_3309', 'lab_code_6...</td>\n",
       "      <td>[0, 0, 0, 0, 0, 0, 0, 0, 0, 0, 0, 0, 0, 0, 0, ...</td>\n",
       "      <td>4239</td>\n",
       "    </tr>\n",
       "    <tr>\n",
       "      <th>3561</th>\n",
       "      <td>udacity_health_encounter_id_4439</td>\n",
       "      <td>udacity_health_patient_id_309</td>\n",
       "      <td>dx_code_31393</td>\n",
       "      <td>['procedure_code_69203', 'procedure_code_53820...</td>\n",
       "      <td>['medication_code_9780', 'medication_code_7008...</td>\n",
       "      <td>[]</td>\n",
       "      <td>[0, 0, 0, 0, 0, 0, 0, 0, 0]</td>\n",
       "      <td>4439</td>\n",
       "    </tr>\n",
       "    <tr>\n",
       "      <th>3585</th>\n",
       "      <td>udacity_health_encounter_id_4462</td>\n",
       "      <td>udacity_health_patient_id_309</td>\n",
       "      <td>dx_code_53624</td>\n",
       "      <td>['procedure_code_64278', 'procedure_code_19230']</td>\n",
       "      <td>['medication_code_8759', 'medication_code_59',...</td>\n",
       "      <td>['lab_code_3790', 'lab_code_591', 'lab_code_89...</td>\n",
       "      <td>[0, 0, 0, 0, 0, 0, 0, 0, 0, 0, 0, 0, 0, 0, 0, ...</td>\n",
       "      <td>4462</td>\n",
       "    </tr>\n",
       "    <tr>\n",
       "      <th>3718</th>\n",
       "      <td>udacity_health_encounter_id_4589</td>\n",
       "      <td>udacity_health_patient_id_309</td>\n",
       "      <td>dx_code_67438</td>\n",
       "      <td>[]</td>\n",
       "      <td>['medication_code_8103']</td>\n",
       "      <td>[]</td>\n",
       "      <td>[0]</td>\n",
       "      <td>4589</td>\n",
       "    </tr>\n",
       "    <tr>\n",
       "      <th>3752</th>\n",
       "      <td>udacity_health_encounter_id_4619</td>\n",
       "      <td>udacity_health_patient_id_309</td>\n",
       "      <td>dx_code_79460</td>\n",
       "      <td>['procedure_code_8648', 'procedure_code_22388'...</td>\n",
       "      <td>['medication_code_4773', 'medication_code_5839...</td>\n",
       "      <td>['lab_code_5055']</td>\n",
       "      <td>[0, 0, 0, 0, 0, 0, 0, 0, 0, 0, 0, 0, 0, 0, 0]</td>\n",
       "      <td>4619</td>\n",
       "    </tr>\n",
       "    <tr>\n",
       "      <th>3916</th>\n",
       "      <td>udacity_health_encounter_id_478</td>\n",
       "      <td>udacity_health_patient_id_309</td>\n",
       "      <td>dx_code_43778</td>\n",
       "      <td>[]</td>\n",
       "      <td>['medication_code_1646', 'medication_code_4346']</td>\n",
       "      <td>[]</td>\n",
       "      <td>[0, 0]</td>\n",
       "      <td>478</td>\n",
       "    </tr>\n",
       "    <tr>\n",
       "      <th>4552</th>\n",
       "      <td>udacity_health_encounter_id_5398</td>\n",
       "      <td>udacity_health_patient_id_309</td>\n",
       "      <td>dx_code_58513</td>\n",
       "      <td>['procedure_code_3629', 'procedure_code_56509'...</td>\n",
       "      <td>['medication_code_5697', 'medication_code_9845...</td>\n",
       "      <td>['lab_code_4909']</td>\n",
       "      <td>[0, 0, 0, 0, 0, 0, 0, 0, 0, 0]</td>\n",
       "      <td>5398</td>\n",
       "    </tr>\n",
       "    <tr>\n",
       "      <th>4687</th>\n",
       "      <td>udacity_health_encounter_id_553</td>\n",
       "      <td>udacity_health_patient_id_309</td>\n",
       "      <td>dx_code_88408</td>\n",
       "      <td>['procedure_code_19471', 'procedure_code_17060...</td>\n",
       "      <td>['medication_code_1541', 'medication_code_5218...</td>\n",
       "      <td>['lab_code_4271', 'lab_code_7946', 'lab_code_9...</td>\n",
       "      <td>[0, 0, 0, 0, 0, 0, 0, 0, 0, 0, 0, 0, 0]</td>\n",
       "      <td>553</td>\n",
       "    </tr>\n",
       "    <tr>\n",
       "      <th>4771</th>\n",
       "      <td>udacity_health_encounter_id_5611</td>\n",
       "      <td>udacity_health_patient_id_309</td>\n",
       "      <td>dx_code_46410</td>\n",
       "      <td>['procedure_code_71656', 'procedure_code_29912...</td>\n",
       "      <td>['medication_code_3365', 'medication_code_862'...</td>\n",
       "      <td>['lab_code_8280', 'lab_code_9803', 'lab_code_1...</td>\n",
       "      <td>[0, 0, 0, 0, 0, 0, 0, 0, 0, 0, 0, 0, 0, 0, 0, 0]</td>\n",
       "      <td>5611</td>\n",
       "    </tr>\n",
       "    <tr>\n",
       "      <th>4785</th>\n",
       "      <td>udacity_health_encounter_id_5624</td>\n",
       "      <td>udacity_health_patient_id_309</td>\n",
       "      <td>dx_code_96267</td>\n",
       "      <td>[]</td>\n",
       "      <td>['medication_code_1343']</td>\n",
       "      <td>['lab_code_9589']</td>\n",
       "      <td>[0, 0]</td>\n",
       "      <td>5624</td>\n",
       "    </tr>\n",
       "    <tr>\n",
       "      <th>4796</th>\n",
       "      <td>udacity_health_encounter_id_5635</td>\n",
       "      <td>udacity_health_patient_id_309</td>\n",
       "      <td>dx_code_67422</td>\n",
       "      <td>[]</td>\n",
       "      <td>['medication_code_2864']</td>\n",
       "      <td>[]</td>\n",
       "      <td>[0]</td>\n",
       "      <td>5635</td>\n",
       "    </tr>\n",
       "    <tr>\n",
       "      <th>4862</th>\n",
       "      <td>udacity_health_encounter_id_5701</td>\n",
       "      <td>udacity_health_patient_id_309</td>\n",
       "      <td>dx_code_4007</td>\n",
       "      <td>['procedure_code_8263', 'procedure_code_7509']</td>\n",
       "      <td>['medication_code_3925', 'medication_code_3163']</td>\n",
       "      <td>[]</td>\n",
       "      <td>[0, 0, 0, 0]</td>\n",
       "      <td>5701</td>\n",
       "    </tr>\n",
       "    <tr>\n",
       "      <th>4881</th>\n",
       "      <td>udacity_health_encounter_id_5721</td>\n",
       "      <td>udacity_health_patient_id_309</td>\n",
       "      <td>dx_code_11147</td>\n",
       "      <td>['procedure_code_68127', 'procedure_code_3768'...</td>\n",
       "      <td>['medication_code_4722', 'medication_code_2681...</td>\n",
       "      <td>['lab_code_8853', 'lab_code_3111', 'lab_code_2...</td>\n",
       "      <td>[0, 0, 0, 0, 0, 0, 0, 0, 0, 0, 0, 0, 0, 0, 0, ...</td>\n",
       "      <td>5721</td>\n",
       "    </tr>\n",
       "    <tr>\n",
       "      <th>5132</th>\n",
       "      <td>udacity_health_encounter_id_597</td>\n",
       "      <td>udacity_health_patient_id_309</td>\n",
       "      <td>dx_code_25907</td>\n",
       "      <td>['procedure_code_41138', 'procedure_code_28596']</td>\n",
       "      <td>['medication_code_4777', 'medication_code_4318...</td>\n",
       "      <td>['lab_code_1043']</td>\n",
       "      <td>[0, 0, 0, 0, 0, 0]</td>\n",
       "      <td>597</td>\n",
       "    </tr>\n",
       "    <tr>\n",
       "      <th>5306</th>\n",
       "      <td>udacity_health_encounter_id_6139</td>\n",
       "      <td>udacity_health_patient_id_309</td>\n",
       "      <td>dx_code_40784</td>\n",
       "      <td>['procedure_code_48973', 'procedure_code_7953'...</td>\n",
       "      <td>['medication_code_3191', 'medication_code_105'...</td>\n",
       "      <td>['lab_code_5078', 'lab_code_2361', 'lab_code_9...</td>\n",
       "      <td>[0, 0, 0, 0, 0, 0, 0, 0, 0, 0, 0, 0, 0, 0, 0, ...</td>\n",
       "      <td>6139</td>\n",
       "    </tr>\n",
       "    <tr>\n",
       "      <th>5385</th>\n",
       "      <td>udacity_health_encounter_id_622</td>\n",
       "      <td>udacity_health_patient_id_309</td>\n",
       "      <td>dx_code_25556</td>\n",
       "      <td>['procedure_code_10462']</td>\n",
       "      <td>['medication_code_3626', 'medication_code_311']</td>\n",
       "      <td>['lab_code_4960']</td>\n",
       "      <td>[0, 0, 0, 0]</td>\n",
       "      <td>622</td>\n",
       "    </tr>\n",
       "    <tr>\n",
       "      <th>5472</th>\n",
       "      <td>udacity_health_encounter_id_6305</td>\n",
       "      <td>udacity_health_patient_id_309</td>\n",
       "      <td>dx_code_93595</td>\n",
       "      <td>['procedure_code_6005', 'procedure_code_13203'...</td>\n",
       "      <td>['medication_code_4513']</td>\n",
       "      <td>['lab_code_7349', 'lab_code_1043', 'lab_code_9...</td>\n",
       "      <td>[0, 0, 0, 0, 0, 0, 0]</td>\n",
       "      <td>6305</td>\n",
       "    </tr>\n",
       "    <tr>\n",
       "      <th>5564</th>\n",
       "      <td>udacity_health_encounter_id_6394</td>\n",
       "      <td>udacity_health_patient_id_309</td>\n",
       "      <td>dx_code_17875</td>\n",
       "      <td>['procedure_code_42424']</td>\n",
       "      <td>[]</td>\n",
       "      <td>['lab_code_5222']</td>\n",
       "      <td>[0, 0]</td>\n",
       "      <td>6394</td>\n",
       "    </tr>\n",
       "    <tr>\n",
       "      <th>5669</th>\n",
       "      <td>udacity_health_encounter_id_6497</td>\n",
       "      <td>udacity_health_patient_id_309</td>\n",
       "      <td>dx_code_36095</td>\n",
       "      <td>['procedure_code_33881', 'procedure_code_6396'...</td>\n",
       "      <td>['medication_code_6849', 'medication_code_2364...</td>\n",
       "      <td>['lab_code_2570', 'lab_code_2383', 'lab_code_8...</td>\n",
       "      <td>[0, 0, 0, 0, 0, 0, 0, 0, 0, 0, 0, 0, 0, 0]</td>\n",
       "      <td>6497</td>\n",
       "    </tr>\n",
       "    <tr>\n",
       "      <th>5684</th>\n",
       "      <td>udacity_health_encounter_id_6512</td>\n",
       "      <td>udacity_health_patient_id_309</td>\n",
       "      <td>dx_code_92784</td>\n",
       "      <td>['procedure_code_31090', 'procedure_code_28839...</td>\n",
       "      <td>['medication_code_5274', 'medication_code_6976...</td>\n",
       "      <td>['lab_code_4639']</td>\n",
       "      <td>[0, 0, 0, 0, 0, 0, 0, 0, 0]</td>\n",
       "      <td>6512</td>\n",
       "    </tr>\n",
       "    <tr>\n",
       "      <th>5829</th>\n",
       "      <td>udacity_health_encounter_id_6662</td>\n",
       "      <td>udacity_health_patient_id_309</td>\n",
       "      <td>dx_code_26279</td>\n",
       "      <td>['procedure_code_47253', 'procedure_code_52416...</td>\n",
       "      <td>['medication_code_2602', 'medication_code_3320...</td>\n",
       "      <td>['lab_code_5441']</td>\n",
       "      <td>[0, 0, 0, 0, 0, 0, 0, 0, 0, 0, 0, 0, 0]</td>\n",
       "      <td>6662</td>\n",
       "    </tr>\n",
       "    <tr>\n",
       "      <th>5846</th>\n",
       "      <td>udacity_health_encounter_id_668</td>\n",
       "      <td>udacity_health_patient_id_309</td>\n",
       "      <td>dx_code_22666</td>\n",
       "      <td>['procedure_code_10507', 'procedure_code_39636...</td>\n",
       "      <td>['medication_code_4676', 'medication_code_4760...</td>\n",
       "      <td>['lab_code_7518', 'lab_code_1774', 'lab_code_5...</td>\n",
       "      <td>[0, 0, 0, 0, 0, 0, 0, 0, 0, 0, 0, 0, 0, 0, 0]</td>\n",
       "      <td>668</td>\n",
       "    </tr>\n",
       "    <tr>\n",
       "      <th>5946</th>\n",
       "      <td>udacity_health_encounter_id_6777</td>\n",
       "      <td>udacity_health_patient_id_309</td>\n",
       "      <td>dx_code_78269</td>\n",
       "      <td>['procedure_code_58888', 'procedure_code_72745']</td>\n",
       "      <td>['medication_code_227', 'medication_code_7799']</td>\n",
       "      <td>[]</td>\n",
       "      <td>[0, 0, 0, 0]</td>\n",
       "      <td>6777</td>\n",
       "    </tr>\n",
       "    <tr>\n",
       "      <th>6508</th>\n",
       "      <td>udacity_health_encounter_id_7327</td>\n",
       "      <td>udacity_health_patient_id_309</td>\n",
       "      <td>dx_code_18813</td>\n",
       "      <td>['procedure_code_9329', 'procedure_code_28542'...</td>\n",
       "      <td>['medication_code_4006', 'medication_code_485'...</td>\n",
       "      <td>['lab_code_71', 'lab_code_7769', 'lab_code_659...</td>\n",
       "      <td>[0, 0, 0, 0, 0, 0, 0, 0, 0, 0, 0, 0, 0, 0, 0, ...</td>\n",
       "      <td>7327</td>\n",
       "    </tr>\n",
       "    <tr>\n",
       "      <th>6892</th>\n",
       "      <td>udacity_health_encounter_id_7696</td>\n",
       "      <td>udacity_health_patient_id_309</td>\n",
       "      <td>dx_code_24785</td>\n",
       "      <td>['procedure_code_31137', 'procedure_code_23811...</td>\n",
       "      <td>['medication_code_2626', 'medication_code_6310...</td>\n",
       "      <td>['lab_code_8317', 'lab_code_2116', 'lab_code_2...</td>\n",
       "      <td>[0, 0, 0, 0, 0, 0, 0, 0, 0, 0, 0, 0, 0, 0, 0, ...</td>\n",
       "      <td>7696</td>\n",
       "    </tr>\n",
       "    <tr>\n",
       "      <th>6969</th>\n",
       "      <td>udacity_health_encounter_id_7772</td>\n",
       "      <td>udacity_health_patient_id_309</td>\n",
       "      <td>dx_code_949</td>\n",
       "      <td>['procedure_code_45976', 'procedure_code_26419...</td>\n",
       "      <td>['medication_code_9684', 'medication_code_8486...</td>\n",
       "      <td>[]</td>\n",
       "      <td>[0, 0, 0, 0, 0, 0, 0]</td>\n",
       "      <td>7772</td>\n",
       "    </tr>\n",
       "    <tr>\n",
       "      <th>7217</th>\n",
       "      <td>udacity_health_encounter_id_995</td>\n",
       "      <td>udacity_health_patient_id_309</td>\n",
       "      <td>dx_code_4976</td>\n",
       "      <td>['procedure_code_8156', 'procedure_code_23220']</td>\n",
       "      <td>['medication_code_5388', 'medication_code_5533...</td>\n",
       "      <td>['lab_code_2049']</td>\n",
       "      <td>[0, 0, 0, 0, 0, 0, 0]</td>\n",
       "      <td>995</td>\n",
       "    </tr>\n",
       "  </tbody>\n",
       "</table>\n",
       "</div>"
      ],
      "text/plain": [
       "                          ENCOUNTER_ID                     PATIENT_ID  \\\n",
       "94    udacity_health_encounter_id_1091  udacity_health_patient_id_309   \n",
       "450   udacity_health_encounter_id_1436  udacity_health_patient_id_309   \n",
       "605   udacity_health_encounter_id_1582  udacity_health_patient_id_309   \n",
       "665   udacity_health_encounter_id_1643  udacity_health_patient_id_309   \n",
       "684   udacity_health_encounter_id_1662  udacity_health_patient_id_309   \n",
       "867   udacity_health_encounter_id_1837  udacity_health_patient_id_309   \n",
       "1024  udacity_health_encounter_id_1985  udacity_health_patient_id_309   \n",
       "1042  udacity_health_encounter_id_2000  udacity_health_patient_id_309   \n",
       "1196  udacity_health_encounter_id_2142  udacity_health_patient_id_309   \n",
       "1289  udacity_health_encounter_id_2229  udacity_health_patient_id_309   \n",
       "1340  udacity_health_encounter_id_2281  udacity_health_patient_id_309   \n",
       "1596  udacity_health_encounter_id_2531  udacity_health_patient_id_309   \n",
       "1702  udacity_health_encounter_id_2631  udacity_health_patient_id_309   \n",
       "2069  udacity_health_encounter_id_2989  udacity_health_patient_id_309   \n",
       "2291  udacity_health_encounter_id_3209  udacity_health_patient_id_309   \n",
       "2507  udacity_health_encounter_id_3416  udacity_health_patient_id_309   \n",
       "2696   udacity_health_encounter_id_360  udacity_health_patient_id_309   \n",
       "2890  udacity_health_encounter_id_3792  udacity_health_patient_id_309   \n",
       "2960  udacity_health_encounter_id_3859  udacity_health_patient_id_309   \n",
       "3064  udacity_health_encounter_id_3961  udacity_health_patient_id_309   \n",
       "3167  udacity_health_encounter_id_4058  udacity_health_patient_id_309   \n",
       "3280  udacity_health_encounter_id_4168  udacity_health_patient_id_309   \n",
       "3353  udacity_health_encounter_id_4239  udacity_health_patient_id_309   \n",
       "3561  udacity_health_encounter_id_4439  udacity_health_patient_id_309   \n",
       "3585  udacity_health_encounter_id_4462  udacity_health_patient_id_309   \n",
       "3718  udacity_health_encounter_id_4589  udacity_health_patient_id_309   \n",
       "3752  udacity_health_encounter_id_4619  udacity_health_patient_id_309   \n",
       "3916   udacity_health_encounter_id_478  udacity_health_patient_id_309   \n",
       "4552  udacity_health_encounter_id_5398  udacity_health_patient_id_309   \n",
       "4687   udacity_health_encounter_id_553  udacity_health_patient_id_309   \n",
       "4771  udacity_health_encounter_id_5611  udacity_health_patient_id_309   \n",
       "4785  udacity_health_encounter_id_5624  udacity_health_patient_id_309   \n",
       "4796  udacity_health_encounter_id_5635  udacity_health_patient_id_309   \n",
       "4862  udacity_health_encounter_id_5701  udacity_health_patient_id_309   \n",
       "4881  udacity_health_encounter_id_5721  udacity_health_patient_id_309   \n",
       "5132   udacity_health_encounter_id_597  udacity_health_patient_id_309   \n",
       "5306  udacity_health_encounter_id_6139  udacity_health_patient_id_309   \n",
       "5385   udacity_health_encounter_id_622  udacity_health_patient_id_309   \n",
       "5472  udacity_health_encounter_id_6305  udacity_health_patient_id_309   \n",
       "5564  udacity_health_encounter_id_6394  udacity_health_patient_id_309   \n",
       "5669  udacity_health_encounter_id_6497  udacity_health_patient_id_309   \n",
       "5684  udacity_health_encounter_id_6512  udacity_health_patient_id_309   \n",
       "5829  udacity_health_encounter_id_6662  udacity_health_patient_id_309   \n",
       "5846   udacity_health_encounter_id_668  udacity_health_patient_id_309   \n",
       "5946  udacity_health_encounter_id_6777  udacity_health_patient_id_309   \n",
       "6508  udacity_health_encounter_id_7327  udacity_health_patient_id_309   \n",
       "6892  udacity_health_encounter_id_7696  udacity_health_patient_id_309   \n",
       "6969  udacity_health_encounter_id_7772  udacity_health_patient_id_309   \n",
       "7217   udacity_health_encounter_id_995  udacity_health_patient_id_309   \n",
       "\n",
       "     PRINCIPAL_DIAGNOSIS_CODE  \\\n",
       "94              dx_code_62502   \n",
       "450             dx_code_37825   \n",
       "605             dx_code_79663   \n",
       "665             dx_code_60773   \n",
       "684             dx_code_29272   \n",
       "867             dx_code_56368   \n",
       "1024            dx_code_38581   \n",
       "1042            dx_code_91230   \n",
       "1196            dx_code_58527   \n",
       "1289            dx_code_46826   \n",
       "1340            dx_code_39484   \n",
       "1596            dx_code_75423   \n",
       "1702            dx_code_38210   \n",
       "2069            dx_code_80145   \n",
       "2291            dx_code_74710   \n",
       "2507            dx_code_43343   \n",
       "2696            dx_code_94868   \n",
       "2890            dx_code_37738   \n",
       "2960            dx_code_17144   \n",
       "3064            dx_code_61465   \n",
       "3167            dx_code_73636   \n",
       "3280             dx_code_9795   \n",
       "3353            dx_code_28764   \n",
       "3561            dx_code_31393   \n",
       "3585            dx_code_53624   \n",
       "3718            dx_code_67438   \n",
       "3752            dx_code_79460   \n",
       "3916            dx_code_43778   \n",
       "4552            dx_code_58513   \n",
       "4687            dx_code_88408   \n",
       "4771            dx_code_46410   \n",
       "4785            dx_code_96267   \n",
       "4796            dx_code_67422   \n",
       "4862             dx_code_4007   \n",
       "4881            dx_code_11147   \n",
       "5132            dx_code_25907   \n",
       "5306            dx_code_40784   \n",
       "5385            dx_code_25556   \n",
       "5472            dx_code_93595   \n",
       "5564            dx_code_17875   \n",
       "5669            dx_code_36095   \n",
       "5684            dx_code_92784   \n",
       "5829            dx_code_26279   \n",
       "5846            dx_code_22666   \n",
       "5946            dx_code_78269   \n",
       "6508            dx_code_18813   \n",
       "6892            dx_code_24785   \n",
       "6969              dx_code_949   \n",
       "7217             dx_code_4976   \n",
       "\n",
       "                                         PROCEDURE_CODE  \\\n",
       "94                             ['procedure_code_69597']   \n",
       "450   ['procedure_code_14044', 'procedure_code_47911...   \n",
       "605                                                  []   \n",
       "665   ['procedure_code_39999', 'procedure_code_31842...   \n",
       "684   ['procedure_code_12589', 'procedure_code_3005'...   \n",
       "867   ['procedure_code_14069', 'procedure_code_15230...   \n",
       "1024    ['procedure_code_1431', 'procedure_code_71061']   \n",
       "1042                                                 []   \n",
       "1196  ['procedure_code_56979', 'procedure_code_24797...   \n",
       "1289  ['procedure_code_50916', 'procedure_code_20032...   \n",
       "1340  ['procedure_code_33400', 'procedure_code_56', ...   \n",
       "1596  ['procedure_code_15600', 'procedure_code_19008...   \n",
       "1702                             ['procedure_code_121']   \n",
       "2069  ['procedure_code_28893', 'procedure_code_9124'...   \n",
       "2291  ['procedure_code_41970', 'procedure_code_64032...   \n",
       "2507  ['procedure_code_11834', 'procedure_code_12304...   \n",
       "2696                                                 []   \n",
       "2890  ['procedure_code_11852', 'procedure_code_45278...   \n",
       "2960                           ['procedure_code_69917']   \n",
       "3064  ['procedure_code_15248', 'procedure_code_65724...   \n",
       "3167  ['procedure_code_5646', 'procedure_code_1381',...   \n",
       "3280  ['procedure_code_44804', 'procedure_code_10917...   \n",
       "3353  ['procedure_code_31873', 'procedure_code_29930...   \n",
       "3561  ['procedure_code_69203', 'procedure_code_53820...   \n",
       "3585   ['procedure_code_64278', 'procedure_code_19230']   \n",
       "3718                                                 []   \n",
       "3752  ['procedure_code_8648', 'procedure_code_22388'...   \n",
       "3916                                                 []   \n",
       "4552  ['procedure_code_3629', 'procedure_code_56509'...   \n",
       "4687  ['procedure_code_19471', 'procedure_code_17060...   \n",
       "4771  ['procedure_code_71656', 'procedure_code_29912...   \n",
       "4785                                                 []   \n",
       "4796                                                 []   \n",
       "4862     ['procedure_code_8263', 'procedure_code_7509']   \n",
       "4881  ['procedure_code_68127', 'procedure_code_3768'...   \n",
       "5132   ['procedure_code_41138', 'procedure_code_28596']   \n",
       "5306  ['procedure_code_48973', 'procedure_code_7953'...   \n",
       "5385                           ['procedure_code_10462']   \n",
       "5472  ['procedure_code_6005', 'procedure_code_13203'...   \n",
       "5564                           ['procedure_code_42424']   \n",
       "5669  ['procedure_code_33881', 'procedure_code_6396'...   \n",
       "5684  ['procedure_code_31090', 'procedure_code_28839...   \n",
       "5829  ['procedure_code_47253', 'procedure_code_52416...   \n",
       "5846  ['procedure_code_10507', 'procedure_code_39636...   \n",
       "5946   ['procedure_code_58888', 'procedure_code_72745']   \n",
       "6508  ['procedure_code_9329', 'procedure_code_28542'...   \n",
       "6892  ['procedure_code_31137', 'procedure_code_23811...   \n",
       "6969  ['procedure_code_45976', 'procedure_code_26419...   \n",
       "7217    ['procedure_code_8156', 'procedure_code_23220']   \n",
       "\n",
       "                                        MEDICATION_CODE  \\\n",
       "94    ['medication_code_9253', 'medication_code_7444...   \n",
       "450   ['medication_code_4081', 'medication_code_6050...   \n",
       "605   ['medication_code_4450', 'medication_code_4900...   \n",
       "665   ['medication_code_413', 'medication_code_5966'...   \n",
       "684   ['medication_code_9845', 'medication_code_6602...   \n",
       "867   ['medication_code_5820', 'medication_code_8028...   \n",
       "1024  ['medication_code_3134', 'medication_code_4868...   \n",
       "1042                                                 []   \n",
       "1196  ['medication_code_7631', 'medication_code_7508...   \n",
       "1289  ['medication_code_9204', 'medication_code_1282...   \n",
       "1340  ['medication_code_1938', 'medication_code_4076...   \n",
       "1596  ['medication_code_7265', 'medication_code_2247...   \n",
       "1702  ['medication_code_7480', 'medication_code_7917...   \n",
       "2069  ['medication_code_43', 'medication_code_5602',...   \n",
       "2291  ['medication_code_7596', 'medication_code_7481...   \n",
       "2507  ['medication_code_3767', 'medication_code_7630...   \n",
       "2696  ['medication_code_193', 'medication_code_3556'...   \n",
       "2890  ['medication_code_7882', 'medication_code_6562...   \n",
       "2960  ['medication_code_2152', 'medication_code_7078...   \n",
       "3064  ['medication_code_701', 'medication_code_8324'...   \n",
       "3167  ['medication_code_4201', 'medication_code_5328...   \n",
       "3280  ['medication_code_2738', 'medication_code_9919...   \n",
       "3353  ['medication_code_7607', 'medication_code_6643...   \n",
       "3561  ['medication_code_9780', 'medication_code_7008...   \n",
       "3585  ['medication_code_8759', 'medication_code_59',...   \n",
       "3718                           ['medication_code_8103']   \n",
       "3752  ['medication_code_4773', 'medication_code_5839...   \n",
       "3916   ['medication_code_1646', 'medication_code_4346']   \n",
       "4552  ['medication_code_5697', 'medication_code_9845...   \n",
       "4687  ['medication_code_1541', 'medication_code_5218...   \n",
       "4771  ['medication_code_3365', 'medication_code_862'...   \n",
       "4785                           ['medication_code_1343']   \n",
       "4796                           ['medication_code_2864']   \n",
       "4862   ['medication_code_3925', 'medication_code_3163']   \n",
       "4881  ['medication_code_4722', 'medication_code_2681...   \n",
       "5132  ['medication_code_4777', 'medication_code_4318...   \n",
       "5306  ['medication_code_3191', 'medication_code_105'...   \n",
       "5385    ['medication_code_3626', 'medication_code_311']   \n",
       "5472                           ['medication_code_4513']   \n",
       "5564                                                 []   \n",
       "5669  ['medication_code_6849', 'medication_code_2364...   \n",
       "5684  ['medication_code_5274', 'medication_code_6976...   \n",
       "5829  ['medication_code_2602', 'medication_code_3320...   \n",
       "5846  ['medication_code_4676', 'medication_code_4760...   \n",
       "5946    ['medication_code_227', 'medication_code_7799']   \n",
       "6508  ['medication_code_4006', 'medication_code_485'...   \n",
       "6892  ['medication_code_2626', 'medication_code_6310...   \n",
       "6969  ['medication_code_9684', 'medication_code_8486...   \n",
       "7217  ['medication_code_5388', 'medication_code_5533...   \n",
       "\n",
       "                                               LAB_CODE  \\\n",
       "94                   ['lab_code_9415', 'lab_code_8179']   \n",
       "450                  ['lab_code_6246', 'lab_code_7197']   \n",
       "605                                                  []   \n",
       "665                  ['lab_code_4295', 'lab_code_2383']   \n",
       "684   ['lab_code_4330', 'lab_code_3499', 'lab_code_1...   \n",
       "867                                   ['lab_code_8964']   \n",
       "1024                                  ['lab_code_7702']   \n",
       "1042                                  ['lab_code_8062']   \n",
       "1196                 ['lab_code_3908', 'lab_code_1500']   \n",
       "1289                 ['lab_code_5607', 'lab_code_5139']   \n",
       "1340  ['lab_code_9178', 'lab_code_3557', 'lab_code_2...   \n",
       "1596  ['lab_code_8336', 'lab_code_7292', 'lab_code_8...   \n",
       "1702                                  ['lab_code_4777']   \n",
       "2069  ['lab_code_3392', 'lab_code_9665', 'lab_code_4...   \n",
       "2291                                  ['lab_code_9105']   \n",
       "2507  ['lab_code_774', 'lab_code_9591', 'lab_code_31...   \n",
       "2696                                                 []   \n",
       "2890  ['lab_code_3787', 'lab_code_6452', 'lab_code_6...   \n",
       "2960                                  ['lab_code_5682']   \n",
       "3064  ['lab_code_7691', 'lab_code_4598', 'lab_code_1...   \n",
       "3167  ['lab_code_9083', 'lab_code_1392', 'lab_code_1...   \n",
       "3280  ['lab_code_4690', 'lab_code_5570', 'lab_code_2...   \n",
       "3353  ['lab_code_8492', 'lab_code_3309', 'lab_code_6...   \n",
       "3561                                                 []   \n",
       "3585  ['lab_code_3790', 'lab_code_591', 'lab_code_89...   \n",
       "3718                                                 []   \n",
       "3752                                  ['lab_code_5055']   \n",
       "3916                                                 []   \n",
       "4552                                  ['lab_code_4909']   \n",
       "4687  ['lab_code_4271', 'lab_code_7946', 'lab_code_9...   \n",
       "4771  ['lab_code_8280', 'lab_code_9803', 'lab_code_1...   \n",
       "4785                                  ['lab_code_9589']   \n",
       "4796                                                 []   \n",
       "4862                                                 []   \n",
       "4881  ['lab_code_8853', 'lab_code_3111', 'lab_code_2...   \n",
       "5132                                  ['lab_code_1043']   \n",
       "5306  ['lab_code_5078', 'lab_code_2361', 'lab_code_9...   \n",
       "5385                                  ['lab_code_4960']   \n",
       "5472  ['lab_code_7349', 'lab_code_1043', 'lab_code_9...   \n",
       "5564                                  ['lab_code_5222']   \n",
       "5669  ['lab_code_2570', 'lab_code_2383', 'lab_code_8...   \n",
       "5684                                  ['lab_code_4639']   \n",
       "5829                                  ['lab_code_5441']   \n",
       "5846  ['lab_code_7518', 'lab_code_1774', 'lab_code_5...   \n",
       "5946                                                 []   \n",
       "6508  ['lab_code_71', 'lab_code_7769', 'lab_code_659...   \n",
       "6892  ['lab_code_8317', 'lab_code_2116', 'lab_code_2...   \n",
       "6969                                                 []   \n",
       "7217                                  ['lab_code_2049']   \n",
       "\n",
       "                                                  LABEL  ENCOUNTER_ID_NUMBER  \n",
       "94                                [0, 0, 0, 0, 0, 0, 0]                 1091  \n",
       "450   [0, 0, 0, 0, 0, 0, 0, 0, 0, 0, 0, 0, 0, 0, 0, ...                 1436  \n",
       "605                                           [0, 0, 0]                 1582  \n",
       "665   [0, 0, 0, 0, 0, 0, 0, 0, 0, 0, 0, 0, 0, 0, 0, ...                 1643  \n",
       "684   [0, 0, 0, 0, 0, 0, 0, 0, 0, 0, 0, 0, 0, 0, 0, ...                 1662  \n",
       "867             [0, 0, 0, 0, 0, 0, 0, 0, 0, 0, 0, 0, 0]                 1837  \n",
       "1024                        [0, 0, 0, 0, 0, 0, 0, 0, 0]                 1985  \n",
       "1042                                                [0]                 2000  \n",
       "1196  [0, 0, 0, 0, 0, 0, 0, 0, 0, 0, 0, 0, 0, 0, 0, ...                 2142  \n",
       "1289      [0, 0, 0, 0, 0, 0, 0, 0, 0, 0, 0, 0, 0, 0, 0]                 2229  \n",
       "1340   [0, 0, 0, 0, 0, 0, 0, 0, 0, 0, 0, 0, 0, 0, 0, 0]                 2281  \n",
       "1596  [0, 0, 0, 0, 0, 0, 0, 0, 0, 0, 0, 0, 0, 0, 0, ...                 2531  \n",
       "1702                     [0, 0, 0, 0, 0, 0, 0, 0, 0, 0]                 2631  \n",
       "2069  [0, 0, 0, 0, 0, 0, 0, 0, 0, 0, 0, 0, 0, 0, 0, ...                 2989  \n",
       "2291  [0, 0, 0, 0, 0, 0, 0, 0, 0, 0, 0, 0, 0, 0, 0, ...                 3209  \n",
       "2507  [0, 0, 0, 0, 0, 0, 0, 0, 0, 0, 0, 0, 0, 0, 0, ...                 3416  \n",
       "2696                                          [0, 0, 0]                  360  \n",
       "2890  [0, 0, 0, 0, 0, 0, 0, 0, 0, 0, 0, 0, 0, 0, 0, ...                 3792  \n",
       "2960                              [0, 0, 0, 0, 0, 0, 0]                 3859  \n",
       "3064  [0, 0, 0, 0, 0, 0, 0, 0, 0, 0, 0, 0, 0, 0, 0, ...                 3961  \n",
       "3167  [0, 0, 0, 0, 0, 0, 0, 0, 0, 0, 0, 0, 0, 0, 0, ...                 4058  \n",
       "3280  [0, 0, 0, 0, 0, 0, 0, 0, 0, 0, 0, 0, 0, 0, 0, ...                 4168  \n",
       "3353  [0, 0, 0, 0, 0, 0, 0, 0, 0, 0, 0, 0, 0, 0, 0, ...                 4239  \n",
       "3561                        [0, 0, 0, 0, 0, 0, 0, 0, 0]                 4439  \n",
       "3585  [0, 0, 0, 0, 0, 0, 0, 0, 0, 0, 0, 0, 0, 0, 0, ...                 4462  \n",
       "3718                                                [0]                 4589  \n",
       "3752      [0, 0, 0, 0, 0, 0, 0, 0, 0, 0, 0, 0, 0, 0, 0]                 4619  \n",
       "3916                                             [0, 0]                  478  \n",
       "4552                     [0, 0, 0, 0, 0, 0, 0, 0, 0, 0]                 5398  \n",
       "4687            [0, 0, 0, 0, 0, 0, 0, 0, 0, 0, 0, 0, 0]                  553  \n",
       "4771   [0, 0, 0, 0, 0, 0, 0, 0, 0, 0, 0, 0, 0, 0, 0, 0]                 5611  \n",
       "4785                                             [0, 0]                 5624  \n",
       "4796                                                [0]                 5635  \n",
       "4862                                       [0, 0, 0, 0]                 5701  \n",
       "4881  [0, 0, 0, 0, 0, 0, 0, 0, 0, 0, 0, 0, 0, 0, 0, ...                 5721  \n",
       "5132                                 [0, 0, 0, 0, 0, 0]                  597  \n",
       "5306  [0, 0, 0, 0, 0, 0, 0, 0, 0, 0, 0, 0, 0, 0, 0, ...                 6139  \n",
       "5385                                       [0, 0, 0, 0]                  622  \n",
       "5472                              [0, 0, 0, 0, 0, 0, 0]                 6305  \n",
       "5564                                             [0, 0]                 6394  \n",
       "5669         [0, 0, 0, 0, 0, 0, 0, 0, 0, 0, 0, 0, 0, 0]                 6497  \n",
       "5684                        [0, 0, 0, 0, 0, 0, 0, 0, 0]                 6512  \n",
       "5829            [0, 0, 0, 0, 0, 0, 0, 0, 0, 0, 0, 0, 0]                 6662  \n",
       "5846      [0, 0, 0, 0, 0, 0, 0, 0, 0, 0, 0, 0, 0, 0, 0]                  668  \n",
       "5946                                       [0, 0, 0, 0]                 6777  \n",
       "6508  [0, 0, 0, 0, 0, 0, 0, 0, 0, 0, 0, 0, 0, 0, 0, ...                 7327  \n",
       "6892  [0, 0, 0, 0, 0, 0, 0, 0, 0, 0, 0, 0, 0, 0, 0, ...                 7696  \n",
       "6969                              [0, 0, 0, 0, 0, 0, 0]                 7772  \n",
       "7217                              [0, 0, 0, 0, 0, 0, 0]                  995  "
      ]
     },
     "execution_count": 22,
     "metadata": {},
     "output_type": "execute_result"
    }
   ],
   "source": [
    "ehr_level_df[ehr_level_df['PATIENT_ID']=='udacity_health_patient_id_309']"
   ]
  },
  {
   "cell_type": "markdown",
   "metadata": {},
   "source": [
    "For patient id 309, the selected encounter should be 7772."
   ]
  },
  {
   "cell_type": "code",
   "execution_count": 23,
   "metadata": {},
   "outputs": [
    {
     "data": {
      "application/vnd.microsoft.datawrangler.viewer.v0+json": {
       "columns": [
        {
         "name": "index",
         "rawType": "int64",
         "type": "integer"
        },
        {
         "name": "ENCOUNTER_ID",
         "rawType": "object",
         "type": "string"
        },
        {
         "name": "ENCOUNTER_ID_NUMBER",
         "rawType": "int64",
         "type": "integer"
        },
        {
         "name": "PATIENT_ID",
         "rawType": "object",
         "type": "string"
        }
       ],
       "ref": "2394f9b1-fddd-439b-becd-ebe9a2f01055",
       "rows": [
        [
         "6969",
         "udacity_health_encounter_id_7772",
         "7772",
         "udacity_health_patient_id_309"
        ]
       ],
       "shape": {
        "columns": 3,
        "rows": 1
       }
      },
      "text/html": [
       "<div>\n",
       "<style scoped>\n",
       "    .dataframe tbody tr th:only-of-type {\n",
       "        vertical-align: middle;\n",
       "    }\n",
       "\n",
       "    .dataframe tbody tr th {\n",
       "        vertical-align: top;\n",
       "    }\n",
       "\n",
       "    .dataframe thead th {\n",
       "        text-align: right;\n",
       "    }\n",
       "</style>\n",
       "<table border=\"1\" class=\"dataframe\">\n",
       "  <thead>\n",
       "    <tr style=\"text-align: right;\">\n",
       "      <th></th>\n",
       "      <th>ENCOUNTER_ID</th>\n",
       "      <th>ENCOUNTER_ID_NUMBER</th>\n",
       "      <th>PATIENT_ID</th>\n",
       "    </tr>\n",
       "  </thead>\n",
       "  <tbody>\n",
       "    <tr>\n",
       "      <th>6969</th>\n",
       "      <td>udacity_health_encounter_id_7772</td>\n",
       "      <td>7772</td>\n",
       "      <td>udacity_health_patient_id_309</td>\n",
       "    </tr>\n",
       "  </tbody>\n",
       "</table>\n",
       "</div>"
      ],
      "text/plain": [
       "                          ENCOUNTER_ID  ENCOUNTER_ID_NUMBER  \\\n",
       "6969  udacity_health_encounter_id_7772                 7772   \n",
       "\n",
       "                         PATIENT_ID  \n",
       "6969  udacity_health_patient_id_309  "
      ]
     },
     "execution_count": 23,
     "metadata": {},
     "output_type": "execute_result"
    }
   ],
   "source": [
    "test_last_encounter_df[test_last_encounter_df['PATIENT_ID']=='udacity_health_patient_id_309']"
   ]
  },
  {
   "cell_type": "code",
   "execution_count": 24,
   "metadata": {},
   "outputs": [
    {
     "data": {
      "application/vnd.microsoft.datawrangler.viewer.v0+json": {
       "columns": [
        {
         "name": "index",
         "rawType": "int64",
         "type": "integer"
        },
        {
         "name": "ENCOUNTER_ID",
         "rawType": "object",
         "type": "string"
        },
        {
         "name": "PATIENT_ID",
         "rawType": "object",
         "type": "string"
        },
        {
         "name": "PRINCIPAL_DIAGNOSIS_CODE",
         "rawType": "object",
         "type": "string"
        },
        {
         "name": "PROCEDURE_CODE",
         "rawType": "object",
         "type": "string"
        },
        {
         "name": "MEDICATION_CODE",
         "rawType": "object",
         "type": "string"
        },
        {
         "name": "LAB_CODE",
         "rawType": "object",
         "type": "string"
        },
        {
         "name": "LABEL",
         "rawType": "object",
         "type": "string"
        },
        {
         "name": "ENCOUNTER_ID_NUMBER",
         "rawType": "int64",
         "type": "integer"
        }
       ],
       "ref": "612ecdd5-588d-4de9-bd40-9181f067a764",
       "rows": [
        [
         "263",
         "udacity_health_encounter_id_1258",
         "udacity_health_patient_id_418",
         "dx_code_87320",
         "[]",
         "['medication_code_7475']",
         "[]",
         "[0]",
         "1258"
        ],
        [
         "1230",
         "udacity_health_encounter_id_2173",
         "udacity_health_patient_id_418",
         "dx_code_72104",
         "['procedure_code_37393', 'procedure_code_48757', 'procedure_code_7019', 'procedure_code_13457']",
         "['medication_code_3809', 'medication_code_9141', 'medication_code_9099', 'medication_code_2528', 'medication_code_8779', 'medication_code_73', 'medication_code_4444', 'medication_code_9749', 'medication_code_5633', 'medication_code_6965']",
         "['lab_code_2839', 'lab_code_2665', 'lab_code_3854', 'lab_code_3277']",
         "[0, 0, 0, 0, 0, 0, 0, 0, 0, 0, 0, 0, 0, 0, 0, 0, 0, 0]",
         "2173"
        ],
        [
         "2448",
         "udacity_health_encounter_id_3362",
         "udacity_health_patient_id_418",
         "dx_code_77979",
         "['procedure_code_64397']",
         "['medication_code_2807', 'medication_code_6979']",
         "[]",
         "[0, 0, 0]",
         "3362"
        ]
       ],
       "shape": {
        "columns": 8,
        "rows": 3
       }
      },
      "text/html": [
       "<div>\n",
       "<style scoped>\n",
       "    .dataframe tbody tr th:only-of-type {\n",
       "        vertical-align: middle;\n",
       "    }\n",
       "\n",
       "    .dataframe tbody tr th {\n",
       "        vertical-align: top;\n",
       "    }\n",
       "\n",
       "    .dataframe thead th {\n",
       "        text-align: right;\n",
       "    }\n",
       "</style>\n",
       "<table border=\"1\" class=\"dataframe\">\n",
       "  <thead>\n",
       "    <tr style=\"text-align: right;\">\n",
       "      <th></th>\n",
       "      <th>ENCOUNTER_ID</th>\n",
       "      <th>PATIENT_ID</th>\n",
       "      <th>PRINCIPAL_DIAGNOSIS_CODE</th>\n",
       "      <th>PROCEDURE_CODE</th>\n",
       "      <th>MEDICATION_CODE</th>\n",
       "      <th>LAB_CODE</th>\n",
       "      <th>LABEL</th>\n",
       "      <th>ENCOUNTER_ID_NUMBER</th>\n",
       "    </tr>\n",
       "  </thead>\n",
       "  <tbody>\n",
       "    <tr>\n",
       "      <th>263</th>\n",
       "      <td>udacity_health_encounter_id_1258</td>\n",
       "      <td>udacity_health_patient_id_418</td>\n",
       "      <td>dx_code_87320</td>\n",
       "      <td>[]</td>\n",
       "      <td>['medication_code_7475']</td>\n",
       "      <td>[]</td>\n",
       "      <td>[0]</td>\n",
       "      <td>1258</td>\n",
       "    </tr>\n",
       "    <tr>\n",
       "      <th>1230</th>\n",
       "      <td>udacity_health_encounter_id_2173</td>\n",
       "      <td>udacity_health_patient_id_418</td>\n",
       "      <td>dx_code_72104</td>\n",
       "      <td>['procedure_code_37393', 'procedure_code_48757...</td>\n",
       "      <td>['medication_code_3809', 'medication_code_9141...</td>\n",
       "      <td>['lab_code_2839', 'lab_code_2665', 'lab_code_3...</td>\n",
       "      <td>[0, 0, 0, 0, 0, 0, 0, 0, 0, 0, 0, 0, 0, 0, 0, ...</td>\n",
       "      <td>2173</td>\n",
       "    </tr>\n",
       "    <tr>\n",
       "      <th>2448</th>\n",
       "      <td>udacity_health_encounter_id_3362</td>\n",
       "      <td>udacity_health_patient_id_418</td>\n",
       "      <td>dx_code_77979</td>\n",
       "      <td>['procedure_code_64397']</td>\n",
       "      <td>['medication_code_2807', 'medication_code_6979']</td>\n",
       "      <td>[]</td>\n",
       "      <td>[0, 0, 0]</td>\n",
       "      <td>3362</td>\n",
       "    </tr>\n",
       "  </tbody>\n",
       "</table>\n",
       "</div>"
      ],
      "text/plain": [
       "                          ENCOUNTER_ID                     PATIENT_ID  \\\n",
       "263   udacity_health_encounter_id_1258  udacity_health_patient_id_418   \n",
       "1230  udacity_health_encounter_id_2173  udacity_health_patient_id_418   \n",
       "2448  udacity_health_encounter_id_3362  udacity_health_patient_id_418   \n",
       "\n",
       "     PRINCIPAL_DIAGNOSIS_CODE  \\\n",
       "263             dx_code_87320   \n",
       "1230            dx_code_72104   \n",
       "2448            dx_code_77979   \n",
       "\n",
       "                                         PROCEDURE_CODE  \\\n",
       "263                                                  []   \n",
       "1230  ['procedure_code_37393', 'procedure_code_48757...   \n",
       "2448                           ['procedure_code_64397']   \n",
       "\n",
       "                                        MEDICATION_CODE  \\\n",
       "263                            ['medication_code_7475']   \n",
       "1230  ['medication_code_3809', 'medication_code_9141...   \n",
       "2448   ['medication_code_2807', 'medication_code_6979']   \n",
       "\n",
       "                                               LAB_CODE  \\\n",
       "263                                                  []   \n",
       "1230  ['lab_code_2839', 'lab_code_2665', 'lab_code_3...   \n",
       "2448                                                 []   \n",
       "\n",
       "                                                  LABEL  ENCOUNTER_ID_NUMBER  \n",
       "263                                                 [0]                 1258  \n",
       "1230  [0, 0, 0, 0, 0, 0, 0, 0, 0, 0, 0, 0, 0, 0, 0, ...                 2173  \n",
       "2448                                          [0, 0, 0]                 3362  "
      ]
     },
     "execution_count": 24,
     "metadata": {},
     "output_type": "execute_result"
    }
   ],
   "source": [
    "ehr_level_df[ehr_level_df['PATIENT_ID']=='udacity_health_patient_id_418']"
   ]
  },
  {
   "cell_type": "markdown",
   "metadata": {},
   "source": [
    "For patient id 418, the selected encounter should be 3362."
   ]
  },
  {
   "cell_type": "code",
   "execution_count": 25,
   "metadata": {},
   "outputs": [
    {
     "data": {
      "application/vnd.microsoft.datawrangler.viewer.v0+json": {
       "columns": [
        {
         "name": "index",
         "rawType": "int64",
         "type": "integer"
        },
        {
         "name": "ENCOUNTER_ID",
         "rawType": "object",
         "type": "string"
        },
        {
         "name": "ENCOUNTER_ID_NUMBER",
         "rawType": "int64",
         "type": "integer"
        },
        {
         "name": "PATIENT_ID",
         "rawType": "object",
         "type": "string"
        }
       ],
       "ref": "a8b12223-e30e-4a9e-a06c-b8d08ea01af3",
       "rows": [
        [
         "2448",
         "udacity_health_encounter_id_3362",
         "3362",
         "udacity_health_patient_id_418"
        ]
       ],
       "shape": {
        "columns": 3,
        "rows": 1
       }
      },
      "text/html": [
       "<div>\n",
       "<style scoped>\n",
       "    .dataframe tbody tr th:only-of-type {\n",
       "        vertical-align: middle;\n",
       "    }\n",
       "\n",
       "    .dataframe tbody tr th {\n",
       "        vertical-align: top;\n",
       "    }\n",
       "\n",
       "    .dataframe thead th {\n",
       "        text-align: right;\n",
       "    }\n",
       "</style>\n",
       "<table border=\"1\" class=\"dataframe\">\n",
       "  <thead>\n",
       "    <tr style=\"text-align: right;\">\n",
       "      <th></th>\n",
       "      <th>ENCOUNTER_ID</th>\n",
       "      <th>ENCOUNTER_ID_NUMBER</th>\n",
       "      <th>PATIENT_ID</th>\n",
       "    </tr>\n",
       "  </thead>\n",
       "  <tbody>\n",
       "    <tr>\n",
       "      <th>2448</th>\n",
       "      <td>udacity_health_encounter_id_3362</td>\n",
       "      <td>3362</td>\n",
       "      <td>udacity_health_patient_id_418</td>\n",
       "    </tr>\n",
       "  </tbody>\n",
       "</table>\n",
       "</div>"
      ],
      "text/plain": [
       "                          ENCOUNTER_ID  ENCOUNTER_ID_NUMBER  \\\n",
       "2448  udacity_health_encounter_id_3362                 3362   \n",
       "\n",
       "                         PATIENT_ID  \n",
       "2448  udacity_health_patient_id_418  "
      ]
     },
     "execution_count": 25,
     "metadata": {},
     "output_type": "execute_result"
    }
   ],
   "source": [
    "test_last_encounter_df[test_last_encounter_df['PATIENT_ID']=='udacity_health_patient_id_418']"
   ]
  },
  {
   "cell_type": "code",
   "execution_count": 26,
   "metadata": {},
   "outputs": [
    {
     "data": {
      "application/vnd.microsoft.datawrangler.viewer.v0+json": {
       "columns": [
        {
         "name": "index",
         "rawType": "int64",
         "type": "integer"
        },
        {
         "name": "ENCOUNTER_ID",
         "rawType": "object",
         "type": "string"
        },
        {
         "name": "PATIENT_ID",
         "rawType": "object",
         "type": "string"
        },
        {
         "name": "PRINCIPAL_DIAGNOSIS_CODE",
         "rawType": "object",
         "type": "string"
        },
        {
         "name": "PROCEDURE_CODE",
         "rawType": "object",
         "type": "string"
        },
        {
         "name": "MEDICATION_CODE",
         "rawType": "object",
         "type": "string"
        },
        {
         "name": "LAB_CODE",
         "rawType": "object",
         "type": "string"
        },
        {
         "name": "LABEL",
         "rawType": "object",
         "type": "string"
        },
        {
         "name": "ENCOUNTER_ID_NUMBER",
         "rawType": "int64",
         "type": "integer"
        }
       ],
       "ref": "b80339de-e3a8-4a72-abbf-aeefaad9ec4d",
       "rows": [
        [
         "1678",
         "udacity_health_encounter_id_2608",
         "udacity_health_patient_id_908",
         "dx_code_52877",
         "[]",
         "['medication_code_6189']",
         "[]",
         "[0]",
         "2608"
        ],
        [
         "2796",
         "udacity_health_encounter_id_3698",
         "udacity_health_patient_id_908",
         "dx_code_52688",
         "['procedure_code_60912']",
         "[]",
         "['lab_code_4691', 'lab_code_9380']",
         "[0, 0, 0]",
         "3698"
        ],
        [
         "5301",
         "udacity_health_encounter_id_6132",
         "udacity_health_patient_id_908",
         "dx_code_36066",
         "['procedure_code_5724', 'procedure_code_55191', 'procedure_code_33734', 'procedure_code_12159', 'procedure_code_29171', 'procedure_code_72933']",
         "['medication_code_9532', 'medication_code_3398', 'medication_code_283', 'medication_code_7134', 'medication_code_2806']",
         "['lab_code_9732', 'lab_code_2808', 'lab_code_3868']",
         "[0, 0, 0, 0, 0, 0, 0, 0, 0, 0, 0, 0, 0, 0]",
         "6132"
        ],
        [
         "7131",
         "udacity_health_encounter_id_910",
         "udacity_health_patient_id_908",
         "dx_code_98539",
         "['procedure_code_8188', 'procedure_code_59872', 'procedure_code_6094']",
         "['medication_code_5112', 'medication_code_3537', 'medication_code_3523', 'medication_code_7949']",
         "[]",
         "[0, 0, 0, 0, 0, 0, 0]",
         "910"
        ]
       ],
       "shape": {
        "columns": 8,
        "rows": 4
       }
      },
      "text/html": [
       "<div>\n",
       "<style scoped>\n",
       "    .dataframe tbody tr th:only-of-type {\n",
       "        vertical-align: middle;\n",
       "    }\n",
       "\n",
       "    .dataframe tbody tr th {\n",
       "        vertical-align: top;\n",
       "    }\n",
       "\n",
       "    .dataframe thead th {\n",
       "        text-align: right;\n",
       "    }\n",
       "</style>\n",
       "<table border=\"1\" class=\"dataframe\">\n",
       "  <thead>\n",
       "    <tr style=\"text-align: right;\">\n",
       "      <th></th>\n",
       "      <th>ENCOUNTER_ID</th>\n",
       "      <th>PATIENT_ID</th>\n",
       "      <th>PRINCIPAL_DIAGNOSIS_CODE</th>\n",
       "      <th>PROCEDURE_CODE</th>\n",
       "      <th>MEDICATION_CODE</th>\n",
       "      <th>LAB_CODE</th>\n",
       "      <th>LABEL</th>\n",
       "      <th>ENCOUNTER_ID_NUMBER</th>\n",
       "    </tr>\n",
       "  </thead>\n",
       "  <tbody>\n",
       "    <tr>\n",
       "      <th>1678</th>\n",
       "      <td>udacity_health_encounter_id_2608</td>\n",
       "      <td>udacity_health_patient_id_908</td>\n",
       "      <td>dx_code_52877</td>\n",
       "      <td>[]</td>\n",
       "      <td>['medication_code_6189']</td>\n",
       "      <td>[]</td>\n",
       "      <td>[0]</td>\n",
       "      <td>2608</td>\n",
       "    </tr>\n",
       "    <tr>\n",
       "      <th>2796</th>\n",
       "      <td>udacity_health_encounter_id_3698</td>\n",
       "      <td>udacity_health_patient_id_908</td>\n",
       "      <td>dx_code_52688</td>\n",
       "      <td>['procedure_code_60912']</td>\n",
       "      <td>[]</td>\n",
       "      <td>['lab_code_4691', 'lab_code_9380']</td>\n",
       "      <td>[0, 0, 0]</td>\n",
       "      <td>3698</td>\n",
       "    </tr>\n",
       "    <tr>\n",
       "      <th>5301</th>\n",
       "      <td>udacity_health_encounter_id_6132</td>\n",
       "      <td>udacity_health_patient_id_908</td>\n",
       "      <td>dx_code_36066</td>\n",
       "      <td>['procedure_code_5724', 'procedure_code_55191'...</td>\n",
       "      <td>['medication_code_9532', 'medication_code_3398...</td>\n",
       "      <td>['lab_code_9732', 'lab_code_2808', 'lab_code_3...</td>\n",
       "      <td>[0, 0, 0, 0, 0, 0, 0, 0, 0, 0, 0, 0, 0, 0]</td>\n",
       "      <td>6132</td>\n",
       "    </tr>\n",
       "    <tr>\n",
       "      <th>7131</th>\n",
       "      <td>udacity_health_encounter_id_910</td>\n",
       "      <td>udacity_health_patient_id_908</td>\n",
       "      <td>dx_code_98539</td>\n",
       "      <td>['procedure_code_8188', 'procedure_code_59872'...</td>\n",
       "      <td>['medication_code_5112', 'medication_code_3537...</td>\n",
       "      <td>[]</td>\n",
       "      <td>[0, 0, 0, 0, 0, 0, 0]</td>\n",
       "      <td>910</td>\n",
       "    </tr>\n",
       "  </tbody>\n",
       "</table>\n",
       "</div>"
      ],
      "text/plain": [
       "                          ENCOUNTER_ID                     PATIENT_ID  \\\n",
       "1678  udacity_health_encounter_id_2608  udacity_health_patient_id_908   \n",
       "2796  udacity_health_encounter_id_3698  udacity_health_patient_id_908   \n",
       "5301  udacity_health_encounter_id_6132  udacity_health_patient_id_908   \n",
       "7131   udacity_health_encounter_id_910  udacity_health_patient_id_908   \n",
       "\n",
       "     PRINCIPAL_DIAGNOSIS_CODE  \\\n",
       "1678            dx_code_52877   \n",
       "2796            dx_code_52688   \n",
       "5301            dx_code_36066   \n",
       "7131            dx_code_98539   \n",
       "\n",
       "                                         PROCEDURE_CODE  \\\n",
       "1678                                                 []   \n",
       "2796                           ['procedure_code_60912']   \n",
       "5301  ['procedure_code_5724', 'procedure_code_55191'...   \n",
       "7131  ['procedure_code_8188', 'procedure_code_59872'...   \n",
       "\n",
       "                                        MEDICATION_CODE  \\\n",
       "1678                           ['medication_code_6189']   \n",
       "2796                                                 []   \n",
       "5301  ['medication_code_9532', 'medication_code_3398...   \n",
       "7131  ['medication_code_5112', 'medication_code_3537...   \n",
       "\n",
       "                                               LAB_CODE  \\\n",
       "1678                                                 []   \n",
       "2796                 ['lab_code_4691', 'lab_code_9380']   \n",
       "5301  ['lab_code_9732', 'lab_code_2808', 'lab_code_3...   \n",
       "7131                                                 []   \n",
       "\n",
       "                                           LABEL  ENCOUNTER_ID_NUMBER  \n",
       "1678                                         [0]                 2608  \n",
       "2796                                   [0, 0, 0]                 3698  \n",
       "5301  [0, 0, 0, 0, 0, 0, 0, 0, 0, 0, 0, 0, 0, 0]                 6132  \n",
       "7131                       [0, 0, 0, 0, 0, 0, 0]                  910  "
      ]
     },
     "execution_count": 26,
     "metadata": {},
     "output_type": "execute_result"
    }
   ],
   "source": [
    "ehr_level_df[ehr_level_df['PATIENT_ID']=='udacity_health_patient_id_908']"
   ]
  },
  {
   "cell_type": "markdown",
   "metadata": {},
   "source": [
    "For patient id 908, the selected encounter should be 6132."
   ]
  },
  {
   "cell_type": "code",
   "execution_count": 27,
   "metadata": {},
   "outputs": [
    {
     "data": {
      "application/vnd.microsoft.datawrangler.viewer.v0+json": {
       "columns": [
        {
         "name": "index",
         "rawType": "int64",
         "type": "integer"
        },
        {
         "name": "ENCOUNTER_ID",
         "rawType": "object",
         "type": "string"
        },
        {
         "name": "ENCOUNTER_ID_NUMBER",
         "rawType": "int64",
         "type": "integer"
        },
        {
         "name": "PATIENT_ID",
         "rawType": "object",
         "type": "string"
        }
       ],
       "ref": "8388a79b-4b12-41ea-bf36-314db28435cf",
       "rows": [
        [
         "5301",
         "udacity_health_encounter_id_6132",
         "6132",
         "udacity_health_patient_id_908"
        ]
       ],
       "shape": {
        "columns": 3,
        "rows": 1
       }
      },
      "text/html": [
       "<div>\n",
       "<style scoped>\n",
       "    .dataframe tbody tr th:only-of-type {\n",
       "        vertical-align: middle;\n",
       "    }\n",
       "\n",
       "    .dataframe tbody tr th {\n",
       "        vertical-align: top;\n",
       "    }\n",
       "\n",
       "    .dataframe thead th {\n",
       "        text-align: right;\n",
       "    }\n",
       "</style>\n",
       "<table border=\"1\" class=\"dataframe\">\n",
       "  <thead>\n",
       "    <tr style=\"text-align: right;\">\n",
       "      <th></th>\n",
       "      <th>ENCOUNTER_ID</th>\n",
       "      <th>ENCOUNTER_ID_NUMBER</th>\n",
       "      <th>PATIENT_ID</th>\n",
       "    </tr>\n",
       "  </thead>\n",
       "  <tbody>\n",
       "    <tr>\n",
       "      <th>5301</th>\n",
       "      <td>udacity_health_encounter_id_6132</td>\n",
       "      <td>6132</td>\n",
       "      <td>udacity_health_patient_id_908</td>\n",
       "    </tr>\n",
       "  </tbody>\n",
       "</table>\n",
       "</div>"
      ],
      "text/plain": [
       "                          ENCOUNTER_ID  ENCOUNTER_ID_NUMBER  \\\n",
       "5301  udacity_health_encounter_id_6132                 6132   \n",
       "\n",
       "                         PATIENT_ID  \n",
       "5301  udacity_health_patient_id_908  "
      ]
     },
     "execution_count": 27,
     "metadata": {},
     "output_type": "execute_result"
    }
   ],
   "source": [
    "test_last_encounter_df[test_last_encounter_df['PATIENT_ID']=='udacity_health_patient_id_908']"
   ]
  },
  {
   "cell_type": "markdown",
   "metadata": {},
   "source": [
    "## Exercise  L4 - 2: Dataset Splitting"
   ]
  },
  {
   "cell_type": "markdown",
   "metadata": {},
   "source": [
    "### Instructions\n",
    "- Split the provided dataset into a train and test split but be sure not to mix patient encounter records across the two partitions\n",
    "- Be sure to run the following three tests\n",
    "    - Patient data in only one partition\n",
    "    - Total unique number of patients across all partitions = total number unique patients in original full dataset\n",
    "    - Total number of rows original dataset = sum of rows across splits"
   ]
  },
  {
   "cell_type": "code",
   "execution_count": 28,
   "metadata": {},
   "outputs": [],
   "source": [
    "splitting_exercise_dataset_path = \"./data/SYNTHETIC_EHR_DATASET.csv\""
   ]
  },
  {
   "cell_type": "markdown",
   "metadata": {},
   "source": [
    "### Solution"
   ]
  },
  {
   "cell_type": "markdown",
   "metadata": {},
   "source": [
    "This is largely a review of two parts in this lesson and you can use most of the same code for each step. The key is to identify the level of the dataset and then to convert it to the encounter level before you do your splits. Then perform the splitting and run the tests."
   ]
  },
  {
   "cell_type": "markdown",
   "metadata": {},
   "source": [
    "#### Convert to Encounter Level"
   ]
  },
  {
   "cell_type": "code",
   "execution_count": 29,
   "metadata": {},
   "outputs": [
    {
     "name": "stdout",
     "output_type": "stream",
     "text": [
      "Rows x Columns in ehr_pre_split_df =  (100000, 7)\n",
      "Rows x Columns in ehr_encounter_df =  (7222, 7)\n",
      "Total number of unique patients =  878\n"
     ]
    }
   ],
   "source": [
    "# convert to encounter and then split but make sure not to mix patient encounter records across the two partitions\n",
    "ehr_pre_split_df = pd.read_csv(splitting_exercise_dataset_path)\n",
    "print(\"Rows x Columns in ehr_pre_split_df = \", ehr_pre_split_df.shape)\n",
    "\n",
    "grouping_field_list = ['ENCOUNTER_ID', 'PATIENT_ID', 'PRINCIPAL_DIAGNOSIS_CODE']\n",
    "non_grouped_field_list = [c for c in ehr_pre_split_df.columns if c not in grouping_field_list]\n",
    "ehr_encounter_df = ehr_pre_split_df.groupby(grouping_field_list)[non_grouped_field_list].agg(lambda x:\n",
    "                                                        list([y for y in x if y is not np.nan ] ) ).reset_index()\n",
    "\n",
    "\n",
    "print(\"Rows x Columns in ehr_encounter_df = \", ehr_encounter_df.shape)\n",
    "print(\"Total number of unique patients = \", len(ehr_encounter_df['PATIENT_ID'].unique()))"
   ]
  },
  {
   "cell_type": "markdown",
   "metadata": {},
   "source": [
    "#### Split at Patient Level\n",
    "\n",
    "**We have to take care of the following condition:**\n",
    "1. We have to split the dataset in such a way that the `train` and `test` partitions should have an 80:20 ratio of the **unique patients**. In other words, there should not be any overlapping encounters of a patient between the two partitions. It means, if total no. of unique patients in the original dataset is 878, then the unique patients in `train` will always be 702, and `test` will have 176 patients' records. \n",
    "\n",
    "\n",
    "**Note**: Interestingly, **the exact count of rows in each `train` and `test` partitions will change every time you run the function below.** The reason is that the split is based on `key='PATIENT_ID'`, due to which each time you run the function, it will allocate a **new set** of unique patients to train/test partition, where each patient has a different number of encounters. "
   ]
  },
  {
   "cell_type": "code",
   "execution_count": 30,
   "metadata": {},
   "outputs": [],
   "source": [
    "PATIENT_ID_FIELD = 'PATIENT_ID'\n",
    "TEST_PERCENT = 0.2"
   ]
  },
  {
   "cell_type": "code",
   "execution_count": 31,
   "metadata": {},
   "outputs": [],
   "source": [
    "def split_dataset_patient_level(df, key, test_percentage=0.2):\n",
    "    df = df.iloc[np.random.permutation(len(df))]\n",
    "    unique_values = df[key].unique()\n",
    "    total_values = len(unique_values)\n",
    "    sample_size = round(total_values * (1 - test_percentage ))\n",
    "    train = df[df[key].isin(unique_values[:sample_size])].reset_index(drop=True)\n",
    "    test = df[df[key].isin(unique_values[sample_size:])].reset_index(drop=True)\n",
    "\n",
    "    print(\"Total number of unique patients in train = \", len(train['PATIENT_ID'].unique()))\n",
    "    print(\"Total number of unique patients in test = \", len(test['PATIENT_ID'].unique()))\n",
    "    print(\"Training partition has a shape = \", train.shape)\n",
    "    print(\"Test partition has a shape = \", test.shape)\n",
    "\n",
    "    return train, test"
   ]
  },
  {
   "cell_type": "code",
   "execution_count": 32,
   "metadata": {},
   "outputs": [
    {
     "name": "stdout",
     "output_type": "stream",
     "text": [
      "Total number of unique patients in train =  702\n",
      "Total number of unique patients in test =  176\n",
      "Training partition has a shape =  (6833, 7)\n",
      "Test partition has a shape =  (389, 7)\n"
     ]
    }
   ],
   "source": [
    "train_df, test_df = split_dataset_patient_level(ehr_encounter_df, PATIENT_ID_FIELD, TEST_PERCENT)"
   ]
  },
  {
   "cell_type": "code",
   "execution_count": 33,
   "metadata": {},
   "outputs": [
    {
     "name": "stdout",
     "output_type": "stream",
     "text": [
      "Test passed for patient data in only one partition\n"
     ]
    }
   ],
   "source": [
    "\n",
    "assert len(set(train_df[PATIENT_ID_FIELD].unique()).intersection(set(test_df[PATIENT_ID_FIELD].unique()))) == 0\n",
    "print(\"Test passed for patient data in only one partition\")"
   ]
  },
  {
   "cell_type": "code",
   "execution_count": 34,
   "metadata": {},
   "outputs": [
    {
     "name": "stdout",
     "output_type": "stream",
     "text": [
      "Test passed for number of unique patients being equal!\n"
     ]
    }
   ],
   "source": [
    "assert (train_df[PATIENT_ID_FIELD].nunique()  + test_df[PATIENT_ID_FIELD].nunique()) == ehr_encounter_df[PATIENT_ID_FIELD].nunique()\n",
    "print(\"Test passed for number of unique patients being equal!\")"
   ]
  },
  {
   "cell_type": "code",
   "execution_count": 35,
   "metadata": {},
   "outputs": [
    {
     "name": "stdout",
     "output_type": "stream",
     "text": [
      "Test passed for number of total rows equal!\n"
     ]
    }
   ],
   "source": [
    "assert len(train_df)  + len(test_df) == len(ehr_encounter_df)\n",
    "print(\"Test passed for number of total rows equal!\")"
   ]
  },
  {
   "cell_type": "markdown",
   "metadata": {},
   "source": [
    "#### Optional\n",
    "- Check label distribution and use scikitlearn - https://scikit-learn.org/stable/auto_examples/model_selection/plot_cv_indices.html#sphx-glr-auto-examples-model-selection-plot-cv-indices-py"
   ]
  },
  {
   "cell_type": "markdown",
   "metadata": {},
   "source": [
    "## Exercise  L4 - 3: Build Bucketed Numeric Feature with TF"
   ]
  },
  {
   "cell_type": "markdown",
   "metadata": {},
   "source": [
    "### Instructions\n",
    "- Given the Swiss heart disease dataset that we worked with earlier, build a bucketed numeric feature from the age feature. \n",
    "- For this exercise, use the Tensorflow csv function for loading the dataset directly into a TF tensor -https://www.tensorflow.org/api_docs/python/tf/data/experimental/make_csv_dataset. This approach will be useful for when you have much larger datasets and also allows you to bypass loading the dataset in Pandas.\n",
    "- More information on the Tensorflow bucketized feature can be found here https://www.tensorflow.org/api_docs/python/tf/feature_column/bucketized_column. Bucketed features take as input the  numeric feature that we covered in the lesson. For the numeric feature, you do not need to normalize it like we did in the lesson. "
   ]
  },
  {
   "cell_type": "code",
   "execution_count": 36,
   "metadata": {},
   "outputs": [],
   "source": [
    "import tensorflow as tf\n",
    "swiss_dataset_path = \"./data/lesson_exercise_swiss_dataset.csv\"\n",
    "BATCH_SIZE =128\n",
    "PREDICTOR_FIELD = 'num_label'"
   ]
  },
  {
   "cell_type": "markdown",
   "metadata": {},
   "source": [
    "### Solution"
   ]
  },
  {
   "cell_type": "code",
   "execution_count": 37,
   "metadata": {},
   "outputs": [],
   "source": [
    "# ETL with TF dataset make csv function\n",
    "swiss_tf_dataset = tf.data.experimental.make_csv_dataset( swiss_dataset_path, batch_size=BATCH_SIZE,\n",
    "                                                         num_epochs=1, label_name=PREDICTOR_FIELD, header=True)"
   ]
  },
  {
   "cell_type": "code",
   "execution_count": 38,
   "metadata": {},
   "outputs": [
    {
     "data": {
      "text/plain": [
       "OrderedDict([('age',\n",
       "              <tf.Tensor: shape=(123,), dtype=int32, numpy=\n",
       "              array([53, 58, 59, 66, 47, 73, 38, 54, 63, 51, 69, 42, 55, 38, 53, 61, 48,\n",
       "                     59, 59, 62, 45, 57, 62, 59, 65, 61, 65, 60, 63, 56, 51, 60, 56, 62,\n",
       "                     63, 55, 47, 52, 47, 38, 47, 36, 35, 38, 32, 62, 46, 50, 57, 61, 68,\n",
       "                     62, 60, 56, 38, 66, 57, 53, 57, 65, 68, 54, 61, 57, 72, 64, 43, 43,\n",
       "                     51, 60, 38, 70, 54, 50, 61, 46, 56, 65, 61, 51, 51, 56, 61, 70, 64,\n",
       "                     67, 51, 61, 55, 64, 52, 53, 51, 58, 63, 50, 69, 42, 53, 52, 53, 61,\n",
       "                     40, 60, 56, 56, 52, 50, 56, 58, 55, 53, 63, 43, 34, 59, 74, 62, 62,\n",
       "                     41, 53, 57, 60], dtype=int32)>)])"
      ]
     },
     "execution_count": 38,
     "metadata": {},
     "output_type": "execute_result"
    }
   ],
   "source": [
    "swiss_dataset_batch = next(iter(swiss_tf_dataset))[0]\n",
    "swiss_dataset_batch"
   ]
  },
  {
   "cell_type": "code",
   "execution_count": 39,
   "metadata": {},
   "outputs": [
    {
     "name": "stdout",
     "output_type": "stream",
     "text": [
      "WARNING:tensorflow:From /var/folders/sy/nnrjh0cx1897yr6m0_fq9wmc0000gq/T/ipykernel_31886/788383791.py:2: numeric_column (from tensorflow.python.feature_column.feature_column_v2) is deprecated and will be removed in a future version.\n",
      "Instructions for updating:\n",
      "Use Keras preprocessing layers instead, either directly or via the `tf.keras.utils.FeatureSpace` utility. Each of `tf.feature_column.*` has a functional equivalent in `tf.keras.layers` for feature preprocessing when training a Keras model.\n"
     ]
    }
   ],
   "source": [
    "# create TF numeric feature\n",
    "tf_numeric_age_feature = tf.feature_column.numeric_column(key='age', default_value=0, dtype=tf.float64)"
   ]
  },
  {
   "cell_type": "code",
   "execution_count": 40,
   "metadata": {},
   "outputs": [
    {
     "name": "stdout",
     "output_type": "stream",
     "text": [
      "WARNING:tensorflow:From /var/folders/sy/nnrjh0cx1897yr6m0_fq9wmc0000gq/T/ipykernel_31886/1515120815.py:4: bucketized_column (from tensorflow.python.feature_column.feature_column_v2) is deprecated and will be removed in a future version.\n",
      "Instructions for updating:\n",
      "Use Keras preprocessing layers instead, either directly or via the `tf.keras.utils.FeatureSpace` utility. Each of `tf.feature_column.*` has a functional equivalent in `tf.keras.layers` for feature preprocessing when training a Keras model.\n"
     ]
    }
   ],
   "source": [
    "#boundaries for the different age buckets\n",
    "b_list = [ 0, 18, 25, 40, 55, 65, 80, 100]\n",
    "#create TF bucket feature from numeric feature\n",
    "tf_bucket_age_feature = tf.feature_column.bucketized_column(source_column=tf_numeric_age_feature, boundaries= b_list)"
   ]
  },
  {
   "cell_type": "code",
   "execution_count": 41,
   "metadata": {},
   "outputs": [],
   "source": [
    "def demo(feature_column, example_batch):\n",
    "    feature_layer = tf.keras.layers.DenseFeatures(feature_column)\n",
    "    print(feature_layer(example_batch))\n",
    "    print(\"\\nExample of one transformed row:\")\n",
    "    print(feature_layer(example_batch).numpy()[0])"
   ]
  },
  {
   "cell_type": "code",
   "execution_count": 47,
   "metadata": {},
   "outputs": [
    {
     "name": "stdout",
     "output_type": "stream",
     "text": [
      "Example bucketized ages:\n",
      " tf.Tensor(\n",
      "[3 4 4 5 3 5 2 3 4 3 5 3 4 2 3 4 3 4 4 4 3 4 4 4 5 4 5 4 4 4 3 4 4 4 4 4 3\n",
      " 3 3 2 3 2 2 2 2 4 3 3 4 4 5 4 4 4 2 5 4 3 4 5 5 3 4 4 5 4 3 3 3 4 2 5 3 3\n",
      " 4 3 4 5 4 3 3 4 4 5 4 5 3 4 4 4 3 3 3 4 4 3 5 3 3 3 3 4 3 4 4 4 3 3 4 4 4\n",
      " 3 4 3 2 4 5 4 4 3 3 4 4], shape=(123,), dtype=int64)\n",
      "\n",
      "Example of one transformed row:\n",
      "3\n"
     ]
    }
   ],
   "source": [
    "# Explanation of Code Block: Demonstrating Bucketized Numeric Feature Transformation with Keras Preprocessing Layers\n",
    "# This block uses tf.keras.layers.Discretization to bucketize the 'age' feature in a batch of data.\n",
    "# - Discretization replaces the deprecated feature_column.bucketized_column and DenseFeatures.\n",
    "# - The layer is created with the bucket boundaries.\n",
    "# - The batch is passed as a tensor or numpy array for transformation.\n",
    "\n",
    "import tensorflow as tf\n",
    "\n",
    "# Define bucket boundaries (do not include min/max, just split points)\n",
    "b_list = [18, 25, 40, 55, 65, 80, 100]\n",
    "\n",
    "# Extract the 'age' column as a tensor or numpy array\n",
    "age_batch = swiss_dataset_batch['age']\n",
    "\n",
    "# Create and apply the Discretization layer\n",
    "discretize_layer = tf.keras.layers.Discretization(bin_boundaries=b_list)\n",
    "bucketized_ages = discretize_layer(age_batch)\n",
    "\n",
    "print(\"Example bucketized ages:\\n\", bucketized_ages)\n",
    "print(\"\\nExample of one transformed row:\")\n",
    "print(bucketized_ages.numpy()[0])"
   ]
  },
  {
   "cell_type": "markdown",
   "metadata": {},
   "source": [
    "## Exercise  L4 - 4:  Build Embedding Categorical Feature with TF"
   ]
  },
  {
   "cell_type": "markdown",
   "metadata": {},
   "source": [
    "### Instructions\n",
    "- Build a 10 dimension embedding feature for the PRINCIPAL_DIAGNOSIS_CODE field\n",
    "- Here is the link to the Tensorflow Embedding column documentation -https://www.tensorflow.org/api_docs/python/tf/feature_column/embedding_column\n",
    "- Some functions provided below to assist"
   ]
  },
  {
   "cell_type": "code",
   "execution_count": 48,
   "metadata": {},
   "outputs": [
    {
     "data": {
      "application/vnd.microsoft.datawrangler.viewer.v0+json": {
       "columns": [
        {
         "name": "index",
         "rawType": "int64",
         "type": "integer"
        },
        {
         "name": "ENCOUNTER_ID",
         "rawType": "object",
         "type": "string"
        },
        {
         "name": "PATIENT_ID",
         "rawType": "object",
         "type": "string"
        },
        {
         "name": "PRINCIPAL_DIAGNOSIS_CODE",
         "rawType": "object",
         "type": "string"
        },
        {
         "name": "PROCEDURE_CODE",
         "rawType": "object",
         "type": "unknown"
        },
        {
         "name": "MEDICATION_CODE",
         "rawType": "object",
         "type": "unknown"
        },
        {
         "name": "LAB_CODE",
         "rawType": "object",
         "type": "unknown"
        },
        {
         "name": "LABEL",
         "rawType": "int64",
         "type": "integer"
        }
       ],
       "ref": "97626c83-d555-4435-9c44-f0376ba31386",
       "rows": [
        [
         "0",
         "udacity_health_encounter_id_1933",
         "udacity_health_patient_id_817",
         "dx_code_56522",
         "procedure_code_20005",
         null,
         null,
         "0"
        ],
        [
         "1",
         "udacity_health_encounter_id_5664",
         "udacity_health_patient_id_594",
         "dx_code_39264",
         null,
         "medication_code_7471",
         null,
         "0"
        ],
        [
         "2",
         "udacity_health_encounter_id_1946",
         "udacity_health_patient_id_169",
         "dx_code_83619",
         null,
         null,
         "lab_code_5311",
         "0"
        ],
        [
         "3",
         "udacity_health_encounter_id_1528",
         "udacity_health_patient_id_870",
         "dx_code_97434",
         "procedure_code_31111",
         null,
         null,
         "0"
        ],
        [
         "4",
         "udacity_health_encounter_id_7185",
         "udacity_health_patient_id_722",
         "dx_code_68924",
         null,
         "medication_code_2250",
         null,
         "0"
        ]
       ],
       "shape": {
        "columns": 7,
        "rows": 5
       }
      },
      "text/html": [
       "<div>\n",
       "<style scoped>\n",
       "    .dataframe tbody tr th:only-of-type {\n",
       "        vertical-align: middle;\n",
       "    }\n",
       "\n",
       "    .dataframe tbody tr th {\n",
       "        vertical-align: top;\n",
       "    }\n",
       "\n",
       "    .dataframe thead th {\n",
       "        text-align: right;\n",
       "    }\n",
       "</style>\n",
       "<table border=\"1\" class=\"dataframe\">\n",
       "  <thead>\n",
       "    <tr style=\"text-align: right;\">\n",
       "      <th></th>\n",
       "      <th>ENCOUNTER_ID</th>\n",
       "      <th>PATIENT_ID</th>\n",
       "      <th>PRINCIPAL_DIAGNOSIS_CODE</th>\n",
       "      <th>PROCEDURE_CODE</th>\n",
       "      <th>MEDICATION_CODE</th>\n",
       "      <th>LAB_CODE</th>\n",
       "      <th>LABEL</th>\n",
       "    </tr>\n",
       "  </thead>\n",
       "  <tbody>\n",
       "    <tr>\n",
       "      <th>0</th>\n",
       "      <td>udacity_health_encounter_id_1933</td>\n",
       "      <td>udacity_health_patient_id_817</td>\n",
       "      <td>dx_code_56522</td>\n",
       "      <td>procedure_code_20005</td>\n",
       "      <td>NaN</td>\n",
       "      <td>NaN</td>\n",
       "      <td>0</td>\n",
       "    </tr>\n",
       "    <tr>\n",
       "      <th>1</th>\n",
       "      <td>udacity_health_encounter_id_5664</td>\n",
       "      <td>udacity_health_patient_id_594</td>\n",
       "      <td>dx_code_39264</td>\n",
       "      <td>NaN</td>\n",
       "      <td>medication_code_7471</td>\n",
       "      <td>NaN</td>\n",
       "      <td>0</td>\n",
       "    </tr>\n",
       "    <tr>\n",
       "      <th>2</th>\n",
       "      <td>udacity_health_encounter_id_1946</td>\n",
       "      <td>udacity_health_patient_id_169</td>\n",
       "      <td>dx_code_83619</td>\n",
       "      <td>NaN</td>\n",
       "      <td>NaN</td>\n",
       "      <td>lab_code_5311</td>\n",
       "      <td>0</td>\n",
       "    </tr>\n",
       "    <tr>\n",
       "      <th>3</th>\n",
       "      <td>udacity_health_encounter_id_1528</td>\n",
       "      <td>udacity_health_patient_id_870</td>\n",
       "      <td>dx_code_97434</td>\n",
       "      <td>procedure_code_31111</td>\n",
       "      <td>NaN</td>\n",
       "      <td>NaN</td>\n",
       "      <td>0</td>\n",
       "    </tr>\n",
       "    <tr>\n",
       "      <th>4</th>\n",
       "      <td>udacity_health_encounter_id_7185</td>\n",
       "      <td>udacity_health_patient_id_722</td>\n",
       "      <td>dx_code_68924</td>\n",
       "      <td>NaN</td>\n",
       "      <td>medication_code_2250</td>\n",
       "      <td>NaN</td>\n",
       "      <td>0</td>\n",
       "    </tr>\n",
       "  </tbody>\n",
       "</table>\n",
       "</div>"
      ],
      "text/plain": [
       "                       ENCOUNTER_ID                     PATIENT_ID  \\\n",
       "0  udacity_health_encounter_id_1933  udacity_health_patient_id_817   \n",
       "1  udacity_health_encounter_id_5664  udacity_health_patient_id_594   \n",
       "2  udacity_health_encounter_id_1946  udacity_health_patient_id_169   \n",
       "3  udacity_health_encounter_id_1528  udacity_health_patient_id_870   \n",
       "4  udacity_health_encounter_id_7185  udacity_health_patient_id_722   \n",
       "\n",
       "  PRINCIPAL_DIAGNOSIS_CODE        PROCEDURE_CODE       MEDICATION_CODE  \\\n",
       "0            dx_code_56522  procedure_code_20005                   NaN   \n",
       "1            dx_code_39264                   NaN  medication_code_7471   \n",
       "2            dx_code_83619                   NaN                   NaN   \n",
       "3            dx_code_97434  procedure_code_31111                   NaN   \n",
       "4            dx_code_68924                   NaN  medication_code_2250   \n",
       "\n",
       "        LAB_CODE  LABEL  \n",
       "0            NaN      0  \n",
       "1            NaN      0  \n",
       "2  lab_code_5311      0  \n",
       "3            NaN      0  \n",
       "4            NaN      0  "
      ]
     },
     "execution_count": 48,
     "metadata": {},
     "output_type": "execute_result"
    }
   ],
   "source": [
    "ehr_line_df = pd.read_csv(\"./data/SYNTHETIC_EHR_DATASET.csv\")\n",
    "ehr_line_df.head()"
   ]
  },
  {
   "cell_type": "code",
   "execution_count": 49,
   "metadata": {},
   "outputs": [
    {
     "data": {
      "application/vnd.microsoft.datawrangler.viewer.v0+json": {
       "columns": [
        {
         "name": "index",
         "rawType": "int64",
         "type": "integer"
        },
        {
         "name": "ENCOUNTER_ID",
         "rawType": "object",
         "type": "string"
        },
        {
         "name": "PRINCIPAL_DIAGNOSIS_CODE",
         "rawType": "object",
         "type": "string"
        },
        {
         "name": "LABEL",
         "rawType": "int64",
         "type": "integer"
        }
       ],
       "ref": "a1cd533e-9fa4-48fa-bbc6-195cc664e2c3",
       "rows": [
        [
         "0",
         "udacity_health_encounter_id_1933",
         "dx_code_56522",
         "0"
        ],
        [
         "1",
         "udacity_health_encounter_id_5664",
         "dx_code_39264",
         "0"
        ],
        [
         "2",
         "udacity_health_encounter_id_1946",
         "dx_code_83619",
         "0"
        ],
        [
         "3",
         "udacity_health_encounter_id_1528",
         "dx_code_97434",
         "0"
        ],
        [
         "4",
         "udacity_health_encounter_id_7185",
         "dx_code_68924",
         "0"
        ]
       ],
       "shape": {
        "columns": 3,
        "rows": 5
       }
      },
      "text/html": [
       "<div>\n",
       "<style scoped>\n",
       "    .dataframe tbody tr th:only-of-type {\n",
       "        vertical-align: middle;\n",
       "    }\n",
       "\n",
       "    .dataframe tbody tr th {\n",
       "        vertical-align: top;\n",
       "    }\n",
       "\n",
       "    .dataframe thead th {\n",
       "        text-align: right;\n",
       "    }\n",
       "</style>\n",
       "<table border=\"1\" class=\"dataframe\">\n",
       "  <thead>\n",
       "    <tr style=\"text-align: right;\">\n",
       "      <th></th>\n",
       "      <th>ENCOUNTER_ID</th>\n",
       "      <th>PRINCIPAL_DIAGNOSIS_CODE</th>\n",
       "      <th>LABEL</th>\n",
       "    </tr>\n",
       "  </thead>\n",
       "  <tbody>\n",
       "    <tr>\n",
       "      <th>0</th>\n",
       "      <td>udacity_health_encounter_id_1933</td>\n",
       "      <td>dx_code_56522</td>\n",
       "      <td>0</td>\n",
       "    </tr>\n",
       "    <tr>\n",
       "      <th>1</th>\n",
       "      <td>udacity_health_encounter_id_5664</td>\n",
       "      <td>dx_code_39264</td>\n",
       "      <td>0</td>\n",
       "    </tr>\n",
       "    <tr>\n",
       "      <th>2</th>\n",
       "      <td>udacity_health_encounter_id_1946</td>\n",
       "      <td>dx_code_83619</td>\n",
       "      <td>0</td>\n",
       "    </tr>\n",
       "    <tr>\n",
       "      <th>3</th>\n",
       "      <td>udacity_health_encounter_id_1528</td>\n",
       "      <td>dx_code_97434</td>\n",
       "      <td>0</td>\n",
       "    </tr>\n",
       "    <tr>\n",
       "      <th>4</th>\n",
       "      <td>udacity_health_encounter_id_7185</td>\n",
       "      <td>dx_code_68924</td>\n",
       "      <td>0</td>\n",
       "    </tr>\n",
       "  </tbody>\n",
       "</table>\n",
       "</div>"
      ],
      "text/plain": [
       "                       ENCOUNTER_ID PRINCIPAL_DIAGNOSIS_CODE  LABEL\n",
       "0  udacity_health_encounter_id_1933            dx_code_56522      0\n",
       "1  udacity_health_encounter_id_5664            dx_code_39264      0\n",
       "2  udacity_health_encounter_id_1946            dx_code_83619      0\n",
       "3  udacity_health_encounter_id_1528            dx_code_97434      0\n",
       "4  udacity_health_encounter_id_7185            dx_code_68924      0"
      ]
     },
     "execution_count": 49,
     "metadata": {},
     "output_type": "execute_result"
    }
   ],
   "source": [
    "cat_example_df = ehr_line_df[['ENCOUNTER_ID', 'PRINCIPAL_DIAGNOSIS_CODE', 'LABEL']]\n",
    "cat_example_df.head()"
   ]
  },
  {
   "cell_type": "code",
   "execution_count": 50,
   "metadata": {},
   "outputs": [],
   "source": [
    "#adapted from https://www.tensorflow.org/tutorials/structured_data/feature_columns\n",
    "def df_to_dataset(df, predictor,  batch_size=32):\n",
    "    df = df.copy()\n",
    "    labels = df.pop(predictor)\n",
    "    ds = tf.data.Dataset.from_tensor_slices((dict(df), labels))\n",
    "    ds = ds.shuffle(buffer_size=len(df))\n",
    "    ds = ds.batch(batch_size)\n",
    "    return ds"
   ]
  },
  {
   "cell_type": "code",
   "execution_count": 51,
   "metadata": {},
   "outputs": [],
   "source": [
    "BATCH_SIZE = 64\n",
    "PREDICTOR_FIELD = 'LABEL'\n",
    "categorical_tf_ds = df_to_dataset(cat_example_df, PREDICTOR_FIELD, batch_size=BATCH_SIZE)"
   ]
  },
  {
   "cell_type": "code",
   "execution_count": 52,
   "metadata": {},
   "outputs": [],
   "source": [
    "# build vocab for categorical features\n",
    "def write_vocabulary_file(vocab_list, field_name, default_value, vocab_dir='./vocab/'):\n",
    "    output_file_path = os.path.join(vocab_dir, str(field_name) + \"_vocab.txt\")\n",
    "    # put default value in first row as TF requires\n",
    "    vocab_list = np.insert(vocab_list, 0, default_value, axis=0)\n",
    "    df = pd.DataFrame(vocab_list).to_csv(output_file_path, index=None, header=None)\n",
    "    return output_file_path\n",
    "\n",
    "def build_vocab_files(df, categorical_column_list, default_value='00'):\n",
    "    vocab_files_list = []\n",
    "    for c in categorical_column_list:\n",
    "        v_file = write_vocabulary_file(df[c].unique(), c, default_value)\n",
    "        vocab_files_list.append(v_file)\n",
    "    return vocab_files_list"
   ]
  },
  {
   "cell_type": "markdown",
   "metadata": {},
   "source": [
    "### Solution"
   ]
  },
  {
   "cell_type": "code",
   "execution_count": 53,
   "metadata": {},
   "outputs": [],
   "source": [
    "import os\n",
    "# add logic to add if not exist\n",
    "#os.mkdir(\"./vocab/\")"
   ]
  },
  {
   "cell_type": "code",
   "execution_count": 54,
   "metadata": {},
   "outputs": [
    {
     "data": {
      "text/plain": [
       "'./vocab/PRINCIPAL_DIAGNOSIS_CODE_vocab.txt'"
      ]
     },
     "execution_count": 54,
     "metadata": {},
     "output_type": "execute_result"
    }
   ],
   "source": [
    "categorical_field_list = [\"PRINCIPAL_DIAGNOSIS_CODE\"]\n",
    "vocab_files_list = build_vocab_files(cat_example_df, categorical_field_list)\n",
    "vocab_files_list[0]"
   ]
  },
  {
   "cell_type": "code",
   "execution_count": 55,
   "metadata": {},
   "outputs": [
    {
     "name": "stdout",
     "output_type": "stream",
     "text": [
      "WARNING:tensorflow:From /var/folders/sy/nnrjh0cx1897yr6m0_fq9wmc0000gq/T/ipykernel_31886/2113922818.py:1: categorical_column_with_vocabulary_file_v2 (from tensorflow.python.feature_column.feature_column_v2) is deprecated and will be removed in a future version.\n",
      "Instructions for updating:\n",
      "Use Keras preprocessing layers instead, either directly or via the `tf.keras.utils.FeatureSpace` utility. Each of `tf.feature_column.*` has a functional equivalent in `tf.keras.layers` for feature preprocessing when training a Keras model.\n",
      "INFO:tensorflow:vocabulary_size = 6753 in PRINCIPAL_DIAGNOSIS_CODE is inferred from the number of elements in the vocabulary_file ./vocab/PRINCIPAL_DIAGNOSIS_CODE_vocab.txt.\n"
     ]
    }
   ],
   "source": [
    "principal_diagnosis_vocab = tf.feature_column.categorical_column_with_vocabulary_file(\n",
    "            key=\"PRINCIPAL_DIAGNOSIS_CODE\", vocabulary_file = vocab_files_list[0], num_oov_buckets=1)"
   ]
  },
  {
   "cell_type": "code",
   "execution_count": 56,
   "metadata": {},
   "outputs": [
    {
     "name": "stdout",
     "output_type": "stream",
     "text": [
      "WARNING:tensorflow:From /var/folders/sy/nnrjh0cx1897yr6m0_fq9wmc0000gq/T/ipykernel_31886/3538970769.py:2: embedding_column (from tensorflow.python.feature_column.feature_column_v2) is deprecated and will be removed in a future version.\n",
      "Instructions for updating:\n",
      "Use Keras preprocessing layers instead, either directly or via the `tf.keras.utils.FeatureSpace` utility. Each of `tf.feature_column.*` has a functional equivalent in `tf.keras.layers` for feature preprocessing when training a Keras model.\n"
     ]
    }
   ],
   "source": [
    "dims = 10\n",
    "cat_embedded = tf.feature_column.embedding_column(principal_diagnosis_vocab, dimension=dims)"
   ]
  },
  {
   "cell_type": "code",
   "execution_count": 57,
   "metadata": {},
   "outputs": [],
   "source": [
    "categorical_tf_ds_batch = next(iter(categorical_tf_ds))[0]"
   ]
  },
  {
   "cell_type": "code",
   "execution_count": null,
   "metadata": {},
   "outputs": [
    {
     "name": "stdout",
     "output_type": "stream",
     "text": [
      "tf.Tensor(\n",
      "[[-0.3039486  -0.40205592 -0.07422369 -0.31631383 -0.12592083 -0.2903405\n",
      "  -0.24949774 -0.26178914  0.10233683 -0.05216324]\n",
      " [ 0.10628074  0.4914817   0.03341132  0.07630169 -0.3476026  -0.36463\n",
      "  -0.11958712 -0.410939    0.25754818 -0.27418706]\n",
      " [-0.40563744  0.36118013 -0.06660096 -0.05180192  0.48977634 -0.25704023\n",
      "   0.08030937 -0.13383347 -0.222147   -0.48944378]\n",
      " [-0.16904512 -0.30353445  0.12819134 -0.36406833 -0.03705941  0.03701941\n",
      "  -0.31791633 -0.05676759 -0.00380772 -0.3072062 ]\n",
      " [-0.03641699  0.5471204   0.22265074  0.54746056  0.16220446 -0.5819394\n",
      "   0.517329   -0.47302076 -0.40191785  0.12749335]\n",
      " [-0.00475603  0.19384536  0.34860113  0.32322007  0.13188592  0.2584728\n",
      "  -0.33644345  0.03642436 -0.15031545 -0.38027716]\n",
      " [-0.13661745  0.48539177 -0.15303802 -0.07833953 -0.3023864   0.39214414\n",
      "  -0.6019645  -0.13689964 -0.13434835  0.28151193]\n",
      " [ 0.23964018  0.23499988  0.4049748   0.20788422  0.20136648 -0.26490128\n",
      "  -0.07845004 -0.4168676  -0.1097746  -0.38251913]\n",
      " [ 0.09033599  0.09542684 -0.07692101 -0.16623454 -0.22968045  0.16012816\n",
      "   0.39604077 -0.03795737  0.22224143 -0.04127633]\n",
      " [ 0.13484977  0.04672134 -0.08977776  0.4901732  -0.07831246 -0.08692352\n",
      "  -0.3463191  -0.09351277 -0.4458422   0.33291352]\n",
      " [-0.18617612 -0.5160873   0.01516154 -0.15730472  0.5096994  -0.11336131\n",
      "  -0.02389453  0.61238676 -0.1801787  -0.27614605]\n",
      " [-0.1287748   0.09447693  0.4279128  -0.24288605  0.0917087   0.07574376\n",
      "  -0.55270845 -0.06076031 -0.00256001  0.01614625]\n",
      " [-0.04721397 -0.24067609  0.04786412 -0.03639984  0.08318964 -0.57894397\n",
      "  -0.22540586 -0.4281994  -0.27705657  0.18701199]\n",
      " [ 0.0939787  -0.17772633  0.6228846  -0.01222798 -0.03005804 -0.22910605\n",
      "   0.10030928  0.51655793  0.27755845  0.10716931]\n",
      " [ 0.40068537  0.06191018  0.1871649   0.05598255  0.6127599  -0.5223339\n",
      "  -0.41771173  0.34199363 -0.34660685 -0.2264844 ]\n",
      " [ 0.52334476  0.05421796  0.06267356 -0.31015855  0.57499075  0.44670293\n",
      "  -0.29279223 -0.29645598 -0.08754594  0.26481813]\n",
      " [-0.05203466  0.08479889  0.28157046 -0.38774315 -0.02976045  0.29947746\n",
      "   0.27998602 -0.46093678 -0.041939    0.1442862 ]\n",
      " [-0.13638625  0.09073222  0.20664902  0.14585195  0.17034459  0.23050332\n",
      "   0.1074812   0.61161834 -0.09216031 -0.36812443]\n",
      " [ 0.56098396 -0.08127233 -0.3193557  -0.05742979 -0.31316155 -0.22688983\n",
      "  -0.1278478   0.12144858 -0.06068855 -0.00756193]\n",
      " [-0.5650731   0.21631406 -0.338791    0.09679261 -0.35260248  0.0555931\n",
      "   0.25945732  0.45270246  0.14919166  0.3356213 ]\n",
      " [-0.01168043  0.17289698 -0.413039   -0.18937513  0.5488328  -0.1056918\n",
      "   0.04690842 -0.34122714 -0.3646295  -0.0719934 ]\n",
      " [ 0.3346065   0.40152967 -0.18502335  0.04990399 -0.49216318  0.3695073\n",
      "   0.01921185 -0.38303402  0.18533237  0.4414477 ]\n",
      " [ 0.06529764 -0.32536358 -0.28271845 -0.14701807 -0.40798753  0.19324249\n",
      "  -0.44903094 -0.3322536   0.18897247  0.07703824]\n",
      " [-0.20160668 -0.10341277 -0.17571925 -0.01623357 -0.2069     -0.03438143\n",
      "  -0.20086467 -0.48066005  0.35564944 -0.25940812]\n",
      " [-0.11288122 -0.36394987  0.5505776   0.17129122  0.14311306  0.296122\n",
      "  -0.30223107  0.39378545 -0.14619686 -0.14193636]\n",
      " [-0.229125   -0.0896047   0.01451287  0.22016607  0.08561523  0.37941498\n",
      "   0.33583197 -0.20198669  0.06360886  0.12085243]\n",
      " [ 0.13355014  0.4655828   0.07225462 -0.00787393  0.03897645 -0.56918645\n",
      "  -0.1756746   0.3482706   0.20061475  0.37353376]\n",
      " [-0.11191942 -0.07803347 -0.37175032  0.16740043  0.25726452  0.43915704\n",
      "  -0.11685175 -0.41092244 -0.2463405  -0.29498717]\n",
      " [-0.30385315 -0.3655537   0.31715852 -0.24477005  0.02201601  0.11581735\n",
      "   0.40051073  0.10588821  0.264016   -0.5484127 ]\n",
      " [ 0.23522355 -0.13298616 -0.11528123 -0.09187874 -0.24332125 -0.2341648\n",
      "   0.18983214 -0.11952494 -0.09140692  0.00582672]\n",
      " [-0.14955688 -0.09780106 -0.28262344 -0.3111546  -0.22117864 -0.34170812\n",
      "   0.5015103   0.13437536  0.2069826   0.18342529]\n",
      " [-0.5800067  -0.3395455   0.13013674  0.13963248  0.1905714  -0.40495917\n",
      "   0.49184394  0.23718037 -0.38545057 -0.3608213 ]\n",
      " [ 0.3278312   0.3526109  -0.52634174  0.37769568 -0.26412556 -0.01184271\n",
      "   0.07568023  0.08617763 -0.29656705 -0.06174845]\n",
      " [-0.5812412   0.01939408 -0.1180121   0.40818003  0.04430174 -0.23165625\n",
      "  -0.4564138  -0.20389396 -0.22695607 -0.24110213]\n",
      " [-0.00444046  0.09221155  0.261889    0.6173431  -0.19175433 -0.45153028\n",
      "   0.00514995 -0.13081996  0.2949014  -0.13376465]\n",
      " [-0.0777295  -0.03740198  0.08185266 -0.08872651 -0.27570927  0.12750858\n",
      "   0.05843462  0.08743772  0.17301291 -0.34636852]\n",
      " [ 0.0635572   0.12750754 -0.15491268 -0.10610002  0.1543124  -0.13728088\n",
      "  -0.3873208  -0.17861116 -0.06689057  0.3451445 ]\n",
      " [ 0.18560748  0.31714812 -0.45782334 -0.24627349  0.19787334 -0.07418143\n",
      "  -0.30943573 -0.01291624  0.14317134 -0.00705086]\n",
      " [ 0.07148134  0.11538478  0.21292281 -0.07732898 -0.26406083  0.07572027\n",
      "   0.39195764 -0.28048927 -0.27269992 -0.31799883]\n",
      " [ 0.17239662  0.08781842 -0.18380252 -0.10721503  0.34511003  0.4327799\n",
      "   0.40511036  0.43611076  0.28183532 -0.3123194 ]\n",
      " [-0.41576877 -0.10561831 -0.29718393  0.50145894 -0.4423755  -0.06158819\n",
      "  -0.19964568 -0.20862515  0.44876516  0.13441172]\n",
      " [ 0.24574086 -0.29630736  0.4580256   0.3274815  -0.12312897 -0.57758564\n",
      "   0.3414687   0.04495319  0.19568641 -0.5437399 ]\n",
      " [-0.13742822 -0.4611778  -0.1657934  -0.11570716  0.03834724 -0.47459534\n",
      "   0.19732824 -0.42475253  0.03436141  0.03153591]\n",
      " [ 0.24918433 -0.13193126  0.24641797 -0.19658259  0.3806254   0.24369133\n",
      "   0.09447742  0.260024    0.0276882  -0.11645771]\n",
      " [ 0.3334716   0.51788986 -0.3096648  -0.6040205  -0.4295626  -0.3557643\n",
      "   0.08469196 -0.2218488   0.5215026   0.15145744]\n",
      " [ 0.16815193  0.44590092 -0.31966594 -0.26597717  0.1014854  -0.13498136\n",
      "   0.23374934 -0.26824445 -0.2641741  -0.602524  ]\n",
      " [-0.27418873  0.3080177   0.38203087 -0.25834668 -0.3115048   0.08145757\n",
      "   0.2875899   0.00884642 -0.13124435 -0.5495044 ]\n",
      " [ 0.07794337  0.40556273 -0.20599823  0.29820472  0.39169103  0.3366244\n",
      "  -0.07737688  0.20871374  0.35108408  0.52537733]\n",
      " [-0.06333651  0.44143558 -0.11736356 -0.03528062 -0.18628544  0.1899192\n",
      "   0.23465726 -0.2832568   0.01454101 -0.16538318]\n",
      " [ 0.11721205  0.03707706 -0.1194446  -0.06936725 -0.25347775  0.19286339\n",
      "   0.26581872 -0.24659003 -0.17057858 -0.04810613]\n",
      " [-0.11099511 -0.21031348  0.00549408  0.38021666  0.03810282 -0.38823858\n",
      "   0.26245034 -0.2574123  -0.17025615  0.12414696]\n",
      " [-0.11309032  0.0297138  -0.09726719  0.4326429  -0.03690189  0.19402912\n",
      "   0.08186106  0.32245228  0.019422    0.03711724]\n",
      " [ 0.22979827  0.41794458  0.05689807  0.23870987  0.30081168 -0.0439541\n",
      "   0.13889909  0.40339428 -0.26704842 -0.004604  ]\n",
      " [ 0.15406038 -0.42544517 -0.27939358  0.02802167 -0.05798326  0.27481362\n",
      "  -0.26675874 -0.05184877  0.4283608  -0.26287332]\n",
      " [-0.03010427  0.08435501  0.25479388  0.01971391  0.06386205  0.36826053\n",
      "   0.19176796 -0.06806594 -0.05023486  0.55082077]\n",
      " [ 0.48345083 -0.5422913  -0.09687482  0.23217562  0.27265245 -0.05572651\n",
      "   0.2715468  -0.27470338 -0.30470747 -0.16951516]\n",
      " [ 0.08388957  0.1852496  -0.04900857 -0.53589696 -0.05758664 -0.01858416\n",
      "   0.2455811   0.0485163  -0.35778373 -0.555779  ]\n",
      " [-0.15047838  0.45332372  0.11013093 -0.61134136  0.2239745  -0.07963105\n",
      "   0.11428001  0.37584963  0.2341959  -0.62051225]\n",
      " [-0.20010374  0.22352348  0.211163    0.01588505  0.02661601 -0.24303639\n",
      "   0.16374357 -0.11787548  0.15538695 -0.17354445]\n",
      " [ 0.2624705  -0.06309849  0.21262474 -0.13159937  0.00284229  0.26219967\n",
      "   0.11485443  0.13725367  0.06132505 -0.33912668]\n",
      " [ 0.19237171 -0.04728552 -0.24259263 -0.03825621 -0.39561304  0.3883627\n",
      "   0.0025315   0.1075238   0.31494614  0.34411862]\n",
      " [-0.42406407 -0.01713666  0.08689343 -0.35365507  0.03931314 -0.172818\n",
      "   0.1762563  -0.2259247   0.152412    0.39190322]\n",
      " [-0.04637219  0.070689    0.10515659  0.03521142  0.09040898  0.20177789\n",
      "  -0.2354892  -0.47692803  0.00426806  0.58568573]\n",
      " [-0.17135033  0.07432618  0.02769797 -0.11285726 -0.44036475 -0.12677826\n",
      "  -0.6209082   0.22084922 -0.23976417  0.2277677 ]], shape=(64, 10), dtype=float32)\n",
      "\n",
      "Example of one transformed row:\n",
      "[-0.3039486  -0.40205592 -0.07422369 -0.31631383 -0.12592083 -0.2903405\n",
      " -0.24949774 -0.26178914  0.10233683 -0.05216324]\n"
     ]
    }
   ],
   "source": [
    "demo(cat_embedded, categorical_tf_ds_batch)"
   ]
  },
  {
   "cell_type": "code",
   "execution_count": null,
   "metadata": {},
   "outputs": [],
   "source": []
  },
  {
   "cell_type": "code",
   "execution_count": null,
   "metadata": {},
   "outputs": [],
   "source": []
  },
  {
   "cell_type": "code",
   "execution_count": null,
   "metadata": {},
   "outputs": [],
   "source": []
  }
 ],
 "metadata": {
  "kernelspec": {
   "display_name": "anup_prompt_venv",
   "language": "python",
   "name": "python3"
  },
  "language_info": {
   "codemirror_mode": {
    "name": "ipython",
    "version": 3
   },
   "file_extension": ".py",
   "mimetype": "text/x-python",
   "name": "python",
   "nbconvert_exporter": "python",
   "pygments_lexer": "ipython3",
   "version": "3.12.7"
  }
 },
 "nbformat": 4,
 "nbformat_minor": 4
}
